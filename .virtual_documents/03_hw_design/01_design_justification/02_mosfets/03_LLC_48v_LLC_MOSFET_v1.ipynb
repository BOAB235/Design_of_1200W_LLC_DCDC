# imPORT LIBRARIES 
import numpy as np
import matplotlib.pyplot as plt
from scipy.interpolate import interp1d
from math import pi, sqrt
import handcalcs.render
import pandas as pd
import json 
# !pip install handcalcs


# CONFIGURATIONS
#help(handcalcs.set_option)
handcalcs.set_option("latex_block_start", "$")
handcalcs.set_option("latex_block_end", "$")
handcalcs.set_option("math_environment_end", "aligned")
handcalcs.set_option("use_scientific_notation",True)





with open("../01_llc_tank/04_outputs/inp_datas.json", "r", encoding="utf-8") as f:
    inp_datas = json.load(f)
print("Input datas:")
print("="*20)
display(inp_datas)

with open("../01_llc_tank/04_outputs/out_results.json", "r", encoding="utf-8") as f:
    out_datas = json.load(f)
print("Output datas:")
print("="*20)
display(out_datas)


# Load variables 
for key, value in inp_datas.items():
    globals()[key] = value
for key, value in out_datas.items():
    globals()[key] = value


arr=[]
for c in ["1","3","2"]:
    
    path = r"..\..\03_components\05_Mosfet\01_Primary\MouserSearchDownloadMosfet"+c+".csv"
 
    df = pd.read_csv(path)
    arr.append(df)
df= pd.concat(arr, axis = 0)
df = df[['Mfr Part Number', 'Mfr.',
       'Availability', 'Pricing', 
       'Technology', 'Mounting Style', 'Package/Case', 'Transistor Polarity',
        'Vds - Drain-Source Breakdown Voltage',
       'Id - Continuous Drain Current', 'Rds On - Drain-Source Resistance',
       'Vgs th - Gate-Source Threshold Voltage',
       'Qg - Gate Charge',  'Pd - Power Dissipation',
        ]]


list(df["Technology"].unique())


list(df["Mounting Style"].unique())


list(df["Transistor Polarity"].unique())


cols = list(df.columns)
for c in ["Technology", "Mounting Style", 
                             "Transistor Polarity"]:
    cols.remove(c)
df2= df[cols]








df3 = df2.copy() 
df3.loc[:,  "Pricing"] = df2["Pricing"].str.replace('="', "").str.replace(' €"', "").str.replace(',', ".")
df3.rename(columns={"Pricing": "Pricing €"}, inplace=True)

df3.loc[:,  "Vds - Drain-Source Breakdown Voltage"] = df2["Vds - Drain-Source Breakdown Voltage"].str.replace(' V', "")
df3.rename(columns={"Vds - Drain-Source Breakdown Voltage": "Vds (V)"}, inplace=True)


df3.loc[:,  "Id - Continuous Drain Current"] = df2["Id - Continuous Drain Current"].str.replace('="', "").str.replace(' A"', "")
df3.rename(columns={"Id - Continuous Drain Current": "Id A"}, inplace=True)


df3.loc[:,  "Rds On - Drain-Source Resistance"] = df2["Rds On - Drain-Source Resistance"].str.replace(' mOhms', "")
df3.rename(columns={"Rds On - Drain-Source Resistance": "Rds (mOhms)"}, inplace=True)

df3.loc[:,  "Vgs th - Gate-Source Threshold Voltage"] = df2["Vgs th - Gate-Source Threshold Voltage"].str.replace(' V', "")
df3.rename(columns={"Vgs th - Gate-Source Threshold Voltage": "Vgs th (V)"}, inplace=True)


df3.loc[:,  "Qg - Gate Charge"] = df2["Qg - Gate Charge"].str.replace(' nC', "")
df3.rename(columns={"Qg - Gate Charge": "Qg (nC)"}, inplace=True)


df3.loc[:,  "Pd - Power Dissipation"] = df2["Pd - Power Dissipation"].str.replace(' W', "")
df3.rename(columns={"Pd - Power Dissipation": "Pd - Power Dissipation (W)"}, inplace=True)

df3





for c in [ 'Pricing €',
       'Vds (V)', 'Id A', 'Rds (mOhms)', 'Vgs th (V)', 'Qg (nC)',
       'Pd - Power Dissipation (W)']:
    df3.loc[:,c]= df3[c].astype("float32")


fig, axs = plt.subplots(2,2,figsize=(10,10))
axs=axs.flatten()

ax = axs[0]
df3.plot(x="Id A", y="Rds (mOhms)", kind = "scatter", ax = ax)
ax.grid()

ax = axs[1]
df3.plot(x="Id A", y="Pd - Power Dissipation (W)", kind = "scatter", ax = ax)
ax.grid()

ax = axs[2]
df3.plot(x="Id A" , y="Qg (nC)", kind = "scatter", ax = ax)
ax.grid()

ax = axs[3]
df3.plot(x="Id A" , y="Pricing €", kind = "scatter", ax = ax)
ax.grid()

	


dic1 ={'Mfr Part Number': 'SPW17N80C3A',
'renamrk': 'DCDC nissan 2kW',
'Mfr.': 'Infineon',
'Pricing €': 'NA',
'Package/Case': 'TO-247-3',
'Vds (V)': 800,
'Id A': 17,
'Rds (mOhms)': 290,
'Vgs th (V)': 3,
'Qg (nC)': 88,
'Pd - Power Dissipation (W)': 208,
'Rise Time ns': 15,
'Typical Turn-Off Delay Time ns': 72 ,
'Typical Turn-On Delay Time ns':25,
'Reverse diode dv /dt (v/ns)': 4,
'Thermal resistance, junction - case (K/W)': 0.55,
'Effective output capacitance, energy related (pF)': 72,
'Diode forward voltage (max V)': 1.2}
dic2= {'Mfr Part Number': 'STW48N60DM2',
'renamrk': 'LLC condidate',
'Mfr.': 'STMicroelectronics',
'Pricing €': 4.7,
'Package/Case': 'TO-247-3',
'Vds (V)': 600,
'Id A': 40,
'Rds (mOhms)': 65,
'Vgs th (V)': 3,
'Qg (nC)': 70,
'Pd - Power Dissipation (W)': 300,
'Rise Time ns': 25,
'Typical Turn-Off Delay Time ns': 131,
'Typical Turn-On Delay Time ns': 25,
'Reverse diode dv /dt (v/ns)': 50,
'Thermal resistance, junction - case (K/W)': 0.42,
'Effective output capacitance, energy related (pF)': 258 ,
'Diode forward voltage (max V)': 1}
dic3={'Mfr Part Number': 'SIHG039N60EF-GE3',
'renamrk': 'LLC condidate',
'Mfr.': 'Vishay / Siliconix',
'Pricing €': 7.52,
'Package/Case': 'TO-247-3',
'Vds (V)': 600.0,
'Id A': 61.0,
'Rds (mOhms)': 40.0,
'Vgs th (V)': 3.0,
'Qg (nC)': 84.0,
'Pd - Power Dissipation (W)': 357.0,
'Rise Time ns':179,
'Typical Turn-Off Delay Time ns': 152,
'Typical Turn-On Delay Time ns': 109,
'Reverse diode dv /dt (v/ns)': 50,
'Thermal resistance, junction - case (K/W)': 2.9,
'Effective output capacitance, energy related (pF)': 139,
'Diode forward voltage (max V)': 1.2}
df_ = pd.DataFrame([dic1, dic2, dic3])
df_= df_.set_index("Mfr Part Number")
df_.T





dic2= {'Mfr Part Number': 'STW48N60DM2',
 'Mfr.': 'STMicroelectronics',
 'Availability': '477  In Stock',
 'Pricing €': 4.7,
 'Package/Case': 'TO-247-3',
 'Vds (V)': 600,
 'Id A': 40,
 'Rds (mOhms)': 65,
 'Vgs th (V)': 3,
 'Qg (nC)': 70,
 'Pd - Power Dissipation (W)': 300}


s= df3["Qg (nC)"]
m1 = s<=70

s= df3["Rds (mOhms)"]
m2 = s<=70

df3[m1 & m2]


#IPW60R060C7XKSA1
#https://www.mouser.fr/datasheet/2/196/Infineon_IPW60R060C7_DS_v02_00_EN-1731945.pdf
#https://www.mouser.fr/ProductDetail/Infineon-Technologies/IPW60R060C7XKSA1?qs=QIiuLP2W41BeappdMvA3rg%3D%3D











fsw_min = 60170


get_ipython().run_cell_magic("render", " ", """Co= 101 # pF
fsw_max = 156 # kHz
Tsw_min  =1e6/fsw_max # ns
Lm_uH = 65.392 # uH
t_dead_min = 16*(Co*1e-12)*(fsw_max*1e3)*(Lm_uH*1e-6)*1e9 # ns""")








# Mouser 





arr=[]
for c in  ["1","3","2"]: #["3"]: #
    
    path = r"..\..\03_components\05_Mosfet\02_Secondary\MouserSearchDownload_V"+c+".csv"
 
    df = pd.read_csv(path)
    arr.append(df)
df= pd.concat(arr, axis = 0)
df = df[['Mfr Part Number', 'Mfr.',
       'Availability', 'Pricing', 
       'Technology', 'Mounting Style', 'Package/Case', 'Transistor Polarity',
        'Vds - Drain-Source Breakdown Voltage',
       'Id - Continuous Drain Current', 'Rds On - Drain-Source Resistance',
       'Vgs th - Gate-Source Threshold Voltage',
       'Qg - Gate Charge',  'Pd - Power Dissipation',
        ]]


df = df.dropna()


df





cols = list(df.columns)
for c in ["Technology", "Mounting Style", 
                             "Transistor Polarity"]:
    cols.remove(c)
df2= df[cols]





df3 = df2.copy() 
df3.loc[:,  "Pricing"] = df2["Pricing"].str.replace('="', "").str.replace(' €"', "").str.replace(',', ".")
df3.loc[:,  "Pricing"] = df3["Pricing"].str.replace(' €', "").str.replace('="', "").str.replace('"', "")
df3.loc[:,  "Pricing"] = df3["Pricing"].str.replace('€', "").str.replace('"', "").str.replace('=', "")
df3.loc[:,  "Pricing"] = df3["Pricing"].str.replace(',', ".")


df3.rename(columns={"Pricing": "Pricing €"}, inplace=True)

df3.loc[:,  "Vds - Drain-Source Breakdown Voltage"] = df2["Vds - Drain-Source Breakdown Voltage"].str.replace(' V', "")
df3.rename(columns={"Vds - Drain-Source Breakdown Voltage": "Vds (V)"}, inplace=True)


df3.loc[:,  "Id - Continuous Drain Current"] = df2["Id - Continuous Drain Current"].str.replace('="', "").str.replace(' A"', "")
df3.rename(columns={"Id - Continuous Drain Current": "Id A"}, inplace=True)
df3.loc[:,  "Id A"] = df3["Id A"].str.replace('A', "")


df3.loc[:,  "Rds On - Drain-Source Resistance"] = df2["Rds On - Drain-Source Resistance"].str.replace(' mOhms', "")
df3.rename(columns={"Rds On - Drain-Source Resistance": "Rds (mOhms)"}, inplace=True)

df3.loc[:,  "Vgs th - Gate-Source Threshold Voltage"] = df2["Vgs th - Gate-Source Threshold Voltage"].str.replace(' V', "")
df3.rename(columns={"Vgs th - Gate-Source Threshold Voltage": "Vgs th (V)"}, inplace=True)


df3.loc[:,  "Qg - Gate Charge"] = df2["Qg - Gate Charge"].str.replace(' nC', "")
df3.rename(columns={"Qg - Gate Charge": "Qg (nC)"}, inplace=True)


df3.loc[:,  "Pd - Power Dissipation"] = df2["Pd - Power Dissipation"].str.replace(' W', "")
df3.rename(columns={"Pd - Power Dissipation": "Pd - Power Dissipation (W)"}, inplace=True)

df3


for c in [ 'Pricing €',
       'Vds (V)', 'Id A', 'Rds (mOhms)', 'Vgs th (V)', 'Qg (nC)',
       'Pd - Power Dissipation (W)']:
    df3.loc[:,c]= df3[c].astype("float32")


df3


fig, axs = plt.subplots(2,2,figsize=(10,10))
axs=axs.flatten()

ax = axs[0]
df3.plot(x="Id A", y="Rds (mOhms)", kind = "scatter", ax = ax)
ax.grid()

ax = axs[1]
df3.plot(x="Id A", y="Pd - Power Dissipation (W)", kind = "scatter", ax = ax)
ax.grid()

ax = axs[2]
df3.plot(x="Id A" , y="Qg (nC)", kind = "scatter", ax = ax)
ax.grid()

ax = axs[3]
df3.plot(x="Id A" , y="Pricing €", kind = "scatter", ax = ax)
ax.grid()

	


s= df3["Qg (nC)"]
m1 = s<=100

s= df3["Rds (mOhms)"]
m2 = s<=10

df3[m1 & m2]


# IRF150P221AKMA1
# https://eu.mouser.com/ProductDetail/Infineon-Technologies/IRF150P221AKMA1?qs=iLbezkQI%252BsgFvQ9qK7vaNg%3D%3D
# https://eu.mouser.com/datasheet/2/196/Infineon_IRF150P221_DataSheet_v02_02_EN-3362781.pdf


df3[df3["Mfr Part Number"] =="IRF150P221AKMA1"]







































