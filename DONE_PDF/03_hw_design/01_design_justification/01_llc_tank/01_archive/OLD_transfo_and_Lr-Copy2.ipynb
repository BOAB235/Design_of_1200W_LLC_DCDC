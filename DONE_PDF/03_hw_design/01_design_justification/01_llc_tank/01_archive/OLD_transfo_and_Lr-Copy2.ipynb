{
 "cells": [
  {
   "cell_type": "code",
   "execution_count": 192,
   "id": "a848bd3c-8043-400c-9c88-056cbd5b5754",
   "metadata": {},
   "outputs": [],
   "source": [
    "# imPORT LIBRARIES \n",
    "import numpy as np\n",
    "import matplotlib.pyplot as plt\n",
    "from scipy.interpolate import interp1d\n",
    "from math import pi, sqrt\n",
    "import handcalcs.render\n",
    "import pandas as pd\n",
    "import json \n",
    "# !pip install handcalcs"
   ]
  },
  {
   "cell_type": "code",
   "execution_count": 193,
   "id": "42e0a55e-e8d4-42c3-a63f-e48b00c37835",
   "metadata": {},
   "outputs": [],
   "source": [
    "# CONFIGURATIONS\n",
    "#help(handcalcs.set_option)\n",
    "handcalcs.set_option(\"latex_block_start\", \"$\")\n",
    "handcalcs.set_option(\"latex_block_end\", \"$\")\n",
    "handcalcs.set_option(\"math_environment_end\", \"aligned\")\n",
    "handcalcs.set_option(\"use_scientific_notation\",True)\n",
    "#handcalcs.set_option(\"line_break\", \"\\\\\\\\[20pt]\")\n",
    "#handcalcs.set_option(\"param_columns\", 1)\n",
    "\n",
    "#handcalcs.set_option(\"math_environment_start\", \"aligned\")\n",
    "#handcalcs.set_option(\"math_environment_end\", \"aligned\")\n",
    "#handcalcs.set_option(\"line_break\", r\"<br>\")\n",
    "#handcalcs.set_option(\"line_break\", r\"\\\\\")"
   ]
  },
  {
   "cell_type": "code",
   "execution_count": 194,
   "id": "341191e8-465d-4165-9a3d-18183751f171",
   "metadata": {},
   "outputs": [],
   "source": [
    "from localcode import *\n",
    "fig_counter=1"
   ]
  },
  {
   "cell_type": "code",
   "execution_count": null,
   "id": "5f5b813b-a8cf-4a4a-a9d6-b231e5f8e336",
   "metadata": {},
   "outputs": [],
   "source": []
  },
  {
   "cell_type": "code",
   "execution_count": null,
   "id": "f446632e-3a87-4ccb-91d7-227717c3f90f",
   "metadata": {},
   "outputs": [],
   "source": []
  },
  {
   "cell_type": "code",
   "execution_count": null,
   "id": "429f59c3-8cc9-4ddd-aa83-464fc7ec02e6",
   "metadata": {},
   "outputs": [],
   "source": []
  },
  {
   "cell_type": "markdown",
   "id": "140fba4f-bfc3-44a8-a1d5-6183464e65f5",
   "metadata": {},
   "source": [
    "# Resonance Tank Capacitor and Output Capacitor"
   ]
  },
  {
   "cell_type": "markdown",
   "id": "ea747bab-ffc0-49c9-8305-0bff02b42a39",
   "metadata": {},
   "source": [
    "## Inputs and claculated parameters"
   ]
  },
  {
   "cell_type": "code",
   "execution_count": 195,
   "id": "69523d67-d99f-4569-ba0b-b5a893c1a15d",
   "metadata": {},
   "outputs": [
    {
     "data": {
      "text/html": [
       "<div>\n",
       "<style scoped>\n",
       "    .dataframe tbody tr th:only-of-type {\n",
       "        vertical-align: middle;\n",
       "    }\n",
       "\n",
       "    .dataframe tbody tr th {\n",
       "        vertical-align: top;\n",
       "    }\n",
       "\n",
       "    .dataframe thead th {\n",
       "        text-align: right;\n",
       "    }\n",
       "</style>\n",
       "<table border=\"1\" class=\"dataframe\">\n",
       "  <thead>\n",
       "    <tr style=\"text-align: right;\">\n",
       "      <th></th>\n",
       "      <th>Transormer parameters</th>\n",
       "    </tr>\n",
       "  </thead>\n",
       "  <tbody>\n",
       "    <tr>\n",
       "      <th>n</th>\n",
       "      <td>4.000</td>\n",
       "    </tr>\n",
       "    <tr>\n",
       "      <th>Lm_uH</th>\n",
       "      <td>65.392</td>\n",
       "    </tr>\n",
       "    <tr>\n",
       "      <th>fsw_min</th>\n",
       "      <td>60170.000</td>\n",
       "    </tr>\n",
       "    <tr>\n",
       "      <th>fsw_max</th>\n",
       "      <td>156220.000</td>\n",
       "    </tr>\n",
       "    <tr>\n",
       "      <th>Ir_rms</th>\n",
       "      <td>10.354</td>\n",
       "    </tr>\n",
       "    <tr>\n",
       "      <th>Im_rms</th>\n",
       "      <td>6.992</td>\n",
       "    </tr>\n",
       "    <tr>\n",
       "      <th>Ioe_rms</th>\n",
       "      <td>7.636</td>\n",
       "    </tr>\n",
       "    <tr>\n",
       "      <th>Ios_rms</th>\n",
       "      <td>30.545</td>\n",
       "    </tr>\n",
       "    <tr>\n",
       "      <th>L_second_uH</th>\n",
       "      <td>4.087</td>\n",
       "    </tr>\n",
       "    <tr>\n",
       "      <th>Al_uH</th>\n",
       "      <td>4.087</td>\n",
       "    </tr>\n",
       "  </tbody>\n",
       "</table>\n",
       "</div>"
      ],
      "text/plain": [
       "             Transormer parameters\n",
       "n                            4.000\n",
       "Lm_uH                       65.392\n",
       "fsw_min                  60170.000\n",
       "fsw_max                 156220.000\n",
       "Ir_rms                      10.354\n",
       "Im_rms                       6.992\n",
       "Ioe_rms                      7.636\n",
       "Ios_rms                     30.545\n",
       "L_second_uH                  4.087\n",
       "Al_uH                        4.087"
      ]
     },
     "metadata": {},
     "output_type": "display_data"
    }
   ],
   "source": [
    "with open(\"../01_llc_tank/04_outputs/out_results.json\", \"r\", encoding=\"utf-8\") as f:\n",
    "    out_datas = json.load(f)\n",
    "\n",
    "# Load variables \n",
    "for key, value in out_datas.items():\n",
    "    globals()[key] = value\n",
    "    \n",
    "params = ['n',  'Lm_uH', 'fsw_min', 'fsw_max', 'Ir_rms', 'Im_rms', 'Ioe_rms', 'Ios_rms', 'L_second_uH']\n",
    "\n",
    "dic_transfo= {x:out_datas[x] for x in params}\n",
    "Al = out_datas[\"Lm_uH\"]/out_datas[\"n\"]**2\n",
    "dic_transfo[\"Al_uH\"]= Al\n",
    "\n",
    "S= pd.Series(dic_transfo, name = \"Transormer parameters\").to_frame()\n",
    "display(S)"
   ]
  },
  {
   "cell_type": "code",
   "execution_count": 196,
   "id": "cf61aab1-4bc5-4ec0-8d4d-d541fd762a25",
   "metadata": {},
   "outputs": [],
   "source": [
    "with open(\"../01_llc_tank/04_outputs/inp_datas.json\", \"r\", encoding=\"utf-8\") as f:\n",
    "    inp_datas = json.load(f)\n",
    "\n",
    "\n",
    "\n",
    "# Load variables \n",
    "for key, value in inp_datas.items():\n",
    "    globals()[key] = value\n"
   ]
  },
  {
   "cell_type": "code",
   "execution_count": null,
   "id": "9f88d5df-d306-4b78-a6d1-3c0c2b713746",
   "metadata": {},
   "outputs": [],
   "source": []
  },
  {
   "cell_type": "markdown",
   "id": "5c21334f-c560-4d48-b0af-67c381955562",
   "metadata": {},
   "source": [
    "## Output capacitor Co"
   ]
  },
  {
   "cell_type": "markdown",
   "id": "66a7154e-5a10-44de-b28f-480e21b3598d",
   "metadata": {},
   "source": [
    "### Formulas"
   ]
  },
  {
   "cell_type": "markdown",
   "id": "8124fe64-29ab-4024-86c5-e21323793c1e",
   "metadata": {},
   "source": [
    "For a resistive load, the output capacitor is determined by\n",
    "$$\n",
    "C_o \\geq C_{o_{min}} = \\frac{I_o}{8 \\cdot f_{sw} \\cdot \\Delta V_{out}}\n",
    "$$\n",
    "\n",
    "Where:\n",
    "\n",
    "- $C_o$ : Output capacitance (Farads, F)  \n",
    "- $I_o$ : Output load current (Amperes, A)  \n",
    "- $f_{sw}$ : Switching frequency of the converter (Hertz, Hz)  \n",
    "- $\\Delta V_{out}$ : Maximum allowed output voltage ripple (Volts, V)  \n",
    "$$ESR_{max} = \\frac{\\Delta V_{out}}{I_{rect\\_peak}} = \\frac{\\Delta V_{out}}{\\frac{\\pi}{4} \\cdot I_o\\cdot{2}}  $$\n",
    "$$I_{C_o} = I_o \\sqrt{\\frac{\\pi^2}{8} - 1}$$\n",
    "\n",
    "Where:\n",
    "\n",
    "- $I_{C_o}$ : RMS current of the capacitor @ f_sw = f_nom  \n",
    " \n",
    "See page 26, 27 [\\[1\\]](#referencesID_03_1).\n",
    "<br> By default, you can found all formula of this chapeter in the same ref "
   ]
  },
  {
   "cell_type": "markdown",
   "id": "3e35b1dc-f78c-49de-98b5-ba4e53695ea7",
   "metadata": {},
   "source": [
    "### Numerical Implementation of the Formulas"
   ]
  },
  {
   "cell_type": "markdown",
   "id": "fb6e6a13-6da8-4d0e-9afb-ba5d4b6b5b84",
   "metadata": {},
   "source": [
    "**We must use fsw_min to the worst case**"
   ]
  },
  {
   "cell_type": "code",
   "execution_count": 197,
   "id": "03984c6a-ba81-4f56-a30e-1332d6b3b7b7",
   "metadata": {},
   "outputs": [
    {
     "data": {
      "text/latex": [
       "$\n",
       "\\begin{aligned}\n",
       "\\mathrm{Io} &= 25.000 \\; \\;\\textrm{(A)}\n",
       "\\\\[10pt]\n",
       "\\mathrm{fsw}_{min} &= 60170.000 \\; \\;\\textrm{(Hz)}\n",
       "\\\\[10pt]\n",
       "\\mathrm{DV} &= 0.250 \\; \\;\\textrm{(vpp)}\n",
       "\\\\[10pt]\n",
       "\\mathrm{Co}_{min_{uF}} &= 1 \\times 10 ^ {6} \\cdot \\frac{ \\mathrm{Io} }{ 8 \\cdot \\mathrm{fsw}_{min} \\cdot \\mathrm{DV} }  = 1 \\times 10 ^ {6} \\cdot \\frac{ 25.000 }{ 8 \\cdot 60170.000 \\cdot 0.250 } &= 207.745 \\; \\;\\textrm{(uF)}\n",
       "\\\\[10pt]\n",
       "\\mathrm{ESR}_{max_{m}} &= 1 \\times 10 ^ {3} \\cdot \\frac{ \\mathrm{DV} }{ \\mathrm{Io} \\cdot \\frac{ \\pi }{ 2 } }  = 1 \\times 10 ^ {3} \\cdot \\frac{ 0.250 }{ 25.000 \\cdot \\frac{ 3.142 }{ 2 } } &= 6.366 \\; \\;\\textrm{(mΩ)}\n",
       "\\\\[10pt]\n",
       "I_{Co} &= \\mathrm{Io} \\cdot \\sqrt { \\frac{ \\left( \\pi \\right) ^{ 2 } }{ 8 } - 1 }  = 25.000 \\cdot \\sqrt { \\frac{ \\left( 3.142 \\right) ^{ 2 } }{ 8 } - 1 } &= 12.086 \\; \\;\\textrm{(Arms)}\n",
       "\\end{aligned}\n",
       "$"
      ],
      "text/plain": [
       "<IPython.core.display.Latex object>"
      ]
     },
     "metadata": {},
     "output_type": "display_data"
    }
   ],
   "source": [
    "%%render\n",
    "Io # A\n",
    "fsw_min # Hz\n",
    "DV = 0.25 # vpp\n",
    "Co_min_uF = 1e6*Io/(8*fsw_min*DV ) # uF\n",
    "ESR_max_m = 1e3*DV /(Io*pi/2) # mΩ \n",
    "I_Co= Io*sqrt(pi**2/8-1) # Arms"
   ]
  },
  {
   "cell_type": "code",
   "execution_count": null,
   "id": "403d3bf7-bc34-4c60-a79e-b0efdbe25afa",
   "metadata": {},
   "outputs": [],
   "source": []
  },
  {
   "cell_type": "markdown",
   "id": "9ad5f50a-9789-4f57-9a74-f7dc23731c70",
   "metadata": {},
   "source": [
    "### First proposition"
   ]
  },
  {
   "cell_type": "markdown",
   "id": "f32e3628-488d-4aee-ab48-0d39939984af",
   "metadata": {},
   "source": [
    "B40910A8127M000 aluminum electrolytic capacitors with Temp_max = 150°C, Below a screenshoot of the datasheet [\\[2\\]](#referencesID_03_2)."
   ]
  },
  {
   "cell_type": "code",
   "execution_count": 198,
   "id": "7b5779ad-6740-48ff-a07c-76712489b478",
   "metadata": {},
   "outputs": [
    {
     "data": {
      "text/html": [
       "\n",
       "        <div style=\"width: 19cm; display: flex;\">\n",
       "          <div style=\"width: 19cm; text-align: center;\">\n",
       "            <img src=\"./03_figures/B40910.png\" style=\"width: 19cm;\">\n",
       "            <div style=\"width: 9cm; word-wrap: break-word;\">\n",
       "                <b>Figure 1:</b> VRMS\n",
       "            </div>\n",
       "          </div>\n",
       "          <div style=\"width: 1cm;\"></div>\n",
       "          <div style=\"width: 9cm; text-align: center;\">\n",
       "\n",
       "          </div>\n",
       "        </div>\n",
       "        <br>\n",
       "        "
      ],
      "text/plain": [
       "<IPython.core.display.HTML object>"
      ]
     },
     "metadata": {},
     "output_type": "display_data"
    }
   ],
   "source": [
    "first_part_path = \"./03_figures/\"\n",
    "\n",
    "fig_counter = show_figure_pair_with_captions(\n",
    "    fig_counter, \n",
    "    \"B40910.png\",\n",
    "    \"VRMS\",\n",
    "    first_part_path= first_part_path, \n",
    ")"
   ]
  },
  {
   "cell_type": "markdown",
   "id": "854ac887-9998-447c-a40b-c0d6a757a969",
   "metadata": {},
   "source": [
    "Let's start with a configuration of 5 capacitors in parallel"
   ]
  },
  {
   "cell_type": "code",
   "execution_count": 199,
   "id": "bf8c2381-0d71-473a-99f0-70c00b67042e",
   "metadata": {},
   "outputs": [
    {
     "data": {
      "text/latex": [
       "$\n",
       "\\begin{aligned}\n",
       "\\mathrm{Nb}_{capa} &= 5 \\; \n",
       "\\\\[10pt]\n",
       "C_{capa_{nom}} &= 120 \\; \\;\\textrm{(uF)}\n",
       "\\\\[10pt]\n",
       "\\mathrm{Margin} &= 20 \\; \\;\\textrm{(\\%)}\n",
       "\\\\[10pt]\n",
       "C_{capa} &= C_{capa_{nom}} \\cdot \\left( 1 - \\frac{ \\mathrm{Margin} }{ 100 } \\right)  = 120 \\cdot \\left( 1 - \\frac{ 20 }{ 100 } \\right) &= 96.000 \\; \\;\\textrm{(uF, Worst case)}\n",
       "\\\\[10pt]\n",
       "C_{eq} &= C_{capa} \\cdot \\mathrm{Nb}_{capa}  = 96.000 \\cdot 5 &= 480.000 \\; \\;\\textrm{(uF > 208uF ok)}\n",
       "\\\\[10pt]\n",
       "\\mathrm{ESR}_{capa} &= 17 \\; \\;\\textrm{(Ω @ 100kHz)}\n",
       "\\\\[10pt]\n",
       "\\mathrm{ESR}_{eq} &= \\frac{ \\mathrm{ESR}_{capa} }{ \\mathrm{Nb}_{capa} }  = \\frac{ 17 }{ 5 } &= 3.400 \\; \\;\\textrm{(Ω < 6.36m OK)}\n",
       "\\\\[10pt]\n",
       "\\mathrm{Icapa}_{max} &= 4.600 \\; \n",
       "\\\\[10pt]\n",
       "\\mathrm{Ieq}_{max} &= \\mathrm{Icapa}_{max} \\cdot \\mathrm{Nb}_{capa}  = 4.600 \\cdot 5 &= 23.000 \\; \\;\\textrm{(@ Arms @ 125°C 100kHz > 12.08Arms ok)}\n",
       "\\end{aligned}\n",
       "$"
      ],
      "text/plain": [
       "<IPython.core.display.Latex object>"
      ]
     },
     "metadata": {},
     "output_type": "display_data"
    }
   ],
   "source": [
    "%%render \n",
    "#4 parallels capascitor\n",
    "Nb_capa= 5\n",
    "C_capa_nom = 120 # uF\n",
    "Margin = 20 #\\%\n",
    "C_capa = C_capa_nom*(1-Margin/100)# uF, Worst case \n",
    "C_eq = C_capa*Nb_capa # uF > 208uF ok\n",
    "ESR_capa= 17 # Ω @ 100kHz\n",
    "\n",
    "ESR_eq = ESR_capa/Nb_capa # Ω < 6.36m OK\n",
    "Icapa_max = 4.6\n",
    "Ieq_max = Icapa_max *Nb_capa  #  @ Arms @ 125°C 100kHz > 12.08Arms ok"
   ]
  },
  {
   "cell_type": "markdown",
   "id": "e5b7f66d-962d-4e10-8801-db45246edecd",
   "metadata": {},
   "source": [
    "**Voltage ripples**"
   ]
  },
  {
   "cell_type": "code",
   "execution_count": 200,
   "id": "9a4d0a9c-a890-471d-bb94-04fd6135c211",
   "metadata": {},
   "outputs": [
    {
     "data": {
      "text/latex": [
       "$\n",
       "\\begin{aligned}\n",
       "\\Delta_{V_{out}} &= \\frac{ \\mathrm{Io} }{ 8 \\cdot \\mathrm{fsw}_{min} \\cdot C_{eq} \\cdot 1 \\times 10 ^ {-6} }  = \\frac{ 25.000 }{ 8 \\cdot 60170.000 \\cdot 480.000 \\cdot 1 \\times 10 ^ {-6} } &= 0.108  \n",
       "\\end{aligned}\n",
       "$"
      ],
      "text/plain": [
       "<IPython.core.display.Latex object>"
      ]
     },
     "metadata": {},
     "output_type": "display_data"
    }
   ],
   "source": [
    "%%render \n",
    "Delta_V_out = Io/(8*fsw_min*C_eq*1e-6 )"
   ]
  },
  {
   "cell_type": "markdown",
   "id": "39069d05-33c5-40e0-a1db-678d5a510c6e",
   "metadata": {},
   "source": [
    "#### Self heating"
   ]
  },
  {
   "cell_type": "markdown",
   "id": "a7c4020e-9931-4a2e-893f-1e5ad41f4d57",
   "metadata": {},
   "source": [
    "**Power Dissipation of Each Capacitor**"
   ]
  },
  {
   "cell_type": "code",
   "execution_count": 201,
   "id": "0d1b51d9-13fb-4052-a100-5e06297470fc",
   "metadata": {},
   "outputs": [
    {
     "data": {
      "text/latex": [
       "$\n",
       "\\begin{aligned}\n",
       "I_{each_{capa}} &= \\frac{ I_{Co} }{ \\mathrm{Nb}_{capa} }  = \\frac{ 12.086 }{ 5 } &= 2.417  \n",
       "\\\\[10pt]\n",
       "P_{selfHeating} &= \\mathrm{ESR}_{capa} \\cdot 1 \\times 10 ^ {-3} \\cdot \\left( I_{each_{capa}} \\right) ^{ 2 } \\\\&= 17 \\cdot 1 \\times 10 ^ {-3} \\cdot \\left( 2.417 \\right) ^{ 2 } \\\\&= 0.099 \\; \\;\\textrm{(W)}\\\\[10pt]\n",
       "\\end{aligned}\n",
       "$"
      ],
      "text/plain": [
       "<IPython.core.display.Latex object>"
      ]
     },
     "metadata": {},
     "output_type": "display_data"
    }
   ],
   "source": [
    "%%render \n",
    "I_each_capa= I_Co/Nb_capa\n",
    "P_selfHeating = ESR_capa*1e-3*I_each_capa**2 # W"
   ]
  },
  {
   "cell_type": "code",
   "execution_count": null,
   "id": "76aa37f0-9165-4ef1-a8ce-8c3e0f08bc23",
   "metadata": {},
   "outputs": [],
   "source": []
  },
  {
   "cell_type": "markdown",
   "id": "6a0e92cb-813e-44ad-b7a5-7ce5cf65fc67",
   "metadata": {},
   "source": [
    "**Estimation of Thermal Resistance Rth**"
   ]
  },
  {
   "cell_type": "code",
   "execution_count": 202,
   "id": "8c965ab5-1547-44d9-b185-035a0a90cbac",
   "metadata": {},
   "outputs": [
    {
     "data": {
      "text/latex": [
       "$\n",
       "\\begin{aligned}\n",
       "\\Delta_{T} &= 150 - 125 &= 25 \\; \\;\\textrm{(°C)}\n",
       "\\\\[10pt]\n",
       "\\mathrm{ESR} &= 0.017 \\; \n",
       "\\\\[10pt]\n",
       "I &= 4.600 \\; \\;\\textrm{(Arms)}\n",
       "\\\\[10pt]\n",
       "P_{dissip} &= \\mathrm{ESR} \\cdot \\left( I \\right) ^{ 2 }  = 0.017 \\cdot \\left( 4.600 \\right) ^{ 2 } &= 0.360 \\; \\;\\textrm{(W)}\n",
       "\\\\[10pt]\n",
       "R_{th} &= \\frac{ \\Delta_{T} }{ P_{dissip} }  = \\frac{ 25 }{ 0.360 } &= 69.498 \\; \\;\\textrm{(°C/W)}\n",
       "\\end{aligned}\n",
       "$"
      ],
      "text/plain": [
       "<IPython.core.display.Latex object>"
      ]
     },
     "metadata": {},
     "output_type": "display_data"
    }
   ],
   "source": [
    "%%render \n",
    "# Estimation or Rth \n",
    "\n",
    "# @100Khz and 125°C Iac,R I=4.6A\n",
    "# 100KHZ 20°C ESR = 0.017 Ohm \n",
    "# Max T = 150°C \n",
    "Delta_T= 150-125 # °C\n",
    "ESR = 17e-3\n",
    "I = 4.6 # Arms\n",
    "P_dissip= ESR*I**2 # W\n",
    "R_th = Delta_T/P_dissip # °C/W"
   ]
  },
  {
   "cell_type": "markdown",
   "id": "5751fa15-2a13-431b-b177-448c46cc7140",
   "metadata": {},
   "source": [
    "**The self heating estimation and the max ambiant temp**"
   ]
  },
  {
   "cell_type": "code",
   "execution_count": null,
   "id": "fd1d5fae-9307-4b61-9539-f7d58c494d4c",
   "metadata": {},
   "outputs": [],
   "source": []
  },
  {
   "cell_type": "code",
   "execution_count": 203,
   "id": "d7e360d2-5cdf-481a-bb2b-79a379e2d9d0",
   "metadata": {},
   "outputs": [
    {
     "data": {
      "text/latex": [
       "$\n",
       "\\begin{aligned}\n",
       "\\Delta_{T} &= P_{selfHeating} \\cdot R_{th}  = 0.099 \\cdot 69.498 &= 6.903 \\; \\;\\textrm{(°C => low delta temp)}\n",
       "\\\\[10pt]\n",
       "\\mathrm{Margin} &= 30 \\; \\;\\textrm{(°C)}\n",
       "\\\\[10pt]\n",
       "T_{max} &= 150 \\; \n",
       "\\\\[10pt]\n",
       "T_{amb_{max}} &= T_{max} - \\Delta_{T} - \\mathrm{Margin}  = 150 - 6.903 - 30 &= 113.097 \\; \\;\\textrm{(°C)}\n",
       "\\end{aligned}\n",
       "$"
      ],
      "text/plain": [
       "<IPython.core.display.Latex object>"
      ]
     },
     "metadata": {},
     "output_type": "display_data"
    }
   ],
   "source": [
    "%%render \n",
    "# self heating \n",
    "Delta_T= P_selfHeating*R_th # °C => low delta temp\n",
    "Margin = 30 # °C \n",
    "T_max = 150\n",
    "T_amb_max = T_max -Delta_T-Margin  # °C "
   ]
  },
  {
   "cell_type": "markdown",
   "id": "5ac87779-bd08-4508-a5af-62d3c61655d2",
   "metadata": {},
   "source": [
    "**Voltage margin**"
   ]
  },
  {
   "cell_type": "code",
   "execution_count": 204,
   "id": "16016bea-19f1-41db-bc6b-0bfcaaa19014",
   "metadata": {},
   "outputs": [
    {
     "data": {
      "text/latex": [
       "$\n",
       "\\begin{aligned}\n",
       "\\mathrm{Vo}_{max} &= 54.000 \\; \\;\\textrm{(VDC)}\n",
       "\\\\[10pt]\n",
       "V_{max_{datasheet}} &= 63 \\; \\;\\textrm{(VDC)}\n",
       "\\\\[10pt]\n",
       "\\mathrm{Voltage}_{Margin} &= 100 \\cdot \\frac{ V_{max_{datasheet}} - \\mathrm{Vo}_{max} }{ V_{max_{datasheet}} }  = 100 \\cdot \\frac{ 63 - 54.000 }{ 63 } &= 14.286 \\; \\;\\textrm{(\\%)}\n",
       "\\end{aligned}\n",
       "$"
      ],
      "text/plain": [
       "<IPython.core.display.Latex object>"
      ]
     },
     "metadata": {},
     "output_type": "display_data"
    }
   ],
   "source": [
    "%%render  \n",
    "Vo_max # VDC\n",
    "V_max_datasheet = 63 # VDC\n",
    "Voltage_Margin =  100*(V_max_datasheet-Vo_max) /V_max_datasheet # \\%"
   ]
  },
  {
   "cell_type": "markdown",
   "id": "10d09274-8937-45e0-8beb-b62f1d97b134",
   "metadata": {},
   "source": [
    "This solution is acceptable, but the voltage margin is limited."
   ]
  },
  {
   "cell_type": "code",
   "execution_count": null,
   "id": "8b005f04-3fb5-4af4-bd5f-99af488777b1",
   "metadata": {},
   "outputs": [],
   "source": []
  },
  {
   "cell_type": "code",
   "execution_count": 205,
   "id": "bffdd6b8-6894-4387-8fd3-4203c5a6bb94",
   "metadata": {},
   "outputs": [],
   "source": [
    "dic_capa1= {}\n",
    "for x in \"C_capa,ESR_eq,C_eq,Ieq_max,Nb_capa,P_selfHeating,T_amb_max,Voltage_Margin,Delta_V_out\".split(\",\"):\n",
    "    dic_capa1[x]= eval(x)"
   ]
  },
  {
   "cell_type": "markdown",
   "id": "d25033a7-e388-4c71-9a2a-7bf83ce84699",
   "metadata": {},
   "source": [
    "### Second proposition"
   ]
  },
  {
   "cell_type": "markdown",
   "id": "8a2e7261-2282-4088-a2ce-de7a48a7b2e2",
   "metadata": {},
   "source": [
    "EMHS101ARA331MMN0S aluminum electrolytic capacitors with Temp_max = 150°C, Below a screenshoot of the datasheet [\\[4\\]](#referencesID_03_4)."
   ]
  },
  {
   "cell_type": "code",
   "execution_count": 206,
   "id": "6e1fa730-3752-4d71-83f7-8891a14ffd91",
   "metadata": {},
   "outputs": [
    {
     "data": {
      "text/html": [
       "\n",
       "        <div style=\"width: 19cm; display: flex;\">\n",
       "          <div style=\"width: 19cm; text-align: center;\">\n",
       "            <img src=\"./03_figures/EMHS.png\" style=\"width: 19cm;\">\n",
       "            <div style=\"width: 9cm; word-wrap: break-word;\">\n",
       "                <b>Figure 2:</b> VRMS\n",
       "            </div>\n",
       "          </div>\n",
       "          <div style=\"width: 1cm;\"></div>\n",
       "          <div style=\"width: 9cm; text-align: center;\">\n",
       "\n",
       "          </div>\n",
       "        </div>\n",
       "        <br>\n",
       "        "
      ],
      "text/plain": [
       "<IPython.core.display.HTML object>"
      ]
     },
     "metadata": {},
     "output_type": "display_data"
    }
   ],
   "source": [
    "first_part_path = \"./03_figures/\"\n",
    "\n",
    "fig_counter = show_figure_pair_with_captions(\n",
    "    fig_counter, \n",
    "    \"EMHS.png\",\n",
    "    \"VRMS\" , \n",
    "    first_part_path= first_part_path, \n",
    ")"
   ]
  },
  {
   "cell_type": "markdown",
   "id": "97987c9d-c9e4-4233-a172-de503fd6da20",
   "metadata": {},
   "source": [
    "Let's start with a configuration of 5 capacitors in parallel"
   ]
  },
  {
   "cell_type": "code",
   "execution_count": 207,
   "id": "1a1e49ce-83c8-47af-8acb-60ded94b11d6",
   "metadata": {},
   "outputs": [
    {
     "data": {
      "text/latex": [
       "$\n",
       "\\begin{aligned}\n",
       "\\mathrm{Nb}_{capa} &= 10 \\; \n",
       "\\\\[10pt]\n",
       "C_{capa_{nom}} &= 330 \\; \\;\\textrm{(uF)}\n",
       "\\\\[10pt]\n",
       "\\mathrm{Margin} &= 20 \\; \\;\\textrm{(\\%)}\n",
       "\\\\[10pt]\n",
       "C_{capa} &= C_{capa_{nom}} \\cdot \\left( 1 - \\frac{ \\mathrm{Margin} }{ 100 } \\right)  = 330 \\cdot \\left( 1 - \\frac{ 20 }{ 100 } \\right) &= 264.000 \\; \\;\\textrm{(uF, Worst case)}\n",
       "\\\\[10pt]\n",
       "C_{eq} &= C_{capa} \\cdot \\mathrm{Nb}_{capa}  = 264.000 \\cdot 10 &= 2640.000 \\; \\;\\textrm{(uF > 208uF ok)}\n",
       "\\\\[10pt]\n",
       "\\mathrm{ESR}_{capa} &= 59 \\; \\;\\textrm{(Ω @ 100kHz)}\n",
       "\\\\[10pt]\n",
       "\\mathrm{ESR}_{eq} &= \\frac{ \\mathrm{ESR}_{capa} }{ \\mathrm{Nb}_{capa} }  = \\frac{ 59 }{ 10 } &= 5.900 \\; \\;\\textrm{(Ω < 6.36m OK)}\n",
       "\\\\[10pt]\n",
       "\\mathrm{Icapa}_{max} &= 2.300 \\; \n",
       "\\\\[10pt]\n",
       "\\mathrm{Ieq}_{max} &= \\mathrm{Icapa}_{max} \\cdot \\mathrm{Nb}_{capa}  = 2.300 \\cdot 10 &= 23.000 \\; \\;\\textrm{(@ Arms @ 125°C 100kHz > 12.08Arms ok)}\n",
       "\\end{aligned}\n",
       "$"
      ],
      "text/plain": [
       "<IPython.core.display.Latex object>"
      ]
     },
     "metadata": {},
     "output_type": "display_data"
    }
   ],
   "source": [
    "%%render \n",
    "#4 parallels capascitor\n",
    "Nb_capa= 10\n",
    "C_capa_nom = 330 # uF\n",
    "Margin = 20 #\\%\n",
    "C_capa = C_capa_nom*(1-Margin/100)# uF, Worst case \n",
    "C_eq = C_capa*Nb_capa # uF > 208uF ok\n",
    "ESR_capa= 59 # Ω @ 100kHz\n",
    "\n",
    "ESR_eq = ESR_capa/Nb_capa # Ω < 6.36m OK\n",
    "Icapa_max = 2.3\n",
    "Ieq_max = Icapa_max *Nb_capa  #  @ Arms @ 125°C 100kHz > 12.08Arms ok"
   ]
  },
  {
   "cell_type": "markdown",
   "id": "44aa49ae-a69c-4ec8-abc9-829ec7ccc9da",
   "metadata": {},
   "source": [
    "**Voltage ripples**"
   ]
  },
  {
   "cell_type": "code",
   "execution_count": 208,
   "id": "b96d25ea-3aef-4fd0-81f4-ffc0bdc01f10",
   "metadata": {},
   "outputs": [
    {
     "data": {
      "text/latex": [
       "$\n",
       "\\begin{aligned}\n",
       "\\Delta_{V_{out}} &= \\frac{ \\mathrm{Io} }{ 8 \\cdot \\mathrm{fsw}_{min} \\cdot C_{eq} \\cdot 1 \\times 10 ^ {-6} }  = \\frac{ 25.000 }{ 8 \\cdot 60170.000 \\cdot 2640.000 \\cdot 1 \\times 10 ^ {-6} } &= 0.020  \n",
       "\\end{aligned}\n",
       "$"
      ],
      "text/plain": [
       "<IPython.core.display.Latex object>"
      ]
     },
     "metadata": {},
     "output_type": "display_data"
    }
   ],
   "source": [
    "%%render \n",
    "Delta_V_out = Io/(8*fsw_min*C_eq*1e-6 )"
   ]
  },
  {
   "cell_type": "markdown",
   "id": "4d04d927-2107-446f-aba4-866a9c7f5bb4",
   "metadata": {},
   "source": [
    "#### Self heating"
   ]
  },
  {
   "cell_type": "markdown",
   "id": "00b37314-19fd-4be3-b085-b2ea7038d14b",
   "metadata": {},
   "source": [
    "**Power Dissipation of Each Capacitor**"
   ]
  },
  {
   "cell_type": "code",
   "execution_count": 209,
   "id": "7ffaba01-2261-49c4-b8e7-3f97ccd94a4f",
   "metadata": {},
   "outputs": [
    {
     "data": {
      "text/latex": [
       "$\n",
       "\\begin{aligned}\n",
       "I_{each_{capa}} &= \\frac{ I_{Co} }{ \\mathrm{Nb}_{capa} }  = \\frac{ 12.086 }{ 10 } &= 1.209  \n",
       "\\\\[10pt]\n",
       "P_{selfHeating} &= \\mathrm{ESR}_{capa} \\cdot 1 \\times 10 ^ {-3} \\cdot \\left( I_{each_{capa}} \\right) ^{ 2 } \\\\&= 59 \\cdot 1 \\times 10 ^ {-3} \\cdot \\left( 1.209 \\right) ^{ 2 } \\\\&= 0.086 \\; \\;\\textrm{(W)}\\\\[10pt]\n",
       "\\end{aligned}\n",
       "$"
      ],
      "text/plain": [
       "<IPython.core.display.Latex object>"
      ]
     },
     "metadata": {},
     "output_type": "display_data"
    }
   ],
   "source": [
    "%%render \n",
    "I_each_capa= I_Co/Nb_capa\n",
    "P_selfHeating = ESR_capa*1e-3*I_each_capa**2 # W"
   ]
  },
  {
   "cell_type": "markdown",
   "id": "804ce037-13c9-4e15-aa26-5f13a7c7eb8d",
   "metadata": {},
   "source": [
    "**Estimation of Thermal Resistance Rth**"
   ]
  },
  {
   "cell_type": "code",
   "execution_count": 210,
   "id": "7e987666-52da-4a9e-88ad-d8f176bd4390",
   "metadata": {},
   "outputs": [
    {
     "data": {
      "text/latex": [
       "$\n",
       "\\begin{aligned}\n",
       "\\Delta_{T} &= 150 - 125 &= 25 \\; \\;\\textrm{(°C)}\n",
       "\\\\[10pt]\n",
       "P_{dissip} &= \\mathrm{ESR}_{capa} \\cdot 1 \\times 10 ^ {-3} \\cdot \\left( \\mathrm{Icapa}_{max} \\right) ^{ 2 } \\\\&= 59 \\cdot 1 \\times 10 ^ {-3} \\cdot \\left( 2.300 \\right) ^{ 2 } \\\\&= 0.312 \\; \\;\\textrm{(W)}\\\\[10pt]\n",
       "\\\\[10pt]\n",
       "R_{th} &= \\frac{ \\Delta_{T} }{ P_{dissip} }  = \\frac{ 25 }{ 0.312 } &= 80.100 \\; \\;\\textrm{(°C/W)}\n",
       "\\end{aligned}\n",
       "$"
      ],
      "text/plain": [
       "<IPython.core.display.Latex object>"
      ]
     },
     "metadata": {},
     "output_type": "display_data"
    }
   ],
   "source": [
    "%%render \n",
    "# Estimation or Rth \n",
    "\n",
    "# @100Khz and 125°C Iac,R I=4.6A\n",
    "# 100KHZ 20°C ESR = 0.017 Ohm \n",
    "# Max T = 150°C \n",
    "Delta_T= 150-125 # °C\n",
    "P_dissip= ESR_capa*1e-3*Icapa_max **2 # W\n",
    "R_th = Delta_T/P_dissip # °C/W"
   ]
  },
  {
   "cell_type": "markdown",
   "id": "f703cc6b-12fa-4a57-be48-697d8fdc246b",
   "metadata": {},
   "source": [
    "**The self heating estimation and the max ambiant temp**"
   ]
  },
  {
   "cell_type": "code",
   "execution_count": 211,
   "id": "e8705c89-f97a-4df0-a23c-2b06778f285e",
   "metadata": {},
   "outputs": [
    {
     "data": {
      "text/latex": [
       "$\n",
       "\\begin{aligned}\n",
       "\\Delta_{T} &= P_{selfHeating} \\cdot R_{th}  = 0.086 \\cdot 80.100 &= 6.903 \\; \\;\\textrm{(°C => low delta temp)}\n",
       "\\\\[10pt]\n",
       "\\mathrm{Margin} &= 30 \\; \\;\\textrm{(°C)}\n",
       "\\\\[10pt]\n",
       "T_{max} &= 150 \\; \n",
       "\\\\[10pt]\n",
       "T_{amb_{max}} &= T_{max} - \\Delta_{T} - \\mathrm{Margin}  = 150 - 6.903 - 30 &= 113.097 \\; \\;\\textrm{(°C)}\n",
       "\\end{aligned}\n",
       "$"
      ],
      "text/plain": [
       "<IPython.core.display.Latex object>"
      ]
     },
     "metadata": {},
     "output_type": "display_data"
    }
   ],
   "source": [
    "%%render \n",
    "# self heating \n",
    "Delta_T= P_selfHeating*R_th # °C => low delta temp\n",
    "Margin = 30 # °C \n",
    "T_max = 150\n",
    "T_amb_max = T_max -Delta_T-Margin  # °C "
   ]
  },
  {
   "cell_type": "code",
   "execution_count": 212,
   "id": "7b10d422-a0ca-4ad2-82fc-50f27d366ed1",
   "metadata": {},
   "outputs": [
    {
     "data": {
      "text/latex": [
       "$\n",
       "\\begin{aligned}\n",
       "\\mathrm{Vo}_{max} &= 54.000 \\; \\;\\textrm{(VDC)}\n",
       "\\\\[10pt]\n",
       "V_{max_{datasheet}} &= 100 \\; \\;\\textrm{(VDC)}\n",
       "\\\\[10pt]\n",
       "\\mathrm{Voltage}_{Margin} &= 100 \\cdot \\frac{ V_{max_{datasheet}} - \\mathrm{Vo}_{max} }{ V_{max_{datasheet}} }  = 100 \\cdot \\frac{ 100 - 54.000 }{ 100 } &= 46.000 \\; \\;\\textrm{(\\%)}\n",
       "\\end{aligned}\n",
       "$"
      ],
      "text/plain": [
       "<IPython.core.display.Latex object>"
      ]
     },
     "metadata": {},
     "output_type": "display_data"
    }
   ],
   "source": [
    "%%render  \n",
    "Vo_max # VDC\n",
    "V_max_datasheet = 100 # VDC\n",
    "Voltage_Margin =  100*(V_max_datasheet-Vo_max) /V_max_datasheet # \\%"
   ]
  },
  {
   "cell_type": "code",
   "execution_count": 213,
   "id": "7b564af1-3ad2-4897-9456-3df220942de7",
   "metadata": {},
   "outputs": [],
   "source": [
    "dic_capa2= {}\n",
    "for x in \"C_capa,ESR_eq,C_eq,Ieq_max,Nb_capa,P_selfHeating,T_amb_max,Voltage_Margin,Delta_V_out\".split(\",\"):\n",
    "    dic_capa2[x]= eval(x)"
   ]
  },
  {
   "cell_type": "markdown",
   "id": "c02fcc68-66d2-429f-9a23-dbd6aaaf7d07",
   "metadata": {},
   "source": [
    "### Comparaison"
   ]
  },
  {
   "cell_type": "code",
   "execution_count": 214,
   "id": "a05603cf-cb53-4e7e-82c2-b325f22b5a7f",
   "metadata": {},
   "outputs": [],
   "source": [
    "dic_capa1[\"VmaxDC\"]=63\n",
    "dic_capa2[\"VmaxDC\"]=100"
   ]
  },
  {
   "cell_type": "code",
   "execution_count": null,
   "id": "9f696778-5504-4c20-9484-9eefa671cd0d",
   "metadata": {},
   "outputs": [],
   "source": []
  },
  {
   "cell_type": "code",
   "execution_count": 215,
   "id": "2fd65c44-7117-4369-99e6-b08068b731db",
   "metadata": {},
   "outputs": [],
   "source": [
    "requirements= {\"ESR_eq\":ESR_max_m, \"C_eq\":Co_min_uF, \"Ieq_max\":I_Co, \n",
    "               \"VmaxDC\":Vo_max, \"Delta_V_out\":DV}"
   ]
  },
  {
   "cell_type": "code",
   "execution_count": 216,
   "id": "767ef21b-d900-4389-b4da-c3e1463c1ba6",
   "metadata": {},
   "outputs": [
    {
     "data": {
      "text/html": [
       "<div>\n",
       "<style scoped>\n",
       "    .dataframe tbody tr th:only-of-type {\n",
       "        vertical-align: middle;\n",
       "    }\n",
       "\n",
       "    .dataframe tbody tr th {\n",
       "        vertical-align: top;\n",
       "    }\n",
       "\n",
       "    .dataframe thead th {\n",
       "        text-align: right;\n",
       "    }\n",
       "</style>\n",
       "<table border=\"1\" class=\"dataframe\">\n",
       "  <thead>\n",
       "    <tr style=\"text-align: right;\">\n",
       "      <th></th>\n",
       "      <th>requirements</th>\n",
       "      <th>Solutio1</th>\n",
       "      <th>Solutio2</th>\n",
       "    </tr>\n",
       "  </thead>\n",
       "  <tbody>\n",
       "    <tr>\n",
       "      <th>ESR_eq</th>\n",
       "      <td>6.37</td>\n",
       "      <td>3.40</td>\n",
       "      <td>5.90</td>\n",
       "    </tr>\n",
       "    <tr>\n",
       "      <th>C_eq</th>\n",
       "      <td>207.74</td>\n",
       "      <td>480.00</td>\n",
       "      <td>2640.00</td>\n",
       "    </tr>\n",
       "    <tr>\n",
       "      <th>Ieq_max</th>\n",
       "      <td>12.09</td>\n",
       "      <td>23.00</td>\n",
       "      <td>23.00</td>\n",
       "    </tr>\n",
       "    <tr>\n",
       "      <th>VmaxDC</th>\n",
       "      <td>54.00</td>\n",
       "      <td>63.00</td>\n",
       "      <td>100.00</td>\n",
       "    </tr>\n",
       "    <tr>\n",
       "      <th>Delta_V_out</th>\n",
       "      <td>0.25</td>\n",
       "      <td>0.11</td>\n",
       "      <td>0.02</td>\n",
       "    </tr>\n",
       "    <tr>\n",
       "      <th>C_capa</th>\n",
       "      <td>NaN</td>\n",
       "      <td>96.00</td>\n",
       "      <td>264.00</td>\n",
       "    </tr>\n",
       "    <tr>\n",
       "      <th>Nb_capa</th>\n",
       "      <td>NaN</td>\n",
       "      <td>5.00</td>\n",
       "      <td>10.00</td>\n",
       "    </tr>\n",
       "    <tr>\n",
       "      <th>P_selfHeating</th>\n",
       "      <td>NaN</td>\n",
       "      <td>0.10</td>\n",
       "      <td>0.09</td>\n",
       "    </tr>\n",
       "    <tr>\n",
       "      <th>T_amb_max</th>\n",
       "      <td>NaN</td>\n",
       "      <td>113.10</td>\n",
       "      <td>113.10</td>\n",
       "    </tr>\n",
       "    <tr>\n",
       "      <th>Voltage_Margin</th>\n",
       "      <td>NaN</td>\n",
       "      <td>14.29</td>\n",
       "      <td>46.00</td>\n",
       "    </tr>\n",
       "  </tbody>\n",
       "</table>\n",
       "</div>"
      ],
      "text/plain": [
       "                requirements  Solutio1  Solutio2\n",
       "ESR_eq                  6.37      3.40      5.90\n",
       "C_eq                  207.74    480.00   2640.00\n",
       "Ieq_max                12.09     23.00     23.00\n",
       "VmaxDC                 54.00     63.00    100.00\n",
       "Delta_V_out             0.25      0.11      0.02\n",
       "C_capa                   NaN     96.00    264.00\n",
       "Nb_capa                  NaN      5.00     10.00\n",
       "P_selfHeating            NaN      0.10      0.09\n",
       "T_amb_max                NaN    113.10    113.10\n",
       "Voltage_Margin           NaN     14.29     46.00"
      ]
     },
     "execution_count": 216,
     "metadata": {},
     "output_type": "execute_result"
    }
   ],
   "source": [
    "pd.DataFrame([requirements, dic_capa1, dic_capa2], \n",
    "             index= [\"requirements\",\"Solutio1\", \"Solutio2\"]).T.round(2)"
   ]
  },
  {
   "cell_type": "markdown",
   "id": "b235d498-5a5d-4bc1-9d1b-6cef42d85fe4",
   "metadata": {},
   "source": [
    "The margin in the first solution is limited (16% in the worst case). However, I propose we proceed with this option, given the number of parallel capacitors. Care must be taken in control to prevent any overshoot or transient voltage, especially when Vout is at Vout_max."
   ]
  },
  {
   "cell_type": "markdown",
   "id": "592b6259-19e4-4a97-97b5-c6f8654e8e99",
   "metadata": {},
   "source": [
    "## Transformer design"
   ]
  },
  {
   "cell_type": "code",
   "execution_count": 217,
   "id": "71abd726-76bf-447f-b85b-752a30271edd",
   "metadata": {},
   "outputs": [
    {
     "data": {
      "text/html": [
       "<div>\n",
       "<style scoped>\n",
       "    .dataframe tbody tr th:only-of-type {\n",
       "        vertical-align: middle;\n",
       "    }\n",
       "\n",
       "    .dataframe tbody tr th {\n",
       "        vertical-align: top;\n",
       "    }\n",
       "\n",
       "    .dataframe thead th {\n",
       "        text-align: right;\n",
       "    }\n",
       "</style>\n",
       "<table border=\"1\" class=\"dataframe\">\n",
       "  <thead>\n",
       "    <tr style=\"text-align: right;\">\n",
       "      <th></th>\n",
       "      <th>Transormer parameters</th>\n",
       "    </tr>\n",
       "  </thead>\n",
       "  <tbody>\n",
       "    <tr>\n",
       "      <th>n</th>\n",
       "      <td>4.000</td>\n",
       "    </tr>\n",
       "    <tr>\n",
       "      <th>Lm_uH</th>\n",
       "      <td>65.392</td>\n",
       "    </tr>\n",
       "    <tr>\n",
       "      <th>fsw_min</th>\n",
       "      <td>60170.000</td>\n",
       "    </tr>\n",
       "    <tr>\n",
       "      <th>fsw_max</th>\n",
       "      <td>156220.000</td>\n",
       "    </tr>\n",
       "    <tr>\n",
       "      <th>Ir_rms</th>\n",
       "      <td>10.354</td>\n",
       "    </tr>\n",
       "    <tr>\n",
       "      <th>Im_rms</th>\n",
       "      <td>6.992</td>\n",
       "    </tr>\n",
       "    <tr>\n",
       "      <th>Ioe_rms</th>\n",
       "      <td>7.636</td>\n",
       "    </tr>\n",
       "    <tr>\n",
       "      <th>Ios_rms</th>\n",
       "      <td>30.545</td>\n",
       "    </tr>\n",
       "    <tr>\n",
       "      <th>L_second_uH</th>\n",
       "      <td>4.087</td>\n",
       "    </tr>\n",
       "    <tr>\n",
       "      <th>Al_uH</th>\n",
       "      <td>4.087</td>\n",
       "    </tr>\n",
       "  </tbody>\n",
       "</table>\n",
       "</div>"
      ],
      "text/plain": [
       "             Transormer parameters\n",
       "n                            4.000\n",
       "Lm_uH                       65.392\n",
       "fsw_min                  60170.000\n",
       "fsw_max                 156220.000\n",
       "Ir_rms                      10.354\n",
       "Im_rms                       6.992\n",
       "Ioe_rms                      7.636\n",
       "Ios_rms                     30.545\n",
       "L_second_uH                  4.087\n",
       "Al_uH                        4.087"
      ]
     },
     "metadata": {},
     "output_type": "display_data"
    }
   ],
   "source": [
    "with open(\"../01_llc_tank/04_outputs/out_results.json\", \"r\", encoding=\"utf-8\") as f:\n",
    "    out_datas = json.load(f)\n",
    "\n",
    "\n",
    "# Load variables \n",
    "for key, value in out_datas.items():\n",
    "    globals()[key] = value\n",
    "    \n",
    "params = ['n',  'Lm_uH', 'fsw_min', 'fsw_max', 'Ir_rms', 'Im_rms', 'Ioe_rms', 'Ios_rms', 'L_second_uH']\n",
    "\n",
    "dic_transfo= {x:out_datas[x] for x in params}\n",
    "Al = out_datas[\"Lm_uH\"]/out_datas[\"n\"]**2\n",
    "dic_transfo[\"Al_uH\"]= Al\n",
    "\n",
    "S= pd.Series(dic_transfo, name = \"Transormer parameters\").to_frame()\n",
    "display(S)"
   ]
  },
  {
   "cell_type": "markdown",
   "id": "a48b730f-73e0-4e6d-8795-6eb1aaaf1c3f",
   "metadata": {},
   "source": [
    "where: \n",
    "* `n`: Transformer turns ratio $ n = N_p / N_s $\n",
    "* `N_p = n` since `N_s= 1`\n",
    "* `Lm_uH`: Magnetizing inductance $ L_m $, sets magnetizing current and contributes to gain shaping\n",
    "* `fsw_min`: Minimum switching frequency $ f_{sw,\\min} $, corresponds to maximum load\n",
    "* `fsw_max`: Maximum switching frequency $ f_{sw,\\max} $, corresponds to no-load\n",
    "* `Ir_rms`: RMS current in the resonant tank inductor $ I_r = \\sqrt{I_m^2 + I_{oe}^2} $\n",
    "* `Im_rms`: RMS magnetizing current $ I_m $, flows through $ L_m $\n",
    "* `Ioe_rms`: RMS transferred current in the primary winding, represents reflected load current\n",
    "* `Ios_rms`: RMS current in the secondary winding $ I_{os} = I_{oe} \\cdot n $\n",
    "* `Al_uH`: Inductance per turn squared $ A_L $, used to compute turns: $ L = A_L \\cdot N^2 $\n"
   ]
  },
  {
   "cell_type": "markdown",
   "id": "f95ca23a-63ab-47ab-a609-deff475b93cb",
   "metadata": {},
   "source": [
    "**Bpeak formula**\n",
    "\n",
    "$$\n",
    "B_{peak} = \\frac{L_m \\cdot Im_{peak}}{N_p \\cdot A_e}= \\frac{L_m \\cdot \\sqrt{2} \\cdot  Im_{rms}}{N_p \\cdot A_{emin}}\n",
    "$$\n",
    "\n",
    "Where\n",
    "- `A_e` = effective core area (in m²)\n",
    "- `A_emin` = effective minimum core area (in m²)\n",
    "- `N_p` = primary turnes\n"
   ]
  },
  {
   "cell_type": "markdown",
   "id": "3c93e5f3-61a0-4bcd-8c4c-51d37a235518",
   "metadata": {},
   "source": [
    "The `Al` value: "
   ]
  },
  {
   "cell_type": "code",
   "execution_count": 218,
   "id": "6ec05c12-267d-4eb9-a112-2339d44bd175",
   "metadata": {},
   "outputs": [
    {
     "data": {
      "text/latex": [
       "$\n",
       "\\begin{aligned}\n",
       "\\mathrm{Al}_{nH} &= 1 \\times 10 ^ {3} \\cdot \\frac{ \\mathrm{Lm}_{uH} }{ \\left( n \\right) ^{ 2 } } \\\\&= 1 \\times 10 ^ {3} \\cdot \\frac{ 65.392 }{ \\left( 4.000 \\right) ^{ 2 } } \\\\&= 4087.000 \\; \\;\\textrm{(nH/turn squared)}\\\\[10pt]\n",
       "\\end{aligned}\n",
       "$"
      ],
      "text/plain": [
       "<IPython.core.display.Latex object>"
      ]
     },
     "metadata": {},
     "output_type": "display_data"
    }
   ],
   "source": [
    "%%render long\n",
    "Al_nH= 1e3*Lm_uH/n**2 # nH/turn squared"
   ]
  },
  {
   "cell_type": "markdown",
   "id": "0f5bc3f3-b9f5-4d33-9c0c-8fda7756a2dd",
   "metadata": {},
   "source": [
    "**ELP 43/10/28 core**"
   ]
  },
  {
   "cell_type": "code",
   "execution_count": 219,
   "id": "58e4337a-1c07-454d-964f-144457b273e7",
   "metadata": {},
   "outputs": [
    {
     "data": {
      "text/latex": [
       "$\n",
       "\\begin{aligned}\n",
       "\\mathrm{Lm}_{uH} &= 65.392 \\; \n",
       "\\\\[10pt]\n",
       "\\mathrm{Np} &= 4.000 \\; \\;\\textrm{(turns)}\n",
       "\\\\[10pt]\n",
       "\\mathrm{Ae} &= 225 \\; \\;\\textrm{(mm2 see datasheet ELP 43/10/28)}\n",
       "\\\\[10pt]\n",
       "\\mathrm{Aemin} &= 217 \\; \\;\\textrm{(mm2 see datasheet ELP 43/10/28)}\n",
       "\\\\[10pt]\n",
       "\\mathrm{Im}_{rms} &= 6.992 \\; \\;\\textrm{(Arms)}\n",
       "\\\\[10pt]\n",
       "B_{peak} &= 1 \\times 10 ^ {3} \\cdot \\mathrm{Lm} \\cdot \\sqrt { 2 } \\cdot \\frac{ \\mathrm{Im}_{rms} }{ \\mathrm{Np} \\cdot \\mathrm{Aemin} \\cdot 1 \\times 10 ^ {-6} } \\\\&= 1 \\times 10 ^ {3} \\cdot 0.000 \\cdot \\sqrt { 2 } \\cdot \\frac{ 6.992 }{ 4.000 \\cdot 217 \\cdot 1 \\times 10 ^ {-6} } \\\\&= 744.940 \\; \\;\\textrm{(mT > Bs= 250mT NOK)}\\\\[10pt]\n",
       "\\end{aligned}\n",
       "$"
      ],
      "text/plain": [
       "<IPython.core.display.Latex object>"
      ]
     },
     "metadata": {},
     "output_type": "display_data"
    }
   ],
   "source": [
    "%%render long\n",
    "Lm_uH\n",
    "Np= n # turns \n",
    "Ae = 225 # mm2 see datasheet ELP 43/10/28\n",
    "Aemin = 217 # mm2 see datasheet ELP 43/10/28\n",
    "Im_rms # Arms\n",
    "B_peak = 1e3*Lm*sqrt(2)*Im_rms/(Np*Aemin*1e-6) # mT > Bs= 250mT NOK"
   ]
  },
  {
   "cell_type": "code",
   "execution_count": null,
   "id": "1c1539a4-cf71-485f-9b0f-2e8cd16a1551",
   "metadata": {},
   "outputs": [],
   "source": []
  },
  {
   "cell_type": "markdown",
   "id": "1e3af5da-eb21-40b1-8abb-97ae437e13e5",
   "metadata": {},
   "source": [
    "Since the formulat of peak flux density is $\n",
    "\\begin{aligned}\n",
    "B_{peak} = \\mathrm{Lm} \\cdot \\sqrt { 2 } \\cdot \\frac{ \\mathrm{Im}_{rms} }{ \\mathrm{Np} \\cdot \\mathrm{Aemin} }   \n",
    "\\end{aligned}\n",
    "$\n",
    "We can reduct the peak by reducing the current or by reducing Lm or by increasing Np "
   ]
  },
  {
   "cell_type": "markdown",
   "id": "02fa486b-c52d-48d0-a10d-72ca1f7d2625",
   "metadata": {},
   "source": [
    "We can reduce $A_L$ by adding an air gap, below the formula of air gap length"
   ]
  },
  {
   "cell_type": "markdown",
   "id": "58f40c4f-1f05-4bf4-94a4-b9ee6cbef9f1",
   "metadata": {},
   "source": [
    "$$\n",
    "A_{L}' = \\frac{A_L}{1 + \\mu_r \\,\\frac{L_g}{L_e}}\n",
    "$$\n",
    "\n",
    "$$\n",
    "l_g = \\frac{L_e}{\\mu_r} \\left( \\frac{A_L}{A_L'} - 1 \\right)\n",
    "$$\n",
    "\n",
    "Where\n",
    "- $ A_{L}' $ : the corrected inductance factor (in nH or µH), after introducing the air gap\n",
    "- $ A_L $ : the initial inductance factor provided by the core manufacturer (in nH or µH)\n",
    "- $ l_g $ : the air gap length (in mm)\n",
    "- $ L_e $ : the effective magnetic path length of the core (in mm)\n",
    "\n",
    "This equation accounts for the effect of the air gap on the inductance. Increasing the air gap reduces the effective permeability, and thus reduces $ A_{L}' $.\n"
   ]
  },
  {
   "cell_type": "code",
   "execution_count": 220,
   "id": "905d2400-cb3e-45be-9fad-018aa2c0a9f4",
   "metadata": {},
   "outputs": [],
   "source": [
    "dic={\"core\":\"ELP 43/10/28 with I 43/4/28 N87\",\n",
    " \"Al_nH\":7300, \n",
    "\"Aemin\":217,\n",
    "\"Le\":61.6 ,\n",
    "\"µe\":1560 ,\n",
    "\"K1\":358,\n",
    "\"K2\":-0.794,    \n",
    "\"K3_25\":621, \n",
    "\"K4_25\":-0.796,\n",
    "\"Bsat\": 300}\n",
    "core =\"ELP 43/10/28__AND__I 43/4/28 N87\"\n",
    "Aemin = dic['Aemin']\n",
    "K1 = dic[\"K1\"]\n",
    "K2 = dic[\"K2\"]\n",
    "K3_25 = dic[\"K3_25\"]\n",
    "K4_25 = dic[\"K4_25\"]\n",
    "Al_nH0 = dic[\"Al_nH\"]\n",
    "Le = dic[\"Le\"]\n",
    "mu_e = dic[\"µe\"]\n"
   ]
  },
  {
   "cell_type": "code",
   "execution_count": 221,
   "id": "10f50d62-095e-430b-b1d6-3aeae4553f0d",
   "metadata": {},
   "outputs": [
    {
     "data": {
      "text/latex": [
       "$\n",
       "\\begin{aligned}\n",
       "\\mathrm{core} &= \\mathrm{ELP 43/10/28}\\ AND\\ I 43/4/28 N87 \\; \n",
       "\\\\[10pt]\n",
       "\\mathrm{Aemin} &= 217 \\; \n",
       "\\\\[10pt]\n",
       "\\mathrm{K1} &= 358 \\; \n",
       "\\\\[10pt]\n",
       "\\mathrm{K2} &= -0.794 \\; \n",
       "\\\\[10pt]\n",
       "\\mathrm{K3}_{25} &= 621 \\; \n",
       "\\\\[10pt]\n",
       "\\mathrm{K4}_{25} &= -0.796 \\; \n",
       "\\\\[10pt]\n",
       "\\mathrm{Al}_{nH0} &= 7300 \\; \n",
       "\\\\[10pt]\n",
       "\\mathrm{Le} &= 61.600 \\; \n",
       "\\\\[10pt]\n",
       "\\mu_{e} &= 1560 \\; \n",
       "\\\\[10pt]\n",
       "s_{mm} &= \\left( \\frac{ \\mathrm{Al}_{nH} }{ \\mathrm{K1} } \\right) ^{ \\left( \\frac{ 1 }{ \\mathrm{K2} } \\right) } \\\\&= \\left( \\frac{ 4087.000 }{ 358 } \\right) ^{ \\left( \\frac{ 1 }{ -0.794 } \\right) } \\\\&= 0.047 \\; \\;\\textrm{(mm)}\\\\[10pt]\n",
       "\\\\[10pt]\n",
       "\\mathrm{lg}_{mm} &= \\mathrm{Le} \\cdot \\frac{ \\frac{ \\mathrm{Al}_{nH0} }{ \\mathrm{Al}_{nH} } - 1 }{ \\mu_{e} } \\\\&= 61.600 \\cdot \\frac{ \\frac{ 7300 }{ 4087.000 } - 1 }{ 1560 } \\\\&= 0.031 \\; \\;\\textrm{(mm)}\\\\[10pt]\n",
       "\\\\[10pt]\n",
       "I_{dc} &= \\left( 0.9 \\cdot \\frac{ \\mathrm{Al}_{nH} }{ \\mathrm{K3}_{25} } \\right) ^{ \\left( \\frac{ 1 }{ \\mathrm{K4}_{25} } \\right) } \\\\&= \\left( 0.9 \\cdot \\frac{ 4087.000 }{ 621 } \\right) ^{ \\left( \\frac{ 1 }{ -0.796 } \\right) } \\\\&= 0.107  \\\\[10pt]\n",
       "\\\\[10pt]\n",
       "B_{peak} &= 1 \\times 10 ^ {3} \\cdot \\mathrm{Lm} \\cdot \\sqrt { 2 } \\cdot \\frac{ \\mathrm{Im}_{rms} }{ \\mathrm{Np} \\cdot \\mathrm{Aemin} \\cdot 1 \\times 10 ^ {-6} } \\\\&= 1 \\times 10 ^ {3} \\cdot 0.000 \\cdot \\sqrt { 2 } \\cdot \\frac{ 6.992 }{ 4.000 \\cdot 217 \\cdot 1 \\times 10 ^ {-6} } \\\\&= 744.940  \\\\[10pt]\n",
       "\\end{aligned}\n",
       "$"
      ],
      "text/plain": [
       "<IPython.core.display.Latex object>"
      ]
     },
     "metadata": {},
     "output_type": "display_data"
    }
   ],
   "source": [
    "%%render long\n",
    "core\n",
    "Aemin \n",
    "K1 \n",
    "K2 \n",
    "K3_25 \n",
    "K4_25 \n",
    "Al_nH0 \n",
    "Le \n",
    "mu_e \n",
    "s_mm= (Al_nH/K1)**(1/K2) # mm\n",
    "lg_mm= Le *(Al_nH0/Al_nH-1)/mu_e # mm\n",
    "I_dc = (0.9*Al_nH/K3_25)**(1/K4_25)\n",
    "B_peak = 1e3*Lm*sqrt(2)*Im_rms/(Np*Aemin*1e-6)"
   ]
  },
  {
   "cell_type": "markdown",
   "id": "63e8cfe9-cced-4120-94b0-3a7e7811c69c",
   "metadata": {},
   "source": [
    "So, the estimated air gap $s_{\\mathrm{mm}}$ using the datasheet constants $K_1$ and $K_2$ is slightly greater than the calculated $l_{g\\_\\mathrm{mm}}$ air gap obtained from the simple formula."
   ]
  },
  {
   "cell_type": "code",
   "execution_count": 222,
   "id": "447c095f-2330-4b65-91db-8f289b0bc634",
   "metadata": {},
   "outputs": [],
   "source": [
    "# https://www.tdk-electronics.tdk.com/inf/80/db/fer/elp_22_6_16.pdf\n",
    "# https://www.tdk-electronics.tdk.com/inf/80/db/fer/elp_32_6_20.pdf\n",
    "# https://www.tdk-electronics.tdk.com/inf/80/db/fer/elp_38_8_25.pdf\n",
    "# https://www.tdk-electronics.tdk.com/inf/80/db/fer/elp_43_10_28.pdf\n",
    "# https://www.tdk-electronics.tdk.com/inf/80/db/fer/elp_58_11_38.pdf\n",
    "# https://www.tdk-electronics.tdk.com/inf/80/db/fer/elp_64_10_50.pdf\n",
    "# https://www.tdk-electronics.tdk.com/inf/80/db/fer/e_70_33_32.pdf\n",
    "# https://www.tdk-electronics.tdk.com/inf/80/db/fer/e_80_38_40.pdf"
   ]
  },
  {
   "cell_type": "code",
   "execution_count": null,
   "id": "8d2277de-8c83-4222-a954-0480412b9421",
   "metadata": {},
   "outputs": [],
   "source": []
  },
  {
   "cell_type": "code",
   "execution_count": null,
   "id": "618cb811-6fe7-4058-ab98-a2bddaba31c6",
   "metadata": {},
   "outputs": [],
   "source": []
  },
  {
   "cell_type": "code",
   "execution_count": 223,
   "id": "e83cdfb0-abed-4e59-a52c-81cdf00210d6",
   "metadata": {},
   "outputs": [],
   "source": [
    "dfcore = pd.DataFrame([\n",
    "    \n",
    "{\"core\":\"ELP 43/10/28 with I 43/4/28 N87\",\n",
    " \"Al_nH\":7300, \n",
    "\"Aemin\":217,\n",
    "\"Le\":61.6 ,\n",
    "\"µe\":1560 ,\n",
    "\"K1\":358,\n",
    "\"K2\":-0.794,    \n",
    "#\"K3_25\":621, \n",
    "#\"K4_25\":-0.796,\n",
    "\"Bsat\": 300}\n",
    ", \n",
    "\n",
    "{\"core\":\"ELP 58/11/38 with I 58/4/38 N87\",\n",
    " \"Al_nH\":7400, \n",
    "\"Aemin\":308,\n",
    "\"Le\": 80.7 ,\n",
    "\"µe\":1540 ,\n",
    "\"K1\":591,\n",
    "\"K2\":-0.685, \n",
    "#\"K3_25\":791, \n",
    "#\"K4_25\":-0.796,\n",
    "\"Bsat\": 300},\n",
    "\n",
    "\n",
    "\n",
    "{\"core\":\"ELP 64/10/50 with I 64/5/50 N87\",\n",
    "\"Al_nH\": 14000, \n",
    "\"Aemin\":518,\n",
    "\"Le\": 69.7,\n",
    "\"µe\": 1450, \n",
    "\"K1\":835,\n",
    "\"K2\":-0.790, \n",
    "#\"K3_25\":1316, \n",
    "#\"K4_25\":-0.796, \n",
    "\"Bsat\":300},\n",
    "\n",
    "\n",
    "    \n",
    "{\"core\":\"ELP 64/10/50 with ELP 64/10/50 N87\",\n",
    " \"Al_nH\":12500, \n",
    "\"Aemin\":518,\n",
    "\"Le\": 79,\n",
    "\"µe\": 1490, \n",
    "\"K1\":820,\n",
    "\"K2\":-0.767, \n",
    "\"Bsat\":300},\n",
    "\n",
    "    \n",
    "{\"core\":\"ELP 64/10/50 with ELP 64/10/50 N95\",\n",
    " \"Al_nH\":15500, \n",
    "\"Aemin\":518,\n",
    "\"Le\": 79,\n",
    "\"µe\": 1880, \n",
    "\"Bsat\":320},\n",
    "\n",
    "{\"core\":\"ELP 102/20/38 with I 102/7/38 N87\",\n",
    " \"Al_nH\":9300, \n",
    "\"Aemin\":524.5,\n",
    "\"Le\": 121.2,\n",
    "\"µe\":1680 ,  \n",
    "\"Bsat\":300\n",
    "}\n",
    "\n",
    "])\n",
    "\n",
    "for i in range (len(dfcore)):\n",
    "    dic  =dfcore.loc[i,:].to_dict()\n",
    "    Aemin = dic['Aemin']\n",
    "    K1 = dic[\"K1\"]\n",
    "    K2 = dic[\"K2\"]\n",
    "    #K3_25 = dic[\"K3_25\"]\n",
    "    #K4_25 = dic[\"K4_25\"]\n",
    "    Al_nH0 = dic[\"Al_nH\"]\n",
    "    Le = dic[\"Le\"]\n",
    "    µe = dic[\"µe\"]\n",
    "    s_mm= (Al_nH/K1)**(1/K2) # airgap\n",
    "    lg_mm= Le *(Al_nH0/Al_nH-1)/µe\n",
    "    #I_dc = (0.9*Al_nH/K3_25)**(1/K4_25)\n",
    "    B_peak = 1e3*Lm*sqrt(2)*Im_rms/(Np*Aemin*1e-6)\n",
    "    \n",
    "    µ0= 4*pi **1e-7\n",
    "    N=4\n",
    "    lg = lg_mm*1e-3\n",
    "    le = Le*1e-3\n",
    "    Bpeak2 = µ0*N*sqrt(2)*Im_rms/(lg+le/µe)\n",
    "    \n",
    "    dfcore.loc[i,\"s_mm\"]=s_mm\n",
    "    dfcore.loc[i,\"lg_mm\"]=lg_mm\n",
    "    dfcore.loc[i,\"s_div_e\"]=s_mm/lg_mm\n",
    "  \n",
    "    dfcore.loc[i,\"B_peak\"]=B_peak\n",
    "    dfcore.loc[i,\"Bpeak2\"]=Bpeak2\n",
    "    #dfcore.loc[i,\"Idc_25\"]=I_dc\n",
    "    dfcore.loc[i,\"Bpeak_inf_Bsat\"]=dic[\"Bsat\"]>B_peak"
   ]
  },
  {
   "cell_type": "code",
   "execution_count": 224,
   "id": "938658c6-a1d5-49f0-8930-d4c8ed023dee",
   "metadata": {},
   "outputs": [
    {
     "data": {
      "text/html": [
       "<div>\n",
       "<style scoped>\n",
       "    .dataframe tbody tr th:only-of-type {\n",
       "        vertical-align: middle;\n",
       "    }\n",
       "\n",
       "    .dataframe tbody tr th {\n",
       "        vertical-align: top;\n",
       "    }\n",
       "\n",
       "    .dataframe thead th {\n",
       "        text-align: right;\n",
       "    }\n",
       "</style>\n",
       "<table border=\"1\" class=\"dataframe\">\n",
       "  <thead>\n",
       "    <tr style=\"text-align: right;\">\n",
       "      <th></th>\n",
       "      <th>Al_nH</th>\n",
       "      <th>Aemin</th>\n",
       "      <th>Le</th>\n",
       "      <th>µe</th>\n",
       "      <th>K1</th>\n",
       "      <th>K2</th>\n",
       "      <th>Bsat</th>\n",
       "      <th>s_mm</th>\n",
       "      <th>lg_mm</th>\n",
       "      <th>s_div_e</th>\n",
       "      <th>B_peak</th>\n",
       "      <th>Bpeak2</th>\n",
       "      <th>Bpeak_inf_Bsat</th>\n",
       "    </tr>\n",
       "    <tr>\n",
       "      <th>core</th>\n",
       "      <th></th>\n",
       "      <th></th>\n",
       "      <th></th>\n",
       "      <th></th>\n",
       "      <th></th>\n",
       "      <th></th>\n",
       "      <th></th>\n",
       "      <th></th>\n",
       "      <th></th>\n",
       "      <th></th>\n",
       "      <th></th>\n",
       "      <th></th>\n",
       "      <th></th>\n",
       "    </tr>\n",
       "  </thead>\n",
       "  <tbody>\n",
       "    <tr>\n",
       "      <th>ELP 43/10/28 with I 43/4/28 N87</th>\n",
       "      <td>7300</td>\n",
       "      <td>217.0</td>\n",
       "      <td>61.6</td>\n",
       "      <td>1560</td>\n",
       "      <td>358.0</td>\n",
       "      <td>-0.794</td>\n",
       "      <td>300</td>\n",
       "      <td>0.046570</td>\n",
       "      <td>0.031043</td>\n",
       "      <td>1.500191</td>\n",
       "      <td>744.940031</td>\n",
       "      <td>2.243170e+06</td>\n",
       "      <td>False</td>\n",
       "    </tr>\n",
       "    <tr>\n",
       "      <th>ELP 58/11/38 with I 58/4/38 N87</th>\n",
       "      <td>7400</td>\n",
       "      <td>308.0</td>\n",
       "      <td>80.7</td>\n",
       "      <td>1540</td>\n",
       "      <td>591.0</td>\n",
       "      <td>-0.685</td>\n",
       "      <td>300</td>\n",
       "      <td>0.059428</td>\n",
       "      <td>0.042479</td>\n",
       "      <td>1.399007</td>\n",
       "      <td>524.844113</td>\n",
       "      <td>1.667464e+06</td>\n",
       "      <td>False</td>\n",
       "    </tr>\n",
       "    <tr>\n",
       "      <th>ELP 64/10/50 with I 64/5/50 N87</th>\n",
       "      <td>14000</td>\n",
       "      <td>518.0</td>\n",
       "      <td>69.7</td>\n",
       "      <td>1450</td>\n",
       "      <td>835.0</td>\n",
       "      <td>-0.790</td>\n",
       "      <td>300</td>\n",
       "      <td>0.133949</td>\n",
       "      <td>0.116591</td>\n",
       "      <td>1.148878</td>\n",
       "      <td>312.069472</td>\n",
       "      <td>9.608338e+05</td>\n",
       "      <td>False</td>\n",
       "    </tr>\n",
       "    <tr>\n",
       "      <th>ELP 64/10/50 with ELP 64/10/50 N87</th>\n",
       "      <td>12500</td>\n",
       "      <td>518.0</td>\n",
       "      <td>79.0</td>\n",
       "      <td>1490</td>\n",
       "      <td>820.0</td>\n",
       "      <td>-0.767</td>\n",
       "      <td>300</td>\n",
       "      <td>0.123167</td>\n",
       "      <td>0.109141</td>\n",
       "      <td>1.128515</td>\n",
       "      <td>312.069472</td>\n",
       "      <td>9.756415e+05</td>\n",
       "      <td>False</td>\n",
       "    </tr>\n",
       "    <tr>\n",
       "      <th>ELP 64/10/50 with ELP 64/10/50 N95</th>\n",
       "      <td>15500</td>\n",
       "      <td>518.0</td>\n",
       "      <td>79.0</td>\n",
       "      <td>1880</td>\n",
       "      <td>NaN</td>\n",
       "      <td>NaN</td>\n",
       "      <td>320</td>\n",
       "      <td>NaN</td>\n",
       "      <td>0.117345</td>\n",
       "      <td>NaN</td>\n",
       "      <td>312.069472</td>\n",
       "      <td>9.927506e+05</td>\n",
       "      <td>True</td>\n",
       "    </tr>\n",
       "    <tr>\n",
       "      <th>ELP 102/20/38 with I 102/7/38 N87</th>\n",
       "      <td>9300</td>\n",
       "      <td>524.5</td>\n",
       "      <td>121.2</td>\n",
       "      <td>1680</td>\n",
       "      <td>NaN</td>\n",
       "      <td>NaN</td>\n",
       "      <td>300</td>\n",
       "      <td>NaN</td>\n",
       "      <td>0.092019</td>\n",
       "      <td>NaN</td>\n",
       "      <td>308.202072</td>\n",
       "      <td>9.637509e+05</td>\n",
       "      <td>False</td>\n",
       "    </tr>\n",
       "  </tbody>\n",
       "</table>\n",
       "</div>"
      ],
      "text/plain": [
       "                                    Al_nH  Aemin     Le    µe     K1     K2  \\\n",
       "core                                                                          \n",
       "ELP 43/10/28 with I 43/4/28 N87      7300  217.0   61.6  1560  358.0 -0.794   \n",
       "ELP 58/11/38 with I 58/4/38 N87      7400  308.0   80.7  1540  591.0 -0.685   \n",
       "ELP 64/10/50 with I 64/5/50 N87     14000  518.0   69.7  1450  835.0 -0.790   \n",
       "ELP 64/10/50 with ELP 64/10/50 N87  12500  518.0   79.0  1490  820.0 -0.767   \n",
       "ELP 64/10/50 with ELP 64/10/50 N95  15500  518.0   79.0  1880    NaN    NaN   \n",
       "ELP 102/20/38 with I 102/7/38 N87    9300  524.5  121.2  1680    NaN    NaN   \n",
       "\n",
       "                                    Bsat      s_mm     lg_mm   s_div_e  \\\n",
       "core                                                                     \n",
       "ELP 43/10/28 with I 43/4/28 N87      300  0.046570  0.031043  1.500191   \n",
       "ELP 58/11/38 with I 58/4/38 N87      300  0.059428  0.042479  1.399007   \n",
       "ELP 64/10/50 with I 64/5/50 N87      300  0.133949  0.116591  1.148878   \n",
       "ELP 64/10/50 with ELP 64/10/50 N87   300  0.123167  0.109141  1.128515   \n",
       "ELP 64/10/50 with ELP 64/10/50 N95   320       NaN  0.117345       NaN   \n",
       "ELP 102/20/38 with I 102/7/38 N87    300       NaN  0.092019       NaN   \n",
       "\n",
       "                                        B_peak        Bpeak2 Bpeak_inf_Bsat  \n",
       "core                                                                         \n",
       "ELP 43/10/28 with I 43/4/28 N87     744.940031  2.243170e+06          False  \n",
       "ELP 58/11/38 with I 58/4/38 N87     524.844113  1.667464e+06          False  \n",
       "ELP 64/10/50 with I 64/5/50 N87     312.069472  9.608338e+05          False  \n",
       "ELP 64/10/50 with ELP 64/10/50 N87  312.069472  9.756415e+05          False  \n",
       "ELP 64/10/50 with ELP 64/10/50 N95  312.069472  9.927506e+05           True  \n",
       "ELP 102/20/38 with I 102/7/38 N87   308.202072  9.637509e+05          False  "
      ]
     },
     "execution_count": 224,
     "metadata": {},
     "output_type": "execute_result"
    }
   ],
   "source": [
    "dfcore.set_index(\"core\")"
   ]
  },
  {
   "cell_type": "code",
   "execution_count": null,
   "id": "1124164a-f60d-4012-a5b2-39b5f421a4e1",
   "metadata": {},
   "outputs": [],
   "source": []
  },
  {
   "cell_type": "code",
   "execution_count": null,
   "id": "d68a9d1a-af00-4650-b2cb-b9ac0bd8565e",
   "metadata": {},
   "outputs": [],
   "source": []
  },
  {
   "cell_type": "code",
   "execution_count": null,
   "id": "c2e1ea87-f885-475e-9200-80e5d35a4f7a",
   "metadata": {},
   "outputs": [],
   "source": []
  },
  {
   "cell_type": "code",
   "execution_count": null,
   "id": "72d63856-ca86-4446-af5b-3113a0b70a44",
   "metadata": {},
   "outputs": [],
   "source": []
  },
  {
   "cell_type": "code",
   "execution_count": null,
   "id": "fee7c1b1-e797-4383-91ac-2dceb2f386c3",
   "metadata": {},
   "outputs": [],
   "source": []
  },
  {
   "cell_type": "code",
   "execution_count": null,
   "id": "fcd3f8bc-4dd0-474d-81ec-0b08c300166e",
   "metadata": {},
   "outputs": [],
   "source": []
  },
  {
   "cell_type": "code",
   "execution_count": null,
   "id": "387f2d7b-8503-40bc-8afa-73d365b9b879",
   "metadata": {},
   "outputs": [],
   "source": []
  },
  {
   "cell_type": "code",
   "execution_count": null,
   "id": "13dcd593-df0f-478e-b397-323631ed4127",
   "metadata": {},
   "outputs": [],
   "source": []
  },
  {
   "cell_type": "code",
   "execution_count": null,
   "id": "fa6435cf-e0f6-480d-b885-864fd7fec50c",
   "metadata": {},
   "outputs": [],
   "source": []
  },
  {
   "cell_type": "raw",
   "id": "32d28f5b-e2f6-4301-870c-dc1d8e253231",
   "metadata": {},
   "source": [
    "ELP 64/10/50 with ELP 64/10/50 N95 is the only choice with B_peak < B_sat \n",
    "but this solution use 2 ELP, not the optimum \n",
    "I propose to go with ELP 64/10/50 with I 64/5/50 N87\n",
    "The I shape is more compact\n",
    "B_peak = 312 , B_sat = 300\n",
    "So there is a rsisc of saturation in low frequency, bu we will try to handle this by control. "
   ]
  },
  {
   "cell_type": "code",
   "execution_count": 225,
   "id": "30b84c42-5bd3-4d40-90a5-a0e2fa1d32e8",
   "metadata": {},
   "outputs": [
    {
     "data": {
      "text/plain": [
       "{'core': 'ELP 64/10/50 with I 64/5/50 N87',\n",
       " 'Al_nH': 14000,\n",
       " 'Aemin': 518.0,\n",
       " 'Le': 69.7,\n",
       " 'µe': 1450,\n",
       " 'Bsat': 300,\n",
       " 's_mm': 0.1339488641172734,\n",
       " 'B_peak': 312.06947242700016}"
      ]
     },
     "execution_count": 225,
     "metadata": {},
     "output_type": "execute_result"
    }
   ],
   "source": [
    "dic_trans_core= dfcore[dfcore.core==\"ELP 64/10/50 with I 64/5/50 N87\"].iloc[0,:].to_dict()\n",
    "keys = ['core', 'Al_nH', 'Aemin', 'Le', 'µe', 'Bsat', 's_mm' , 'B_peak']\n",
    "dic_trans_core = {k:dic_trans_core[k] for k in keys}\n",
    "dic_trans_core "
   ]
  },
  {
   "cell_type": "code",
   "execution_count": null,
   "id": "8cfad5fe-28b5-4b2f-8154-a3a8dd85783b",
   "metadata": {},
   "outputs": [],
   "source": []
  },
  {
   "cell_type": "code",
   "execution_count": null,
   "id": "4a9242b8-1f9a-459d-b0d3-2f300e3c2a70",
   "metadata": {},
   "outputs": [],
   "source": []
  },
  {
   "cell_type": "code",
   "execution_count": null,
   "id": "7631ece7-bdc2-409e-9042-773cc2beb1b1",
   "metadata": {},
   "outputs": [],
   "source": []
  },
  {
   "cell_type": "code",
   "execution_count": null,
   "id": "1c6515b2-cdfe-4f3c-bde3-b49959de82c6",
   "metadata": {},
   "outputs": [],
   "source": []
  },
  {
   "cell_type": "code",
   "execution_count": null,
   "id": "89268c26-2fa6-4ac8-96e9-bffcd12de0e0",
   "metadata": {},
   "outputs": [],
   "source": []
  },
  {
   "cell_type": "code",
   "execution_count": null,
   "id": "34b8064a-1a79-4055-bfeb-9aa1333c001c",
   "metadata": {},
   "outputs": [],
   "source": []
  },
  {
   "cell_type": "code",
   "execution_count": null,
   "id": "3a21d63a-35a0-4491-836c-461597ea1d2b",
   "metadata": {},
   "outputs": [],
   "source": []
  },
  {
   "cell_type": "code",
   "execution_count": null,
   "id": "26ddb776-aabc-4acb-9c33-6b7351bbfde5",
   "metadata": {},
   "outputs": [],
   "source": []
  },
  {
   "cell_type": "code",
   "execution_count": null,
   "id": "705f15dd-8941-4b44-b4ff-818a5a70aac2",
   "metadata": {},
   "outputs": [],
   "source": []
  },
  {
   "cell_type": "code",
   "execution_count": null,
   "id": "1e983ac6-cb91-4ad3-b57d-30100b64eac6",
   "metadata": {},
   "outputs": [],
   "source": []
  },
  {
   "cell_type": "code",
   "execution_count": null,
   "id": "208ed660-9c3c-4826-a343-87cffa89dcab",
   "metadata": {},
   "outputs": [],
   "source": []
  },
  {
   "cell_type": "code",
   "execution_count": null,
   "id": "46be39b0-84c7-4fc7-92b4-ecc43b2cbf92",
   "metadata": {},
   "outputs": [],
   "source": []
  },
  {
   "cell_type": "code",
   "execution_count": null,
   "id": "5b92d9d1-1aab-4530-a7c0-dfb49c2f8737",
   "metadata": {},
   "outputs": [],
   "source": []
  },
  {
   "cell_type": "code",
   "execution_count": 226,
   "id": "86c3f780-0229-4cca-a2ba-a032835d6709",
   "metadata": {},
   "outputs": [
    {
     "data": {
      "text/html": [
       "<div>\n",
       "<style scoped>\n",
       "    .dataframe tbody tr th:only-of-type {\n",
       "        vertical-align: middle;\n",
       "    }\n",
       "\n",
       "    .dataframe tbody tr th {\n",
       "        vertical-align: top;\n",
       "    }\n",
       "\n",
       "    .dataframe thead th {\n",
       "        text-align: right;\n",
       "    }\n",
       "</style>\n",
       "<table border=\"1\" class=\"dataframe\">\n",
       "  <thead>\n",
       "    <tr style=\"text-align: right;\">\n",
       "      <th></th>\n",
       "      <th>core</th>\n",
       "      <th>Aemin(mm2)</th>\n",
       "      <th>Le(mm)</th>\n",
       "      <th>Ve(mm3)</th>\n",
       "      <th>Bsat mT</th>\n",
       "      <th>Loss (W/set)</th>\n",
       "      <th>K1</th>\n",
       "      <th>K2</th>\n",
       "      <th>µe</th>\n",
       "      <th>Al(nH)</th>\n",
       "      <th>price by set</th>\n",
       "    </tr>\n",
       "  </thead>\n",
       "  <tbody>\n",
       "    <tr>\n",
       "      <th>0</th>\n",
       "      <td>E64/10/50-3C95</td>\n",
       "      <td>519.0</td>\n",
       "      <td>79.9</td>\n",
       "      <td>40700</td>\n",
       "      <td>330.0</td>\n",
       "      <td>20.0</td>\n",
       "      <td>NaN</td>\n",
       "      <td>NaN</td>\n",
       "      <td>NaN</td>\n",
       "      <td>17000</td>\n",
       "      <td>11.05</td>\n",
       "    </tr>\n",
       "    <tr>\n",
       "      <th>1</th>\n",
       "      <td>ELP 43/10/28 with I 43/4/28 N87</td>\n",
       "      <td>217.0</td>\n",
       "      <td>50.8</td>\n",
       "      <td>11430</td>\n",
       "      <td>350.0</td>\n",
       "      <td>7.8</td>\n",
       "      <td>390.0</td>\n",
       "      <td>-0.784</td>\n",
       "      <td>1480.0</td>\n",
       "      <td>850</td>\n",
       "      <td>2.61</td>\n",
       "    </tr>\n",
       "    <tr>\n",
       "      <th>2</th>\n",
       "      <td>ELP 64/10/50 with I 64/5/50 N87</td>\n",
       "      <td>512.0</td>\n",
       "      <td>69.7</td>\n",
       "      <td>36200</td>\n",
       "      <td>300.0</td>\n",
       "      <td>4.8</td>\n",
       "      <td>835.0</td>\n",
       "      <td>-0.790</td>\n",
       "      <td>1450.0</td>\n",
       "      <td>14000</td>\n",
       "      <td>NaN</td>\n",
       "    </tr>\n",
       "    <tr>\n",
       "      <th>3</th>\n",
       "      <td>ELP 64/10/50 with ELP 64/10/50 N95</td>\n",
       "      <td>518.0</td>\n",
       "      <td>79.9</td>\n",
       "      <td>41500</td>\n",
       "      <td>320.0</td>\n",
       "      <td>5.1</td>\n",
       "      <td>NaN</td>\n",
       "      <td>NaN</td>\n",
       "      <td>1880.0</td>\n",
       "      <td>15500</td>\n",
       "      <td>14.52</td>\n",
       "    </tr>\n",
       "    <tr>\n",
       "      <th>4</th>\n",
       "      <td>ELP 64/10/50 with ELP 64/10/50 N87</td>\n",
       "      <td>518.0</td>\n",
       "      <td>79.9</td>\n",
       "      <td>41500</td>\n",
       "      <td>300.0</td>\n",
       "      <td>5.5</td>\n",
       "      <td>820.0</td>\n",
       "      <td>-0.767</td>\n",
       "      <td>1490.0</td>\n",
       "      <td>12500</td>\n",
       "      <td>11.27</td>\n",
       "    </tr>\n",
       "    <tr>\n",
       "      <th>5</th>\n",
       "      <td>E64/10/50 + PLT64/50/5 3C95</td>\n",
       "      <td>519.0</td>\n",
       "      <td>69.7</td>\n",
       "      <td>35500</td>\n",
       "      <td>330.0</td>\n",
       "      <td>17.0</td>\n",
       "      <td>NaN</td>\n",
       "      <td>NaN</td>\n",
       "      <td>NaN</td>\n",
       "      <td>18500</td>\n",
       "      <td>NaN</td>\n",
       "    </tr>\n",
       "    <tr>\n",
       "      <th>6</th>\n",
       "      <td>ER64/13/51-3C92 3C95</td>\n",
       "      <td>507.0</td>\n",
       "      <td>93.0</td>\n",
       "      <td>52600</td>\n",
       "      <td>330.0</td>\n",
       "      <td>25.0</td>\n",
       "      <td>NaN</td>\n",
       "      <td>NaN</td>\n",
       "      <td>NaN</td>\n",
       "      <td>17100</td>\n",
       "      <td>19.62</td>\n",
       "    </tr>\n",
       "    <tr>\n",
       "      <th>7</th>\n",
       "      <td>E100/60/28 N87</td>\n",
       "      <td>690.0</td>\n",
       "      <td>274.0</td>\n",
       "      <td>201390</td>\n",
       "      <td>NaN</td>\n",
       "      <td>4.7</td>\n",
       "      <td>NaN</td>\n",
       "      <td>NaN</td>\n",
       "      <td>1930.0</td>\n",
       "      <td>6500</td>\n",
       "      <td>17.40</td>\n",
       "    </tr>\n",
       "    <tr>\n",
       "      <th>8</th>\n",
       "      <td>ELP 102/20/38 with ELP 102/20/38 N87</td>\n",
       "      <td>524.5</td>\n",
       "      <td>147.6</td>\n",
       "      <td>79410</td>\n",
       "      <td>NaN</td>\n",
       "      <td>11.0</td>\n",
       "      <td>NaN</td>\n",
       "      <td>NaN</td>\n",
       "      <td>1790.0</td>\n",
       "      <td>8200</td>\n",
       "      <td>12.88</td>\n",
       "    </tr>\n",
       "    <tr>\n",
       "      <th>9</th>\n",
       "      <td>ELP 102/20/38 with ELP 102/20/38 N97</td>\n",
       "      <td>524.5</td>\n",
       "      <td>147.6</td>\n",
       "      <td>79410</td>\n",
       "      <td>NaN</td>\n",
       "      <td>9.7</td>\n",
       "      <td>NaN</td>\n",
       "      <td>NaN</td>\n",
       "      <td>1855.0</td>\n",
       "      <td>8500</td>\n",
       "      <td>14.07</td>\n",
       "    </tr>\n",
       "    <tr>\n",
       "      <th>10</th>\n",
       "      <td>ELP 102/20/38 with I 102/7/38 N97</td>\n",
       "      <td>534.2</td>\n",
       "      <td>121.2</td>\n",
       "      <td>67745</td>\n",
       "      <td>NaN</td>\n",
       "      <td>8.0</td>\n",
       "      <td>NaN</td>\n",
       "      <td>NaN</td>\n",
       "      <td>1740.0</td>\n",
       "      <td>9600</td>\n",
       "      <td>NaN</td>\n",
       "    </tr>\n",
       "    <tr>\n",
       "      <th>11</th>\n",
       "      <td>E 80/38/20 N95</td>\n",
       "      <td>388.0</td>\n",
       "      <td>184.0</td>\n",
       "      <td>71800</td>\n",
       "      <td>330.0</td>\n",
       "      <td>8.0</td>\n",
       "      <td>NaN</td>\n",
       "      <td>NaN</td>\n",
       "      <td>1680.0</td>\n",
       "      <td>4500</td>\n",
       "      <td>4.33</td>\n",
       "    </tr>\n",
       "  </tbody>\n",
       "</table>\n",
       "</div>"
      ],
      "text/plain": [
       "                                    core  Aemin(mm2)  Le(mm)  Ve(mm3)  \\\n",
       "0                         E64/10/50-3C95       519.0    79.9    40700   \n",
       "1        ELP 43/10/28 with I 43/4/28 N87       217.0    50.8    11430   \n",
       "2        ELP 64/10/50 with I 64/5/50 N87       512.0    69.7    36200   \n",
       "3     ELP 64/10/50 with ELP 64/10/50 N95       518.0    79.9    41500   \n",
       "4     ELP 64/10/50 with ELP 64/10/50 N87       518.0    79.9    41500   \n",
       "5            E64/10/50 + PLT64/50/5 3C95       519.0    69.7    35500   \n",
       "6                   ER64/13/51-3C92 3C95       507.0    93.0    52600   \n",
       "7                         E100/60/28 N87       690.0   274.0   201390   \n",
       "8   ELP 102/20/38 with ELP 102/20/38 N87       524.5   147.6    79410   \n",
       "9   ELP 102/20/38 with ELP 102/20/38 N97       524.5   147.6    79410   \n",
       "10     ELP 102/20/38 with I 102/7/38 N97       534.2   121.2    67745   \n",
       "11                        E 80/38/20 N95       388.0   184.0    71800   \n",
       "\n",
       "    Bsat mT  Loss (W/set)     K1     K2      µe  Al(nH)  price by set   \n",
       "0     330.0          20.0    NaN    NaN     NaN   17000          11.05  \n",
       "1     350.0           7.8  390.0 -0.784  1480.0     850           2.61  \n",
       "2     300.0           4.8  835.0 -0.790  1450.0   14000            NaN  \n",
       "3     320.0           5.1    NaN    NaN  1880.0   15500          14.52  \n",
       "4     300.0           5.5  820.0 -0.767  1490.0   12500          11.27  \n",
       "5     330.0          17.0    NaN    NaN     NaN   18500            NaN  \n",
       "6     330.0          25.0    NaN    NaN     NaN   17100          19.62  \n",
       "7       NaN           4.7    NaN    NaN  1930.0    6500          17.40  \n",
       "8       NaN          11.0    NaN    NaN  1790.0    8200          12.88  \n",
       "9       NaN           9.7    NaN    NaN  1855.0    8500          14.07  \n",
       "10      NaN           8.0    NaN    NaN  1740.0    9600            NaN  \n",
       "11    330.0           8.0    NaN    NaN  1680.0    4500           4.33  "
      ]
     },
     "execution_count": 226,
     "metadata": {},
     "output_type": "execute_result"
    }
   ],
   "source": [
    "dfcores = pd.read_csv(\"FerriteCores.csv\",sep=\";\").iloc[:,:-3]\n",
    "dfcores"
   ]
  },
  {
   "cell_type": "code",
   "execution_count": 227,
   "id": "c22e9749-3679-44ff-b553-b0e6bfab23d1",
   "metadata": {},
   "outputs": [],
   "source": [
    "mask  = dfcores[\"Bsat mT\"].isna()\n",
    "dfcores.loc[mask, \"Bsat mT\"] = 300\n",
    "dfcores.loc[9:10,\"Bsat mT\"]=310 # N97=310"
   ]
  },
  {
   "cell_type": "code",
   "execution_count": 228,
   "id": "106ecf0d-1c07-48ea-a122-939c54ea5a22",
   "metadata": {},
   "outputs": [
    {
     "data": {
      "text/html": [
       "<div>\n",
       "<style scoped>\n",
       "    .dataframe tbody tr th:only-of-type {\n",
       "        vertical-align: middle;\n",
       "    }\n",
       "\n",
       "    .dataframe tbody tr th {\n",
       "        vertical-align: top;\n",
       "    }\n",
       "\n",
       "    .dataframe thead th {\n",
       "        text-align: right;\n",
       "    }\n",
       "</style>\n",
       "<table border=\"1\" class=\"dataframe\">\n",
       "  <thead>\n",
       "    <tr style=\"text-align: right;\">\n",
       "      <th></th>\n",
       "      <th>core</th>\n",
       "      <th>s(mm)</th>\n",
       "      <th>lg(mm)</th>\n",
       "      <th>B_peak</th>\n",
       "      <th>Bsat mT</th>\n",
       "      <th>Bpeak_inf_Bsat</th>\n",
       "      <th>Bsat margin %</th>\n",
       "    </tr>\n",
       "  </thead>\n",
       "  <tbody>\n",
       "    <tr>\n",
       "      <th>0</th>\n",
       "      <td>E64/10/50-3C95</td>\n",
       "      <td>NaN</td>\n",
       "      <td>NaN</td>\n",
       "      <td>311.468182</td>\n",
       "      <td>330.0</td>\n",
       "      <td>True</td>\n",
       "      <td>5.615702</td>\n",
       "    </tr>\n",
       "    <tr>\n",
       "      <th>1</th>\n",
       "      <td>ELP 43/10/28 with I 43/4/28 N87</td>\n",
       "      <td>0.049951</td>\n",
       "      <td>-0.027186</td>\n",
       "      <td>744.940031</td>\n",
       "      <td>350.0</td>\n",
       "      <td>False</td>\n",
       "      <td>NaN</td>\n",
       "    </tr>\n",
       "    <tr>\n",
       "      <th>2</th>\n",
       "      <td>ELP 64/10/50 with I 64/5/50 N87</td>\n",
       "      <td>0.133949</td>\n",
       "      <td>0.116591</td>\n",
       "      <td>315.726537</td>\n",
       "      <td>300.0</td>\n",
       "      <td>False</td>\n",
       "      <td>NaN</td>\n",
       "    </tr>\n",
       "    <tr>\n",
       "      <th>3</th>\n",
       "      <td>ELP 64/10/50 with ELP 64/10/50 N95</td>\n",
       "      <td>NaN</td>\n",
       "      <td>0.118682</td>\n",
       "      <td>312.069472</td>\n",
       "      <td>320.0</td>\n",
       "      <td>True</td>\n",
       "      <td>2.478290</td>\n",
       "    </tr>\n",
       "    <tr>\n",
       "      <th>4</th>\n",
       "      <td>ELP 64/10/50 with ELP 64/10/50 N87</td>\n",
       "      <td>0.123167</td>\n",
       "      <td>0.110384</td>\n",
       "      <td>312.069472</td>\n",
       "      <td>300.0</td>\n",
       "      <td>False</td>\n",
       "      <td>NaN</td>\n",
       "    </tr>\n",
       "    <tr>\n",
       "      <th>5</th>\n",
       "      <td>E64/10/50 + PLT64/50/5 3C95</td>\n",
       "      <td>NaN</td>\n",
       "      <td>NaN</td>\n",
       "      <td>311.468182</td>\n",
       "      <td>330.0</td>\n",
       "      <td>True</td>\n",
       "      <td>5.615702</td>\n",
       "    </tr>\n",
       "    <tr>\n",
       "      <th>6</th>\n",
       "      <td>ER64/13/51-3C92 3C95</td>\n",
       "      <td>NaN</td>\n",
       "      <td>NaN</td>\n",
       "      <td>318.840210</td>\n",
       "      <td>330.0</td>\n",
       "      <td>True</td>\n",
       "      <td>3.381754</td>\n",
       "    </tr>\n",
       "    <tr>\n",
       "      <th>7</th>\n",
       "      <td>E100/60/28 N87</td>\n",
       "      <td>NaN</td>\n",
       "      <td>0.083820</td>\n",
       "      <td>234.278242</td>\n",
       "      <td>300.0</td>\n",
       "      <td>True</td>\n",
       "      <td>21.907253</td>\n",
       "    </tr>\n",
       "    <tr>\n",
       "      <th>8</th>\n",
       "      <td>ELP 102/20/38 with ELP 102/20/38 N87</td>\n",
       "      <td>NaN</td>\n",
       "      <td>0.082983</td>\n",
       "      <td>308.202072</td>\n",
       "      <td>300.0</td>\n",
       "      <td>False</td>\n",
       "      <td>NaN</td>\n",
       "    </tr>\n",
       "    <tr>\n",
       "      <th>9</th>\n",
       "      <td>ELP 102/20/38 with ELP 102/20/38 N97</td>\n",
       "      <td>NaN</td>\n",
       "      <td>0.085916</td>\n",
       "      <td>308.202072</td>\n",
       "      <td>310.0</td>\n",
       "      <td>True</td>\n",
       "      <td>0.579977</td>\n",
       "    </tr>\n",
       "    <tr>\n",
       "      <th>10</th>\n",
       "      <td>ELP 102/20/38 with I 102/7/38 N97</td>\n",
       "      <td>NaN</td>\n",
       "      <td>0.093959</td>\n",
       "      <td>302.605741</td>\n",
       "      <td>310.0</td>\n",
       "      <td>True</td>\n",
       "      <td>2.385245</td>\n",
       "    </tr>\n",
       "    <tr>\n",
       "      <th>11</th>\n",
       "      <td>E 80/38/20 N95</td>\n",
       "      <td>NaN</td>\n",
       "      <td>0.011068</td>\n",
       "      <td>416.628832</td>\n",
       "      <td>330.0</td>\n",
       "      <td>False</td>\n",
       "      <td>NaN</td>\n",
       "    </tr>\n",
       "  </tbody>\n",
       "</table>\n",
       "</div>"
      ],
      "text/plain": [
       "                                    core     s(mm)    lg(mm)      B_peak  \\\n",
       "0                         E64/10/50-3C95       NaN       NaN  311.468182   \n",
       "1        ELP 43/10/28 with I 43/4/28 N87  0.049951 -0.027186  744.940031   \n",
       "2        ELP 64/10/50 with I 64/5/50 N87  0.133949  0.116591  315.726537   \n",
       "3     ELP 64/10/50 with ELP 64/10/50 N95       NaN  0.118682  312.069472   \n",
       "4     ELP 64/10/50 with ELP 64/10/50 N87  0.123167  0.110384  312.069472   \n",
       "5            E64/10/50 + PLT64/50/5 3C95       NaN       NaN  311.468182   \n",
       "6                   ER64/13/51-3C92 3C95       NaN       NaN  318.840210   \n",
       "7                         E100/60/28 N87       NaN  0.083820  234.278242   \n",
       "8   ELP 102/20/38 with ELP 102/20/38 N87       NaN  0.082983  308.202072   \n",
       "9   ELP 102/20/38 with ELP 102/20/38 N97       NaN  0.085916  308.202072   \n",
       "10     ELP 102/20/38 with I 102/7/38 N97       NaN  0.093959  302.605741   \n",
       "11                        E 80/38/20 N95       NaN  0.011068  416.628832   \n",
       "\n",
       "    Bsat mT  Bpeak_inf_Bsat  Bsat margin %  \n",
       "0     330.0            True       5.615702  \n",
       "1     350.0           False            NaN  \n",
       "2     300.0           False            NaN  \n",
       "3     320.0            True       2.478290  \n",
       "4     300.0           False            NaN  \n",
       "5     330.0            True       5.615702  \n",
       "6     330.0            True       3.381754  \n",
       "7     300.0            True      21.907253  \n",
       "8     300.0           False            NaN  \n",
       "9     310.0            True       0.579977  \n",
       "10    310.0            True       2.385245  \n",
       "11    330.0           False            NaN  "
      ]
     },
     "execution_count": 228,
     "metadata": {},
     "output_type": "execute_result"
    }
   ],
   "source": [
    "arr= []\n",
    "for i in range (len(dfcores)):\n",
    "    dic  =dfcores.loc[i,:].to_dict()\n",
    "    Aemin = dic['Aemin(mm2)']\n",
    "    K1 = dic[\"K1\"]\n",
    "    K2 = dic[\"K2\"]\n",
    "    #K3_25 = dic[\"K3_25\"]\n",
    "    #K4_25 = dic[\"K4_25\"]\n",
    "    Al_nH0 = dic[\"Al(nH)\"]\n",
    "    Le = dic[\"Le(mm)\"]\n",
    "    µe = dic[\"µe\"]\n",
    "    s_mm= (Al_nH/K1)**(1/K2) # airgap\n",
    "    lg_mm= Le *(Al_nH0/Al_nH-1)/µe\n",
    "    #I_dc = (0.9*Al_nH/K3_25)**(1/K4_25)\n",
    "    B_peak = 1e3*Lm*sqrt(2)*Im_rms/(Np*Aemin*1e-6)\n",
    "    \n",
    "    µ0= 4*pi **1e-7\n",
    "    N=4\n",
    "    lg = lg_mm*1e-3\n",
    "    le = Le*1e-3\n",
    "    #Bpeak2 = µ0*N*sqrt(2)*Im_rms/(lg+le/µe)\n",
    "    bsat  = dic[\"Bsat mT\"]\n",
    "    if B_peak < bsat: \n",
    "        marge= 100*(bsat-B_peak)/bsat\n",
    "    else : \n",
    "        marge= np.nan\n",
    "    arr.append({\n",
    "        'core':dic['core'], \n",
    "        \"s(mm)\":s_mm,\n",
    "        \"lg(mm)\":lg_mm,\n",
    "        \"B_peak\": B_peak,\n",
    "        #\"Bpeak2\":Bpeak2,\n",
    "        \"Bsat mT\":bsat,\n",
    "        \"Bpeak_inf_Bsat\":dic[\"Bsat mT\"]>B_peak,\n",
    "        \"Bsat margin %\": marge\n",
    "        \n",
    "    })\n",
    "dfres = pd.DataFrame(arr)\n",
    "dfres"
   ]
  },
  {
   "cell_type": "code",
   "execution_count": null,
   "id": "16edf830-f652-4613-a529-fe4f32476bbb",
   "metadata": {},
   "outputs": [],
   "source": []
  },
  {
   "cell_type": "code",
   "execution_count": null,
   "id": "e0fe6c32-dcad-4e7f-8a99-4ccab0257b0d",
   "metadata": {},
   "outputs": [],
   "source": []
  },
  {
   "cell_type": "code",
   "execution_count": 229,
   "id": "a530d58b-b248-4fc4-90d5-54350caf2be2",
   "metadata": {},
   "outputs": [
    {
     "data": {
      "text/html": [
       "<div>\n",
       "<style scoped>\n",
       "    .dataframe tbody tr th:only-of-type {\n",
       "        vertical-align: middle;\n",
       "    }\n",
       "\n",
       "    .dataframe tbody tr th {\n",
       "        vertical-align: top;\n",
       "    }\n",
       "\n",
       "    .dataframe thead th {\n",
       "        text-align: right;\n",
       "    }\n",
       "</style>\n",
       "<table border=\"1\" class=\"dataframe\">\n",
       "  <thead>\n",
       "    <tr style=\"text-align: right;\">\n",
       "      <th>core</th>\n",
       "      <th>E64/10/50-3C95</th>\n",
       "      <th>ELP 64/10/50 with ELP 64/10/50 N95</th>\n",
       "      <th>E64/10/50 + PLT64/50/5 3C95</th>\n",
       "      <th>ER64/13/51-3C92 3C95</th>\n",
       "    </tr>\n",
       "  </thead>\n",
       "  <tbody>\n",
       "    <tr>\n",
       "      <th>Aemin(mm2)</th>\n",
       "      <td>519.0</td>\n",
       "      <td>518.0</td>\n",
       "      <td>519.0</td>\n",
       "      <td>507.0</td>\n",
       "    </tr>\n",
       "    <tr>\n",
       "      <th>Le(mm)</th>\n",
       "      <td>79.9</td>\n",
       "      <td>79.9</td>\n",
       "      <td>69.7</td>\n",
       "      <td>93.0</td>\n",
       "    </tr>\n",
       "    <tr>\n",
       "      <th>Ve(mm3)</th>\n",
       "      <td>40700</td>\n",
       "      <td>41500</td>\n",
       "      <td>35500</td>\n",
       "      <td>52600</td>\n",
       "    </tr>\n",
       "    <tr>\n",
       "      <th>Bsat mT</th>\n",
       "      <td>330.0</td>\n",
       "      <td>320.0</td>\n",
       "      <td>330.0</td>\n",
       "      <td>330.0</td>\n",
       "    </tr>\n",
       "    <tr>\n",
       "      <th>Loss (W/set)</th>\n",
       "      <td>20.0</td>\n",
       "      <td>5.1</td>\n",
       "      <td>17.0</td>\n",
       "      <td>25.0</td>\n",
       "    </tr>\n",
       "    <tr>\n",
       "      <th>K1</th>\n",
       "      <td>NaN</td>\n",
       "      <td>NaN</td>\n",
       "      <td>NaN</td>\n",
       "      <td>NaN</td>\n",
       "    </tr>\n",
       "    <tr>\n",
       "      <th>K2</th>\n",
       "      <td>NaN</td>\n",
       "      <td>NaN</td>\n",
       "      <td>NaN</td>\n",
       "      <td>NaN</td>\n",
       "    </tr>\n",
       "    <tr>\n",
       "      <th>µe</th>\n",
       "      <td>NaN</td>\n",
       "      <td>1880.0</td>\n",
       "      <td>NaN</td>\n",
       "      <td>NaN</td>\n",
       "    </tr>\n",
       "    <tr>\n",
       "      <th>Al(nH)</th>\n",
       "      <td>17000</td>\n",
       "      <td>15500</td>\n",
       "      <td>18500</td>\n",
       "      <td>17100</td>\n",
       "    </tr>\n",
       "    <tr>\n",
       "      <th>price by set</th>\n",
       "      <td>11.05</td>\n",
       "      <td>14.52</td>\n",
       "      <td>NaN</td>\n",
       "      <td>19.62</td>\n",
       "    </tr>\n",
       "    <tr>\n",
       "      <th>where</th>\n",
       "      <td>digikey</td>\n",
       "      <td>mouser</td>\n",
       "      <td>NaN</td>\n",
       "      <td>digikey</td>\n",
       "    </tr>\n",
       "    <tr>\n",
       "      <th>s(mm)</th>\n",
       "      <td>NaN</td>\n",
       "      <td>NaN</td>\n",
       "      <td>NaN</td>\n",
       "      <td>NaN</td>\n",
       "    </tr>\n",
       "    <tr>\n",
       "      <th>lg(mm)</th>\n",
       "      <td>NaN</td>\n",
       "      <td>0.118682</td>\n",
       "      <td>NaN</td>\n",
       "      <td>NaN</td>\n",
       "    </tr>\n",
       "    <tr>\n",
       "      <th>B_peak</th>\n",
       "      <td>311.468182</td>\n",
       "      <td>312.069472</td>\n",
       "      <td>311.468182</td>\n",
       "      <td>318.84021</td>\n",
       "    </tr>\n",
       "    <tr>\n",
       "      <th>Bpeak_inf_Bsat</th>\n",
       "      <td>True</td>\n",
       "      <td>True</td>\n",
       "      <td>True</td>\n",
       "      <td>True</td>\n",
       "    </tr>\n",
       "    <tr>\n",
       "      <th>Bsat margin %</th>\n",
       "      <td>5.615702</td>\n",
       "      <td>2.47829</td>\n",
       "      <td>5.615702</td>\n",
       "      <td>3.381754</td>\n",
       "    </tr>\n",
       "  </tbody>\n",
       "</table>\n",
       "</div>"
      ],
      "text/plain": [
       "core           E64/10/50-3C95 ELP 64/10/50 with ELP 64/10/50 N95  \\\n",
       "Aemin(mm2)              519.0                              518.0   \n",
       "Le(mm)                   79.9                               79.9   \n",
       "Ve(mm3)                 40700                              41500   \n",
       "Bsat mT                 330.0                              320.0   \n",
       "Loss (W/set)             20.0                                5.1   \n",
       "K1                        NaN                                NaN   \n",
       "K2                        NaN                                NaN   \n",
       "µe                        NaN                             1880.0   \n",
       "Al(nH)                  17000                              15500   \n",
       "price by set            11.05                              14.52   \n",
       "where                 digikey                             mouser   \n",
       "s(mm)                     NaN                                NaN   \n",
       "lg(mm)                    NaN                           0.118682   \n",
       "B_peak             311.468182                         312.069472   \n",
       "Bpeak_inf_Bsat           True                               True   \n",
       "Bsat margin %        5.615702                            2.47829   \n",
       "\n",
       "core           E64/10/50 + PLT64/50/5 3C95 ER64/13/51-3C92 3C95  \n",
       "Aemin(mm2)                           519.0                507.0  \n",
       "Le(mm)                                69.7                 93.0  \n",
       "Ve(mm3)                              35500                52600  \n",
       "Bsat mT                              330.0                330.0  \n",
       "Loss (W/set)                          17.0                 25.0  \n",
       "K1                                     NaN                  NaN  \n",
       "K2                                     NaN                  NaN  \n",
       "µe                                     NaN                  NaN  \n",
       "Al(nH)                               18500                17100  \n",
       "price by set                           NaN                19.62  \n",
       "where                                  NaN              digikey  \n",
       "s(mm)                                  NaN                  NaN  \n",
       "lg(mm)                                 NaN                  NaN  \n",
       "B_peak                          311.468182            318.84021  \n",
       "Bpeak_inf_Bsat                        True                 True  \n",
       "Bsat margin %                     5.615702             3.381754  "
      ]
     },
     "execution_count": 229,
     "metadata": {},
     "output_type": "execute_result"
    }
   ],
   "source": [
    "dfcores2 = pd.read_csv(\"FerriteCores.csv\", sep=\";\").iloc[:,:-2]\n",
    "df= dfcores2.merge(dfres)\n",
    "mask = df.\tBpeak_inf_Bsat\n",
    "df[mask].set_index(\"core\").T"
   ]
  },
  {
   "cell_type": "code",
   "execution_count": null,
   "id": "627023e2-49b1-4cc4-ad3f-c7dede46e41c",
   "metadata": {},
   "outputs": [],
   "source": [
    "# we will shose \n",
    "# ELP 64/10/50 with ELP 64/10/50 N95"
   ]
  },
  {
   "cell_type": "markdown",
   "id": "dbbcfec0-b869-47c0-ac27-cae3b5835049",
   "metadata": {},
   "source": [
    "## Lr design "
   ]
  },
  {
   "cell_type": "code",
   "execution_count": 270,
   "id": "5fd0bf44-895b-467c-8b0e-ef5a690b2230",
   "metadata": {
    "scrolled": true
   },
   "outputs": [],
   "source": [
    "params = ['Lr_uH', 'fsw_min', 'fsw_max', 'Ir_rms']\n",
    "\n",
    "dic_Lr= {x:out_datas[x] for x in params}\n",
    "#print(\"Transormer parameters:\")\n",
    "#display(dic_Lr)"
   ]
  },
  {
   "cell_type": "code",
   "execution_count": 278,
   "id": "daf324fd-f945-4dce-8848-23bc60f7fb1e",
   "metadata": {},
   "outputs": [
    {
     "data": {
      "text/latex": [
       "$\n",
       "\\begin{aligned}\n",
       "\\mathrm{Lr}_{uH} &= 21.797 \\; \\;\\textrm{(µH)}\n",
       "\\\\[10pt]\n",
       "\\mathrm{Ir}_{rms} &= 10.354 \\; \\;\\textrm{(Arms)}\n",
       "\\end{aligned}\n",
       "$"
      ],
      "text/plain": [
       "<IPython.core.display.Latex object>"
      ]
     },
     "metadata": {},
     "output_type": "display_data"
    }
   ],
   "source": [
    "%%render \n",
    "Lr_uH # µH\n",
    "Ir_rms # Arms"
   ]
  },
  {
   "cell_type": "code",
   "execution_count": 279,
   "id": "942cbeb6-c78a-4090-86fd-3ea85c66eb4e",
   "metadata": {},
   "outputs": [
    {
     "data": {
      "text/html": [
       "<div>\n",
       "<style scoped>\n",
       "    .dataframe tbody tr th:only-of-type {\n",
       "        vertical-align: middle;\n",
       "    }\n",
       "\n",
       "    .dataframe tbody tr th {\n",
       "        vertical-align: top;\n",
       "    }\n",
       "\n",
       "    .dataframe thead th {\n",
       "        text-align: right;\n",
       "    }\n",
       "</style>\n",
       "<table border=\"1\" class=\"dataframe\">\n",
       "  <thead>\n",
       "    <tr style=\"text-align: right;\">\n",
       "      <th></th>\n",
       "      <th>Nb</th>\n",
       "      <th>Al_nH</th>\n",
       "    </tr>\n",
       "  </thead>\n",
       "  <tbody>\n",
       "    <tr>\n",
       "      <th>0</th>\n",
       "      <td>1.0</td>\n",
       "      <td>21797.000000</td>\n",
       "    </tr>\n",
       "    <tr>\n",
       "      <th>1</th>\n",
       "      <td>2.0</td>\n",
       "      <td>5449.250000</td>\n",
       "    </tr>\n",
       "    <tr>\n",
       "      <th>2</th>\n",
       "      <td>3.0</td>\n",
       "      <td>2421.888889</td>\n",
       "    </tr>\n",
       "    <tr>\n",
       "      <th>3</th>\n",
       "      <td>4.0</td>\n",
       "      <td>1362.312500</td>\n",
       "    </tr>\n",
       "    <tr>\n",
       "      <th>4</th>\n",
       "      <td>5.0</td>\n",
       "      <td>871.880000</td>\n",
       "    </tr>\n",
       "    <tr>\n",
       "      <th>5</th>\n",
       "      <td>6.0</td>\n",
       "      <td>605.472222</td>\n",
       "    </tr>\n",
       "    <tr>\n",
       "      <th>6</th>\n",
       "      <td>7.0</td>\n",
       "      <td>444.836735</td>\n",
       "    </tr>\n",
       "    <tr>\n",
       "      <th>7</th>\n",
       "      <td>8.0</td>\n",
       "      <td>340.578125</td>\n",
       "    </tr>\n",
       "    <tr>\n",
       "      <th>8</th>\n",
       "      <td>9.0</td>\n",
       "      <td>269.098765</td>\n",
       "    </tr>\n",
       "  </tbody>\n",
       "</table>\n",
       "</div>"
      ],
      "text/plain": [
       "    Nb         Al_nH\n",
       "0  1.0  21797.000000\n",
       "1  2.0   5449.250000\n",
       "2  3.0   2421.888889\n",
       "3  4.0   1362.312500\n",
       "4  5.0    871.880000\n",
       "5  6.0    605.472222\n",
       "6  7.0    444.836735\n",
       "7  8.0    340.578125\n",
       "8  9.0    269.098765"
      ]
     },
     "execution_count": 279,
     "metadata": {},
     "output_type": "execute_result"
    }
   ],
   "source": [
    "pd.DataFrame(np.array([list(range(1,10)),\n",
    "                       [1e3*Lr_uH/n**2 for n in range(1,10)]]).T,\n",
    "            columns = [\"Nb\", \"Al_nH\"])"
   ]
  },
  {
   "cell_type": "code",
   "execution_count": 281,
   "id": "2e3b6be7-1651-4715-a9e0-6584b35c1d73",
   "metadata": {},
   "outputs": [
    {
     "data": {
      "text/latex": [
       "$\n",
       "\\begin{aligned}\n",
       "\\mathrm{core} &= \\mathrm{ELP 58/11/38}\\ with \\ I 58/4/38 N87 \\; \n",
       "\\\\[10pt]\n",
       "\\mathrm{Aemin} &= 308 \\; \\;\\textrm{(mm2)}\n",
       "\\\\[10pt]\n",
       "\\mathrm{Al}_{nH0} &= 8400 \\; \\;\\textrm{(nH)}\n",
       "\\\\[10pt]\n",
       "\\mathrm{Le} &= 67.700 \\; \\;\\textrm{(mm)}\n",
       "\\\\[10pt]\n",
       "n &= 4 \\; \\;\\textrm{(turns)}\n",
       "\\\\[10pt]\n",
       "B_{peak} &= 1 \\times 10 ^ {-3} \\cdot \\mathrm{Lr}_{uH} \\cdot \\sqrt { 2 } \\cdot \\frac{ \\mathrm{Ir}_{rms} }{ n \\cdot \\mathrm{Aemin} \\cdot 1 \\times 10 ^ {-6} } \\\\&= 1 \\times 10 ^ {-3} \\cdot 21.797 \\cdot \\sqrt { 2 } \\cdot \\frac{ 10.354 }{ 4 \\cdot 308 \\cdot 1 \\times 10 ^ {-6} } \\\\&= 259.065 \\; \\;\\textrm{(mT)}\\\\[10pt]\n",
       "\\\\[10pt]\n",
       "B_{sat} &= 300 \\; \\;\\textrm{(mT)}\n",
       "\\\\[10pt]\n",
       "B_{margin} &= 100 \\cdot \\frac{ B_{sat} - B_{peak} }{ B_{sat} } \\\\&= 100 \\cdot \\frac{ 300 - 259.065 }{ 300 } \\\\&= 13.645 \\; \\;\\textrm{(\\%)}\\\\[10pt]\n",
       "\\\\[10pt]\n",
       "\\mathrm{Al}_{nH} &= 1 \\times 10 ^ {3} \\cdot \\frac{ \\mathrm{Lr}_{uH} }{ \\left( n \\right) ^{ 2 } } \\\\&= 1 \\times 10 ^ {3} \\cdot \\frac{ 21.797 }{ \\left( 4 \\right) ^{ 2 } } \\\\&= 1362.312 \\; \\;\\textrm{(nH/turn squared)}\\\\[10pt]\n",
       "\\\\[10pt]\n",
       "\\mathrm{K1} &= 591 \\; \n",
       "\\\\[10pt]\n",
       "\\mathrm{K2} &= -0.685 \\; \n",
       "\\\\[10pt]\n",
       "s_{mm} &= \\left( \\frac{ \\mathrm{Al}_{nH} }{ \\mathrm{K1} } \\right) ^{ \\left( \\frac{ 1 }{ \\mathrm{K2} } \\right) } \\\\&= \\left( \\frac{ 1362.312 }{ 591 } \\right) ^{ \\left( \\frac{ 1 }{ -0.685 } \\right) } \\\\&= 0.295 \\; \\;\\textrm{(mm airgap)}\\\\[10pt]\n",
       "\\\\[10pt]\n",
       "\\mathrm{lg}_{mm} &= \\mathrm{Le} \\cdot \\left( \\frac{ \\mathrm{Al}_{nH0} }{ \\mathrm{Al}_{nH} } - 1 \\right) \\\\&= 67.700 \\cdot \\left( \\frac{ 8400 }{ 1362.312 } - 1 \\right) \\\\&= 0.208  \\\\[10pt]\n",
       "\\end{aligned}\n",
       "$"
      ],
      "text/plain": [
       "<IPython.core.display.Latex object>"
      ]
     },
     "metadata": {},
     "output_type": "display_data"
    }
   ],
   "source": [
    "%%render long\n",
    "core = \"ELP 58/11/38__with __I 58/4/38 N87\"\n",
    "Aemin = 308 # mm2\n",
    "Al_nH0 = 8400 # nH\n",
    "Le= 67.7 # mm\n",
    "\n",
    "n=4 # turns\n",
    "B_peak = 1e-3*Lr_uH*sqrt(2)*Ir_rms/(n*Aemin*1e-6) # mT\n",
    "B_sat = 300 # mT\n",
    "B_margin = 100*(B_sat-B_peak )/B_sat  # \\%\n",
    "Al_nH= 1e3*Lr_uH/n**2 # nH/turn squared\n",
    "K1= 591\n",
    "K2= -0.685\n",
    "s_mm= (Al_nH/K1)**(1/K2) # mm airgap\n",
    "lg_mm= Le *(Al_nH0/Al_nH-1)/µe"
   ]
  },
  {
   "cell_type": "markdown",
   "id": "360ff754-b341-485d-bf8d-ef254b40b2a5",
   "metadata": {},
   "source": [
    "https://www.tdk-electronics.tdk.com/inf/80/db/fer/elp_22_6_16.pdf<br>\n",
    "https://www.tdk-electronics.tdk.com/inf/80/db/fer/elp_32_6_20.pdf<br>\n",
    "https://www.tdk-electronics.tdk.com/inf/80/db/fer/elp_38_8_25.pdf<br>\n",
    "https://www.tdk-electronics.tdk.com/inf/80/db/fer/elp_43_10_28.pdf<br>\n",
    "https://www.tdk-electronics.tdk.com/inf/80/db/fer/elp_58_11_38.pdf"
   ]
  },
  {
   "cell_type": "code",
   "execution_count": 298,
   "id": "931886bf-e349-4436-bccc-9bb27de2bb82",
   "metadata": {},
   "outputs": [
    {
     "data": {
      "text/html": [
       "<div>\n",
       "<style scoped>\n",
       "    .dataframe tbody tr th:only-of-type {\n",
       "        vertical-align: middle;\n",
       "    }\n",
       "\n",
       "    .dataframe tbody tr th {\n",
       "        vertical-align: top;\n",
       "    }\n",
       "\n",
       "    .dataframe thead th {\n",
       "        text-align: right;\n",
       "    }\n",
       "</style>\n",
       "<table border=\"1\" class=\"dataframe\">\n",
       "  <thead>\n",
       "    <tr style=\"text-align: right;\">\n",
       "      <th></th>\n",
       "      <th>core</th>\n",
       "      <th>Ae_min(mm2)</th>\n",
       "      <th>B_peak(mT)</th>\n",
       "    </tr>\n",
       "  </thead>\n",
       "  <tbody>\n",
       "    <tr>\n",
       "      <th>0</th>\n",
       "      <td>ELP 22/6/16 with ELP 22/6/16</td>\n",
       "      <td>78.3</td>\n",
       "      <td>1019.056152</td>\n",
       "    </tr>\n",
       "    <tr>\n",
       "      <th>1</th>\n",
       "      <td>ELP 32/6/20 with ELP 32/6/20</td>\n",
       "      <td>128</td>\n",
       "      <td>623.375732</td>\n",
       "    </tr>\n",
       "    <tr>\n",
       "      <th>2</th>\n",
       "      <td>ELP 38/8/25 with ELP 38/8/25</td>\n",
       "      <td>192</td>\n",
       "      <td>415.583832</td>\n",
       "    </tr>\n",
       "    <tr>\n",
       "      <th>3</th>\n",
       "      <td>ELP 43/10/28 with ELP 43/10/28</td>\n",
       "      <td>217</td>\n",
       "      <td>367.705536</td>\n",
       "    </tr>\n",
       "    <tr>\n",
       "      <th>4</th>\n",
       "      <td>ELP 58/11/38 with ELP 58/11/38</td>\n",
       "      <td>308</td>\n",
       "      <td>259.065247</td>\n",
       "    </tr>\n",
       "  </tbody>\n",
       "</table>\n",
       "</div>"
      ],
      "text/plain": [
       "                             core Ae_min(mm2)   B_peak(mT)\n",
       "0    ELP 22/6/16 with ELP 22/6/16       78.3   1019.056152\n",
       "1    ELP 32/6/20 with ELP 32/6/20         128   623.375732\n",
       "2    ELP 38/8/25 with ELP 38/8/25         192   415.583832\n",
       "3  ELP 43/10/28 with ELP 43/10/28         217   367.705536\n",
       "4  ELP 58/11/38 with ELP 58/11/38         308   259.065247"
      ]
     },
     "execution_count": 298,
     "metadata": {},
     "output_type": "execute_result"
    }
   ],
   "source": [
    "t= \"\"\"core,Ae_min(mm2)\n",
    "ELP 22/6/16 with ELP 22/6/16,78.3 \n",
    "ELP 32/6/20 with ELP 32/6/20,128\n",
    "ELP 38/8/25 with ELP 38/8/25,192\n",
    "ELP 43/10/28 with ELP 43/10/28,217\n",
    "ELP 58/11/38 with ELP 58/11/38,308\"\"\".split(\"\\n\")\n",
    "t= [x.split(\",\") for x in t]\n",
    "df = pd.DataFrame(t[1:], columns = t[0])\n",
    "Aemin = df[\"Ae_min(mm2)\"].astype(\"float32\")\n",
    "B_peak = 1e-3*Lr_uH*sqrt(2)*Ir_rms/(n*Aemin*1e-6) # mT\n",
    "df[\"B_peak(mT)\"]=B_peak\n",
    "df"
   ]
  },
  {
   "cell_type": "code",
   "execution_count": 232,
   "id": "222db18a-5e3c-4cfd-b651-aa42908c022d",
   "metadata": {
    "scrolled": true
   },
   "outputs": [
    {
     "data": {
      "text/html": [
       "<div>\n",
       "<style scoped>\n",
       "    .dataframe tbody tr th:only-of-type {\n",
       "        vertical-align: middle;\n",
       "    }\n",
       "\n",
       "    .dataframe tbody tr th {\n",
       "        vertical-align: top;\n",
       "    }\n",
       "\n",
       "    .dataframe thead th {\n",
       "        text-align: right;\n",
       "    }\n",
       "</style>\n",
       "<table border=\"1\" class=\"dataframe\">\n",
       "  <thead>\n",
       "    <tr style=\"text-align: right;\">\n",
       "      <th></th>\n",
       "      <th>core</th>\n",
       "      <th>Al_nH</th>\n",
       "      <th>Aemin</th>\n",
       "      <th>Bsat</th>\n",
       "      <th>K1</th>\n",
       "      <th>K2</th>\n",
       "      <th>s_lims</th>\n",
       "    </tr>\n",
       "  </thead>\n",
       "  <tbody>\n",
       "    <tr>\n",
       "      <th>0</th>\n",
       "      <td>ELP 22/6/16 with I 22/2.5/16 N87</td>\n",
       "      <td>5200</td>\n",
       "      <td>77.9</td>\n",
       "      <td>300</td>\n",
       "      <td>134</td>\n",
       "      <td>-0.806</td>\n",
       "      <td>[0.1, 1.5]</td>\n",
       "    </tr>\n",
       "    <tr>\n",
       "      <th>1</th>\n",
       "      <td>ELP 32/6/20 with I 32/3/20 N87</td>\n",
       "      <td>6300</td>\n",
       "      <td>128.0</td>\n",
       "      <td>300</td>\n",
       "      <td>234</td>\n",
       "      <td>-0.777</td>\n",
       "      <td>[0.1, 1.5]</td>\n",
       "    </tr>\n",
       "    <tr>\n",
       "      <th>2</th>\n",
       "      <td>ELP 43/10/28 with I 43/4/28 N87</td>\n",
       "      <td>8500</td>\n",
       "      <td>217.0</td>\n",
       "      <td>300</td>\n",
       "      <td>390</td>\n",
       "      <td>-0.784</td>\n",
       "      <td>[0.1, 2]</td>\n",
       "    </tr>\n",
       "    <tr>\n",
       "      <th>3</th>\n",
       "      <td>ELP 58/11/38 with I 58/4/38 N87</td>\n",
       "      <td>8400</td>\n",
       "      <td>308.0</td>\n",
       "      <td>300</td>\n",
       "      <td>591</td>\n",
       "      <td>-0.685</td>\n",
       "      <td>[0.1, 1.5]</td>\n",
       "    </tr>\n",
       "  </tbody>\n",
       "</table>\n",
       "</div>"
      ],
      "text/plain": [
       "                               core  Al_nH  Aemin  Bsat   K1     K2  \\\n",
       "0  ELP 22/6/16 with I 22/2.5/16 N87   5200   77.9   300  134 -0.806   \n",
       "1    ELP 32/6/20 with I 32/3/20 N87   6300  128.0   300  234 -0.777   \n",
       "2   ELP 43/10/28 with I 43/4/28 N87   8500  217.0   300  390 -0.784   \n",
       "3   ELP 58/11/38 with I 58/4/38 N87   8400  308.0   300  591 -0.685   \n",
       "\n",
       "       s_lims  \n",
       "0  [0.1, 1.5]  \n",
       "1  [0.1, 1.5]  \n",
       "2    [0.1, 2]  \n",
       "3  [0.1, 1.5]  "
      ]
     },
     "execution_count": 232,
     "metadata": {},
     "output_type": "execute_result"
    }
   ],
   "source": [
    "dfcore = pd.DataFrame([\n",
    "{\"core\":\"ELP 22/6/16 with I 22/2.5/16 N87\",\n",
    " \"Al_nH\":5200, \n",
    "\"Aemin\":77.9,\n",
    " \"Bsat\": 300,\n",
    " \"K1\": 134, \n",
    " \"K2\": -0.806, \n",
    " \"s_lims\":[0.1,1.5]\n",
    "},\n",
    "\n",
    "{\"core\":\"ELP 32/6/20 with I 32/3/20 N87\", \n",
    "  \"Al_nH\": 6300, \n",
    "\"Aemin\":128, \n",
    "  \"Bsat\": 300,\n",
    " \"K1\":234 , \n",
    " \"K2\":-0.777,\n",
    "  \"s_lims\":[0.1,1.5]\n",
    "},\n",
    "\n",
    "{\"core\":\"ELP 43/10/28 with I 43/4/28 N87\", \n",
    "  \"Al_nH\": 8500, \n",
    "\"Aemin\":217, \n",
    "  \"Bsat\": 300,\n",
    " \"K1\":390 ,\n",
    " \"K2\": -0.784,\n",
    "\"s_lims\":[0.1,2]\n",
    "},\n",
    "\n",
    "\n",
    "{\"core\":\"ELP 58/11/38 with I 58/4/38 N87\", \n",
    "  \"Al_nH\": 8400, \n",
    "\"Aemin\":308, \n",
    "  \"Bsat\": 300,\n",
    " \"K1\": 591 ,\n",
    " \"K2\":-0.685,  \n",
    "   \"s_lims\":[0.1,1.5]\n",
    "}\n",
    "\n",
    "\n",
    "    \n",
    "\n",
    "\n",
    "])\n",
    "dfcore"
   ]
  },
  {
   "cell_type": "code",
   "execution_count": 233,
   "id": "fc17d54d-e592-4641-9b4f-57f826f3d822",
   "metadata": {},
   "outputs": [
    {
     "data": {
      "text/plain": [
       "{'Lr_uH': 21.797, 'fsw_min': 60170.0, 'fsw_max': 156220.0, 'Ir_rms': 10.354}"
      ]
     },
     "execution_count": 233,
     "metadata": {},
     "output_type": "execute_result"
    }
   ],
   "source": [
    "dic_Lr"
   ]
  },
  {
   "cell_type": "code",
   "execution_count": null,
   "id": "48560716-22db-41a3-9c41-71595dff31ff",
   "metadata": {},
   "outputs": [],
   "source": []
  },
  {
   "cell_type": "code",
   "execution_count": null,
   "id": "70b601a9-d701-499e-943a-f899bfa5e541",
   "metadata": {},
   "outputs": [],
   "source": []
  },
  {
   "cell_type": "code",
   "execution_count": 236,
   "id": "00a773d7-caf5-4ef5-b80b-992767b36538",
   "metadata": {},
   "outputs": [
    {
     "data": {
      "text/html": [
       "<div>\n",
       "<style scoped>\n",
       "    .dataframe tbody tr th:only-of-type {\n",
       "        vertical-align: middle;\n",
       "    }\n",
       "\n",
       "    .dataframe tbody tr th {\n",
       "        vertical-align: top;\n",
       "    }\n",
       "\n",
       "    .dataframe thead th {\n",
       "        text-align: right;\n",
       "    }\n",
       "</style>\n",
       "<table border=\"1\" class=\"dataframe\">\n",
       "  <thead>\n",
       "    <tr style=\"text-align: right;\">\n",
       "      <th></th>\n",
       "      <th>core</th>\n",
       "      <th>N</th>\n",
       "      <th>Al_nH_target</th>\n",
       "      <th>Al_error</th>\n",
       "      <th>B_peak</th>\n",
       "      <th>Bsat</th>\n",
       "      <th>s_mm</th>\n",
       "      <th>s_lims</th>\n",
       "      <th>s_valide</th>\n",
       "    </tr>\n",
       "  </thead>\n",
       "  <tbody>\n",
       "    <tr>\n",
       "      <th>10</th>\n",
       "      <td>ELP 58/11/38 with I 58/4/38 N87</td>\n",
       "      <td>6</td>\n",
       "      <td>605.472222</td>\n",
       "      <td>1287.346883</td>\n",
       "      <td>172.710172</td>\n",
       "      <td>300</td>\n",
       "      <td>0.965299</td>\n",
       "      <td>[0.1, 1.5]</td>\n",
       "      <td>True</td>\n",
       "    </tr>\n",
       "    <tr>\n",
       "      <th>16</th>\n",
       "      <td>ELP 43/10/28 with I 43/4/28 N87</td>\n",
       "      <td>8</td>\n",
       "      <td>340.578125</td>\n",
       "      <td>2395.756297</td>\n",
       "      <td>183.852763</td>\n",
       "      <td>300</td>\n",
       "      <td>1.188669</td>\n",
       "      <td>[0.1, 2]</td>\n",
       "      <td>True</td>\n",
       "    </tr>\n",
       "    <tr>\n",
       "      <th>6</th>\n",
       "      <td>ELP 58/11/38 with I 58/4/38 N87</td>\n",
       "      <td>5</td>\n",
       "      <td>871.880000</td>\n",
       "      <td>863.435335</td>\n",
       "      <td>207.252206</td>\n",
       "      <td>300</td>\n",
       "      <td>0.566860</td>\n",
       "      <td>[0.1, 1.5]</td>\n",
       "      <td>True</td>\n",
       "    </tr>\n",
       "    <tr>\n",
       "      <th>13</th>\n",
       "      <td>ELP 43/10/28 with I 43/4/28 N87</td>\n",
       "      <td>7</td>\n",
       "      <td>444.836735</td>\n",
       "      <td>1810.813415</td>\n",
       "      <td>210.117444</td>\n",
       "      <td>300</td>\n",
       "      <td>0.845517</td>\n",
       "      <td>[0.1, 2]</td>\n",
       "      <td>True</td>\n",
       "    </tr>\n",
       "    <tr>\n",
       "      <th>9</th>\n",
       "      <td>ELP 43/10/28 with I 43/4/28 N87</td>\n",
       "      <td>6</td>\n",
       "      <td>605.472222</td>\n",
       "      <td>1303.862917</td>\n",
       "      <td>245.137018</td>\n",
       "      <td>300</td>\n",
       "      <td>0.570611</td>\n",
       "      <td>[0.1, 2]</td>\n",
       "      <td>True</td>\n",
       "    </tr>\n",
       "    <tr>\n",
       "      <th>3</th>\n",
       "      <td>ELP 58/11/38 with I 58/4/38 N87</td>\n",
       "      <td>4</td>\n",
       "      <td>1362.312500</td>\n",
       "      <td>516.598614</td>\n",
       "      <td>259.065257</td>\n",
       "      <td>300</td>\n",
       "      <td>0.295479</td>\n",
       "      <td>[0.1, 1.5]</td>\n",
       "      <td>True</td>\n",
       "    </tr>\n",
       "    <tr>\n",
       "      <th>5</th>\n",
       "      <td>ELP 43/10/28 with I 43/4/28 N87</td>\n",
       "      <td>5</td>\n",
       "      <td>871.880000</td>\n",
       "      <td>874.904803</td>\n",
       "      <td>294.164421</td>\n",
       "      <td>300</td>\n",
       "      <td>0.358383</td>\n",
       "      <td>[0.1, 2]</td>\n",
       "      <td>True</td>\n",
       "    </tr>\n",
       "    <tr>\n",
       "      <th>15</th>\n",
       "      <td>ELP 32/6/20 with I 32/3/20 N87</td>\n",
       "      <td>8</td>\n",
       "      <td>340.578125</td>\n",
       "      <td>1749.795843</td>\n",
       "      <td>311.687888</td>\n",
       "      <td>300</td>\n",
       "      <td>0.616904</td>\n",
       "      <td>[0.1, 1.5]</td>\n",
       "      <td>True</td>\n",
       "    </tr>\n",
       "    <tr>\n",
       "      <th>0</th>\n",
       "      <td>ELP 58/11/38 with I 58/4/38 N87</td>\n",
       "      <td>3</td>\n",
       "      <td>2421.888889</td>\n",
       "      <td>246.836721</td>\n",
       "      <td>345.420343</td>\n",
       "      <td>300</td>\n",
       "      <td>0.127568</td>\n",
       "      <td>[0.1, 1.5]</td>\n",
       "      <td>True</td>\n",
       "    </tr>\n",
       "    <tr>\n",
       "      <th>12</th>\n",
       "      <td>ELP 32/6/20 with I 32/3/20 N87</td>\n",
       "      <td>7</td>\n",
       "      <td>444.836735</td>\n",
       "      <td>1316.249943</td>\n",
       "      <td>356.214729</td>\n",
       "      <td>300</td>\n",
       "      <td>0.437468</td>\n",
       "      <td>[0.1, 1.5]</td>\n",
       "      <td>True</td>\n",
       "    </tr>\n",
       "    <tr>\n",
       "      <th>2</th>\n",
       "      <td>ELP 43/10/28 with I 43/4/28 N87</td>\n",
       "      <td>4</td>\n",
       "      <td>1362.312500</td>\n",
       "      <td>523.939074</td>\n",
       "      <td>367.705527</td>\n",
       "      <td>300</td>\n",
       "      <td>0.202828</td>\n",
       "      <td>[0.1, 2]</td>\n",
       "      <td>True</td>\n",
       "    </tr>\n",
       "    <tr>\n",
       "      <th>8</th>\n",
       "      <td>ELP 32/6/20 with I 32/3/20 N87</td>\n",
       "      <td>6</td>\n",
       "      <td>605.472222</td>\n",
       "      <td>940.510162</td>\n",
       "      <td>415.583851</td>\n",
       "      <td>300</td>\n",
       "      <td>0.294188</td>\n",
       "      <td>[0.1, 1.5]</td>\n",
       "      <td>True</td>\n",
       "    </tr>\n",
       "    <tr>\n",
       "      <th>4</th>\n",
       "      <td>ELP 32/6/20 with I 32/3/20 N87</td>\n",
       "      <td>5</td>\n",
       "      <td>871.880000</td>\n",
       "      <td>622.576501</td>\n",
       "      <td>498.700621</td>\n",
       "      <td>300</td>\n",
       "      <td>0.183998</td>\n",
       "      <td>[0.1, 1.5]</td>\n",
       "      <td>True</td>\n",
       "    </tr>\n",
       "    <tr>\n",
       "      <th>14</th>\n",
       "      <td>ELP 22/6/16 with I 22/2.5/16 N87</td>\n",
       "      <td>8</td>\n",
       "      <td>340.578125</td>\n",
       "      <td>1426.815617</td>\n",
       "      <td>512.144411</td>\n",
       "      <td>300</td>\n",
       "      <td>0.314326</td>\n",
       "      <td>[0.1, 1.5]</td>\n",
       "      <td>True</td>\n",
       "    </tr>\n",
       "    <tr>\n",
       "      <th>11</th>\n",
       "      <td>ELP 22/6/16 with I 22/2.5/16 N87</td>\n",
       "      <td>7</td>\n",
       "      <td>444.836735</td>\n",
       "      <td>1068.968207</td>\n",
       "      <td>585.307899</td>\n",
       "      <td>300</td>\n",
       "      <td>0.225673</td>\n",
       "      <td>[0.1, 1.5]</td>\n",
       "      <td>True</td>\n",
       "    </tr>\n",
       "    <tr>\n",
       "      <th>1</th>\n",
       "      <td>ELP 32/6/20 with I 32/3/20 N87</td>\n",
       "      <td>4</td>\n",
       "      <td>1362.312500</td>\n",
       "      <td>362.448961</td>\n",
       "      <td>623.375776</td>\n",
       "      <td>300</td>\n",
       "      <td>0.103601</td>\n",
       "      <td>[0.1, 1.5]</td>\n",
       "      <td>True</td>\n",
       "    </tr>\n",
       "    <tr>\n",
       "      <th>7</th>\n",
       "      <td>ELP 22/6/16 with I 22/2.5/16 N87</td>\n",
       "      <td>6</td>\n",
       "      <td>605.472222</td>\n",
       "      <td>758.833784</td>\n",
       "      <td>682.859215</td>\n",
       "      <td>300</td>\n",
       "      <td>0.153942</td>\n",
       "      <td>[0.1, 1.5]</td>\n",
       "      <td>True</td>\n",
       "    </tr>\n",
       "  </tbody>\n",
       "</table>\n",
       "</div>"
      ],
      "text/plain": [
       "                                core  N  Al_nH_target     Al_error  \\\n",
       "10   ELP 58/11/38 with I 58/4/38 N87  6    605.472222  1287.346883   \n",
       "16   ELP 43/10/28 with I 43/4/28 N87  8    340.578125  2395.756297   \n",
       "6    ELP 58/11/38 with I 58/4/38 N87  5    871.880000   863.435335   \n",
       "13   ELP 43/10/28 with I 43/4/28 N87  7    444.836735  1810.813415   \n",
       "9    ELP 43/10/28 with I 43/4/28 N87  6    605.472222  1303.862917   \n",
       "3    ELP 58/11/38 with I 58/4/38 N87  4   1362.312500   516.598614   \n",
       "5    ELP 43/10/28 with I 43/4/28 N87  5    871.880000   874.904803   \n",
       "15    ELP 32/6/20 with I 32/3/20 N87  8    340.578125  1749.795843   \n",
       "0    ELP 58/11/38 with I 58/4/38 N87  3   2421.888889   246.836721   \n",
       "12    ELP 32/6/20 with I 32/3/20 N87  7    444.836735  1316.249943   \n",
       "2    ELP 43/10/28 with I 43/4/28 N87  4   1362.312500   523.939074   \n",
       "8     ELP 32/6/20 with I 32/3/20 N87  6    605.472222   940.510162   \n",
       "4     ELP 32/6/20 with I 32/3/20 N87  5    871.880000   622.576501   \n",
       "14  ELP 22/6/16 with I 22/2.5/16 N87  8    340.578125  1426.815617   \n",
       "11  ELP 22/6/16 with I 22/2.5/16 N87  7    444.836735  1068.968207   \n",
       "1     ELP 32/6/20 with I 32/3/20 N87  4   1362.312500   362.448961   \n",
       "7   ELP 22/6/16 with I 22/2.5/16 N87  6    605.472222   758.833784   \n",
       "\n",
       "        B_peak  Bsat      s_mm      s_lims  s_valide  \n",
       "10  172.710172   300  0.965299  [0.1, 1.5]      True  \n",
       "16  183.852763   300  1.188669    [0.1, 2]      True  \n",
       "6   207.252206   300  0.566860  [0.1, 1.5]      True  \n",
       "13  210.117444   300  0.845517    [0.1, 2]      True  \n",
       "9   245.137018   300  0.570611    [0.1, 2]      True  \n",
       "3   259.065257   300  0.295479  [0.1, 1.5]      True  \n",
       "5   294.164421   300  0.358383    [0.1, 2]      True  \n",
       "15  311.687888   300  0.616904  [0.1, 1.5]      True  \n",
       "0   345.420343   300  0.127568  [0.1, 1.5]      True  \n",
       "12  356.214729   300  0.437468  [0.1, 1.5]      True  \n",
       "2   367.705527   300  0.202828    [0.1, 2]      True  \n",
       "8   415.583851   300  0.294188  [0.1, 1.5]      True  \n",
       "4   498.700621   300  0.183998  [0.1, 1.5]      True  \n",
       "14  512.144411   300  0.314326  [0.1, 1.5]      True  \n",
       "11  585.307899   300  0.225673  [0.1, 1.5]      True  \n",
       "1   623.375776   300  0.103601  [0.1, 1.5]      True  \n",
       "7   682.859215   300  0.153942  [0.1, 1.5]      True  "
      ]
     },
     "execution_count": 236,
     "metadata": {},
     "output_type": "execute_result"
    }
   ],
   "source": [
    "Ir_rms = dic_Lr['Ir_rms']\n",
    "Lr = dic_Lr['Lr_uH']*1e-6\n",
    "\n",
    "arr=[]\n",
    "for n in range(1,9):\n",
    "    for i in range(len(dfcore)):\n",
    "        Al_nH= 1e3*Lr_uH/n**2 # nH/turn squared\n",
    "        Aemin = dfcore.loc[i,\"Aemin\"]\n",
    "        K1 = dfcore.loc[i,\"K1\"]\n",
    "        K2 = dfcore.loc[i,\"K2\"]\n",
    "        Al_nH_core = dfcore.loc[i,\"Al_nH\"]\n",
    "        core = dfcore.loc[i,\"core\"]\n",
    "        s_lims= dfcore.loc[i,\"s_lims\"]\n",
    "        Al_nH = 1000*dic_Lr[\"Lr_uH\"]/n**2\n",
    "\n",
    "\n",
    "        Al_nH_cal=Al_nH_core\n",
    "        if Al_nH < Al_nH_core: \n",
    "            s_mm= (Al_nH/K1)**(1/K2)\n",
    "            s_valide = s_mm>s_lims[0] and  s_mm<s_lims[1]\n",
    "        else:\n",
    "            s_mm= None \n",
    "            s_valide= None\n",
    "        \n",
    "        error = 100*(Al_nH_cal-Al_nH)/Al_nH\n",
    "        \n",
    "        B_peak = 1e3*Ir_rms*Lr*sqrt(2)/(n*Aemin*1e-6)\n",
    "        if (s_mm is not None or abs(error)<10) and s_valide:\n",
    "            arr.append({\"core\":core, \"N\":n, #\"Al_nH_cal\": Al_nH_cal, \n",
    "                        \"Al_nH_target\": Al_nH, \n",
    "                        \"Al_error\":error, \n",
    "                        \"B_peak\":B_peak, \"Bsat\":dfcore.loc[i, \"Bsat\"], \"s_mm\":s_mm,\n",
    "                       \"s_lims\":s_lims, \"s_valide\":s_valide\n",
    "                       })\n",
    "dfLr=pd.DataFrame(arr).sort_values(\"B_peak\")\n",
    "dfLr"
   ]
  },
  {
   "cell_type": "raw",
   "id": "885b4fe7-ad89-40ae-af58-6e89cc51f5c1",
   "metadata": {},
   "source": [
    "chose ELP 58/11/38 with I 58/4/38 N87\n",
    "4 turns\n",
    "Bsat > Bpeak"
   ]
  },
  {
   "cell_type": "raw",
   "id": "24eed23c-c2ec-425d-be36-d6962361dc1f",
   "metadata": {},
   "source": [
    "m1=dfLr.core == \"ELP 58/11/38 with I 58/4/38 N87\"\n",
    "m2=dfLr.N == 4\n",
    "dfLr[m1 & m2]"
   ]
  },
  {
   "cell_type": "markdown",
   "id": "49b44da6-f321-4aed-829d-00d2dcee11ca",
   "metadata": {},
   "source": [
    "## Resonanat capacitor Cr"
   ]
  },
  {
   "cell_type": "markdown",
   "id": "60ff68ea-7ed0-4e7c-8256-e38fb008d5c5",
   "metadata": {},
   "source": [
    "### Chosing a capacitor for Cr"
   ]
  },
  {
   "cell_type": "markdown",
   "id": "3855b3fa-9054-426d-8e05-936a8bf8dd89",
   "metadata": {},
   "source": [
    "**The inputs data**"
   ]
  },
  {
   "cell_type": "code",
   "execution_count": null,
   "id": "f8e6e6fb-51e6-4bd5-9c1f-f4a4f1b7ebc1",
   "metadata": {},
   "outputs": [],
   "source": [
    "%%render \n",
    "Cr_nF # nF\n",
    "V_In_max # V\n",
    "fsw_min # Hz"
   ]
  },
  {
   "cell_type": "markdown",
   "id": "30cee55d-8389-444b-81ec-763fc8451544",
   "metadata": {},
   "source": [
    "**The RMS voltage of the resonant capacitor**"
   ]
  },
  {
   "cell_type": "code",
   "execution_count": null,
   "id": "d788fd5a-eb8e-4dea-9111-3bfb97e551c6",
   "metadata": {},
   "outputs": [],
   "source": [
    "%%render \n",
    "X_Cr= 1/(2*pi*fsw_min*Cr_nF*1e-9) # Ohm \n",
    "V_Cr= Ir_rms*X_Cr # V\n",
    "V_Cr_rms= sqrt((V_In_max/2)**2+V_Cr**2) # vrms"
   ]
  },
  {
   "cell_type": "raw",
   "id": "65e4dc5d-5e85-4aa5-b28f-fc91c1720e41",
   "metadata": {},
   "source": [
    "{\n",
    "\"Cr_nF\": Cr_nF, \n",
    "\"V_In_max\": V_In_max, \n",
    "\"fsw_min\":fsw_min, \n",
    "\"V_Cr_rms\":V_Cr_rms,\n",
    "\"Ir_rms\":Ir_rms, \n",
    "}"
   ]
  },
  {
   "cell_type": "code",
   "execution_count": null,
   "id": "b6419f02-7553-4068-ac59-75ba5f7080a6",
   "metadata": {},
   "outputs": [],
   "source": [
    "# https://www.mouser.es/ProductDetail/EPCOS-TDK/B32672L1333J?qs=vht8qxFUkGz11LfwwLq5EA%3D%3D\n",
    "# https://product.tdk.com/system/files/dam/doc/product/capacitor/film/mkp_mfp/data_sheet/20/20/db/fc_2009/mkp_b32671l_672l.pdf"
   ]
  },
  {
   "cell_type": "markdown",
   "id": "3af582e4-57b5-4948-b1f8-3651dab867b1",
   "metadata": {},
   "source": [
    "Starting with the **B3267*L** film capacitors, the maximum rated DC voltage is 2000 V. [\\[2\\]](#referencesID_03_3)."
   ]
  },
  {
   "cell_type": "code",
   "execution_count": null,
   "id": "c13809ee-b5da-44c1-a0c6-d8e37b2bcf4c",
   "metadata": {},
   "outputs": [],
   "source": [
    "B32672L1333 = [6.2, 6.8, 8.2, 10.0, 12.0, 15.0, 22.0, 33.0, 47.0, 56.0, 68.0]\n",
    "print(f\"The design value of Cr is {Cr_nF:.1f} nF\")\n",
    "print(\"Below are some possible combinations for constructing this resonant capacitor:\")\n",
    "arr= []\n",
    "for c in B32672L1333: \n",
    "    n= round(Cr_nF/c)\n",
    "    ct= n*c\n",
    "    error = 100*(ct-Cr_nF)/Cr_nF\n",
    "    dic = {\"Nominal_capa_nF\":c, \"Nb capas in parallel\": n, \n",
    "           \"total capa nF\" :ct, \"error %\":round(error, 1)}\n",
    "    arr.append(dic)\n",
    "pd.DataFrame(arr)"
   ]
  },
  {
   "cell_type": "markdown",
   "id": "ffe70301-2d8a-41cd-896f-9d9d5d2e809f",
   "metadata": {},
   "source": [
    "**The current of each element capacitor**"
   ]
  },
  {
   "cell_type": "code",
   "execution_count": null,
   "id": "23c21de7-41b3-4e65-8d79-d775be7b35b3",
   "metadata": {},
   "outputs": [],
   "source": [
    "%%render \n",
    "Ir_rms_1=Ir_rms/8"
   ]
  },
  {
   "cell_type": "markdown",
   "id": "0652d266-7cf3-41b0-934e-d5927c000baf",
   "metadata": {},
   "source": [
    "**The 15 nF, 15 mm, 2000 VDC TDK MKP capacitor meets both the Vrms and Irms requirements.**"
   ]
  },
  {
   "cell_type": "code",
   "execution_count": null,
   "id": "192e5237-150c-41c0-a7a3-cac0b5128d96",
   "metadata": {},
   "outputs": [],
   "source": []
  },
  {
   "cell_type": "code",
   "execution_count": null,
   "id": "2acb72d2-9b59-40c8-a3dd-43311122d02c",
   "metadata": {},
   "outputs": [],
   "source": [
    "first_part_path = \"./03_figures/\"\n",
    "\n",
    "fig_counter = show_figure_pair_with_captions(\n",
    "    fig_counter, \n",
    "    \"CR_VRMS.png\",\n",
    "    \"VRMS\",\n",
    "    \"CR_IRMS.png\",\n",
    "    \"IRMS\", \n",
    "    first_part_path= first_part_path, \n",
    ")"
   ]
  },
  {
   "cell_type": "markdown",
   "id": "d91eae99-3f1f-4002-b470-4870065b7a91",
   "metadata": {},
   "source": [
    "Below is a screenshot from the B32672L datasheet. The ref **B32672L8153** is a 15 nF capacitor."
   ]
  },
  {
   "cell_type": "code",
   "execution_count": null,
   "id": "cf17e02d-a1b7-4da1-b09a-3a3f937ce07f",
   "metadata": {},
   "outputs": [],
   "source": [
    "first_part_path = \"./03_figures/\"\n",
    "\n",
    "fig_counter = show_figure_pair_with_captions(\n",
    "    fig_counter, \n",
    "    \"capa15nF.png\",\n",
    "    \"VRMS\",\n",
    "    first_part_path= first_part_path, \n",
    ")"
   ]
  },
  {
   "cell_type": "raw",
   "id": "726826ea-83c6-483a-ac01-5b3a380d6fed",
   "metadata": {},
   "source": []
  },
  {
   "cell_type": "raw",
   "id": "a7fd9eb7-20b6-4045-a5f8-196b4075c9aa",
   "metadata": {},
   "source": []
  },
  {
   "cell_type": "code",
   "execution_count": null,
   "id": "5df7c95c-6642-47d1-b5b6-784966993a97",
   "metadata": {},
   "outputs": [],
   "source": []
  },
  {
   "cell_type": "code",
   "execution_count": null,
   "id": "e2e6863b-1255-4adc-9493-59bdf8250dc9",
   "metadata": {},
   "outputs": [],
   "source": [
    "# https://eu.mouser.com/ProductDetail/EPCOS-TDK/B32672L8153J?qs=CsdphVCLJRjPN7YH24ATpg%3D%3D\n",
    "# https://product.tdk.com/system/files/dam/doc/product/capacitor/film/mkp_mfp/data_sheet/20/20/db/fc_2009/mkp_b32671l_672l.pdf"
   ]
  },
  {
   "cell_type": "code",
   "execution_count": null,
   "id": "0ec5dc0c-97a4-4081-a362-d7a0ef2a2706",
   "metadata": {},
   "outputs": [],
   "source": [
    "# B32672L8153 ==> 15n 2000VDC\n",
    "# DATASHEET\n",
    "# https://product.tdk.com/system/files/dam/doc/product/capacitor/film/mkp_mfp/data_sheet/20/20/db/fc_2009/mkp_b32671l_672l.pdf"
   ]
  },
  {
   "cell_type": "code",
   "execution_count": null,
   "id": "e46179d5-6fb6-4de4-b719-0dc2bbe49601",
   "metadata": {},
   "outputs": [],
   "source": []
  },
  {
   "cell_type": "markdown",
   "id": "6cc19bfa-f343-48d0-a11f-6b157f3d1349",
   "metadata": {},
   "source": [
    "**The ESR and Power dissipation**"
   ]
  },
  {
   "cell_type": "code",
   "execution_count": null,
   "id": "05dced99-cc70-431f-8e7f-d3cc56859291",
   "metadata": {},
   "outputs": [],
   "source": [
    "first_part_path = \"./03_figures/\"\n",
    "\n",
    "fig_counter = show_figure_pair_with_captions(\n",
    "    fig_counter, \n",
    "    \"CR_ESR.png\",\n",
    "    \"VRMS\",\n",
    "    first_part_path= first_part_path, \n",
    ")"
   ]
  },
  {
   "cell_type": "markdown",
   "id": "36eb97d0-c88b-4f2b-a20e-ab2e529a9a17",
   "metadata": {},
   "source": [
    "From the below <br>\n",
    "6.8nF ESR=70µΩ <br>\n",
    "33nF ESR=50µΩ <br> \n",
    "By linear interpolation, the ESR of a 15 nF capacitor can be estimated as 63.74 µΩ"
   ]
  },
  {
   "cell_type": "markdown",
   "id": "89c0426e-9e46-4578-b2c8-4d96018f6746",
   "metadata": {},
   "source": [
    "**The power dissipation of each capacitor**"
   ]
  },
  {
   "cell_type": "code",
   "execution_count": null,
   "id": "0bd9f210-9492-4baa-9bd7-02d02374e8ae",
   "metadata": {},
   "outputs": [],
   "source": [
    "%%render \n",
    "ESR_u= np.interp([15],[6.8,33],[70,50])[0] # µΩ\n",
    "Ir_rms_1 # Arms\n",
    "Ir_rms_max = 2 # Arms\n",
    "PD_uW = ESR_u*Ir_rms_1**2 # uW"
   ]
  },
  {
   "cell_type": "markdown",
   "id": "cee91c91-f3da-440b-ba85-8f27147c8405",
   "metadata": {},
   "source": [
    "**The Rth estimation**"
   ]
  },
  {
   "cell_type": "code",
   "execution_count": null,
   "id": "5233c332-3a95-4eab-87f6-eeed5631b688",
   "metadata": {},
   "outputs": [],
   "source": [
    "%%render \n",
    "T_max = 125\n",
    "T_100= 100\n",
    "Delta_T= T_max-T_100\n",
    "PD_uW_max= ESR_u*Ir_rms_max**2\n",
    "R_TH = Delta_T/(PD_uW_max) # °C/uW"
   ]
  },
  {
   "cell_type": "markdown",
   "id": "50a62068-22f8-4f03-aef8-f640efc19812",
   "metadata": {},
   "source": [
    "**Each capacitor's self-heating and the maximum permissible ambient temperature.**"
   ]
  },
  {
   "cell_type": "code",
   "execution_count": null,
   "id": "3de690d9-d19c-4455-8b79-cbc5b929df61",
   "metadata": {},
   "outputs": [],
   "source": [
    "%%render \n",
    "Delta_T= PD_uW*R_TH\n",
    "T_amb_max = 125-Delta_T # °C "
   ]
  },
  {
   "cell_type": "markdown",
   "id": "a998f75c-f918-4139-af4a-3cafd67d10ac",
   "metadata": {},
   "source": [
    "### Understanding the Derating Curve of the Capacitors"
   ]
  },
  {
   "cell_type": "markdown",
   "id": "ba7440fa-ae0c-4cac-aefb-cd6beabfee64",
   "metadata": {},
   "source": [
    "**One point calculation**"
   ]
  },
  {
   "cell_type": "code",
   "execution_count": null,
   "id": "03062462-e434-4000-967f-7e5b88085312",
   "metadata": {},
   "outputs": [],
   "source": [
    "%%render \n",
    "Ta = 105\n",
    "Delta_T= T_max-Ta\n",
    "PD_uW_max = Delta_T/R_TH\n",
    "Ir_rms_max_Ta=sqrt(PD_uW_max/ESR_u)\n",
    "Fa = Ir_rms_max_Ta/Ir_rms_max"
   ]
  },
  {
   "cell_type": "markdown",
   "id": "3614dd9f-946f-41ba-baf3-00d3fe7e1a73",
   "metadata": {},
   "source": [
    "**The same calculation is repeated to construct the derating curve.**"
   ]
  },
  {
   "cell_type": "code",
   "execution_count": null,
   "id": "d0bc9084-5ec3-44cc-85d8-91fb555a5a89",
   "metadata": {},
   "outputs": [],
   "source": [
    "fig, axes = plt.subplots(1, 2, figsize=(8, 4))\n",
    "\n",
    "img = plt.imread(\"../01_llc_tank/03_figs/Capa_thermal_derating.jpg\")\n",
    "axes[0].imshow(img)\n",
    "axes[0].axis(\"off\")\n",
    "axes[0].set_title(\"Thermal Derating from datasheet\")\n",
    "\n",
    "\n",
    "Ta_arr= np.arange(80,125+1,1)\n",
    "Fa_arr=[]\n",
    "for Ta in Ta_arr:\n",
    "    if Ta>100:\n",
    "        Delta_T= T_max-Ta\n",
    "        PD_uW_max = Delta_T/R_TH\n",
    "        Ir_rms_max_Ta=sqrt(PD_uW_max/ESR_u)\n",
    "        Fa = Ir_rms_max_Ta/Ir_rms_max\n",
    "        Fa_arr.append(Fa)\n",
    "    else: \n",
    "        Fa_arr.append(1)\n",
    "        \n",
    "axes[1].plot(Ta_arr, Fa_arr)\n",
    "\n",
    "axes[1].set_xlabel(\"Ta (°C)\")\n",
    "axes[1].set_ylabel(\"Derating Factor (Ft)\")\n",
    "axes[1].set_title(\"Calculated Thermal Derating\")\n",
    "\n",
    "axes[1].set_xticks(np.arange(80, 125, 5))\n",
    "axes[1].set_yticks(np.arange(0, 1.1, 0.1))\n",
    "\n",
    "axes[1].grid(True)\n",
    "axes[1].set_ylim([0,1.1])\n",
    "axes[1].set_xlim([80,125])"
   ]
  },
  {
   "cell_type": "markdown",
   "id": "b5f16f31-1c3c-4c05-b9c1-20e3ac82b586",
   "metadata": {},
   "source": [
    "### Resonant capacitors configuration"
   ]
  },
  {
   "cell_type": "markdown",
   "id": "7cdf8d02-d4b6-43e5-b3fb-be668557bfbc",
   "metadata": {},
   "source": [
    "There are two possible configurations for the resonant capacitors:\n",
    "\n",
    "- All capacitors in parallel:\n",
    "\n",
    "which is the classic LLC configuration and offers simplicity in layout.\n",
    "- Dividing the capacitors between the high side and low side:\n",
    "\n",
    "which helps balance HV+ and HV-."
   ]
  },
  {
   "cell_type": "markdown",
   "id": "ed89cb8d-a8b3-4137-a812-6b7bb055c156",
   "metadata": {},
   "source": [
    "Below is a simulation of both solutions. We can see that the voltage and current of each capacitor are almost identical in both configurations, and all other voltages and currents are also very similar."
   ]
  },
  {
   "cell_type": "markdown",
   "id": "1ad0e355-fbc8-4676-ad96-450aee52db5e",
   "metadata": {},
   "source": [
    "You can donwload the LTSPICE file using this <a src =\".\\02_simulation\\03_Res_capacitor\\Comparaison_Res_Capas_Archi.asc\">Link</a>."
   ]
  },
  {
   "cell_type": "code",
   "execution_count": null,
   "id": "514050d5-6330-444f-931b-6ca9727ec1c8",
   "metadata": {},
   "outputs": [],
   "source": [
    "first_part_path = \"./03_figures/\"\n",
    "\n",
    "fig_counter = show_figure_pair_with_captions(\n",
    "    fig_counter, \n",
    "    \"Comparaison_Res_Capas_Archi.png\",\n",
    "    \"VRMS\",\n",
    "    first_part_path= first_part_path, \n",
    ")"
   ]
  },
  {
   "cell_type": "code",
   "execution_count": null,
   "id": "072f1626-91bc-464d-a1e3-971479e5db2f",
   "metadata": {},
   "outputs": [],
   "source": []
  },
  {
   "cell_type": "raw",
   "id": "5a38b542-0a46-4e18-abe7-5337b658958c",
   "metadata": {},
   "source": []
  },
  {
   "cell_type": "markdown",
   "id": "e6003b58-b118-4d0a-b927-36e3558266d8",
   "metadata": {},
   "source": [
    "## References <a class=\"title_class\" id=\"title_7\"></a>\n",
    "\n",
    "<a id=\"referencesID_03_1\"></a> [1] Hong Huang, *Designing an LLC Resonant\n",
    "Half-Bridge Power Converter*. Available: [https://bbs.dianyuan.com/upload/community/2013/12/01/1385867010-65563.pdf](https://bbs.dianyuan.com/upload/community/2013/12/01/1385867010-65563.pdf)\n",
    "\n",
    "<a id=\"referencesID_03_2\"></a> [2] \n",
    "[B40910 Aluminum electrolytic capacitors datasheet](https://product.tdk.com/system/files/dam/doc/product/capacitor/aluminum-electrolytic/hybrid-polymer/data_sheet/20/30/db/aec/b40910.pdf)\n",
    "\n",
    "<a id=\"referencesID_03_3\"></a> [3] \n",
    "[B3267*L Film Capacitors](https://product.tdk.com/system/files/dam/doc/product/capacitor/film/mkp_mfp/data_sheet/20/20/db/fc_2009/mkp_b32671l_672l.pdf)\n",
    "\n",
    "\n",
    "<a id=\"referencesID_03_4\"></a> [4] \n",
    "[EMHS Aluminum electrolytic capacitors datasheet](https://www.mouser.fr/datasheet/2/420/Chemi_Con_MHSRA_e-3313675.pdf)\n",
    "\n"
   ]
  },
  {
   "cell_type": "code",
   "execution_count": null,
   "id": "62827754-1e0d-481a-a526-d513674035f2",
   "metadata": {},
   "outputs": [],
   "source": []
  }
 ],
 "metadata": {
  "kernelspec": {
   "display_name": "kernel_venv1",
   "language": "python",
   "name": "kernel_venv1"
  },
  "language_info": {
   "codemirror_mode": {
    "name": "ipython",
    "version": 3
   },
   "file_extension": ".py",
   "mimetype": "text/x-python",
   "name": "python",
   "nbconvert_exporter": "python",
   "pygments_lexer": "ipython3",
   "version": "3.13.5"
  }
 },
 "nbformat": 4,
 "nbformat_minor": 5
}
