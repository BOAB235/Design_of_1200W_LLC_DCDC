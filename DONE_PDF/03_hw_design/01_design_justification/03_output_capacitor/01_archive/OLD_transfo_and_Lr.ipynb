{
 "cells": [
  {
   "cell_type": "code",
   "execution_count": 2,
   "id": "cb8bd4be-094b-42dc-a728-6538703dcc22",
   "metadata": {},
   "outputs": [],
   "source": [
    "# imPORT LIBRARIES \n",
    "import numpy as np\n",
    "import matplotlib.pyplot as plt\n",
    "from scipy.interpolate import interp1d\n",
    "from math import pi, sqrt\n",
    "import handcalcs.render\n",
    "import pandas as pd\n",
    "import json \n",
    "# !pip install handcalcs"
   ]
  },
  {
   "cell_type": "code",
   "execution_count": 3,
   "id": "200b3d8c-a7f7-48b0-a1ad-5aca6ddf2529",
   "metadata": {},
   "outputs": [],
   "source": [
    "# CONFIGURATIONS\n",
    "#help(handcalcs.set_option)\n",
    "handcalcs.set_option(\"latex_block_start\", \"$\")\n",
    "handcalcs.set_option(\"latex_block_end\", \"$\")\n",
    "handcalcs.set_option(\"math_environment_end\", \"aligned\")\n",
    "handcalcs.set_option(\"use_scientific_notation\",True)"
   ]
  },
  {
   "cell_type": "code",
   "execution_count": 4,
   "id": "2cb690f3-68fa-4600-b161-5255417ec4ba",
   "metadata": {},
   "outputs": [],
   "source": [
    "from localcode import *\n",
    "fig_counter=1"
   ]
  },
  {
   "cell_type": "markdown",
   "id": "140fba4f-bfc3-44a8-a1d5-6183464e65f5",
   "metadata": {},
   "source": [
    "# Resonance Tank Capacitor and Output Capacitor"
   ]
  },
  {
   "cell_type": "markdown",
   "id": "ea747bab-ffc0-49c9-8305-0bff02b42a39",
   "metadata": {},
   "source": [
    "## Inputs and claculated parameters"
   ]
  },
  {
   "cell_type": "code",
   "execution_count": 5,
   "id": "9f88d5df-d306-4b78-a6d1-3c0c2b713746",
   "metadata": {},
   "outputs": [
    {
     "data": {
      "text/html": [
       "<div>\n",
       "<style scoped>\n",
       "    .dataframe tbody tr th:only-of-type {\n",
       "        vertical-align: middle;\n",
       "    }\n",
       "\n",
       "    .dataframe tbody tr th {\n",
       "        vertical-align: top;\n",
       "    }\n",
       "\n",
       "    .dataframe thead th {\n",
       "        text-align: right;\n",
       "    }\n",
       "</style>\n",
       "<table border=\"1\" class=\"dataframe\">\n",
       "  <thead>\n",
       "    <tr style=\"text-align: right;\">\n",
       "      <th></th>\n",
       "      <th>Input datas</th>\n",
       "    </tr>\n",
       "  </thead>\n",
       "  <tbody>\n",
       "    <tr>\n",
       "      <th>V_In_min</th>\n",
       "      <td>360.0</td>\n",
       "    </tr>\n",
       "    <tr>\n",
       "      <th>V_In_nom</th>\n",
       "      <td>380.0</td>\n",
       "    </tr>\n",
       "    <tr>\n",
       "      <th>V_In_max</th>\n",
       "      <td>400.0</td>\n",
       "    </tr>\n",
       "    <tr>\n",
       "      <th>Vo_min</th>\n",
       "      <td>42.0</td>\n",
       "    </tr>\n",
       "    <tr>\n",
       "      <th>Vo_nom</th>\n",
       "      <td>48.0</td>\n",
       "    </tr>\n",
       "    <tr>\n",
       "      <th>Vo_max</th>\n",
       "      <td>54.0</td>\n",
       "    </tr>\n",
       "    <tr>\n",
       "      <th>Power</th>\n",
       "      <td>1200.0</td>\n",
       "    </tr>\n",
       "    <tr>\n",
       "      <th>f_nom</th>\n",
       "      <td>100000.0</td>\n",
       "    </tr>\n",
       "  </tbody>\n",
       "</table>\n",
       "</div>"
      ],
      "text/plain": [
       "          Input datas\n",
       "V_In_min        360.0\n",
       "V_In_nom        380.0\n",
       "V_In_max        400.0\n",
       "Vo_min           42.0\n",
       "Vo_nom           48.0\n",
       "Vo_max           54.0\n",
       "Power          1200.0\n",
       "f_nom        100000.0"
      ]
     },
     "metadata": {},
     "output_type": "display_data"
    },
    {
     "data": {
      "text/html": [
       "<div>\n",
       "<style scoped>\n",
       "    .dataframe tbody tr th:only-of-type {\n",
       "        vertical-align: middle;\n",
       "    }\n",
       "\n",
       "    .dataframe tbody tr th {\n",
       "        vertical-align: top;\n",
       "    }\n",
       "\n",
       "    .dataframe thead th {\n",
       "        text-align: right;\n",
       "    }\n",
       "</style>\n",
       "<table border=\"1\" class=\"dataframe\">\n",
       "  <thead>\n",
       "    <tr style=\"text-align: right;\">\n",
       "      <th></th>\n",
       "      <th>Output datas</th>\n",
       "    </tr>\n",
       "  </thead>\n",
       "  <tbody>\n",
       "    <tr>\n",
       "      <th>Lnc</th>\n",
       "      <td>3.000000e+00</td>\n",
       "    </tr>\n",
       "    <tr>\n",
       "      <th>Qec</th>\n",
       "      <td>5.500000e-01</td>\n",
       "    </tr>\n",
       "    <tr>\n",
       "      <th>Cr_nF</th>\n",
       "      <td>1.162090e+02</td>\n",
       "    </tr>\n",
       "    <tr>\n",
       "      <th>n</th>\n",
       "      <td>4.000000e+00</td>\n",
       "    </tr>\n",
       "    <tr>\n",
       "      <th>Lr_uH</th>\n",
       "      <td>2.179700e+01</td>\n",
       "    </tr>\n",
       "    <tr>\n",
       "      <th>Lm_uH</th>\n",
       "      <td>6.539200e+01</td>\n",
       "    </tr>\n",
       "    <tr>\n",
       "      <th>fsw_min</th>\n",
       "      <td>6.017000e+04</td>\n",
       "    </tr>\n",
       "    <tr>\n",
       "      <th>fsw_max</th>\n",
       "      <td>1.562200e+05</td>\n",
       "    </tr>\n",
       "    <tr>\n",
       "      <th>Im_rms</th>\n",
       "      <td>6.992000e+00</td>\n",
       "    </tr>\n",
       "    <tr>\n",
       "      <th>Io</th>\n",
       "      <td>2.500000e+01</td>\n",
       "    </tr>\n",
       "    <tr>\n",
       "      <th>Ioe_rms</th>\n",
       "      <td>7.636000e+00</td>\n",
       "    </tr>\n",
       "    <tr>\n",
       "      <th>Ios_rms</th>\n",
       "      <td>3.054500e+01</td>\n",
       "    </tr>\n",
       "    <tr>\n",
       "      <th>Ir_rms</th>\n",
       "      <td>1.035400e+01</td>\n",
       "    </tr>\n",
       "    <tr>\n",
       "      <th>L_second_uH</th>\n",
       "      <td>4.087000e+00</td>\n",
       "    </tr>\n",
       "    <tr>\n",
       "      <th>Re_nom</th>\n",
       "      <td>2.490100e+01</td>\n",
       "    </tr>\n",
       "    <tr>\n",
       "      <th>Re_110</th>\n",
       "      <td>2.263700e+01</td>\n",
       "    </tr>\n",
       "    <tr>\n",
       "      <th>Cr</th>\n",
       "      <td>1.162090e-07</td>\n",
       "    </tr>\n",
       "    <tr>\n",
       "      <th>Lr</th>\n",
       "      <td>2.179700e-05</td>\n",
       "    </tr>\n",
       "    <tr>\n",
       "      <th>Lm</th>\n",
       "      <td>6.539200e-05</td>\n",
       "    </tr>\n",
       "  </tbody>\n",
       "</table>\n",
       "</div>"
      ],
      "text/plain": [
       "             Output datas\n",
       "Lnc          3.000000e+00\n",
       "Qec          5.500000e-01\n",
       "Cr_nF        1.162090e+02\n",
       "n            4.000000e+00\n",
       "Lr_uH        2.179700e+01\n",
       "Lm_uH        6.539200e+01\n",
       "fsw_min      6.017000e+04\n",
       "fsw_max      1.562200e+05\n",
       "Im_rms       6.992000e+00\n",
       "Io           2.500000e+01\n",
       "Ioe_rms      7.636000e+00\n",
       "Ios_rms      3.054500e+01\n",
       "Ir_rms       1.035400e+01\n",
       "L_second_uH  4.087000e+00\n",
       "Re_nom       2.490100e+01\n",
       "Re_110       2.263700e+01\n",
       "Cr           1.162090e-07\n",
       "Lr           2.179700e-05\n",
       "Lm           6.539200e-05"
      ]
     },
     "metadata": {},
     "output_type": "display_data"
    }
   ],
   "source": [
    "with open(\"../01_llc_tank/04_outputs/inp_datas.json\", \"r\", encoding=\"utf-8\") as f:\n",
    "    inp_datas = json.load(f)\n",
    "#print(\"Input datas:\")\n",
    "#print(\"=\"*20)\n",
    "#display(inp_datas)\n",
    "S= pd.Series(inp_datas, name = \"Input datas\").to_frame()\n",
    "display(S)\n",
    "\n",
    "with open(\"../01_llc_tank/04_outputs/out_results.json\", \"r\", encoding=\"utf-8\") as f:\n",
    "    out_datas = json.load(f)\n",
    "#print(\"Output datas:\")\n",
    "#print(\"=\"*20)\n",
    "#display(out_datas)\n",
    "\n",
    "S= pd.Series(out_datas, name = \"Output datas\").to_frame()\n",
    "display(S)\n",
    "\n",
    "\n",
    "# Load variables \n",
    "for key, value in inp_datas.items():\n",
    "    globals()[key] = value\n",
    "for key, value in out_datas.items():\n",
    "    globals()[key] = value"
   ]
  },
  {
   "cell_type": "markdown",
   "id": "5c21334f-c560-4d48-b0af-67c381955562",
   "metadata": {},
   "source": [
    "## Output capacitor Co"
   ]
  },
  {
   "cell_type": "markdown",
   "id": "66a7154e-5a10-44de-b28f-480e21b3598d",
   "metadata": {},
   "source": [
    "### Formulas"
   ]
  },
  {
   "cell_type": "markdown",
   "id": "8124fe64-29ab-4024-86c5-e21323793c1e",
   "metadata": {},
   "source": [
    "For a resistive load, the output capacitor is determined by\n",
    "$$\n",
    "C_o \\geq C_{o_{min}} = \\frac{I_o}{8 \\cdot f_{sw} \\cdot \\Delta V_{out}}\n",
    "$$\n",
    "\n",
    "Where:\n",
    "\n",
    "- $C_o$ : Output capacitance (Farads, F)  \n",
    "- $I_o$ : Output load current (Amperes, A)  \n",
    "- $f_{sw}$ : Switching frequency of the converter (Hertz, Hz)  \n",
    "- $\\Delta V_{out}$ : Maximum allowed output voltage ripple (Volts, V)  \n",
    "$$ESR_{max} = \\frac{\\Delta V_{out}}{I_{rect\\_peak}} = \\frac{\\Delta V_{out}}{\\frac{\\pi}{4} \\cdot I_o\\cdot{2}}  $$\n",
    "$$I_{C_o} = I_o \\sqrt{\\frac{\\pi^2}{8} - 1}$$\n",
    "\n",
    "Where:\n",
    "\n",
    "- $I_{C_o}$ : RMS current of the capacitor @ f_sw = f_nom  \n",
    " \n",
    "See page 26, 27 [\\[1\\]](#referencesID_03_1).\n",
    "<br> By default, you can found all formula of this chapeter in the same ref "
   ]
  },
  {
   "cell_type": "markdown",
   "id": "3e35b1dc-f78c-49de-98b5-ba4e53695ea7",
   "metadata": {},
   "source": [
    "### Numerical Implementation of the Formulas"
   ]
  },
  {
   "cell_type": "markdown",
   "id": "fb6e6a13-6da8-4d0e-9afb-ba5d4b6b5b84",
   "metadata": {},
   "source": [
    "**We must use fsw_min to the worst case**"
   ]
  },
  {
   "cell_type": "code",
   "execution_count": 6,
   "id": "03984c6a-ba81-4f56-a30e-1332d6b3b7b7",
   "metadata": {},
   "outputs": [
    {
     "data": {
      "text/latex": [
       "$\n",
       "\\begin{aligned}\n",
       "\\mathrm{Io} &= 25.000 \\; \\;\\textrm{(A)}\n",
       "\\\\[10pt]\n",
       "\\mathrm{fsw}_{min} &= 60170.000 \\; \\;\\textrm{(Hz)}\n",
       "\\\\[10pt]\n",
       "\\mathrm{DV} &= 0.250 \\; \\;\\textrm{(vpp)}\n",
       "\\\\[10pt]\n",
       "\\mathrm{Co}_{min_{uF}} &= 1 \\times 10 ^ {6} \\cdot \\frac{ \\mathrm{Io} }{ 8 \\cdot \\mathrm{fsw}_{min} \\cdot \\mathrm{DV} }  = 1 \\times 10 ^ {6} \\cdot \\frac{ 25.000 }{ 8 \\cdot 60170.000 \\cdot 0.250 } &= 207.745 \\; \\;\\textrm{(uF)}\n",
       "\\\\[10pt]\n",
       "\\mathrm{ESR}_{max_{m}} &= 1 \\times 10 ^ {3} \\cdot \\frac{ \\mathrm{DV} }{ \\mathrm{Io} \\cdot \\frac{ \\pi }{ 2 } }  = 1 \\times 10 ^ {3} \\cdot \\frac{ 0.250 }{ 25.000 \\cdot \\frac{ 3.142 }{ 2 } } &= 6.366 \\; \\;\\textrm{(mΩ)}\n",
       "\\\\[10pt]\n",
       "I_{Co} &= \\mathrm{Io} \\cdot \\sqrt { \\frac{ \\left( \\pi \\right) ^{ 2 } }{ 8 } - 1 }  = 25.000 \\cdot \\sqrt { \\frac{ \\left( 3.142 \\right) ^{ 2 } }{ 8 } - 1 } &= 12.086 \\; \\;\\textrm{(Arms)}\n",
       "\\end{aligned}\n",
       "$"
      ],
      "text/plain": [
       "<IPython.core.display.Latex object>"
      ]
     },
     "metadata": {},
     "output_type": "display_data"
    }
   ],
   "source": [
    "%%render\n",
    "Io # A\n",
    "fsw_min # Hz\n",
    "DV = 0.25 # vpp\n",
    "Co_min_uF = 1e6*Io/(8*fsw_min*DV ) # uF\n",
    "ESR_max_m = 1e3*DV /(Io*pi/2) # mΩ \n",
    "I_Co= Io*sqrt(pi**2/8-1) # Arms"
   ]
  },
  {
   "cell_type": "code",
   "execution_count": null,
   "id": "403d3bf7-bc34-4c60-a79e-b0efdbe25afa",
   "metadata": {},
   "outputs": [],
   "source": []
  },
  {
   "cell_type": "markdown",
   "id": "9ad5f50a-9789-4f57-9a74-f7dc23731c70",
   "metadata": {},
   "source": [
    "### First proposition"
   ]
  },
  {
   "cell_type": "markdown",
   "id": "f32e3628-488d-4aee-ab48-0d39939984af",
   "metadata": {},
   "source": [
    "B40910A8127M000 aluminum electrolytic capacitors with Temp_max = 150°C, Below a screenshoot of the datasheet [\\[2\\]](#referencesID_03_2)."
   ]
  },
  {
   "cell_type": "code",
   "execution_count": 7,
   "id": "7b5779ad-6740-48ff-a07c-76712489b478",
   "metadata": {},
   "outputs": [
    {
     "data": {
      "text/html": [
       "\n",
       "        <div style=\"width: 19cm; display: flex;\">\n",
       "          <div style=\"width: 19cm; text-align: center;\">\n",
       "            <img src=\"./03_figures/B40910.png\" style=\"width: 19cm;\">\n",
       "            <div style=\"width: 9cm; word-wrap: break-word;\">\n",
       "                <b>Figure 1:</b> VRMS\n",
       "            </div>\n",
       "          </div>\n",
       "          <div style=\"width: 1cm;\"></div>\n",
       "          <div style=\"width: 9cm; text-align: center;\">\n",
       "\n",
       "          </div>\n",
       "        </div>\n",
       "        <br>\n",
       "        "
      ],
      "text/plain": [
       "<IPython.core.display.HTML object>"
      ]
     },
     "metadata": {},
     "output_type": "display_data"
    }
   ],
   "source": [
    "first_part_path = \"./03_figures/\"\n",
    "\n",
    "fig_counter = show_figure_pair_with_captions(\n",
    "    fig_counter, \n",
    "    \"B40910.png\",\n",
    "    \"VRMS\",\n",
    "    first_part_path= first_part_path, \n",
    ")"
   ]
  },
  {
   "cell_type": "markdown",
   "id": "854ac887-9998-447c-a40b-c0d6a757a969",
   "metadata": {},
   "source": [
    "Let's start with a configuration of 5 capacitors in parallel"
   ]
  },
  {
   "cell_type": "code",
   "execution_count": 8,
   "id": "bf8c2381-0d71-473a-99f0-70c00b67042e",
   "metadata": {},
   "outputs": [
    {
     "data": {
      "text/latex": [
       "$\n",
       "\\begin{aligned}\n",
       "\\mathrm{Nb}_{capa} &= 5 \\; \n",
       "\\\\[10pt]\n",
       "C_{capa_{nom}} &= 120 \\; \\;\\textrm{(uF)}\n",
       "\\\\[10pt]\n",
       "\\mathrm{Margin} &= 20 \\; \\;\\textrm{(\\%)}\n",
       "\\\\[10pt]\n",
       "C_{capa} &= C_{capa_{nom}} \\cdot \\left( 1 - \\frac{ \\mathrm{Margin} }{ 100 } \\right)  = 120 \\cdot \\left( 1 - \\frac{ 20 }{ 100 } \\right) &= 96.000 \\; \\;\\textrm{(uF, Worst case)}\n",
       "\\\\[10pt]\n",
       "C_{eq} &= C_{capa} \\cdot \\mathrm{Nb}_{capa}  = 96.000 \\cdot 5 &= 480.000 \\; \\;\\textrm{(uF > 208uF ok)}\n",
       "\\\\[10pt]\n",
       "\\mathrm{ESR}_{capa} &= 17 \\; \\;\\textrm{(Ω @ 100kHz)}\n",
       "\\\\[10pt]\n",
       "\\mathrm{ESR}_{eq} &= \\frac{ \\mathrm{ESR}_{capa} }{ \\mathrm{Nb}_{capa} }  = \\frac{ 17 }{ 5 } &= 3.400 \\; \\;\\textrm{(Ω < 6.36m OK)}\n",
       "\\\\[10pt]\n",
       "\\mathrm{Icapa}_{max} &= 4.600 \\; \n",
       "\\\\[10pt]\n",
       "\\mathrm{Ieq}_{max} &= \\mathrm{Icapa}_{max} \\cdot \\mathrm{Nb}_{capa}  = 4.600 \\cdot 5 &= 23.000 \\; \\;\\textrm{(@ Arms @ 125°C 100kHz > 12.08Arms ok)}\n",
       "\\end{aligned}\n",
       "$"
      ],
      "text/plain": [
       "<IPython.core.display.Latex object>"
      ]
     },
     "metadata": {},
     "output_type": "display_data"
    }
   ],
   "source": [
    "%%render \n",
    "#4 parallels capascitor\n",
    "Nb_capa= 5\n",
    "C_capa_nom = 120 # uF\n",
    "Margin = 20 #\\%\n",
    "C_capa = C_capa_nom*(1-Margin/100)# uF, Worst case \n",
    "C_eq = C_capa*Nb_capa # uF > 208uF ok\n",
    "ESR_capa= 17 # Ω @ 100kHz\n",
    "\n",
    "ESR_eq = ESR_capa/Nb_capa # Ω < 6.36m OK\n",
    "Icapa_max = 4.6\n",
    "Ieq_max = Icapa_max *Nb_capa  #  @ Arms @ 125°C 100kHz > 12.08Arms ok"
   ]
  },
  {
   "cell_type": "markdown",
   "id": "e5b7f66d-962d-4e10-8801-db45246edecd",
   "metadata": {},
   "source": [
    "**Voltage ripples**"
   ]
  },
  {
   "cell_type": "code",
   "execution_count": 9,
   "id": "9a4d0a9c-a890-471d-bb94-04fd6135c211",
   "metadata": {},
   "outputs": [
    {
     "data": {
      "text/latex": [
       "$\n",
       "\\begin{aligned}\n",
       "\\Delta_{V_{out}} &= \\frac{ \\mathrm{Io} }{ 8 \\cdot \\mathrm{fsw}_{min} \\cdot C_{eq} \\cdot 1 \\times 10 ^ {-6} }  = \\frac{ 25.000 }{ 8 \\cdot 60170.000 \\cdot 480.000 \\cdot 1 \\times 10 ^ {-6} } &= 0.108  \n",
       "\\end{aligned}\n",
       "$"
      ],
      "text/plain": [
       "<IPython.core.display.Latex object>"
      ]
     },
     "metadata": {},
     "output_type": "display_data"
    }
   ],
   "source": [
    "%%render \n",
    "Delta_V_out = Io/(8*fsw_min*C_eq*1e-6 )"
   ]
  },
  {
   "cell_type": "markdown",
   "id": "39069d05-33c5-40e0-a1db-678d5a510c6e",
   "metadata": {},
   "source": [
    "#### Self heating"
   ]
  },
  {
   "cell_type": "markdown",
   "id": "a7c4020e-9931-4a2e-893f-1e5ad41f4d57",
   "metadata": {},
   "source": [
    "**Power Dissipation of Each Capacitor**"
   ]
  },
  {
   "cell_type": "code",
   "execution_count": 10,
   "id": "0d1b51d9-13fb-4052-a100-5e06297470fc",
   "metadata": {},
   "outputs": [
    {
     "data": {
      "text/latex": [
       "$\n",
       "\\begin{aligned}\n",
       "I_{each_{capa}} &= \\frac{ I_{Co} }{ \\mathrm{Nb}_{capa} }  = \\frac{ 12.086 }{ 5 } &= 2.417  \n",
       "\\\\[10pt]\n",
       "P_{selfHeating} &= \\mathrm{ESR}_{capa} \\cdot 1 \\times 10 ^ {-3} \\cdot \\left( I_{each_{capa}} \\right) ^{ 2 } \\\\&= 17 \\cdot 1 \\times 10 ^ {-3} \\cdot \\left( 2.417 \\right) ^{ 2 } \\\\&= 0.099 \\; \\;\\textrm{(W)}\\\\[10pt]\n",
       "\\end{aligned}\n",
       "$"
      ],
      "text/plain": [
       "<IPython.core.display.Latex object>"
      ]
     },
     "metadata": {},
     "output_type": "display_data"
    }
   ],
   "source": [
    "%%render \n",
    "I_each_capa= I_Co/Nb_capa\n",
    "P_selfHeating = ESR_capa*1e-3*I_each_capa**2 # W"
   ]
  },
  {
   "cell_type": "code",
   "execution_count": null,
   "id": "76aa37f0-9165-4ef1-a8ce-8c3e0f08bc23",
   "metadata": {},
   "outputs": [],
   "source": []
  },
  {
   "cell_type": "markdown",
   "id": "6a0e92cb-813e-44ad-b7a5-7ce5cf65fc67",
   "metadata": {},
   "source": [
    "**Estimation of Thermal Resistance Rth**"
   ]
  },
  {
   "cell_type": "code",
   "execution_count": 11,
   "id": "8c965ab5-1547-44d9-b185-035a0a90cbac",
   "metadata": {},
   "outputs": [
    {
     "data": {
      "text/latex": [
       "$\n",
       "\\begin{aligned}\n",
       "\\Delta_{T} &= 150 - 125 &= 25 \\; \\;\\textrm{(°C)}\n",
       "\\\\[10pt]\n",
       "\\mathrm{ESR} &= 0.017 \\; \n",
       "\\\\[10pt]\n",
       "I &= 4.600 \\; \\;\\textrm{(Arms)}\n",
       "\\\\[10pt]\n",
       "P_{dissip} &= \\mathrm{ESR} \\cdot \\left( I \\right) ^{ 2 }  = 0.017 \\cdot \\left( 4.600 \\right) ^{ 2 } &= 0.360 \\; \\;\\textrm{(W)}\n",
       "\\\\[10pt]\n",
       "R_{th} &= \\frac{ \\Delta_{T} }{ P_{dissip} }  = \\frac{ 25 }{ 0.360 } &= 69.498 \\; \\;\\textrm{(°C/W)}\n",
       "\\end{aligned}\n",
       "$"
      ],
      "text/plain": [
       "<IPython.core.display.Latex object>"
      ]
     },
     "metadata": {},
     "output_type": "display_data"
    }
   ],
   "source": [
    "%%render \n",
    "# Estimation or Rth \n",
    "\n",
    "# @100Khz and 125°C Iac,R I=4.6A\n",
    "# 100KHZ 20°C ESR = 0.017 Ohm \n",
    "# Max T = 150°C \n",
    "Delta_T= 150-125 # °C\n",
    "ESR = 17e-3\n",
    "I = 4.6 # Arms\n",
    "P_dissip= ESR*I**2 # W\n",
    "R_th = Delta_T/P_dissip # °C/W"
   ]
  },
  {
   "cell_type": "markdown",
   "id": "5751fa15-2a13-431b-b177-448c46cc7140",
   "metadata": {},
   "source": [
    "**The self heating estimation and the max ambiant temp**"
   ]
  },
  {
   "cell_type": "code",
   "execution_count": null,
   "id": "fd1d5fae-9307-4b61-9539-f7d58c494d4c",
   "metadata": {},
   "outputs": [],
   "source": []
  },
  {
   "cell_type": "code",
   "execution_count": 12,
   "id": "d7e360d2-5cdf-481a-bb2b-79a379e2d9d0",
   "metadata": {},
   "outputs": [
    {
     "data": {
      "text/latex": [
       "$\n",
       "\\begin{aligned}\n",
       "\\Delta_{T} &= P_{selfHeating} \\cdot R_{th}  = 0.099 \\cdot 69.498 &= 6.903 \\; \\;\\textrm{(°C => low delta temp)}\n",
       "\\\\[10pt]\n",
       "\\mathrm{Margin} &= 30 \\; \\;\\textrm{(°C)}\n",
       "\\\\[10pt]\n",
       "T_{max} &= 150 \\; \n",
       "\\\\[10pt]\n",
       "T_{amb_{max}} &= T_{max} - \\Delta_{T} - \\mathrm{Margin}  = 150 - 6.903 - 30 &= 113.097 \\; \\;\\textrm{(°C)}\n",
       "\\end{aligned}\n",
       "$"
      ],
      "text/plain": [
       "<IPython.core.display.Latex object>"
      ]
     },
     "metadata": {},
     "output_type": "display_data"
    }
   ],
   "source": [
    "%%render \n",
    "# self heating \n",
    "Delta_T= P_selfHeating*R_th # °C => low delta temp\n",
    "Margin = 30 # °C \n",
    "T_max = 150\n",
    "T_amb_max = T_max -Delta_T-Margin  # °C "
   ]
  },
  {
   "cell_type": "markdown",
   "id": "5ac87779-bd08-4508-a5af-62d3c61655d2",
   "metadata": {},
   "source": [
    "**Voltage margin**"
   ]
  },
  {
   "cell_type": "code",
   "execution_count": 13,
   "id": "16016bea-19f1-41db-bc6b-0bfcaaa19014",
   "metadata": {},
   "outputs": [
    {
     "data": {
      "text/latex": [
       "$\n",
       "\\begin{aligned}\n",
       "\\mathrm{Vo}_{max} &= 54.000 \\; \\;\\textrm{(VDC)}\n",
       "\\\\[10pt]\n",
       "V_{max_{datasheet}} &= 63 \\; \\;\\textrm{(VDC)}\n",
       "\\\\[10pt]\n",
       "\\mathrm{Voltage}_{Margin} &= 100 \\cdot \\frac{ V_{max_{datasheet}} - \\mathrm{Vo}_{max} }{ V_{max_{datasheet}} }  = 100 \\cdot \\frac{ 63 - 54.000 }{ 63 } &= 14.286 \\; \\;\\textrm{(\\%)}\n",
       "\\end{aligned}\n",
       "$"
      ],
      "text/plain": [
       "<IPython.core.display.Latex object>"
      ]
     },
     "metadata": {},
     "output_type": "display_data"
    }
   ],
   "source": [
    "%%render  \n",
    "Vo_max # VDC\n",
    "V_max_datasheet = 63 # VDC\n",
    "Voltage_Margin =  100*(V_max_datasheet-Vo_max) /V_max_datasheet # \\%"
   ]
  },
  {
   "cell_type": "markdown",
   "id": "10d09274-8937-45e0-8beb-b62f1d97b134",
   "metadata": {},
   "source": [
    "This solution is acceptable, but the voltage margin is limited."
   ]
  },
  {
   "cell_type": "code",
   "execution_count": null,
   "id": "8b005f04-3fb5-4af4-bd5f-99af488777b1",
   "metadata": {},
   "outputs": [],
   "source": []
  },
  {
   "cell_type": "code",
   "execution_count": 14,
   "id": "bffdd6b8-6894-4387-8fd3-4203c5a6bb94",
   "metadata": {},
   "outputs": [],
   "source": [
    "dic_capa1= {}\n",
    "for x in \"C_capa,ESR_eq,C_eq,Ieq_max,Nb_capa,P_selfHeating,T_amb_max,Voltage_Margin,Delta_V_out\".split(\",\"):\n",
    "    dic_capa1[x]= eval(x)"
   ]
  },
  {
   "cell_type": "markdown",
   "id": "d25033a7-e388-4c71-9a2a-7bf83ce84699",
   "metadata": {},
   "source": [
    "### Second proposition"
   ]
  },
  {
   "cell_type": "markdown",
   "id": "8a2e7261-2282-4088-a2ce-de7a48a7b2e2",
   "metadata": {},
   "source": [
    "EMHS101ARA331MMN0S aluminum electrolytic capacitors with Temp_max = 150°C, Below a screenshoot of the datasheet [\\[4\\]](#referencesID_03_4)."
   ]
  },
  {
   "cell_type": "code",
   "execution_count": 15,
   "id": "6e1fa730-3752-4d71-83f7-8891a14ffd91",
   "metadata": {},
   "outputs": [
    {
     "data": {
      "text/html": [
       "\n",
       "        <div style=\"width: 19cm; display: flex;\">\n",
       "          <div style=\"width: 19cm; text-align: center;\">\n",
       "            <img src=\"./03_figures/EMHS.png\" style=\"width: 19cm;\">\n",
       "            <div style=\"width: 9cm; word-wrap: break-word;\">\n",
       "                <b>Figure 2:</b> VRMS\n",
       "            </div>\n",
       "          </div>\n",
       "          <div style=\"width: 1cm;\"></div>\n",
       "          <div style=\"width: 9cm; text-align: center;\">\n",
       "\n",
       "          </div>\n",
       "        </div>\n",
       "        <br>\n",
       "        "
      ],
      "text/plain": [
       "<IPython.core.display.HTML object>"
      ]
     },
     "metadata": {},
     "output_type": "display_data"
    }
   ],
   "source": [
    "first_part_path = \"./03_figures/\"\n",
    "\n",
    "fig_counter = show_figure_pair_with_captions(\n",
    "    fig_counter, \n",
    "    \"EMHS.png\",\n",
    "    \"VRMS\" , \n",
    "    first_part_path= first_part_path, \n",
    ")"
   ]
  },
  {
   "cell_type": "markdown",
   "id": "97987c9d-c9e4-4233-a172-de503fd6da20",
   "metadata": {},
   "source": [
    "Let's start with a configuration of 5 capacitors in parallel"
   ]
  },
  {
   "cell_type": "code",
   "execution_count": 16,
   "id": "1a1e49ce-83c8-47af-8acb-60ded94b11d6",
   "metadata": {},
   "outputs": [
    {
     "data": {
      "text/latex": [
       "$\n",
       "\\begin{aligned}\n",
       "\\mathrm{Nb}_{capa} &= 10 \\; \n",
       "\\\\[10pt]\n",
       "C_{capa_{nom}} &= 330 \\; \\;\\textrm{(uF)}\n",
       "\\\\[10pt]\n",
       "\\mathrm{Margin} &= 20 \\; \\;\\textrm{(\\%)}\n",
       "\\\\[10pt]\n",
       "C_{capa} &= C_{capa_{nom}} \\cdot \\left( 1 - \\frac{ \\mathrm{Margin} }{ 100 } \\right)  = 330 \\cdot \\left( 1 - \\frac{ 20 }{ 100 } \\right) &= 264.000 \\; \\;\\textrm{(uF, Worst case)}\n",
       "\\\\[10pt]\n",
       "C_{eq} &= C_{capa} \\cdot \\mathrm{Nb}_{capa}  = 264.000 \\cdot 10 &= 2640.000 \\; \\;\\textrm{(uF > 208uF ok)}\n",
       "\\\\[10pt]\n",
       "\\mathrm{ESR}_{capa} &= 59 \\; \\;\\textrm{(Ω @ 100kHz)}\n",
       "\\\\[10pt]\n",
       "\\mathrm{ESR}_{eq} &= \\frac{ \\mathrm{ESR}_{capa} }{ \\mathrm{Nb}_{capa} }  = \\frac{ 59 }{ 10 } &= 5.900 \\; \\;\\textrm{(Ω < 6.36m OK)}\n",
       "\\\\[10pt]\n",
       "\\mathrm{Icapa}_{max} &= 2.300 \\; \n",
       "\\\\[10pt]\n",
       "\\mathrm{Ieq}_{max} &= \\mathrm{Icapa}_{max} \\cdot \\mathrm{Nb}_{capa}  = 2.300 \\cdot 10 &= 23.000 \\; \\;\\textrm{(@ Arms @ 125°C 100kHz > 12.08Arms ok)}\n",
       "\\end{aligned}\n",
       "$"
      ],
      "text/plain": [
       "<IPython.core.display.Latex object>"
      ]
     },
     "metadata": {},
     "output_type": "display_data"
    }
   ],
   "source": [
    "%%render \n",
    "#4 parallels capascitor\n",
    "Nb_capa= 10\n",
    "C_capa_nom = 330 # uF\n",
    "Margin = 20 #\\%\n",
    "C_capa = C_capa_nom*(1-Margin/100)# uF, Worst case \n",
    "C_eq = C_capa*Nb_capa # uF > 208uF ok\n",
    "ESR_capa= 59 # Ω @ 100kHz\n",
    "\n",
    "ESR_eq = ESR_capa/Nb_capa # Ω < 6.36m OK\n",
    "Icapa_max = 2.3\n",
    "Ieq_max = Icapa_max *Nb_capa  #  @ Arms @ 125°C 100kHz > 12.08Arms ok"
   ]
  },
  {
   "cell_type": "markdown",
   "id": "44aa49ae-a69c-4ec8-abc9-829ec7ccc9da",
   "metadata": {},
   "source": [
    "**Voltage ripples**"
   ]
  },
  {
   "cell_type": "code",
   "execution_count": 17,
   "id": "b96d25ea-3aef-4fd0-81f4-ffc0bdc01f10",
   "metadata": {},
   "outputs": [
    {
     "data": {
      "text/latex": [
       "$\n",
       "\\begin{aligned}\n",
       "\\Delta_{V_{out}} &= \\frac{ \\mathrm{Io} }{ 8 \\cdot \\mathrm{fsw}_{min} \\cdot C_{eq} \\cdot 1 \\times 10 ^ {-6} }  = \\frac{ 25.000 }{ 8 \\cdot 60170.000 \\cdot 2640.000 \\cdot 1 \\times 10 ^ {-6} } &= 0.020  \n",
       "\\end{aligned}\n",
       "$"
      ],
      "text/plain": [
       "<IPython.core.display.Latex object>"
      ]
     },
     "metadata": {},
     "output_type": "display_data"
    }
   ],
   "source": [
    "%%render \n",
    "Delta_V_out = Io/(8*fsw_min*C_eq*1e-6 )"
   ]
  },
  {
   "cell_type": "markdown",
   "id": "4d04d927-2107-446f-aba4-866a9c7f5bb4",
   "metadata": {},
   "source": [
    "#### Self heating"
   ]
  },
  {
   "cell_type": "markdown",
   "id": "00b37314-19fd-4be3-b085-b2ea7038d14b",
   "metadata": {},
   "source": [
    "**Power Dissipation of Each Capacitor**"
   ]
  },
  {
   "cell_type": "code",
   "execution_count": 18,
   "id": "7ffaba01-2261-49c4-b8e7-3f97ccd94a4f",
   "metadata": {},
   "outputs": [
    {
     "data": {
      "text/latex": [
       "$\n",
       "\\begin{aligned}\n",
       "I_{each_{capa}} &= \\frac{ I_{Co} }{ \\mathrm{Nb}_{capa} }  = \\frac{ 12.086 }{ 10 } &= 1.209  \n",
       "\\\\[10pt]\n",
       "P_{selfHeating} &= \\mathrm{ESR}_{capa} \\cdot 1 \\times 10 ^ {-3} \\cdot \\left( I_{each_{capa}} \\right) ^{ 2 } \\\\&= 59 \\cdot 1 \\times 10 ^ {-3} \\cdot \\left( 1.209 \\right) ^{ 2 } \\\\&= 0.086 \\; \\;\\textrm{(W)}\\\\[10pt]\n",
       "\\end{aligned}\n",
       "$"
      ],
      "text/plain": [
       "<IPython.core.display.Latex object>"
      ]
     },
     "metadata": {},
     "output_type": "display_data"
    }
   ],
   "source": [
    "%%render \n",
    "I_each_capa= I_Co/Nb_capa\n",
    "P_selfHeating = ESR_capa*1e-3*I_each_capa**2 # W"
   ]
  },
  {
   "cell_type": "markdown",
   "id": "804ce037-13c9-4e15-aa26-5f13a7c7eb8d",
   "metadata": {},
   "source": [
    "**Estimation of Thermal Resistance Rth**"
   ]
  },
  {
   "cell_type": "code",
   "execution_count": 19,
   "id": "7e987666-52da-4a9e-88ad-d8f176bd4390",
   "metadata": {},
   "outputs": [
    {
     "data": {
      "text/latex": [
       "$\n",
       "\\begin{aligned}\n",
       "\\Delta_{T} &= 150 - 125 &= 25 \\; \\;\\textrm{(°C)}\n",
       "\\\\[10pt]\n",
       "P_{dissip} &= \\mathrm{ESR}_{capa} \\cdot 1 \\times 10 ^ {-3} \\cdot \\left( \\mathrm{Icapa}_{max} \\right) ^{ 2 } \\\\&= 59 \\cdot 1 \\times 10 ^ {-3} \\cdot \\left( 2.300 \\right) ^{ 2 } \\\\&= 0.312 \\; \\;\\textrm{(W)}\\\\[10pt]\n",
       "\\\\[10pt]\n",
       "R_{th} &= \\frac{ \\Delta_{T} }{ P_{dissip} }  = \\frac{ 25 }{ 0.312 } &= 80.100 \\; \\;\\textrm{(°C/W)}\n",
       "\\end{aligned}\n",
       "$"
      ],
      "text/plain": [
       "<IPython.core.display.Latex object>"
      ]
     },
     "metadata": {},
     "output_type": "display_data"
    }
   ],
   "source": [
    "%%render \n",
    "# Estimation or Rth \n",
    "\n",
    "# @100Khz and 125°C Iac,R I=4.6A\n",
    "# 100KHZ 20°C ESR = 0.017 Ohm \n",
    "# Max T = 150°C \n",
    "Delta_T= 150-125 # °C\n",
    "P_dissip= ESR_capa*1e-3*Icapa_max **2 # W\n",
    "R_th = Delta_T/P_dissip # °C/W"
   ]
  },
  {
   "cell_type": "markdown",
   "id": "f703cc6b-12fa-4a57-be48-697d8fdc246b",
   "metadata": {},
   "source": [
    "**The self heating estimation and the max ambiant temp**"
   ]
  },
  {
   "cell_type": "code",
   "execution_count": 20,
   "id": "e8705c89-f97a-4df0-a23c-2b06778f285e",
   "metadata": {},
   "outputs": [
    {
     "data": {
      "text/latex": [
       "$\n",
       "\\begin{aligned}\n",
       "\\Delta_{T} &= P_{selfHeating} \\cdot R_{th}  = 0.086 \\cdot 80.100 &= 6.903 \\; \\;\\textrm{(°C => low delta temp)}\n",
       "\\\\[10pt]\n",
       "\\mathrm{Margin} &= 30 \\; \\;\\textrm{(°C)}\n",
       "\\\\[10pt]\n",
       "T_{max} &= 150 \\; \n",
       "\\\\[10pt]\n",
       "T_{amb_{max}} &= T_{max} - \\Delta_{T} - \\mathrm{Margin}  = 150 - 6.903 - 30 &= 113.097 \\; \\;\\textrm{(°C)}\n",
       "\\end{aligned}\n",
       "$"
      ],
      "text/plain": [
       "<IPython.core.display.Latex object>"
      ]
     },
     "metadata": {},
     "output_type": "display_data"
    }
   ],
   "source": [
    "%%render \n",
    "# self heating \n",
    "Delta_T= P_selfHeating*R_th # °C => low delta temp\n",
    "Margin = 30 # °C \n",
    "T_max = 150\n",
    "T_amb_max = T_max -Delta_T-Margin  # °C "
   ]
  },
  {
   "cell_type": "code",
   "execution_count": 21,
   "id": "7b10d422-a0ca-4ad2-82fc-50f27d366ed1",
   "metadata": {},
   "outputs": [
    {
     "data": {
      "text/latex": [
       "$\n",
       "\\begin{aligned}\n",
       "\\mathrm{Vo}_{max} &= 54.000 \\; \\;\\textrm{(VDC)}\n",
       "\\\\[10pt]\n",
       "V_{max_{datasheet}} &= 100 \\; \\;\\textrm{(VDC)}\n",
       "\\\\[10pt]\n",
       "\\mathrm{Voltage}_{Margin} &= 100 \\cdot \\frac{ V_{max_{datasheet}} - \\mathrm{Vo}_{max} }{ V_{max_{datasheet}} }  = 100 \\cdot \\frac{ 100 - 54.000 }{ 100 } &= 46.000 \\; \\;\\textrm{(\\%)}\n",
       "\\end{aligned}\n",
       "$"
      ],
      "text/plain": [
       "<IPython.core.display.Latex object>"
      ]
     },
     "metadata": {},
     "output_type": "display_data"
    }
   ],
   "source": [
    "%%render  \n",
    "Vo_max # VDC\n",
    "V_max_datasheet = 100 # VDC\n",
    "Voltage_Margin =  100*(V_max_datasheet-Vo_max) /V_max_datasheet # \\%"
   ]
  },
  {
   "cell_type": "code",
   "execution_count": 22,
   "id": "7b564af1-3ad2-4897-9456-3df220942de7",
   "metadata": {},
   "outputs": [],
   "source": [
    "dic_capa2= {}\n",
    "for x in \"C_capa,ESR_eq,C_eq,Ieq_max,Nb_capa,P_selfHeating,T_amb_max,Voltage_Margin,Delta_V_out\".split(\",\"):\n",
    "    dic_capa2[x]= eval(x)"
   ]
  },
  {
   "cell_type": "markdown",
   "id": "c02fcc68-66d2-429f-9a23-dbd6aaaf7d07",
   "metadata": {},
   "source": [
    "### Comparaison"
   ]
  },
  {
   "cell_type": "code",
   "execution_count": 23,
   "id": "a05603cf-cb53-4e7e-82c2-b325f22b5a7f",
   "metadata": {},
   "outputs": [],
   "source": [
    "dic_capa1[\"VmaxDC\"]=63\n",
    "dic_capa2[\"VmaxDC\"]=100"
   ]
  },
  {
   "cell_type": "code",
   "execution_count": null,
   "id": "9f696778-5504-4c20-9484-9eefa671cd0d",
   "metadata": {},
   "outputs": [],
   "source": []
  },
  {
   "cell_type": "code",
   "execution_count": 24,
   "id": "2fd65c44-7117-4369-99e6-b08068b731db",
   "metadata": {},
   "outputs": [],
   "source": [
    "requirements= {\"ESR_eq\":ESR_max_m, \"C_eq\":Co_min_uF, \"Ieq_max\":I_Co, \n",
    "               \"VmaxDC\":Vo_max, \"Delta_V_out\":DV}"
   ]
  },
  {
   "cell_type": "code",
   "execution_count": 25,
   "id": "767ef21b-d900-4389-b4da-c3e1463c1ba6",
   "metadata": {},
   "outputs": [
    {
     "data": {
      "text/html": [
       "<div>\n",
       "<style scoped>\n",
       "    .dataframe tbody tr th:only-of-type {\n",
       "        vertical-align: middle;\n",
       "    }\n",
       "\n",
       "    .dataframe tbody tr th {\n",
       "        vertical-align: top;\n",
       "    }\n",
       "\n",
       "    .dataframe thead th {\n",
       "        text-align: right;\n",
       "    }\n",
       "</style>\n",
       "<table border=\"1\" class=\"dataframe\">\n",
       "  <thead>\n",
       "    <tr style=\"text-align: right;\">\n",
       "      <th></th>\n",
       "      <th>requirements</th>\n",
       "      <th>Solutio1</th>\n",
       "      <th>Solutio2</th>\n",
       "    </tr>\n",
       "  </thead>\n",
       "  <tbody>\n",
       "    <tr>\n",
       "      <th>ESR_eq</th>\n",
       "      <td>6.37</td>\n",
       "      <td>3.40</td>\n",
       "      <td>5.90</td>\n",
       "    </tr>\n",
       "    <tr>\n",
       "      <th>C_eq</th>\n",
       "      <td>207.74</td>\n",
       "      <td>480.00</td>\n",
       "      <td>2640.00</td>\n",
       "    </tr>\n",
       "    <tr>\n",
       "      <th>Ieq_max</th>\n",
       "      <td>12.09</td>\n",
       "      <td>23.00</td>\n",
       "      <td>23.00</td>\n",
       "    </tr>\n",
       "    <tr>\n",
       "      <th>VmaxDC</th>\n",
       "      <td>54.00</td>\n",
       "      <td>63.00</td>\n",
       "      <td>100.00</td>\n",
       "    </tr>\n",
       "    <tr>\n",
       "      <th>Delta_V_out</th>\n",
       "      <td>0.25</td>\n",
       "      <td>0.11</td>\n",
       "      <td>0.02</td>\n",
       "    </tr>\n",
       "    <tr>\n",
       "      <th>C_capa</th>\n",
       "      <td>NaN</td>\n",
       "      <td>96.00</td>\n",
       "      <td>264.00</td>\n",
       "    </tr>\n",
       "    <tr>\n",
       "      <th>Nb_capa</th>\n",
       "      <td>NaN</td>\n",
       "      <td>5.00</td>\n",
       "      <td>10.00</td>\n",
       "    </tr>\n",
       "    <tr>\n",
       "      <th>P_selfHeating</th>\n",
       "      <td>NaN</td>\n",
       "      <td>0.10</td>\n",
       "      <td>0.09</td>\n",
       "    </tr>\n",
       "    <tr>\n",
       "      <th>T_amb_max</th>\n",
       "      <td>NaN</td>\n",
       "      <td>113.10</td>\n",
       "      <td>113.10</td>\n",
       "    </tr>\n",
       "    <tr>\n",
       "      <th>Voltage_Margin</th>\n",
       "      <td>NaN</td>\n",
       "      <td>14.29</td>\n",
       "      <td>46.00</td>\n",
       "    </tr>\n",
       "  </tbody>\n",
       "</table>\n",
       "</div>"
      ],
      "text/plain": [
       "                requirements  Solutio1  Solutio2\n",
       "ESR_eq                  6.37      3.40      5.90\n",
       "C_eq                  207.74    480.00   2640.00\n",
       "Ieq_max                12.09     23.00     23.00\n",
       "VmaxDC                 54.00     63.00    100.00\n",
       "Delta_V_out             0.25      0.11      0.02\n",
       "C_capa                   NaN     96.00    264.00\n",
       "Nb_capa                  NaN      5.00     10.00\n",
       "P_selfHeating            NaN      0.10      0.09\n",
       "T_amb_max                NaN    113.10    113.10\n",
       "Voltage_Margin           NaN     14.29     46.00"
      ]
     },
     "execution_count": 25,
     "metadata": {},
     "output_type": "execute_result"
    }
   ],
   "source": [
    "pd.DataFrame([requirements, dic_capa1, dic_capa2], \n",
    "             index= [\"requirements\",\"Solutio1\", \"Solutio2\"]).T.round(2)"
   ]
  },
  {
   "cell_type": "markdown",
   "id": "b235d498-5a5d-4bc1-9d1b-6cef42d85fe4",
   "metadata": {},
   "source": [
    "The margin in the first solution is limited (16% in the worst case). However, I propose we proceed with this option, given the number of parallel capacitors. Care must be taken in control to prevent any overshoot or transient voltage, especially when Vout is at Vout_max."
   ]
  },
  {
   "cell_type": "markdown",
   "id": "592b6259-19e4-4a97-97b5-c6f8654e8e99",
   "metadata": {},
   "source": [
    "## Transformer design"
   ]
  },
  {
   "cell_type": "code",
   "execution_count": 26,
   "id": "71abd726-76bf-447f-b85b-752a30271edd",
   "metadata": {},
   "outputs": [
    {
     "name": "stdout",
     "output_type": "stream",
     "text": [
      "Transormer parameters:\n"
     ]
    },
    {
     "data": {
      "text/plain": [
       "{'n': 4.0,\n",
       " 'Lm_uH': 65.392,\n",
       " 'fsw_min': 60170.0,\n",
       " 'fsw_max': 156220.0,\n",
       " 'Ir_rms': 10.354,\n",
       " 'Im_rms': 6.992,\n",
       " 'Ioe_rms': 7.636,\n",
       " 'Ios_rms': 30.545,\n",
       " 'L_second_uH': 4.087,\n",
       " 'Al_uH': 4.087}"
      ]
     },
     "metadata": {},
     "output_type": "display_data"
    }
   ],
   "source": [
    "params = ['n',  'Lm_uH', 'fsw_min', 'fsw_max', 'Ir_rms', 'Im_rms', 'Ioe_rms', 'Ios_rms', 'L_second_uH']\n",
    "\n",
    "dic_transfo= {x:out_datas[x] for x in params}\n",
    "Al = out_datas[\"Lm_uH\"]/out_datas[\"n\"]**2\n",
    "dic_transfo[\"Al_uH\"]= Al\n",
    "print(\"Transormer parameters:\")\n",
    "display(dic_transfo)"
   ]
  },
  {
   "cell_type": "markdown",
   "id": "a48b730f-73e0-4e6d-8795-6eb1aaaf1c3f",
   "metadata": {},
   "source": [
    "where: \n",
    "* `n`: Transformer turns ratio $ n = N_p / N_s $\n",
    "* `N_p = n` since `N_s= 1`\n",
    "* `Lm_uH`: Magnetizing inductance $ L_m $, sets magnetizing current and contributes to gain shaping\n",
    "* `fsw_min`: Minimum switching frequency $ f_{sw,\\min} $, corresponds to maximum load\n",
    "* `fsw_max`: Maximum switching frequency $ f_{sw,\\max} $, corresponds to no-load\n",
    "* `Ir_rms`: RMS current in the resonant tank inductor $ I_r = \\sqrt{I_m^2 + I_{oe}^2} $\n",
    "* `Im_rms`: RMS magnetizing current $ I_m $, flows through $ L_m $\n",
    "* `Ioe_rms`: RMS transferred current in the primary winding, represents reflected load current\n",
    "* `Ios_rms`: RMS current in the secondary winding $ I_{os} = I_{oe} \\cdot n $\n",
    "* `Al_uH`: Inductance per turn squared $ A_L $, used to compute turns: $ L = A_L \\cdot N^2 $\n"
   ]
  },
  {
   "cell_type": "markdown",
   "id": "f95ca23a-63ab-47ab-a609-deff475b93cb",
   "metadata": {},
   "source": [
    "**Bpeak formula**\n",
    "\n",
    "$$\n",
    "B_{peak} = \\frac{L_m \\cdot Im_{peak}}{N_p \\cdot A_e}= \\frac{L_m \\cdot \\sqrt{2} \\cdot  Im_{rms}}{N_p \\cdot A_{emin}}\n",
    "$$\n",
    "\n",
    "Where\n",
    "- `A_e` = effective core area (in m²)\n",
    "- `A_emin` = effective minimum core area (in m²)\n",
    "- `N_p` = primary turnes\n"
   ]
  },
  {
   "cell_type": "code",
   "execution_count": 27,
   "id": "dbd7bb1b-b104-487d-a851-cdf3944adb1c",
   "metadata": {},
   "outputs": [
    {
     "data": {
      "text/latex": [
       "$\n",
       "\\begin{aligned}\n",
       "\\mathrm{Al}_{nH} &= \\mathrm{Al} \\cdot 1 \\times 10 ^ {3}  = 4.087 \\cdot 1 \\times 10 ^ {3} &= 4087.000 \\; \\;\\textrm{(nH)}\n",
       "\\end{aligned}\n",
       "$"
      ],
      "text/plain": [
       "<IPython.core.display.Latex object>"
      ]
     },
     "metadata": {},
     "output_type": "display_data"
    }
   ],
   "source": [
    "%%render \n",
    "Al_nH= Al*1e3 # nH"
   ]
  },
  {
   "cell_type": "markdown",
   "id": "0f5bc3f3-b9f5-4d33-9c0c-8fda7756a2dd",
   "metadata": {},
   "source": [
    "**ELP 43/10/28 core**"
   ]
  },
  {
   "cell_type": "code",
   "execution_count": 28,
   "id": "58e4337a-1c07-454d-964f-144457b273e7",
   "metadata": {},
   "outputs": [
    {
     "data": {
      "text/latex": [
       "$\n",
       "\\begin{aligned}\n",
       "\\mathrm{Lm}_{uH} &= 65.392 \\; \n",
       "\\\\[10pt]\n",
       "\\mathrm{Np} &= 4.000 \\; \\;\\textrm{(turns)}\n",
       "\\\\[10pt]\n",
       "\\mathrm{Ae} &= 225 \\; \\;\\textrm{(mm2 see datasheet ELP 43/10/28)}\n",
       "\\\\[10pt]\n",
       "\\mathrm{Aemin} &= 217 \\; \\;\\textrm{(mm2 see datasheet ELP 43/10/28)}\n",
       "\\\\[10pt]\n",
       "\\mathrm{Im}_{rms} &= 6.992 \\; \\;\\textrm{(Arms)}\n",
       "\\\\[10pt]\n",
       "B_{peak} &= 1 \\times 10 ^ {3} \\cdot \\mathrm{Lm} \\cdot \\sqrt { 2 } \\cdot \\frac{ \\mathrm{Im}_{rms} }{ \\mathrm{Np} \\cdot \\mathrm{Aemin} \\cdot 1 \\times 10 ^ {-6} }  = 1 \\times 10 ^ {3} \\cdot 0.000 \\cdot \\sqrt { 2 } \\cdot \\frac{ 6.992 }{ 4.000 \\cdot 217 \\cdot 1 \\times 10 ^ {-6} } &= 744.940 \\; \\;\\textrm{(mT > Bs= 250mT NOK)}\n",
       "\\end{aligned}\n",
       "$"
      ],
      "text/plain": [
       "<IPython.core.display.Latex object>"
      ]
     },
     "metadata": {},
     "output_type": "display_data"
    }
   ],
   "source": [
    "%%render\n",
    "Lm_uH\n",
    "Np= n # turns \n",
    "Ae = 225 # mm2 see datasheet ELP 43/10/28\n",
    "Aemin = 217 # mm2 see datasheet ELP 43/10/28\n",
    "Im_rms # Arms\n",
    "B_peak = 1e3*Lm*sqrt(2)*Im_rms/(Np*Aemin*1e-6) # mT > Bs= 250mT NOK"
   ]
  },
  {
   "cell_type": "code",
   "execution_count": 29,
   "id": "1c1539a4-cf71-485f-9b0f-2e8cd16a1551",
   "metadata": {},
   "outputs": [
    {
     "name": "stdout",
     "output_type": "stream",
     "text": [
      "$\n",
      "\\begin{aligned}\n",
      "B_{peak} &= \\mathrm{Lm} \\cdot \\sqrt { 2 } \\cdot \\frac{ \\mathrm{Im}_{rms} }{ \\mathrm{Np} \\cdot \\mathrm{Aemin} }  = 0.000 \\cdot \\sqrt { 2 } \\cdot \\frac{ 6.992 }{ 4.000 \\cdot 217 } &= 0.000  \n",
      "\\end{aligned}\n",
      "$\n"
     ]
    }
   ],
   "source": [
    "%%tex \n",
    "B_peak = Lm*sqrt(2)*Im_rms/(Np*Aemin) "
   ]
  },
  {
   "cell_type": "markdown",
   "id": "1e3af5da-eb21-40b1-8abb-97ae437e13e5",
   "metadata": {},
   "source": [
    "Since the formulat of peak flux density is $\n",
    "\\begin{aligned}\n",
    "B_{peak} = \\mathrm{Lm} \\cdot \\sqrt { 2 } \\cdot \\frac{ \\mathrm{Im}_{rms} }{ \\mathrm{Np} \\cdot \\mathrm{Aemin} }   \n",
    "\\end{aligned}\n",
    "$\n",
    "We can reduct the peak by reducing the current or by reducing Lm or by increasing Np "
   ]
  },
  {
   "cell_type": "code",
   "execution_count": null,
   "id": "429bbe48-5800-49d8-921c-465170e1f30a",
   "metadata": {},
   "outputs": [],
   "source": []
  },
  {
   "cell_type": "markdown",
   "id": "855745ab-88dd-42d4-879a-ebd36c39de59",
   "metadata": {},
   "source": [
    "- **Formula (in terms of \\(A_L\\) and \\(A_L'\\)):**\n",
    "\n",
    "  $$\n",
    "  l_g = \\frac{\\mu_0 \\cdot \\mu_i \\cdot A_e}{A_L'} - l_e\n",
    "  $$\n",
    "\n",
    "- **Explanations:**\n",
    "\n",
    "  - \\(l_g\\): *air-gap length* (in meters) — the total non-magnetic gap you introduce.\n",
    "  - \\(\\mu_0\\): *vacuum permeability*, \\(4\\pi \\times 10^{-7}\\ \\mathrm{H/m}\\).\n",
    "  - \\(\\mu_i\\): *initial (ungapped) relative permeability*, unitless, from the core’s datasheet.\n",
    "  - \\(A_e\\): *effective cross-sectional area* of the core (in m²).\n",
    "  - \\(A_L'\\): *desired inductance-per-turn-squared* (in H per turn², i.e., \\(L/N^2\\)) after gapping.\n",
    "  - \\(l_e\\): *effective magnetic path length* of the core (in meters), from datasheet.\n"
   ]
  },
  {
   "cell_type": "markdown",
   "id": "58f40c4f-1f05-4bf4-94a4-b9ee6cbef9f1",
   "metadata": {},
   "source": [
    "$$\n",
    "A_{L}' = \\frac{A_L}{1 + \\mu_r \\,\\frac{L_g}{L_e}}\n",
    "$$\n",
    "\n",
    "$$\n",
    "L_g = \\frac{L_e}{\\mu_r} \\left( \\frac{A_L}{A_L'} - 1 \\right)\n",
    "$$\n",
    "\n",
    "Where:\n",
    "- \\( A_{L}' \\) : the corrected inductance factor (in nH or µH), after introducing the air gap\n",
    "- \\( A_L \\) : the initial inductance factor provided by the core manufacturer (in nH or µH)\n",
    "- \\( l_g \\) : the air gap length (in mm)\n",
    "- \\( L_e \\) : the effective magnetic path length of the core (in mm)\n",
    "\n",
    "This equation accounts for the effect of the air gap on the inductance. Increasing the air gap reduces the effective permeability, and thus reduces \\( A_{L}' \\).\n"
   ]
  },
  {
   "cell_type": "code",
   "execution_count": 30,
   "id": "447c095f-2330-4b65-91db-8f289b0bc634",
   "metadata": {},
   "outputs": [],
   "source": [
    "# https://www.tdk-electronics.tdk.com/inf/80/db/fer/elp_22_6_16.pdf\n",
    "# https://www.tdk-electronics.tdk.com/inf/80/db/fer/elp_32_6_20.pdf\n",
    "# https://www.tdk-electronics.tdk.com/inf/80/db/fer/elp_38_8_25.pdf\n",
    "# https://www.tdk-electronics.tdk.com/inf/80/db/fer/elp_43_10_28.pdf\n",
    "# https://www.tdk-electronics.tdk.com/inf/80/db/fer/elp_58_11_38.pdf\n",
    "# https://www.tdk-electronics.tdk.com/inf/80/db/fer/elp_64_10_50.pdf\n",
    "# https://www.tdk-electronics.tdk.com/inf/80/db/fer/e_70_33_32.pdf\n",
    "# https://www.tdk-electronics.tdk.com/inf/80/db/fer/e_80_38_40.pdf"
   ]
  },
  {
   "cell_type": "markdown",
   "id": "4f749a85-fff6-4421-937f-8804defe898d",
   "metadata": {},
   "source": [
    "| Core         | Window Depth (mm) | Width (mm) | AL Range (nH) | Materials                     |\n",
    "| ------------ | ----------------- | ---------- | ------------- | ----------------------------- |\n",
    "| ELP 22/6/16  | 6.0               | 16.0       | 125 – 6100    | N49–PC200, N87, N92, N97      |\n",
    "| ELP 32/6/20  | 6.35              | 20.35      | 440 – 7550    | N49–PC200, N87, N97           |\n",
    "| ELP 38/8/25  | 8.25              | 25.4       | 400 – 8800    | N49–PC200, N87, N92, N95, N97 |\n",
    "| ELP 43/10/28 | 9.5–10            | 27.9       | 355 – 9000    | N49–PC200, N87, N92, N95, N97 |\n"
   ]
  },
  {
   "cell_type": "code",
   "execution_count": null,
   "id": "8d2277de-8c83-4222-a954-0480412b9421",
   "metadata": {},
   "outputs": [],
   "source": []
  },
  {
   "cell_type": "code",
   "execution_count": null,
   "id": "618cb811-6fe7-4058-ab98-a2bddaba31c6",
   "metadata": {},
   "outputs": [],
   "source": []
  },
  {
   "cell_type": "code",
   "execution_count": 31,
   "id": "e83cdfb0-abed-4e59-a52c-81cdf00210d6",
   "metadata": {},
   "outputs": [
    {
     "data": {
      "text/html": [
       "<div>\n",
       "<style scoped>\n",
       "    .dataframe tbody tr th:only-of-type {\n",
       "        vertical-align: middle;\n",
       "    }\n",
       "\n",
       "    .dataframe tbody tr th {\n",
       "        vertical-align: top;\n",
       "    }\n",
       "\n",
       "    .dataframe thead th {\n",
       "        text-align: right;\n",
       "    }\n",
       "</style>\n",
       "<table border=\"1\" class=\"dataframe\">\n",
       "  <thead>\n",
       "    <tr style=\"text-align: right;\">\n",
       "      <th></th>\n",
       "      <th>core</th>\n",
       "      <th>Al_nH</th>\n",
       "      <th>Aemin</th>\n",
       "      <th>Le</th>\n",
       "      <th>µe</th>\n",
       "      <th>K1</th>\n",
       "      <th>K2</th>\n",
       "      <th>K3_25</th>\n",
       "      <th>K4_25</th>\n",
       "      <th>Bsat</th>\n",
       "      <th>s_mm</th>\n",
       "      <th>e_mm</th>\n",
       "      <th>s_div_e</th>\n",
       "      <th>B_peak</th>\n",
       "      <th>Idc_25</th>\n",
       "      <th>Bpeak_inf_Bsat</th>\n",
       "    </tr>\n",
       "  </thead>\n",
       "  <tbody>\n",
       "    <tr>\n",
       "      <th>0</th>\n",
       "      <td>ELP 43/10/28 with I 43/4/28 N87</td>\n",
       "      <td>7300.0</td>\n",
       "      <td>217.0</td>\n",
       "      <td>61.6</td>\n",
       "      <td>1560.0</td>\n",
       "      <td>390.0</td>\n",
       "      <td>-0.784</td>\n",
       "      <td>621.0</td>\n",
       "      <td>-0.796</td>\n",
       "      <td>300.0</td>\n",
       "      <td>0.049951</td>\n",
       "      <td>0.031043</td>\n",
       "      <td>1.609102</td>\n",
       "      <td>744.940031</td>\n",
       "      <td>0.107017</td>\n",
       "      <td>False</td>\n",
       "    </tr>\n",
       "    <tr>\n",
       "      <th>1</th>\n",
       "      <td>ELP 58/11/38 with I 58/4/38 N87</td>\n",
       "      <td>7400.0</td>\n",
       "      <td>308.0</td>\n",
       "      <td>80.7</td>\n",
       "      <td>1540.0</td>\n",
       "      <td>591.0</td>\n",
       "      <td>-0.685</td>\n",
       "      <td>791.0</td>\n",
       "      <td>-0.796</td>\n",
       "      <td>300.0</td>\n",
       "      <td>0.059428</td>\n",
       "      <td>0.042479</td>\n",
       "      <td>1.399007</td>\n",
       "      <td>524.844113</td>\n",
       "      <td>0.145034</td>\n",
       "      <td>False</td>\n",
       "    </tr>\n",
       "    <tr>\n",
       "      <th>2</th>\n",
       "      <td>ELP 64/10/50 with I 64/5/50 N87</td>\n",
       "      <td>14000.0</td>\n",
       "      <td>518.0</td>\n",
       "      <td>69.7</td>\n",
       "      <td>1450.0</td>\n",
       "      <td>835.0</td>\n",
       "      <td>-0.790</td>\n",
       "      <td>1316.0</td>\n",
       "      <td>-0.796</td>\n",
       "      <td>300.0</td>\n",
       "      <td>0.133949</td>\n",
       "      <td>0.116591</td>\n",
       "      <td>1.148878</td>\n",
       "      <td>312.069472</td>\n",
       "      <td>0.274920</td>\n",
       "      <td>False</td>\n",
       "    </tr>\n",
       "    <tr>\n",
       "      <th>3</th>\n",
       "      <td>ELP 64/10/50 with ELP 64/10/50 N95</td>\n",
       "      <td>15500.0</td>\n",
       "      <td>518.0</td>\n",
       "      <td>79.0</td>\n",
       "      <td>1880.0</td>\n",
       "      <td>NaN</td>\n",
       "      <td>NaN</td>\n",
       "      <td>NaN</td>\n",
       "      <td>NaN</td>\n",
       "      <td>320.0</td>\n",
       "      <td>NaN</td>\n",
       "      <td>0.117345</td>\n",
       "      <td>NaN</td>\n",
       "      <td>312.069472</td>\n",
       "      <td>NaN</td>\n",
       "      <td>True</td>\n",
       "    </tr>\n",
       "    <tr>\n",
       "      <th>4</th>\n",
       "      <td>ELP 102/20/38 with I 102/7/38 N87</td>\n",
       "      <td>NaN</td>\n",
       "      <td>524.5</td>\n",
       "      <td>NaN</td>\n",
       "      <td>NaN</td>\n",
       "      <td>NaN</td>\n",
       "      <td>NaN</td>\n",
       "      <td>NaN</td>\n",
       "      <td>NaN</td>\n",
       "      <td>NaN</td>\n",
       "      <td>NaN</td>\n",
       "      <td>NaN</td>\n",
       "      <td>NaN</td>\n",
       "      <td>308.202072</td>\n",
       "      <td>NaN</td>\n",
       "      <td>False</td>\n",
       "    </tr>\n",
       "  </tbody>\n",
       "</table>\n",
       "</div>"
      ],
      "text/plain": [
       "                                 core    Al_nH  Aemin    Le      µe     K1  \\\n",
       "0     ELP 43/10/28 with I 43/4/28 N87   7300.0  217.0  61.6  1560.0  390.0   \n",
       "1     ELP 58/11/38 with I 58/4/38 N87   7400.0  308.0  80.7  1540.0  591.0   \n",
       "2     ELP 64/10/50 with I 64/5/50 N87  14000.0  518.0  69.7  1450.0  835.0   \n",
       "3  ELP 64/10/50 with ELP 64/10/50 N95  15500.0  518.0  79.0  1880.0    NaN   \n",
       "4   ELP 102/20/38 with I 102/7/38 N87      NaN  524.5   NaN     NaN    NaN   \n",
       "\n",
       "      K2   K3_25  K4_25   Bsat      s_mm      e_mm   s_div_e      B_peak  \\\n",
       "0 -0.784   621.0 -0.796  300.0  0.049951  0.031043  1.609102  744.940031   \n",
       "1 -0.685   791.0 -0.796  300.0  0.059428  0.042479  1.399007  524.844113   \n",
       "2 -0.790  1316.0 -0.796  300.0  0.133949  0.116591  1.148878  312.069472   \n",
       "3    NaN     NaN    NaN  320.0       NaN  0.117345       NaN  312.069472   \n",
       "4    NaN     NaN    NaN    NaN       NaN       NaN       NaN  308.202072   \n",
       "\n",
       "     Idc_25 Bpeak_inf_Bsat  \n",
       "0  0.107017          False  \n",
       "1  0.145034          False  \n",
       "2  0.274920          False  \n",
       "3       NaN           True  \n",
       "4       NaN          False  "
      ]
     },
     "execution_count": 31,
     "metadata": {},
     "output_type": "execute_result"
    }
   ],
   "source": [
    "dfcore = pd.DataFrame([\n",
    "{\"core\":\"ELP 43/10/28 with I 43/4/28 N87\",\n",
    " \n",
    " \"Al_nH\":7300, \n",
    "\"Aemin\":217,\n",
    "\"Le\":61.6 ,\n",
    "\"µe\":1560 ,\n",
    "\"K1\":390,\n",
    "\"K2\":-0.784, \n",
    "\"K3_25\":621, \n",
    "\"K4_25\":-0.796,\n",
    "\"Bsat\": 300},\n",
    "\n",
    "{\"core\":\"ELP 58/11/38 with I 58/4/38 N87\",\n",
    " \"Al_nH\":7400, \n",
    "\"Aemin\":308,\n",
    "\"Le\": 80.7 ,\n",
    "\"µe\":1540 ,\n",
    "\"K1\":591,\n",
    "\"K2\":-0.685, \n",
    "\"K3_25\":791, \n",
    "\"K4_25\":-0.796,\n",
    "\"Bsat\": 300},\n",
    "\n",
    "\n",
    "\n",
    "{\"core\":\"ELP 64/10/50 with I 64/5/50 N87\",\n",
    "\"Al_nH\": 14000, \n",
    "\"Aemin\":518,\n",
    "\"Le\": 69.7,\n",
    "\"µe\": 1450, \n",
    "\"K1\":835,\n",
    "\"K2\":-0.790, \n",
    "\"K3_25\":1316, \n",
    "\"K4_25\":-0.796, \n",
    "\"Bsat\":300},\n",
    "\n",
    "{\"core\":\"ELP 64/10/50 with ELP 64/10/50 N95\",\n",
    " \"Al_nH\":15500, \n",
    "\"Aemin\":518,\n",
    "\"Le\": 79,\n",
    "\"µe\": 1880, \n",
    "\"Bsat\":320},\n",
    "\n",
    "{\"core\":\"ELP 102/20/38 with I 102/7/38 N87\",\n",
    "\"Aemin\":524.5,\n",
    "}\n",
    "\n",
    "])\n",
    "\n",
    "for i in range (len(dfcore)):\n",
    "    dic  =dfcore.loc[i,:].to_dict()\n",
    "    Aemin = dic['Aemin']\n",
    "    K1 = dic[\"K1\"]\n",
    "    K2 = dic[\"K2\"]\n",
    "    K3_25 = dic[\"K3_25\"]\n",
    "    K4_25 = dic[\"K4_25\"]\n",
    "    Al_nH0 = dic[\"Al_nH\"]\n",
    "    Le = dic[\"Le\"]\n",
    "    µe = dic[\"µe\"]\n",
    "    s_mm= (Al_nH/K1)**(1/K2) # airgap\n",
    "    e_mm= Le *(Al_nH0/Al_nH-1)/µe\n",
    "    I_dc = (0.9*Al_nH/K3_25)**(1/K4_25)\n",
    "    B_peak = 1e3*Lm*sqrt(2)*Im_rms/(Np*Aemin*1e-6)\n",
    "    dfcore.loc[i,\"s_mm\"]=s_mm\n",
    "    dfcore.loc[i,\"e_mm\"]=e_mm\n",
    "    dfcore.loc[i,\"s_div_e\"]=s_mm/e_mm\n",
    "  \n",
    "    dfcore.loc[i,\"B_peak\"]=B_peak\n",
    "    dfcore.loc[i,\"Idc_25\"]=I_dc\n",
    "    dfcore.loc[i,\"Bpeak_inf_Bsat\"]=dic[\"Bsat\"]>B_peak\n",
    "dfcore"
   ]
  },
  {
   "cell_type": "raw",
   "id": "32d28f5b-e2f6-4301-870c-dc1d8e253231",
   "metadata": {},
   "source": [
    "ELP 64/10/50 with ELP 64/10/50 N95 is the only choice with B_peak < B_sat \n",
    "but this solution use 2 ELP, not the optimum \n",
    "I propose to go with ELP 64/10/50 with I 64/5/50 N87\n",
    "The I shape is more compact\n",
    "B_peak = 312 , B_sat = 300\n",
    "So there is a rsisc of saturation in low frequency, bu we will try to handle this by control. "
   ]
  },
  {
   "cell_type": "code",
   "execution_count": 32,
   "id": "30b84c42-5bd3-4d40-90a5-a0e2fa1d32e8",
   "metadata": {},
   "outputs": [
    {
     "data": {
      "text/plain": [
       "{'core': 'ELP 64/10/50 with I 64/5/50 N87',\n",
       " 'Al_nH': 14000.0,\n",
       " 'Aemin': 518.0,\n",
       " 'Le': 69.7,\n",
       " 'µe': 1450.0,\n",
       " 'Bsat': 300.0,\n",
       " 's_mm': 0.1339488641172734,\n",
       " 'B_peak': 312.06947242700016}"
      ]
     },
     "execution_count": 32,
     "metadata": {},
     "output_type": "execute_result"
    }
   ],
   "source": [
    "dic_trans_core= dfcore[dfcore.core==\"ELP 64/10/50 with I 64/5/50 N87\"].iloc[0,:].to_dict()\n",
    "keys = ['core', 'Al_nH', 'Aemin', 'Le', 'µe', 'Bsat', 's_mm' , 'B_peak']\n",
    "dic_trans_core = {k:dic_trans_core[k] for k in keys}\n",
    "dic_trans_core "
   ]
  },
  {
   "cell_type": "markdown",
   "id": "dbbcfec0-b869-47c0-ac27-cae3b5835049",
   "metadata": {},
   "source": [
    "## Lr design "
   ]
  },
  {
   "cell_type": "code",
   "execution_count": 33,
   "id": "5fd0bf44-895b-467c-8b0e-ef5a690b2230",
   "metadata": {
    "scrolled": true
   },
   "outputs": [
    {
     "name": "stdout",
     "output_type": "stream",
     "text": [
      "Transormer parameters:\n"
     ]
    },
    {
     "data": {
      "text/plain": [
       "{'Lr_uH': 21.797, 'fsw_min': 60170.0, 'fsw_max': 156220.0, 'Ir_rms': 10.354}"
      ]
     },
     "metadata": {},
     "output_type": "display_data"
    }
   ],
   "source": [
    "params = ['Lr_uH', 'fsw_min', 'fsw_max', 'Ir_rms']\n",
    "\n",
    "dic_Lr= {x:out_datas[x] for x in params}\n",
    "print(\"Transormer parameters:\")\n",
    "display(dic_Lr)"
   ]
  },
  {
   "cell_type": "code",
   "execution_count": null,
   "id": "76f9f585-d820-4f41-b8fe-5b6767d38bb7",
   "metadata": {},
   "outputs": [],
   "source": []
  },
  {
   "cell_type": "code",
   "execution_count": 34,
   "id": "222db18a-5e3c-4cfd-b651-aa42908c022d",
   "metadata": {
    "scrolled": true
   },
   "outputs": [
    {
     "data": {
      "text/html": [
       "<div>\n",
       "<style scoped>\n",
       "    .dataframe tbody tr th:only-of-type {\n",
       "        vertical-align: middle;\n",
       "    }\n",
       "\n",
       "    .dataframe tbody tr th {\n",
       "        vertical-align: top;\n",
       "    }\n",
       "\n",
       "    .dataframe thead th {\n",
       "        text-align: right;\n",
       "    }\n",
       "</style>\n",
       "<table border=\"1\" class=\"dataframe\">\n",
       "  <thead>\n",
       "    <tr style=\"text-align: right;\">\n",
       "      <th></th>\n",
       "      <th>core</th>\n",
       "      <th>Al_nH</th>\n",
       "      <th>Aemin</th>\n",
       "      <th>Bsat</th>\n",
       "      <th>K1</th>\n",
       "      <th>K2</th>\n",
       "      <th>s_lims</th>\n",
       "    </tr>\n",
       "  </thead>\n",
       "  <tbody>\n",
       "    <tr>\n",
       "      <th>0</th>\n",
       "      <td>ELP 22/6/16 with I 22/2.5/16 N87</td>\n",
       "      <td>5200</td>\n",
       "      <td>77.9</td>\n",
       "      <td>300</td>\n",
       "      <td>134</td>\n",
       "      <td>-0.806</td>\n",
       "      <td>[0.1, 1.5]</td>\n",
       "    </tr>\n",
       "    <tr>\n",
       "      <th>1</th>\n",
       "      <td>ELP 32/6/20 with I 32/3/20 N87</td>\n",
       "      <td>6300</td>\n",
       "      <td>128.0</td>\n",
       "      <td>300</td>\n",
       "      <td>234</td>\n",
       "      <td>-0.777</td>\n",
       "      <td>[0.1, 1.5]</td>\n",
       "    </tr>\n",
       "    <tr>\n",
       "      <th>2</th>\n",
       "      <td>ELP 43/10/28 with I 43/4/28 N87</td>\n",
       "      <td>8500</td>\n",
       "      <td>217.0</td>\n",
       "      <td>300</td>\n",
       "      <td>390</td>\n",
       "      <td>-0.784</td>\n",
       "      <td>[0.1, 2]</td>\n",
       "    </tr>\n",
       "    <tr>\n",
       "      <th>3</th>\n",
       "      <td>ELP 58/11/38 with I 58/4/38 N87</td>\n",
       "      <td>8400</td>\n",
       "      <td>308.0</td>\n",
       "      <td>300</td>\n",
       "      <td>591</td>\n",
       "      <td>-0.685</td>\n",
       "      <td>[0.1, 1.5]</td>\n",
       "    </tr>\n",
       "  </tbody>\n",
       "</table>\n",
       "</div>"
      ],
      "text/plain": [
       "                               core  Al_nH  Aemin  Bsat   K1     K2  \\\n",
       "0  ELP 22/6/16 with I 22/2.5/16 N87   5200   77.9   300  134 -0.806   \n",
       "1    ELP 32/6/20 with I 32/3/20 N87   6300  128.0   300  234 -0.777   \n",
       "2   ELP 43/10/28 with I 43/4/28 N87   8500  217.0   300  390 -0.784   \n",
       "3   ELP 58/11/38 with I 58/4/38 N87   8400  308.0   300  591 -0.685   \n",
       "\n",
       "       s_lims  \n",
       "0  [0.1, 1.5]  \n",
       "1  [0.1, 1.5]  \n",
       "2    [0.1, 2]  \n",
       "3  [0.1, 1.5]  "
      ]
     },
     "execution_count": 34,
     "metadata": {},
     "output_type": "execute_result"
    }
   ],
   "source": [
    "dfcore = pd.DataFrame([\n",
    "{\"core\":\"ELP 22/6/16 with I 22/2.5/16 N87\",\n",
    " \"Al_nH\":5200, \n",
    "\"Aemin\":77.9,\n",
    " \"Bsat\": 300,\n",
    " \"K1\": 134, \n",
    " \"K2\": -0.806, \n",
    " \"s_lims\":[0.1,1.5]\n",
    "},\n",
    "\n",
    "{\"core\":\"ELP 32/6/20 with I 32/3/20 N87\", \n",
    "  \"Al_nH\": 6300, \n",
    "\"Aemin\":128, \n",
    "  \"Bsat\": 300,\n",
    " \"K1\":234 , \n",
    " \"K2\":-0.777,\n",
    "  \"s_lims\":[0.1,1.5]\n",
    "},\n",
    "\n",
    "{\"core\":\"ELP 43/10/28 with I 43/4/28 N87\", \n",
    "  \"Al_nH\": 8500, \n",
    "\"Aemin\":217, \n",
    "  \"Bsat\": 300,\n",
    " \"K1\":390 ,\n",
    " \"K2\": -0.784,\n",
    "\"s_lims\":[0.1,2]\n",
    "},\n",
    "\n",
    "\n",
    "{\"core\":\"ELP 58/11/38 with I 58/4/38 N87\", \n",
    "  \"Al_nH\": 8400, \n",
    "\"Aemin\":308, \n",
    "  \"Bsat\": 300,\n",
    " \"K1\": 591 ,\n",
    " \"K2\":-0.685,  \n",
    "   \"s_lims\":[0.1,1.5]\n",
    "}\n",
    "\n",
    "\n",
    "    \n",
    "\n",
    "\n",
    "])\n",
    "dfcore"
   ]
  },
  {
   "cell_type": "code",
   "execution_count": 35,
   "id": "fc17d54d-e592-4641-9b4f-57f826f3d822",
   "metadata": {},
   "outputs": [
    {
     "data": {
      "text/plain": [
       "{'Lr_uH': 21.797, 'fsw_min': 60170.0, 'fsw_max': 156220.0, 'Ir_rms': 10.354}"
      ]
     },
     "execution_count": 35,
     "metadata": {},
     "output_type": "execute_result"
    }
   ],
   "source": [
    "dic_Lr"
   ]
  },
  {
   "cell_type": "code",
   "execution_count": null,
   "id": "70b601a9-d701-499e-943a-f899bfa5e541",
   "metadata": {},
   "outputs": [],
   "source": []
  },
  {
   "cell_type": "raw",
   "id": "97e602c0-b029-4de9-8cd8-20aa6b63799b",
   "metadata": {},
   "source": [
    "Ir_rms = dic_Lr['Ir_rms']\n",
    "Lr = dic_Lr['Lr_uH']*1e-6\n",
    "\n",
    "arr=[]\n",
    "for n in range(1,9):\n",
    "    for i in range(len(dfcore)):\n",
    "        Aemin = dfcore.loc[i,\"Aemin\"]\n",
    "        K1 = dfcore.loc[i,\"K1\"]\n",
    "        K2 = dfcore.loc[i,\"K2\"]\n",
    "        Al_nH_core = dfcore.loc[i,\"Al_nH\"]\n",
    "        core = dfcore.loc[i,\"core\"]\n",
    "        s_lims= dfcore.loc[i,\"s_lims\"]\n",
    "        Al_nH = 1000*dic_Lr[\"Lr_uH\"]/n**2\n",
    "        if Al_nH < Al_nH_core: \n",
    "            s_mm= (Al_nH/K1)**(1/K2)\n",
    "            s_valide = s_mm>s_lims[0] and  s_mm<s_lims[1]\n",
    "        else:\n",
    "            s_mm= None \n",
    "            s_valide= None\n",
    "        \n",
    "        error = 100*(Al_nH_cal-Al_nH)/Al_nH\n",
    "        \n",
    "        B_peak = 1e3*Ir_rms*Lr*sqrt(2)/(n*Aemin*1e-6)\n",
    "        if (s_mm is not None or abs(error)<10) and s_valide:\n",
    "            arr.append({\"core\":core, \"N\":n, #\"Al_nH_cal\": Al_nH_cal, \n",
    "                        \"Al_nH_target\": Al_nH, \n",
    "                        #\"Al_error\":error, \n",
    "                        \"B_peak\":B_peak, \"Bsat\":dfcore.loc[i, \"Bsat\"], \"s_mm\":s_mm,\n",
    "                       \"s_lims\":s_lims#, \"s_valide\":s_valide\n",
    "                       })\n",
    "dfLr=pd.DataFrame(arr).sort_values(\"B_peak\")\n",
    "dfLr"
   ]
  },
  {
   "cell_type": "raw",
   "id": "885b4fe7-ad89-40ae-af58-6e89cc51f5c1",
   "metadata": {},
   "source": [
    "chose ELP 58/11/38 with I 58/4/38 N87\n",
    "4 turns\n",
    "Bsat > Bpeak"
   ]
  },
  {
   "cell_type": "raw",
   "id": "24eed23c-c2ec-425d-be36-d6962361dc1f",
   "metadata": {},
   "source": [
    "m1=dfLr.core == \"ELP 58/11/38 with I 58/4/38 N87\"\n",
    "m2=dfLr.N == 4\n",
    "dfLr[m1 & m2]"
   ]
  },
  {
   "cell_type": "markdown",
   "id": "49b44da6-f321-4aed-829d-00d2dcee11ca",
   "metadata": {},
   "source": [
    "## Resonanat capacitor Cr"
   ]
  },
  {
   "cell_type": "markdown",
   "id": "60ff68ea-7ed0-4e7c-8256-e38fb008d5c5",
   "metadata": {},
   "source": [
    "### Chosing a capacitor for Cr"
   ]
  },
  {
   "cell_type": "markdown",
   "id": "3855b3fa-9054-426d-8e05-936a8bf8dd89",
   "metadata": {},
   "source": [
    "**The inputs data**"
   ]
  },
  {
   "cell_type": "code",
   "execution_count": 56,
   "id": "f8e6e6fb-51e6-4bd5-9c1f-f4a4f1b7ebc1",
   "metadata": {},
   "outputs": [
    {
     "data": {
      "text/latex": [
       "$\n",
       "\\begin{aligned}\n",
       "\\mathrm{Cr}_{nF} &= 116.209 \\; \\;\\textrm{(nF)}\n",
       "\\\\[10pt]\n",
       "V_{In_{max}} &= 400.000 \\; \\;\\textrm{(V)}\n",
       "\\\\[10pt]\n",
       "\\mathrm{fsw}_{min} &= 60170.000 \\; \\;\\textrm{(Hz)}\n",
       "\\end{aligned}\n",
       "$"
      ],
      "text/plain": [
       "<IPython.core.display.Latex object>"
      ]
     },
     "metadata": {},
     "output_type": "display_data"
    }
   ],
   "source": [
    "%%render \n",
    "Cr_nF # nF\n",
    "V_In_max # V\n",
    "fsw_min # Hz"
   ]
  },
  {
   "cell_type": "markdown",
   "id": "30cee55d-8389-444b-81ec-763fc8451544",
   "metadata": {},
   "source": [
    "**The RMS voltage of the resonant capacitor**"
   ]
  },
  {
   "cell_type": "code",
   "execution_count": 57,
   "id": "d788fd5a-eb8e-4dea-9111-3bfb97e551c6",
   "metadata": {},
   "outputs": [
    {
     "data": {
      "text/latex": [
       "$\n",
       "\\begin{aligned}\n",
       "X_{Cr} &= \\frac{ 1 }{ 2 \\cdot \\pi \\cdot \\mathrm{fsw}_{min} \\cdot \\mathrm{Cr}_{nF} \\cdot 1 \\times 10 ^ {-9} }  = \\frac{ 1 }{ 2 \\cdot 3.142 \\cdot 60170.000 \\cdot 116.209 \\cdot 1 \\times 10 ^ {-9} } &= 22.761 \\; \\;\\textrm{(Ohm)}\n",
       "\\\\[10pt]\n",
       "V_{Cr} &= \\mathrm{Ir}_{rms} \\cdot X_{Cr}  = 10.354 \\cdot 22.761 &= 235.672 \\; \\;\\textrm{(V)}\n",
       "\\\\[10pt]\n",
       "V_{Cr_{rms}} &= \\sqrt { \\left( \\frac{ V_{In_{max}} }{ 2 } \\right) ^{ 2 } + \\left( V_{Cr} \\right) ^{ 2 } }  = \\sqrt { \\left( \\frac{ 400.000 }{ 2 } \\right) ^{ 2 } + \\left( 235.672 \\right) ^{ 2 } } &= 309.098 \\; \\;\\textrm{(vrms)}\n",
       "\\end{aligned}\n",
       "$"
      ],
      "text/plain": [
       "<IPython.core.display.Latex object>"
      ]
     },
     "metadata": {},
     "output_type": "display_data"
    }
   ],
   "source": [
    "%%render \n",
    "X_Cr= 1/(2*pi*fsw_min*Cr_nF*1e-9) # Ohm \n",
    "V_Cr= Ir_rms*X_Cr # V\n",
    "V_Cr_rms= sqrt((V_In_max/2)**2+V_Cr**2) # vrms"
   ]
  },
  {
   "cell_type": "raw",
   "id": "65e4dc5d-5e85-4aa5-b28f-fc91c1720e41",
   "metadata": {},
   "source": [
    "{\n",
    "\"Cr_nF\": Cr_nF, \n",
    "\"V_In_max\": V_In_max, \n",
    "\"fsw_min\":fsw_min, \n",
    "\"V_Cr_rms\":V_Cr_rms,\n",
    "\"Ir_rms\":Ir_rms, \n",
    "}"
   ]
  },
  {
   "cell_type": "code",
   "execution_count": 39,
   "id": "b6419f02-7553-4068-ac59-75ba5f7080a6",
   "metadata": {},
   "outputs": [],
   "source": [
    "# https://www.mouser.es/ProductDetail/EPCOS-TDK/B32672L1333J?qs=vht8qxFUkGz11LfwwLq5EA%3D%3D\n",
    "# https://product.tdk.com/system/files/dam/doc/product/capacitor/film/mkp_mfp/data_sheet/20/20/db/fc_2009/mkp_b32671l_672l.pdf"
   ]
  },
  {
   "cell_type": "markdown",
   "id": "3af582e4-57b5-4948-b1f8-3651dab867b1",
   "metadata": {},
   "source": [
    "Starting with the **B3267*L** film capacitors, the maximum rated DC voltage is 2000 V. [\\[2\\]](#referencesID_03_3)."
   ]
  },
  {
   "cell_type": "code",
   "execution_count": 58,
   "id": "c13809ee-b5da-44c1-a0c6-d8e37b2bcf4c",
   "metadata": {},
   "outputs": [
    {
     "name": "stdout",
     "output_type": "stream",
     "text": [
      "The design value of Cr is 116.2 nF\n",
      "Below are some possible combinations for constructing this resonant capacitor:\n"
     ]
    },
    {
     "data": {
      "text/html": [
       "<div>\n",
       "<style scoped>\n",
       "    .dataframe tbody tr th:only-of-type {\n",
       "        vertical-align: middle;\n",
       "    }\n",
       "\n",
       "    .dataframe tbody tr th {\n",
       "        vertical-align: top;\n",
       "    }\n",
       "\n",
       "    .dataframe thead th {\n",
       "        text-align: right;\n",
       "    }\n",
       "</style>\n",
       "<table border=\"1\" class=\"dataframe\">\n",
       "  <thead>\n",
       "    <tr style=\"text-align: right;\">\n",
       "      <th></th>\n",
       "      <th>Nominal_capa_nF</th>\n",
       "      <th>Nb capas in parallel</th>\n",
       "      <th>total capa nF</th>\n",
       "      <th>error %</th>\n",
       "    </tr>\n",
       "  </thead>\n",
       "  <tbody>\n",
       "    <tr>\n",
       "      <th>0</th>\n",
       "      <td>6.2</td>\n",
       "      <td>19</td>\n",
       "      <td>117.8</td>\n",
       "      <td>1.4</td>\n",
       "    </tr>\n",
       "    <tr>\n",
       "      <th>1</th>\n",
       "      <td>6.8</td>\n",
       "      <td>17</td>\n",
       "      <td>115.6</td>\n",
       "      <td>-0.5</td>\n",
       "    </tr>\n",
       "    <tr>\n",
       "      <th>2</th>\n",
       "      <td>8.2</td>\n",
       "      <td>14</td>\n",
       "      <td>114.8</td>\n",
       "      <td>-1.2</td>\n",
       "    </tr>\n",
       "    <tr>\n",
       "      <th>3</th>\n",
       "      <td>10.0</td>\n",
       "      <td>12</td>\n",
       "      <td>120.0</td>\n",
       "      <td>3.3</td>\n",
       "    </tr>\n",
       "    <tr>\n",
       "      <th>4</th>\n",
       "      <td>12.0</td>\n",
       "      <td>10</td>\n",
       "      <td>120.0</td>\n",
       "      <td>3.3</td>\n",
       "    </tr>\n",
       "    <tr>\n",
       "      <th>5</th>\n",
       "      <td>15.0</td>\n",
       "      <td>8</td>\n",
       "      <td>120.0</td>\n",
       "      <td>3.3</td>\n",
       "    </tr>\n",
       "    <tr>\n",
       "      <th>6</th>\n",
       "      <td>22.0</td>\n",
       "      <td>5</td>\n",
       "      <td>110.0</td>\n",
       "      <td>-5.3</td>\n",
       "    </tr>\n",
       "    <tr>\n",
       "      <th>7</th>\n",
       "      <td>33.0</td>\n",
       "      <td>4</td>\n",
       "      <td>132.0</td>\n",
       "      <td>13.6</td>\n",
       "    </tr>\n",
       "    <tr>\n",
       "      <th>8</th>\n",
       "      <td>47.0</td>\n",
       "      <td>2</td>\n",
       "      <td>94.0</td>\n",
       "      <td>-19.1</td>\n",
       "    </tr>\n",
       "    <tr>\n",
       "      <th>9</th>\n",
       "      <td>56.0</td>\n",
       "      <td>2</td>\n",
       "      <td>112.0</td>\n",
       "      <td>-3.6</td>\n",
       "    </tr>\n",
       "    <tr>\n",
       "      <th>10</th>\n",
       "      <td>68.0</td>\n",
       "      <td>2</td>\n",
       "      <td>136.0</td>\n",
       "      <td>17.0</td>\n",
       "    </tr>\n",
       "  </tbody>\n",
       "</table>\n",
       "</div>"
      ],
      "text/plain": [
       "    Nominal_capa_nF  Nb capas in parallel  total capa nF  error %\n",
       "0               6.2                    19          117.8      1.4\n",
       "1               6.8                    17          115.6     -0.5\n",
       "2               8.2                    14          114.8     -1.2\n",
       "3              10.0                    12          120.0      3.3\n",
       "4              12.0                    10          120.0      3.3\n",
       "5              15.0                     8          120.0      3.3\n",
       "6              22.0                     5          110.0     -5.3\n",
       "7              33.0                     4          132.0     13.6\n",
       "8              47.0                     2           94.0    -19.1\n",
       "9              56.0                     2          112.0     -3.6\n",
       "10             68.0                     2          136.0     17.0"
      ]
     },
     "execution_count": 58,
     "metadata": {},
     "output_type": "execute_result"
    }
   ],
   "source": [
    "B32672L1333 = [6.2, 6.8, 8.2, 10.0, 12.0, 15.0, 22.0, 33.0, 47.0, 56.0, 68.0]\n",
    "print(f\"The design value of Cr is {Cr_nF:.1f} nF\")\n",
    "print(\"Below are some possible combinations for constructing this resonant capacitor:\")\n",
    "arr= []\n",
    "for c in B32672L1333: \n",
    "    n= round(Cr_nF/c)\n",
    "    ct= n*c\n",
    "    error = 100*(ct-Cr_nF)/Cr_nF\n",
    "    dic = {\"Nominal_capa_nF\":c, \"Nb capas in parallel\": n, \n",
    "           \"total capa nF\" :ct, \"error %\":round(error, 1)}\n",
    "    arr.append(dic)\n",
    "pd.DataFrame(arr)"
   ]
  },
  {
   "cell_type": "markdown",
   "id": "ffe70301-2d8a-41cd-896f-9d9d5d2e809f",
   "metadata": {},
   "source": [
    "**The current of each element capacitor**"
   ]
  },
  {
   "cell_type": "code",
   "execution_count": 41,
   "id": "23c21de7-41b3-4e65-8d79-d775be7b35b3",
   "metadata": {},
   "outputs": [
    {
     "data": {
      "text/latex": [
       "$\n",
       "\\begin{aligned}\n",
       "\\mathrm{Ir}_{rms_{1}} &= 1.294 \\; \n",
       "\\end{aligned}\n",
       "$"
      ],
      "text/plain": [
       "<IPython.core.display.Latex object>"
      ]
     },
     "metadata": {},
     "output_type": "display_data"
    }
   ],
   "source": [
    "%%render \n",
    "Ir_rms_1=Ir_rms/8"
   ]
  },
  {
   "cell_type": "markdown",
   "id": "0652d266-7cf3-41b0-934e-d5927c000baf",
   "metadata": {},
   "source": [
    "**The 15 nF, 15 mm, 2000 VDC TDK MKP capacitor meets both the Vrms and Irms requirements.**"
   ]
  },
  {
   "cell_type": "code",
   "execution_count": null,
   "id": "192e5237-150c-41c0-a7a3-cac0b5128d96",
   "metadata": {},
   "outputs": [],
   "source": []
  },
  {
   "cell_type": "code",
   "execution_count": 42,
   "id": "2acb72d2-9b59-40c8-a3dd-43311122d02c",
   "metadata": {},
   "outputs": [
    {
     "data": {
      "text/html": [
       "\n",
       "        <div style=\"width: 19cm; display: flex;\">\n",
       "          <div style=\"width: 9cm; text-align: center;\">\n",
       "            <img src=\"./03_figures/CR_VRMS.png\" style=\"width: 9cm;\">\n",
       "            <div style=\"width: 9cm; word-wrap: break-word;\">\n",
       "                <b>Figure 3:</b> VRMS\n",
       "            </div>\n",
       "          </div>\n",
       "          <div style=\"width: 1cm;\"></div>\n",
       "          <div style=\"width: 9cm; text-align: center;\">\n",
       "            <img src=\"./03_figures/CR_IRMS.png\" style=\"width: 9cm;\">\n",
       "            <div style=\"width: 9cm; word-wrap: break-word;\">\n",
       "                <b>Figure 4:</b> IRMS\n",
       "            </div>\n",
       "          </div>\n",
       "        </div>\n",
       "        <br>\n",
       "        "
      ],
      "text/plain": [
       "<IPython.core.display.HTML object>"
      ]
     },
     "metadata": {},
     "output_type": "display_data"
    }
   ],
   "source": [
    "first_part_path = \"./03_figures/\"\n",
    "\n",
    "fig_counter = show_figure_pair_with_captions(\n",
    "    fig_counter, \n",
    "    \"CR_VRMS.png\",\n",
    "    \"VRMS\",\n",
    "    \"CR_IRMS.png\",\n",
    "    \"IRMS\", \n",
    "    first_part_path= first_part_path, \n",
    ")"
   ]
  },
  {
   "cell_type": "markdown",
   "id": "d91eae99-3f1f-4002-b470-4870065b7a91",
   "metadata": {},
   "source": [
    "Below is a screenshot from the B32672L datasheet. The ref **B32672L8153** is a 15 nF capacitor."
   ]
  },
  {
   "cell_type": "code",
   "execution_count": 61,
   "id": "cf17e02d-a1b7-4da1-b09a-3a3f937ce07f",
   "metadata": {},
   "outputs": [
    {
     "data": {
      "text/html": [
       "\n",
       "        <div style=\"width: 19cm; display: flex;\">\n",
       "          <div style=\"width: 19cm; text-align: center;\">\n",
       "            <img src=\"./03_figures/capa15nF.png\" style=\"width: 19cm;\">\n",
       "            <div style=\"width: 9cm; word-wrap: break-word;\">\n",
       "                <b>Figure 12:</b> VRMS\n",
       "            </div>\n",
       "          </div>\n",
       "          <div style=\"width: 1cm;\"></div>\n",
       "          <div style=\"width: 9cm; text-align: center;\">\n",
       "\n",
       "          </div>\n",
       "        </div>\n",
       "        <br>\n",
       "        "
      ],
      "text/plain": [
       "<IPython.core.display.HTML object>"
      ]
     },
     "metadata": {},
     "output_type": "display_data"
    }
   ],
   "source": [
    "first_part_path = \"./03_figures/\"\n",
    "\n",
    "fig_counter = show_figure_pair_with_captions(\n",
    "    fig_counter, \n",
    "    \"capa15nF.png\",\n",
    "    \"VRMS\",\n",
    "    first_part_path= first_part_path, \n",
    ")"
   ]
  },
  {
   "cell_type": "raw",
   "id": "726826ea-83c6-483a-ac01-5b3a380d6fed",
   "metadata": {},
   "source": []
  },
  {
   "cell_type": "raw",
   "id": "a7fd9eb7-20b6-4045-a5f8-196b4075c9aa",
   "metadata": {},
   "source": []
  },
  {
   "cell_type": "code",
   "execution_count": null,
   "id": "5df7c95c-6642-47d1-b5b6-784966993a97",
   "metadata": {},
   "outputs": [],
   "source": []
  },
  {
   "cell_type": "code",
   "execution_count": 43,
   "id": "e2e6863b-1255-4adc-9493-59bdf8250dc9",
   "metadata": {},
   "outputs": [],
   "source": [
    "# https://eu.mouser.com/ProductDetail/EPCOS-TDK/B32672L8153J?qs=CsdphVCLJRjPN7YH24ATpg%3D%3D\n",
    "# https://product.tdk.com/system/files/dam/doc/product/capacitor/film/mkp_mfp/data_sheet/20/20/db/fc_2009/mkp_b32671l_672l.pdf"
   ]
  },
  {
   "cell_type": "code",
   "execution_count": 44,
   "id": "0ec5dc0c-97a4-4081-a362-d7a0ef2a2706",
   "metadata": {},
   "outputs": [],
   "source": [
    "# B32672L8153 ==> 15n 2000VDC\n",
    "# DATASHEET\n",
    "# https://product.tdk.com/system/files/dam/doc/product/capacitor/film/mkp_mfp/data_sheet/20/20/db/fc_2009/mkp_b32671l_672l.pdf"
   ]
  },
  {
   "cell_type": "code",
   "execution_count": null,
   "id": "e46179d5-6fb6-4de4-b719-0dc2bbe49601",
   "metadata": {},
   "outputs": [],
   "source": []
  },
  {
   "cell_type": "markdown",
   "id": "6cc19bfa-f343-48d0-a11f-6b157f3d1349",
   "metadata": {},
   "source": [
    "**The ESR and Power dissipation**"
   ]
  },
  {
   "cell_type": "code",
   "execution_count": 54,
   "id": "05dced99-cc70-431f-8e7f-d3cc56859291",
   "metadata": {},
   "outputs": [
    {
     "data": {
      "text/html": [
       "\n",
       "        <div style=\"width: 19cm; display: flex;\">\n",
       "          <div style=\"width: 19cm; text-align: center;\">\n",
       "            <img src=\"./03_figures/CR_ESR.png\" style=\"width: 19cm;\">\n",
       "            <div style=\"width: 9cm; word-wrap: break-word;\">\n",
       "                <b>Figure 8:</b> VRMS\n",
       "            </div>\n",
       "          </div>\n",
       "          <div style=\"width: 1cm;\"></div>\n",
       "          <div style=\"width: 9cm; text-align: center;\">\n",
       "\n",
       "          </div>\n",
       "        </div>\n",
       "        <br>\n",
       "        "
      ],
      "text/plain": [
       "<IPython.core.display.HTML object>"
      ]
     },
     "metadata": {},
     "output_type": "display_data"
    }
   ],
   "source": [
    "first_part_path = \"./03_figures/\"\n",
    "\n",
    "fig_counter = show_figure_pair_with_captions(\n",
    "    fig_counter, \n",
    "    \"CR_ESR.png\",\n",
    "    \"VRMS\",\n",
    "    first_part_path= first_part_path, \n",
    ")"
   ]
  },
  {
   "cell_type": "markdown",
   "id": "36eb97d0-c88b-4f2b-a20e-ab2e529a9a17",
   "metadata": {},
   "source": [
    "From the below <br>\n",
    "6.8nF ESR=70µΩ <br>\n",
    "33nF ESR=50µΩ <br> \n",
    "By linear interpolation, the ESR of a 15 nF capacitor can be estimated as 63.74 µΩ"
   ]
  },
  {
   "cell_type": "markdown",
   "id": "89c0426e-9e46-4578-b2c8-4d96018f6746",
   "metadata": {},
   "source": [
    "**The power dissipation of each capacitor**"
   ]
  },
  {
   "cell_type": "code",
   "execution_count": 75,
   "id": "0bd9f210-9492-4baa-9bd7-02d02374e8ae",
   "metadata": {},
   "outputs": [
    {
     "data": {
      "text/latex": [
       "$\n",
       "\\begin{aligned}\n",
       "\\mathrm{ESR}_{u} &= 63.740 \\; \\;\\textrm{(µΩ)}\n",
       "\\\\[10pt]\n",
       "\\mathrm{Ir}_{rms_{1}} &= 1.294 \\; \\;\\textrm{(Arms)}\n",
       "\\\\[10pt]\n",
       "\\mathrm{Ir}_{rms_{max}} &= 2 \\; \\;\\textrm{(Arms)}\n",
       "\\\\[10pt]\n",
       "\\mathrm{PD}_{uW} &= \\mathrm{ESR}_{u} \\cdot \\left( \\mathrm{Ir}_{rms_{1}} \\right) ^{ 2 }  = 63.740 \\cdot \\left( 1.294 \\right) ^{ 2 } &= 106.771 \\; \\;\\textrm{(uW)}\n",
       "\\end{aligned}\n",
       "$"
      ],
      "text/plain": [
       "<IPython.core.display.Latex object>"
      ]
     },
     "metadata": {},
     "output_type": "display_data"
    }
   ],
   "source": [
    "%%render \n",
    "ESR_u= np.interp([15],[6.8,33],[70,50])[0] # µΩ\n",
    "Ir_rms_1 # Arms\n",
    "Ir_rms_max = 2 # Arms\n",
    "PD_uW = ESR_u*Ir_rms_1**2 # uW"
   ]
  },
  {
   "cell_type": "markdown",
   "id": "cee91c91-f3da-440b-ba85-8f27147c8405",
   "metadata": {},
   "source": [
    "**The Rth estimation**"
   ]
  },
  {
   "cell_type": "code",
   "execution_count": 47,
   "id": "5233c332-3a95-4eab-87f6-eeed5631b688",
   "metadata": {},
   "outputs": [
    {
     "data": {
      "text/latex": [
       "$\n",
       "\\begin{aligned}\n",
       "T_{max} &= 125 \\; \n",
       "\\\\[10pt]\n",
       "T_{100} &= 100 \\; \n",
       "\\\\[10pt]\n",
       "\\Delta_{T} &= T_{max} - T_{100}  = 125 - 100 &= 25  \n",
       "\\\\[10pt]\n",
       "\\mathrm{PD}_{uW_{max}} &= \\mathrm{ESR}_{u} \\cdot \\left( \\mathrm{Ir}_{rms_{max}} \\right) ^{ 2 }  = 60 \\cdot \\left( 2 \\right) ^{ 2 } &= 240  \n",
       "\\\\[10pt]\n",
       "R_{TH} &= \\frac{ \\Delta_{T} }{ \\mathrm{PD}_{uW_{max}} }  = \\frac{ 25 }{ 240 } &= 0.104 \\; \\;\\textrm{(°C/uW)}\n",
       "\\end{aligned}\n",
       "$"
      ],
      "text/plain": [
       "<IPython.core.display.Latex object>"
      ]
     },
     "metadata": {},
     "output_type": "display_data"
    }
   ],
   "source": [
    "%%render \n",
    "T_max = 125\n",
    "T_100= 100\n",
    "Delta_T= T_max-T_100\n",
    "PD_uW_max= ESR_u*Ir_rms_max**2\n",
    "R_TH = Delta_T/(PD_uW_max) # °C/uW"
   ]
  },
  {
   "cell_type": "markdown",
   "id": "50a62068-22f8-4f03-aef8-f640efc19812",
   "metadata": {},
   "source": [
    "**Each capacitor's self-heating and the maximum permissible ambient temperature.**"
   ]
  },
  {
   "cell_type": "code",
   "execution_count": 48,
   "id": "3de690d9-d19c-4455-8b79-cbc5b929df61",
   "metadata": {},
   "outputs": [
    {
     "data": {
      "text/latex": [
       "$\n",
       "\\begin{aligned}\n",
       "\\Delta_{T} &= \\mathrm{PD}_{uW} \\cdot R_{TH}  = 100.505 \\cdot 0.104 &= 10.469  \n",
       "\\\\[10pt]\n",
       "T_{amb_{max}} &= 125 - \\Delta_{T}  = 125 - 10.469 &= 114.531 \\; \\;\\textrm{(°C)}\n",
       "\\end{aligned}\n",
       "$"
      ],
      "text/plain": [
       "<IPython.core.display.Latex object>"
      ]
     },
     "metadata": {},
     "output_type": "display_data"
    }
   ],
   "source": [
    "%%render \n",
    "Delta_T= PD_uW*R_TH\n",
    "T_amb_max = 125-Delta_T # °C "
   ]
  },
  {
   "cell_type": "markdown",
   "id": "a998f75c-f918-4139-af4a-3cafd67d10ac",
   "metadata": {},
   "source": [
    "### Understanding the Derating Curve of the Capacitors"
   ]
  },
  {
   "cell_type": "markdown",
   "id": "ba7440fa-ae0c-4cac-aefb-cd6beabfee64",
   "metadata": {},
   "source": [
    "**One point calculation**"
   ]
  },
  {
   "cell_type": "code",
   "execution_count": 49,
   "id": "03062462-e434-4000-967f-7e5b88085312",
   "metadata": {},
   "outputs": [
    {
     "data": {
      "text/latex": [
       "$\n",
       "\\begin{aligned}\n",
       "\\mathrm{Ta} &= 105 \\; \n",
       "\\\\[10pt]\n",
       "\\Delta_{T} &= T_{max} - \\mathrm{Ta}  = 125 - 105 &= 20  \n",
       "\\\\[10pt]\n",
       "\\mathrm{PD}_{uW_{max}} &= \\frac{ \\Delta_{T} }{ R_{TH} }  = \\frac{ 20 }{ 0.104 } &= 192.000  \n",
       "\\\\[10pt]\n",
       "\\mathrm{Ir}_{rms_{max_{Ta}}} &= 1.789 \\; \n",
       "\\\\[10pt]\n",
       "\\mathrm{Fa} &= \\frac{ \\mathrm{Ir}_{rms_{max_{Ta}}} }{ \\mathrm{Ir}_{rms_{max}} }  = \\frac{ 1.789 }{ 2 } &= 0.894  \n",
       "\\end{aligned}\n",
       "$"
      ],
      "text/plain": [
       "<IPython.core.display.Latex object>"
      ]
     },
     "metadata": {},
     "output_type": "display_data"
    }
   ],
   "source": [
    "%%render \n",
    "Ta = 105\n",
    "Delta_T= T_max-Ta\n",
    "PD_uW_max = Delta_T/R_TH\n",
    "Ir_rms_max_Ta=sqrt(PD_uW_max/ESR_u)\n",
    "Fa = Ir_rms_max_Ta/Ir_rms_max"
   ]
  },
  {
   "cell_type": "markdown",
   "id": "3614dd9f-946f-41ba-baf3-00d3fe7e1a73",
   "metadata": {},
   "source": [
    "**The same calculation is repeated to construct the derating curve.**"
   ]
  },
  {
   "cell_type": "code",
   "execution_count": 50,
   "id": "d0bc9084-5ec3-44cc-85d8-91fb555a5a89",
   "metadata": {},
   "outputs": [
    {
     "data": {
      "text/plain": [
       "(80.0, 125.0)"
      ]
     },
     "execution_count": 50,
     "metadata": {},
     "output_type": "execute_result"
    },
    {
     "data": {
      "image/png": "[encoded data removed]",
      "text/plain": [
       "<Figure size 800x400 with 2 Axes>"
      ]
     },
     "metadata": {},
     "output_type": "display_data"
    }
   ],
   "source": [
    "fig, axes = plt.subplots(1, 2, figsize=(8, 4))\n",
    "\n",
    "img = plt.imread(\"../01_llc_tank/03_figs/Capa_thermal_derating.jpg\")\n",
    "axes[0].imshow(img)\n",
    "axes[0].axis(\"off\")\n",
    "axes[0].set_title(\"Thermal Derating from datasheet\")\n",
    "\n",
    "\n",
    "Ta_arr= np.arange(80,125+1,1)\n",
    "Fa_arr=[]\n",
    "for Ta in Ta_arr:\n",
    "    if Ta>100:\n",
    "        Delta_T= T_max-Ta\n",
    "        PD_uW_max = Delta_T/R_TH\n",
    "        Ir_rms_max_Ta=sqrt(PD_uW_max/ESR_u)\n",
    "        Fa = Ir_rms_max_Ta/Ir_rms_max\n",
    "        Fa_arr.append(Fa)\n",
    "    else: \n",
    "        Fa_arr.append(1)\n",
    "        \n",
    "axes[1].plot(Ta_arr, Fa_arr)\n",
    "\n",
    "axes[1].set_xlabel(\"Ta (°C)\")\n",
    "axes[1].set_ylabel(\"Derating Factor (Ft)\")\n",
    "axes[1].set_title(\"Calculated Thermal Derating\")\n",
    "\n",
    "axes[1].set_xticks(np.arange(80, 125, 5))\n",
    "axes[1].set_yticks(np.arange(0, 1.1, 0.1))\n",
    "\n",
    "axes[1].grid(True)\n",
    "axes[1].set_ylim([0,1.1])\n",
    "axes[1].set_xlim([80,125])"
   ]
  },
  {
   "cell_type": "markdown",
   "id": "b5f16f31-1c3c-4c05-b9c1-20e3ac82b586",
   "metadata": {},
   "source": [
    "### Resonant capacitors configuration"
   ]
  },
  {
   "cell_type": "markdown",
   "id": "7cdf8d02-d4b6-43e5-b3fb-be668557bfbc",
   "metadata": {},
   "source": [
    "There are two possible configurations for the resonant capacitors:\n",
    "\n",
    "- All capacitors in parallel:\n",
    "\n",
    "which is the classic LLC configuration and offers simplicity in layout.\n",
    "- Dividing the capacitors between the high side and low side:\n",
    "\n",
    "which helps balance HV+ and HV-."
   ]
  },
  {
   "cell_type": "markdown",
   "id": "ed89cb8d-a8b3-4137-a812-6b7bb055c156",
   "metadata": {},
   "source": [
    "Below is a simulation of both solutions. We can see that the voltage and current of each capacitor are almost identical in both configurations, and all other voltages and currents are also very similar."
   ]
  },
  {
   "cell_type": "markdown",
   "id": "1ad0e355-fbc8-4676-ad96-450aee52db5e",
   "metadata": {},
   "source": [
    "You can donwload the LTSPICE file using this <a src =\".\\02_simulation\\03_Res_capacitor\\Comparaison_Res_Capas_Archi.asc\">Link</a>."
   ]
  },
  {
   "cell_type": "code",
   "execution_count": 52,
   "id": "514050d5-6330-444f-931b-6ca9727ec1c8",
   "metadata": {},
   "outputs": [
    {
     "data": {
      "text/html": [
       "\n",
       "        <div style=\"width: 19cm; display: flex;\">\n",
       "          <div style=\"width: 19cm; text-align: center;\">\n",
       "            <img src=\"./03_figures/Comparaison_Res_Capas_Archi.png\" style=\"width: 19cm;\">\n",
       "            <div style=\"width: 9cm; word-wrap: break-word;\">\n",
       "                <b>Figure 6:</b> VRMS\n",
       "            </div>\n",
       "          </div>\n",
       "          <div style=\"width: 1cm;\"></div>\n",
       "          <div style=\"width: 9cm; text-align: center;\">\n",
       "\n",
       "          </div>\n",
       "        </div>\n",
       "        <br>\n",
       "        "
      ],
      "text/plain": [
       "<IPython.core.display.HTML object>"
      ]
     },
     "metadata": {},
     "output_type": "display_data"
    }
   ],
   "source": [
    "first_part_path = \"./03_figures/\"\n",
    "\n",
    "fig_counter = show_figure_pair_with_captions(\n",
    "    fig_counter, \n",
    "    \"Comparaison_Res_Capas_Archi.png\",\n",
    "    \"VRMS\",\n",
    "    first_part_path= first_part_path, \n",
    ")"
   ]
  },
  {
   "cell_type": "code",
   "execution_count": null,
   "id": "072f1626-91bc-464d-a1e3-971479e5db2f",
   "metadata": {},
   "outputs": [],
   "source": []
  },
  {
   "cell_type": "raw",
   "id": "5a38b542-0a46-4e18-abe7-5337b658958c",
   "metadata": {},
   "source": []
  },
  {
   "cell_type": "markdown",
   "id": "e6003b58-b118-4d0a-b927-36e3558266d8",
   "metadata": {},
   "source": [
    "## References <a class=\"title_class\" id=\"title_7\"></a>\n",
    "\n",
    "<a id=\"referencesID_03_1\"></a> [1] Hong Huang, *Designing an LLC Resonant\n",
    "Half-Bridge Power Converter*. Available: [https://bbs.dianyuan.com/upload/community/2013/12/01/1385867010-65563.pdf](https://bbs.dianyuan.com/upload/community/2013/12/01/1385867010-65563.pdf)\n",
    "\n",
    "<a id=\"referencesID_03_2\"></a> [2] \n",
    "[B40910 Aluminum electrolytic capacitors datasheet](https://product.tdk.com/system/files/dam/doc/product/capacitor/aluminum-electrolytic/hybrid-polymer/data_sheet/20/30/db/aec/b40910.pdf)\n",
    "\n",
    "<a id=\"referencesID_03_3\"></a> [3] \n",
    "[B3267*L Film Capacitors](https://product.tdk.com/system/files/dam/doc/product/capacitor/film/mkp_mfp/data_sheet/20/20/db/fc_2009/mkp_b32671l_672l.pdf)\n",
    "\n",
    "\n",
    "<a id=\"referencesID_03_4\"></a> [4] \n",
    "[EMHS Aluminum electrolytic capacitors datasheet](https://www.mouser.fr/datasheet/2/420/Chemi_Con_MHSRA_e-3313675.pdf)\n",
    "\n"
   ]
  },
  {
   "cell_type": "code",
   "execution_count": null,
   "id": "62827754-1e0d-481a-a526-d513674035f2",
   "metadata": {},
   "outputs": [],
   "source": []
  }
 ],
 "metadata": {
  "kernelspec": {
   "display_name": "kernel_venv1",
   "language": "python",
   "name": "kernel_venv1"
  },
  "language_info": {
   "codemirror_mode": {
    "name": "ipython",
    "version": 3
   },
   "file_extension": ".py",
   "mimetype": "text/x-python",
   "name": "python",
   "nbconvert_exporter": "python",
   "pygments_lexer": "ipython3",
   "version": "3.13.5"
  }
 },
 "nbformat": 4,
 "nbformat_minor": 5
}
