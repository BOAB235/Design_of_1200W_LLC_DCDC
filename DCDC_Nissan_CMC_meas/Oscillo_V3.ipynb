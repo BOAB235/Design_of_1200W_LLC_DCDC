{
 "cells": [
  {
   "cell_type": "code",
   "execution_count": 1,
   "id": "ac703c46-7a6b-48c3-a4e4-fe2dfc2d601c",
   "metadata": {},
   "outputs": [
    {
     "name": "stdout",
     "output_type": "stream",
     "text": [
      "pyvisa== 1.15.0\n"
     ]
    }
   ],
   "source": [
    "# IMPORT ALL LIB \n",
    "import subprocess\n",
    "import numpy as np  \n",
    "import matplotlib.pyplot as plt \n",
    "\n",
    "#%pip install pyvisa\n",
    "#%pip install pyvisa-py\n",
    "import pyvisa  \n",
    "print(\"pyvisa==\",pyvisa.__version__)"
   ]
  },
  {
   "cell_type": "code",
   "execution_count": null,
   "id": "5ccdf255-8926-40d2-88fc-0f131c6f7140",
   "metadata": {},
   "outputs": [],
   "source": []
  },
  {
   "cell_type": "code",
   "execution_count": 2,
   "id": "9284a747-0194-419c-b41f-78ffd27fd79c",
   "metadata": {},
   "outputs": [
    {
     "name": "stdout",
     "output_type": "stream",
     "text": [
      "Ethernet adapter Ethernet:\n",
      "\n",
      "   Connection-specific DNS Suffix  . : \n",
      "   Link-local IPv6 Address . . . . . : fe80::5481:6a10:a56d:aec%18\n",
      "   Autoconfiguration IPv4 Address. . : 169.254.104.97\n",
      "   Subnet Mask . . . . . . . . . . . : 255.255.0.0\n",
      "   Default Gateway . . . . . . . . . : \n"
     ]
    }
   ],
   "source": [
    "# The IP of the PC \n",
    "result = subprocess.run([\"ipconfig\"], capture_output=True, text=True)\n",
    "output =result.stdout\n",
    "arr=output.split(\"\\n\")\n",
    "for i,l in enumerate (arr):\n",
    "    if \"Ethernet adapter Ethernet:\" in l:\n",
    "        break\n",
    "for j in range(i,i+7):\n",
    "    l= arr[j]\n",
    "    print(l)"
   ]
  },
  {
   "cell_type": "code",
   "execution_count": 3,
   "id": "ec020c80-d437-4858-926b-805fab69cecd",
   "metadata": {},
   "outputs": [],
   "source": [
    "scope_ip = \"169.254.104.98\" "
   ]
  },
  {
   "cell_type": "code",
   "execution_count": 4,
   "id": "586a945f-44df-470d-8628-0018b857bb7a",
   "metadata": {},
   "outputs": [
    {
     "name": "stdout",
     "output_type": "stream",
     "text": [
      "Ping successful:\n",
      "\n",
      "Pinging 169.254.104.98 with 32 bytes of data:\n",
      "Reply from 169.254.104.98: bytes=32 time=1ms TTL=255\n",
      "\n",
      "Ping statistics for 169.254.104.98:\n",
      "    Packets: Sent = 1, Received = 1, Lost = 0 (0% loss),\n",
      "Approximate round trip times in milli-seconds:\n",
      "    Minimum = 1ms, Maximum = 1ms, Average = 1ms\n",
      "\n"
     ]
    }
   ],
   "source": [
    "\n",
    "\n",
    "def ping_oscilloscope(ip=\"169.254.229.238\", count=1):\n",
    "    try:\n",
    "        result = subprocess.run(\n",
    "            [\"ping\", \"-n\", str(count), ip],\n",
    "            stdout=subprocess.PIPE,\n",
    "            stderr=subprocess.PIPE,\n",
    "            text=True,  # decode output as text\n",
    "            shell=True\n",
    "        )\n",
    "        if result.returncode == 0:\n",
    "            print(\"Ping successful:\")\n",
    "        else:\n",
    "            print(\"Ping failed:\")\n",
    "        print(result.stdout)\n",
    "    except Exception as e:\n",
    "        print(\"Error pinging oscilloscope:\", e)\n",
    "\n",
    "ping_oscilloscope(ip = scope_ip )"
   ]
  },
  {
   "cell_type": "code",
   "execution_count": 5,
   "id": "4b2b9264-b7cb-443a-aacb-d2f0bcc3e1d1",
   "metadata": {},
   "outputs": [
    {
     "name": "stdout",
     "output_type": "stream",
     "text": [
      "Connected to: TEKTRONIX,TDS 3034B,0,CF:91.1CT FV:v3.35 TDS3FFT:v1.00 TDS3TRG:v1.00\n",
      "\n"
     ]
    }
   ],
   "source": [
    "rm = pyvisa.ResourceManager('@py') # Use pyvisa-py backend  \n",
    "\n",
    " \n",
    "resource_str = f\"TCPIP::{scope_ip}::INSTR\"  \n",
    "try:  \n",
    "    scope.close()  \n",
    "except: pass  \n",
    "try:  \n",
    "    scope = rm.open_resource(resource_str)  \n",
    "    print(\"Connected to:\", scope.query(\"*IDN?\"))  \n",
    "except Exception as e:  \n",
    "    print(\"Connection failed:\", e)  "
   ]
  },
  {
   "cell_type": "code",
   "execution_count": 6,
   "id": "915cec0b-a154-41ab-85ec-2fd8134db90c",
   "metadata": {},
   "outputs": [],
   "source": [
    "def det_data(chanel = \"CH1\"): \n",
    "    scope.write(\"DATA:SOURCE \"+chanel)  \n",
    "    # Set binary format  \n",
    "    scope.write(\"DATA:ENC RIB\") # Signed binary  \n",
    "    scope.write(\"DATA:WIDTH 2\") # 2 byte per point  \n",
    "    \n",
    "    # Read waveform settings for scaling  \n",
    "    x_increment = float(scope.query(\"WFMPRE:XINCR?\"))  \n",
    "    x_origin = float(scope.query(\"WFMPRE:XZERO?\"))  \n",
    "    y_increment = float(scope.query(\"WFMPRE:YMULT?\"))  \n",
    "    y_origin = float(scope.query(\"WFMPRE:YZERO?\"))  \n",
    "    y_offset = float(scope.query(\"WFMPRE:YOFF?\"))  \n",
    "    \n",
    "    \n",
    "    # set your desired record length  \n",
    "    scope.write(\"DATA:START 1\")  \n",
    "    scope.write(\"DATA:STOP 10000\")  \n",
    "    \n",
    "    # this issues the CURVE? query and returns a numpy int16 array  \n",
    "    raw = scope.query_binary_values(  \n",
    "    'CURVE?',  \n",
    "    datatype='h', # 'h' = signed 16‑bit  \n",
    "    is_big_endian=True, # or False depending on your scope  \n",
    "    container=np.array  \n",
    "    )  \n",
    "    \n",
    "    \n",
    "    # Convert bytes to numpy array  \n",
    "    wave = np.array( raw)  \n",
    "    \n",
    "    # Scale data  \n",
    "    voltages = (wave - y_offset) * y_increment + y_origin  \n",
    "    \n",
    "    times = np.arange(len(voltages)) * x_increment + x_origin \n",
    "    return times, voltages\n",
    "#det_data(chanel = \"CH1\")"
   ]
  },
  {
   "cell_type": "code",
   "execution_count": null,
   "id": "61092016-f01f-405b-b1c8-5a6ce4b15374",
   "metadata": {},
   "outputs": [],
   "source": []
  },
  {
   "cell_type": "code",
   "execution_count": null,
   "id": "0ae80976-1550-4f79-85bb-1a0f6a511851",
   "metadata": {},
   "outputs": [],
   "source": []
  },
  {
   "cell_type": "code",
   "execution_count": 7,
   "id": "ee672498-e4f2-47c8-b14b-83dc00edf9ed",
   "metadata": {},
   "outputs": [],
   "source": [
    "def get_active_channels():\n",
    "    active_channels = []\n",
    "    for i in range(1, 5):  # assuming up to CH4\n",
    "        try:\n",
    "            response = scope.query(f\"SELECT:CH{i}?\").strip()\n",
    "            if response in ['1', 'ON']:  # depending on oscilloscope\n",
    "                active_channels.append(f\"CH{i}\")\n",
    "        except Exception as e:\n",
    "            print(f\"Error querying CH{i}: {e}\")\n",
    "    return active_channels\n",
    "chanels = get_active_channels()\n",
    "#chanels"
   ]
  },
  {
   "cell_type": "raw",
   "id": "9aecc6ff-7415-4fd1-a316-26e159f233d0",
   "metadata": {},
   "source": [
    "def get_config():\n",
    "    t_div = float(scope.query(\"HORIZONTAL:MAIN:SCALE?\"))   \n",
    "    v_div = float(scope.query(\"CH1:SCALE?\"))   \n",
    "    n_pts = int(scope.query(\"WFMPRE:NR_Pt?\"))  \n",
    "    return t_div, v_div , n_pts \n",
    "get_config()"
   ]
  },
  {
   "cell_type": "code",
   "execution_count": 8,
   "id": "bbd6aa11-9413-4740-936c-ad86b754421c",
   "metadata": {},
   "outputs": [],
   "source": [
    "#chanels = ['CH1', 'CH2']\n",
    "def get_probe_config(chanels): \n",
    "    #params = [\"PROBe\", \"IMPEDANCE\", \"COUPLING\"]\n",
    "    params = [\"PROBe\", \"IMPEDANCE\", \"COUPLING\", \n",
    "              \"OFFSET\", \"POSITION\", \"BANDWIDTH\", \"INVERT\", \"SCALE\"]\n",
    "    DIC = {}\n",
    "    for c in chanels: \n",
    "        dic ={}\n",
    "        cu= c.upper()\n",
    "        for p in params: \n",
    "            try:\n",
    "                dic[p]= scope.query(cu+\":\"+p+\"?\").replace(\"\\n\", \"\")\n",
    "            except: pass\n",
    "        DIC[c]= dic\n",
    "    params = [\"HORIZONTAL:MAIN:SCALE?\", \"WFMPRE:NR_Pt?\"]\n",
    "    dic={}\n",
    "    for p in params: \n",
    "        try: \n",
    "            dic[p]= scope.query(p).replace(\"\\n\", \"\")\n",
    "        except: pass\n",
    "    DIC[\"general\"]= dic\n",
    "\n",
    "\n",
    "    params = [\n",
    "        \"TRIGger:STATE?\",\n",
    "        \"TRIGger:MAIn:EDGE:SOURce?\",\n",
    "        \"TRIGger:MAIn:EDGE:SLOPe?\",\n",
    "        \"TRIGger:MAIn:EDGE:COUPling?\",\n",
    "        \"TRIGger:MAIn:LEVel?\"\n",
    "    ]\n",
    "    dic={}\n",
    "    for p in params: \n",
    "        try: \n",
    "            dic[p]= scope.query(p).replace(\"\\n\", \"\")\n",
    "        except: pass\n",
    "    DIC[\"trigger\"]= dic\n",
    "    \n",
    "    return DIC\n",
    "#get_probe_config(chanels)"
   ]
  },
  {
   "cell_type": "code",
   "execution_count": null,
   "id": "e0e93525-395e-4e06-a3ca-a77546133ca3",
   "metadata": {},
   "outputs": [],
   "source": []
  },
  {
   "cell_type": "code",
   "execution_count": null,
   "id": "5e4bedb9-4d58-4d5b-a652-a40236ea0363",
   "metadata": {},
   "outputs": [],
   "source": []
  },
  {
   "cell_type": "code",
   "execution_count": null,
   "id": "0bcb74bd-551c-4aea-b842-f008b04acddb",
   "metadata": {},
   "outputs": [],
   "source": []
  },
  {
   "cell_type": "code",
   "execution_count": 9,
   "id": "6a251ce3-a73e-42ea-a97a-56fd060aea28",
   "metadata": {},
   "outputs": [],
   "source": [
    "def get_meas():\n",
    "    arr = {}\n",
    "    for i in range(1,5):  \n",
    "        data, status = scope.query(f\"MEASurement:MEAS{i}:DATA?\").split(',')  \n",
    "        mtype = scope.query(f\"MEASurement:MEAS{i}:TYPE?\").strip()\n",
    "        source = scope.query(f\"MEASurement:MEAS{i}:SOURCE1?\").strip()\n",
    "        if int(status) ==0:  \n",
    "            #print(\"#\", source,mtype, data)  \n",
    "            try:\n",
    "                arr[source][mtype]=data\n",
    "            except:\n",
    "                arr[source] = {mtype:data}\n",
    "\n",
    "    return arr\n",
    "#get_meas()              "
   ]
  },
  {
   "cell_type": "code",
   "execution_count": 10,
   "id": "aa799258-fd7a-44f0-93eb-03289a9eaebc",
   "metadata": {},
   "outputs": [],
   "source": [
    "import json\n",
    "\n",
    "\n",
    "def get_params_txt(title=None):\n",
    "    chanels = get_active_channels()\n",
    "    dic  =get_probe_config(chanels)\n",
    "    dic[\"measurements\"]= get_meas() \n",
    "    if title is not None: \n",
    "        # Save to JSON file\n",
    "        with open(title+\".json\", \"w\") as f:\n",
    "            json.dump(dic, f, indent=4)\n",
    "    return dic \n",
    "#_= get_params_txt(\"test\")\n",
    "#_"
   ]
  },
  {
   "cell_type": "code",
   "execution_count": 11,
   "id": "8586b88c-b99e-4554-82f5-6494db93a30d",
   "metadata": {},
   "outputs": [],
   "source": [
    "import pandas as pd \n",
    "def get_signals(title):\n",
    "    chanels = get_active_channels()\n",
    "    DIC = {}\n",
    "    for c in chanels: \n",
    "        dic ={}\n",
    "        cu= c.upper()\n",
    "        time, voltage = det_data(chanel = cu)\n",
    "        DIC[\"time\"]= time\n",
    "        DIC[cu]= voltage\n",
    "    df = pd.DataFrame(DIC)\n",
    "    df.to_csv(title+\".csv\", index = False) \n",
    "    return df\n"
   ]
  },
  {
   "cell_type": "code",
   "execution_count": null,
   "id": "592944f8-468f-4cd0-9d0c-2b40dd579c73",
   "metadata": {},
   "outputs": [],
   "source": []
  },
  {
   "cell_type": "code",
   "execution_count": null,
   "id": "ac24afa4-89dc-468a-9637-7b79edbfb4db",
   "metadata": {},
   "outputs": [],
   "source": []
  },
  {
   "cell_type": "code",
   "execution_count": null,
   "id": "ae14cfbf-5fe8-4a5c-81ef-6fe323062380",
   "metadata": {},
   "outputs": [],
   "source": []
  },
  {
   "cell_type": "code",
   "execution_count": null,
   "id": "61a5df34-1fe8-4bca-ab58-e5b534bdbec3",
   "metadata": {},
   "outputs": [],
   "source": []
  },
  {
   "cell_type": "code",
   "execution_count": null,
   "id": "cb29a743-521f-481b-aad3-1454093025db",
   "metadata": {},
   "outputs": [],
   "source": []
  },
  {
   "cell_type": "code",
   "execution_count": null,
   "id": "325cc7a0-788e-4704-a542-2531418c5b54",
   "metadata": {},
   "outputs": [],
   "source": []
  },
  {
   "cell_type": "code",
   "execution_count": null,
   "id": "119ea16b-22bb-4a67-bfaa-cb3673e2cf28",
   "metadata": {},
   "outputs": [],
   "source": []
  },
  {
   "cell_type": "code",
   "execution_count": null,
   "id": "c4e3c088-007f-4f61-84fc-fdcfa133bb45",
   "metadata": {},
   "outputs": [],
   "source": []
  },
  {
   "cell_type": "code",
   "execution_count": null,
   "id": "f33d7b21-4ec4-4f1d-9d50-e9ea2799f6b1",
   "metadata": {},
   "outputs": [],
   "source": []
  },
  {
   "cell_type": "markdown",
   "id": "82c95b17-8a0b-4f1c-92cd-cddfa102c534",
   "metadata": {},
   "source": [
    "# MEAS"
   ]
  },
  {
   "cell_type": "code",
   "execution_count": 12,
   "id": "0b10f74b-47a4-4185-9b74-a36ed7f22051",
   "metadata": {},
   "outputs": [
    {
     "data": {
      "image/png": "[encoded data removed]",
      "text/plain": [
       "<Figure size 640x480 with 2 Axes>"
      ]
     },
     "metadata": {},
     "output_type": "display_data"
    }
   ],
   "source": [
    "#read all chanels, parameters in one cmd \n",
    "title = \"test\"\n",
    "df = get_signals(title)\n",
    "dic= get_params_txt(title)\n",
    "cols= list(df.columns)\n",
    "cols.remove(\"time\")\n",
    "ax = df.plot(x=\"time\", y=cols[0])  # First column on primary y-axis\n",
    "for col in cols[1:]:\n",
    "    df.plot(x=\"time\", y=col, ax=ax, secondary_y=True)  # Rest on secondary y-axis\n",
    "plt.grid()\n",
    "plt.xticks(rotation=90)\n",
    "plt.title(title)\n",
    "\n",
    "\n",
    "plt.savefig(title+\".png\")\n",
    "plt.show()"
   ]
  },
  {
   "cell_type": "code",
   "execution_count": 14,
   "id": "c3d7f4f4-0805-452f-93a3-6e858a980a90",
   "metadata": {},
   "outputs": [],
   "source": [
    "df.to_csv(\"L_meas.csv\")"
   ]
  }
 ],
 "metadata": {
  "kernelspec": {
   "display_name": "kernel_venv1",
   "language": "python",
   "name": "kernel_venv1"
  },
  "language_info": {
   "codemirror_mode": {
    "name": "ipython",
    "version": 3
   },
   "file_extension": ".py",
   "mimetype": "text/x-python",
   "name": "python",
   "nbconvert_exporter": "python",
   "pygments_lexer": "ipython3",
   "version": "3.13.5"
  }
 },
 "nbformat": 4,
 "nbformat_minor": 5
}
