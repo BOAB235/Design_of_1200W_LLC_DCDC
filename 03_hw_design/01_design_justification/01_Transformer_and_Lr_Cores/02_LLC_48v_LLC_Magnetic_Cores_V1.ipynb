{
 "cells": [
  {
   "cell_type": "code",
   "execution_count": 1,
   "id": "a848bd3c-8043-400c-9c88-056cbd5b5754",
   "metadata": {},
   "outputs": [],
   "source": [
    "# imPORT LIBRARIES \n",
    "import numpy as np\n",
    "import matplotlib.pyplot as plt\n",
    "from scipy.interpolate import interp1d\n",
    "from math import pi, sqrt\n",
    "import handcalcs.render\n",
    "import pandas as pd\n",
    "import json \n",
    "# !pip install handcalcs"
   ]
  },
  {
   "cell_type": "code",
   "execution_count": 2,
   "id": "42e0a55e-e8d4-42c3-a63f-e48b00c37835",
   "metadata": {},
   "outputs": [],
   "source": [
    "# CONFIGURATIONS\n",
    "#help(handcalcs.set_option)\n",
    "handcalcs.set_option(\"latex_block_start\", \"$\")\n",
    "handcalcs.set_option(\"latex_block_end\", \"$\")\n",
    "handcalcs.set_option(\"math_environment_end\", \"aligned\")\n",
    "handcalcs.set_option(\"use_scientific_notation\",True)\n",
    "#handcalcs.set_option(\"line_break\", \"\\\\\\\\[20pt]\")\n",
    "#handcalcs.set_option(\"param_columns\", 1)\n",
    "\n",
    "#handcalcs.set_option(\"math_environment_start\", \"aligned\")\n",
    "#handcalcs.set_option(\"math_environment_end\", \"aligned\")\n",
    "#handcalcs.set_option(\"line_break\", r\"<br>\")\n",
    "#handcalcs.set_option(\"line_break\", r\"\\\\\")"
   ]
  },
  {
   "cell_type": "code",
   "execution_count": 4,
   "id": "341191e8-465d-4165-9a3d-18183751f171",
   "metadata": {},
   "outputs": [],
   "source": [
    "from localcode2 import *\n",
    "fig_counter=1"
   ]
  },
  {
   "cell_type": "code",
   "execution_count": null,
   "id": "f446632e-3a87-4ccb-91d7-227717c3f90f",
   "metadata": {},
   "outputs": [],
   "source": []
  },
  {
   "cell_type": "code",
   "execution_count": null,
   "id": "429f59c3-8cc9-4ddd-aa83-464fc7ec02e6",
   "metadata": {},
   "outputs": [],
   "source": []
  },
  {
   "cell_type": "markdown",
   "id": "140fba4f-bfc3-44a8-a1d5-6183464e65f5",
   "metadata": {},
   "source": [
    "# Design of Magnetic Cores Lm and Lr"
   ]
  },
  {
   "cell_type": "markdown",
   "id": "ea747bab-ffc0-49c9-8305-0bff02b42a39",
   "metadata": {},
   "source": [
    "## Inputs and claculated parameters"
   ]
  },
  {
   "cell_type": "code",
   "execution_count": null,
   "id": "7989174e-1e8f-48cf-a9a0-77dddd23c676",
   "metadata": {},
   "outputs": [],
   "source": []
  },
  {
   "cell_type": "code",
   "execution_count": 5,
   "id": "263aba63-9c75-4c37-8a25-a34531430131",
   "metadata": {},
   "outputs": [],
   "source": [
    "with open(\"../01_llc_tank/04_outputs/inp_datas.json\", \"r\", encoding=\"utf-8\") as f:\n",
    "    inp_datas = json.load(f)\n",
    "#print(\"Input datas:\")\n",
    "#print(\"=\"*20)\n",
    "#display(inp_datas)\n",
    "S= pd.Series(inp_datas, name = \"Input datas\").to_frame()\n",
    "#display(S)\n",
    "#print(inp_datas)\n",
    "with open(\"../01_llc_tank/04_outputs/out_results.json\", \"r\", encoding=\"utf-8\") as f:\n",
    "    out_datas = json.load(f)\n",
    "#print(\"Output datas:\")\n",
    "#print(\"=\"*20)\n",
    "#display(out_datas)\n",
    "\n",
    "S= pd.Series(out_datas, name = \"Output datas\").to_frame()\n",
    "#display(S)\n",
    "#print(\"\\n\")\n",
    "#print(out_datas)\n",
    "\n",
    "\n",
    "# Load variables \n",
    "for key, value in inp_datas.items():\n",
    "    globals()[key] = value\n",
    "for key, value in out_datas.items():\n",
    "    globals()[key] = value"
   ]
  },
  {
   "cell_type": "code",
   "execution_count": null,
   "id": "a00b97af-aca1-46fa-96a6-f5081b794c88",
   "metadata": {},
   "outputs": [],
   "source": []
  },
  {
   "cell_type": "code",
   "execution_count": 6,
   "id": "a297902d-bff9-494d-8f6b-5f1affca2310",
   "metadata": {},
   "outputs": [],
   "source": [
    "import math \n",
    "def dic_show(out_datas, nb_cols = 3):\n",
    "    keys = list(out_datas.keys())\n",
    "    values = list(out_datas.values())\n",
    "    \n",
    "    # Compute number of rows needed\n",
    "    Nbindex = math.ceil(len(keys) / nb_cols)\n",
    "    \n",
    "    # Prepare a dictionary for DataFrame\n",
    "    data_dict = {}\n",
    "    for i in range(nb_cols):\n",
    "        # Slice keys and values for this column\n",
    "        col_keys = keys[i*Nbindex:(i+1)*Nbindex]\n",
    "        col_values = values[i*Nbindex:(i+1)*Nbindex]\n",
    "        \n",
    "        # Pad with empty strings if necessary\n",
    "        while len(col_keys) < Nbindex:\n",
    "            col_keys.append(\"\")\n",
    "            col_values.append(\"\")\n",
    "        \n",
    "        # Add two columns per logical column: \"Name\" and \"Value\"\n",
    "        data_dict[f\"Name_{i+1}\"] = col_keys\n",
    "        data_dict[f\"Value_{i+1}\"] = col_values\n",
    "    \n",
    "    # Create DataFrame\n",
    "    df = pd.DataFrame(data_dict)\n",
    "    print(df.to_string(index=False, header=False))\n"
   ]
  },
  {
   "cell_type": "code",
   "execution_count": 7,
   "id": "ac9eaebe-45f4-49a1-a7b0-4497309f294a",
   "metadata": {},
   "outputs": [
    {
     "name": "stdout",
     "output_type": "stream",
     "text": [
      "V_In_min 360.0 V_In_max 400.0 Vo_nom 48.0 Power   1200.0\n",
      "V_In_nom 380.0   Vo_min  42.0 Vo_max 54.0 f_nom 100000.0\n",
      "\n",
      "\n",
      "  Lnc   3.000   Lm_uH     65.392     Ioe_rms  7.636 Re_110    22.637\n",
      "  Qec   0.550 fsw_min  60170.000     Ios_rms 30.545     Cr       0.0\n",
      "Cr_nF 116.209 fsw_max 156220.000      Ir_rms 10.354     Lr  0.000022\n",
      "    n   4.000  Im_rms      6.992 L_second_uH  4.087     Lm  0.000065\n",
      "Lr_uH  21.797      Io     25.000      Re_nom 24.901                 \n"
     ]
    }
   ],
   "source": [
    "dic_show(inp_datas, 4)\n",
    "print(\"\\n\")\n",
    "dic_show(out_datas, 4)"
   ]
  },
  {
   "cell_type": "code",
   "execution_count": null,
   "id": "cf61aab1-4bc5-4ec0-8d4d-d541fd762a25",
   "metadata": {},
   "outputs": [],
   "source": []
  },
  {
   "cell_type": "code",
   "execution_count": null,
   "id": "9f88d5df-d306-4b78-a6d1-3c0c2b713746",
   "metadata": {},
   "outputs": [],
   "source": []
  },
  {
   "cell_type": "markdown",
   "id": "592b6259-19e4-4a97-97b5-c6f8654e8e99",
   "metadata": {},
   "source": [
    "## Transformer design"
   ]
  },
  {
   "cell_type": "code",
   "execution_count": 8,
   "id": "71abd726-76bf-447f-b85b-752a30271edd",
   "metadata": {
    "scrolled": true
   },
   "outputs": [
    {
     "data": {
      "text/html": [
       "<div>\n",
       "<style scoped>\n",
       "    .dataframe tbody tr th:only-of-type {\n",
       "        vertical-align: middle;\n",
       "    }\n",
       "\n",
       "    .dataframe tbody tr th {\n",
       "        vertical-align: top;\n",
       "    }\n",
       "\n",
       "    .dataframe thead th {\n",
       "        text-align: right;\n",
       "    }\n",
       "</style>\n",
       "<table border=\"1\" class=\"dataframe\">\n",
       "  <thead>\n",
       "    <tr style=\"text-align: right;\">\n",
       "      <th></th>\n",
       "      <th>Transormer parameters</th>\n",
       "    </tr>\n",
       "  </thead>\n",
       "  <tbody>\n",
       "    <tr>\n",
       "      <th>n</th>\n",
       "      <td>4.000</td>\n",
       "    </tr>\n",
       "    <tr>\n",
       "      <th>Lm_uH</th>\n",
       "      <td>65.392</td>\n",
       "    </tr>\n",
       "    <tr>\n",
       "      <th>fsw_min</th>\n",
       "      <td>60170.000</td>\n",
       "    </tr>\n",
       "    <tr>\n",
       "      <th>fsw_max</th>\n",
       "      <td>156220.000</td>\n",
       "    </tr>\n",
       "    <tr>\n",
       "      <th>Ir_rms</th>\n",
       "      <td>10.354</td>\n",
       "    </tr>\n",
       "    <tr>\n",
       "      <th>Im_rms</th>\n",
       "      <td>6.992</td>\n",
       "    </tr>\n",
       "    <tr>\n",
       "      <th>Ioe_rms</th>\n",
       "      <td>7.636</td>\n",
       "    </tr>\n",
       "    <tr>\n",
       "      <th>Ios_rms</th>\n",
       "      <td>30.545</td>\n",
       "    </tr>\n",
       "    <tr>\n",
       "      <th>L_second_uH</th>\n",
       "      <td>4.087</td>\n",
       "    </tr>\n",
       "    <tr>\n",
       "      <th>Al_uH</th>\n",
       "      <td>4.087</td>\n",
       "    </tr>\n",
       "  </tbody>\n",
       "</table>\n",
       "</div>"
      ],
      "text/plain": [
       "             Transormer parameters\n",
       "n                            4.000\n",
       "Lm_uH                       65.392\n",
       "fsw_min                  60170.000\n",
       "fsw_max                 156220.000\n",
       "Ir_rms                      10.354\n",
       "Im_rms                       6.992\n",
       "Ioe_rms                      7.636\n",
       "Ios_rms                     30.545\n",
       "L_second_uH                  4.087\n",
       "Al_uH                        4.087"
      ]
     },
     "metadata": {},
     "output_type": "display_data"
    }
   ],
   "source": [
    "with open(\"../01_llc_tank/04_outputs/out_results.json\", \"r\", encoding=\"utf-8\") as f:\n",
    "    out_datas = json.load(f)\n",
    "\n",
    "\n",
    "# Load variables \n",
    "for key, value in out_datas.items():\n",
    "    globals()[key] = value\n",
    "    \n",
    "params = ['n',  'Lm_uH', 'fsw_min', 'fsw_max', 'Ir_rms', 'Im_rms', 'Ioe_rms', 'Ios_rms', 'L_second_uH']\n",
    "\n",
    "dic_transfo= {x:out_datas[x] for x in params}\n",
    "Al = out_datas[\"Lm_uH\"]/out_datas[\"n\"]**2\n",
    "dic_transfo[\"Al_uH\"]= Al\n",
    "\n",
    "S= pd.Series(dic_transfo, name = \"Transormer parameters\").to_frame()\n",
    "display(S)"
   ]
  },
  {
   "cell_type": "markdown",
   "id": "f95ca23a-63ab-47ab-a609-deff475b93cb",
   "metadata": {},
   "source": [
    "**Bpeak formula**\n",
    "\n",
    "$$\n",
    "B_{peak} = \\frac{L_m \\cdot Im_{peak}}{N_p \\cdot A_e}= \\frac{L_m \\cdot \\sqrt{2} \\cdot  Im_{rms}}{N_p \\cdot A_{e}}\n",
    "$$\n",
    "\n",
    "Where\n",
    "- `A_e` = effective core area (in m²)\n",
    "- `N_p` = primary turnes\n"
   ]
  },
  {
   "cell_type": "markdown",
   "id": "3c93e5f3-61a0-4bcd-8c4c-51d37a235518",
   "metadata": {},
   "source": [
    "The `Al` value: "
   ]
  },
  {
   "cell_type": "code",
   "execution_count": 9,
   "id": "6ec05c12-267d-4eb9-a112-2339d44bd175",
   "metadata": {},
   "outputs": [
    {
     "data": {
      "text/latex": [
       "$\n",
       "\\begin{aligned}\n",
       "\\mathrm{Al}_{nH} &= 1 \\times 10 ^ {3} \\cdot \\frac{ \\mathrm{Lm}_{uH} }{ \\left( n \\right) ^{ 2 } } \\\\&= 1 \\times 10 ^ {3} \\cdot \\frac{ 65.392 }{ \\left( 4.000 \\right) ^{ 2 } } \\\\&= 4087.000 \\; \\;\\textrm{(nH/turn squared)}\\\\[10pt]\n",
       "\\end{aligned}\n",
       "$"
      ],
      "text/plain": [
       "<IPython.core.display.Latex object>"
      ]
     },
     "metadata": {},
     "output_type": "display_data"
    }
   ],
   "source": [
    "%%render long\n",
    "Al_nH= 1e3*Lm_uH/n**2 # nH/turn squared"
   ]
  },
  {
   "cell_type": "markdown",
   "id": "0f5bc3f3-b9f5-4d33-9c0c-8fda7756a2dd",
   "metadata": {},
   "source": [
    "**ELP 43/10/28 core**"
   ]
  },
  {
   "cell_type": "code",
   "execution_count": 10,
   "id": "58e4337a-1c07-454d-964f-144457b273e7",
   "metadata": {},
   "outputs": [
    {
     "data": {
      "text/latex": [
       "$\n",
       "\\begin{aligned}\n",
       "\\mathrm{Lm}_{uH} &= 65.392 \\; \n",
       "\\\\[10pt]\n",
       "\\mathrm{Np} &= 4.000 \\; \\;\\textrm{(turns)}\n",
       "\\\\[10pt]\n",
       "\\mathrm{Ae} &= 225 \\; \\;\\textrm{(mm2 see datasheet ELP 43/10/28)}\n",
       "\\\\[10pt]\n",
       "\\mathrm{Aemin} &= 217 \\; \\;\\textrm{(mm2 see datasheet ELP 43/10/28)}\n",
       "\\\\[10pt]\n",
       "\\mathrm{Im}_{rms} &= 6.992 \\; \\;\\textrm{(Arms)}\n",
       "\\\\[10pt]\n",
       "B_{peak} &= 1 \\times 10 ^ {3} \\cdot \\mathrm{Lm} \\cdot \\sqrt { 2 } \\cdot \\frac{ \\mathrm{Im}_{rms} }{ \\mathrm{Np} \\cdot \\mathrm{Aemin} \\cdot 1 \\times 10 ^ {-6} } \\\\&= 1 \\times 10 ^ {3} \\cdot 0.000 \\cdot \\sqrt { 2 } \\cdot \\frac{ 6.992 }{ 4.000 \\cdot 217 \\cdot 1 \\times 10 ^ {-6} } \\\\&= 744.940 \\; \\;\\textrm{(mT > Bs= 250mT NOK)}\\\\[10pt]\n",
       "\\end{aligned}\n",
       "$"
      ],
      "text/plain": [
       "<IPython.core.display.Latex object>"
      ]
     },
     "metadata": {},
     "output_type": "display_data"
    }
   ],
   "source": [
    "%%render long\n",
    "Lm_uH\n",
    "Np= n # turns \n",
    "Ae = 225 # mm2 see datasheet ELP 43/10/28\n",
    "Aemin = 217 # mm2 see datasheet ELP 43/10/28\n",
    "Im_rms # Arms\n",
    "B_peak = 1e3*Lm*sqrt(2)*Im_rms/(Np*Aemin*1e-6) # mT > Bs= 250mT NOK"
   ]
  },
  {
   "cell_type": "code",
   "execution_count": null,
   "id": "1c1539a4-cf71-485f-9b0f-2e8cd16a1551",
   "metadata": {},
   "outputs": [],
   "source": []
  },
  {
   "cell_type": "markdown",
   "id": "1e3af5da-eb21-40b1-8abb-97ae437e13e5",
   "metadata": {},
   "source": [
    "Since the formulat of peak flux density is $\n",
    "\\begin{aligned}\n",
    "B_{peak} = \\mathrm{Lm} \\cdot \\sqrt { 2 } \\cdot \\frac{ \\mathrm{Im}_{rms} }{ \\mathrm{Np} \\cdot \\mathrm{Aemin} }   \n",
    "\\end{aligned}\n",
    "$\n",
    "We can reduct the peak by reducing the current or by reducing Lm or by increasing Np "
   ]
  },
  {
   "cell_type": "markdown",
   "id": "02fa486b-c52d-48d0-a10d-72ca1f7d2625",
   "metadata": {},
   "source": [
    "We can reduce $A_L$ by adding an air gap, below the formula of air gap length"
   ]
  },
  {
   "cell_type": "markdown",
   "id": "58f40c4f-1f05-4bf4-94a4-b9ee6cbef9f1",
   "metadata": {},
   "source": [
    "$$\n",
    "A_{L}' = \\frac{A_L}{1 + \\mu_r \\,\\frac{L_g}{L_e}}\n",
    "$$\n",
    "\n",
    "$$\n",
    "l_g = \\frac{L_e}{\\mu_r} \\left( \\frac{A_L}{A_L'} - 1 \\right)\n",
    "$$\n",
    "\n",
    "Where\n",
    "- $ A_{L}' $ : the corrected inductance factor (in nH or µH), after introducing the air gap\n",
    "- $ A_L $ : the initial inductance factor provided by the core manufacturer (in nH or µH)\n",
    "- $ l_g $ : the air gap length (in mm)\n",
    "- $ L_e $ : the effective magnetic path length of the core (in mm)\n",
    "\n",
    "This equation accounts for the effect of the air gap on the inductance. Increasing the air gap reduces the effective permeability, and thus reduces $ A_{L}' $.\n"
   ]
  },
  {
   "cell_type": "code",
   "execution_count": null,
   "id": "905d2400-cb3e-45be-9fad-018aa2c0a9f4",
   "metadata": {},
   "outputs": [],
   "source": []
  },
  {
   "cell_type": "code",
   "execution_count": null,
   "id": "10f50d62-095e-430b-b1d6-3aeae4553f0d",
   "metadata": {},
   "outputs": [],
   "source": []
  },
  {
   "cell_type": "markdown",
   "id": "c358fe7c-2dd9-43b0-b8e8-de1d066f4bdf",
   "metadata": {},
   "source": [
    "### Core ELP 64/10/50 with I 64/5/50"
   ]
  },
  {
   "cell_type": "markdown",
   "id": "5ba99f09-8bd5-4e47-860e-426f87f7f02f",
   "metadata": {},
   "source": [
    "#### Inputs data"
   ]
  },
  {
   "cell_type": "raw",
   "id": "57483bba-454b-4986-9045-67dea638b8cf",
   "metadata": {},
   "source": [
    "μ_r: relative permeability (material property)\n",
    "μ_e: effective permeability (assembly/shape property)"
   ]
  },
  {
   "cell_type": "code",
   "execution_count": 11,
   "id": "6f3fb3aa-4811-49b6-9b53-0d1ddb6ca77c",
   "metadata": {},
   "outputs": [
    {
     "data": {
      "text/latex": [
       "$\n",
       "\\begin{aligned}\n",
       "\\mathrm{core} &= \\mathrm{} \\; \\;\\textrm{(ELP 64/10/50 with I 64/5/50)}\n",
       "\\\\[10pt]\n",
       "\\mathrm{Al}_{nH} &= 14000 \\; \\;\\textrm{(nH)}\n",
       "\\\\[10pt]\n",
       "A_{e} &= 519 \\; \\;\\textrm{(mm2)}\n",
       "\\\\[10pt]\n",
       "l_{e} &= 69.700 \\; \\;\\textrm{(mm)}\n",
       "\\\\[10pt]\n",
       "\\mu_{r} &= 1450 \\; \\;\\textrm{(N87)}\n",
       "\\\\[10pt]\n",
       "B_{sat} &= 300 \\; \\;\\textrm{(mT @ 250A/m 10kHz 100°C)}\n",
       "\\\\[10pt]\n",
       "\\mathrm{K1} &= 835 \\; \\;\\textrm{(@ 25°C, 0.10 mm < s < 2.00 mm)}\n",
       "\\\\[10pt]\n",
       "\\mathrm{K2} &= -0.790 \\; \\;\\textrm{(@ 25°C, 0.10 mm < s < 2.00 mm)}\n",
       "\\\\[10pt]\n",
       "\\mu_{0} &= 4 \\cdot \\pi \\cdot 1 \\times 10 ^ {-7} \\\\&= 4 \\cdot 3.142 \\cdot 1 \\times 10 ^ {-7} \\\\&= 0.000 \\; \\;\\textrm{(H m−1)}\\\\[10pt]\n",
       "\\end{aligned}\n",
       "$"
      ],
      "text/plain": [
       "<IPython.core.display.Latex object>"
      ]
     },
     "metadata": {},
     "output_type": "display_data"
    }
   ],
   "source": [
    "%%render long\n",
    "core = \"\" #ELP 64/10/50 with I 64/5/50\n",
    "Al_nH= 14000 # nH\n",
    "A_e= 519 # mm2\n",
    "l_e=69.7 # mm\n",
    "mu_r=1450 # N87\n",
    "B_sat=300 # mT @ 250A/m 10kHz 100°C\n",
    "K1= 835 # @ 25°C, 0.10 mm < s < 2.00 mm\n",
    "K2= -0.79 # @ 25°C, 0.10 mm < s < 2.00 mm\n",
    "mu_0 = 4*pi *1e-7 # H m−1 "
   ]
  },
  {
   "cell_type": "markdown",
   "id": "99c83730-5485-441b-9344-73fdee85f7b4",
   "metadata": {},
   "source": [
    "#### The air gap "
   ]
  },
  {
   "cell_type": "code",
   "execution_count": 12,
   "id": "9071436e-60cf-4c8a-983c-40fabe8ca24b",
   "metadata": {},
   "outputs": [
    {
     "data": {
      "text/latex": [
       "$\n",
       "\\begin{aligned}\n",
       "\\mathrm{Lm}_{nH} &= \\mathrm{Lm}_{uH} \\cdot 1 \\times 10 ^ {3}  = 65.392 \\cdot 1 \\times 10 ^ {3} &= 65392.000  \n",
       "\\\\[10pt]\n",
       "\\mathrm{Al}_{nH} &= 14000 \\; \n",
       "\\\\[10pt]\n",
       "\\mathrm{Al}_{Target} &= \\frac{ \\mathrm{Lm}_{nH} }{ \\left( n \\right) ^{ 2 } }  = \\frac{ 65392.000 }{ \\left( 4.000 \\right) ^{ 2 } } &= 4087.000 \\; \\;\\textrm{(nH)}\n",
       "\\\\[10pt]\n",
       "\\mu_{eTarget} &= \\mu_{r} \\cdot \\frac{ \\mathrm{Al}_{Target} }{ \\mathrm{Al}_{nH} }  = 1450 \\cdot \\frac{ 4087.000 }{ 14000 } &= 423.296  \n",
       "\\end{aligned}\n",
       "$"
      ],
      "text/plain": [
       "<IPython.core.display.Latex object>"
      ]
     },
     "metadata": {},
     "output_type": "display_data"
    }
   ],
   "source": [
    "%%render \n",
    "Lm_nH= Lm_uH*1e3\n",
    "Al_nH\n",
    "Al_Target = Lm_nH/n**2 # nH\n",
    "mu_eTarget = mu_r*Al_Target/Al_nH"
   ]
  },
  {
   "cell_type": "markdown",
   "id": "d6fdba80-1ae2-4d84-baf7-3780d40b0c7c",
   "metadata": {},
   "source": [
    "**Simified formula of air gap**"
   ]
  },
  {
   "cell_type": "code",
   "execution_count": 59,
   "id": "89c6630d-020d-49f2-a2c1-30c56d100dab",
   "metadata": {},
   "outputs": [
    {
     "data": {
      "text/latex": [
       "$\n",
       "\\begin{aligned}\n",
       "\\mathrm{Ae} &= A_{e} \\cdot 1 \\times 10 ^ {-6} \\\\&= 519 \\cdot 1 \\times 10 ^ {-6} \\\\&= 0.001 \\; \\;\\textrm{(m2)}\\\\[10pt]\n",
       "\\\\[10pt]\n",
       "\\mathrm{le} &= 0.070 \\; \\;\\textrm{(m)}\n",
       "\\\\[10pt]\n",
       "l_{g} &= \\frac{ \\mu_{0} \\cdot \\left( n \\right) ^{ 2 } \\cdot \\mathrm{Ae} }{ \\mathrm{Lm} } - \\frac{ \\mathrm{le} }{ \\mu_{r} } \\\\&= \\frac{ 0.000 \\cdot \\left( 4.000 \\right) ^{ 2 } \\cdot 0.001 }{ 0.000 } - \\frac{ 0.070 }{ 1450 } \\\\&= 0.000  \\\\[10pt]\n",
       "\\\\[10pt]\n",
       "\\mathrm{lg} &= l_{g} \\cdot 1 \\times 10 ^ {3} \\\\&= 0.000 \\cdot 1 \\times 10 ^ {3} \\\\&= 0.112 \\; \\;\\textrm{(mm)}\\\\[10pt]\n",
       "\\end{aligned}\n",
       "$"
      ],
      "text/plain": [
       "<IPython.core.display.Latex object>"
      ]
     },
     "metadata": {},
     "output_type": "display_data"
    }
   ],
   "source": [
    "%%render long \n",
    "Ae= A_e*1e-6 # m2\n",
    "le=l_e*1e-3 # m\n",
    "l_g = (mu_0*n**2*Ae)/Lm -le/mu_r\n",
    "lg = l_g*1e3 # mm"
   ]
  },
  {
   "cell_type": "markdown",
   "id": "489a6424-1d8a-40bb-a9e5-125d4c02030a",
   "metadata": {},
   "source": [
    "**TDK formula of air gap using K1 and K2**"
   ]
  },
  {
   "cell_type": "code",
   "execution_count": 60,
   "id": "aff2161c-9f79-400d-b8a3-2f919b10c96d",
   "metadata": {},
   "outputs": [
    {
     "data": {
      "text/latex": [
       "$\n",
       "\\begin{aligned}\n",
       "s_{mm} &= \\left( \\frac{ \\mathrm{Al}_{Target} }{ \\mathrm{K1} } \\right) ^{ \\left( \\frac{ 1 }{ \\mathrm{K2} } \\right) } \\\\&= \\left( \\frac{ 4087.000 }{ 835 } \\right) ^{ \\left( \\frac{ 1 }{ -0.790 } \\right) } \\\\&= 0.134 \\; \\;\\textrm{(mm airgap)}\\\\[10pt]\n",
       "\\end{aligned}\n",
       "$"
      ],
      "text/plain": [
       "<IPython.core.display.Latex object>"
      ]
     },
     "metadata": {},
     "output_type": "display_data"
    }
   ],
   "source": [
    "%%render long\n",
    "s_mm= (Al_Target/K1)**(1/K2) # mm airgap "
   ]
  },
  {
   "cell_type": "code",
   "execution_count": 61,
   "id": "de8311b6-b043-4346-a81d-254022bc2434",
   "metadata": {},
   "outputs": [],
   "source": [
    "l_g= lg"
   ]
  },
  {
   "cell_type": "code",
   "execution_count": 62,
   "id": "2f330651-01f4-47b8-8ccf-897b2d2d83f4",
   "metadata": {},
   "outputs": [],
   "source": [
    "l_g_graph = 0.140 # mm"
   ]
  },
  {
   "cell_type": "code",
   "execution_count": 63,
   "id": "9554193f-0683-46d9-8b8c-0c2ad580fe90",
   "metadata": {},
   "outputs": [
    {
     "data": {
      "text/latex": [
       "$\n",
       "\\begin{aligned}\n",
       "s_{mm} &= 0.134 \\; \\;\\textrm{(mm using TDK formula K1, K2)}\n",
       "\\\\[10pt]\n",
       "l_{g} &= 0.112 \\; \\;\\textrm{(mm using the simple formula)}\n",
       "\\\\[10pt]\n",
       "l_{g_{graph}} &= 0.140 \\; \\;\\textrm{(mm using TDK graph)}\n",
       "\\end{aligned}\n",
       "$"
      ],
      "text/plain": [
       "<IPython.core.display.Latex object>"
      ]
     },
     "metadata": {},
     "output_type": "display_data"
    }
   ],
   "source": [
    "%%render \n",
    "s_mm # mm using TDK formula K1, K2\n",
    "l_g # mm using the simple formula\n",
    "l_g_graph # mm using TDK graph "
   ]
  },
  {
   "cell_type": "code",
   "execution_count": null,
   "id": "a6d1ddbf-4199-4a0d-96a0-83038e6524c3",
   "metadata": {},
   "outputs": [],
   "source": []
  },
  {
   "cell_type": "code",
   "execution_count": null,
   "id": "3ad5293f-d99d-4d35-96fb-c7a88d37d868",
   "metadata": {},
   "outputs": [],
   "source": []
  },
  {
   "cell_type": "code",
   "execution_count": null,
   "id": "ee07b0a8-eb0f-4c5d-a0f0-82c2f506f4ab",
   "metadata": {},
   "outputs": [],
   "source": []
  },
  {
   "cell_type": "markdown",
   "id": "50d7b699-71f7-4db0-993d-57fd79df32d9",
   "metadata": {},
   "source": [
    "#### The Bpeak and Bsat"
   ]
  },
  {
   "cell_type": "code",
   "execution_count": 64,
   "id": "bfbfc369-a06e-42dc-b5b4-2a1b6ee5f739",
   "metadata": {},
   "outputs": [
    {
     "data": {
      "text/latex": [
       "$\n",
       "\\begin{aligned}\n",
       "\\mu_{e} &= \\frac{ l_{e} + l_{g} }{ l_{g} + \\frac{ l_{e} }{ \\mu_{r} } } \\\\&= \\frac{ 69.700 + 0.112 }{ 0.112 + \\frac{ 69.700 }{ 1450 } } \\\\&= 437.476  \\\\[10pt]\n",
       "\\\\[10pt]\n",
       "R_{core} &= \\frac{ l_{e} }{ \\mu_{0} \\cdot \\mu_{r} \\cdot A_{e} } \\\\&= \\frac{ 69.700 }{ 0.000 \\cdot 1450 \\cdot 519 } \\\\&= 73.703  \\\\[10pt]\n",
       "\\\\[10pt]\n",
       "R_{gap} &= \\frac{ l_{g} }{ \\mu_{0} \\cdot A_{e} } \\\\&= \\frac{ 0.112 }{ 0.000 \\cdot 519 } \\\\&= 170.975  \\\\[10pt]\n",
       "\\\\[10pt]\n",
       "R_{tot} &= R_{core} + R_{gap} \\\\&= 73.703 + 170.975 \\\\&= 244.678  \\\\[10pt]\n",
       "\\\\[10pt]\n",
       "R_{tot_{2}} &= \\frac{ l_{g} + l_{e} }{ \\mu_{0} \\cdot \\mu_{e} \\cdot A_{e} } \\\\&= \\frac{ 0.112 + 69.700 }{ 0.000 \\cdot 437.476 \\cdot 519 } \\\\&= 244.678 \\; \\;\\textrm{(Using µe)}\\\\[10pt]\n",
       "\\end{aligned}\n",
       "$"
      ],
      "text/plain": [
       "<IPython.core.display.Latex object>"
      ]
     },
     "metadata": {},
     "output_type": "display_data"
    }
   ],
   "source": [
    "%%render long\n",
    "mu_e = (l_e+l_g)/(l_g+l_e/mu_r)\n",
    "R_core = l_e/(mu_0*mu_r*A_e)\n",
    "R_gap = l_g/(mu_0*A_e)\n",
    "R_tot= R_core+R_gap\n",
    "R_tot_2= (l_g+l_e)/(mu_0*mu_e*A_e)# Using µe"
   ]
  },
  {
   "cell_type": "code",
   "execution_count": 65,
   "id": "9941af8a-e8b2-4937-8008-f056d5417b45",
   "metadata": {},
   "outputs": [
    {
     "data": {
      "text/latex": [
       "$\n",
       "\\begin{aligned}\n",
       "\\mathrm{Im}_{sat} &= B_{sat} \\cdot \\mathrm{Ae} \\cdot \\frac{ R_{core} + R_{gap} }{ n } \\\\&= 300 \\cdot 0.001 \\cdot \\frac{ 73.703 + 170.975 }{ 4.000 } \\\\&= 9.524 \\; \\;\\textrm{(A)}\\\\[10pt]\n",
       "\\end{aligned}\n",
       "$"
      ],
      "text/plain": [
       "<IPython.core.display.Latex object>"
      ]
     },
     "metadata": {},
     "output_type": "display_data"
    }
   ],
   "source": [
    "%%render long\n",
    "Im_sat= B_sat*Ae*(R_core+R_gap)/n # A"
   ]
  },
  {
   "cell_type": "code",
   "execution_count": 66,
   "id": "3adb409b-d171-4a53-9374-9fea98b36dcd",
   "metadata": {},
   "outputs": [
    {
     "data": {
      "text/latex": [
       "$\n",
       "\\begin{aligned}\n",
       "\\mathrm{Im}_{peak} &= \\sqrt { 2 } \\cdot \\mathrm{Im}_{rms} \\\\&= \\sqrt { 2 } \\cdot 6.992 \\\\&= 9.888 \\; \\;\\textrm{(A)}\\\\[10pt]\n",
       "\\end{aligned}\n",
       "$"
      ],
      "text/plain": [
       "<IPython.core.display.Latex object>"
      ]
     },
     "metadata": {},
     "output_type": "display_data"
    }
   ],
   "source": [
    "%%render long \n",
    "Im_peak = sqrt(2)*Im_rms # A"
   ]
  },
  {
   "cell_type": "code",
   "execution_count": null,
   "id": "9cabde20-ede3-4bda-bb40-848f771e2c57",
   "metadata": {},
   "outputs": [],
   "source": []
  },
  {
   "cell_type": "markdown",
   "id": "5968d169-9df8-4992-a2da-18df14e99bff",
   "metadata": {},
   "source": [
    "#### Verification of the Hypothesis"
   ]
  },
  {
   "cell_type": "code",
   "execution_count": 67,
   "id": "d8d79fce-f30a-4352-b9e7-36a6b17ac676",
   "metadata": {},
   "outputs": [
    {
     "data": {
      "text/latex": [
       "$\n",
       "\\begin{aligned}\n",
       "\\mathrm{Vf} &= 0.200 \\; \\;\\textrm{(drop voltage in the mos)}\n",
       "\\\\[10pt]\n",
       "\\mathrm{efficiency} &= 0.950 \\; \\;\\textrm{(Hypothesis, efficiency= 95\\%)}\n",
       "\\\\[10pt]\n",
       "\\mathrm{loss} &= \\frac{ 1 - \\mathrm{efficiency} }{ 3 } \\\\&= \\frac{ 1 - 0.950 }{ 3 } \\\\&= 0.017 \\; \\;\\textrm{(Hypothesis: Joule loss = 1/3 of total losses)}\\\\[10pt]\n",
       "\\\\[10pt]\n",
       "\\mathrm{Io}_{nom} &= \\frac{ \\mathrm{Power} }{ \\mathrm{Vo}_{nom} } \\\\&= \\frac{ 1200.000 }{ 48.000 } \\\\&= 25.000 \\; \\;\\textrm{(A)}\\\\[10pt]\n",
       "\\\\[10pt]\n",
       "V_{loss} &= \\frac{ \\frac{ \\mathrm{Power} \\cdot \\mathrm{loss} }{ \\mathrm{efficiency} } }{ \\mathrm{Io}_{nom} } \\\\&= \\frac{ \\frac{ 1200.000 \\cdot 0.017 }{ 0.950 } }{ 25.000 } \\\\&= 0.842 \\; \\;\\textrm{(v)}\\\\[10pt]\n",
       "\\end{aligned}\n",
       "$"
      ],
      "text/plain": [
       "<IPython.core.display.Latex object>"
      ]
     },
     "metadata": {},
     "output_type": "display_data"
    }
   ],
   "source": [
    "%%render long\n",
    "Vf=0.2 # drop voltage in the mos\n",
    "efficiency = 0.95 # Hypothesis, efficiency= 95\\%\n",
    "loss = (1-efficiency)/3 # Hypothesis: Joule loss = 1/3 of total losses\n",
    "Io_nom = Power/Vo_nom # A\n",
    "V_loss = ((Power*loss)/efficiency)/Io_nom # v"
   ]
  },
  {
   "cell_type": "code",
   "execution_count": 68,
   "id": "579607de-7c01-4fdf-8a07-b4b02359485b",
   "metadata": {},
   "outputs": [
    {
     "data": {
      "text/latex": [
       "$\n",
       "\\begin{aligned}\n",
       "\\mathrm{margin} &= 0.010 \\; \n",
       "\\\\[10pt]\n",
       "\\mathrm{Mg}_{max} &= n \\cdot \\frac{ \\mathrm{Vo}_{max} \\cdot \\left( 1 + \\mathrm{margin} \\right) + \\mathrm{Vf} + V_{loss} }{ \\frac{ V_{In_{min}} }{ 2 } } \\\\&= 4.000 \\cdot \\frac{ 54.000 \\cdot \\left( 1 + 0.010 \\right) + 0.200 + 0.842 }{ \\frac{ 360.000 }{ 2 } } \\\\&= 1.235  \\\\[10pt]\n",
       "\\\\[10pt]\n",
       "\\mathrm{Mg}_{max110} &= \\mathrm{Mg}_{max} \\cdot \\left( \\frac{ 110 }{ 100 } \\right) \\\\&= 1.235 \\cdot \\left( \\frac{ 110 }{ 100 } \\right) \\\\&= 1.359  \\\\[10pt]\n",
       "\\end{aligned}\n",
       "$"
      ],
      "text/plain": [
       "<IPython.core.display.Latex object>"
      ]
     },
     "metadata": {},
     "output_type": "display_data"
    }
   ],
   "source": [
    "%%render long\n",
    "margin = 0.01\n",
    "Mg_max = n*(Vo_max*(1+margin)+Vf+V_loss)/(V_In_min/2)\n",
    "# 110% load\n",
    "Mg_max110 = Mg_max*(110/100)"
   ]
  },
  {
   "cell_type": "code",
   "execution_count": null,
   "id": "2dfcf2cf-7157-4a81-8464-8cfe6f199bc3",
   "metadata": {},
   "outputs": [],
   "source": []
  },
  {
   "cell_type": "code",
   "execution_count": null,
   "id": "dea3ba64-854d-4451-ab04-d80fc7044188",
   "metadata": {},
   "outputs": [],
   "source": []
  },
  {
   "cell_type": "code",
   "execution_count": 69,
   "id": "280e2cab-a896-4550-9fb7-d95f61953793",
   "metadata": {},
   "outputs": [
    {
     "data": {
      "image/png": "[encoded data removed]",
      "text/plain": [
       "<Figure size 500x400 with 1 Axes>"
      ]
     },
     "metadata": {},
     "output_type": "display_data"
    }
   ],
   "source": [
    "def calculate_Mg(Ln, fn, Qe):\n",
    "    numerator = Ln * fn**2\n",
    "    denominator_real = (Ln + 1) * fn**2 - 1\n",
    "    denominator_imag = (fn**2 - 1) * fn * Qe * Ln\n",
    "    denominator = np.sqrt(denominator_real**2+ denominator_imag**2)\n",
    "    Mg = abs(numerator / denominator)\n",
    "    return Mg\n",
    "freqn = np.arange(0.5,1.8,0.01) \n",
    "Lnc=3 \n",
    "Qec = 0.55 \n",
    "Mg = calculate_Mg(Lnc,freqn, Qec)\n",
    "\n",
    "i= np.argmin(np.abs(Mg-Mg_max))\n",
    "fn_MgMin= freqn[i]\n",
    "\n",
    "f_nom = 100e3 # Hz\n",
    "fn_min = fsw_min/f_nom\n",
    "fn_max = fsw_max/f_nom\n",
    "fmin_2=fn_MgMin*f_nom\n",
    "fig, ax = plt.subplots(figsize=(5, 4)) \n",
    "ax.plot(freqn, Mg,label = \"Lnc=3, Qec = 0.55\" , c=\"C9\")\n",
    "\n",
    "ax.plot([fn_min*0.8,fn_max*1.2 ], [Mg_max110, Mg_max110],\n",
    "       label = \"Mg_max_110%\", linestyle =\"--\", c=\"k\")\n",
    "ax.plot([fn_min*0.8,fn_max*1.2], [Mg_max,Mg_max ],\n",
    "      label = \"Mg_max\", linestyle =\"--\", c=\"r\")\n",
    "\n",
    "\n",
    "\n",
    "ax.plot([fn_MgMin,fn_MgMin], [0.7, 1.4],\n",
    "        label = f\"fn_min ({fmin_2/1e3:.2f}kHz)\", linestyle =\"--\", c=\"g\")\n",
    "\n",
    "\n",
    "ax.set_xlabel(\"freq_norm\")\n",
    "ax.set_ylabel(\"Mg\")\n",
    "\n",
    "ax.legend()\n",
    "ax.grid()"
   ]
  },
  {
   "cell_type": "code",
   "execution_count": 70,
   "id": "4bb06edc-1a33-4f63-8a8d-3d38cf36d45d",
   "metadata": {},
   "outputs": [
    {
     "data": {
      "text/latex": [
       "$\n",
       "\\begin{aligned}\n",
       "\\mathrm{fmin}_{2} &= 75000.000 \\; \n",
       "\\\\[10pt]\n",
       "\\omega_{min} &= 471238.898 \\; \n",
       "\\\\[10pt]\n",
       "\\mathrm{Im}_{rms} &= 2 \\cdot \\sqrt { 2 } \\cdot n \\cdot \\frac{ \\mathrm{Vo}_{nom} }{ \\pi \\cdot \\mathrm{Lm} \\cdot \\omega_{min} } \\\\&= 2 \\cdot \\sqrt { 2 } \\cdot 4.000 \\cdot \\frac{ 48.000 }{ 3.142 \\cdot 0.000 \\cdot 471238.898 } \\\\&= 5.610 \\; \\;\\textrm{(Arms)}\\\\[10pt]\n",
       "\\\\[10pt]\n",
       "\\mathrm{Im}_{peak2} &= 7.933 \\; \\;\\textrm{(A)}\n",
       "\\\\[10pt]\n",
       "I_{satMargin} &= 100 \\cdot \\frac{ \\mathrm{Im}_{sat} - \\mathrm{Im}_{peak2} }{ \\mathrm{Im}_{sat} } \\\\&= 100 \\cdot \\frac{ 9.524 - 7.933 }{ 9.524 } \\\\&= 16.704 \\; \\;\\textrm{(\\%)}\\\\[10pt]\n",
       "\\end{aligned}\n",
       "$"
      ],
      "text/plain": [
       "<IPython.core.display.Latex object>"
      ]
     },
     "metadata": {},
     "output_type": "display_data"
    }
   ],
   "source": [
    "%%render long\n",
    "fmin_2=fn_MgMin*f_nom\n",
    "omega_min=2*pi*fmin_2\n",
    "Im_rms = 2*sqrt(2)*n*Vo_nom/(pi*Lm*omega_min) # Arms\n",
    "Im_peak2=sqrt(2)*Im_rms # A\n",
    "\n",
    "I_satMargin = 100*(Im_sat-Im_peak2)/Im_sat # \\%"
   ]
  },
  {
   "cell_type": "code",
   "execution_count": null,
   "id": "7d800ca3-6e4f-4a07-bf78-8a6bc0c6d14c",
   "metadata": {},
   "outputs": [],
   "source": []
  },
  {
   "cell_type": "code",
   "execution_count": null,
   "id": "06cb45c8-7e30-4bc0-ae0e-7842e856bec5",
   "metadata": {},
   "outputs": [],
   "source": []
  },
  {
   "cell_type": "code",
   "execution_count": null,
   "id": "90cc0999-55b7-4f90-8e23-63a1fc5fd8e7",
   "metadata": {},
   "outputs": [],
   "source": []
  },
  {
   "cell_type": "code",
   "execution_count": null,
   "id": "e3435278-160f-46f7-ba8d-3cbff0ef5413",
   "metadata": {},
   "outputs": [],
   "source": []
  },
  {
   "cell_type": "code",
   "execution_count": null,
   "id": "72808b99-cad4-4eb6-a321-8da9b975deb5",
   "metadata": {},
   "outputs": [],
   "source": []
  },
  {
   "cell_type": "code",
   "execution_count": null,
   "id": "05b9d110-f9f3-4af1-9fbd-e42b04395fb3",
   "metadata": {},
   "outputs": [],
   "source": []
  },
  {
   "cell_type": "code",
   "execution_count": null,
   "id": "8c1be31b-04d2-480f-b09c-fc81a00dfcae",
   "metadata": {},
   "outputs": [],
   "source": []
  },
  {
   "cell_type": "code",
   "execution_count": null,
   "id": "fe7570a4-7474-4aeb-9dba-0b2cfe8045c8",
   "metadata": {},
   "outputs": [],
   "source": []
  },
  {
   "cell_type": "code",
   "execution_count": null,
   "id": "6cc1a87b-c8c1-488c-8a3f-8c514bfc9ea8",
   "metadata": {},
   "outputs": [],
   "source": []
  },
  {
   "cell_type": "code",
   "execution_count": null,
   "id": "ab8b415c-ffb0-4953-a5cf-6ed126155f9f",
   "metadata": {},
   "outputs": [],
   "source": []
  },
  {
   "cell_type": "code",
   "execution_count": null,
   "id": "2fa7f8d7-2ec0-4848-8a51-8761cddc9d93",
   "metadata": {},
   "outputs": [],
   "source": []
  },
  {
   "cell_type": "code",
   "execution_count": null,
   "id": "f34a209d-a53b-47d5-81d2-fd2ace840b09",
   "metadata": {},
   "outputs": [],
   "source": []
  },
  {
   "cell_type": "code",
   "execution_count": 71,
   "id": "627023e2-49b1-4cc4-ad3f-c7dede46e41c",
   "metadata": {},
   "outputs": [],
   "source": [
    "# we will shose \n",
    "# ELP 64/10/50 with ELP 64/10/50 N95"
   ]
  },
  {
   "cell_type": "code",
   "execution_count": null,
   "id": "ebc5d9f7-716c-4925-8d86-07b4e64a7d70",
   "metadata": {},
   "outputs": [],
   "source": [
    "# ELP 64/10/50 with I 64/5/50"
   ]
  },
  {
   "cell_type": "markdown",
   "id": "f88be4d8-8bbd-463d-92e7-a0a070cb6a64",
   "metadata": {},
   "source": [
    "### Other cores"
   ]
  },
  {
   "cell_type": "code",
   "execution_count": 72,
   "id": "d5e005d4-67da-4630-b993-6305116d31a3",
   "metadata": {},
   "outputs": [
    {
     "data": {
      "text/html": [
       "<div>\n",
       "<style scoped>\n",
       "    .dataframe tbody tr th:only-of-type {\n",
       "        vertical-align: middle;\n",
       "    }\n",
       "\n",
       "    .dataframe tbody tr th {\n",
       "        vertical-align: top;\n",
       "    }\n",
       "\n",
       "    .dataframe thead th {\n",
       "        text-align: right;\n",
       "    }\n",
       "</style>\n",
       "<table border=\"1\" class=\"dataframe\">\n",
       "  <thead>\n",
       "    <tr style=\"text-align: right;\">\n",
       "      <th></th>\n",
       "      <th>core</th>\n",
       "      <th>Aemin(mm2)</th>\n",
       "      <th>Le(mm)</th>\n",
       "      <th>Ve(mm3)</th>\n",
       "      <th>Bsat mT</th>\n",
       "      <th>Loss (W/set)</th>\n",
       "      <th>K1</th>\n",
       "      <th>K2</th>\n",
       "      <th>µe</th>\n",
       "      <th>Al(nH)</th>\n",
       "      <th>price by set</th>\n",
       "    </tr>\n",
       "  </thead>\n",
       "  <tbody>\n",
       "    <tr>\n",
       "      <th>0</th>\n",
       "      <td>E64/10/50-3C95</td>\n",
       "      <td>519.0</td>\n",
       "      <td>79.9</td>\n",
       "      <td>40700</td>\n",
       "      <td>330.0</td>\n",
       "      <td>20.0</td>\n",
       "      <td>NaN</td>\n",
       "      <td>NaN</td>\n",
       "      <td>NaN</td>\n",
       "      <td>17000</td>\n",
       "      <td>11.05</td>\n",
       "    </tr>\n",
       "    <tr>\n",
       "      <th>1</th>\n",
       "      <td>ELP 43/10/28 with I 43/4/28 N87</td>\n",
       "      <td>217.0</td>\n",
       "      <td>50.8</td>\n",
       "      <td>11430</td>\n",
       "      <td>350.0</td>\n",
       "      <td>7.8</td>\n",
       "      <td>390.0</td>\n",
       "      <td>-0.784</td>\n",
       "      <td>1480.0</td>\n",
       "      <td>850</td>\n",
       "      <td>2.61</td>\n",
       "    </tr>\n",
       "    <tr>\n",
       "      <th>2</th>\n",
       "      <td>ELP 64/10/50 with I 64/5/50 N87</td>\n",
       "      <td>512.0</td>\n",
       "      <td>69.7</td>\n",
       "      <td>36200</td>\n",
       "      <td>300.0</td>\n",
       "      <td>4.8</td>\n",
       "      <td>835.0</td>\n",
       "      <td>-0.790</td>\n",
       "      <td>1450.0</td>\n",
       "      <td>14000</td>\n",
       "      <td>NaN</td>\n",
       "    </tr>\n",
       "    <tr>\n",
       "      <th>3</th>\n",
       "      <td>ELP 64/10/50 with ELP 64/10/50 N95</td>\n",
       "      <td>518.0</td>\n",
       "      <td>79.9</td>\n",
       "      <td>41500</td>\n",
       "      <td>320.0</td>\n",
       "      <td>5.1</td>\n",
       "      <td>NaN</td>\n",
       "      <td>NaN</td>\n",
       "      <td>1880.0</td>\n",
       "      <td>15500</td>\n",
       "      <td>14.52</td>\n",
       "    </tr>\n",
       "    <tr>\n",
       "      <th>4</th>\n",
       "      <td>ELP 64/10/50 with ELP 64/10/50 N87</td>\n",
       "      <td>518.0</td>\n",
       "      <td>79.9</td>\n",
       "      <td>41500</td>\n",
       "      <td>300.0</td>\n",
       "      <td>5.5</td>\n",
       "      <td>820.0</td>\n",
       "      <td>-0.767</td>\n",
       "      <td>1490.0</td>\n",
       "      <td>12500</td>\n",
       "      <td>11.27</td>\n",
       "    </tr>\n",
       "    <tr>\n",
       "      <th>5</th>\n",
       "      <td>E64/10/50 + PLT64/50/5 3C95</td>\n",
       "      <td>519.0</td>\n",
       "      <td>69.7</td>\n",
       "      <td>35500</td>\n",
       "      <td>330.0</td>\n",
       "      <td>17.0</td>\n",
       "      <td>NaN</td>\n",
       "      <td>NaN</td>\n",
       "      <td>NaN</td>\n",
       "      <td>18500</td>\n",
       "      <td>NaN</td>\n",
       "    </tr>\n",
       "    <tr>\n",
       "      <th>6</th>\n",
       "      <td>ER64/13/51-3C92 3C95</td>\n",
       "      <td>507.0</td>\n",
       "      <td>93.0</td>\n",
       "      <td>52600</td>\n",
       "      <td>330.0</td>\n",
       "      <td>25.0</td>\n",
       "      <td>NaN</td>\n",
       "      <td>NaN</td>\n",
       "      <td>NaN</td>\n",
       "      <td>17100</td>\n",
       "      <td>19.62</td>\n",
       "    </tr>\n",
       "    <tr>\n",
       "      <th>7</th>\n",
       "      <td>E100/60/28 N87</td>\n",
       "      <td>690.0</td>\n",
       "      <td>274.0</td>\n",
       "      <td>201390</td>\n",
       "      <td>300.0</td>\n",
       "      <td>4.7</td>\n",
       "      <td>NaN</td>\n",
       "      <td>NaN</td>\n",
       "      <td>1930.0</td>\n",
       "      <td>6500</td>\n",
       "      <td>17.40</td>\n",
       "    </tr>\n",
       "    <tr>\n",
       "      <th>8</th>\n",
       "      <td>ELP 102/20/38 with ELP 102/20/38 N87</td>\n",
       "      <td>524.5</td>\n",
       "      <td>147.6</td>\n",
       "      <td>79410</td>\n",
       "      <td>300.0</td>\n",
       "      <td>11.0</td>\n",
       "      <td>NaN</td>\n",
       "      <td>NaN</td>\n",
       "      <td>1790.0</td>\n",
       "      <td>8200</td>\n",
       "      <td>12.88</td>\n",
       "    </tr>\n",
       "    <tr>\n",
       "      <th>9</th>\n",
       "      <td>ELP 102/20/38 with ELP 102/20/38 N97</td>\n",
       "      <td>524.5</td>\n",
       "      <td>147.6</td>\n",
       "      <td>79410</td>\n",
       "      <td>300.0</td>\n",
       "      <td>9.7</td>\n",
       "      <td>NaN</td>\n",
       "      <td>NaN</td>\n",
       "      <td>1855.0</td>\n",
       "      <td>8500</td>\n",
       "      <td>14.07</td>\n",
       "    </tr>\n",
       "    <tr>\n",
       "      <th>10</th>\n",
       "      <td>ELP 102/20/38 with I 102/7/38 N97</td>\n",
       "      <td>534.2</td>\n",
       "      <td>121.2</td>\n",
       "      <td>67745</td>\n",
       "      <td>300.0</td>\n",
       "      <td>8.0</td>\n",
       "      <td>NaN</td>\n",
       "      <td>NaN</td>\n",
       "      <td>1740.0</td>\n",
       "      <td>9600</td>\n",
       "      <td>NaN</td>\n",
       "    </tr>\n",
       "    <tr>\n",
       "      <th>11</th>\n",
       "      <td>E 80/38/20 N95</td>\n",
       "      <td>388.0</td>\n",
       "      <td>184.0</td>\n",
       "      <td>71800</td>\n",
       "      <td>330.0</td>\n",
       "      <td>8.0</td>\n",
       "      <td>NaN</td>\n",
       "      <td>NaN</td>\n",
       "      <td>1680.0</td>\n",
       "      <td>4500</td>\n",
       "      <td>4.33</td>\n",
       "    </tr>\n",
       "  </tbody>\n",
       "</table>\n",
       "</div>"
      ],
      "text/plain": [
       "                                    core  Aemin(mm2)  Le(mm)  Ve(mm3)  \\\n",
       "0                         E64/10/50-3C95       519.0    79.9    40700   \n",
       "1        ELP 43/10/28 with I 43/4/28 N87       217.0    50.8    11430   \n",
       "2        ELP 64/10/50 with I 64/5/50 N87       512.0    69.7    36200   \n",
       "3     ELP 64/10/50 with ELP 64/10/50 N95       518.0    79.9    41500   \n",
       "4     ELP 64/10/50 with ELP 64/10/50 N87       518.0    79.9    41500   \n",
       "5            E64/10/50 + PLT64/50/5 3C95       519.0    69.7    35500   \n",
       "6                   ER64/13/51-3C92 3C95       507.0    93.0    52600   \n",
       "7                         E100/60/28 N87       690.0   274.0   201390   \n",
       "8   ELP 102/20/38 with ELP 102/20/38 N87       524.5   147.6    79410   \n",
       "9   ELP 102/20/38 with ELP 102/20/38 N97       524.5   147.6    79410   \n",
       "10     ELP 102/20/38 with I 102/7/38 N97       534.2   121.2    67745   \n",
       "11                        E 80/38/20 N95       388.0   184.0    71800   \n",
       "\n",
       "    Bsat mT  Loss (W/set)     K1     K2      µe  Al(nH)  price by set   \n",
       "0     330.0          20.0    NaN    NaN     NaN   17000          11.05  \n",
       "1     350.0           7.8  390.0 -0.784  1480.0     850           2.61  \n",
       "2     300.0           4.8  835.0 -0.790  1450.0   14000            NaN  \n",
       "3     320.0           5.1    NaN    NaN  1880.0   15500          14.52  \n",
       "4     300.0           5.5  820.0 -0.767  1490.0   12500          11.27  \n",
       "5     330.0          17.0    NaN    NaN     NaN   18500            NaN  \n",
       "6     330.0          25.0    NaN    NaN     NaN   17100          19.62  \n",
       "7     300.0           4.7    NaN    NaN  1930.0    6500          17.40  \n",
       "8     300.0          11.0    NaN    NaN  1790.0    8200          12.88  \n",
       "9     300.0           9.7    NaN    NaN  1855.0    8500          14.07  \n",
       "10    300.0           8.0    NaN    NaN  1740.0    9600            NaN  \n",
       "11    330.0           8.0    NaN    NaN  1680.0    4500           4.33  "
      ]
     },
     "execution_count": 72,
     "metadata": {},
     "output_type": "execute_result"
    }
   ],
   "source": [
    "dfcores = pd.read_csv(\"FerriteCores.csv\",sep=\";\").iloc[:,:-3]\n",
    "\n",
    "mask  = dfcores[\"Bsat mT\"].isna()\n",
    "dfcores.loc[mask, \"Bsat mT\"] = 300\n",
    "dfcores"
   ]
  },
  {
   "cell_type": "code",
   "execution_count": 73,
   "id": "f0dbf694-105f-44e2-819b-c8b4aa4f3a9d",
   "metadata": {},
   "outputs": [
    {
     "data": {
      "text/html": [
       "<div>\n",
       "<style scoped>\n",
       "    .dataframe tbody tr th:only-of-type {\n",
       "        vertical-align: middle;\n",
       "    }\n",
       "\n",
       "    .dataframe tbody tr th {\n",
       "        vertical-align: top;\n",
       "    }\n",
       "\n",
       "    .dataframe thead th {\n",
       "        text-align: right;\n",
       "    }\n",
       "</style>\n",
       "<table border=\"1\" class=\"dataframe\">\n",
       "  <thead>\n",
       "    <tr style=\"text-align: right;\">\n",
       "      <th></th>\n",
       "      <th>core</th>\n",
       "      <th>Im_peak</th>\n",
       "      <th>Im_sat</th>\n",
       "      <th>l_g</th>\n",
       "    </tr>\n",
       "  </thead>\n",
       "  <tbody>\n",
       "    <tr>\n",
       "      <th>0</th>\n",
       "      <td>E64/10/50-3C95</td>\n",
       "      <td>7.933149</td>\n",
       "      <td>NaN</td>\n",
       "      <td>NaN</td>\n",
       "    </tr>\n",
       "    <tr>\n",
       "      <th>1</th>\n",
       "      <td>ELP 43/10/28 with I 43/4/28 N87</td>\n",
       "      <td>7.933149</td>\n",
       "      <td>4.645828</td>\n",
       "      <td>0.032397</td>\n",
       "    </tr>\n",
       "    <tr>\n",
       "      <th>2</th>\n",
       "      <td>ELP 64/10/50 with I 64/5/50 N87</td>\n",
       "      <td>7.933149</td>\n",
       "      <td>9.395645</td>\n",
       "      <td>0.109357</td>\n",
       "    </tr>\n",
       "    <tr>\n",
       "      <th>3</th>\n",
       "      <td>ELP 64/10/50 with ELP 64/10/50 N95</td>\n",
       "      <td>7.933149</td>\n",
       "      <td>10.139467</td>\n",
       "      <td>0.116770</td>\n",
       "    </tr>\n",
       "    <tr>\n",
       "      <th>4</th>\n",
       "      <td>ELP 64/10/50 with ELP 64/10/50 N87</td>\n",
       "      <td>7.933149</td>\n",
       "      <td>9.505750</td>\n",
       "      <td>0.105646</td>\n",
       "    </tr>\n",
       "    <tr>\n",
       "      <th>5</th>\n",
       "      <td>E64/10/50 + PLT64/50/5 3C95</td>\n",
       "      <td>7.933149</td>\n",
       "      <td>NaN</td>\n",
       "      <td>NaN</td>\n",
       "    </tr>\n",
       "    <tr>\n",
       "      <th>6</th>\n",
       "      <td>ER64/13/51-3C92 3C95</td>\n",
       "      <td>7.933149</td>\n",
       "      <td>NaN</td>\n",
       "      <td>NaN</td>\n",
       "    </tr>\n",
       "    <tr>\n",
       "      <th>7</th>\n",
       "      <td>E100/60/28 N87</td>\n",
       "      <td>7.933149</td>\n",
       "      <td>12.662099</td>\n",
       "      <td>0.070187</td>\n",
       "    </tr>\n",
       "    <tr>\n",
       "      <th>8</th>\n",
       "      <td>ELP 102/20/38 with ELP 102/20/38 N87</td>\n",
       "      <td>7.933149</td>\n",
       "      <td>9.625031</td>\n",
       "      <td>0.078811</td>\n",
       "    </tr>\n",
       "    <tr>\n",
       "      <th>9</th>\n",
       "      <td>ELP 102/20/38 with ELP 102/20/38 N97</td>\n",
       "      <td>7.933149</td>\n",
       "      <td>9.625031</td>\n",
       "      <td>0.081700</td>\n",
       "    </tr>\n",
       "    <tr>\n",
       "      <th>10</th>\n",
       "      <td>ELP 102/20/38 with I 102/7/38 N97</td>\n",
       "      <td>7.933149</td>\n",
       "      <td>9.803034</td>\n",
       "      <td>0.094596</td>\n",
       "    </tr>\n",
       "    <tr>\n",
       "      <th>11</th>\n",
       "      <td>E 80/38/20 N95</td>\n",
       "      <td>7.933149</td>\n",
       "      <td>7.832151</td>\n",
       "      <td>0.009775</td>\n",
       "    </tr>\n",
       "  </tbody>\n",
       "</table>\n",
       "</div>"
      ],
      "text/plain": [
       "                                    core   Im_peak     Im_sat       l_g\n",
       "0                         E64/10/50-3C95  7.933149        NaN       NaN\n",
       "1        ELP 43/10/28 with I 43/4/28 N87  7.933149   4.645828  0.032397\n",
       "2        ELP 64/10/50 with I 64/5/50 N87  7.933149   9.395645  0.109357\n",
       "3     ELP 64/10/50 with ELP 64/10/50 N95  7.933149  10.139467  0.116770\n",
       "4     ELP 64/10/50 with ELP 64/10/50 N87  7.933149   9.505750  0.105646\n",
       "5            E64/10/50 + PLT64/50/5 3C95  7.933149        NaN       NaN\n",
       "6                   ER64/13/51-3C92 3C95  7.933149        NaN       NaN\n",
       "7                         E100/60/28 N87  7.933149  12.662099  0.070187\n",
       "8   ELP 102/20/38 with ELP 102/20/38 N87  7.933149   9.625031  0.078811\n",
       "9   ELP 102/20/38 with ELP 102/20/38 N97  7.933149   9.625031  0.081700\n",
       "10     ELP 102/20/38 with I 102/7/38 N97  7.933149   9.803034  0.094596\n",
       "11                        E 80/38/20 N95  7.933149   7.832151  0.009775"
      ]
     },
     "execution_count": 73,
     "metadata": {},
     "output_type": "execute_result"
    }
   ],
   "source": [
    "arr=[]\n",
    "for i in range(len(dfcores)):\n",
    "    mu_0 = 4*pi *1e-7 # H m−1 \n",
    "    A_e = dfcores.loc[i, \"Aemin(mm2)\"]\n",
    "    l_e = dfcores.loc[i, \"Le(mm)\"]\n",
    "    B_sat = dfcores.loc[i, \"Bsat mT\"]\n",
    "    mu_r = dfcores.loc[i, \"µe\"]\n",
    "    #dfcores.loc[i, \"Al(nH)\"]\n",
    "    K1 = dfcores.loc[i, \"K1\"]\n",
    "    K2 = dfcores.loc[i, \"K2\"]\n",
    "    core = dfcores.loc[i, \"core\"]\n",
    "\n",
    "\n",
    "    Ae= A_e*1e-6 # m2\n",
    "    le=l_e*1e-3 # m\n",
    "    l_g = (mu_0*n**2*Ae)/Lm -le/mu_r\n",
    "    lg = l_g*1e3\n",
    "    l_g= lg\n",
    "    \n",
    "    \n",
    "    mu_e = (l_e+l_g)/(l_g+l_e/mu_r)\n",
    "    R_core = l_e/(mu_0*mu_r*A_e)\n",
    "    R_gap = l_g/(mu_0*A_e)\n",
    "    R_tot= R_core+R_gap\n",
    "    R_tot_2= (l_g+l_e)/(mu_0*mu_e*A_e)# Using µe\n",
    "    \n",
    "    \n",
    "    Im_sat= B_sat*Ae*(R_core+R_gap)/n # A\n",
    "\n",
    "    arr.append({\"core\": core,\"Im_peak\": Im_peak2,  \"Im_sat\":Im_sat, \"l_g\":l_g})\n",
    "res =pd.DataFrame(arr)\n",
    "res"
   ]
  },
  {
   "cell_type": "code",
   "execution_count": 74,
   "id": "b696eeef-4c16-444a-b448-ba4a42b7badc",
   "metadata": {},
   "outputs": [
    {
     "data": {
      "text/html": [
       "<div>\n",
       "<style scoped>\n",
       "    .dataframe tbody tr th:only-of-type {\n",
       "        vertical-align: middle;\n",
       "    }\n",
       "\n",
       "    .dataframe tbody tr th {\n",
       "        vertical-align: top;\n",
       "    }\n",
       "\n",
       "    .dataframe thead th {\n",
       "        text-align: right;\n",
       "    }\n",
       "</style>\n",
       "<table border=\"1\" class=\"dataframe\">\n",
       "  <thead>\n",
       "    <tr style=\"text-align: right;\">\n",
       "      <th></th>\n",
       "      <th>core</th>\n",
       "      <th>Im_peak</th>\n",
       "      <th>Im_sat</th>\n",
       "      <th>l_g</th>\n",
       "    </tr>\n",
       "  </thead>\n",
       "  <tbody>\n",
       "    <tr>\n",
       "      <th>2</th>\n",
       "      <td>ELP 64/10/50 with I 64/5/50 N87</td>\n",
       "      <td>7.933149</td>\n",
       "      <td>9.395645</td>\n",
       "      <td>0.109357</td>\n",
       "    </tr>\n",
       "    <tr>\n",
       "      <th>3</th>\n",
       "      <td>ELP 64/10/50 with ELP 64/10/50 N95</td>\n",
       "      <td>7.933149</td>\n",
       "      <td>10.139467</td>\n",
       "      <td>0.116770</td>\n",
       "    </tr>\n",
       "    <tr>\n",
       "      <th>4</th>\n",
       "      <td>ELP 64/10/50 with ELP 64/10/50 N87</td>\n",
       "      <td>7.933149</td>\n",
       "      <td>9.505750</td>\n",
       "      <td>0.105646</td>\n",
       "    </tr>\n",
       "    <tr>\n",
       "      <th>7</th>\n",
       "      <td>E100/60/28 N87</td>\n",
       "      <td>7.933149</td>\n",
       "      <td>12.662099</td>\n",
       "      <td>0.070187</td>\n",
       "    </tr>\n",
       "    <tr>\n",
       "      <th>8</th>\n",
       "      <td>ELP 102/20/38 with ELP 102/20/38 N87</td>\n",
       "      <td>7.933149</td>\n",
       "      <td>9.625031</td>\n",
       "      <td>0.078811</td>\n",
       "    </tr>\n",
       "    <tr>\n",
       "      <th>9</th>\n",
       "      <td>ELP 102/20/38 with ELP 102/20/38 N97</td>\n",
       "      <td>7.933149</td>\n",
       "      <td>9.625031</td>\n",
       "      <td>0.081700</td>\n",
       "    </tr>\n",
       "    <tr>\n",
       "      <th>10</th>\n",
       "      <td>ELP 102/20/38 with I 102/7/38 N97</td>\n",
       "      <td>7.933149</td>\n",
       "      <td>9.803034</td>\n",
       "      <td>0.094596</td>\n",
       "    </tr>\n",
       "  </tbody>\n",
       "</table>\n",
       "</div>"
      ],
      "text/plain": [
       "                                    core   Im_peak     Im_sat       l_g\n",
       "2        ELP 64/10/50 with I 64/5/50 N87  7.933149   9.395645  0.109357\n",
       "3     ELP 64/10/50 with ELP 64/10/50 N95  7.933149  10.139467  0.116770\n",
       "4     ELP 64/10/50 with ELP 64/10/50 N87  7.933149   9.505750  0.105646\n",
       "7                         E100/60/28 N87  7.933149  12.662099  0.070187\n",
       "8   ELP 102/20/38 with ELP 102/20/38 N87  7.933149   9.625031  0.078811\n",
       "9   ELP 102/20/38 with ELP 102/20/38 N97  7.933149   9.625031  0.081700\n",
       "10     ELP 102/20/38 with I 102/7/38 N97  7.933149   9.803034  0.094596"
      ]
     },
     "execution_count": 74,
     "metadata": {},
     "output_type": "execute_result"
    }
   ],
   "source": [
    "m= res.Im_sat>res.Im_peak\n",
    "res[m]"
   ]
  },
  {
   "cell_type": "code",
   "execution_count": null,
   "id": "b8db9640-44b3-4eee-bc0a-7b410416cd9f",
   "metadata": {},
   "outputs": [],
   "source": []
  },
  {
   "cell_type": "code",
   "execution_count": 96,
   "id": "75b728ef-e550-47c8-8ba5-db5dee75ecf6",
   "metadata": {},
   "outputs": [
    {
     "name": "stdout",
     "output_type": "stream",
     "text": [
      "https://www.ferroxcube.com/upload/media/product/file/Pr_ds/E64_10_50.pdf <br>\n",
      "https://www.tdk-electronics.tdk.com/inf/80/db/fer/elp_43_10_28.pdf <br>\n",
      "https://product.tdk.com/system/files/dam/doc/product/ferrite/ferrite/ferrite-core/data_sheet/80/db/fer/elp_64_10_50.pdf <br>\n",
      "https://www.ferroxcube.com/upload/media/product/file/Pr_ds/E64_10_50_PLT64_50_5.pdf <br>\n",
      "https://www.ferroxcube.com/upload/media/product/file/Pr_ds/ER64_13_51.pdf <br>\n",
      "https://product.tdk.com/system/files/dam/doc/product/ferrite/ferrite/ferrite-core/data_sheet/80/db/fer/e_100_60_28.pdf <br>\n",
      "https://product.tdk.com/system/files/dam/doc/product/ferrite/ferrite/ferrite-core/data_sheet/80/db/fer/elp_102_20_38.pdf <br>\n",
      "https://www.tdk-electronics.tdk.com/inf/80/db/fer/e_80_38_20.pdf <br>\n"
     ]
    }
   ],
   "source": [
    "dfcores = pd.read_csv(\"FerriteCores.csv\",sep=\";\")\n",
    "for x in dfcores[ 'link to  the datasheet '].dropna().drop_duplicates().values:\n",
    "    print(x, \"<br>\")"
   ]
  },
  {
   "cell_type": "code",
   "execution_count": 135,
   "id": "c3e6c515-5d37-42df-a14a-8b69ce7b2187",
   "metadata": {},
   "outputs": [],
   "source": [
    "def ipc2221current(wmm, thicknessum, DT= 30, kind = \"outer\"):\n",
    "  wmil =wmm /0.0254\n",
    "    # mm to milis, converting thickness in micrometers (µm) to mils (thousandths of an inch).\n",
    "    # 1 mil=0.001 inch\n",
    "    # 1 inch = 25.4 mm= 25400 um\n",
    "  thmil = thicknessum /(0.0254*1000)\n",
    "  areamils = wmil*thmil\n",
    "  #print2(areamils)\n",
    "  if kind ==\"outer\":\n",
    "    k = 0.048\n",
    "  if kind ==\"inner\":\n",
    "    k = 0.024\n",
    "  I = k*(DT**0.44) *(areamils**0.725)\n",
    "  return I"
   ]
  },
  {
   "cell_type": "markdown",
   "id": "77642425-3203-4745-88db-160540404c83",
   "metadata": {},
   "source": [
    "<img width=\"600\" src=\"data:image/png;base64,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\" />"
   ]
  },
  {
   "cell_type": "code",
   "execution_count": null,
   "id": "266a0c67-eb3e-4d0c-8779-7ff520e5fabe",
   "metadata": {},
   "outputs": [],
   "source": []
  },
  {
   "cell_type": "markdown",
   "id": "6668caec-01b8-4c78-9e00-67b67b99a962",
   "metadata": {},
   "source": [
    "**see pcb_cal.ipynb**"
   ]
  },
  {
   "cell_type": "code",
   "execution_count": 149,
   "id": "a74da82c-80dc-405e-ac58-207e88f49aaa",
   "metadata": {},
   "outputs": [
    {
     "name": "stdout",
     "output_type": "stream",
     "text": [
      "ELP 102 ,prim, inner I 22.275301208748353\n"
     ]
    }
   ],
   "source": [
    "core = \"ELP 102\"\n",
    "a= (86-14)/2\n",
    "margin = 3#mm\n",
    "b= a-2*margin\n",
    "gap_cupper = 1 # mm\n",
    "wmm= (b-gap_cupper)/2 # mm\n",
    "\n",
    "thicknessum = 70 # 2.0 oz ==> 70.00 µm\n",
    "\n",
    "I = ipc2221current(wmm, thicknessum, DT= 30, kind = \"outer\")\n",
    "#print(core+\" , prim, outer I\",I)\n",
    "I = ipc2221current(wmm, thicknessum, DT= 30, kind = \"inner\")\n",
    "print(core+\" ,prim, inner I\", I)"
   ]
  },
  {
   "cell_type": "code",
   "execution_count": 150,
   "id": "fe2afce7-a77a-48e2-a3bd-59337f0419ac",
   "metadata": {},
   "outputs": [
    {
     "name": "stdout",
     "output_type": "stream",
     "text": [
      "ELP 64 ,prim, inner I 13.611002211072877\n"
     ]
    }
   ],
   "source": [
    "core = \"ELP 64\"\n",
    "a= (53.6-10.2)/2\n",
    "margin = 3#mm\n",
    "b= a-2*margin\n",
    "gap_cupper = 1 # mm\n",
    "wmm= (b-gap_cupper)/2 # mm\n",
    "\n",
    "thicknessum = 70 # 2.0 oz ==> 70.00 µm\n",
    "\n",
    "I = ipc2221current(wmm, thicknessum, DT= 30, kind = \"outer\")\n",
    "#print(core+\" , prim, outer I\",I)\n",
    "I = ipc2221current(wmm, thicknessum, DT= 30, kind = \"inner\")\n",
    "print(core+\" ,prim, inner I\", I)"
   ]
  },
  {
   "cell_type": "code",
   "execution_count": 154,
   "id": "5a122456-5999-455e-bc27-cc693711049b",
   "metadata": {},
   "outputs": [
    {
     "name": "stdout",
     "output_type": "stream",
     "text": [
      "ELP 102 , sec, outer I 75.4700589177698\n"
     ]
    }
   ],
   "source": [
    "core = \"ELP 102\"\n",
    "a= (86-14)/2\n",
    "margin = 3#mm\n",
    "b= a-2*margin\n",
    "#gap_cupper = 1 # mm\n",
    "wmm= b # mm\n",
    "\n",
    "thicknessum = 70 # 2.0 oz ==> 70.00 µm\n",
    "\n",
    "I = ipc2221current(wmm, thicknessum, DT= 30, kind = \"outer\")\n",
    "print(core+\" , sec, outer I\",I)\n",
    "I = ipc2221current(wmm, thicknessum, DT= 30, kind = \"inner\")\n",
    "#print(core+\" ,sec, inner I\", I)"
   ]
  },
  {
   "cell_type": "code",
   "execution_count": 153,
   "id": "53439330-bf3c-4d74-a028-58a30ab6ce2c",
   "metadata": {},
   "outputs": [
    {
     "name": "stdout",
     "output_type": "stream",
     "text": [
      "ELP 64 , sec, outer I 47.19424332624084\n"
     ]
    }
   ],
   "source": [
    "core = \"ELP 64\"\n",
    "a= (53.6-10.2)/2\n",
    "margin = 3#mm\n",
    "b= a-2*margin\n",
    "#gap_cupper = 1 # mm\n",
    "wmm= b # mm\n",
    "\n",
    "thicknessum = 70 # 2.0 oz ==> 70.00 µm\n",
    "\n",
    "I = ipc2221current(wmm, thicknessum, DT= 30, kind = \"outer\")\n",
    "print(core+\" , sec, outer I\",I)\n",
    "I = ipc2221current(wmm, thicknessum, DT= 30, kind = \"inner\")\n",
    "#print(core+\" ,sec, inner I\", I)"
   ]
  },
  {
   "cell_type": "code",
   "execution_count": 155,
   "id": "cd1987fc-2c70-4661-a161-c8b8589bf6e3",
   "metadata": {},
   "outputs": [],
   "source": [
    "######################## we will use ELP 102/20/38 with I 102/7/38 N97"
   ]
  },
  {
   "cell_type": "code",
   "execution_count": 165,
   "id": "606d0e59-e3f9-4f8c-b082-191a23a35e7c",
   "metadata": {},
   "outputs": [],
   "source": [
    "n=4"
   ]
  },
  {
   "cell_type": "code",
   "execution_count": 166,
   "id": "c40f5bc5-ea50-411b-ae69-23d2638d989a",
   "metadata": {},
   "outputs": [
    {
     "data": {
      "text/latex": [
       "$\n",
       "\\begin{aligned}\n",
       "\\mathrm{core} &= \\mathrm{} \\; \\;\\textrm{(ELP 102/20/38 with I 102/7/38 N97)}\n",
       "\\\\[10pt]\n",
       "\\mathrm{Al}_{nH} &= 9600 \\; \\;\\textrm{(nH)}\n",
       "\\\\[10pt]\n",
       "A_{e} &= 524.500 \\; \\;\\textrm{(mm2)}\n",
       "\\\\[10pt]\n",
       "l_{e} &= 121.200 \\; \\;\\textrm{(mm)}\n",
       "\\\\[10pt]\n",
       "\\mu_{r} &= 1740 \\; \\;\\textrm{(N97)}\n",
       "\\\\[10pt]\n",
       "B_{sat} &= 300 \\; \\;\\textrm{(mT @ 250A/m 10kHz 100°C)}\n",
       "\\\\[10pt]\n",
       "\\mu_{0} &= 4 \\cdot \\pi \\cdot 1 \\times 10 ^ {-7} \\\\&= 4 \\cdot 3.142 \\cdot 1 \\times 10 ^ {-7} \\\\&= 0.000 \\; \\;\\textrm{(H m−1)}\\\\[10pt]\n",
       "\\end{aligned}\n",
       "$"
      ],
      "text/plain": [
       "<IPython.core.display.Latex object>"
      ]
     },
     "metadata": {},
     "output_type": "display_data"
    }
   ],
   "source": [
    "%%render long\n",
    "core = \"\" #ELP 102/20/38 with I 102/7/38 N97\n",
    "Al_nH= 9600 # nH\n",
    "A_e= 524.5 # mm2\n",
    "l_e=121.2 # mm\n",
    "mu_r=1740 # N97\n",
    "B_sat=300 # mT @ 250A/m 10kHz 100°C\n",
    "#K1= 835 # @ 25°C, 0.10 mm < s < 2.00 mm\n",
    "#K2= -0.79 # @ 25°C, 0.10 mm < s < 2.00 mm\n",
    "mu_0 = 4*pi *1e-7 # H m−1 "
   ]
  },
  {
   "cell_type": "markdown",
   "id": "b81e466c-fa0b-4b91-b288-a16e9f82e944",
   "metadata": {},
   "source": [
    "#### The air gap "
   ]
  },
  {
   "cell_type": "code",
   "execution_count": 167,
   "id": "a69217d4-efff-4918-b951-406ac2843640",
   "metadata": {},
   "outputs": [
    {
     "data": {
      "text/latex": [
       "$\n",
       "\\begin{aligned}\n",
       "\\mathrm{Lm}_{nH} &= \\mathrm{Lm}_{uH} \\cdot 1 \\times 10 ^ {3}  = 65.392 \\cdot 1 \\times 10 ^ {3} &= 65392.000  \n",
       "\\\\[10pt]\n",
       "\\mathrm{Al}_{nH} &= 9600 \\; \n",
       "\\\\[10pt]\n",
       "\\mathrm{Al}_{Target} &= \\frac{ \\mathrm{Lm}_{nH} }{ \\left( n \\right) ^{ 2 } }  = \\frac{ 65392.000 }{ \\left( 4 \\right) ^{ 2 } } &= 4087.000 \\; \\;\\textrm{(nH)}\n",
       "\\\\[10pt]\n",
       "\\mu_{eTarget} &= \\mu_{r} \\cdot \\frac{ \\mathrm{Al}_{Target} }{ \\mathrm{Al}_{nH} }  = 1740 \\cdot \\frac{ 4087.000 }{ 9600 } &= 740.769  \n",
       "\\end{aligned}\n",
       "$"
      ],
      "text/plain": [
       "<IPython.core.display.Latex object>"
      ]
     },
     "metadata": {},
     "output_type": "display_data"
    }
   ],
   "source": [
    "%%render \n",
    "Lm_nH= Lm_uH*1e3\n",
    "Al_nH\n",
    "Al_Target = Lm_nH/n**2 # nH\n",
    "mu_eTarget = mu_r*Al_Target/Al_nH"
   ]
  },
  {
   "cell_type": "code",
   "execution_count": null,
   "id": "9135c94a-93bf-4185-ac1c-45f0d05235f9",
   "metadata": {},
   "outputs": [],
   "source": []
  },
  {
   "cell_type": "code",
   "execution_count": 168,
   "id": "9f2a2510-8a76-48b9-a50d-d4238179335e",
   "metadata": {},
   "outputs": [
    {
     "data": {
      "text/latex": [
       "$\n",
       "\\begin{aligned}\n",
       "\\mathrm{Ae} &= A_{e} \\cdot 1 \\times 10 ^ {-6} \\\\&= 524.500 \\cdot 1 \\times 10 ^ {-6} \\\\&= 0.001 \\; \\;\\textrm{(m2)}\\\\[10pt]\n",
       "\\\\[10pt]\n",
       "l_{g} &= 1 \\times 10 ^ {3} \\cdot \\frac{ \\mu_{0} \\cdot \\left( n \\right) ^{ 2 } \\cdot \\mathrm{Ae} }{ \\mathrm{Lm} } - \\frac{ \\mathrm{le} }{ \\mu_{r} } \\\\&= 1 \\times 10 ^ {3} \\cdot \\frac{ 0.000 \\cdot \\left( 4 \\right) ^{ 2 } \\cdot 0.001 }{ 0.000 } - \\frac{ 0.121 }{ 1740 } \\\\&= 0.161 \\; \\;\\textrm{(mm)}\\\\[10pt]\n",
       "\\end{aligned}\n",
       "$"
      ],
      "text/plain": [
       "<IPython.core.display.Latex object>"
      ]
     },
     "metadata": {},
     "output_type": "display_data"
    }
   ],
   "source": [
    "%%render long \n",
    "Ae= A_e*1e-6 # m2\n",
    "\n",
    "l_g = 1e3*(mu_0*n**2*Ae)/Lm -le/mu_r # mm\n"
   ]
  },
  {
   "cell_type": "markdown",
   "id": "27642c6f-59c4-4c54-89ed-d2457db5f9cb",
   "metadata": {},
   "source": [
    "ALl  core in one PDF\n",
    "https://www.tdk-electronics.tdk.com/download/519704/069c210d0363d7b4682d9ff22c2ba503/ferrites-and-accessories-db-130501.pdf"
   ]
  },
  {
   "cell_type": "markdown",
   "id": "dbbcfec0-b869-47c0-ac27-cae3b5835049",
   "metadata": {},
   "source": [
    "## Lr design "
   ]
  },
  {
   "cell_type": "markdown",
   "id": "4795f2c0-3c69-45ab-baf6-d2afc90ac7af",
   "metadata": {},
   "source": [
    "**The input data**"
   ]
  },
  {
   "cell_type": "code",
   "execution_count": 6,
   "id": "5fd0bf44-895b-467c-8b0e-ef5a690b2230",
   "metadata": {
    "scrolled": true
   },
   "outputs": [],
   "source": [
    "params = ['Lr_uH', 'fsw_min', 'fsw_max', 'Ir_rms']\n",
    "\n",
    "dic_Lr= {x:out_datas[x] for x in params}\n",
    "#print(\"Transormer parameters:\")\n",
    "#display(dic_Lr)"
   ]
  },
  {
   "cell_type": "code",
   "execution_count": 7,
   "id": "daf324fd-f945-4dce-8848-23bc60f7fb1e",
   "metadata": {},
   "outputs": [
    {
     "data": {
      "text/latex": [
       "$\n",
       "\\begin{aligned}\n",
       "\\mathrm{Lr}_{uH} &= 21.797 \\; \\;\\textrm{(µH)}\n",
       "\\\\[10pt]\n",
       "\\mathrm{Ir}_{rms} &= 10.354 \\; \\;\\textrm{(Arms)}\n",
       "\\end{aligned}\n",
       "$"
      ],
      "text/plain": [
       "<IPython.core.display.Latex object>"
      ]
     },
     "metadata": {},
     "output_type": "display_data"
    }
   ],
   "source": [
    "%%render \n",
    "Lr_uH # µH\n",
    "Ir_rms # Arms"
   ]
  },
  {
   "cell_type": "markdown",
   "id": "65f6f823-7f09-4746-9524-1ee75f0c8bdd",
   "metadata": {},
   "source": [
    "**Relationship Between Inductance Ratio and Number of Turns**"
   ]
  },
  {
   "cell_type": "code",
   "execution_count": 8,
   "id": "942cbeb6-c78a-4090-86fd-3ea85c66eb4e",
   "metadata": {},
   "outputs": [
    {
     "data": {
      "text/html": [
       "<div>\n",
       "<style scoped>\n",
       "    .dataframe tbody tr th:only-of-type {\n",
       "        vertical-align: middle;\n",
       "    }\n",
       "\n",
       "    .dataframe tbody tr th {\n",
       "        vertical-align: top;\n",
       "    }\n",
       "\n",
       "    .dataframe thead th {\n",
       "        text-align: right;\n",
       "    }\n",
       "</style>\n",
       "<table border=\"1\" class=\"dataframe\">\n",
       "  <thead>\n",
       "    <tr style=\"text-align: right;\">\n",
       "      <th></th>\n",
       "      <th>Nb</th>\n",
       "      <th>Al_nH</th>\n",
       "    </tr>\n",
       "  </thead>\n",
       "  <tbody>\n",
       "    <tr>\n",
       "      <th>0</th>\n",
       "      <td>1.0</td>\n",
       "      <td>21797.000000</td>\n",
       "    </tr>\n",
       "    <tr>\n",
       "      <th>1</th>\n",
       "      <td>2.0</td>\n",
       "      <td>5449.250000</td>\n",
       "    </tr>\n",
       "    <tr>\n",
       "      <th>2</th>\n",
       "      <td>3.0</td>\n",
       "      <td>2421.888889</td>\n",
       "    </tr>\n",
       "    <tr>\n",
       "      <th>3</th>\n",
       "      <td>4.0</td>\n",
       "      <td>1362.312500</td>\n",
       "    </tr>\n",
       "    <tr>\n",
       "      <th>4</th>\n",
       "      <td>5.0</td>\n",
       "      <td>871.880000</td>\n",
       "    </tr>\n",
       "    <tr>\n",
       "      <th>5</th>\n",
       "      <td>6.0</td>\n",
       "      <td>605.472222</td>\n",
       "    </tr>\n",
       "    <tr>\n",
       "      <th>6</th>\n",
       "      <td>7.0</td>\n",
       "      <td>444.836735</td>\n",
       "    </tr>\n",
       "    <tr>\n",
       "      <th>7</th>\n",
       "      <td>8.0</td>\n",
       "      <td>340.578125</td>\n",
       "    </tr>\n",
       "    <tr>\n",
       "      <th>8</th>\n",
       "      <td>9.0</td>\n",
       "      <td>269.098765</td>\n",
       "    </tr>\n",
       "  </tbody>\n",
       "</table>\n",
       "</div>"
      ],
      "text/plain": [
       "    Nb         Al_nH\n",
       "0  1.0  21797.000000\n",
       "1  2.0   5449.250000\n",
       "2  3.0   2421.888889\n",
       "3  4.0   1362.312500\n",
       "4  5.0    871.880000\n",
       "5  6.0    605.472222\n",
       "6  7.0    444.836735\n",
       "7  8.0    340.578125\n",
       "8  9.0    269.098765"
      ]
     },
     "execution_count": 8,
     "metadata": {},
     "output_type": "execute_result"
    }
   ],
   "source": [
    "pd.DataFrame(np.array([list(range(1,10)),\n",
    "                       [1e3*Lr_uH/n**2 for n in range(1,10)]]).T,\n",
    "            columns = [\"Nb\", \"Al_nH\"])"
   ]
  },
  {
   "cell_type": "markdown",
   "id": "e976dfb8-85ca-42bd-934a-4d0d5eb7f9d2",
   "metadata": {},
   "source": [
    "**Calculation Using the ELP 58/11/38 Core**"
   ]
  },
  {
   "cell_type": "code",
   "execution_count": 9,
   "id": "2e3b6be7-1651-4715-a9e0-6584b35c1d73",
   "metadata": {},
   "outputs": [
    {
     "data": {
      "text/latex": [
       "$\n",
       "\\begin{aligned}\n",
       "\\mathrm{core} &= \\mathrm{ELP 58/11/38}\\ with \\ I 58/4/38 N87 \\; \n",
       "\\\\[10pt]\n",
       "\\mathrm{Aemin} &= 308 \\; \\;\\textrm{(mm2: datasheet)}\n",
       "\\\\[10pt]\n",
       "\\mathrm{Al}_{nH0} &= 8400 \\; \\;\\textrm{(nH: datasheet)}\n",
       "\\\\[10pt]\n",
       "\\mathrm{Le} &= 67.700 \\; \\;\\textrm{(mm: datasheet)}\n",
       "\\\\[10pt]\n",
       "\\mathrm{K1} &= 591 \\; \\;\\textrm{(datasheet)}\n",
       "\\\\[10pt]\n",
       "\\mathrm{K2} &= -0.685 \\; \\;\\textrm{(datasheet)}\n",
       "\\\\[10pt]\n",
       "B_{sat} &= 300 \\; \\;\\textrm{(mT: datasheet)}\n",
       "\\\\[10pt]\n",
       "\\mu_{e} &= 1540 \\; \n",
       "\\\\[10pt]\n",
       "n &= 4 \\; \\;\\textrm{(turns: 4 layers pcb)}\n",
       "\\end{aligned}\n",
       "$"
      ],
      "text/plain": [
       "<IPython.core.display.Latex object>"
      ]
     },
     "metadata": {},
     "output_type": "display_data"
    }
   ],
   "source": [
    "%%render long\n",
    "core = \"ELP 58/11/38__with __I 58/4/38 N87\"\n",
    "Aemin = 308 # mm2: datasheet\n",
    "Al_nH0 = 8400 # nH: datasheet\n",
    "Le= 67.7 # mm: datasheet\n",
    "K1= 591 # datasheet\n",
    "K2= -0.685 # datasheet\n",
    "B_sat = 300 # mT: datasheet\n",
    "mu_e=1540\n",
    "n=4 # turns: 4 layers pcb"
   ]
  },
  {
   "cell_type": "markdown",
   "id": "7275b327-b423-4c4d-a69c-69f6de1a397e",
   "metadata": {},
   "source": [
    "<br><br>**$B_{peak}$ and the margin**"
   ]
  },
  {
   "cell_type": "code",
   "execution_count": 10,
   "id": "fe577e7b-b222-42ec-950c-e8f96b5fe4aa",
   "metadata": {},
   "outputs": [
    {
     "data": {
      "text/latex": [
       "$\n",
       "\\begin{aligned}\n",
       "B_{peak} &= 1 \\times 10 ^ {-3} \\cdot \\mathrm{Lr}_{uH} \\cdot \\sqrt { 2 } \\cdot \\frac{ \\mathrm{Ir}_{rms} }{ n \\cdot \\mathrm{Aemin} \\cdot 1 \\times 10 ^ {-6} } \\\\&= 1 \\times 10 ^ {-3} \\cdot 21.797 \\cdot \\sqrt { 2 } \\cdot \\frac{ 10.354 }{ 4 \\cdot 308 \\cdot 1 \\times 10 ^ {-6} } \\\\&= 259.065 \\; \\;\\textrm{(mT)}\\\\[10pt]\n",
       "\\\\[10pt]\n",
       "B_{margin} &= 100 \\cdot \\frac{ B_{sat} - B_{peak} }{ B_{sat} } \\\\&= 100 \\cdot \\frac{ 300 - 259.065 }{ 300 } \\\\&= 13.645 \\; \\;\\textrm{(\\%)}\\\\[10pt]\n",
       "\\end{aligned}\n",
       "$"
      ],
      "text/plain": [
       "<IPython.core.display.Latex object>"
      ]
     },
     "metadata": {},
     "output_type": "display_data"
    }
   ],
   "source": [
    "%%render long\n",
    "B_peak = 1e-3*Lr_uH*sqrt(2)*Ir_rms/(n*Aemin*1e-6) # mT\n",
    "B_margin = 100*(B_sat-B_peak )/B_sat  # \\%\n"
   ]
  },
  {
   "cell_type": "markdown",
   "id": "af708715-0365-42cc-ac3b-f1d1b210de4a",
   "metadata": {},
   "source": [
    "**The Air Gap Calculated Using the TDK Factors K₁, K₂, and the Simple Formula**"
   ]
  },
  {
   "cell_type": "code",
   "execution_count": 11,
   "id": "13011211-7e46-4d38-9cd6-3ab8de2ef45e",
   "metadata": {},
   "outputs": [
    {
     "data": {
      "text/latex": [
       "$\n",
       "\\begin{aligned}\n",
       "\\mathrm{Al}_{nH} &= 1 \\times 10 ^ {3} \\cdot \\frac{ \\mathrm{Lr}_{uH} }{ \\left( n \\right) ^{ 2 } } \\\\&= 1 \\times 10 ^ {3} \\cdot \\frac{ 21.797 }{ \\left( 4 \\right) ^{ 2 } } \\\\&= 1362.312 \\; \\;\\textrm{(nH/turn squared)}\\\\[10pt]\n",
       "\\\\[10pt]\n",
       "s_{mm} &= \\left( \\frac{ \\mathrm{Al}_{nH} }{ \\mathrm{K1} } \\right) ^{ \\left( \\frac{ 1 }{ \\mathrm{K2} } \\right) } \\\\&= \\left( \\frac{ 1362.312 }{ 591 } \\right) ^{ \\left( \\frac{ 1 }{ -0.685 } \\right) } \\\\&= 0.295 \\; \\;\\textrm{(mm airgap)}\\\\[10pt]\n",
       "\\\\[10pt]\n",
       "\\mathrm{lg}_{mm} &= \\mathrm{Le} \\cdot \\frac{ \\frac{ \\mathrm{Al}_{nH0} }{ \\mathrm{Al}_{nH} } - 1 }{ \\mu_{e} } \\\\&= 67.700 \\cdot \\frac{ \\frac{ 8400 }{ 1362.312 } - 1 }{ 1540 } \\\\&= 0.227 \\; \\;\\textrm{(mm)}\\\\[10pt]\n",
       "\\end{aligned}\n",
       "$"
      ],
      "text/plain": [
       "<IPython.core.display.Latex object>"
      ]
     },
     "metadata": {},
     "output_type": "display_data"
    }
   ],
   "source": [
    "%%render long\n",
    "Al_nH= 1e3*Lr_uH/n**2 # nH/turn squared\n",
    "s_mm= (Al_nH/K1)**(1/K2) # mm airgap \n",
    "lg_mm= Le *(Al_nH0/Al_nH-1)/mu_e# mm"
   ]
  },
  {
   "cell_type": "markdown",
   "id": "8b32e908-8b23-4a1a-9029-d5da13d7bc28",
   "metadata": {},
   "source": [
    "#### gap error effect "
   ]
  },
  {
   "cell_type": "code",
   "execution_count": 12,
   "id": "6304ad12-99b0-4c62-97a3-e26286a900b2",
   "metadata": {},
   "outputs": [
    {
     "data": {
      "text/latex": [
       "$\n",
       "\\begin{aligned}\n",
       "s_{nom} &= 0.295 \\; \\;\\textrm{(mm)}\n",
       "\\\\[10pt]\n",
       "\\mathrm{error} &= 10 \\; \\;\\textrm{(\\%)}\n",
       "\\\\[10pt]\n",
       "s_{min} &= s_{nom} \\cdot \\left( 1 - \\frac{ \\mathrm{error} }{ 100 } \\right)  = 0.295 \\cdot \\left( 1 - \\frac{ 10 }{ 100 } \\right) &= 0.266  \n",
       "\\\\[10pt]\n",
       "s_{max} &= s_{nom} \\cdot \\left( 1 + \\frac{ \\mathrm{error} }{ 100 } \\right)  = 0.295 \\cdot \\left( 1 + \\frac{ 10 }{ 100 } \\right) &= 0.325  \n",
       "\\\\[10pt]\n",
       "\\mathrm{Al}_{max} &= \\left( s_{min} \\right) ^{ \\mathrm{K2} } \\cdot \\mathrm{K1}  = \\left( 0.266 \\right) ^{ -0.685 } \\cdot 591 &= 1464.268  \n",
       "\\\\[10pt]\n",
       "\\mathrm{Al}_{min} &= \\left( s_{max} \\right) ^{ \\mathrm{K2} } \\cdot \\mathrm{K1}  = \\left( 0.325 \\right) ^{ -0.685 } \\cdot 591 &= 1276.212  \n",
       "\\\\[10pt]\n",
       "\\mathrm{Al}_{errorP} &= 100 \\cdot \\frac{ \\mathrm{Al}_{max} - \\mathrm{Al}_{nH} }{ \\mathrm{Al}_{nH} }  = 100 \\cdot \\frac{ 1464.268 - 1362.312 }{ 1362.312 } &= 7.484 \\; \\;\\textrm{(\\% of error of nH)}\n",
       "\\\\[10pt]\n",
       "\\mathrm{Al}_{errorN} &= 100 \\cdot \\frac{ \\mathrm{Al}_{min} - \\mathrm{Al}_{nH} }{ \\mathrm{Al}_{nH} }  = 100 \\cdot \\frac{ 1276.212 - 1362.312 }{ 1362.312 } &= -6.320 \\; \\;\\textrm{(\\% of error of nH)}\n",
       "\\end{aligned}\n",
       "$"
      ],
      "text/plain": [
       "<IPython.core.display.Latex object>"
      ]
     },
     "metadata": {},
     "output_type": "display_data"
    }
   ],
   "source": [
    "%%render \n",
    "\n",
    "s_nom = s_mm # mm\n",
    "error=10 # \\%\n",
    "s_min = s_nom*(1-error/100)\n",
    "s_max = s_nom*(1+error/100)\n",
    "Al_max= (s_min**K2)*K1\n",
    "Al_min= (s_max**K2)*K1\n",
    "Al_errorP= 100*(Al_max-Al_nH)/Al_nH # \\% of error of nH\n",
    "Al_errorN= 100*(Al_min-Al_nH)/Al_nH # \\% of error of nH"
   ]
  },
  {
   "cell_type": "code",
   "execution_count": null,
   "id": "3166107d-5fc6-4194-babb-b9d071d4b229",
   "metadata": {},
   "outputs": [],
   "source": []
  },
  {
   "cell_type": "code",
   "execution_count": 13,
   "id": "ea61bcf5-c353-4d15-9882-7dd63b5dcf35",
   "metadata": {},
   "outputs": [
    {
     "data": {
      "image/png": "[encoded data removed]",
      "text/plain": [
       "<Figure size 400x300 with 1 Axes>"
      ]
     },
     "metadata": {},
     "output_type": "display_data"
    }
   ],
   "source": [
    "s_nom = s_mm # mm\n",
    "Al_errorP_arr=[]\n",
    "Al_errorN_arr=[]\n",
    "e_arr=list(np.arange(0,55,5))\n",
    "for error in e_arr:\n",
    "    s_min = s_nom*(1-error/100)\n",
    "    s_max = s_nom*(1+error/100)\n",
    "    Al_max= (s_min**K2)*K1\n",
    "    Al_min= (s_max**K2)*K1\n",
    "    Al_errorP= 100*(Al_max-Al_nH)/Al_nH # \\% of error of nH\n",
    "    Al_errorN= 100*(Al_min-Al_nH)/Al_nH # \\% of error of nH\n",
    "\n",
    "    Al_errorP_arr.append(Al_errorP)\n",
    "    Al_errorN_arr.append(Al_errorN)\n",
    "plt.subplots(figsize=(4,3))\n",
    "plt.plot(e_arr,Al_errorP_arr,\n",
    "         c=\"C9\",label=\"Inductance error\")\n",
    "plt.plot([-50,50],[-50,50],c=\"C7\", \n",
    "         linestyle = 'dotted',label=\"x = y\")\n",
    "\n",
    "plt.plot(-np.array(e_arr),Al_errorN_arr,c=\"C9\") \n",
    "plt.grid(which=\"both\")\n",
    "plt.xlabel(\"Air Gap Target Error (%)\")\n",
    "plt.ylabel(\"Overall Inductance Error (%)\")\n",
    "plt.legend()\n",
    "plt.show()\n"
   ]
  },
  {
   "cell_type": "code",
   "execution_count": null,
   "id": "1d162c6a-cb13-457b-8651-cd5611b8cde3",
   "metadata": {},
   "outputs": [],
   "source": []
  },
  {
   "cell_type": "code",
   "execution_count": null,
   "id": "733cca89-8ca6-4c3b-bad9-50b2cb635a89",
   "metadata": {},
   "outputs": [],
   "source": []
  },
  {
   "cell_type": "code",
   "execution_count": null,
   "id": "4649f41b-45bb-4060-bc83-1956ab47c693",
   "metadata": {},
   "outputs": [],
   "source": []
  },
  {
   "cell_type": "code",
   "execution_count": null,
   "id": "0cfb8cc2-28a6-4359-bbb3-856ae333804b",
   "metadata": {},
   "outputs": [],
   "source": []
  },
  {
   "cell_type": "code",
   "execution_count": 14,
   "id": "27a1f77f-ce97-4e45-91c9-8384db359df1",
   "metadata": {},
   "outputs": [
    {
     "data": {
      "text/html": [
       "\n",
       " \n",
       "      <div style=\"width: 10cm; text-align: center;\">\n",
       "        <img src=\"./03_figs/MagneticPath.jpg\" style=\"width: 10cm;\">\n",
       "        <div style=\"width: 10cm; word-wrap: break-word;\">\n",
       "            <b>Figure 1:</b> E/I core and insulation material\n",
       "        </div>\n",
       "      </div>\n",
       "      </div>\n",
       "\n",
       "    <br>\n",
       "    "
      ],
      "text/plain": [
       "<IPython.core.display.HTML object>"
      ]
     },
     "metadata": {},
     "output_type": "display_data"
    }
   ],
   "source": [
    "first_part_path = \"./03_figs/\"\n",
    "\n",
    "fig_counter = One_figure_with_captions(\n",
    "    fig_counter, \n",
    "    \"MagneticPath.jpg\",\n",
    "    \"E/I core and insulation material\",\n",
    "    first_part_path= first_part_path, \n",
    "    width=10\n",
    ")"
   ]
  },
  {
   "cell_type": "code",
   "execution_count": null,
   "id": "10e1d14c-d141-4efb-8f73-a8af70f9ce6c",
   "metadata": {},
   "outputs": [],
   "source": []
  },
  {
   "attachments": {},
   "cell_type": "markdown",
   "id": "21036f56-e707-4a51-bb98-5933cee85e12",
   "metadata": {},
   "source": [
    "As shown in the figure above, the **Material Thickness** is equal to *(Calculated Air Gap) ÷ 2* because the magnetic flux passes through the insulation material twice."
   ]
  },
  {
   "cell_type": "markdown",
   "id": "1b5ea37b-0a24-470c-9b75-19fcd23aa994",
   "metadata": {},
   "source": [
    "**The cores listed below are verified, but only the ‘ELP 58/11/38’ yields a B_peak below 300 mT.** "
   ]
  },
  {
   "cell_type": "code",
   "execution_count": 15,
   "id": "931886bf-e349-4436-bccc-9bb27de2bb82",
   "metadata": {
    "scrolled": true
   },
   "outputs": [
    {
     "data": {
      "text/html": [
       "<div>\n",
       "<style scoped>\n",
       "    .dataframe tbody tr th:only-of-type {\n",
       "        vertical-align: middle;\n",
       "    }\n",
       "\n",
       "    .dataframe tbody tr th {\n",
       "        vertical-align: top;\n",
       "    }\n",
       "\n",
       "    .dataframe thead th {\n",
       "        text-align: right;\n",
       "    }\n",
       "</style>\n",
       "<table border=\"1\" class=\"dataframe\">\n",
       "  <thead>\n",
       "    <tr style=\"text-align: right;\">\n",
       "      <th></th>\n",
       "      <th>core</th>\n",
       "      <th>Ae_min(mm2)</th>\n",
       "      <th>B_peak(mT)</th>\n",
       "    </tr>\n",
       "  </thead>\n",
       "  <tbody>\n",
       "    <tr>\n",
       "      <th>0</th>\n",
       "      <td>ELP 22/6/16 with ELP 22/6/16</td>\n",
       "      <td>78.3</td>\n",
       "      <td>1019.056152</td>\n",
       "    </tr>\n",
       "    <tr>\n",
       "      <th>1</th>\n",
       "      <td>ELP 32/6/20 with ELP 32/6/20</td>\n",
       "      <td>128</td>\n",
       "      <td>623.375732</td>\n",
       "    </tr>\n",
       "    <tr>\n",
       "      <th>2</th>\n",
       "      <td>ELP 38/8/25 with ELP 38/8/25</td>\n",
       "      <td>192</td>\n",
       "      <td>415.583832</td>\n",
       "    </tr>\n",
       "    <tr>\n",
       "      <th>3</th>\n",
       "      <td>ELP 43/10/28 with ELP 43/10/28</td>\n",
       "      <td>217</td>\n",
       "      <td>367.705536</td>\n",
       "    </tr>\n",
       "    <tr>\n",
       "      <th>4</th>\n",
       "      <td>ELP 58/11/38 with ELP 58/11/38</td>\n",
       "      <td>308</td>\n",
       "      <td>259.065247</td>\n",
       "    </tr>\n",
       "  </tbody>\n",
       "</table>\n",
       "</div>"
      ],
      "text/plain": [
       "                             core Ae_min(mm2)   B_peak(mT)\n",
       "0    ELP 22/6/16 with ELP 22/6/16       78.3   1019.056152\n",
       "1    ELP 32/6/20 with ELP 32/6/20         128   623.375732\n",
       "2    ELP 38/8/25 with ELP 38/8/25         192   415.583832\n",
       "3  ELP 43/10/28 with ELP 43/10/28         217   367.705536\n",
       "4  ELP 58/11/38 with ELP 58/11/38         308   259.065247"
      ]
     },
     "execution_count": 15,
     "metadata": {},
     "output_type": "execute_result"
    }
   ],
   "source": [
    "t= \"\"\"core,Ae_min(mm2)\n",
    "ELP 22/6/16 with ELP 22/6/16,78.3 \n",
    "ELP 32/6/20 with ELP 32/6/20,128\n",
    "ELP 38/8/25 with ELP 38/8/25,192\n",
    "ELP 43/10/28 with ELP 43/10/28,217\n",
    "ELP 58/11/38 with ELP 58/11/38,308\"\"\".split(\"\\n\")\n",
    "t= [x.split(\",\") for x in t]\n",
    "df = pd.DataFrame(t[1:], columns = t[0])\n",
    "Aemin = df[\"Ae_min(mm2)\"].astype(\"float32\")\n",
    "B_peak = 1e-3*Lr_uH*sqrt(2)*Ir_rms/(n*Aemin*1e-6) # mT\n",
    "df[\"B_peak(mT)\"]=B_peak\n",
    "df"
   ]
  },
  {
   "cell_type": "markdown",
   "id": "f5ccaf1f-6cff-46eb-8d37-6ad511c5cf91",
   "metadata": {},
   "source": []
  },
  {
   "cell_type": "markdown",
   "id": "c9bc118e-ca4e-4831-9497-1752080c6ad7",
   "metadata": {},
   "source": [
    "**Datasheets of the transformer core candidates**\n",
    "https://www.ferroxcube.com/upload/media/product/file/Pr_ds/E64_10_50.pdf <br>\n",
    "https://www.tdk-electronics.tdk.com/inf/80/db/fer/elp_43_10_28.pdf <br>\n",
    "https://product.tdk.com/system/files/dam/doc/product/ferrite/ferrite/ferrite-core/data_sheet/80/db/fer/elp_64_10_50.pdf <br>\n",
    "https://www.ferroxcube.com/upload/media/product/file/Pr_ds/E64_10_50_PLT64_50_5.pdf <br>\n",
    "https://www.ferroxcube.com/upload/media/product/file/Pr_ds/ER64_13_51.pdf <br>\n",
    "https://product.tdk.com/system/files/dam/doc/product/ferrite/ferrite/ferrite-core/data_sheet/80/db/fer/e_100_60_28.pdf <br>\n",
    "https://product.tdk.com/system/files/dam/doc/product/ferrite/ferrite/ferrite-core/data_sheet/80/db/fer/elp_102_20_38.pdf <br>\n",
    "https://www.tdk-electronics.tdk.com/inf/80/db/fer/e_80_38_20.pdf"
   ]
  },
  {
   "cell_type": "markdown",
   "id": "360ff754-b341-485d-bf8d-ef254b40b2a5",
   "metadata": {},
   "source": [
    "**Datasheets of the resonant inductor core candidates**\n",
    "<br>\n",
    "https://www.tdk-electronics.tdk.com/inf/80/db/fer/elp_22_6_16.pdf<br>\n",
    "https://www.tdk-electronics.tdk.com/inf/80/db/fer/elp_32_6_20.pdf<br>\n",
    "https://www.tdk-electronics.tdk.com/inf/80/db/fer/elp_38_8_25.pdf<br>\n",
    "https://www.tdk-electronics.tdk.com/inf/80/db/fer/elp_43_10_28.pdf<br>\n",
    "https://www.tdk-electronics.tdk.com/inf/80/db/fer/elp_58_11_38.pdf"
   ]
  },
  {
   "cell_type": "code",
   "execution_count": null,
   "id": "ad1b6c52-adfe-4b14-9f24-10c995e5a1af",
   "metadata": {},
   "outputs": [],
   "source": []
  },
  {
   "cell_type": "code",
   "execution_count": null,
   "id": "87882097-9ab4-448e-8e0f-3c24b687f453",
   "metadata": {},
   "outputs": [],
   "source": []
  },
  {
   "cell_type": "code",
   "execution_count": null,
   "id": "7f4b0971-4d9f-43eb-a3b3-6e342f19c3f7",
   "metadata": {},
   "outputs": [],
   "source": []
  },
  {
   "cell_type": "markdown",
   "id": "a5798040-a011-4851-8e79-77b8d46fbe92",
   "metadata": {},
   "source": [
    "page 6 <br>\n",
    "https://www.tdk-electronics.tdk.com/download/531516/f119bbe0ab3d6dd73ae31c6fa9dcf6b9/pdf-ecoresgeneralinformation.pdf"
   ]
  },
  {
   "cell_type": "code",
   "execution_count": null,
   "id": "18c061cc-0854-4194-b877-636439910271",
   "metadata": {},
   "outputs": [],
   "source": []
  },
  {
   "cell_type": "code",
   "execution_count": null,
   "id": "4cb4141c-306e-4bc6-a5ef-706171bf9e6d",
   "metadata": {},
   "outputs": [],
   "source": []
  },
  {
   "cell_type": "markdown",
   "id": "02399696-3de8-45b4-8f28-d7ef00ec4d22",
   "metadata": {},
   "source": [
    "https://www.tdk-electronics.tdk.com/download/531538/d5537837a7b4f3cd2fc2e7da8e093820/pdf-processingnotes.pdf"
   ]
  },
  {
   "cell_type": "code",
   "execution_count": 26,
   "id": "0df19e33-21cf-4180-a7e2-49bc8bc38e59",
   "metadata": {},
   "outputs": [
    {
     "data": {
      "text/html": [
       "<div>\n",
       "<style scoped>\n",
       "    .dataframe tbody tr th:only-of-type {\n",
       "        vertical-align: middle;\n",
       "    }\n",
       "\n",
       "    .dataframe tbody tr th {\n",
       "        vertical-align: top;\n",
       "    }\n",
       "\n",
       "    .dataframe thead th {\n",
       "        text-align: right;\n",
       "    }\n",
       "</style>\n",
       "<table border=\"1\" class=\"dataframe\">\n",
       "  <thead>\n",
       "    <tr style=\"text-align: right;\">\n",
       "      <th>core</th>\n",
       "      <th>ELP 22/6/16 with ELP 22/6/16</th>\n",
       "      <th>ELP 32/6/20 with ELP 32/6/20</th>\n",
       "      <th>ELP 38/8/25 with ELP 38/8/25</th>\n",
       "      <th>ELP 43/10/28 with ELP 43/10/28</th>\n",
       "      <th>ELP 58/11/38 with ELP 58/11/38</th>\n",
       "    </tr>\n",
       "  </thead>\n",
       "  <tbody>\n",
       "    <tr>\n",
       "      <th>Ae_min(mm2)</th>\n",
       "      <td>78.3</td>\n",
       "      <td>128</td>\n",
       "      <td>192</td>\n",
       "      <td>217</td>\n",
       "      <td>308</td>\n",
       "    </tr>\n",
       "    <tr>\n",
       "      <th>B_peak n=1</th>\n",
       "      <td>4076.224609</td>\n",
       "      <td>2493.50293</td>\n",
       "      <td>1662.335327</td>\n",
       "      <td>1470.822144</td>\n",
       "      <td>1036.260986</td>\n",
       "    </tr>\n",
       "    <tr>\n",
       "      <th>B_peak n=2</th>\n",
       "      <td>2038.112305</td>\n",
       "      <td>1246.751465</td>\n",
       "      <td>831.167664</td>\n",
       "      <td>735.411072</td>\n",
       "      <td>518.130493</td>\n",
       "    </tr>\n",
       "    <tr>\n",
       "      <th>B_peak n=3</th>\n",
       "      <td>1358.741455</td>\n",
       "      <td>831.167664</td>\n",
       "      <td>554.111755</td>\n",
       "      <td>490.274017</td>\n",
       "      <td>345.420349</td>\n",
       "    </tr>\n",
       "    <tr>\n",
       "      <th>B_peak n=4</th>\n",
       "      <td>1019.056152</td>\n",
       "      <td>623.375732</td>\n",
       "      <td>415.583832</td>\n",
       "      <td>367.705536</td>\n",
       "      <td>259.065247</td>\n",
       "    </tr>\n",
       "    <tr>\n",
       "      <th>B_peak n=5</th>\n",
       "      <td>815.244873</td>\n",
       "      <td>498.700623</td>\n",
       "      <td>332.467072</td>\n",
       "      <td>294.164429</td>\n",
       "      <td>207.252197</td>\n",
       "    </tr>\n",
       "    <tr>\n",
       "      <th>B_peak n=6</th>\n",
       "      <td>679.370728</td>\n",
       "      <td>415.583832</td>\n",
       "      <td>277.055878</td>\n",
       "      <td>245.137009</td>\n",
       "      <td>172.710175</td>\n",
       "    </tr>\n",
       "    <tr>\n",
       "      <th>B_peak n=7</th>\n",
       "      <td>582.317749</td>\n",
       "      <td>356.214722</td>\n",
       "      <td>237.476486</td>\n",
       "      <td>210.117432</td>\n",
       "      <td>148.037292</td>\n",
       "    </tr>\n",
       "    <tr>\n",
       "      <th>B_peak n=8</th>\n",
       "      <td>509.528076</td>\n",
       "      <td>311.687866</td>\n",
       "      <td>207.791916</td>\n",
       "      <td>183.852768</td>\n",
       "      <td>129.532623</td>\n",
       "    </tr>\n",
       "  </tbody>\n",
       "</table>\n",
       "</div>"
      ],
      "text/plain": [
       "core        ELP 22/6/16 with ELP 22/6/16 ELP 32/6/20 with ELP 32/6/20  \\\n",
       "Ae_min(mm2)                        78.3                           128   \n",
       "B_peak n=1                   4076.224609                   2493.50293   \n",
       "B_peak n=2                   2038.112305                  1246.751465   \n",
       "B_peak n=3                   1358.741455                   831.167664   \n",
       "B_peak n=4                   1019.056152                   623.375732   \n",
       "B_peak n=5                    815.244873                   498.700623   \n",
       "B_peak n=6                    679.370728                   415.583832   \n",
       "B_peak n=7                    582.317749                   356.214722   \n",
       "B_peak n=8                    509.528076                   311.687866   \n",
       "\n",
       "core        ELP 38/8/25 with ELP 38/8/25 ELP 43/10/28 with ELP 43/10/28  \\\n",
       "Ae_min(mm2)                          192                            217   \n",
       "B_peak n=1                   1662.335327                    1470.822144   \n",
       "B_peak n=2                    831.167664                     735.411072   \n",
       "B_peak n=3                    554.111755                     490.274017   \n",
       "B_peak n=4                    415.583832                     367.705536   \n",
       "B_peak n=5                    332.467072                     294.164429   \n",
       "B_peak n=6                    277.055878                     245.137009   \n",
       "B_peak n=7                    237.476486                     210.117432   \n",
       "B_peak n=8                    207.791916                     183.852768   \n",
       "\n",
       "core        ELP 58/11/38 with ELP 58/11/38  \n",
       "Ae_min(mm2)                            308  \n",
       "B_peak n=1                     1036.260986  \n",
       "B_peak n=2                      518.130493  \n",
       "B_peak n=3                      345.420349  \n",
       "B_peak n=4                      259.065247  \n",
       "B_peak n=5                      207.252197  \n",
       "B_peak n=6                      172.710175  \n",
       "B_peak n=7                      148.037292  \n",
       "B_peak n=8                      129.532623  "
      ]
     },
     "execution_count": 26,
     "metadata": {},
     "output_type": "execute_result"
    }
   ],
   "source": [
    "t= \"\"\"core,Ae_min(mm2)\n",
    "ELP 22/6/16 with ELP 22/6/16,78.3 \n",
    "ELP 32/6/20 with ELP 32/6/20,128\n",
    "ELP 38/8/25 with ELP 38/8/25,192\n",
    "ELP 43/10/28 with ELP 43/10/28,217\n",
    "ELP 58/11/38 with ELP 58/11/38,308\"\"\".split(\"\\n\")\n",
    "t= [x.split(\",\") for x in t]\n",
    "df = pd.DataFrame(t[1:], columns = t[0])\n",
    "Aemin = df[\"Ae_min(mm2)\"].astype(\"float32\")\n",
    "for n in range(1, 9):\n",
    "    B_peak = 1e-3*Lr_uH*sqrt(2)*Ir_rms/(n*Aemin*1e-6) # mT\n",
    "    df[f\"B_peak n={n}\"]=B_peak\n",
    "df = df.set_index(\"core\").T\n",
    "df"
   ]
  },
  {
   "cell_type": "code",
   "execution_count": 90,
   "id": "5d10cb0e-2cd8-45e5-8938-b4f2d2ddeee8",
   "metadata": {},
   "outputs": [
    {
     "data": {
      "text/html": [
       "<div>\n",
       "<style scoped>\n",
       "    .dataframe tbody tr th:only-of-type {\n",
       "        vertical-align: middle;\n",
       "    }\n",
       "\n",
       "    .dataframe tbody tr th {\n",
       "        vertical-align: top;\n",
       "    }\n",
       "\n",
       "    .dataframe thead th {\n",
       "        text-align: right;\n",
       "    }\n",
       "</style>\n",
       "<table border=\"1\" class=\"dataframe\">\n",
       "  <thead>\n",
       "    <tr style=\"text-align: right;\">\n",
       "      <th>n</th>\n",
       "      <th>4</th>\n",
       "      <th>5</th>\n",
       "      <th>6</th>\n",
       "      <th>7</th>\n",
       "      <th>8</th>\n",
       "    </tr>\n",
       "    <tr>\n",
       "      <th>core</th>\n",
       "      <th></th>\n",
       "      <th></th>\n",
       "      <th></th>\n",
       "      <th></th>\n",
       "      <th></th>\n",
       "    </tr>\n",
       "  </thead>\n",
       "  <tbody>\n",
       "    <tr>\n",
       "      <th>ELP 38/8/25 with ELP 38/8/25</th>\n",
       "      <td>NaN</td>\n",
       "      <td>NaN</td>\n",
       "      <td>277.055878</td>\n",
       "      <td>237.476486</td>\n",
       "      <td>207.791916</td>\n",
       "    </tr>\n",
       "    <tr>\n",
       "      <th>ELP 43/10/28 with ELP 43/10/28</th>\n",
       "      <td>NaN</td>\n",
       "      <td>294.164429</td>\n",
       "      <td>245.137009</td>\n",
       "      <td>210.117432</td>\n",
       "      <td>183.852768</td>\n",
       "    </tr>\n",
       "    <tr>\n",
       "      <th>ELP 58/11/38 with ELP 58/11/38</th>\n",
       "      <td>259.065247</td>\n",
       "      <td>207.252197</td>\n",
       "      <td>172.710175</td>\n",
       "      <td>148.037292</td>\n",
       "      <td>129.532623</td>\n",
       "    </tr>\n",
       "  </tbody>\n",
       "</table>\n",
       "</div>"
      ],
      "text/plain": [
       "n                                        4           5           6  \\\n",
       "core                                                                 \n",
       "ELP 38/8/25 with ELP 38/8/25           NaN         NaN  277.055878   \n",
       "ELP 43/10/28 with ELP 43/10/28         NaN  294.164429  245.137009   \n",
       "ELP 58/11/38 with ELP 58/11/38  259.065247  207.252197  172.710175   \n",
       "\n",
       "n                                        7           8  \n",
       "core                                                    \n",
       "ELP 38/8/25 with ELP 38/8/25    237.476486  207.791916  \n",
       "ELP 43/10/28 with ELP 43/10/28  210.117432  183.852768  \n",
       "ELP 58/11/38 with ELP 58/11/38  148.037292  129.532623  "
      ]
     },
     "execution_count": 90,
     "metadata": {},
     "output_type": "execute_result"
    }
   ],
   "source": [
    "df2= df.drop('Ae_min(mm2)', axis=0)\n",
    "for c in df2.columns:\n",
    "    m= df2[c]>300\n",
    "    df2.loc[m,c]=np.nan\n",
    "# Drop columns that are completely NaN\n",
    "df2 = df2.dropna(axis=1, how='all')\n",
    "\n",
    "# Drop rows that are completely NaN\n",
    "df2 = df2.dropna(axis=0, how='all')\n",
    "df2[\"n\"]=df2.reset_index()[\"index\"].str.split(\"=\").\\\n",
    "    str[1].values.astype(\"int\")\n",
    "df2=df2.set_index(\"n\")\n",
    "df2.T#.astype(\"Int\")"
   ]
  },
  {
   "cell_type": "code",
   "execution_count": 99,
   "id": "f0004a23-d2bc-46b6-930e-ac7b981501e7",
   "metadata": {},
   "outputs": [
    {
     "data": {
      "text/html": [
       "<div>\n",
       "<style scoped>\n",
       "    .dataframe tbody tr th:only-of-type {\n",
       "        vertical-align: middle;\n",
       "    }\n",
       "\n",
       "    .dataframe tbody tr th {\n",
       "        vertical-align: top;\n",
       "    }\n",
       "\n",
       "    .dataframe thead th {\n",
       "        text-align: right;\n",
       "    }\n",
       "</style>\n",
       "<table border=\"1\" class=\"dataframe\">\n",
       "  <thead>\n",
       "    <tr style=\"text-align: right;\">\n",
       "      <th></th>\n",
       "      <th>0</th>\n",
       "      <th>1</th>\n",
       "      <th>2</th>\n",
       "      <th>3</th>\n",
       "      <th>4</th>\n",
       "      <th>5</th>\n",
       "      <th>6</th>\n",
       "      <th>7</th>\n",
       "      <th>8</th>\n",
       "    </tr>\n",
       "  </thead>\n",
       "  <tbody>\n",
       "    <tr>\n",
       "      <th>Nb</th>\n",
       "      <td>1.0</td>\n",
       "      <td>2.0</td>\n",
       "      <td>3.0</td>\n",
       "      <td>4.0</td>\n",
       "      <td>5.0</td>\n",
       "      <td>6.0</td>\n",
       "      <td>7.0</td>\n",
       "      <td>8.0</td>\n",
       "      <td>9.0</td>\n",
       "    </tr>\n",
       "    <tr>\n",
       "      <th>Al_nH</th>\n",
       "      <td>21797.0</td>\n",
       "      <td>5449.0</td>\n",
       "      <td>2422.0</td>\n",
       "      <td>1362.0</td>\n",
       "      <td>872.0</td>\n",
       "      <td>605.0</td>\n",
       "      <td>445.0</td>\n",
       "      <td>341.0</td>\n",
       "      <td>269.0</td>\n",
       "    </tr>\n",
       "  </tbody>\n",
       "</table>\n",
       "</div>"
      ],
      "text/plain": [
       "             0       1       2       3      4      5      6      7      8\n",
       "Nb         1.0     2.0     3.0     4.0    5.0    6.0    7.0    8.0    9.0\n",
       "Al_nH  21797.0  5449.0  2422.0  1362.0  872.0  605.0  445.0  341.0  269.0"
      ]
     },
     "execution_count": 99,
     "metadata": {},
     "output_type": "execute_result"
    }
   ],
   "source": [
    "pd.DataFrame(np.array([list(range(1,10)),\n",
    "                       [1e3*Lr_uH/n**2 for n in range(1,10)]]).T,\n",
    "            columns = [\"Nb\", \"Al_nH\"]).T.round()"
   ]
  },
  {
   "cell_type": "code",
   "execution_count": 96,
   "id": "1a9126cf-a4b0-4b2b-ae06-3b82e589fdf9",
   "metadata": {},
   "outputs": [
    {
     "data": {
      "text/plain": [
       "Index(['ELP 38/8/25 with ELP 38/8/25', 'ELP 43/10/28 with ELP 43/10/28',\n",
       "       'ELP 58/11/38 with ELP 58/11/38'],\n",
       "      dtype='object', name='core')"
      ]
     },
     "execution_count": 96,
     "metadata": {},
     "output_type": "execute_result"
    }
   ],
   "source": [
    "N = 7\n",
    "Al_nH = 340\n",
    "Al_nom= 355"
   ]
  },
  {
   "cell_type": "markdown",
   "id": "0e01c54b-5f96-4e28-92e4-7791e8f80977",
   "metadata": {},
   "source": [
    "<img width=\"600\" src=\"data:image/png;base64,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\" />"
   ]
  },
  {
   "cell_type": "code",
   "execution_count": null,
   "id": "4c048a99-1e11-4dff-8c80-073154e3d497",
   "metadata": {},
   "outputs": [],
   "source": []
  },
  {
   "cell_type": "code",
   "execution_count": null,
   "id": "b34c2804-cc80-4a43-9e4c-bca12481a79f",
   "metadata": {},
   "outputs": [],
   "source": []
  },
  {
   "cell_type": "markdown",
   "id": "065638e5-1d1e-4940-895f-e1de8cdd7104",
   "metadata": {},
   "source": [
    "# DRAFT"
   ]
  },
  {
   "cell_type": "code",
   "execution_count": 4,
   "id": "fc9a9bce-5b8e-4c5a-9b9f-be1b6fea638a",
   "metadata": {},
   "outputs": [
    {
     "name": "stdout",
     "output_type": "stream",
     "text": [
      "1 8.4 27.8\n",
      "2 33.6 27.8\n",
      "3 75.60000000000001 27.8\n",
      "4 134.4 27.8\n",
      "5 210.0 27.8\n",
      "6 302.40000000000003 27.8\n",
      "7 411.6 27.8\n",
      "8 537.6 27.8\n",
      "9 680.4 27.8\n"
     ]
    }
   ],
   "source": [
    "Al0 = 8.400 # u\n",
    "LR= 27.8 # u\n",
    "for i in range(1,10):\n",
    "    print(i, Al0*i**2, LR)"
   ]
  },
  {
   "cell_type": "code",
   "execution_count": 27,
   "id": "4b7229c5-3fd3-48f3-a82a-1d72bb328c5a",
   "metadata": {},
   "outputs": [
    {
     "data": {
      "text/latex": [
       "$\n",
       "\\begin{aligned}\n",
       "n &= 4 \\; \n",
       "\\\\[10pt]\n",
       "\\mathrm{Al}_{nH} &= 1 \\times 10 ^ {3} \\cdot \\frac{ \\mathrm{Lr}_{uH} }{ \\left( n \\right) ^{ 2 } }  = 1 \\times 10 ^ {3} \\cdot \\frac{ 21.797 }{ \\left( 4 \\right) ^{ 2 } } &= 1362.312 \\; \\;\\textrm{(nH/turn squared)}\n",
       "\\\\[10pt]\n",
       "s_{mm} &= \\left( \\frac{ \\mathrm{Al}_{nH} }{ \\mathrm{K1} } \\right) ^{ \\left( \\frac{ 1 }{ \\mathrm{K2} } \\right) }  = \\left( \\frac{ 1362.312 }{ 591 } \\right) ^{ \\left( \\frac{ 1 }{ -0.685 } \\right) } &= 0.295 \\; \\;\\textrm{(mm airgap)}\n",
       "\\\\[10pt]\n",
       "\\mathrm{lg}_{mm} &= \\mathrm{Le} \\cdot \\frac{ \\frac{ \\mathrm{Al}_{nH0} }{ \\mathrm{Al}_{nH} } - 1 }{ \\mu_{e} }  = 67.700 \\cdot \\frac{ \\frac{ 8400 }{ 1362.312 } - 1 }{ 1540 } &= 0.227 \\; \\;\\textrm{(mm)}\n",
       "\\end{aligned}\n",
       "$"
      ],
      "text/plain": [
       "<IPython.core.display.Latex object>"
      ]
     },
     "metadata": {},
     "output_type": "display_data"
    }
   ],
   "source": [
    "%%render \n",
    "n=4\n",
    "Al_nH= 1e3*Lr_uH/n**2 # nH/turn squared\n",
    "s_mm= (Al_nH/K1)**(1/K2) # mm airgap \n",
    "lg_mm= Le *(Al_nH0/Al_nH-1)/mu_e# mm"
   ]
  },
  {
   "cell_type": "code",
   "execution_count": 31,
   "id": "a4472d5a-909f-4d2b-8157-1450ab7db0a5",
   "metadata": {},
   "outputs": [
    {
     "data": {
      "text/latex": [
       "$\n",
       "\\begin{aligned}\n",
       "n &= 7 \\; \n",
       "\\\\[10pt]\n",
       "\\mathrm{Al}_{nH} &= 1 \\times 10 ^ {3} \\cdot \\frac{ \\mathrm{Lr}_{uH} }{ \\left( n \\right) ^{ 2 } }  = 1 \\times 10 ^ {3} \\cdot \\frac{ 21.797 }{ \\left( 7 \\right) ^{ 2 } } &= 444.837 \\; \\;\\textrm{(nH/turn squared)}\n",
       "\\\\[10pt]\n",
       "s_{mm} &= \\left( \\frac{ \\mathrm{Al}_{nH} }{ \\mathrm{K1} } \\right) ^{ \\left( \\frac{ 1 }{ \\mathrm{K2} } \\right) }  = \\left( \\frac{ 444.837 }{ 591 } \\right) ^{ \\left( \\frac{ 1 }{ -0.685 } \\right) } &= 1.514 \\; \\;\\textrm{(mm airgap)}\n",
       "\\\\[10pt]\n",
       "\\mathrm{lg}_{mm} &= \\mathrm{Le} \\cdot \\frac{ \\frac{ \\mathrm{Al}_{nH0} }{ \\mathrm{Al}_{nH} } - 1 }{ \\mu_{e} }  = 67.700 \\cdot \\frac{ \\frac{ 8400 }{ 444.837 } - 1 }{ 1540 } &= 0.786 \\; \\;\\textrm{(mm)}\n",
       "\\end{aligned}\n",
       "$"
      ],
      "text/plain": [
       "<IPython.core.display.Latex object>"
      ]
     },
     "metadata": {},
     "output_type": "display_data"
    }
   ],
   "source": [
    "%%render \n",
    "n=7\n",
    "Al_nH= 1e3*Lr_uH/n**2 # nH/turn squared\n",
    "s_mm= (Al_nH/K1)**(1/K2) # mm airgap \n",
    "lg_mm= Le *(Al_nH0/Al_nH-1)/mu_e# mm"
   ]
  },
  {
   "cell_type": "code",
   "execution_count": 28,
   "id": "be7c8a95-07e1-44f0-a170-22e6e3735ef9",
   "metadata": {},
   "outputs": [
    {
     "data": {
      "text/latex": [
       "$\n",
       "\\begin{aligned}\n",
       "n &= 8 \\; \n",
       "\\\\[10pt]\n",
       "\\mathrm{Al}_{nH} &= 1 \\times 10 ^ {3} \\cdot \\frac{ \\mathrm{Lr}_{uH} }{ \\left( n \\right) ^{ 2 } }  = 1 \\times 10 ^ {3} \\cdot \\frac{ 21.797 }{ \\left( 8 \\right) ^{ 2 } } &= 340.578 \\; \\;\\textrm{(nH/turn squared)}\n",
       "\\\\[10pt]\n",
       "s_{mm} &= \\left( \\frac{ \\mathrm{Al}_{nH} }{ \\mathrm{K1} } \\right) ^{ \\left( \\frac{ 1 }{ \\mathrm{K2} } \\right) }  = \\left( \\frac{ 340.578 }{ 591 } \\right) ^{ \\left( \\frac{ 1 }{ -0.685 } \\right) } &= 2.236 \\; \\;\\textrm{(mm airgap)}\n",
       "\\\\[10pt]\n",
       "\\mathrm{lg}_{mm} &= \\mathrm{Le} \\cdot \\frac{ \\frac{ \\mathrm{Al}_{nH0} }{ \\mathrm{Al}_{nH} } - 1 }{ \\mu_{e} }  = 67.700 \\cdot \\frac{ \\frac{ 8400 }{ 340.578 } - 1 }{ 1540 } &= 1.040 \\; \\;\\textrm{(mm)}\n",
       "\\end{aligned}\n",
       "$"
      ],
      "text/plain": [
       "<IPython.core.display.Latex object>"
      ]
     },
     "metadata": {},
     "output_type": "display_data"
    }
   ],
   "source": [
    "%%render \n",
    "n=8\n",
    "Al_nH= 1e3*Lr_uH/n**2 # nH/turn squared\n",
    "s_mm= (Al_nH/K1)**(1/K2) # mm airgap \n",
    "lg_mm= Le *(Al_nH0/Al_nH-1)/mu_e# mm"
   ]
  },
  {
   "cell_type": "code",
   "execution_count": 116,
   "id": "36311f74-308c-493e-9617-66dbc37dc6e1",
   "metadata": {},
   "outputs": [
    {
     "data": {
      "text/html": [
       "<div>\n",
       "<style scoped>\n",
       "    .dataframe tbody tr th:only-of-type {\n",
       "        vertical-align: middle;\n",
       "    }\n",
       "\n",
       "    .dataframe tbody tr th {\n",
       "        vertical-align: top;\n",
       "    }\n",
       "\n",
       "    .dataframe thead th {\n",
       "        text-align: right;\n",
       "    }\n",
       "</style>\n",
       "<table border=\"1\" class=\"dataframe\">\n",
       "  <thead>\n",
       "    <tr style=\"text-align: right;\">\n",
       "      <th></th>\n",
       "      <th>core</th>\n",
       "      <th>Ae_min(mm2)</th>\n",
       "      <th>Ae</th>\n",
       "      <th>Al_nH</th>\n",
       "      <th>µe</th>\n",
       "      <th>Bs(mT)</th>\n",
       "      <th>K1</th>\n",
       "      <th>K2</th>\n",
       "    </tr>\n",
       "  </thead>\n",
       "  <tbody>\n",
       "    <tr>\n",
       "      <th>0</th>\n",
       "      <td>ELP 38/8/25 with ELP 38/8/25 N87</td>\n",
       "      <td>192</td>\n",
       "      <td>194</td>\n",
       "      <td>7200</td>\n",
       "      <td>1550</td>\n",
       "      <td>300</td>\n",
       "      <td>302</td>\n",
       "      <td>-0.815</td>\n",
       "    </tr>\n",
       "    <tr>\n",
       "      <th>1</th>\n",
       "      <td>ELP 38/8/25 with ELP 38/8/25 N87 gapped 0.12</td>\n",
       "      <td>192</td>\n",
       "      <td>194</td>\n",
       "      <td>1700</td>\n",
       "      <td>370</td>\n",
       "      <td>300</td>\n",
       "      <td>None</td>\n",
       "      <td>None</td>\n",
       "    </tr>\n",
       "    <tr>\n",
       "      <th>2</th>\n",
       "      <td>ELP 38/8/25 with ELP 38/8/25 N87 gapped 0.60</td>\n",
       "      <td>192</td>\n",
       "      <td>194</td>\n",
       "      <td>400</td>\n",
       "      <td>90</td>\n",
       "      <td>300</td>\n",
       "      <td>None</td>\n",
       "      <td>None</td>\n",
       "    </tr>\n",
       "    <tr>\n",
       "      <th>3</th>\n",
       "      <td>ELP 38/8/25 with I 38/4/25 N87</td>\n",
       "      <td>192</td>\n",
       "      <td>194</td>\n",
       "      <td>8300</td>\n",
       "      <td>1450</td>\n",
       "      <td>300</td>\n",
       "      <td>328</td>\n",
       "      <td>-0.788</td>\n",
       "    </tr>\n",
       "    <tr>\n",
       "      <th>4</th>\n",
       "      <td>ELP 43/10/28 with ELP 43/10/28 N87</td>\n",
       "      <td>217</td>\n",
       "      <td>225</td>\n",
       "      <td>7300</td>\n",
       "      <td>1560</td>\n",
       "      <td>300</td>\n",
       "      <td>358</td>\n",
       "      <td>-0.794</td>\n",
       "    </tr>\n",
       "    <tr>\n",
       "      <th>5</th>\n",
       "      <td>ELP 43/10/28 with ELP 43/10/28 N87 gapped 0.1</td>\n",
       "      <td>217</td>\n",
       "      <td>225</td>\n",
       "      <td>2225</td>\n",
       "      <td>470</td>\n",
       "      <td>300</td>\n",
       "      <td>None</td>\n",
       "      <td>None</td>\n",
       "    </tr>\n",
       "    <tr>\n",
       "      <th>6</th>\n",
       "      <td>ELP 43/10/28 with ELP 43/10/28 N87 gapped 1.0</td>\n",
       "      <td>217</td>\n",
       "      <td>225</td>\n",
       "      <td>355</td>\n",
       "      <td>75</td>\n",
       "      <td>300</td>\n",
       "      <td>None</td>\n",
       "      <td>None</td>\n",
       "    </tr>\n",
       "    <tr>\n",
       "      <th>7</th>\n",
       "      <td>ELP 43/10/28 with I 43/4/28 N87</td>\n",
       "      <td>217</td>\n",
       "      <td>225</td>\n",
       "      <td>8500</td>\n",
       "      <td>1480</td>\n",
       "      <td>300</td>\n",
       "      <td>390</td>\n",
       "      <td>-0.784</td>\n",
       "    </tr>\n",
       "    <tr>\n",
       "      <th>8</th>\n",
       "      <td>ELP 58/11/38 with ELP 58/11/38</td>\n",
       "      <td>308</td>\n",
       "      <td>310</td>\n",
       "      <td>7400</td>\n",
       "      <td>1540</td>\n",
       "      <td>300</td>\n",
       "      <td>521</td>\n",
       "      <td>-0.732</td>\n",
       "    </tr>\n",
       "    <tr>\n",
       "      <th>9</th>\n",
       "      <td>ELP 58/11/38 with I 58/4/38</td>\n",
       "      <td>308</td>\n",
       "      <td>310</td>\n",
       "      <td>8400</td>\n",
       "      <td>1450</td>\n",
       "      <td>300</td>\n",
       "      <td>591</td>\n",
       "      <td>-0.685</td>\n",
       "    </tr>\n",
       "  </tbody>\n",
       "</table>\n",
       "</div>"
      ],
      "text/plain": [
       "                                            core Ae_min(mm2)   Ae Al_nH    µe  \\\n",
       "0               ELP 38/8/25 with ELP 38/8/25 N87         192  194  7200  1550   \n",
       "1   ELP 38/8/25 with ELP 38/8/25 N87 gapped 0.12         192  194  1700   370   \n",
       "2   ELP 38/8/25 with ELP 38/8/25 N87 gapped 0.60         192  194   400    90   \n",
       "3                 ELP 38/8/25 with I 38/4/25 N87         192  194  8300  1450   \n",
       "4             ELP 43/10/28 with ELP 43/10/28 N87         217  225  7300  1560   \n",
       "5  ELP 43/10/28 with ELP 43/10/28 N87 gapped 0.1         217  225  2225   470   \n",
       "6  ELP 43/10/28 with ELP 43/10/28 N87 gapped 1.0         217  225   355    75   \n",
       "7                ELP 43/10/28 with I 43/4/28 N87         217  225  8500  1480   \n",
       "8                 ELP 58/11/38 with ELP 58/11/38         308  310  7400  1540   \n",
       "9                    ELP 58/11/38 with I 58/4/38         308  310  8400  1450   \n",
       "\n",
       "  Bs(mT)    K1      K2  \n",
       "0    300   302  -0.815  \n",
       "1    300  None    None  \n",
       "2    300  None    None  \n",
       "3    300   328  -0.788  \n",
       "4    300   358  -0.794  \n",
       "5    300  None    None  \n",
       "6    300  None    None  \n",
       "7    300   390  -0.784  \n",
       "8    300   521  -0.732  \n",
       "9    300   591  -0.685  "
      ]
     },
     "execution_count": 116,
     "metadata": {},
     "output_type": "execute_result"
    }
   ],
   "source": [
    "t= \"\"\"core,Ae_min(mm2),Ae,Al_nH,µe,Bs(mT),K1,K2\n",
    "ELP 38/8/25 with ELP 38/8/25 N87,192,194,7200,1550,300,302,-0.815\n",
    "ELP 38/8/25 with ELP 38/8/25 N87 gapped 0.12,192,194,1700,370,300\n",
    "ELP 38/8/25 with ELP 38/8/25 N87 gapped 0.60,192,194,400,90,300\n",
    "ELP 38/8/25 with I 38/4/25 N87,192,194,8300,1450,300,328,-0.788\n",
    "ELP 43/10/28 with ELP 43/10/28 N87,217,225,7300,1560,300,358,-0.794\n",
    "ELP 43/10/28 with ELP 43/10/28 N87 gapped 0.1,217,225,2225,470,300\n",
    "ELP 43/10/28 with ELP 43/10/28 N87 gapped 1.0,217,225,355,75,300\n",
    "ELP 43/10/28 with I 43/4/28 N87,217,225,8500,1480,300,390,-0.784\n",
    "ELP 58/11/38 with ELP 58/11/38,308,310,7400,1540,300,521,-0.732\n",
    "ELP 58/11/38 with I 58/4/38,308,310,8400,1450,300,591,-0.685\"\"\".split(\"\\n\")\n",
    "t= [x.split(\",\") for x in t]\n",
    "df = pd.DataFrame(t[1:], columns = t[0])\n",
    "Aemin = df[\"Ae_min(mm2)\"].astype(\"float32\")\n",
    "B_peak = 1e-3*Lr_uH*sqrt(2)*Ir_rms/(n*Aemin*1e-6) # mT\n",
    "#df[\"B_peak(mT)\"]=B_peak\n",
    "df"
   ]
  },
  {
   "cell_type": "markdown",
   "id": "ae72d065-09c6-4cb9-b507-5d3bb961bae2",
   "metadata": {},
   "source": [
    "<img width=\"600\" src=\"data:image/png;base64,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\" />"
   ]
  },
  {
   "cell_type": "code",
   "execution_count": 127,
   "id": "fbb36330-be64-4f25-9717-d43e568fa83a",
   "metadata": {},
   "outputs": [
    {
     "data": {
      "text/latex": [
       "$\n",
       "\\begin{aligned}\n",
       "a &= \\frac{ 35.4 - 8.1 }{ 2 } &= 13.650  \n",
       "\\\\[10pt]\n",
       "\\mathrm{margin} &= 3 \\; \\;\\textrm{(mm)}\n",
       "\\\\[10pt]\n",
       "b &= a - 2 \\cdot \\mathrm{margin}  = 13.650 - 2 \\cdot 3 &= 7.650  \n",
       "\\\\[10pt]\n",
       "\\mathrm{gap}_{cupper} &= 1 \\; \\;\\textrm{(mm)}\n",
       "\\\\[10pt]\n",
       "\\mathrm{wmm} &= \\frac{ b - \\mathrm{gap}_{cupper} }{ 2 }  = \\frac{ 7.650 - 1 }{ 2 } &= 3.325 \\; \\;\\textrm{(mm)}\n",
       "\\end{aligned}\n",
       "$"
      ],
      "text/plain": [
       "<IPython.core.display.Latex object>"
      ]
     },
     "metadata": {},
     "output_type": "display_data"
    }
   ],
   "source": [
    "%%render \n",
    "a= (35.4-8.1)/2\n",
    "margin = 3#mm\n",
    "b= a-2*margin\n",
    "gap_cupper = 1 # mm\n",
    "wmm= (b-gap_cupper)/2 # mm"
   ]
  },
  {
   "cell_type": "markdown",
   "id": "6a45f62c-9579-4054-a689-59179c192c44",
   "metadata": {},
   "source": [
    "<img width=\"200\" src=\"data:image/png;base64,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\" />"
   ]
  },
  {
   "cell_type": "markdown",
   "id": "ce340c62-b856-44ae-87bf-6e462975f907",
   "metadata": {},
   "source": [
    "<img width=\"200\" src=\"data:image/png;base64,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\" />"
   ]
  },
  {
   "cell_type": "markdown",
   "id": "bb01f006-79ef-412c-9fb7-e1405328f9e5",
   "metadata": {},
   "source": [
    "**see pcb_cal.ipynb**"
   ]
  },
  {
   "cell_type": "code",
   "execution_count": 133,
   "id": "f4481277-e311-4b28-a5a7-7b14aa993529",
   "metadata": {},
   "outputs": [
    {
     "name": "stdout",
     "output_type": "stream",
     "text": [
      "15.316541972107936\n"
     ]
    }
   ],
   "source": [
    "def ipc2221current(wmm, thicknessum, DT= 30, kind = \"outer\"):\n",
    "  wmil =wmm /0.0254\n",
    "    # mm to milis, converting thickness in micrometers (µm) to mils (thousandths of an inch).\n",
    "    # 1 mil=0.001 inch\n",
    "    # 1 inch = 25.4 mm= 25400 um\n",
    "  thmil = thicknessum /(0.0254*1000)\n",
    "  areamils = wmil*thmil\n",
    "  #print2(areamils)\n",
    "  if kind ==\"outer\":\n",
    "    k = 0.048\n",
    "  if kind ==\"inner\":\n",
    "    k = 0.024\n",
    "  I = k*(DT**0.44) *(areamils**0.725)\n",
    "  return I\n",
    "\n",
    "thicknessum = 70 # 2.0 oz ==> 70.00 µm\n",
    "\n",
    "I = ipc2221current(wmm, thicknessum, DT= 30, kind = \"outer\")\n",
    "print(I)"
   ]
  },
  {
   "cell_type": "code",
   "execution_count": 134,
   "id": "81ddacac-b608-45a5-a672-b339bc69695d",
   "metadata": {},
   "outputs": [
    {
     "name": "stdout",
     "output_type": "stream",
     "text": [
      "7.658270986053968\n"
     ]
    }
   ],
   "source": [
    "I = ipc2221current(wmm, thicknessum, DT= 30, kind = \"inner\")\n",
    "print(I)"
   ]
  },
  {
   "cell_type": "code",
   "execution_count": null,
   "id": "b7da7270-b2cb-4341-b319-b6adb44dcba1",
   "metadata": {},
   "outputs": [],
   "source": []
  }
 ],
 "metadata": {
  "kernelspec": {
   "display_name": "kernel_venv1",
   "language": "python",
   "name": "kernel_venv1"
  },
  "language_info": {
   "codemirror_mode": {
    "name": "ipython",
    "version": 3
   },
   "file_extension": ".py",
   "mimetype": "text/x-python",
   "name": "python",
   "nbconvert_exporter": "python",
   "pygments_lexer": "ipython3",
   "version": "3.13.5"
  }
 },
 "nbformat": 4,
 "nbformat_minor": 5
}
