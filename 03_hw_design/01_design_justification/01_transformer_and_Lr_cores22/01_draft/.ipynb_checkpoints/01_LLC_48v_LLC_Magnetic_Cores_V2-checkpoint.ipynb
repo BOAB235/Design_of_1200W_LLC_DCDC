{
 "cells": [
  {
   "cell_type": "code",
   "execution_count": 108,
   "id": "a848bd3c-8043-400c-9c88-056cbd5b5754",
   "metadata": {},
   "outputs": [],
   "source": [
    "# imPORT LIBRARIES \n",
    "import numpy as np\n",
    "import matplotlib.pyplot as plt\n",
    "from scipy.interpolate import interp1d\n",
    "from math import pi, sqrt\n",
    "import handcalcs.render\n",
    "import pandas as pd\n",
    "import json \n",
    "# !pip install handcalcs"
   ]
  },
  {
   "cell_type": "code",
   "execution_count": 109,
   "id": "42e0a55e-e8d4-42c3-a63f-e48b00c37835",
   "metadata": {},
   "outputs": [],
   "source": [
    "# CONFIGURATIONS\n",
    "#help(handcalcs.set_option)\n",
    "handcalcs.set_option(\"latex_block_start\", \"$\")\n",
    "handcalcs.set_option(\"latex_block_end\", \"$\")\n",
    "handcalcs.set_option(\"math_environment_end\", \"aligned\")\n",
    "handcalcs.set_option(\"use_scientific_notation\",True)\n",
    "#handcalcs.set_option(\"line_break\", \"\\\\\\\\[20pt]\")\n",
    "#handcalcs.set_option(\"param_columns\", 1)\n",
    "\n",
    "#handcalcs.set_option(\"math_environment_start\", \"aligned\")\n",
    "#handcalcs.set_option(\"math_environment_end\", \"aligned\")\n",
    "#handcalcs.set_option(\"line_break\", r\"<br>\")\n",
    "#handcalcs.set_option(\"line_break\", r\"\\\\\")"
   ]
  },
  {
   "cell_type": "code",
   "execution_count": 110,
   "id": "341191e8-465d-4165-9a3d-18183751f171",
   "metadata": {},
   "outputs": [],
   "source": [
    "from localcode2 import *\n",
    "fig_counter=1"
   ]
  },
  {
   "cell_type": "code",
   "execution_count": 111,
   "id": "f446632e-3a87-4ccb-91d7-227717c3f90f",
   "metadata": {},
   "outputs": [],
   "source": [
    "import warnings\n",
    "warnings.filterwarnings(\"ignore\")\n"
   ]
  },
  {
   "cell_type": "code",
   "execution_count": null,
   "id": "429f59c3-8cc9-4ddd-aa83-464fc7ec02e6",
   "metadata": {},
   "outputs": [],
   "source": []
  },
  {
   "cell_type": "markdown",
   "id": "140fba4f-bfc3-44a8-a1d5-6183464e65f5",
   "metadata": {},
   "source": [
    "# Design of Magnetic Cores Lm and Lr"
   ]
  },
  {
   "cell_type": "markdown",
   "id": "ea747bab-ffc0-49c9-8305-0bff02b42a39",
   "metadata": {},
   "source": [
    "## Inputs and claculated parameters"
   ]
  },
  {
   "cell_type": "code",
   "execution_count": null,
   "id": "7989174e-1e8f-48cf-a9a0-77dddd23c676",
   "metadata": {},
   "outputs": [],
   "source": []
  },
  {
   "cell_type": "code",
   "execution_count": 112,
   "id": "263aba63-9c75-4c37-8a25-a34531430131",
   "metadata": {},
   "outputs": [],
   "source": [
    "with open(\"../01_llc_tank/04_outputs/inp_datas.json\", \"r\", encoding=\"utf-8\") as f:\n",
    "    inp_datas = json.load(f)\n",
    "#print(\"Input datas:\")\n",
    "#print(\"=\"*20)\n",
    "#display(inp_datas)\n",
    "S= pd.Series(inp_datas, name = \"Input datas\").to_frame()\n",
    "#display(S)\n",
    "#print(inp_datas)\n",
    "with open(\"../01_llc_tank/04_outputs/out_results.json\", \"r\", encoding=\"utf-8\") as f:\n",
    "    out_datas = json.load(f)\n",
    "#print(\"Output datas:\")\n",
    "#print(\"=\"*20)\n",
    "#display(out_datas)\n",
    "\n",
    "S= pd.Series(out_datas, name = \"Output datas\").to_frame()\n",
    "#display(S)\n",
    "#print(\"\\n\")\n",
    "#print(out_datas)\n",
    "\n",
    "\n",
    "# Load variables \n",
    "for key, value in inp_datas.items():\n",
    "    globals()[key] = value\n",
    "for key, value in out_datas.items():\n",
    "    globals()[key] = value"
   ]
  },
  {
   "cell_type": "code",
   "execution_count": null,
   "id": "a00b97af-aca1-46fa-96a6-f5081b794c88",
   "metadata": {},
   "outputs": [],
   "source": []
  },
  {
   "cell_type": "code",
   "execution_count": 113,
   "id": "a297902d-bff9-494d-8f6b-5f1affca2310",
   "metadata": {},
   "outputs": [],
   "source": [
    "import math \n",
    "def dic_show(out_datas, nb_cols = 3):\n",
    "    keys = list(out_datas.keys())\n",
    "    values = list(out_datas.values())\n",
    "    \n",
    "    # Compute number of rows needed\n",
    "    Nbindex = math.ceil(len(keys) / nb_cols)\n",
    "    \n",
    "    # Prepare a dictionary for DataFrame\n",
    "    data_dict = {}\n",
    "    for i in range(nb_cols):\n",
    "        # Slice keys and values for this column\n",
    "        col_keys = keys[i*Nbindex:(i+1)*Nbindex]\n",
    "        col_values = values[i*Nbindex:(i+1)*Nbindex]\n",
    "        \n",
    "        # Pad with empty strings if necessary\n",
    "        while len(col_keys) < Nbindex:\n",
    "            col_keys.append(\"\")\n",
    "            col_values.append(\"\")\n",
    "        \n",
    "        # Add two columns per logical column: \"Name\" and \"Value\"\n",
    "        data_dict[f\"Name_{i+1}\"] = col_keys\n",
    "        data_dict[f\"Value_{i+1}\"] = col_values\n",
    "    \n",
    "    # Create DataFrame\n",
    "    df = pd.DataFrame(data_dict)\n",
    "    print(df.to_string(index=False, header=False))\n"
   ]
  },
  {
   "cell_type": "code",
   "execution_count": 114,
   "id": "ac9eaebe-45f4-49a1-a7b0-4497309f294a",
   "metadata": {},
   "outputs": [
    {
     "name": "stdout",
     "output_type": "stream",
     "text": [
      "V_In_min 360.0 V_In_max 400.0 Vo_nom 48.0 Power   1200.0\n",
      "V_In_nom 380.0   Vo_min  42.0 Vo_max 54.0 f_nom 100000.0\n",
      "\n",
      "\n",
      "  Lnc   3.000   Lm_uH     65.392     Ioe_rms  7.636 Re_110    22.637\n",
      "  Qec   0.550 fsw_min  60170.000     Ios_rms 30.545     Cr       0.0\n",
      "Cr_nF 116.209 fsw_max 156220.000      Ir_rms 10.354     Lr  0.000022\n",
      "    n   4.000  Im_rms      6.992 L_second_uH  4.087     Lm  0.000065\n",
      "Lr_uH  21.797      Io     25.000      Re_nom 24.901                 \n"
     ]
    }
   ],
   "source": [
    "dic_show(inp_datas, 4)\n",
    "print(\"\\n\")\n",
    "dic_show(out_datas, 4)"
   ]
  },
  {
   "cell_type": "code",
   "execution_count": null,
   "id": "cf61aab1-4bc5-4ec0-8d4d-d541fd762a25",
   "metadata": {},
   "outputs": [],
   "source": []
  },
  {
   "cell_type": "code",
   "execution_count": null,
   "id": "9f88d5df-d306-4b78-a6d1-3c0c2b713746",
   "metadata": {},
   "outputs": [],
   "source": []
  },
  {
   "cell_type": "markdown",
   "id": "592b6259-19e4-4a97-97b5-c6f8654e8e99",
   "metadata": {},
   "source": [
    "## Transformer design"
   ]
  },
  {
   "cell_type": "code",
   "execution_count": 210,
   "id": "71abd726-76bf-447f-b85b-752a30271edd",
   "metadata": {
    "scrolled": true
   },
   "outputs": [
    {
     "data": {
      "text/html": [
       "<div>\n",
       "<style scoped>\n",
       "    .dataframe tbody tr th:only-of-type {\n",
       "        vertical-align: middle;\n",
       "    }\n",
       "\n",
       "    .dataframe tbody tr th {\n",
       "        vertical-align: top;\n",
       "    }\n",
       "\n",
       "    .dataframe thead th {\n",
       "        text-align: right;\n",
       "    }\n",
       "</style>\n",
       "<table border=\"1\" class=\"dataframe\">\n",
       "  <thead>\n",
       "    <tr style=\"text-align: right;\">\n",
       "      <th></th>\n",
       "      <th>Transormer parameters</th>\n",
       "    </tr>\n",
       "  </thead>\n",
       "  <tbody>\n",
       "    <tr>\n",
       "      <th>n</th>\n",
       "      <td>4.000</td>\n",
       "    </tr>\n",
       "    <tr>\n",
       "      <th>Lm_uH</th>\n",
       "      <td>65.392</td>\n",
       "    </tr>\n",
       "    <tr>\n",
       "      <th>fsw_min</th>\n",
       "      <td>60170.000</td>\n",
       "    </tr>\n",
       "    <tr>\n",
       "      <th>fsw_max</th>\n",
       "      <td>156220.000</td>\n",
       "    </tr>\n",
       "    <tr>\n",
       "      <th>Ir_rms</th>\n",
       "      <td>10.354</td>\n",
       "    </tr>\n",
       "    <tr>\n",
       "      <th>Im_rms</th>\n",
       "      <td>6.992</td>\n",
       "    </tr>\n",
       "    <tr>\n",
       "      <th>Ioe_rms</th>\n",
       "      <td>7.636</td>\n",
       "    </tr>\n",
       "    <tr>\n",
       "      <th>Ios_rms</th>\n",
       "      <td>30.545</td>\n",
       "    </tr>\n",
       "    <tr>\n",
       "      <th>L_second_uH</th>\n",
       "      <td>4.087</td>\n",
       "    </tr>\n",
       "    <tr>\n",
       "      <th>Al_uH</th>\n",
       "      <td>4.087</td>\n",
       "    </tr>\n",
       "  </tbody>\n",
       "</table>\n",
       "</div>"
      ],
      "text/plain": [
       "             Transormer parameters\n",
       "n                            4.000\n",
       "Lm_uH                       65.392\n",
       "fsw_min                  60170.000\n",
       "fsw_max                 156220.000\n",
       "Ir_rms                      10.354\n",
       "Im_rms                       6.992\n",
       "Ioe_rms                      7.636\n",
       "Ios_rms                     30.545\n",
       "L_second_uH                  4.087\n",
       "Al_uH                        4.087"
      ]
     },
     "metadata": {},
     "output_type": "display_data"
    }
   ],
   "source": [
    "with open(\"../01_llc_tank/04_outputs/out_results.json\", \"r\", encoding=\"utf-8\") as f:\n",
    "    out_datas = json.load(f)\n",
    "\n",
    "\n",
    "# Load variables \n",
    "for key, value in out_datas.items():\n",
    "    globals()[key] = value\n",
    "    \n",
    "params = ['n',  'Lm_uH', 'fsw_min', 'fsw_max', 'Ir_rms', 'Im_rms', 'Ioe_rms', 'Ios_rms', 'L_second_uH']\n",
    "\n",
    "dic_transfo= {x:out_datas[x] for x in params}\n",
    "Al = out_datas[\"Lm_uH\"]/out_datas[\"n\"]**2\n",
    "dic_transfo[\"Al_uH\"]= Al\n",
    "\n",
    "S= pd.Series(dic_transfo, name = \"Transormer parameters\").to_frame()\n",
    "display(S)"
   ]
  },
  {
   "cell_type": "markdown",
   "id": "f95ca23a-63ab-47ab-a609-deff475b93cb",
   "metadata": {},
   "source": [
    "**Bpeak formula**\n",
    "\n",
    "$$\n",
    "B_{peak} = \\frac{L_m \\cdot Im_{peak}}{N_p \\cdot A_e}= \\frac{L_m \\cdot \\sqrt{2} \\cdot  Im_{rms}}{N_p \\cdot A_e}\n",
    "$$\n",
    "\n",
    "Where\n",
    "- `A_e` = effective core area (in m²)\n",
    "- `N_p` = primary turns\n"
   ]
  },
  {
   "cell_type": "markdown",
   "id": "3c93e5f3-61a0-4bcd-8c4c-51d37a235518",
   "metadata": {},
   "source": [
    "The `Al` value: "
   ]
  },
  {
   "cell_type": "code",
   "execution_count": 211,
   "id": "6ec05c12-267d-4eb9-a112-2339d44bd175",
   "metadata": {},
   "outputs": [
    {
     "data": {
      "text/latex": [
       "$\n",
       "\\begin{aligned}\n",
       "\\mathrm{Al}_{nH} &= 1 \\times 10 ^ {3} \\cdot \\frac{ \\mathrm{Lm}_{uH} }{ \\left( n \\right) ^{ 2 } } \\\\&= 1 \\times 10 ^ {3} \\cdot \\frac{ 65.392 }{ \\left( 4.000 \\right) ^{ 2 } } \\\\&= 4087.000 \\; \\;\\textrm{(nH/turn squared)}\\\\[10pt]\n",
       "\\end{aligned}\n",
       "$"
      ],
      "text/plain": [
       "<IPython.core.display.Latex object>"
      ]
     },
     "metadata": {},
     "output_type": "display_data"
    }
   ],
   "source": [
    "%%render long\n",
    "Al_nH= 1e3*Lm_uH/n**2 # nH/turn squared"
   ]
  },
  {
   "cell_type": "code",
   "execution_count": null,
   "id": "1c1539a4-cf71-485f-9b0f-2e8cd16a1551",
   "metadata": {},
   "outputs": [],
   "source": []
  },
  {
   "cell_type": "markdown",
   "id": "1e3af5da-eb21-40b1-8abb-97ae437e13e5",
   "metadata": {},
   "source": []
  },
  {
   "cell_type": "markdown",
   "id": "02fa486b-c52d-48d0-a10d-72ca1f7d2625",
   "metadata": {},
   "source": [
    "We can reduce $A_L$ by adding an air gap, below the formula of air gap length"
   ]
  },
  {
   "cell_type": "markdown",
   "id": "58f40c4f-1f05-4bf4-94a4-b9ee6cbef9f1",
   "metadata": {},
   "source": [
    "$$\n",
    "A_{L}' = \\frac{A_L}{1 + \\mu_r \\,\\frac{L_g}{L_e}}\n",
    "$$\n",
    "\n",
    "$$\n",
    "l_g = \\frac{L_e}{\\mu_r} \\left( \\frac{A_L}{A_L'} - 1 \\right)\n",
    "$$\n",
    "\n",
    "Where\n",
    "- $ A_{L}' $ : the corrected inductance factor (in nH or µH), after introducing the air gap\n",
    "- $ A_L $ : the initial inductance factor provided by the core manufacturer (in nH or µH)\n",
    "- $ l_g $ : the air gap length (in mm)\n",
    "- $ L_e $ : the effective magnetic path length of the core (in mm)\n",
    "\n",
    "\n"
   ]
  },
  {
   "cell_type": "code",
   "execution_count": null,
   "id": "905d2400-cb3e-45be-9fad-018aa2c0a9f4",
   "metadata": {},
   "outputs": [],
   "source": []
  },
  {
   "cell_type": "code",
   "execution_count": null,
   "id": "10f50d62-095e-430b-b1d6-3aeae4553f0d",
   "metadata": {},
   "outputs": [],
   "source": []
  },
  {
   "cell_type": "markdown",
   "id": "c358fe7c-2dd9-43b0-b8e8-de1d066f4bdf",
   "metadata": {},
   "source": [
    "### Core ELP 64/10/50 with I 64/5/50"
   ]
  },
  {
   "cell_type": "markdown",
   "id": "5ba99f09-8bd5-4e47-860e-426f87f7f02f",
   "metadata": {},
   "source": [
    "#### Inputs data"
   ]
  },
  {
   "cell_type": "raw",
   "id": "57483bba-454b-4986-9045-67dea638b8cf",
   "metadata": {},
   "source": [
    "μ_r: relative permeability (material property)\n",
    "μ_e: effective permeability (assembly/shape property)"
   ]
  },
  {
   "cell_type": "code",
   "execution_count": 212,
   "id": "6f3fb3aa-4811-49b6-9b53-0d1ddb6ca77c",
   "metadata": {},
   "outputs": [
    {
     "data": {
      "text/latex": [
       "$\n",
       "\\begin{aligned}\n",
       "\\mathrm{core} &= \\mathrm{} \\; \\;\\textrm{(ELP 64/10/50 with I 64/5/50)}\n",
       "\\\\[10pt]\n",
       "\\mathrm{Al}_{nH} &= 14000 \\; \\;\\textrm{(nH)}\n",
       "\\\\[10pt]\n",
       "A_{e} &= 519 \\; \\;\\textrm{(mm2)}\n",
       "\\\\[10pt]\n",
       "A_{e_{min}} &= 518 \\; \\;\\textrm{(mm2)}\n",
       "\\\\[10pt]\n",
       "l_{e} &= 69.700 \\; \\;\\textrm{(mm)}\n",
       "\\end{aligned}\n",
       "$"
      ],
      "text/plain": [
       "<IPython.core.display.Latex object>"
      ]
     },
     "metadata": {},
     "output_type": "display_data"
    }
   ],
   "source": [
    "%%render \n",
    "core = \"\" #ELP 64/10/50 with I 64/5/50\n",
    "Al_nH= 14000 # nH\n",
    "A_e= 519 # mm2\n",
    "A_e_min= 518 # mm2\n",
    "l_e=69.7 # mm\n"
   ]
  },
  {
   "cell_type": "code",
   "execution_count": 213,
   "id": "6122c28a-b7fd-4e6a-82a7-8fd75b4918be",
   "metadata": {},
   "outputs": [
    {
     "data": {
      "text/latex": [
       "$\n",
       "\\begin{aligned}\n",
       "\\mu_{r} &= 1450 \\; \\;\\textrm{(N87)}\n",
       "\\\\[10pt]\n",
       "B_{sat} &= 300 \\; \\;\\textrm{(mT @ 250A/m 10kHz 100°C)}\n",
       "\\\\[10pt]\n",
       "\\mathrm{K1} &= 835 \\; \\;\\textrm{(@ 25°C, 0.10 mm < s < 2.00 mm)}\n",
       "\\\\[10pt]\n",
       "\\mathrm{K2} &= -0.790 \\; \\;\\textrm{(@ 25°C, 0.10 mm < s < 2.00 mm)}\n",
       "\\\\[10pt]\n",
       "\\mu_{0} &= 4 \\cdot \\pi \\cdot 1 \\times 10 ^ {-7}  = 4 \\cdot 3.142 \\cdot 1 \\times 10 ^ {-7} &= 0.000 \\; \\;\\textrm{(H m−1)}\n",
       "\\end{aligned}\n",
       "$"
      ],
      "text/plain": [
       "<IPython.core.display.Latex object>"
      ]
     },
     "metadata": {},
     "output_type": "display_data"
    }
   ],
   "source": [
    "%%render \n",
    "mu_r=1450 # N87\n",
    "B_sat=300 # mT @ 250A/m 10kHz 100°C\n",
    "K1= 835 # @ 25°C, 0.10 mm < s < 2.00 mm\n",
    "K2= -0.79 # @ 25°C, 0.10 mm < s < 2.00 mm\n",
    "mu_0 = 4*pi *1e-7 # H m−1 "
   ]
  },
  {
   "cell_type": "markdown",
   "id": "99c83730-5485-441b-9344-73fdee85f7b4",
   "metadata": {},
   "source": [
    "#### The air gap "
   ]
  },
  {
   "cell_type": "code",
   "execution_count": 214,
   "id": "9071436e-60cf-4c8a-983c-40fabe8ca24b",
   "metadata": {},
   "outputs": [
    {
     "data": {
      "text/latex": [
       "$\n",
       "\\begin{aligned}\n",
       "\\mathrm{Lm}_{nH} &= \\mathrm{Lm}_{uH} \\cdot 1 \\times 10 ^ {3}  = 65.392 \\cdot 1 \\times 10 ^ {3} &= 65392.000 \\; \\;\\textrm{(nH)}\n",
       "\\\\[10pt]\n",
       "\\mathrm{Al}_{nH} &= 14000 \\; \\;\\textrm{(nH)}\n",
       "\\\\[10pt]\n",
       "\\mathrm{Al}_{Target} &= \\frac{ \\mathrm{Lm}_{nH} }{ \\left( n \\right) ^{ 2 } }  = \\frac{ 65392.000 }{ \\left( 4.000 \\right) ^{ 2 } } &= 4087.000 \\; \\;\\textrm{(nH)}\n",
       "\\\\[10pt]\n",
       "\\mu_{eTarget} &= \\mu_{r} \\cdot \\frac{ \\mathrm{Al}_{Target} }{ \\mathrm{Al}_{nH} }  = 1450 \\cdot \\frac{ 4087.000 }{ 14000 } &= 423.296  \n",
       "\\end{aligned}\n",
       "$"
      ],
      "text/plain": [
       "<IPython.core.display.Latex object>"
      ]
     },
     "metadata": {},
     "output_type": "display_data"
    }
   ],
   "source": [
    "%%render \n",
    "Lm_nH= Lm_uH*1e3 # nH\n",
    "Al_nH # nH\n",
    "Al_Target = Lm_nH/n**2 # nH\n",
    "mu_eTarget = mu_r*Al_Target/Al_nH"
   ]
  },
  {
   "cell_type": "markdown",
   "id": "d6fdba80-1ae2-4d84-baf7-3780d40b0c7c",
   "metadata": {},
   "source": [
    "**Simified formula of air gap**"
   ]
  },
  {
   "cell_type": "markdown",
   "id": "f1ef1810-bc49-4202-8c5f-baef76c7d512",
   "metadata": {},
   "source": [
    "See the formula above "
   ]
  },
  {
   "cell_type": "code",
   "execution_count": null,
   "id": "ad269264-e8fd-4580-a58e-5ebf25ed4fa9",
   "metadata": {},
   "outputs": [],
   "source": []
  },
  {
   "cell_type": "code",
   "execution_count": 215,
   "id": "920afc29-5ef4-4d29-ac6e-2b56c8a8452d",
   "metadata": {},
   "outputs": [
    {
     "data": {
      "text/latex": [
       "$\n",
       "\\begin{aligned}\n",
       "l_{g} &= 1 \\times 10 ^ {3} \\cdot \\left( \\frac{ \\mu_{0} \\cdot \\left( n \\right) ^{ 2 } \\cdot A_{e} \\cdot 1 \\times 10 ^ {-6} }{ \\mathrm{Lm} } - l_{e} \\cdot \\frac{ 1 \\times 10 ^ {-3} }{ \\mu_{r} } \\right) \\\\&= 1 \\times 10 ^ {3} \\cdot \\left( \\frac{ 0.000 \\cdot \\left( 4.000 \\right) ^{ 2 } \\cdot 519 \\cdot 1 \\times 10 ^ {-6} }{ 0.000 } - 69.700 \\cdot \\frac{ 1 \\times 10 ^ {-3} }{ 1450 } \\right) \\\\&= 0.112 \\; \\;\\textrm{(mm)}\\\\[10pt]\n",
       "\\end{aligned}\n",
       "$"
      ],
      "text/plain": [
       "<IPython.core.display.Latex object>"
      ]
     },
     "metadata": {},
     "output_type": "display_data"
    }
   ],
   "source": [
    "%%render long \n",
    "l_g = 1e3*((mu_0*n**2*A_e*1e-6)/Lm -l_e*1e-3/mu_r) # mm"
   ]
  },
  {
   "cell_type": "markdown",
   "id": "489a6424-1d8a-40bb-a9e5-125d4c02030a",
   "metadata": {},
   "source": [
    "**TDK formula of air gap using K1 and K2**"
   ]
  },
  {
   "cell_type": "code",
   "execution_count": 216,
   "id": "33ce2c53-ff60-480a-a758-ccca4eca400a",
   "metadata": {},
   "outputs": [
    {
     "data": {
      "text/html": [
       "\n",
       "    <div style=\"width: 100%; text-align: center;\">\n",
       "        <img src=\"./02_figs/Air_Gap_TDK_Formula.png\" style=\"max-width: 100%; width: 18cm; height: auto;\">\n",
       "        <div style=\"max-width: 100%; word-wrap: break-word;\">\n",
       "            <b>Figure 19:</b> The empirical air-gap formula using the coefficients K1 and K2 from the TDK datasheet\n",
       "        </div>\n",
       "    </div>\n",
       "    <br>\n",
       "    "
      ],
      "text/plain": [
       "<IPython.core.display.HTML object>"
      ]
     },
     "metadata": {},
     "output_type": "display_data"
    }
   ],
   "source": [
    "fig_counter =  One_figure_with_captions(fig_counter,\n",
    "                                        img1=\"Air_Gap_TDK_Formula.png\", \n",
    "                                        caption1=\"The empirical air-gap formula using the coefficients K1 and K2 from the TDK datasheet\", \n",
    "                                        first_part_path=\"./02_figs/\", \n",
    "                                        width=18)\n",
    "    "
   ]
  },
  {
   "cell_type": "markdown",
   "id": "50c51997-46d9-4b8b-b7f3-47345809c11f",
   "metadata": {},
   "source": [
    "See page 6 [\\[1\\]](#referencesID1232).\n"
   ]
  },
  {
   "cell_type": "code",
   "execution_count": 217,
   "id": "aff2161c-9f79-400d-b8a3-2f919b10c96d",
   "metadata": {},
   "outputs": [
    {
     "data": {
      "text/latex": [
       "$\n",
       "\\begin{aligned}\n",
       "s_{mm} &= \\left( \\frac{ \\mathrm{Al}_{Target} }{ \\mathrm{K1} } \\right) ^{ \\left( \\frac{ 1 }{ \\mathrm{K2} } \\right) } \\\\&= \\left( \\frac{ 4087.000 }{ 835 } \\right) ^{ \\left( \\frac{ 1 }{ -0.790 } \\right) } \\\\&= 0.134 \\; \\;\\textrm{(mm airgap)}\\\\[10pt]\n",
       "\\end{aligned}\n",
       "$"
      ],
      "text/plain": [
       "<IPython.core.display.Latex object>"
      ]
     },
     "metadata": {},
     "output_type": "display_data"
    }
   ],
   "source": [
    "%%render long\n",
    "s_mm= (Al_Target/K1)**(1/K2) # mm airgap "
   ]
  },
  {
   "cell_type": "markdown",
   "id": "2838989c-d600-49f8-9ff0-6152807f0deb",
   "metadata": {},
   "source": [
    "**TDK air gap curve**"
   ]
  },
  {
   "cell_type": "code",
   "execution_count": 218,
   "id": "05c51f62-2189-4ba7-9e9c-dd431176f6cd",
   "metadata": {},
   "outputs": [
    {
     "data": {
      "text/html": [
       "\n",
       "    <div style=\"width: 100%; text-align: center;\">\n",
       "        <img src=\"./02_figs/Air_Gap_TDK_curve.png\" style=\"max-width: 100%; width: 10cm; height: auto;\">\n",
       "        <div style=\"max-width: 100%; word-wrap: break-word;\">\n",
       "            <b>Figure 20:</b> The empirical air-gap formula using the coefficients K1 and K2 from the TDK datasheet\n",
       "        </div>\n",
       "    </div>\n",
       "    <br>\n",
       "    "
      ],
      "text/plain": [
       "<IPython.core.display.HTML object>"
      ]
     },
     "metadata": {},
     "output_type": "display_data"
    }
   ],
   "source": [
    "fig_counter =  One_figure_with_captions(fig_counter,\n",
    "                                        img1=\"Air_Gap_TDK_curve.png\", \n",
    "                                        caption1=\"The empirical air-gap formula using the coefficients K1 and K2 from the TDK datasheet\", \n",
    "                                        first_part_path=\"./02_figs/\", \n",
    "                                        width=10)\n",
    "    "
   ]
  },
  {
   "cell_type": "markdown",
   "id": "0e051689-e57f-47f2-9a65-8be63b7852ee",
   "metadata": {},
   "source": [
    "See page 2 [\\[2\\]](#referencesID1233)."
   ]
  },
  {
   "cell_type": "code",
   "execution_count": 219,
   "id": "2f330651-01f4-47b8-8ccf-897b2d2d83f4",
   "metadata": {},
   "outputs": [
    {
     "data": {
      "text/latex": [
       "$\n",
       "\\begin{aligned}\n",
       "l_{g_{curve}} &= 0.140 \\; \\;\\textrm{(mm)}\n",
       "\\end{aligned}\n",
       "$"
      ],
      "text/plain": [
       "<IPython.core.display.Latex object>"
      ]
     },
     "metadata": {},
     "output_type": "display_data"
    }
   ],
   "source": [
    "%%render \n",
    "l_g_curve = 0.140 # mm"
   ]
  },
  {
   "cell_type": "markdown",
   "id": "6635d581-ccf4-45d0-8240-048f90b54b2e",
   "metadata": {},
   "source": [
    "**Air gap using the tree methods**"
   ]
  },
  {
   "cell_type": "code",
   "execution_count": 220,
   "id": "9554193f-0683-46d9-8b8c-0c2ad580fe90",
   "metadata": {},
   "outputs": [
    {
     "data": {
      "text/latex": [
       "$\n",
       "\\begin{aligned}\n",
       "s_{mm} &= 0.134 \\; \\;\\textrm{(mm using TDK formula K1, K2)}\n",
       "\\\\[10pt]\n",
       "l_{g} &= 0.112 \\; \\;\\textrm{(mm using the simple formula)}\n",
       "\\\\[10pt]\n",
       "l_{g_{curve}} &= 0.140 \\; \\;\\textrm{(mm using TDK graph)}\n",
       "\\end{aligned}\n",
       "$"
      ],
      "text/plain": [
       "<IPython.core.display.Latex object>"
      ]
     },
     "metadata": {},
     "output_type": "display_data"
    }
   ],
   "source": [
    "%%render \n",
    "s_mm # mm using TDK formula K1, K2\n",
    "l_g # mm using the simple formula\n",
    "l_g_curve # mm using TDK graph "
   ]
  },
  {
   "cell_type": "markdown",
   "id": "4c02df1d-aede-4552-b618-4f2c69c079cc",
   "metadata": {},
   "source": [
    "The three results are close to each other; we will prefer the TDK formula using K1 and K2 if these coefficients are provided in the datasheet."
   ]
  },
  {
   "cell_type": "code",
   "execution_count": null,
   "id": "3ad5293f-d99d-4d35-96fb-c7a88d37d868",
   "metadata": {},
   "outputs": [],
   "source": []
  },
  {
   "cell_type": "code",
   "execution_count": null,
   "id": "ee07b0a8-eb0f-4c5d-a0f0-82c2f506f4ab",
   "metadata": {},
   "outputs": [],
   "source": []
  },
  {
   "cell_type": "markdown",
   "id": "50d7b699-71f7-4db0-993d-57fd79df32d9",
   "metadata": {},
   "source": [
    "#### The Bpeak and Bsat"
   ]
  },
  {
   "cell_type": "markdown",
   "id": "64716db2-8470-4cb6-a6b3-f83c46f07efb",
   "metadata": {},
   "source": [
    "***Reluctance formulas***"
   ]
  },
  {
   "cell_type": "code",
   "execution_count": 221,
   "id": "7b19b4a4-9f2e-4826-ae84-a55fa7a658c7",
   "metadata": {},
   "outputs": [
    {
     "data": {
      "text/latex": [
       "$\n",
       "\\begin{aligned}\n",
       "\\mu_{e} &= \\frac{ l_{e} + l_{g} }{ l_{g} + \\frac{ l_{e} }{ \\mu_{r} } }  = \\frac{ 69.700 + 0.112 }{ 0.112 + \\frac{ 69.700 }{ 1450 } } &= 437.476  \n",
       "\\end{aligned}\n",
       "$"
      ],
      "text/plain": [
       "<IPython.core.display.Latex object>"
      ]
     },
     "metadata": {},
     "output_type": "display_data"
    }
   ],
   "source": [
    "%%render\n",
    "mu_e = (l_e+l_g)/(l_g+l_e/mu_r)"
   ]
  },
  {
   "cell_type": "code",
   "execution_count": 222,
   "id": "bfbfc369-a06e-42dc-b5b4-2a1b6ee5f739",
   "metadata": {},
   "outputs": [
    {
     "data": {
      "text/latex": [
       "$\n",
       "\\begin{aligned}\n",
       "R_{core} &= l_{e} \\cdot \\frac{ 1 \\times 10 ^ {-3} }{ \\mu_{0} \\cdot \\mu_{r} \\cdot A_{e} \\cdot 1 \\times 10 ^ {-6} } \\\\&= 69.700 \\cdot \\frac{ 1 \\times 10 ^ {-3} }{ 0.000 \\cdot 1450 \\cdot 519 \\cdot 1 \\times 10 ^ {-6} } \\\\&= 73703.405  \\\\[10pt]\n",
       "\\\\[10pt]\n",
       "R_{gap} &= 1 \\times 10 ^ {-3} \\cdot \\frac{ l_{g} }{ \\mu_{0} \\cdot A_{e} \\cdot 1 \\times 10 ^ {-6} } \\\\&= 1 \\times 10 ^ {-3} \\cdot \\frac{ 0.112 }{ 0.000 \\cdot 519 \\cdot 1 \\times 10 ^ {-6} } \\\\&= 170974.843  \\\\[10pt]\n",
       "\\end{aligned}\n",
       "$"
      ],
      "text/plain": [
       "<IPython.core.display.Latex object>"
      ]
     },
     "metadata": {},
     "output_type": "display_data"
    }
   ],
   "source": [
    "%%render long\n",
    "R_core = l_e*1e-3/(mu_0*mu_r*A_e*1e-6) \n",
    "R_gap = 1e-3*l_g/(mu_0*A_e*1e-6)"
   ]
  },
  {
   "cell_type": "code",
   "execution_count": 223,
   "id": "e088e56f-03e2-4167-bb62-24b7187eece6",
   "metadata": {},
   "outputs": [
    {
     "data": {
      "text/latex": [
       "$\n",
       "\\begin{aligned}\n",
       "R_{tot} &= R_{core} + R_{gap} \\\\&= 73703.405 + 170974.843 \\\\&= 244678.248 \\; \\;\\textrm{(At/Wb, using Rcore, Rgap)}\\\\[10pt]\n",
       "\\\\[10pt]\n",
       "R_{tot_{2}} &= 1 \\times 10 ^ {-3} \\cdot \\frac{ l_{g} + l_{e} }{ \\mu_{0} \\cdot \\mu_{e} \\cdot A_{e} \\cdot 1 \\times 10 ^ {-6} } \\\\&= 1 \\times 10 ^ {-3} \\cdot \\frac{ 0.112 + 69.700 }{ 0.000 \\cdot 437.476 \\cdot 519 \\cdot 1 \\times 10 ^ {-6} } \\\\&= 244678.248 \\; \\;\\textrm{(At/Wb, using µe)}\\\\[10pt]\n",
       "\\end{aligned}\n",
       "$"
      ],
      "text/plain": [
       "<IPython.core.display.Latex object>"
      ]
     },
     "metadata": {},
     "output_type": "display_data"
    }
   ],
   "source": [
    "%%render long\n",
    "R_tot= R_core+R_gap # At/Wb, using Rcore, Rgap\n",
    "R_tot_2= 1e-3*(l_g+l_e)/(mu_0*mu_e*A_e*1e-6)# At/Wb, using µe "
   ]
  },
  {
   "cell_type": "code",
   "execution_count": 224,
   "id": "9941af8a-e8b2-4937-8008-f056d5417b45",
   "metadata": {},
   "outputs": [
    {
     "data": {
      "text/latex": [
       "$\n",
       "\\begin{aligned}\n",
       "\\mathrm{Im}_{sat} &= B_{sat} \\cdot 1 \\times 10 ^ {-3} \\cdot A_{e} \\cdot 1 \\times 10 ^ {-6} \\cdot \\frac{ R_{core} + R_{gap} }{ n } \\\\&= 300 \\cdot 1 \\times 10 ^ {-3} \\cdot 519 \\cdot 1 \\times 10 ^ {-6} \\cdot \\frac{ 73703.405 + 170974.843 }{ 4.000 } \\\\&= 9.524 \\; \\;\\textrm{(A)}\\\\[10pt]\n",
       "\\end{aligned}\n",
       "$"
      ],
      "text/plain": [
       "<IPython.core.display.Latex object>"
      ]
     },
     "metadata": {},
     "output_type": "display_data"
    }
   ],
   "source": [
    "%%render long\n",
    "Im_sat= B_sat*1e-3*A_e*1e-6*(R_core+R_gap)/n # A"
   ]
  },
  {
   "cell_type": "code",
   "execution_count": 225,
   "id": "3adb409b-d171-4a53-9374-9fea98b36dcd",
   "metadata": {},
   "outputs": [
    {
     "data": {
      "text/latex": [
       "$\n",
       "\\begin{aligned}\n",
       "\\mathrm{Im}_{peak} &= \\sqrt { 2 } \\cdot \\mathrm{Im}_{rms}  = \\sqrt { 2 } \\cdot 6.992 &= 9.888 \\; \\;\\textrm{(A)}\n",
       "\\end{aligned}\n",
       "$"
      ],
      "text/plain": [
       "<IPython.core.display.Latex object>"
      ]
     },
     "metadata": {},
     "output_type": "display_data"
    }
   ],
   "source": [
    "%%render  \n",
    "Im_peak = sqrt(2)*Im_rms # A"
   ]
  },
  {
   "cell_type": "markdown",
   "id": "8e7e3bb8-39d7-40d2-84a8-c983ef7f61b3",
   "metadata": {},
   "source": [
    "$ I_{m_{peak}} > I_{m_{sat}} $, let’s double-check our hypothesis and margins."
   ]
  },
  {
   "cell_type": "markdown",
   "id": "5968d169-9df8-4992-a2da-18df14e99bff",
   "metadata": {},
   "source": [
    "#### Verification of the Hypothesis"
   ]
  },
  {
   "cell_type": "code",
   "execution_count": 226,
   "id": "d8d79fce-f30a-4352-b9e7-36a6b17ac676",
   "metadata": {},
   "outputs": [
    {
     "data": {
      "text/latex": [
       "$\n",
       "\\begin{aligned}\n",
       "\\mathrm{Vf} &= 0.200 \\; \\;\\textrm{(drop voltage in the mos)}\n",
       "\\\\[10pt]\n",
       "\\mathrm{efficiency} &= 0.950 \\; \\;\\textrm{(Hypothesis, efficiency= 95\\%)}\n",
       "\\end{aligned}\n",
       "$"
      ],
      "text/plain": [
       "<IPython.core.display.Latex object>"
      ]
     },
     "metadata": {},
     "output_type": "display_data"
    }
   ],
   "source": [
    "%%render \n",
    "Vf=0.2 # drop voltage in the mos\n",
    "efficiency = 0.95 # Hypothesis, efficiency= 95\\%"
   ]
  },
  {
   "cell_type": "code",
   "execution_count": 227,
   "id": "5bcb3b57-bf4b-4bf3-b17e-e53e6dbd1520",
   "metadata": {},
   "outputs": [
    {
     "data": {
      "text/latex": [
       "$\n",
       "\\begin{aligned}\n",
       "\\mathrm{loss} &= \\frac{ 1 - \\mathrm{efficiency} }{ 3 } \\\\&= \\frac{ 1 - 0.950 }{ 3 } \\\\&= 0.017 \\; \\;\\textrm{(Hypothesis: Joule loss = 1/3 of total losses)}\\\\[10pt]\n",
       "\\end{aligned}\n",
       "$"
      ],
      "text/plain": [
       "<IPython.core.display.Latex object>"
      ]
     },
     "metadata": {},
     "output_type": "display_data"
    }
   ],
   "source": [
    "%%render  long\n",
    "loss = (1-efficiency)/3 # Hypothesis: Joule loss = 1/3 of total losses\n"
   ]
  },
  {
   "cell_type": "code",
   "execution_count": 228,
   "id": "8de38f7a-1ca9-494c-8dbe-bd29b1fcc10b",
   "metadata": {},
   "outputs": [
    {
     "data": {
      "text/latex": [
       "$\n",
       "\\begin{aligned}\n",
       "\\mathrm{Io}_{nom} &= \\frac{ \\mathrm{Power} }{ \\mathrm{Vo}_{nom} }  = \\frac{ 1200.000 }{ 48.000 } &= 25.000 \\; \\;\\textrm{(A)}\n",
       "\\\\[10pt]\n",
       "V_{loss} &= \\frac{ \\frac{ \\mathrm{Power} \\cdot \\mathrm{loss} }{ \\mathrm{efficiency} } }{ \\mathrm{Io}_{nom} }  = \\frac{ \\frac{ 1200.000 \\cdot 0.017 }{ 0.950 } }{ 25.000 } &= 0.842 \\; \\;\\textrm{(v)}\n",
       "\\end{aligned}\n",
       "$"
      ],
      "text/plain": [
       "<IPython.core.display.Latex object>"
      ]
     },
     "metadata": {},
     "output_type": "display_data"
    }
   ],
   "source": [
    "%%render \n",
    "Io_nom = Power/Vo_nom # A\n",
    "V_loss = ((Power*loss)/efficiency)/Io_nom # v"
   ]
  },
  {
   "cell_type": "code",
   "execution_count": 229,
   "id": "579607de-7c01-4fdf-8a07-b4b02359485b",
   "metadata": {},
   "outputs": [
    {
     "data": {
      "text/latex": [
       "$\n",
       "\\begin{aligned}\n",
       "\\mathrm{margin} &= 0.010 \\; \n",
       "\\\\[10pt]\n",
       "\\mathrm{Mg}_{max} &= n \\cdot \\frac{ \\mathrm{Vo}_{max} \\cdot \\left( 1 + \\mathrm{margin} \\right) + \\mathrm{Vf} + V_{loss} }{ \\frac{ V_{In_{min}} }{ 2 } } \\\\&= 4.000 \\cdot \\frac{ 54.000 \\cdot \\left( 1 + 0.010 \\right) + 0.200 + 0.842 }{ \\frac{ 360.000 }{ 2 } } \\\\&= 1.235  \\\\[10pt]\n",
       "\\end{aligned}\n",
       "$"
      ],
      "text/plain": [
       "<IPython.core.display.Latex object>"
      ]
     },
     "metadata": {},
     "output_type": "display_data"
    }
   ],
   "source": [
    "%%render long\n",
    "margin = 0.01\n",
    "Mg_max = n*(Vo_max*(1+margin)+Vf+V_loss)/(V_In_min/2)\n"
   ]
  },
  {
   "cell_type": "code",
   "execution_count": 230,
   "id": "e471c3fc-b1d9-47fa-8d4b-a2b5ae03eaf9",
   "metadata": {},
   "outputs": [
    {
     "data": {
      "text/latex": [
       "$\n",
       "\\begin{aligned}\n",
       "\\mathrm{Mg}_{max110} &= \\mathrm{Mg}_{max} \\cdot \\left( \\frac{ 110 }{ 100 } \\right)  = 1.235 \\cdot \\left( \\frac{ 110 }{ 100 } \\right) &= 1.359  \n",
       "\\end{aligned}\n",
       "$"
      ],
      "text/plain": [
       "<IPython.core.display.Latex object>"
      ]
     },
     "metadata": {},
     "output_type": "display_data"
    }
   ],
   "source": [
    "%%render \n",
    "# 110% load\n",
    "Mg_max110 = Mg_max*(110/100)"
   ]
  },
  {
   "cell_type": "code",
   "execution_count": null,
   "id": "dea3ba64-854d-4451-ab04-d80fc7044188",
   "metadata": {},
   "outputs": [],
   "source": []
  },
  {
   "cell_type": "code",
   "execution_count": 231,
   "id": "280e2cab-a896-4550-9fb7-d95f61953793",
   "metadata": {},
   "outputs": [
    {
     "data": {
      "image/png": "[encoded data removed]",
      "text/plain": [
       "<Figure size 500x400 with 1 Axes>"
      ]
     },
     "metadata": {},
     "output_type": "display_data"
    }
   ],
   "source": [
    "def calculate_Mg(Ln, fn, Qe):\n",
    "    numerator = Ln * fn**2\n",
    "    denominator_real = (Ln + 1) * fn**2 - 1\n",
    "    denominator_imag = (fn**2 - 1) * fn * Qe * Ln\n",
    "    denominator = np.sqrt(denominator_real**2+ denominator_imag**2)\n",
    "    Mg = abs(numerator / denominator)\n",
    "    return Mg\n",
    "freqn = np.arange(0.5,1.8,0.01) \n",
    "Lnc=3 \n",
    "Qec = 0.55 \n",
    "Mg = calculate_Mg(Lnc,freqn, Qec)\n",
    "\n",
    "i= np.argmin(np.abs(Mg-Mg_max))\n",
    "fn_MgMin= freqn[i]\n",
    "\n",
    "f_nom = 100e3 # Hz\n",
    "fn_min = fsw_min/f_nom\n",
    "fn_max = fsw_max/f_nom\n",
    "fmin_2=fn_MgMin*f_nom\n",
    "fig, ax = plt.subplots(figsize=(5, 4)) \n",
    "ax.plot(freqn, Mg,label = \"Lnc=3, Qec = 0.55\" , c=\"C9\")\n",
    "\n",
    "ax.plot([fn_min*0.8,fn_max*1.2 ], [Mg_max110, Mg_max110],\n",
    "       label = \"Mg_max_110%\", linestyle =\"--\", c=\"k\")\n",
    "ax.plot([fn_min*0.8,fn_max*1.2], [Mg_max,Mg_max ],\n",
    "      label = \"Mg_max\", linestyle =\"--\", c=\"r\")\n",
    "\n",
    "\n",
    "\n",
    "ax.plot([fn_MgMin,fn_MgMin], [0.7, 1.4],\n",
    "        label = f\"fn_min ({fmin_2/1e3:.2f}kHz)\", linestyle =\"--\", c=\"g\")\n",
    "\n",
    "\n",
    "ax.set_xlabel(\"freq_norm\")\n",
    "ax.set_ylabel(\"Mg\")\n",
    "ax.set_title(\"The LLC gain with the verified hypothesis\")\n",
    "ax.legend()\n",
    "ax.grid()"
   ]
  },
  {
   "cell_type": "code",
   "execution_count": 232,
   "id": "4bb06edc-1a33-4f63-8a8d-3d38cf36d45d",
   "metadata": {},
   "outputs": [
    {
     "data": {
      "text/latex": [
       "$\n",
       "\\begin{aligned}\n",
       "\\mathrm{fmin}_{2} &= 75000.000 \\; \n",
       "\\\\[10pt]\n",
       "\\omega_{min} &= 471238.898 \\; \n",
       "\\\\[10pt]\n",
       "\\mathrm{Im}_{rms2} &= 2 \\cdot \\sqrt { 2 } \\cdot n \\cdot \\frac{ \\mathrm{Vo}_{nom} }{ \\pi \\cdot \\mathrm{Lm} \\cdot \\omega_{min} } \\\\&= 2 \\cdot \\sqrt { 2 } \\cdot 4.000 \\cdot \\frac{ 48.000 }{ 3.142 \\cdot 0.000 \\cdot 471238.898 } \\\\&= 5.610 \\; \\;\\textrm{(Arms)}\\\\[10pt]\n",
       "\\end{aligned}\n",
       "$"
      ],
      "text/plain": [
       "<IPython.core.display.Latex object>"
      ]
     },
     "metadata": {},
     "output_type": "display_data"
    }
   ],
   "source": [
    "%%render long\n",
    "fmin_2=fn_MgMin*f_nom\n",
    "omega_min=2*pi*fmin_2\n",
    "Im_rms2 = 2*sqrt(2)*n*Vo_nom/(pi*Lm*omega_min) # Arms"
   ]
  },
  {
   "cell_type": "code",
   "execution_count": 233,
   "id": "fe634271-a731-4f49-a7fa-3dfd31f401da",
   "metadata": {},
   "outputs": [
    {
     "data": {
      "text/latex": [
       "$\n",
       "\\begin{aligned}\n",
       "\\mathrm{Im}_{peak2} &= \\sqrt { 2 } \\cdot \\mathrm{Im}_{rms2}  = \\sqrt { 2 } \\cdot 5.610 &= 7.933 \\; \\;\\textrm{(A)}\n",
       "\\\\[10pt]\n",
       "I_{satMargin} &= 100 \\cdot \\frac{ \\mathrm{Im}_{sat} - \\mathrm{Im}_{peak2} }{ \\mathrm{Im}_{sat} }  = 100 \\cdot \\frac{ 9.524 - 7.933 }{ 9.524 } &= 16.704 \\; \\;\\textrm{(\\%)}\n",
       "\\end{aligned}\n",
       "$"
      ],
      "text/plain": [
       "<IPython.core.display.Latex object>"
      ]
     },
     "metadata": {},
     "output_type": "display_data"
    }
   ],
   "source": [
    "%%render  \n",
    "Im_peak2 = sqrt(2) * Im_rms2 # A\n",
    "\n",
    "I_satMargin = 100*(Im_sat-Im_peak2)/Im_sat # \\%"
   ]
  },
  {
   "cell_type": "code",
   "execution_count": 234,
   "id": "e48fb2f1-50f4-4bae-a092-65b06ce30a28",
   "metadata": {},
   "outputs": [],
   "source": [
    "Np = n"
   ]
  },
  {
   "cell_type": "markdown",
   "id": "a19ff3ff-c17c-4152-8d19-78f2269ebc4c",
   "metadata": {},
   "source": [
    "We can calculate also $B_{peak2}$ using $Im_{rms2}$"
   ]
  },
  {
   "cell_type": "code",
   "execution_count": 235,
   "id": "7d800ca3-6e4f-4a07-bf78-8a6bc0c6d14c",
   "metadata": {},
   "outputs": [
    {
     "data": {
      "text/latex": [
       "$\n",
       "\\begin{aligned}\n",
       "B_{sat} &= 300 \\; \\;\\textrm{(mT)}\n",
       "\\\\[10pt]\n",
       "B_{peak2} &= 1 \\times 10 ^ {3} \\cdot \\mathrm{Lm} \\cdot \\sqrt { 2 } \\cdot \\frac{ \\mathrm{Im}_{rms2} }{ n \\cdot A_{e_{min}} \\cdot 1 \\times 10 ^ {-6} } \\\\&= 1 \\times 10 ^ {3} \\cdot 0.000 \\cdot \\sqrt { 2 } \\cdot \\frac{ 5.610 }{ 4.000 \\cdot 518 \\cdot 1 \\times 10 ^ {-6} } \\\\&= 250.369 \\; \\;\\textrm{(mT < Bs= 300mT OK)}\\\\[10pt]\n",
       "\\end{aligned}\n",
       "$"
      ],
      "text/plain": [
       "<IPython.core.display.Latex object>"
      ]
     },
     "metadata": {},
     "output_type": "display_data"
    }
   ],
   "source": [
    "%%render long\n",
    "B_sat # mT\n",
    "B_peak2 = 1e3*Lm*sqrt(2)*Im_rms2 /(n*A_e_min*1e-6) # mT < Bs= 300mT OK\n"
   ]
  },
  {
   "cell_type": "markdown",
   "id": "d599b617-dfde-468b-9475-a8eba4adcb05",
   "metadata": {},
   "source": [
    "We calculate the margin for $B_{peak2}$"
   ]
  },
  {
   "cell_type": "code",
   "execution_count": 236,
   "id": "06cb45c8-7e30-4bc0-ae0e-7842e856bec5",
   "metadata": {},
   "outputs": [
    {
     "data": {
      "text/latex": [
       "$\n",
       "\\begin{aligned}\n",
       "B_{satMargin} &= 100 \\cdot \\frac{ B_{sat} - B_{peak2} }{ B_{sat} } \\\\&= 100 \\cdot \\frac{ 300 - 250.369 }{ 300 } \\\\&= 16.544 \\; \\;\\textrm{(\\%)}\\\\[10pt]\n",
       "\\end{aligned}\n",
       "$"
      ],
      "text/plain": [
       "<IPython.core.display.Latex object>"
      ]
     },
     "metadata": {},
     "output_type": "display_data"
    }
   ],
   "source": [
    "%%render long\n",
    "B_satMargin = 100*(B_sat-B_peak2)/B_sat # \\%"
   ]
  },
  {
   "cell_type": "markdown",
   "id": "1dcaff87-f037-419d-8be8-014a51ec657f",
   "metadata": {},
   "source": [
    "The calculation $I_{m,\\text{sat}} / I_{m,\\text{peak}}$ and $B_{\\text{peak}} / B_{\\text{sat}}$ are equivalent, see the result below"
   ]
  },
  {
   "cell_type": "code",
   "execution_count": 237,
   "id": "90cc0999-55b7-4f90-8e23-63a1fc5fd8e7",
   "metadata": {},
   "outputs": [
    {
     "data": {
      "text/latex": [
       "$\n",
       "\\begin{aligned}\n",
       "I_{satMargin} &= 16.704 \\; \\;\\textrm{(\\%)}\n",
       "\\\\[10pt]\n",
       "B_{satMargin} &= 16.544 \\; \\;\\textrm{(\\%)}\n",
       "\\end{aligned}\n",
       "$"
      ],
      "text/plain": [
       "<IPython.core.display.Latex object>"
      ]
     },
     "metadata": {},
     "output_type": "display_data"
    }
   ],
   "source": [
    "%%render\n",
    "I_satMargin # \\%\n",
    "B_satMargin # \\%"
   ]
  },
  {
   "cell_type": "code",
   "execution_count": null,
   "id": "e3435278-160f-46f7-ba8d-3cbff0ef5413",
   "metadata": {},
   "outputs": [],
   "source": []
  },
  {
   "cell_type": "code",
   "execution_count": null,
   "id": "72808b99-cad4-4eb6-a321-8da9b975deb5",
   "metadata": {},
   "outputs": [],
   "source": []
  },
  {
   "cell_type": "code",
   "execution_count": null,
   "id": "05b9d110-f9f3-4af1-9fbd-e42b04395fb3",
   "metadata": {},
   "outputs": [],
   "source": []
  },
  {
   "cell_type": "code",
   "execution_count": null,
   "id": "8c1be31b-04d2-480f-b09c-fc81a00dfcae",
   "metadata": {},
   "outputs": [],
   "source": []
  },
  {
   "cell_type": "code",
   "execution_count": null,
   "id": "fe7570a4-7474-4aeb-9dba-0b2cfe8045c8",
   "metadata": {},
   "outputs": [],
   "source": []
  },
  {
   "cell_type": "code",
   "execution_count": null,
   "id": "6cc1a87b-c8c1-488c-8a3f-8c514bfc9ea8",
   "metadata": {},
   "outputs": [],
   "source": []
  },
  {
   "cell_type": "code",
   "execution_count": null,
   "id": "ab8b415c-ffb0-4953-a5cf-6ed126155f9f",
   "metadata": {},
   "outputs": [],
   "source": []
  },
  {
   "cell_type": "code",
   "execution_count": null,
   "id": "2fa7f8d7-2ec0-4848-8a51-8761cddc9d93",
   "metadata": {},
   "outputs": [],
   "source": []
  },
  {
   "cell_type": "code",
   "execution_count": null,
   "id": "f34a209d-a53b-47d5-81d2-fd2ace840b09",
   "metadata": {},
   "outputs": [],
   "source": []
  },
  {
   "cell_type": "code",
   "execution_count": 238,
   "id": "627023e2-49b1-4cc4-ad3f-c7dede46e41c",
   "metadata": {},
   "outputs": [],
   "source": [
    "# we will shose \n",
    "# ELP 64/10/50 with ELP 64/10/50 N95"
   ]
  },
  {
   "cell_type": "code",
   "execution_count": 239,
   "id": "ebc5d9f7-716c-4925-8d86-07b4e64a7d70",
   "metadata": {},
   "outputs": [],
   "source": [
    "# ELP 64/10/50 with I 64/5/50"
   ]
  },
  {
   "cell_type": "markdown",
   "id": "f88be4d8-8bbd-463d-92e7-a0a070cb6a64",
   "metadata": {},
   "source": [
    "### Other cores"
   ]
  },
  {
   "cell_type": "markdown",
   "id": "eff6b261-ce98-44bb-bfe3-84cc63ef57e0",
   "metadata": {},
   "source": [
    "Let’s apply the same formula to other cores, using the datasheet information shown below."
   ]
  },
  {
   "cell_type": "code",
   "execution_count": 240,
   "id": "d5e005d4-67da-4630-b993-6305116d31a3",
   "metadata": {},
   "outputs": [
    {
     "data": {
      "text/html": [
       "<div>\n",
       "<style scoped>\n",
       "    .dataframe tbody tr th:only-of-type {\n",
       "        vertical-align: middle;\n",
       "    }\n",
       "\n",
       "    .dataframe tbody tr th {\n",
       "        vertical-align: top;\n",
       "    }\n",
       "\n",
       "    .dataframe thead th {\n",
       "        text-align: right;\n",
       "    }\n",
       "</style>\n",
       "<table border=\"1\" class=\"dataframe\">\n",
       "  <thead>\n",
       "    <tr style=\"text-align: right;\">\n",
       "      <th></th>\n",
       "      <th>core</th>\n",
       "      <th>Aemin(mm2)</th>\n",
       "      <th>Le(mm)</th>\n",
       "      <th>Ve(mm3)</th>\n",
       "      <th>Bsat mT</th>\n",
       "      <th>Loss (W/set)</th>\n",
       "      <th>K1</th>\n",
       "      <th>K2</th>\n",
       "      <th>µe</th>\n",
       "      <th>Al(nH)</th>\n",
       "      <th>price by set</th>\n",
       "    </tr>\n",
       "  </thead>\n",
       "  <tbody>\n",
       "    <tr>\n",
       "      <th>0</th>\n",
       "      <td>E64/10/50-3C95</td>\n",
       "      <td>519.0</td>\n",
       "      <td>79.9</td>\n",
       "      <td>40700</td>\n",
       "      <td>330.0</td>\n",
       "      <td>20.0</td>\n",
       "      <td>NaN</td>\n",
       "      <td>NaN</td>\n",
       "      <td>NaN</td>\n",
       "      <td>17000</td>\n",
       "      <td>11.05</td>\n",
       "    </tr>\n",
       "    <tr>\n",
       "      <th>1</th>\n",
       "      <td>ELP 43/10/28 with I 43/4/28 N87</td>\n",
       "      <td>217.0</td>\n",
       "      <td>50.8</td>\n",
       "      <td>11430</td>\n",
       "      <td>350.0</td>\n",
       "      <td>7.8</td>\n",
       "      <td>390.0</td>\n",
       "      <td>-0.784</td>\n",
       "      <td>1480.0</td>\n",
       "      <td>850</td>\n",
       "      <td>2.61</td>\n",
       "    </tr>\n",
       "    <tr>\n",
       "      <th>2</th>\n",
       "      <td>ELP 64/10/50 with I 64/5/50 N87</td>\n",
       "      <td>512.0</td>\n",
       "      <td>69.7</td>\n",
       "      <td>36200</td>\n",
       "      <td>300.0</td>\n",
       "      <td>4.8</td>\n",
       "      <td>835.0</td>\n",
       "      <td>-0.790</td>\n",
       "      <td>1450.0</td>\n",
       "      <td>14000</td>\n",
       "      <td>NaN</td>\n",
       "    </tr>\n",
       "    <tr>\n",
       "      <th>3</th>\n",
       "      <td>ELP 64/10/50 with ELP 64/10/50 N95</td>\n",
       "      <td>518.0</td>\n",
       "      <td>79.9</td>\n",
       "      <td>41500</td>\n",
       "      <td>320.0</td>\n",
       "      <td>5.1</td>\n",
       "      <td>NaN</td>\n",
       "      <td>NaN</td>\n",
       "      <td>1880.0</td>\n",
       "      <td>15500</td>\n",
       "      <td>14.52</td>\n",
       "    </tr>\n",
       "    <tr>\n",
       "      <th>4</th>\n",
       "      <td>ELP 64/10/50 with ELP 64/10/50 N87</td>\n",
       "      <td>518.0</td>\n",
       "      <td>79.9</td>\n",
       "      <td>41500</td>\n",
       "      <td>300.0</td>\n",
       "      <td>5.5</td>\n",
       "      <td>820.0</td>\n",
       "      <td>-0.767</td>\n",
       "      <td>1490.0</td>\n",
       "      <td>12500</td>\n",
       "      <td>11.27</td>\n",
       "    </tr>\n",
       "    <tr>\n",
       "      <th>5</th>\n",
       "      <td>E64/10/50 + PLT64/50/5 3C95</td>\n",
       "      <td>519.0</td>\n",
       "      <td>69.7</td>\n",
       "      <td>35500</td>\n",
       "      <td>330.0</td>\n",
       "      <td>17.0</td>\n",
       "      <td>NaN</td>\n",
       "      <td>NaN</td>\n",
       "      <td>NaN</td>\n",
       "      <td>18500</td>\n",
       "      <td>NaN</td>\n",
       "    </tr>\n",
       "    <tr>\n",
       "      <th>6</th>\n",
       "      <td>ER64/13/51-3C92 3C95</td>\n",
       "      <td>507.0</td>\n",
       "      <td>93.0</td>\n",
       "      <td>52600</td>\n",
       "      <td>330.0</td>\n",
       "      <td>25.0</td>\n",
       "      <td>NaN</td>\n",
       "      <td>NaN</td>\n",
       "      <td>NaN</td>\n",
       "      <td>17100</td>\n",
       "      <td>19.62</td>\n",
       "    </tr>\n",
       "    <tr>\n",
       "      <th>7</th>\n",
       "      <td>E100/60/28 N87</td>\n",
       "      <td>690.0</td>\n",
       "      <td>274.0</td>\n",
       "      <td>201390</td>\n",
       "      <td>300.0</td>\n",
       "      <td>4.7</td>\n",
       "      <td>NaN</td>\n",
       "      <td>NaN</td>\n",
       "      <td>1930.0</td>\n",
       "      <td>6500</td>\n",
       "      <td>17.40</td>\n",
       "    </tr>\n",
       "    <tr>\n",
       "      <th>8</th>\n",
       "      <td>ELP 102/20/38 with ELP 102/20/38 N87</td>\n",
       "      <td>524.5</td>\n",
       "      <td>147.6</td>\n",
       "      <td>79410</td>\n",
       "      <td>300.0</td>\n",
       "      <td>11.0</td>\n",
       "      <td>NaN</td>\n",
       "      <td>NaN</td>\n",
       "      <td>1790.0</td>\n",
       "      <td>8200</td>\n",
       "      <td>12.88</td>\n",
       "    </tr>\n",
       "    <tr>\n",
       "      <th>9</th>\n",
       "      <td>ELP 102/20/38 with ELP 102/20/38 N97</td>\n",
       "      <td>524.5</td>\n",
       "      <td>147.6</td>\n",
       "      <td>79410</td>\n",
       "      <td>300.0</td>\n",
       "      <td>9.7</td>\n",
       "      <td>NaN</td>\n",
       "      <td>NaN</td>\n",
       "      <td>1855.0</td>\n",
       "      <td>8500</td>\n",
       "      <td>14.07</td>\n",
       "    </tr>\n",
       "    <tr>\n",
       "      <th>10</th>\n",
       "      <td>ELP 102/20/38 with I 102/7/38 N97</td>\n",
       "      <td>534.2</td>\n",
       "      <td>121.2</td>\n",
       "      <td>67745</td>\n",
       "      <td>300.0</td>\n",
       "      <td>8.0</td>\n",
       "      <td>NaN</td>\n",
       "      <td>NaN</td>\n",
       "      <td>1740.0</td>\n",
       "      <td>9600</td>\n",
       "      <td>NaN</td>\n",
       "    </tr>\n",
       "    <tr>\n",
       "      <th>11</th>\n",
       "      <td>E 80/38/20 N95</td>\n",
       "      <td>388.0</td>\n",
       "      <td>184.0</td>\n",
       "      <td>71800</td>\n",
       "      <td>330.0</td>\n",
       "      <td>8.0</td>\n",
       "      <td>NaN</td>\n",
       "      <td>NaN</td>\n",
       "      <td>1680.0</td>\n",
       "      <td>4500</td>\n",
       "      <td>4.33</td>\n",
       "    </tr>\n",
       "  </tbody>\n",
       "</table>\n",
       "</div>"
      ],
      "text/plain": [
       "                                    core  Aemin(mm2)  Le(mm)  Ve(mm3)  \\\n",
       "0                         E64/10/50-3C95       519.0    79.9    40700   \n",
       "1        ELP 43/10/28 with I 43/4/28 N87       217.0    50.8    11430   \n",
       "2        ELP 64/10/50 with I 64/5/50 N87       512.0    69.7    36200   \n",
       "3     ELP 64/10/50 with ELP 64/10/50 N95       518.0    79.9    41500   \n",
       "4     ELP 64/10/50 with ELP 64/10/50 N87       518.0    79.9    41500   \n",
       "5            E64/10/50 + PLT64/50/5 3C95       519.0    69.7    35500   \n",
       "6                   ER64/13/51-3C92 3C95       507.0    93.0    52600   \n",
       "7                         E100/60/28 N87       690.0   274.0   201390   \n",
       "8   ELP 102/20/38 with ELP 102/20/38 N87       524.5   147.6    79410   \n",
       "9   ELP 102/20/38 with ELP 102/20/38 N97       524.5   147.6    79410   \n",
       "10     ELP 102/20/38 with I 102/7/38 N97       534.2   121.2    67745   \n",
       "11                        E 80/38/20 N95       388.0   184.0    71800   \n",
       "\n",
       "    Bsat mT  Loss (W/set)     K1     K2      µe  Al(nH)  price by set   \n",
       "0     330.0          20.0    NaN    NaN     NaN   17000          11.05  \n",
       "1     350.0           7.8  390.0 -0.784  1480.0     850           2.61  \n",
       "2     300.0           4.8  835.0 -0.790  1450.0   14000            NaN  \n",
       "3     320.0           5.1    NaN    NaN  1880.0   15500          14.52  \n",
       "4     300.0           5.5  820.0 -0.767  1490.0   12500          11.27  \n",
       "5     330.0          17.0    NaN    NaN     NaN   18500            NaN  \n",
       "6     330.0          25.0    NaN    NaN     NaN   17100          19.62  \n",
       "7     300.0           4.7    NaN    NaN  1930.0    6500          17.40  \n",
       "8     300.0          11.0    NaN    NaN  1790.0    8200          12.88  \n",
       "9     300.0           9.7    NaN    NaN  1855.0    8500          14.07  \n",
       "10    300.0           8.0    NaN    NaN  1740.0    9600            NaN  \n",
       "11    330.0           8.0    NaN    NaN  1680.0    4500           4.33  "
      ]
     },
     "execution_count": 240,
     "metadata": {},
     "output_type": "execute_result"
    }
   ],
   "source": [
    "dfcores = pd.read_csv(\"03_data/FerriteCores.csv\",sep=\";\").iloc[:,:-3]\n",
    "\n",
    "mask  = dfcores[\"Bsat mT\"].isna()\n",
    "dfcores.loc[mask, \"Bsat mT\"] = 300\n",
    "dfcores"
   ]
  },
  {
   "cell_type": "markdown",
   "id": "1eaaf28d-8dae-4180-bb80-254899aeb3f5",
   "metadata": {},
   "source": [
    "The table below shows the calculated saturation current and air gap of each core."
   ]
  },
  {
   "cell_type": "code",
   "execution_count": 241,
   "id": "f0dbf694-105f-44e2-819b-c8b4aa4f3a9d",
   "metadata": {},
   "outputs": [
    {
     "data": {
      "text/html": [
       "<div>\n",
       "<style scoped>\n",
       "    .dataframe tbody tr th:only-of-type {\n",
       "        vertical-align: middle;\n",
       "    }\n",
       "\n",
       "    .dataframe tbody tr th {\n",
       "        vertical-align: top;\n",
       "    }\n",
       "\n",
       "    .dataframe thead th {\n",
       "        text-align: right;\n",
       "    }\n",
       "</style>\n",
       "<table border=\"1\" class=\"dataframe\">\n",
       "  <thead>\n",
       "    <tr style=\"text-align: right;\">\n",
       "      <th></th>\n",
       "      <th>core</th>\n",
       "      <th>Im_sat</th>\n",
       "      <th>l_g</th>\n",
       "    </tr>\n",
       "  </thead>\n",
       "  <tbody>\n",
       "    <tr>\n",
       "      <th>0</th>\n",
       "      <td>E64/10/50-3C95</td>\n",
       "      <td>NaN</td>\n",
       "      <td>NaN</td>\n",
       "    </tr>\n",
       "    <tr>\n",
       "      <th>1</th>\n",
       "      <td>ELP 43/10/28 with I 43/4/28 N87</td>\n",
       "      <td>4.645828</td>\n",
       "      <td>0.032397</td>\n",
       "    </tr>\n",
       "    <tr>\n",
       "      <th>2</th>\n",
       "      <td>ELP 64/10/50 with I 64/5/50 N87</td>\n",
       "      <td>9.395645</td>\n",
       "      <td>0.109357</td>\n",
       "    </tr>\n",
       "    <tr>\n",
       "      <th>3</th>\n",
       "      <td>ELP 64/10/50 with ELP 64/10/50 N95</td>\n",
       "      <td>10.139467</td>\n",
       "      <td>0.116770</td>\n",
       "    </tr>\n",
       "    <tr>\n",
       "      <th>4</th>\n",
       "      <td>ELP 64/10/50 with ELP 64/10/50 N87</td>\n",
       "      <td>9.505750</td>\n",
       "      <td>0.105646</td>\n",
       "    </tr>\n",
       "    <tr>\n",
       "      <th>5</th>\n",
       "      <td>E64/10/50 + PLT64/50/5 3C95</td>\n",
       "      <td>NaN</td>\n",
       "      <td>NaN</td>\n",
       "    </tr>\n",
       "    <tr>\n",
       "      <th>6</th>\n",
       "      <td>ER64/13/51-3C92 3C95</td>\n",
       "      <td>NaN</td>\n",
       "      <td>NaN</td>\n",
       "    </tr>\n",
       "    <tr>\n",
       "      <th>7</th>\n",
       "      <td>E100/60/28 N87</td>\n",
       "      <td>12.662099</td>\n",
       "      <td>0.070187</td>\n",
       "    </tr>\n",
       "    <tr>\n",
       "      <th>8</th>\n",
       "      <td>ELP 102/20/38 with ELP 102/20/38 N87</td>\n",
       "      <td>9.625031</td>\n",
       "      <td>0.078811</td>\n",
       "    </tr>\n",
       "    <tr>\n",
       "      <th>9</th>\n",
       "      <td>ELP 102/20/38 with ELP 102/20/38 N97</td>\n",
       "      <td>9.625031</td>\n",
       "      <td>0.081700</td>\n",
       "    </tr>\n",
       "    <tr>\n",
       "      <th>10</th>\n",
       "      <td>ELP 102/20/38 with I 102/7/38 N97</td>\n",
       "      <td>9.803034</td>\n",
       "      <td>0.094596</td>\n",
       "    </tr>\n",
       "    <tr>\n",
       "      <th>11</th>\n",
       "      <td>E 80/38/20 N95</td>\n",
       "      <td>7.832151</td>\n",
       "      <td>0.009775</td>\n",
       "    </tr>\n",
       "  </tbody>\n",
       "</table>\n",
       "</div>"
      ],
      "text/plain": [
       "                                    core     Im_sat       l_g\n",
       "0                         E64/10/50-3C95        NaN       NaN\n",
       "1        ELP 43/10/28 with I 43/4/28 N87   4.645828  0.032397\n",
       "2        ELP 64/10/50 with I 64/5/50 N87   9.395645  0.109357\n",
       "3     ELP 64/10/50 with ELP 64/10/50 N95  10.139467  0.116770\n",
       "4     ELP 64/10/50 with ELP 64/10/50 N87   9.505750  0.105646\n",
       "5            E64/10/50 + PLT64/50/5 3C95        NaN       NaN\n",
       "6                   ER64/13/51-3C92 3C95        NaN       NaN\n",
       "7                         E100/60/28 N87  12.662099  0.070187\n",
       "8   ELP 102/20/38 with ELP 102/20/38 N87   9.625031  0.078811\n",
       "9   ELP 102/20/38 with ELP 102/20/38 N97   9.625031  0.081700\n",
       "10     ELP 102/20/38 with I 102/7/38 N97   9.803034  0.094596\n",
       "11                        E 80/38/20 N95   7.832151  0.009775"
      ]
     },
     "execution_count": 241,
     "metadata": {},
     "output_type": "execute_result"
    }
   ],
   "source": [
    "arr=[]\n",
    "for i in range(len(dfcores)):\n",
    "    mu_0 = 4*pi *1e-7 # H m−1 \n",
    "    A_e = dfcores.loc[i, \"Aemin(mm2)\"]\n",
    "    l_e = dfcores.loc[i, \"Le(mm)\"]\n",
    "    B_sat = dfcores.loc[i, \"Bsat mT\"]\n",
    "    mu_r = dfcores.loc[i, \"µe\"]\n",
    "    #dfcores.loc[i, \"Al(nH)\"]\n",
    "    K1 = dfcores.loc[i, \"K1\"]\n",
    "    K2 = dfcores.loc[i, \"K2\"]\n",
    "    core = dfcores.loc[i, \"core\"]\n",
    "\n",
    "\n",
    "    Ae= A_e*1e-6 # m2\n",
    "    le=l_e*1e-3 # m\n",
    "    l_g = (mu_0*n**2*Ae)/Lm -le/mu_r\n",
    "    lg = l_g*1e3\n",
    "    l_g= lg\n",
    "    \n",
    "    \n",
    "    mu_e = (l_e+l_g)/(l_g+l_e/mu_r)\n",
    "    R_core = l_e/(mu_0*mu_r*A_e)\n",
    "    R_gap = l_g/(mu_0*A_e)\n",
    "    R_tot= R_core+R_gap\n",
    "    R_tot_2= (l_g+l_e)/(mu_0*mu_e*A_e)# Using µe\n",
    "    \n",
    "    \n",
    "    Im_sat= B_sat*Ae*(R_core+R_gap)/n # A\n",
    "\n",
    "    arr.append({\"core\": core,\"Im_sat\": Im_sat,  \"l_g\":l_g})\n",
    "res =pd.DataFrame(arr)\n",
    "res"
   ]
  },
  {
   "cell_type": "markdown",
   "id": "2000561e-0a0c-46de-9d45-db69a04a6b4d",
   "metadata": {},
   "source": [
    "And the peak current is: "
   ]
  },
  {
   "cell_type": "code",
   "execution_count": 242,
   "id": "58393c8b-12a2-4784-990a-2c1b73fa2f7a",
   "metadata": {},
   "outputs": [
    {
     "data": {
      "text/latex": [
       "$\n",
       "\\begin{aligned}\n",
       "\\mathrm{Im}_{peak2} &= 7.933 \\; \\;\\textrm{(A)}\n",
       "\\end{aligned}\n",
       "$"
      ],
      "text/plain": [
       "<IPython.core.display.Latex object>"
      ]
     },
     "metadata": {},
     "output_type": "display_data"
    }
   ],
   "source": [
    "%%render \n",
    "Im_peak2  # A"
   ]
  },
  {
   "cell_type": "markdown",
   "id": "0a0d7111-f506-4303-a15f-c44eda86c044",
   "metadata": {},
   "source": [
    "Below are the cores where the peak current is lower than the saturation current."
   ]
  },
  {
   "cell_type": "code",
   "execution_count": null,
   "id": "b6d71128-5e1e-4516-aa36-11f8803f1976",
   "metadata": {},
   "outputs": [],
   "source": []
  },
  {
   "cell_type": "code",
   "execution_count": 243,
   "id": "b696eeef-4c16-444a-b448-ba4a42b7badc",
   "metadata": {},
   "outputs": [
    {
     "data": {
      "text/html": [
       "<div>\n",
       "<style scoped>\n",
       "    .dataframe tbody tr th:only-of-type {\n",
       "        vertical-align: middle;\n",
       "    }\n",
       "\n",
       "    .dataframe tbody tr th {\n",
       "        vertical-align: top;\n",
       "    }\n",
       "\n",
       "    .dataframe thead th {\n",
       "        text-align: right;\n",
       "    }\n",
       "</style>\n",
       "<table border=\"1\" class=\"dataframe\">\n",
       "  <thead>\n",
       "    <tr style=\"text-align: right;\">\n",
       "      <th></th>\n",
       "      <th>core</th>\n",
       "      <th>Im_sat</th>\n",
       "      <th>l_g</th>\n",
       "      <th>I_sat_Margin %</th>\n",
       "    </tr>\n",
       "  </thead>\n",
       "  <tbody>\n",
       "    <tr>\n",
       "      <th>2</th>\n",
       "      <td>ELP 64/10/50 with I 64/5/50 N87</td>\n",
       "      <td>9.395645</td>\n",
       "      <td>0.109357</td>\n",
       "      <td>15.565680</td>\n",
       "    </tr>\n",
       "    <tr>\n",
       "      <th>4</th>\n",
       "      <td>ELP 64/10/50 with ELP 64/10/50 N87</td>\n",
       "      <td>9.505750</td>\n",
       "      <td>0.105646</td>\n",
       "      <td>16.543684</td>\n",
       "    </tr>\n",
       "    <tr>\n",
       "      <th>9</th>\n",
       "      <td>ELP 102/20/38 with ELP 102/20/38 N97</td>\n",
       "      <td>9.625031</td>\n",
       "      <td>0.081700</td>\n",
       "      <td>17.577938</td>\n",
       "    </tr>\n",
       "    <tr>\n",
       "      <th>8</th>\n",
       "      <td>ELP 102/20/38 with ELP 102/20/38 N87</td>\n",
       "      <td>9.625031</td>\n",
       "      <td>0.078811</td>\n",
       "      <td>17.577938</td>\n",
       "    </tr>\n",
       "    <tr>\n",
       "      <th>10</th>\n",
       "      <td>ELP 102/20/38 with I 102/7/38 N97</td>\n",
       "      <td>9.803034</td>\n",
       "      <td>0.094596</td>\n",
       "      <td>19.074557</td>\n",
       "    </tr>\n",
       "    <tr>\n",
       "      <th>3</th>\n",
       "      <td>ELP 64/10/50 with ELP 64/10/50 N95</td>\n",
       "      <td>10.139467</td>\n",
       "      <td>0.116770</td>\n",
       "      <td>21.759704</td>\n",
       "    </tr>\n",
       "    <tr>\n",
       "      <th>7</th>\n",
       "      <td>E100/60/28 N87</td>\n",
       "      <td>12.662099</td>\n",
       "      <td>0.070187</td>\n",
       "      <td>37.347287</td>\n",
       "    </tr>\n",
       "  </tbody>\n",
       "</table>\n",
       "</div>"
      ],
      "text/plain": [
       "                                    core     Im_sat       l_g  I_sat_Margin %\n",
       "2        ELP 64/10/50 with I 64/5/50 N87   9.395645  0.109357       15.565680\n",
       "4     ELP 64/10/50 with ELP 64/10/50 N87   9.505750  0.105646       16.543684\n",
       "9   ELP 102/20/38 with ELP 102/20/38 N97   9.625031  0.081700       17.577938\n",
       "8   ELP 102/20/38 with ELP 102/20/38 N87   9.625031  0.078811       17.577938\n",
       "10     ELP 102/20/38 with I 102/7/38 N97   9.803034  0.094596       19.074557\n",
       "3     ELP 64/10/50 with ELP 64/10/50 N95  10.139467  0.116770       21.759704\n",
       "7                         E100/60/28 N87  12.662099  0.070187       37.347287"
      ]
     },
     "execution_count": 243,
     "metadata": {},
     "output_type": "execute_result"
    }
   ],
   "source": [
    "m= res.Im_sat>Im_peak2\n",
    "dfplot = res[m]\n",
    "dfplot[\"I_sat_Margin %\"]=100*((dfplot[\"Im_sat\"]-Im_peak2 )/dfplot[\"Im_sat\"])\n",
    "dfplot.sort_values(\"I_sat_Margin %\")"
   ]
  },
  {
   "cell_type": "code",
   "execution_count": null,
   "id": "2852e726-2347-4792-92a6-4b3eb794d936",
   "metadata": {},
   "outputs": [],
   "source": []
  },
  {
   "cell_type": "markdown",
   "id": "dba3f853-3cc6-4db9-a225-13df23a97151",
   "metadata": {},
   "source": [
    "`E100/60/28 N87` is not a planar core for pcb transformer. \n",
    "<br> so the choice will be between :\n",
    "`ELP 64/10/50 with ELP 64/10/50 N95` and `ELP 102/20/38 with I 102/7/38 N97`"
   ]
  },
  {
   "cell_type": "markdown",
   "id": "02afabc2-78ac-4a03-8808-5c0511cad8fb",
   "metadata": {},
   "source": [
    "### Choice of the transformer core ELP 64 vs ELP 102"
   ]
  },
  {
   "cell_type": "markdown",
   "id": "12a7beed-a344-4829-9919-9f80b9d9da8e",
   "metadata": {},
   "source": [
    "Below the 2D of cores ELP 64  and ELP 102"
   ]
  },
  {
   "cell_type": "code",
   "execution_count": 244,
   "id": "00c50e88-470d-4c46-9cc8-649d34e066ac",
   "metadata": {},
   "outputs": [
    {
     "data": {
      "text/html": [
       "\n",
       "        <div style=\"display: flex; justify-content: center; width: 100%; gap: 1cm;\">\n",
       "          <div style=\"flex: 1; text-align: center; max-width: 9cm;\">\n",
       "            <img src=\"./02_figs/ELP641050.png\" style=\"width: 100%; height: auto;\">\n",
       "            <div style=\"word-wrap: break-word;\">\n",
       "                <b>Figure 21:</b> ELP 64/10/50 TDK core\n",
       "            </div>\n",
       "          </div>\n",
       "          <div style=\"flex: 1; text-align: center; max-width: 9cm;\">\n",
       "            <img src=\"./02_figs/ELP1022050.png\" style=\"width: 100%; height: auto;\">\n",
       "            <div style=\"word-wrap: break-word;\">\n",
       "                <b>Figure 22:</b> ELP 102/20/38 TDK core\n",
       "            </div>\n",
       "          </div>\n",
       "        </div>\n",
       "        <br>\n",
       "        "
      ],
      "text/plain": [
       "<IPython.core.display.HTML object>"
      ]
     },
     "metadata": {},
     "output_type": "display_data"
    }
   ],
   "source": [
    "first_part_path = \"./02_figs/\"\n",
    "\n",
    "fig_counter = show_figure_pair_with_captions(\n",
    "    fig_counter, \n",
    "    \"ELP641050.png\",\n",
    "    \"ELP 64/10/50 TDK core\",\n",
    "    \"ELP1022050.png\",\n",
    "    \"ELP 102/20/38 TDK core\", \n",
    "    first_part_path= first_part_path, \n",
    ")"
   ]
  },
  {
   "cell_type": "code",
   "execution_count": 245,
   "id": "c3e6c515-5d37-42df-a14a-8b69ce7b2187",
   "metadata": {},
   "outputs": [],
   "source": [
    "def ipc2221current(wmm, thicknessum, DT= 30, kind = \"outer\"):\n",
    "  wmil =wmm /0.0254\n",
    "    # mm to milis, converting thickness in micrometers (µm) to mils (thousandths of an inch).\n",
    "    # 1 mil=0.001 inch\n",
    "    # 1 inch = 25.4 mm= 25400 um\n",
    "  thmil = thicknessum /(0.0254*1000)\n",
    "  areamils = wmil*thmil\n",
    "  #print2(areamils)\n",
    "  if kind ==\"outer\":\n",
    "    k = 0.048\n",
    "  if kind ==\"inner\":\n",
    "    k = 0.024\n",
    "  I = k*(DT**0.44) *(areamils**0.725)\n",
    "  return I"
   ]
  },
  {
   "cell_type": "code",
   "execution_count": null,
   "id": "cde4a1fa-526e-460b-92a8-f377084596aa",
   "metadata": {},
   "outputs": [],
   "source": []
  },
  {
   "cell_type": "markdown",
   "id": "4392846f-bfd4-47c5-b630-7a6b9023aa51",
   "metadata": {},
   "source": [
    "Below some dimensions of ELP 102 and ELP 64 and a figure show the PCB trace and the margin of a PCB layer"
   ]
  },
  {
   "cell_type": "code",
   "execution_count": null,
   "id": "d49f155c-57b7-4743-b5d1-997d080d2d04",
   "metadata": {},
   "outputs": [],
   "source": []
  },
  {
   "cell_type": "code",
   "execution_count": null,
   "id": "266a0c67-eb3e-4d0c-8779-7ff520e5fabe",
   "metadata": {},
   "outputs": [],
   "source": []
  },
  {
   "cell_type": "markdown",
   "id": "98089812-5ab4-4692-8f9c-55dab0dd8bd8",
   "metadata": {},
   "source": []
  },
  {
   "cell_type": "code",
   "execution_count": 246,
   "id": "e807f65d-10fd-4c49-ac3b-5f6ff10f6107",
   "metadata": {},
   "outputs": [
    {
     "data": {
      "text/html": [
       "<div>\n",
       "<style scoped>\n",
       "    .dataframe tbody tr th:only-of-type {\n",
       "        vertical-align: middle;\n",
       "    }\n",
       "\n",
       "    .dataframe tbody tr th {\n",
       "        vertical-align: top;\n",
       "    }\n",
       "\n",
       "    .dataframe thead th {\n",
       "        text-align: right;\n",
       "    }\n",
       "</style>\n",
       "<table border=\"1\" class=\"dataframe\">\n",
       "  <thead>\n",
       "    <tr style=\"text-align: right;\">\n",
       "      <th></th>\n",
       "      <th>core</th>\n",
       "      <th>E</th>\n",
       "      <th>F</th>\n",
       "      <th>Margin</th>\n",
       "    </tr>\n",
       "  </thead>\n",
       "  <tbody>\n",
       "    <tr>\n",
       "      <th>0</th>\n",
       "      <td>ELP 102</td>\n",
       "      <td>86.0</td>\n",
       "      <td>14.0</td>\n",
       "      <td>4</td>\n",
       "    </tr>\n",
       "    <tr>\n",
       "      <th>1</th>\n",
       "      <td>ELP 64</td>\n",
       "      <td>53.6</td>\n",
       "      <td>10.2</td>\n",
       "      <td>4</td>\n",
       "    </tr>\n",
       "  </tbody>\n",
       "</table>\n",
       "</div>"
      ],
      "text/plain": [
       "      core     E     F  Margin\n",
       "0  ELP 102  86.0  14.0       4\n",
       "1   ELP 64  53.6  10.2       4"
      ]
     },
     "execution_count": 246,
     "metadata": {},
     "output_type": "execute_result"
    }
   ],
   "source": [
    "df = pd.DataFrame([\n",
    "    { \"core\":\"ELP 102\",\"E\":86,\"F\":14,\"Margin\":4},\n",
    "    { \"core\":\"ELP 64\",\"E\":53.6,\"F\":10.2,\"Margin\":4}\n",
    "])\n",
    "df"
   ]
  },
  {
   "cell_type": "code",
   "execution_count": 247,
   "id": "95ab720c-c6d3-4354-9219-89ee2b2c6761",
   "metadata": {},
   "outputs": [
    {
     "data": {
      "text/html": [
       "\n",
       "        <div style=\"display: flex; justify-content: center; width: 100%; gap: 1cm;\">\n",
       "          <div style=\"flex: 1; text-align: center; max-width: 9cm;\">\n",
       "            <img src=\"./02_figs/ELP_cores.png\" style=\"width: 100%; height: auto;\">\n",
       "            <div style=\"word-wrap: break-word;\">\n",
       "                <b>Figure 23:</b> ELP set, TDK, some mechanical dimensions\n",
       "            </div>\n",
       "          </div>\n",
       "          <div style=\"flex: 1; text-align: center; max-width: 9cm;\">\n",
       "            <img src=\"./02_figs/copperTrace.png\" style=\"width: 100%; height: auto;\">\n",
       "            <div style=\"word-wrap: break-word;\">\n",
       "                <b>Figure 24:</b> ELP PCB trace (one PCB layer)\n",
       "            </div>\n",
       "          </div>\n",
       "        </div>\n",
       "        <br>\n",
       "        "
      ],
      "text/plain": [
       "<IPython.core.display.HTML object>"
      ]
     },
     "metadata": {},
     "output_type": "display_data"
    }
   ],
   "source": [
    "\n",
    "\n",
    "first_part_path = \"./02_figs/\"\n",
    "\n",
    "fig_counter = show_figure_pair_with_captions(\n",
    "    fig_counter, \n",
    "    \"ELP_cores.png\",\n",
    "    \"ELP set, TDK, some mechanical dimensions\",\n",
    "    \"copperTrace.png\",\n",
    "    \"ELP PCB trace (one PCB layer)\", \n",
    "    first_part_path= first_part_path, \n",
    ")\n"
   ]
  },
  {
   "cell_type": "markdown",
   "id": "95000fa7-5467-4843-944b-869f7e483f97",
   "metadata": {},
   "source": [
    "See page 2 [\\[4\\]](#referencesID125)."
   ]
  },
  {
   "cell_type": "markdown",
   "id": "9b3297d3-e421-4ae5-9734-009c1af4d74c",
   "metadata": {},
   "source": [
    "We will use the below formula to calculate the maximum alowed current for pcb trace"
   ]
  },
  {
   "cell_type": "code",
   "execution_count": 248,
   "id": "0850eebe-51a4-458e-aab0-12b57349c0f7",
   "metadata": {},
   "outputs": [
    {
     "data": {
      "text/html": [
       "\n",
       "    <div style=\"width: 100%; text-align: center;\">\n",
       "        <img src=\"./02_figs/CurrentFormula.png\" style=\"max-width: 100%; width: 10cm; height: auto;\">\n",
       "        <div style=\"max-width: 100%; word-wrap: break-word;\">\n",
       "            <b>Figure 25:</b> ELP set, TDK, some mechanical dimensions\n",
       "        </div>\n",
       "    </div>\n",
       "    <br>\n",
       "    "
      ],
      "text/plain": [
       "<IPython.core.display.HTML object>"
      ]
     },
     "metadata": {},
     "output_type": "display_data"
    }
   ],
   "source": [
    "fig_counter =  One_figure_with_captions(fig_counter,\n",
    "                                        img1=\"CurrentFormula.png\", \n",
    "                                        caption1=\"ELP set, TDK, some mechanical dimensions\", \n",
    "                                        first_part_path=\"./02_figs/\", \n",
    "                                        width=10)"
   ]
  },
  {
   "cell_type": "markdown",
   "id": "9aa5ef80-5d35-4280-b1de-f2f41a87dde1",
   "metadata": {},
   "source": [
    "See page 50 [\\[5\\]](#referencesID126)."
   ]
  },
  {
   "cell_type": "markdown",
   "id": "2bf66e92-5093-431e-9de7-21fc620250aa",
   "metadata": {},
   "source": [
    "In general, PCB copper is specified in ounces (oz). This can be converted to thickness using a simple formulas as below:"
   ]
  },
  {
   "cell_type": "code",
   "execution_count": 249,
   "id": "ac82e0e1-24f5-41e4-9ae6-c80c8c8a4ee7",
   "metadata": {},
   "outputs": [
    {
     "data": {
      "text/latex": [
       "$\n",
       "\\begin{aligned}\n",
       "M_{density} &= 2 \\; \\;\\textrm{(oz/ft2, PCB layer surface mass density)}\n",
       "\\\\[10pt]\n",
       "M_{density2} &= M_{density} \\cdot 28.3495  = 2 \\cdot 28.3495 &= 56.699 \\; \\;\\textrm{(g/ft2 (1 oz = 28.3495g))}\n",
       "\\\\[10pt]\n",
       "M_{density3} &= \\frac{ M_{density2} }{ \\left( 30.48 \\right) ^{ 2 } }  = \\frac{ 56.699 }{ \\left( 30.48 \\right) ^{ 2 } } &= 0.061 \\; \\;\\textrm{(g/cm2 (1ft = 30,48 cm))}\n",
       "\\\\[10pt]\n",
       "\\mathrm{Thickness}_{cm} &= \\frac{ M_{density3} }{ 8.96 }  = \\frac{ 0.061 }{ 8.96 } &= 0.007 \\; \\;\\textrm{(cm, copper density 8,96 g/cm³)}\n",
       "\\\\[10pt]\n",
       "\\mathrm{Thickness}_{um} &= \\mathrm{Thickness}_{cm} \\cdot 1 \\times 10 ^ {4}  = 0.007 \\cdot 1 \\times 10 ^ {4} &= 68.114 \\; \\;\\textrm{(µm)}\n",
       "\\end{aligned}\n",
       "$"
      ],
      "text/plain": [
       "<IPython.core.display.Latex object>"
      ]
     },
     "metadata": {},
     "output_type": "display_data"
    }
   ],
   "source": [
    "%%render \n",
    "M_density = 2 # oz/ft2, PCB layer surface mass density\n",
    "M_density2= M_density*28.3495 # g/ft2 (1 oz = 28.3495g)\n",
    "M_density3= M_density2/30.48**2 # g/cm2 (1ft = 30,48 cm)\n",
    "Thickness_cm = M_density3/8.96 # cm, copper density 8,96 g/cm³ \n",
    "Thickness_um =Thickness_cm*1e4 # µm"
   ]
  },
  {
   "cell_type": "markdown",
   "id": "34f99d0d-6a5a-4fb1-9bf3-480f3a343358",
   "metadata": {},
   "source": [
    "The following table summarizes all results for ELP 102 compared to ELP 64, for both outer and inner layers (Copper layer of 2 oz/ft²), and delta Temp = 30°C "
   ]
  },
  {
   "cell_type": "code",
   "execution_count": 253,
   "id": "dd80f86e-bed6-4026-82aa-0ac36b7249bd",
   "metadata": {},
   "outputs": [
    {
     "data": {
      "text/html": [
       "<div>\n",
       "<style scoped>\n",
       "    .dataframe tbody tr th:only-of-type {\n",
       "        vertical-align: middle;\n",
       "    }\n",
       "\n",
       "    .dataframe tbody tr th {\n",
       "        vertical-align: top;\n",
       "    }\n",
       "\n",
       "    .dataframe thead th {\n",
       "        text-align: right;\n",
       "    }\n",
       "</style>\n",
       "<table border=\"1\" class=\"dataframe\">\n",
       "  <thead>\n",
       "    <tr style=\"text-align: right;\">\n",
       "      <th></th>\n",
       "      <th>core</th>\n",
       "      <th>E</th>\n",
       "      <th>F</th>\n",
       "      <th>Margin</th>\n",
       "      <th>kind</th>\n",
       "      <th>wmm</th>\n",
       "      <th>Current</th>\n",
       "    </tr>\n",
       "  </thead>\n",
       "  <tbody>\n",
       "    <tr>\n",
       "      <th>0</th>\n",
       "      <td>ELP 102</td>\n",
       "      <td>86.0</td>\n",
       "      <td>14.0</td>\n",
       "      <td>4</td>\n",
       "      <td>outer</td>\n",
       "      <td>28.0</td>\n",
       "      <td>71.787917</td>\n",
       "    </tr>\n",
       "    <tr>\n",
       "      <th>1</th>\n",
       "      <td>ELP 102</td>\n",
       "      <td>86.0</td>\n",
       "      <td>14.0</td>\n",
       "      <td>4</td>\n",
       "      <td>inner</td>\n",
       "      <td>28.0</td>\n",
       "      <td>35.893959</td>\n",
       "    </tr>\n",
       "    <tr>\n",
       "      <th>2</th>\n",
       "      <td>ELP 64</td>\n",
       "      <td>53.6</td>\n",
       "      <td>10.2</td>\n",
       "      <td>4</td>\n",
       "      <td>outer</td>\n",
       "      <td>13.7</td>\n",
       "      <td>42.754732</td>\n",
       "    </tr>\n",
       "    <tr>\n",
       "      <th>3</th>\n",
       "      <td>ELP 64</td>\n",
       "      <td>53.6</td>\n",
       "      <td>10.2</td>\n",
       "      <td>4</td>\n",
       "      <td>inner</td>\n",
       "      <td>13.7</td>\n",
       "      <td>21.377366</td>\n",
       "    </tr>\n",
       "  </tbody>\n",
       "</table>\n",
       "</div>"
      ],
      "text/plain": [
       "      core     E     F  Margin   kind   wmm    Current\n",
       "0  ELP 102  86.0  14.0       4  outer  28.0  71.787917\n",
       "1  ELP 102  86.0  14.0       4  inner  28.0  35.893959\n",
       "2   ELP 64  53.6  10.2       4  outer  13.7  42.754732\n",
       "3   ELP 64  53.6  10.2       4  inner  13.7  21.377366"
      ]
     },
     "execution_count": 253,
     "metadata": {},
     "output_type": "execute_result"
    }
   ],
   "source": [
    "DT= 30\n",
    "thicknessum = 70 # 2.0 oz ==> 70.00 µm\n",
    "arr = []\n",
    "for i in range(len(df)):\n",
    "    for kind_ in [\"outer\", \"inner\"]:\n",
    "        dic = df.iloc[i].to_dict()\n",
    "        dic[\"kind\"]= kind_\n",
    "        core = dic[\"core\"]\n",
    "        a= (dic [\"E\"]-dic [\"F\"])/2\n",
    "        b= a-2*dic['Margin']\n",
    "        wmm= (b) # mm\n",
    "        dic[\"wmm\"]=wmm\n",
    "        I = ipc2221current(wmm, thicknessum, DT= 30, kind = kind_)\n",
    "        dic[\"Current\"]= I\n",
    "        arr.append(dic)\n",
    "pd.DataFrame(arr)"
   ]
  },
  {
   "cell_type": "markdown",
   "id": "8c2cb4da-041a-498b-a8e7-78e21e51ab1a",
   "metadata": {},
   "source": [
    "The ELP 102 allows higher current due to its larger width, so we will choose this core. To minimize core losses, we will adopt N97 or N95 material.\n",
    "\n",
    "Below is an example of an ELP/I 102 pair; the transformer cost will be around 24€."
   ]
  },
  {
   "cell_type": "code",
   "execution_count": 156,
   "id": "768498c9-5fdb-4a69-b680-063dd1237600",
   "metadata": {},
   "outputs": [
    {
     "data": {
      "text/html": [
       "\n",
       "    <div style=\"width: 100%; text-align: center;\">\n",
       "        <img src=\"./02_figs/ELP102mouser.png\" style=\"max-width: 100%; width: 18cm; height: auto;\">\n",
       "        <div style=\"max-width: 100%; word-wrap: break-word;\">\n",
       "            <b>Figure 8:</b> Mouser, TDK, I 102/7/38 N97, B66297G0000X197\n",
       "        </div>\n",
       "    </div>\n",
       "    <br>\n",
       "    "
      ],
      "text/plain": [
       "<IPython.core.display.HTML object>"
      ]
     },
     "metadata": {},
     "output_type": "display_data"
    },
    {
     "data": {
      "text/html": [
       "\n",
       "    <div style=\"width: 100%; text-align: center;\">\n",
       "        <img src=\"./02_figs/I102mouser.png\" style=\"max-width: 100%; width: 18cm; height: auto;\">\n",
       "        <div style=\"max-width: 100%; word-wrap: break-word;\">\n",
       "            <b>Figure 9:</b> Mouser, TDK, I 102/7/38 N97, B66297K0000X197\n",
       "        </div>\n",
       "    </div>\n",
       "    <br>\n",
       "    "
      ],
      "text/plain": [
       "<IPython.core.display.HTML object>"
      ]
     },
     "metadata": {},
     "output_type": "display_data"
    }
   ],
   "source": [
    "fig_counter =  One_figure_with_captions(fig_counter,\n",
    "                                        img1=\"ELP102mouser.png\", \n",
    "                                        caption1=\"Mouser, TDK, I 102/7/38 N97, B66297G0000X197\",\n",
    "                                        first_part_path=\"./02_figs/\", \n",
    "                                        width=18)\n",
    "fig_counter =  One_figure_with_captions(fig_counter,\n",
    "                                        img1=\"I102mouser.png\", \n",
    "                                        caption1=\"Mouser, TDK, I 102/7/38 N97, B66297K0000X197\", \n",
    "                                        first_part_path=\"./02_figs/\", \n",
    "                                        width=18)\n",
    "\n",
    "\n"
   ]
  },
  {
   "cell_type": "raw",
   "id": "e3f54774-6cf7-4216-80d9-107d8de97efd",
   "metadata": {},
   "source": [
    "**Below the datasheet of each studied core**"
   ]
  },
  {
   "cell_type": "raw",
   "id": "4f3888a7-9104-43f5-a274-70eeb0fbcf5e",
   "metadata": {},
   "source": [
    "#dfcores = pd.read_csv(\"FerriteCores.csv\",sep=\";\")\n",
    "dfcores = pd.read_csv(\"03_data/FerriteCores.csv\",sep=\";\")\n",
    "names = dfcores[\"core\"].values\n",
    "i = 0 \n",
    "for x in dfcores[ 'link to  the datasheet '].dropna().drop_duplicates().values:\n",
    "    print(names[i])\n",
    "    i=i+1\n",
    "    print(x)"
   ]
  },
  {
   "cell_type": "markdown",
   "id": "dbbcfec0-b869-47c0-ac27-cae3b5835049",
   "metadata": {},
   "source": [
    "## Lr design "
   ]
  },
  {
   "cell_type": "markdown",
   "id": "4795f2c0-3c69-45ab-baf6-d2afc90ac7af",
   "metadata": {},
   "source": [
    "**The input data**"
   ]
  },
  {
   "cell_type": "code",
   "execution_count": 157,
   "id": "5fd0bf44-895b-467c-8b0e-ef5a690b2230",
   "metadata": {
    "scrolled": true
   },
   "outputs": [],
   "source": [
    "params = ['Lr_uH', 'fsw_min', 'fsw_max', 'Ir_rms']\n",
    "\n",
    "dic_Lr= {x:out_datas[x] for x in params}\n",
    "#print(\"Transormer parameters:\")\n",
    "#display(dic_Lr)"
   ]
  },
  {
   "cell_type": "code",
   "execution_count": 158,
   "id": "daf324fd-f945-4dce-8848-23bc60f7fb1e",
   "metadata": {},
   "outputs": [
    {
     "data": {
      "text/latex": [
       "$\n",
       "\\begin{aligned}\n",
       "\\mathrm{Lr}_{uH} &= 21.797 \\; \\;\\textrm{(µH)}\n",
       "\\\\[10pt]\n",
       "\\mathrm{Ir}_{rms} &= 10.354 \\; \\;\\textrm{(Arms)}\n",
       "\\end{aligned}\n",
       "$"
      ],
      "text/plain": [
       "<IPython.core.display.Latex object>"
      ]
     },
     "metadata": {},
     "output_type": "display_data"
    }
   ],
   "source": [
    "%%render \n",
    "Lr_uH # µH\n",
    "Ir_rms # Arms"
   ]
  },
  {
   "cell_type": "markdown",
   "id": "65f6f823-7f09-4746-9524-1ee75f0c8bdd",
   "metadata": {},
   "source": [
    "**Relationship Between Inductance Ratio and Number of Turns**"
   ]
  },
  {
   "cell_type": "code",
   "execution_count": 159,
   "id": "942cbeb6-c78a-4090-86fd-3ea85c66eb4e",
   "metadata": {},
   "outputs": [
    {
     "data": {
      "text/html": [
       "<div>\n",
       "<style scoped>\n",
       "    .dataframe tbody tr th:only-of-type {\n",
       "        vertical-align: middle;\n",
       "    }\n",
       "\n",
       "    .dataframe tbody tr th {\n",
       "        vertical-align: top;\n",
       "    }\n",
       "\n",
       "    .dataframe thead th {\n",
       "        text-align: right;\n",
       "    }\n",
       "</style>\n",
       "<table border=\"1\" class=\"dataframe\">\n",
       "  <thead>\n",
       "    <tr style=\"text-align: right;\">\n",
       "      <th></th>\n",
       "      <th>Nb</th>\n",
       "      <th>Al_nH</th>\n",
       "    </tr>\n",
       "  </thead>\n",
       "  <tbody>\n",
       "    <tr>\n",
       "      <th>0</th>\n",
       "      <td>1.0</td>\n",
       "      <td>21797.000000</td>\n",
       "    </tr>\n",
       "    <tr>\n",
       "      <th>1</th>\n",
       "      <td>2.0</td>\n",
       "      <td>5449.250000</td>\n",
       "    </tr>\n",
       "    <tr>\n",
       "      <th>2</th>\n",
       "      <td>3.0</td>\n",
       "      <td>2421.888889</td>\n",
       "    </tr>\n",
       "    <tr>\n",
       "      <th>3</th>\n",
       "      <td>4.0</td>\n",
       "      <td>1362.312500</td>\n",
       "    </tr>\n",
       "    <tr>\n",
       "      <th>4</th>\n",
       "      <td>5.0</td>\n",
       "      <td>871.880000</td>\n",
       "    </tr>\n",
       "    <tr>\n",
       "      <th>5</th>\n",
       "      <td>6.0</td>\n",
       "      <td>605.472222</td>\n",
       "    </tr>\n",
       "    <tr>\n",
       "      <th>6</th>\n",
       "      <td>7.0</td>\n",
       "      <td>444.836735</td>\n",
       "    </tr>\n",
       "    <tr>\n",
       "      <th>7</th>\n",
       "      <td>8.0</td>\n",
       "      <td>340.578125</td>\n",
       "    </tr>\n",
       "    <tr>\n",
       "      <th>8</th>\n",
       "      <td>9.0</td>\n",
       "      <td>269.098765</td>\n",
       "    </tr>\n",
       "  </tbody>\n",
       "</table>\n",
       "</div>"
      ],
      "text/plain": [
       "    Nb         Al_nH\n",
       "0  1.0  21797.000000\n",
       "1  2.0   5449.250000\n",
       "2  3.0   2421.888889\n",
       "3  4.0   1362.312500\n",
       "4  5.0    871.880000\n",
       "5  6.0    605.472222\n",
       "6  7.0    444.836735\n",
       "7  8.0    340.578125\n",
       "8  9.0    269.098765"
      ]
     },
     "execution_count": 159,
     "metadata": {},
     "output_type": "execute_result"
    }
   ],
   "source": [
    "pd.DataFrame(np.array([list(range(1,10)),\n",
    "                       [1e3*Lr_uH/n**2 for n in range(1,10)]]).T,\n",
    "            columns = [\"Nb\", \"Al_nH\"])"
   ]
  },
  {
   "cell_type": "markdown",
   "id": "d616388f-d610-4af5-b71a-2899dd55e8ca",
   "metadata": {},
   "source": [
    "### 4 turns, one turns by layer"
   ]
  },
  {
   "cell_type": "markdown",
   "id": "943e6f24-c5fb-4633-a753-30e65aa3295d",
   "metadata": {},
   "source": [
    "#### alculation Using the ELP 58/11/38 Core"
   ]
  },
  {
   "cell_type": "markdown",
   "id": "e976dfb8-85ca-42bd-934a-4d0d5eb7f9d2",
   "metadata": {},
   "source": [
    "**Datasgeet information**"
   ]
  },
  {
   "cell_type": "code",
   "execution_count": 171,
   "id": "2e3b6be7-1651-4715-a9e0-6584b35c1d73",
   "metadata": {},
   "outputs": [
    {
     "data": {
      "text/latex": [
       "$\n",
       "\\begin{aligned}\n",
       "\\mathrm{core} &= \\mathrm{ELP 58/11/38}\\ with \\ I 58/4/38 N87 \\; \n",
       "\\\\[10pt]\n",
       "\\mathrm{Aemin} &= 308 \\; \\;\\textrm{(mm2: datasheet)}\n",
       "\\\\[10pt]\n",
       "\\mathrm{Al}_{nH0} &= 8400 \\; \\;\\textrm{(nH: datasheet)}\n",
       "\\\\[10pt]\n",
       "\\mathrm{Le} &= 67.700 \\; \\;\\textrm{(mm: datasheet)}\n",
       "\\\\[10pt]\n",
       "\\mathrm{K1} &= 591 \\; \\;\\textrm{(datasheet)}\n",
       "\\\\[10pt]\n",
       "\\mathrm{K2} &= -0.685 \\; \\;\\textrm{(datasheet)}\n",
       "\\\\[10pt]\n",
       "B_{sat} &= 300 \\; \\;\\textrm{(mT: datasheet)}\n",
       "\\\\[10pt]\n",
       "\\mu_{e} &= 1540 \\; \n",
       "\\\\[10pt]\n",
       "n &= 4 \\; \\;\\textrm{(turns: 4 layers pcb)}\n",
       "\\end{aligned}\n",
       "$"
      ],
      "text/plain": [
       "<IPython.core.display.Latex object>"
      ]
     },
     "metadata": {},
     "output_type": "display_data"
    }
   ],
   "source": [
    "%%render long\n",
    "core = \"ELP 58/11/38__with __I 58/4/38 N87\"\n",
    "Aemin = 308 # mm2: datasheet\n",
    "Al_nH0 = 8400 # nH: datasheet\n",
    "Le= 67.7 # mm: datasheet\n",
    "K1= 591 # datasheet\n",
    "K2= -0.685 # datasheet\n",
    "B_sat = 300 # mT: datasheet\n",
    "mu_e=1540\n",
    "n=4 # turns: 4 layers pcb"
   ]
  },
  {
   "cell_type": "markdown",
   "id": "7275b327-b423-4c4d-a69c-69f6de1a397e",
   "metadata": {},
   "source": [
    "<br><br>**$B_{peak}$ and the margin**"
   ]
  },
  {
   "cell_type": "code",
   "execution_count": 172,
   "id": "fe577e7b-b222-42ec-950c-e8f96b5fe4aa",
   "metadata": {},
   "outputs": [
    {
     "data": {
      "text/latex": [
       "$\n",
       "\\begin{aligned}\n",
       "B_{peak} &= 1 \\times 10 ^ {-3} \\cdot \\mathrm{Lr}_{uH} \\cdot \\sqrt { 2 } \\cdot \\frac{ \\mathrm{Ir}_{rms} }{ n \\cdot \\mathrm{Aemin} \\cdot 1 \\times 10 ^ {-6} } \\\\&= 1 \\times 10 ^ {-3} \\cdot 21.797 \\cdot \\sqrt { 2 } \\cdot \\frac{ 10.354 }{ 4 \\cdot 308 \\cdot 1 \\times 10 ^ {-6} } \\\\&= 259.065 \\; \\;\\textrm{(mT)}\\\\[10pt]\n",
       "\\\\[10pt]\n",
       "B_{margin} &= 100 \\cdot \\frac{ B_{sat} - B_{peak} }{ B_{sat} } \\\\&= 100 \\cdot \\frac{ 300 - 259.065 }{ 300 } \\\\&= 13.645 \\; \\;\\textrm{(\\%)}\\\\[10pt]\n",
       "\\end{aligned}\n",
       "$"
      ],
      "text/plain": [
       "<IPython.core.display.Latex object>"
      ]
     },
     "metadata": {},
     "output_type": "display_data"
    }
   ],
   "source": [
    "%%render long\n",
    "B_peak = 1e-3*Lr_uH*sqrt(2)*Ir_rms/(n*Aemin*1e-6) # mT\n",
    "B_margin = 100*(B_sat-B_peak )/B_sat  # \\%\n"
   ]
  },
  {
   "cell_type": "markdown",
   "id": "af708715-0365-42cc-ac3b-f1d1b210de4a",
   "metadata": {},
   "source": [
    "**The Air Gap Calculated Using the TDK Factors K₁, K₂, and the Simple Formula**"
   ]
  },
  {
   "cell_type": "markdown",
   "id": "02338723-24df-4914-ad6d-a9444959f2e9",
   "metadata": {},
   "source": [
    "TDK empirical formula using K1, K2"
   ]
  },
  {
   "cell_type": "code",
   "execution_count": 173,
   "id": "e5a354a4-0d44-4123-acf4-66d6932b3bab",
   "metadata": {},
   "outputs": [
    {
     "data": {
      "text/latex": [
       "$\n",
       "\\begin{aligned}\n",
       "\\mathrm{Al}_{nH} &= 1 \\times 10 ^ {3} \\cdot \\frac{ \\mathrm{Lr}_{uH} }{ \\left( n \\right) ^{ 2 } }  = 1 \\times 10 ^ {3} \\cdot \\frac{ 21.797 }{ \\left( 4 \\right) ^{ 2 } } &= 1362.312 \\; \\;\\textrm{(nH/turn squared)}\n",
       "\\end{aligned}\n",
       "$"
      ],
      "text/plain": [
       "<IPython.core.display.Latex object>"
      ]
     },
     "metadata": {},
     "output_type": "display_data"
    }
   ],
   "source": [
    "%%render\n",
    "Al_nH= 1e3*Lr_uH/n**2 # nH/turn squared"
   ]
  },
  {
   "cell_type": "code",
   "execution_count": 174,
   "id": "926aa939-563c-4b0a-ac47-f6979723471d",
   "metadata": {},
   "outputs": [
    {
     "data": {
      "text/latex": [
       "$\n",
       "\\begin{aligned}\n",
       "s_{mm} &= \\left( \\frac{ \\mathrm{Al}_{nH} }{ \\mathrm{K1} } \\right) ^{ \\left( \\frac{ 1 }{ \\mathrm{K2} } \\right) }  = \\left( \\frac{ 1362.312 }{ 591 } \\right) ^{ \\left( \\frac{ 1 }{ -0.685 } \\right) } &= 0.295 \\; \\;\\textrm{(mm airgap)}\n",
       "\\end{aligned}\n",
       "$"
      ],
      "text/plain": [
       "<IPython.core.display.Latex object>"
      ]
     },
     "metadata": {},
     "output_type": "display_data"
    }
   ],
   "source": [
    "%%render\n",
    "s_mm= (Al_nH/K1)**(1/K2) # mm airgap "
   ]
  },
  {
   "cell_type": "markdown",
   "id": "d0390213-bcd0-4f1c-9867-073e01d502b8",
   "metadata": {},
   "source": [
    "Simple formula"
   ]
  },
  {
   "cell_type": "code",
   "execution_count": 175,
   "id": "21f2a2b5-0543-40c1-bc30-f972636d8010",
   "metadata": {},
   "outputs": [
    {
     "data": {
      "text/latex": [
       "$\n",
       "\\begin{aligned}\n",
       "\\mathrm{lg}_{mm} &= \\mathrm{Le} \\cdot \\frac{ \\frac{ \\mathrm{Al}_{nH0} }{ \\mathrm{Al}_{nH} } - 1 }{ \\mu_{e} }  = 67.700 \\cdot \\frac{ \\frac{ 8400 }{ 1362.312 } - 1 }{ 1540 } &= 0.227 \\; \\;\\textrm{(mm)}\n",
       "\\end{aligned}\n",
       "$"
      ],
      "text/plain": [
       "<IPython.core.display.Latex object>"
      ]
     },
     "metadata": {},
     "output_type": "display_data"
    }
   ],
   "source": [
    "%%render \n",
    "lg_mm= Le *(Al_nH0/Al_nH-1)/mu_e# mm"
   ]
  },
  {
   "cell_type": "markdown",
   "id": "21071697-ee8a-4ca9-b4c8-aac0d8e54229",
   "metadata": {},
   "source": [
    "We use the TDK empirical formula"
   ]
  },
  {
   "cell_type": "markdown",
   "id": "8b32e908-8b23-4a1a-9029-d5da13d7bc28",
   "metadata": {},
   "source": [
    "#### Gap error effect "
   ]
  },
  {
   "cell_type": "markdown",
   "id": "0d102a6b-c5e0-4efe-abcf-43f651a07451",
   "metadata": {},
   "source": [
    "One case calculation"
   ]
  },
  {
   "cell_type": "code",
   "execution_count": 176,
   "id": "6304ad12-99b0-4c62-97a3-e26286a900b2",
   "metadata": {},
   "outputs": [
    {
     "data": {
      "text/latex": [
       "$\n",
       "\\begin{aligned}\n",
       "s_{nom} &= 0.295 \\; \\;\\textrm{(mm)}\n",
       "\\\\[10pt]\n",
       "\\mathrm{error} &= 10 \\; \\;\\textrm{(\\%)}\n",
       "\\\\[10pt]\n",
       "s_{min} &= s_{nom} \\cdot \\left( 1 - \\frac{ \\mathrm{error} }{ 100 } \\right)  = 0.295 \\cdot \\left( 1 - \\frac{ 10 }{ 100 } \\right) &= 0.266  \n",
       "\\\\[10pt]\n",
       "s_{max} &= s_{nom} \\cdot \\left( 1 + \\frac{ \\mathrm{error} }{ 100 } \\right)  = 0.295 \\cdot \\left( 1 + \\frac{ 10 }{ 100 } \\right) &= 0.325  \n",
       "\\\\[10pt]\n",
       "\\mathrm{Al}_{max} &= \\left( s_{min} \\right) ^{ \\mathrm{K2} } \\cdot \\mathrm{K1}  = \\left( 0.266 \\right) ^{ -0.685 } \\cdot 591 &= 1464.268  \n",
       "\\\\[10pt]\n",
       "\\mathrm{Al}_{min} &= \\left( s_{max} \\right) ^{ \\mathrm{K2} } \\cdot \\mathrm{K1}  = \\left( 0.325 \\right) ^{ -0.685 } \\cdot 591 &= 1276.212  \n",
       "\\\\[10pt]\n",
       "\\mathrm{Al}_{errorP} &= 100 \\cdot \\frac{ \\mathrm{Al}_{max} - \\mathrm{Al}_{nH} }{ \\mathrm{Al}_{nH} }  = 100 \\cdot \\frac{ 1464.268 - 1362.312 }{ 1362.312 } &= 7.484 \\; \\;\\textrm{(\\% of error of nH)}\n",
       "\\\\[10pt]\n",
       "\\mathrm{Al}_{errorN} &= 100 \\cdot \\frac{ \\mathrm{Al}_{min} - \\mathrm{Al}_{nH} }{ \\mathrm{Al}_{nH} }  = 100 \\cdot \\frac{ 1276.212 - 1362.312 }{ 1362.312 } &= -6.320 \\; \\;\\textrm{(\\% of error of nH)}\n",
       "\\end{aligned}\n",
       "$"
      ],
      "text/plain": [
       "<IPython.core.display.Latex object>"
      ]
     },
     "metadata": {},
     "output_type": "display_data"
    }
   ],
   "source": [
    "%%render \n",
    "\n",
    "s_nom = s_mm # mm\n",
    "error=10 # \\%\n",
    "s_min = s_nom*(1-error/100)\n",
    "s_max = s_nom*(1+error/100)\n",
    "Al_max= (s_min**K2)*K1\n",
    "Al_min= (s_max**K2)*K1\n",
    "Al_errorP= 100*(Al_max-Al_nH)/Al_nH # \\% of error of nH\n",
    "Al_errorN= 100*(Al_min-Al_nH)/Al_nH # \\% of error of nH"
   ]
  },
  {
   "cell_type": "markdown",
   "id": "104c68e0-3e99-4e87-9a4e-5e701d0c129a",
   "metadata": {},
   "source": [
    "Curve of air gap error impact for range [-50%, 50%]"
   ]
  },
  {
   "cell_type": "code",
   "execution_count": 177,
   "id": "ea61bcf5-c353-4d15-9882-7dd63b5dcf35",
   "metadata": {},
   "outputs": [
    {
     "data": {
      "image/png": "[encoded data removed]",
      "text/plain": [
       "<Figure size 400x300 with 1 Axes>"
      ]
     },
     "metadata": {},
     "output_type": "display_data"
    }
   ],
   "source": [
    "s_nom = s_mm # mm\n",
    "Al_errorP_arr=[]\n",
    "Al_errorN_arr=[]\n",
    "e_arr=list(np.arange(0,55,5))\n",
    "for error in e_arr:\n",
    "    s_min = s_nom*(1-error/100)\n",
    "    s_max = s_nom*(1+error/100)\n",
    "    Al_max= (s_min**K2)*K1\n",
    "    Al_min= (s_max**K2)*K1\n",
    "    Al_errorP= 100*(Al_max-Al_nH)/Al_nH # \\% of error of nH\n",
    "    Al_errorN= 100*(Al_min-Al_nH)/Al_nH # \\% of error of nH\n",
    "\n",
    "    Al_errorP_arr.append(Al_errorP)\n",
    "    Al_errorN_arr.append(Al_errorN)\n",
    "plt.subplots(figsize=(4,3))\n",
    "plt.plot(e_arr,Al_errorP_arr,\n",
    "         c=\"C9\",label=\"Inductance error\")\n",
    "plt.plot([-50,50],[-50,50],c=\"C7\", \n",
    "         linestyle = 'dotted',label=\"x = y\")\n",
    "\n",
    "plt.plot(-np.array(e_arr),Al_errorN_arr,c=\"C9\") \n",
    "plt.grid(which=\"both\")\n",
    "plt.xlabel(\"Air Gap Target Error (%)\")\n",
    "plt.ylabel(\"Overall Inductance Error (%)\")\n",
    "plt.legend()\n",
    "plt.show()\n"
   ]
  },
  {
   "cell_type": "code",
   "execution_count": null,
   "id": "1d162c6a-cb13-457b-8651-cd5611b8cde3",
   "metadata": {},
   "outputs": [],
   "source": []
  },
  {
   "cell_type": "code",
   "execution_count": null,
   "id": "733cca89-8ca6-4c3b-bad9-50b2cb635a89",
   "metadata": {},
   "outputs": [],
   "source": []
  },
  {
   "cell_type": "code",
   "execution_count": null,
   "id": "4649f41b-45bb-4060-bc83-1956ab47c693",
   "metadata": {},
   "outputs": [],
   "source": []
  },
  {
   "cell_type": "code",
   "execution_count": null,
   "id": "0cfb8cc2-28a6-4359-bbb3-856ae333804b",
   "metadata": {},
   "outputs": [],
   "source": []
  },
  {
   "cell_type": "code",
   "execution_count": null,
   "id": "10e1d14c-d141-4efb-8f73-a8af70f9ce6c",
   "metadata": {},
   "outputs": [],
   "source": []
  },
  {
   "cell_type": "markdown",
   "id": "1b5ea37b-0a24-470c-9b75-19fcd23aa994",
   "metadata": {},
   "source": [
    "**The cores listed below are verified, but only the ‘ELP 58/11/38’ yields a B_peak below 300 mT.** "
   ]
  },
  {
   "cell_type": "code",
   "execution_count": 15,
   "id": "931886bf-e349-4436-bccc-9bb27de2bb82",
   "metadata": {
    "scrolled": true
   },
   "outputs": [
    {
     "data": {
      "text/html": [
       "<div>\n",
       "<style scoped>\n",
       "    .dataframe tbody tr th:only-of-type {\n",
       "        vertical-align: middle;\n",
       "    }\n",
       "\n",
       "    .dataframe tbody tr th {\n",
       "        vertical-align: top;\n",
       "    }\n",
       "\n",
       "    .dataframe thead th {\n",
       "        text-align: right;\n",
       "    }\n",
       "</style>\n",
       "<table border=\"1\" class=\"dataframe\">\n",
       "  <thead>\n",
       "    <tr style=\"text-align: right;\">\n",
       "      <th></th>\n",
       "      <th>core</th>\n",
       "      <th>Ae_min(mm2)</th>\n",
       "      <th>B_peak(mT)</th>\n",
       "    </tr>\n",
       "  </thead>\n",
       "  <tbody>\n",
       "    <tr>\n",
       "      <th>0</th>\n",
       "      <td>ELP 22/6/16 with ELP 22/6/16</td>\n",
       "      <td>78.3</td>\n",
       "      <td>1019.056152</td>\n",
       "    </tr>\n",
       "    <tr>\n",
       "      <th>1</th>\n",
       "      <td>ELP 32/6/20 with ELP 32/6/20</td>\n",
       "      <td>128</td>\n",
       "      <td>623.375732</td>\n",
       "    </tr>\n",
       "    <tr>\n",
       "      <th>2</th>\n",
       "      <td>ELP 38/8/25 with ELP 38/8/25</td>\n",
       "      <td>192</td>\n",
       "      <td>415.583832</td>\n",
       "    </tr>\n",
       "    <tr>\n",
       "      <th>3</th>\n",
       "      <td>ELP 43/10/28 with ELP 43/10/28</td>\n",
       "      <td>217</td>\n",
       "      <td>367.705536</td>\n",
       "    </tr>\n",
       "    <tr>\n",
       "      <th>4</th>\n",
       "      <td>ELP 58/11/38 with ELP 58/11/38</td>\n",
       "      <td>308</td>\n",
       "      <td>259.065247</td>\n",
       "    </tr>\n",
       "  </tbody>\n",
       "</table>\n",
       "</div>"
      ],
      "text/plain": [
       "                             core Ae_min(mm2)   B_peak(mT)\n",
       "0    ELP 22/6/16 with ELP 22/6/16       78.3   1019.056152\n",
       "1    ELP 32/6/20 with ELP 32/6/20         128   623.375732\n",
       "2    ELP 38/8/25 with ELP 38/8/25         192   415.583832\n",
       "3  ELP 43/10/28 with ELP 43/10/28         217   367.705536\n",
       "4  ELP 58/11/38 with ELP 58/11/38         308   259.065247"
      ]
     },
     "execution_count": 15,
     "metadata": {},
     "output_type": "execute_result"
    }
   ],
   "source": [
    "t= \"\"\"core,Ae_min(mm2)\n",
    "ELP 22/6/16 with ELP 22/6/16,78.3 \n",
    "ELP 32/6/20 with ELP 32/6/20,128\n",
    "ELP 38/8/25 with ELP 38/8/25,192\n",
    "ELP 43/10/28 with ELP 43/10/28,217\n",
    "ELP 58/11/38 with ELP 58/11/38,308\"\"\".split(\"\\n\")\n",
    "t= [x.split(\",\") for x in t]\n",
    "df = pd.DataFrame(t[1:], columns = t[0])\n",
    "Aemin = df[\"Ae_min(mm2)\"].astype(\"float32\")\n",
    "B_peak = 1e-3*Lr_uH*sqrt(2)*Ir_rms/(n*Aemin*1e-6) # mT\n",
    "df[\"B_peak(mT)\"]=B_peak\n",
    "df"
   ]
  },
  {
   "cell_type": "markdown",
   "id": "f5ccaf1f-6cff-46eb-8d37-6ad511c5cf91",
   "metadata": {},
   "source": []
  },
  {
   "cell_type": "code",
   "execution_count": null,
   "id": "ad1b6c52-adfe-4b14-9f24-10c995e5a1af",
   "metadata": {},
   "outputs": [],
   "source": []
  },
  {
   "cell_type": "code",
   "execution_count": null,
   "id": "87882097-9ab4-448e-8e0f-3c24b687f453",
   "metadata": {},
   "outputs": [],
   "source": []
  },
  {
   "cell_type": "code",
   "execution_count": null,
   "id": "7f4b0971-4d9f-43eb-a3b3-6e342f19c3f7",
   "metadata": {},
   "outputs": [],
   "source": []
  },
  {
   "cell_type": "code",
   "execution_count": null,
   "id": "18c061cc-0854-4194-b877-636439910271",
   "metadata": {},
   "outputs": [],
   "source": []
  },
  {
   "cell_type": "code",
   "execution_count": null,
   "id": "4cb4141c-306e-4bc6-a5ef-706171bf9e6d",
   "metadata": {},
   "outputs": [],
   "source": []
  },
  {
   "cell_type": "markdown",
   "id": "02399696-3de8-45b4-8f28-d7ef00ec4d22",
   "metadata": {},
   "source": [
    "### More than 4 turns "
   ]
  },
  {
   "cell_type": "markdown",
   "id": "9b6ab0b1-07dc-49e3-8c9d-61b673e90fec",
   "metadata": {},
   "source": [
    "Below the B_peak of rach core, with number of turns : (same formulas as above)"
   ]
  },
  {
   "cell_type": "code",
   "execution_count": 178,
   "id": "0df19e33-21cf-4180-a7e2-49bc8bc38e59",
   "metadata": {},
   "outputs": [
    {
     "data": {
      "text/html": [
       "<div>\n",
       "<style scoped>\n",
       "    .dataframe tbody tr th:only-of-type {\n",
       "        vertical-align: middle;\n",
       "    }\n",
       "\n",
       "    .dataframe tbody tr th {\n",
       "        vertical-align: top;\n",
       "    }\n",
       "\n",
       "    .dataframe thead th {\n",
       "        text-align: right;\n",
       "    }\n",
       "</style>\n",
       "<table border=\"1\" class=\"dataframe\">\n",
       "  <thead>\n",
       "    <tr style=\"text-align: right;\">\n",
       "      <th>core</th>\n",
       "      <th>ELP 22/6/16 with ELP 22/6/16</th>\n",
       "      <th>ELP 32/6/20 with ELP 32/6/20</th>\n",
       "      <th>ELP 38/8/25 with ELP 38/8/25</th>\n",
       "      <th>ELP 43/10/28 with ELP 43/10/28</th>\n",
       "      <th>ELP 58/11/38 with ELP 58/11/38</th>\n",
       "    </tr>\n",
       "  </thead>\n",
       "  <tbody>\n",
       "    <tr>\n",
       "      <th>Ae_min(mm2)</th>\n",
       "      <td>78.3</td>\n",
       "      <td>128</td>\n",
       "      <td>192</td>\n",
       "      <td>217</td>\n",
       "      <td>308</td>\n",
       "    </tr>\n",
       "    <tr>\n",
       "      <th>B_peak n=1</th>\n",
       "      <td>4076.224609</td>\n",
       "      <td>2493.50293</td>\n",
       "      <td>1662.335327</td>\n",
       "      <td>1470.822144</td>\n",
       "      <td>1036.260986</td>\n",
       "    </tr>\n",
       "    <tr>\n",
       "      <th>B_peak n=2</th>\n",
       "      <td>2038.112305</td>\n",
       "      <td>1246.751465</td>\n",
       "      <td>831.167664</td>\n",
       "      <td>735.411072</td>\n",
       "      <td>518.130493</td>\n",
       "    </tr>\n",
       "    <tr>\n",
       "      <th>B_peak n=3</th>\n",
       "      <td>1358.741455</td>\n",
       "      <td>831.167664</td>\n",
       "      <td>554.111755</td>\n",
       "      <td>490.274017</td>\n",
       "      <td>345.420349</td>\n",
       "    </tr>\n",
       "    <tr>\n",
       "      <th>B_peak n=4</th>\n",
       "      <td>1019.056152</td>\n",
       "      <td>623.375732</td>\n",
       "      <td>415.583832</td>\n",
       "      <td>367.705536</td>\n",
       "      <td>259.065247</td>\n",
       "    </tr>\n",
       "    <tr>\n",
       "      <th>B_peak n=5</th>\n",
       "      <td>815.244873</td>\n",
       "      <td>498.700623</td>\n",
       "      <td>332.467072</td>\n",
       "      <td>294.164429</td>\n",
       "      <td>207.252197</td>\n",
       "    </tr>\n",
       "    <tr>\n",
       "      <th>B_peak n=6</th>\n",
       "      <td>679.370728</td>\n",
       "      <td>415.583832</td>\n",
       "      <td>277.055878</td>\n",
       "      <td>245.137009</td>\n",
       "      <td>172.710175</td>\n",
       "    </tr>\n",
       "    <tr>\n",
       "      <th>B_peak n=7</th>\n",
       "      <td>582.317749</td>\n",
       "      <td>356.214722</td>\n",
       "      <td>237.476486</td>\n",
       "      <td>210.117432</td>\n",
       "      <td>148.037292</td>\n",
       "    </tr>\n",
       "    <tr>\n",
       "      <th>B_peak n=8</th>\n",
       "      <td>509.528076</td>\n",
       "      <td>311.687866</td>\n",
       "      <td>207.791916</td>\n",
       "      <td>183.852768</td>\n",
       "      <td>129.532623</td>\n",
       "    </tr>\n",
       "  </tbody>\n",
       "</table>\n",
       "</div>"
      ],
      "text/plain": [
       "core        ELP 22/6/16 with ELP 22/6/16 ELP 32/6/20 with ELP 32/6/20  \\\n",
       "Ae_min(mm2)                        78.3                           128   \n",
       "B_peak n=1                   4076.224609                   2493.50293   \n",
       "B_peak n=2                   2038.112305                  1246.751465   \n",
       "B_peak n=3                   1358.741455                   831.167664   \n",
       "B_peak n=4                   1019.056152                   623.375732   \n",
       "B_peak n=5                    815.244873                   498.700623   \n",
       "B_peak n=6                    679.370728                   415.583832   \n",
       "B_peak n=7                    582.317749                   356.214722   \n",
       "B_peak n=8                    509.528076                   311.687866   \n",
       "\n",
       "core        ELP 38/8/25 with ELP 38/8/25 ELP 43/10/28 with ELP 43/10/28  \\\n",
       "Ae_min(mm2)                          192                            217   \n",
       "B_peak n=1                   1662.335327                    1470.822144   \n",
       "B_peak n=2                    831.167664                     735.411072   \n",
       "B_peak n=3                    554.111755                     490.274017   \n",
       "B_peak n=4                    415.583832                     367.705536   \n",
       "B_peak n=5                    332.467072                     294.164429   \n",
       "B_peak n=6                    277.055878                     245.137009   \n",
       "B_peak n=7                    237.476486                     210.117432   \n",
       "B_peak n=8                    207.791916                     183.852768   \n",
       "\n",
       "core        ELP 58/11/38 with ELP 58/11/38  \n",
       "Ae_min(mm2)                            308  \n",
       "B_peak n=1                     1036.260986  \n",
       "B_peak n=2                      518.130493  \n",
       "B_peak n=3                      345.420349  \n",
       "B_peak n=4                      259.065247  \n",
       "B_peak n=5                      207.252197  \n",
       "B_peak n=6                      172.710175  \n",
       "B_peak n=7                      148.037292  \n",
       "B_peak n=8                      129.532623  "
      ]
     },
     "execution_count": 178,
     "metadata": {},
     "output_type": "execute_result"
    }
   ],
   "source": [
    "t= \"\"\"core,Ae_min(mm2)\n",
    "ELP 22/6/16 with ELP 22/6/16,78.3 \n",
    "ELP 32/6/20 with ELP 32/6/20,128\n",
    "ELP 38/8/25 with ELP 38/8/25,192\n",
    "ELP 43/10/28 with ELP 43/10/28,217\n",
    "ELP 58/11/38 with ELP 58/11/38,308\"\"\".split(\"\\n\")\n",
    "t= [x.split(\",\") for x in t]\n",
    "df = pd.DataFrame(t[1:], columns = t[0])\n",
    "Aemin = df[\"Ae_min(mm2)\"].astype(\"float32\")\n",
    "for n in range(1, 9):\n",
    "    B_peak = 1e-3*Lr_uH*sqrt(2)*Ir_rms/(n*Aemin*1e-6) # mT\n",
    "    df[f\"B_peak n={n}\"]=B_peak\n",
    "df = df.set_index(\"core\").T\n",
    "df"
   ]
  },
  {
   "cell_type": "markdown",
   "id": "1b02cbfa-36be-4404-810d-9294ab1ada1c",
   "metadata": {},
   "source": [
    "The cases with B_peak < B_sat"
   ]
  },
  {
   "cell_type": "code",
   "execution_count": 180,
   "id": "5d10cb0e-2cd8-45e5-8938-b4f2d2ddeee8",
   "metadata": {},
   "outputs": [
    {
     "data": {
      "text/html": [
       "<div>\n",
       "<style scoped>\n",
       "    .dataframe tbody tr th:only-of-type {\n",
       "        vertical-align: middle;\n",
       "    }\n",
       "\n",
       "    .dataframe tbody tr th {\n",
       "        vertical-align: top;\n",
       "    }\n",
       "\n",
       "    .dataframe thead th {\n",
       "        text-align: right;\n",
       "    }\n",
       "</style>\n",
       "<table border=\"1\" class=\"dataframe\">\n",
       "  <thead>\n",
       "    <tr style=\"text-align: right;\">\n",
       "      <th>core</th>\n",
       "      <th>ELP 38/8/25 with ELP 38/8/25</th>\n",
       "      <th>ELP 43/10/28 with ELP 43/10/28</th>\n",
       "      <th>ELP 58/11/38 with ELP 58/11/38</th>\n",
       "    </tr>\n",
       "    <tr>\n",
       "      <th>n</th>\n",
       "      <th></th>\n",
       "      <th></th>\n",
       "      <th></th>\n",
       "    </tr>\n",
       "  </thead>\n",
       "  <tbody>\n",
       "    <tr>\n",
       "      <th>4</th>\n",
       "      <td>NaN</td>\n",
       "      <td>NaN</td>\n",
       "      <td>259.065247</td>\n",
       "    </tr>\n",
       "    <tr>\n",
       "      <th>5</th>\n",
       "      <td>NaN</td>\n",
       "      <td>294.164429</td>\n",
       "      <td>207.252197</td>\n",
       "    </tr>\n",
       "    <tr>\n",
       "      <th>6</th>\n",
       "      <td>277.055878</td>\n",
       "      <td>245.137009</td>\n",
       "      <td>172.710175</td>\n",
       "    </tr>\n",
       "    <tr>\n",
       "      <th>7</th>\n",
       "      <td>237.476486</td>\n",
       "      <td>210.117432</td>\n",
       "      <td>148.037292</td>\n",
       "    </tr>\n",
       "    <tr>\n",
       "      <th>8</th>\n",
       "      <td>207.791916</td>\n",
       "      <td>183.852768</td>\n",
       "      <td>129.532623</td>\n",
       "    </tr>\n",
       "  </tbody>\n",
       "</table>\n",
       "</div>"
      ],
      "text/plain": [
       "core ELP 38/8/25 with ELP 38/8/25 ELP 43/10/28 with ELP 43/10/28  \\\n",
       "n                                                                  \n",
       "4                             NaN                            NaN   \n",
       "5                             NaN                     294.164429   \n",
       "6                      277.055878                     245.137009   \n",
       "7                      237.476486                     210.117432   \n",
       "8                      207.791916                     183.852768   \n",
       "\n",
       "core ELP 58/11/38 with ELP 58/11/38  \n",
       "n                                    \n",
       "4                        259.065247  \n",
       "5                        207.252197  \n",
       "6                        172.710175  \n",
       "7                        148.037292  \n",
       "8                        129.532623  "
      ]
     },
     "execution_count": 180,
     "metadata": {},
     "output_type": "execute_result"
    }
   ],
   "source": [
    "df2= df.drop('Ae_min(mm2)', axis=0)\n",
    "for c in df2.columns:\n",
    "    m= df2[c]>300\n",
    "    df2.loc[m,c]=np.nan\n",
    "# Drop columns that are completely NaN\n",
    "df2 = df2.dropna(axis=1, how='all')\n",
    "\n",
    "# Drop rows that are completely NaN\n",
    "df2 = df2.dropna(axis=0, how='all')\n",
    "df2[\"n\"]=df2.reset_index()[\"index\"].str.split(\"=\").\\\n",
    "    str[1].values.astype(\"int\")\n",
    "df2=df2.set_index(\"n\")\n",
    "df2#.astype(\"Int\")"
   ]
  },
  {
   "cell_type": "markdown",
   "id": "a7ff3e36-3082-40ea-ab18-875da3590aab",
   "metadata": {},
   "source": [
    "Remind the relationship Between Inductance Ratio and Number of Turns"
   ]
  },
  {
   "cell_type": "code",
   "execution_count": 99,
   "id": "f0004a23-d2bc-46b6-930e-ac7b981501e7",
   "metadata": {},
   "outputs": [
    {
     "data": {
      "text/html": [
       "<div>\n",
       "<style scoped>\n",
       "    .dataframe tbody tr th:only-of-type {\n",
       "        vertical-align: middle;\n",
       "    }\n",
       "\n",
       "    .dataframe tbody tr th {\n",
       "        vertical-align: top;\n",
       "    }\n",
       "\n",
       "    .dataframe thead th {\n",
       "        text-align: right;\n",
       "    }\n",
       "</style>\n",
       "<table border=\"1\" class=\"dataframe\">\n",
       "  <thead>\n",
       "    <tr style=\"text-align: right;\">\n",
       "      <th></th>\n",
       "      <th>0</th>\n",
       "      <th>1</th>\n",
       "      <th>2</th>\n",
       "      <th>3</th>\n",
       "      <th>4</th>\n",
       "      <th>5</th>\n",
       "      <th>6</th>\n",
       "      <th>7</th>\n",
       "      <th>8</th>\n",
       "    </tr>\n",
       "  </thead>\n",
       "  <tbody>\n",
       "    <tr>\n",
       "      <th>Nb</th>\n",
       "      <td>1.0</td>\n",
       "      <td>2.0</td>\n",
       "      <td>3.0</td>\n",
       "      <td>4.0</td>\n",
       "      <td>5.0</td>\n",
       "      <td>6.0</td>\n",
       "      <td>7.0</td>\n",
       "      <td>8.0</td>\n",
       "      <td>9.0</td>\n",
       "    </tr>\n",
       "    <tr>\n",
       "      <th>Al_nH</th>\n",
       "      <td>21797.0</td>\n",
       "      <td>5449.0</td>\n",
       "      <td>2422.0</td>\n",
       "      <td>1362.0</td>\n",
       "      <td>872.0</td>\n",
       "      <td>605.0</td>\n",
       "      <td>445.0</td>\n",
       "      <td>341.0</td>\n",
       "      <td>269.0</td>\n",
       "    </tr>\n",
       "  </tbody>\n",
       "</table>\n",
       "</div>"
      ],
      "text/plain": [
       "             0       1       2       3      4      5      6      7      8\n",
       "Nb         1.0     2.0     3.0     4.0    5.0    6.0    7.0    8.0    9.0\n",
       "Al_nH  21797.0  5449.0  2422.0  1362.0  872.0  605.0  445.0  341.0  269.0"
      ]
     },
     "execution_count": 99,
     "metadata": {},
     "output_type": "execute_result"
    }
   ],
   "source": [
    "pd.DataFrame(np.array([list(range(1,10)),\n",
    "                       [1e3*Lr_uH/n**2 for n in range(1,10)]]).T,\n",
    "            columns = [\"Nb\", \"Al_nH\"]).T.round()"
   ]
  },
  {
   "cell_type": "markdown",
   "id": "deeedb12-b7b7-4d3c-84f6-baf26b5cdcee",
   "metadata": {},
   "source": [
    "Case of turns number = 7"
   ]
  },
  {
   "cell_type": "code",
   "execution_count": 185,
   "id": "1a9126cf-a4b0-4b2b-ae06-3b82e589fdf9",
   "metadata": {},
   "outputs": [
    {
     "data": {
      "text/latex": [
       "$\n",
       "\\begin{aligned}\n",
       "N &= 7 \\; \n",
       "\\\\[10pt]\n",
       "\\mathrm{Al}_{nH} &= 340 \\; \n",
       "\\\\[10pt]\n",
       "\\mathrm{Al}_{nom} &= 355 \\; \\;\\textrm{(ELP43/10/28, Gapped, see below)}\n",
       "\\end{aligned}\n",
       "$"
      ],
      "text/plain": [
       "<IPython.core.display.Latex object>"
      ]
     },
     "metadata": {},
     "output_type": "display_data"
    }
   ],
   "source": [
    "%%render \n",
    "N = 7\n",
    "Al_nH = 340\n",
    "Al_nom= 355 # ELP43/10/28, Gapped, see below "
   ]
  },
  {
   "cell_type": "code",
   "execution_count": 190,
   "id": "72272411-c70b-4551-be62-81685b273431",
   "metadata": {},
   "outputs": [
    {
     "data": {
      "text/html": [
       "\n",
       "    <div style=\"width: 100%; text-align: center;\">\n",
       "        <img src=\"./02_figs/ELP432.png\" style=\"max-width: 100%; width: 18cm; height: auto;\">\n",
       "        <div style=\"max-width: 100%; word-wrap: break-word;\">\n",
       "            <b>Figure 15:</b> TDK, ELP43/10/28 datasheet screenshot\n",
       "        </div>\n",
       "    </div>\n",
       "    <br>\n",
       "    "
      ],
      "text/plain": [
       "<IPython.core.display.HTML object>"
      ]
     },
     "metadata": {},
     "output_type": "display_data"
    }
   ],
   "source": [
    "fig_counter =  One_figure_with_captions(fig_counter,\n",
    "                                        img1=\"ELP432.png\", \n",
    "                                        caption1=\"TDK, ELP43/10/28 datasheet screenshot\", \n",
    "                                        first_part_path=\"./02_figs/\", \n",
    "                                        width=18)"
   ]
  },
  {
   "cell_type": "markdown",
   "id": "50a6fe85-5b4f-4b54-8da1-db31e834f17a",
   "metadata": {},
   "source": [
    "Below a core set thant meet aour calculation in mouser: "
   ]
  },
  {
   "cell_type": "code",
   "execution_count": 187,
   "id": "b34c2804-cc80-4a43-9e4c-bca12481a79f",
   "metadata": {},
   "outputs": [
    {
     "data": {
      "text/html": [
       "\n",
       "    <div style=\"width: 100%; text-align: center;\">\n",
       "        <img src=\"./02_figs/ELP43.png\" style=\"max-width: 100%; width: 18cm; height: auto;\">\n",
       "        <div style=\"max-width: 100%; word-wrap: break-word;\">\n",
       "            <b>Figure 12:</b> Mouser, TDK, ELP43/10/28 N97 7500 +25% -25%, B66291G0000X197\n",
       "        </div>\n",
       "    </div>\n",
       "    <br>\n",
       "    "
      ],
      "text/plain": [
       "<IPython.core.display.HTML object>"
      ]
     },
     "metadata": {},
     "output_type": "display_data"
    }
   ],
   "source": [
    "fig_counter =  One_figure_with_captions(fig_counter,\n",
    "                                        img1=\"ELP43.png\", \n",
    "                                        caption1=\"Mouser, TDK, ELP43/10/28 N97 7500 +25% -25%, B66291G0000X197\", \n",
    "                                        first_part_path=\"./02_figs/\", \n",
    "                                        width=18)"
   ]
  },
  {
   "cell_type": "markdown",
   "id": "1c6e3738-0422-40dc-9eb0-a50a116c5116",
   "metadata": {},
   "source": [
    "**Max current of each layer**"
   ]
  },
  {
   "cell_type": "code",
   "execution_count": 193,
   "id": "bb399758-3136-4dad-bc90-48ca80bdd7aa",
   "metadata": {},
   "outputs": [
    {
     "data": {
      "text/html": [
       "\n",
       "    <div style=\"width: 100%; text-align: center;\">\n",
       "        <img src=\"./02_figs/ELP433.jpg\" style=\"max-width: 100%; width: 10cm; height: auto;\">\n",
       "        <div style=\"max-width: 100%; word-wrap: break-word;\">\n",
       "            <b>Figure 18:</b> PCB copper trace proposition: 2 turns by layer\n",
       "        </div>\n",
       "    </div>\n",
       "    <br>\n",
       "    "
      ],
      "text/plain": [
       "<IPython.core.display.HTML object>"
      ]
     },
     "metadata": {},
     "output_type": "display_data"
    }
   ],
   "source": [
    "fig_counter =  One_figure_with_captions(fig_counter,\n",
    "                                        img1=\"ELP433.jpg\", \n",
    "                                        caption1=\"PCB copper trace proposition: 2 turns by layer\", \n",
    "                                        first_part_path=\"./02_figs/\", \n",
    "                                        width=10)"
   ]
  },
  {
   "cell_type": "markdown",
   "id": "cdc5ddd0-802d-4568-9e69-c7aa916adcee",
   "metadata": {},
   "source": [
    "We will use the same formula as in the section `Choice of the transformer core ELP 64 vs ELP 102`. Using this, we can determine the current for the inner and outer layers.\n",
    "<BR>\n",
    "From the datasheet:  "
   ]
  },
  {
   "cell_type": "code",
   "execution_count": 198,
   "id": "b2989f5a-3cce-4130-b963-af21d1c07b61",
   "metadata": {},
   "outputs": [
    {
     "data": {
      "text/html": [
       "<div>\n",
       "<style scoped>\n",
       "    .dataframe tbody tr th:only-of-type {\n",
       "        vertical-align: middle;\n",
       "    }\n",
       "\n",
       "    .dataframe tbody tr th {\n",
       "        vertical-align: top;\n",
       "    }\n",
       "\n",
       "    .dataframe thead th {\n",
       "        text-align: right;\n",
       "    }\n",
       "</style>\n",
       "<table border=\"1\" class=\"dataframe\">\n",
       "  <thead>\n",
       "    <tr style=\"text-align: right;\">\n",
       "      <th></th>\n",
       "      <th>core</th>\n",
       "      <th>E</th>\n",
       "      <th>F</th>\n",
       "      <th>Margin</th>\n",
       "    </tr>\n",
       "  </thead>\n",
       "  <tbody>\n",
       "    <tr>\n",
       "      <th>0</th>\n",
       "      <td>ELP 43</td>\n",
       "      <td>35.4</td>\n",
       "      <td>8.1</td>\n",
       "      <td>3</td>\n",
       "    </tr>\n",
       "  </tbody>\n",
       "</table>\n",
       "</div>"
      ],
      "text/plain": [
       "     core     E    F  Margin\n",
       "0  ELP 43  35.4  8.1       3"
      ]
     },
     "execution_count": 198,
     "metadata": {},
     "output_type": "execute_result"
    }
   ],
   "source": [
    "df = pd.DataFrame([\n",
    "    { \"core\":\"ELP 43\",\"E\":35.4,\"F\":8.1,\"Margin\":3}\n",
    "])\n",
    "df"
   ]
  },
  {
   "cell_type": "markdown",
   "id": "97477246-c33f-4c09-be9d-c5053d9193de",
   "metadata": {},
   "source": [
    "The following table summarizes all results for ELP 43, for both outer and inner layers (Copper layer of 2 oz/ft²), and delta Temp = 30°C "
   ]
  },
  {
   "cell_type": "code",
   "execution_count": 208,
   "id": "05cd3207-a388-4c6e-a892-0aec2388d95a",
   "metadata": {},
   "outputs": [
    {
     "data": {
      "text/html": [
       "<div>\n",
       "<style scoped>\n",
       "    .dataframe tbody tr th:only-of-type {\n",
       "        vertical-align: middle;\n",
       "    }\n",
       "\n",
       "    .dataframe tbody tr th {\n",
       "        vertical-align: top;\n",
       "    }\n",
       "\n",
       "    .dataframe thead th {\n",
       "        text-align: right;\n",
       "    }\n",
       "</style>\n",
       "<table border=\"1\" class=\"dataframe\">\n",
       "  <thead>\n",
       "    <tr style=\"text-align: right;\">\n",
       "      <th></th>\n",
       "      <th>core</th>\n",
       "      <th>E</th>\n",
       "      <th>F</th>\n",
       "      <th>Margin</th>\n",
       "      <th>kind</th>\n",
       "      <th>wmm</th>\n",
       "      <th>Current</th>\n",
       "    </tr>\n",
       "  </thead>\n",
       "  <tbody>\n",
       "    <tr>\n",
       "      <th>0</th>\n",
       "      <td>ELP 43</td>\n",
       "      <td>35.4</td>\n",
       "      <td>8.1</td>\n",
       "      <td>3</td>\n",
       "      <td>outer</td>\n",
       "      <td>7.65</td>\n",
       "      <td>28.023109</td>\n",
       "    </tr>\n",
       "    <tr>\n",
       "      <th>1</th>\n",
       "      <td>ELP 43</td>\n",
       "      <td>35.4</td>\n",
       "      <td>8.1</td>\n",
       "      <td>3</td>\n",
       "      <td>inner</td>\n",
       "      <td>7.65</td>\n",
       "      <td>14.011555</td>\n",
       "    </tr>\n",
       "  </tbody>\n",
       "</table>\n",
       "</div>"
      ],
      "text/plain": [
       "     core     E    F  Margin   kind   wmm    Current\n",
       "0  ELP 43  35.4  8.1       3  outer  7.65  28.023109\n",
       "1  ELP 43  35.4  8.1       3  inner  7.65  14.011555"
      ]
     },
     "execution_count": 208,
     "metadata": {},
     "output_type": "execute_result"
    }
   ],
   "source": [
    "DT= 30\n",
    "thicknessum = 70 # 2.0 oz ==> 70.00 µm\n",
    "arr = []\n",
    "for i in range(len(df)):\n",
    "    for kind_ in [\"outer\", \"inner\"]:\n",
    "        dic = df.iloc[i].to_dict()\n",
    "        dic[\"kind\"]= kind_\n",
    "        core = dic[\"core\"]\n",
    "        a= (dic [\"E\"]-dic [\"F\"])/2\n",
    "        b= a-2*dic['Margin']\n",
    "        wmm= (b) # mm\n",
    "        dic[\"wmm\"]=wmm\n",
    "        I = ipc2221current(wmm, thicknessum, DT=DT, kind = kind_)\n",
    "        dic[\"Current\"]= I\n",
    "        arr.append(dic)\n",
    "pd.DataFrame(arr)"
   ]
  },
  {
   "cell_type": "markdown",
   "id": "40b1d0be-d6ab-44c0-bca0-cca498164fdf",
   "metadata": {},
   "source": [
    "Reminde the RMS max current of the `Lr`"
   ]
  },
  {
   "cell_type": "code",
   "execution_count": 256,
   "id": "abd10cdb-9232-4bae-a173-4dc380f74c35",
   "metadata": {},
   "outputs": [
    {
     "data": {
      "text/latex": [
       "$\n",
       "\\begin{aligned}\n",
       "\\mathrm{Ir}_{rms} &= 10.354 \\; \\;\\textrm{(Arms < Imax inner layer)}\n",
       "\\end{aligned}\n",
       "$"
      ],
      "text/plain": [
       "<IPython.core.display.Latex object>"
      ]
     },
     "metadata": {},
     "output_type": "display_data"
    }
   ],
   "source": [
    "%%render \n",
    "Ir_rms # Arms < Imax inner layer "
   ]
  },
  {
   "cell_type": "markdown",
   "id": "fa2d070a-5992-4a5e-bab6-55019c87481f",
   "metadata": {},
   "source": [
    "## References \n",
    "\n",
    "<a id=\"referencesID1232\"></a> [1] [TDK, Ferrites and accessories, E cores General information](https://www.tdk-electronics.tdk.com/download/531516/f119bbe0ab3d6dd73ae31c6fa9dcf6b9/pdf-ecoresgeneralinformation.pdf)\n",
    "<br> \n",
    "<a id=\"referencesID1233\"></a> [2] [TDK, Ferrites and accessories, Processing notes](https://www.tdk-electronics.tdk.com/download/531538/d5537837a7b4f3cd2fc2e7da8e093820/pdf-processingnotes.pdf)\n",
    "<br>\n",
    "<a id=\"referencesID1234\"></a> [3] [TDK, EPCOS Data Book 2013](https://www.tdk-electronics.tdk.com/download/519704/069c210d0363d7b4682d9ff22c2ba503/ferrites-and-accessories-db-130501.pdf)\n",
    "<br>\n",
    "<a id=\"referencesID1235\"></a> [4] [TDK, Planar Cores for Power Applications](https://www.tdk-electronics.tdk.com/download/2527778/1e429cb7ad3fd0be062bcfe03f8ed498/ferrites-planar-cores-pb.pdf)\n",
    "<br>\n",
    "<a id=\"referencesID1236\"></a> [5] [IPC-2221A, Generic Standard on Printed Board Design](https://www-eng.lbl.gov/~shuman/NEXT/CURRENT_DESIGN/TP/MATERIALS/IPC-2221A(L).pdf)\n",
    "\n",
    "\n",
    "\n"
   ]
  },
  {
   "cell_type": "markdown",
   "id": "6856e52a-a88f-43e5-8363-49a32cb26a43",
   "metadata": {},
   "source": [
    "**Datasheets of the transformer core candidates**<br>\n",
    "https://www.ferroxcube.com/upload/media/product/file/Pr_ds/E64_10_50.pdf <br>\n",
    "https://www.tdk-electronics.tdk.com/inf/80/db/fer/elp_43_10_28.pdf <br>\n",
    "https://product.tdk.com/system/files/dam/doc/product/ferrite/ferrite/ferrite-core/data_sheet/80/db/fer/elp_64_10_50.pdf <br>\n",
    "https://www.ferroxcube.com/upload/media/product/file/Pr_ds/E64_10_50_PLT64_50_5.pdf <br>\n",
    "https://www.ferroxcube.com/upload/media/product/file/Pr_ds/ER64_13_51.pdf <br>\n",
    "https://product.tdk.com/system/files/dam/doc/product/ferrite/ferrite/ferrite-core/data_sheet/80/db/fer/e_100_60_28.pdf <br>\n",
    "https://product.tdk.com/system/files/dam/doc/product/ferrite/ferrite/ferrite-core/data_sheet/80/db/fer/elp_102_20_38.pdf <br>\n",
    "https://www.tdk-electronics.tdk.com/inf/80/db/fer/e_80_38_20.pdf"
   ]
  },
  {
   "cell_type": "markdown",
   "id": "40e3c043-62fe-4834-a140-1f603067c6ac",
   "metadata": {},
   "source": [
    "**Datasheets of the resonant inductor core candidates**\n",
    "<br>\n",
    "https://www.tdk-electronics.tdk.com/inf/80/db/fer/elp_22_6_16.pdf<br>\n",
    "https://www.tdk-electronics.tdk.com/inf/80/db/fer/elp_32_6_20.pdf<br>\n",
    "https://www.tdk-electronics.tdk.com/inf/80/db/fer/elp_38_8_25.pdf<br>\n",
    "https://www.tdk-electronics.tdk.com/inf/80/db/fer/elp_43_10_28.pdf<br>\n",
    "https://www.tdk-electronics.tdk.com/inf/80/db/fer/elp_58_11_38.pdf"
   ]
  },
  {
   "cell_type": "code",
   "execution_count": null,
   "id": "3c710b91-db3b-4524-8bff-95728525c52b",
   "metadata": {},
   "outputs": [],
   "source": []
  }
 ],
 "metadata": {
  "kernelspec": {
   "display_name": "kernel_venv1",
   "language": "python",
   "name": "kernel_venv1"
  },
  "language_info": {
   "codemirror_mode": {
    "name": "ipython",
    "version": 3
   },
   "file_extension": ".py",
   "mimetype": "text/x-python",
   "name": "python",
   "nbconvert_exporter": "python",
   "pygments_lexer": "ipython3",
   "version": "3.13.5"
  }
 },
 "nbformat": 4,
 "nbformat_minor": 5
}
