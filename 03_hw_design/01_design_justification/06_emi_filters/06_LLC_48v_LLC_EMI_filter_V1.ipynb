{
 "cells": [
  {
   "cell_type": "code",
   "execution_count": 1,
   "id": "cb8bd4be-094b-42dc-a728-6538703dcc22",
   "metadata": {},
   "outputs": [],
   "source": [
    "# imPORT LIBRARIES \n",
    "import numpy as np\n",
    "import matplotlib.pyplot as plt\n",
    "from scipy.interpolate import interp1d\n",
    "from math import pi, sqrt\n",
    "import handcalcs.render\n",
    "import pandas as pd\n",
    "import json \n",
    "# !pip install handcalcs"
   ]
  },
  {
   "cell_type": "code",
   "execution_count": 45,
   "id": "200b3d8c-a7f7-48b0-a1ad-5aca6ddf2529",
   "metadata": {},
   "outputs": [],
   "source": [
    "# CONFIGURATIONS\n",
    "#help(handcalcs.set_option)\n",
    "handcalcs.set_option(\"latex_block_start\", \"$\")\n",
    "handcalcs.set_option(\"latex_block_end\", \"$\")\n",
    "handcalcs.set_option(\"math_environment_end\", \"aligned\")\n",
    "handcalcs.set_option(\"use_scientific_notation\",True)\n",
    "#handcalcs.set_option(\"line_break\", \"\\\\\\\\[20pt]\")\n",
    "#handcalcs.set_option(\"param_columns\", 1)\n",
    "\n",
    "#handcalcs.set_option(\"math_environment_start\", \"aligned\")\n",
    "#handcalcs.set_option(\"math_environment_end\", \"aligned\")\n",
    "#handcalcs.set_option(\"line_break\", r\"<br>\")\n",
    "#handcalcs.set_option(\"line_break\", r\"\\\\\")\n",
    "from handcalcs.decorator import handcalc"
   ]
  },
  {
   "cell_type": "code",
   "execution_count": 46,
   "id": "2cb690f3-68fa-4600-b161-5255417ec4ba",
   "metadata": {},
   "outputs": [
    {
     "ename": "ModuleNotFoundError",
     "evalue": "No module named 'localcode'",
     "output_type": "error",
     "traceback": [
      "\u001b[31m---------------------------------------------------------------------------\u001b[39m",
      "\u001b[31mModuleNotFoundError\u001b[39m                       Traceback (most recent call last)",
      "\u001b[36mCell\u001b[39m\u001b[36m \u001b[39m\u001b[32mIn[46]\u001b[39m\u001b[32m, line 1\u001b[39m\n\u001b[32m----> \u001b[39m\u001b[32m1\u001b[39m \u001b[38;5;28;01mfrom\u001b[39;00m\u001b[38;5;250m \u001b[39m\u001b[34;01mlocalcode\u001b[39;00m\u001b[38;5;250m \u001b[39m\u001b[38;5;28;01mimport\u001b[39;00m *\n\u001b[32m      2\u001b[39m fig_counter=\u001b[32m1\u001b[39m\n",
      "\u001b[31mModuleNotFoundError\u001b[39m: No module named 'localcode'"
     ]
    }
   ],
   "source": [
    "from localcode import *\n",
    "fig_counter=1"
   ]
  },
  {
   "cell_type": "markdown",
   "id": "140fba4f-bfc3-44a8-a1d5-6183464e65f5",
   "metadata": {},
   "source": [
    "# EMI Filter <a class=\"title_class\" id=\"title_1\"></a>"
   ]
  },
  {
   "cell_type": "markdown",
   "id": "ea747bab-ffc0-49c9-8305-0bff02b42a39",
   "metadata": {},
   "source": [
    "## Inputs and claculated parameters <a class=\"title_class\" id=\"title_2\"></a>"
   ]
  },
  {
   "cell_type": "code",
   "execution_count": 47,
   "id": "9f88d5df-d306-4b78-a6d1-3c0c2b713746",
   "metadata": {},
   "outputs": [
    {
     "data": {
      "text/html": [
       "<div>\n",
       "<style scoped>\n",
       "    .dataframe tbody tr th:only-of-type {\n",
       "        vertical-align: middle;\n",
       "    }\n",
       "\n",
       "    .dataframe tbody tr th {\n",
       "        vertical-align: top;\n",
       "    }\n",
       "\n",
       "    .dataframe thead th {\n",
       "        text-align: right;\n",
       "    }\n",
       "</style>\n",
       "<table border=\"1\" class=\"dataframe\">\n",
       "  <thead>\n",
       "    <tr style=\"text-align: right;\">\n",
       "      <th></th>\n",
       "      <th>Input datas</th>\n",
       "    </tr>\n",
       "  </thead>\n",
       "  <tbody>\n",
       "    <tr>\n",
       "      <th>V_In_min</th>\n",
       "      <td>360.0</td>\n",
       "    </tr>\n",
       "    <tr>\n",
       "      <th>V_In_nom</th>\n",
       "      <td>380.0</td>\n",
       "    </tr>\n",
       "    <tr>\n",
       "      <th>V_In_max</th>\n",
       "      <td>400.0</td>\n",
       "    </tr>\n",
       "    <tr>\n",
       "      <th>Vo_min</th>\n",
       "      <td>42.0</td>\n",
       "    </tr>\n",
       "    <tr>\n",
       "      <th>Vo_nom</th>\n",
       "      <td>48.0</td>\n",
       "    </tr>\n",
       "    <tr>\n",
       "      <th>Vo_max</th>\n",
       "      <td>54.0</td>\n",
       "    </tr>\n",
       "    <tr>\n",
       "      <th>Power</th>\n",
       "      <td>1200.0</td>\n",
       "    </tr>\n",
       "    <tr>\n",
       "      <th>f_nom</th>\n",
       "      <td>100000.0</td>\n",
       "    </tr>\n",
       "  </tbody>\n",
       "</table>\n",
       "</div>"
      ],
      "text/plain": [
       "          Input datas\n",
       "V_In_min        360.0\n",
       "V_In_nom        380.0\n",
       "V_In_max        400.0\n",
       "Vo_min           42.0\n",
       "Vo_nom           48.0\n",
       "Vo_max           54.0\n",
       "Power          1200.0\n",
       "f_nom        100000.0"
      ]
     },
     "metadata": {},
     "output_type": "display_data"
    },
    {
     "data": {
      "text/html": [
       "<div>\n",
       "<style scoped>\n",
       "    .dataframe tbody tr th:only-of-type {\n",
       "        vertical-align: middle;\n",
       "    }\n",
       "\n",
       "    .dataframe tbody tr th {\n",
       "        vertical-align: top;\n",
       "    }\n",
       "\n",
       "    .dataframe thead th {\n",
       "        text-align: right;\n",
       "    }\n",
       "</style>\n",
       "<table border=\"1\" class=\"dataframe\">\n",
       "  <thead>\n",
       "    <tr style=\"text-align: right;\">\n",
       "      <th></th>\n",
       "      <th>Output datas</th>\n",
       "    </tr>\n",
       "  </thead>\n",
       "  <tbody>\n",
       "    <tr>\n",
       "      <th>Lnc</th>\n",
       "      <td>3.000000e+00</td>\n",
       "    </tr>\n",
       "    <tr>\n",
       "      <th>Qec</th>\n",
       "      <td>5.500000e-01</td>\n",
       "    </tr>\n",
       "    <tr>\n",
       "      <th>Cr_nF</th>\n",
       "      <td>1.162090e+02</td>\n",
       "    </tr>\n",
       "    <tr>\n",
       "      <th>n</th>\n",
       "      <td>4.000000e+00</td>\n",
       "    </tr>\n",
       "    <tr>\n",
       "      <th>Lr_uH</th>\n",
       "      <td>2.179700e+01</td>\n",
       "    </tr>\n",
       "    <tr>\n",
       "      <th>Lm_uH</th>\n",
       "      <td>6.539200e+01</td>\n",
       "    </tr>\n",
       "    <tr>\n",
       "      <th>fsw_min</th>\n",
       "      <td>6.017000e+04</td>\n",
       "    </tr>\n",
       "    <tr>\n",
       "      <th>fsw_max</th>\n",
       "      <td>1.562200e+05</td>\n",
       "    </tr>\n",
       "    <tr>\n",
       "      <th>Im_rms</th>\n",
       "      <td>6.992000e+00</td>\n",
       "    </tr>\n",
       "    <tr>\n",
       "      <th>Io</th>\n",
       "      <td>2.500000e+01</td>\n",
       "    </tr>\n",
       "    <tr>\n",
       "      <th>Ioe_rms</th>\n",
       "      <td>7.636000e+00</td>\n",
       "    </tr>\n",
       "    <tr>\n",
       "      <th>Ios_rms</th>\n",
       "      <td>3.054500e+01</td>\n",
       "    </tr>\n",
       "    <tr>\n",
       "      <th>Ir_rms</th>\n",
       "      <td>1.035400e+01</td>\n",
       "    </tr>\n",
       "    <tr>\n",
       "      <th>L_second_uH</th>\n",
       "      <td>4.087000e+00</td>\n",
       "    </tr>\n",
       "    <tr>\n",
       "      <th>Re_nom</th>\n",
       "      <td>2.490100e+01</td>\n",
       "    </tr>\n",
       "    <tr>\n",
       "      <th>Re_110</th>\n",
       "      <td>2.263700e+01</td>\n",
       "    </tr>\n",
       "    <tr>\n",
       "      <th>Cr</th>\n",
       "      <td>1.162090e-07</td>\n",
       "    </tr>\n",
       "    <tr>\n",
       "      <th>Lr</th>\n",
       "      <td>2.179700e-05</td>\n",
       "    </tr>\n",
       "    <tr>\n",
       "      <th>Lm</th>\n",
       "      <td>6.539200e-05</td>\n",
       "    </tr>\n",
       "  </tbody>\n",
       "</table>\n",
       "</div>"
      ],
      "text/plain": [
       "             Output datas\n",
       "Lnc          3.000000e+00\n",
       "Qec          5.500000e-01\n",
       "Cr_nF        1.162090e+02\n",
       "n            4.000000e+00\n",
       "Lr_uH        2.179700e+01\n",
       "Lm_uH        6.539200e+01\n",
       "fsw_min      6.017000e+04\n",
       "fsw_max      1.562200e+05\n",
       "Im_rms       6.992000e+00\n",
       "Io           2.500000e+01\n",
       "Ioe_rms      7.636000e+00\n",
       "Ios_rms      3.054500e+01\n",
       "Ir_rms       1.035400e+01\n",
       "L_second_uH  4.087000e+00\n",
       "Re_nom       2.490100e+01\n",
       "Re_110       2.263700e+01\n",
       "Cr           1.162090e-07\n",
       "Lr           2.179700e-05\n",
       "Lm           6.539200e-05"
      ]
     },
     "metadata": {},
     "output_type": "display_data"
    }
   ],
   "source": [
    "with open(\"../01_llc_tank/04_outputs/inp_datas.json\", \"r\", encoding=\"utf-8\") as f:\n",
    "    inp_datas = json.load(f)\n",
    "#print(\"Input datas:\")\n",
    "#print(\"=\"*20)\n",
    "#display(inp_datas)\n",
    "S= pd.Series(inp_datas, name = \"Input datas\").to_frame()\n",
    "display(S)\n",
    "\n",
    "with open(\"../01_llc_tank/04_outputs/out_results.json\", \"r\", encoding=\"utf-8\") as f:\n",
    "    out_datas = json.load(f)\n",
    "#print(\"Output datas:\")\n",
    "#print(\"=\"*20)\n",
    "#display(out_datas)\n",
    "\n",
    "S= pd.Series(out_datas, name = \"Output datas\").to_frame()\n",
    "display(S)\n",
    "\n",
    "\n",
    "# Load variables \n",
    "for key, value in inp_datas.items():\n",
    "    globals()[key] = value\n",
    "for key, value in out_datas.items():\n",
    "    globals()[key] = value"
   ]
  },
  {
   "cell_type": "markdown",
   "id": "abdb1432-839a-4b97-8418-b5fbf11e78e6",
   "metadata": {},
   "source": [
    "## DRAFT"
   ]
  },
  {
   "cell_type": "markdown",
   "id": "b013ef5b-c06b-4b5e-a6ac-24ca4169ca6c",
   "metadata": {},
   "source": [
    "PA2756NLT\n",
    "\n",
    "https://www.mouser.fr/datasheet/2/447/P688-2903753.pdf"
   ]
  },
  {
   "cell_type": "code",
   "execution_count": 48,
   "id": "2e29467a-93b9-41a2-9527-33d0ec20c4f9",
   "metadata": {},
   "outputs": [
    {
     "data": {
      "text/html": [
       "<div>\n",
       "<style scoped>\n",
       "    .dataframe tbody tr th:only-of-type {\n",
       "        vertical-align: middle;\n",
       "    }\n",
       "\n",
       "    .dataframe tbody tr th {\n",
       "        vertical-align: top;\n",
       "    }\n",
       "\n",
       "    .dataframe thead th {\n",
       "        text-align: right;\n",
       "    }\n",
       "</style>\n",
       "<table border=\"1\" class=\"dataframe\">\n",
       "  <thead>\n",
       "    <tr style=\"text-align: right;\">\n",
       "      <th></th>\n",
       "      <th>Freq_Mhz</th>\n",
       "      <th>Z_ohm</th>\n",
       "    </tr>\n",
       "  </thead>\n",
       "  <tbody>\n",
       "    <tr>\n",
       "      <th>0</th>\n",
       "      <td>0.202750</td>\n",
       "      <td>533.421982</td>\n",
       "    </tr>\n",
       "    <tr>\n",
       "      <th>1</th>\n",
       "      <td>0.407478</td>\n",
       "      <td>766.235644</td>\n",
       "    </tr>\n",
       "    <tr>\n",
       "      <th>2</th>\n",
       "      <td>0.606492</td>\n",
       "      <td>838.488159</td>\n",
       "    </tr>\n",
       "    <tr>\n",
       "      <th>3</th>\n",
       "      <td>0.812311</td>\n",
       "      <td>902.712618</td>\n",
       "    </tr>\n",
       "    <tr>\n",
       "      <th>4</th>\n",
       "      <td>1.011335</td>\n",
       "      <td>995.035276</td>\n",
       "    </tr>\n",
       "  </tbody>\n",
       "</table>\n",
       "</div>"
      ],
      "text/plain": [
       "   Freq_Mhz       Z_ohm\n",
       "0  0.202750  533.421982\n",
       "1  0.407478  766.235644\n",
       "2  0.606492  838.488159\n",
       "3  0.812311  902.712618\n",
       "4  1.011335  995.035276"
      ]
     },
     "execution_count": 48,
     "metadata": {},
     "output_type": "execute_result"
    }
   ],
   "source": [
    "df=pd.read_csv(r'../../03_components/06_EMI_Filter/PA2756NL.csv')\n",
    "df = df[['Freq_Mhz', 'Z_ohm']]\n",
    "df.head(5)"
   ]
  },
  {
   "cell_type": "code",
   "execution_count": null,
   "id": "c5c9b651-3ad8-4700-805e-a67a13d22e5f",
   "metadata": {},
   "outputs": [],
   "source": []
  },
  {
   "cell_type": "code",
   "execution_count": null,
   "id": "4238188e-9906-47b1-a912-bcc3a73f2d63",
   "metadata": {},
   "outputs": [],
   "source": []
  },
  {
   "cell_type": "code",
   "execution_count": 69,
   "id": "c2c19df7-54a6-45cb-bc11-fc206c846618",
   "metadata": {},
   "outputs": [
    {
     "data": {
      "image/png": "[encoded data removed]",
      "text/plain": [
       "<Figure size 640x480 with 1 Axes>"
      ]
     },
     "metadata": {},
     "output_type": "display_data"
    }
   ],
   "source": [
    "df.plot(x= \"Freq_Mhz\", y= \"Z_ohm\",marker=\"o\")\n",
    "plt.xscale(\"log\")\n",
    "plt.grid(which=\"both\")"
   ]
  },
  {
   "cell_type": "markdown",
   "id": "1c21339b-088e-455b-a9d0-dd13104703c7",
   "metadata": {},
   "source": [
    "$$ F_{res} = \\frac{ 1 }{ 2 \\cdot \\pi \\cdot \\sqrt { \\mathrm{Lcm} \\cdot \\mathrm{Cp} } } $$"
   ]
  },
  {
   "cell_type": "code",
   "execution_count": 189,
   "id": "8a59c12f-5e0e-4f2e-8a26-d569c7aaf12b",
   "metadata": {},
   "outputs": [
    {
     "data": {
      "text/latex": [
       "$\n",
       "\\begin{aligned}\n",
       "\\mathrm{Fres}_{Mhz} &= 4 \\; \\;\\textrm{(Mhz)}\n",
       "\\\\[10pt]\n",
       "\\mathrm{Lcm}_{uH} &= 484 \\; \\;\\textrm{(µH)}\n",
       "\\end{aligned}\n",
       "$"
      ],
      "text/plain": [
       "<IPython.core.display.Latex object>"
      ]
     },
     "metadata": {},
     "output_type": "display_data"
    }
   ],
   "source": [
    "%%render \n",
    "Fres_Mhz=4 # Mhz\n",
    "Lcm_uH= 484 # µH"
   ]
  },
  {
   "cell_type": "code",
   "execution_count": 190,
   "id": "02e248a4-65ee-45ad-9acd-aec78d15f337",
   "metadata": {
    "scrolled": true
   },
   "outputs": [
    {
     "data": {
      "text/latex": [
       "$\n",
       "\\begin{aligned}\n",
       "\\mathrm{Cp}_{pF} &= \\frac{ 1 \\times 10 ^ {12} }{ \\left( 2 \\cdot \\pi \\right) ^{ 2 } \\cdot \\left( \\mathrm{Fres}_{Mhz} \\cdot 1 \\times 10 ^ {6} \\right) ^{ 2 } \\cdot \\mathrm{Lcm}_{uH} \\cdot 1 \\times 10 ^ {-6} } \\\\&= \\frac{ 1 \\times 10 ^ {12} }{ \\left( 2 \\cdot 3.142 \\right) ^{ 2 } \\cdot \\left( 4 \\cdot 1 \\times 10 ^ {6} \\right) ^{ 2 } \\cdot 484 \\cdot 1 \\times 10 ^ {-6} } \\\\&= 3.271 \\; \\;\\textrm{(pF)}\\\\[10pt]\n",
       "\\end{aligned}\n",
       "$"
      ],
      "text/plain": [
       "<IPython.core.display.Latex object>"
      ]
     },
     "metadata": {},
     "output_type": "display_data"
    }
   ],
   "source": [
    "%%render\n",
    "Cp_pF=1e12 / ((2*pi)**2*(Fres_Mhz*1e6)**2*Lcm_uH*1e-6) # pF"
   ]
  },
  {
   "cell_type": "code",
   "execution_count": null,
   "id": "5dcfc513-322f-4482-a1fb-ea6388be9760",
   "metadata": {},
   "outputs": [],
   "source": []
  },
  {
   "cell_type": "code",
   "execution_count": 199,
   "id": "fc909bfd-cf90-4fb7-8b97-7b8e7a9fda37",
   "metadata": {},
   "outputs": [
    {
     "data": {
      "text/plain": [
       "<matplotlib.legend.Legend at 0x240c4480910>"
      ]
     },
     "execution_count": 199,
     "metadata": {},
     "output_type": "execute_result"
    },
    {
     "data": {
      "image/png": "[encoded data removed]",
      "text/plain": [
       "<Figure size 640x480 with 1 Axes>"
      ]
     },
     "metadata": {},
     "output_type": "display_data"
    }
   ],
   "source": [
    "def Z_parallel_RLC_mag(R, L, C, f):\n",
    "    w = 2 * np.pi * f\n",
    "    Y = (1/R) + (1/(1j * w * L)) + (1j * w * C)  # Admittance\n",
    "    Z = 1 / Y\n",
    "    return np.abs(Z)  # magnitude only\n",
    "#Z_parallel_RLC_mag(R, L, C, f)\n",
    "\n",
    "f= df.Freq_Mhz*1e6\n",
    "L= Lcm_uH*1e-6\n",
    "C= Cp_pF*1e-12\n",
    "R=1370\n",
    "\n",
    "df.plot(x= \"Freq_Mhz\", y= \"Z_ohm\",marker=\"o\",label =\"Datasheet\")\n",
    "Z= Z_parallel_RLC_mag(R, L, C, f)\n",
    "plt.plot(f/1e6,Z, \n",
    "         label = f\"Model (L//C//R) Lp={Lcm_uH}µH Cp={Cp_pF:.1f}pF, Rp ={R}Ω\",\n",
    "        marker=\"x\")\n",
    "\n",
    "w = 2 * np.pi * f\n",
    "L=L/100\n",
    "ZL= w * L\n",
    "#plt.plot(f/1e6,ZL)\n",
    "plt.xscale(\"log\")\n",
    "#plt.yscale(\"log\")\n",
    "plt.ylim([500, 1500])\n",
    "plt.grid(which=\"both\")\n",
    "plt.legend()"
   ]
  },
  {
   "cell_type": "code",
   "execution_count": null,
   "id": "a26d5ef1-3254-4a85-8183-ef7f9fdeebf9",
   "metadata": {},
   "outputs": [],
   "source": []
  },
  {
   "cell_type": "code",
   "execution_count": null,
   "id": "934a43bf-1748-4aeb-b849-42cf3f621e7b",
   "metadata": {},
   "outputs": [],
   "source": []
  },
  {
   "cell_type": "code",
   "execution_count": null,
   "id": "1c287671-f780-46e5-add7-58729dab514b",
   "metadata": {},
   "outputs": [],
   "source": []
  },
  {
   "cell_type": "code",
   "execution_count": null,
   "id": "42deb864-9727-4001-9db7-1600f7be03db",
   "metadata": {},
   "outputs": [],
   "source": []
  },
  {
   "cell_type": "code",
   "execution_count": null,
   "id": "c84191c0-4ef9-4421-879f-4352eda287aa",
   "metadata": {},
   "outputs": [],
   "source": []
  },
  {
   "cell_type": "code",
   "execution_count": null,
   "id": "972d3186-7f14-4d83-98af-0ddbb0f1accd",
   "metadata": {},
   "outputs": [],
   "source": []
  },
  {
   "cell_type": "code",
   "execution_count": null,
   "id": "358e8aa2-cf5f-465c-b7fd-ef1d3ad3e3c2",
   "metadata": {},
   "outputs": [],
   "source": []
  },
  {
   "cell_type": "code",
   "execution_count": null,
   "id": "211740fe-3919-4c12-9ea3-d424c40c87cc",
   "metadata": {},
   "outputs": [],
   "source": []
  },
  {
   "cell_type": "code",
   "execution_count": null,
   "id": "30605efc-ba35-4d42-9941-51999d6ce81b",
   "metadata": {},
   "outputs": [],
   "source": []
  },
  {
   "cell_type": "code",
   "execution_count": null,
   "id": "41a1e35b-5324-433c-8334-cdf07b5bdb1c",
   "metadata": {},
   "outputs": [],
   "source": []
  },
  {
   "cell_type": "code",
   "execution_count": null,
   "id": "623a81d4-eafc-4ec7-ab99-39877e6b076f",
   "metadata": {},
   "outputs": [],
   "source": []
  },
  {
   "cell_type": "code",
   "execution_count": null,
   "id": "c3225f2b-4073-4220-8635-07ed94e2b282",
   "metadata": {},
   "outputs": [],
   "source": []
  },
  {
   "cell_type": "code",
   "execution_count": null,
   "id": "fc3e7a0f-24cb-41e1-9fd8-2c8554daecc3",
   "metadata": {},
   "outputs": [],
   "source": []
  },
  {
   "cell_type": "code",
   "execution_count": null,
   "id": "3863fc9f-ea8d-43d7-a915-a80c2f04ba36",
   "metadata": {},
   "outputs": [],
   "source": []
  },
  {
   "cell_type": "markdown",
   "id": "192a00da-ecea-4636-ba1a-c268490bcfd7",
   "metadata": {},
   "source": [
    "NCU15XH103J6SRC"
   ]
  },
  {
   "cell_type": "markdown",
   "id": "8aa76bfe-627d-4a9a-81b1-0346ea6064a1",
   "metadata": {},
   "source": [
    "https://www.mouser.fr/datasheet/2/281/NCU15XH103J6SRC-1519743.pdf"
   ]
  },
  {
   "cell_type": "code",
   "execution_count": null,
   "id": "459fb554-0b28-4d0d-9025-ad79099407bf",
   "metadata": {},
   "outputs": [],
   "source": []
  },
  {
   "cell_type": "code",
   "execution_count": null,
   "id": "6742d44f-6523-4a9a-8894-81599f637c78",
   "metadata": {},
   "outputs": [],
   "source": []
  },
  {
   "cell_type": "code",
   "execution_count": null,
   "id": "4a242df8-441c-416b-aa32-87e443494771",
   "metadata": {},
   "outputs": [],
   "source": []
  },
  {
   "cell_type": "code",
   "execution_count": null,
   "id": "7fc7f933-035b-4c75-a9f6-a851733e4335",
   "metadata": {},
   "outputs": [],
   "source": []
  },
  {
   "cell_type": "code",
   "execution_count": null,
   "id": "bf26a90a-25a1-499c-8b10-8e159234eabe",
   "metadata": {},
   "outputs": [],
   "source": []
  },
  {
   "cell_type": "code",
   "execution_count": null,
   "id": "f703bee4-bc1f-43a6-a5e8-05ff9217928a",
   "metadata": {},
   "outputs": [],
   "source": []
  },
  {
   "cell_type": "code",
   "execution_count": null,
   "id": "b1e141e0-6300-4b03-8dac-6d2a937d3788",
   "metadata": {},
   "outputs": [],
   "source": []
  },
  {
   "cell_type": "code",
   "execution_count": null,
   "id": "f4703acf-b67e-437b-ac46-db03764f5333",
   "metadata": {},
   "outputs": [],
   "source": []
  },
  {
   "cell_type": "code",
   "execution_count": null,
   "id": "214fd93f-63e6-4a30-a124-0807391294b0",
   "metadata": {},
   "outputs": [],
   "source": []
  },
  {
   "cell_type": "code",
   "execution_count": null,
   "id": "55ccd021-791f-4cff-ba8d-cc7cf1f556ee",
   "metadata": {},
   "outputs": [],
   "source": []
  },
  {
   "cell_type": "code",
   "execution_count": null,
   "id": "6b7cdbd5-99fe-4dfd-a21d-fe0e09f1d959",
   "metadata": {},
   "outputs": [],
   "source": []
  },
  {
   "cell_type": "code",
   "execution_count": null,
   "id": "38d2bc55-e064-4a5d-83bc-0ff1b9fbaa7b",
   "metadata": {},
   "outputs": [],
   "source": []
  },
  {
   "cell_type": "code",
   "execution_count": null,
   "id": "47e62644-ea11-4f18-8a35-1be8d14d8c49",
   "metadata": {},
   "outputs": [],
   "source": []
  },
  {
   "cell_type": "code",
   "execution_count": null,
   "id": "02fb0125-d164-43d7-9f36-ac355b50ecaa",
   "metadata": {},
   "outputs": [],
   "source": []
  },
  {
   "cell_type": "code",
   "execution_count": null,
   "id": "3dc7d45c-3167-4335-bd46-b1d8bf3a0f1d",
   "metadata": {},
   "outputs": [],
   "source": []
  },
  {
   "cell_type": "code",
   "execution_count": null,
   "id": "6b88b454-96d6-4593-88a9-3573b39c1d68",
   "metadata": {},
   "outputs": [],
   "source": []
  },
  {
   "cell_type": "code",
   "execution_count": null,
   "id": "1ed90714-e2eb-4232-890d-b8e4caff9ade",
   "metadata": {},
   "outputs": [],
   "source": []
  },
  {
   "cell_type": "code",
   "execution_count": null,
   "id": "7cd16897-9786-4630-a88e-9a15d49d6e74",
   "metadata": {},
   "outputs": [],
   "source": []
  },
  {
   "cell_type": "code",
   "execution_count": null,
   "id": "ea5f6c7e-e7c4-4556-9bac-087d56cea011",
   "metadata": {},
   "outputs": [],
   "source": []
  },
  {
   "cell_type": "code",
   "execution_count": null,
   "id": "a535250e-5038-4c83-8d7c-bb9490352279",
   "metadata": {},
   "outputs": [],
   "source": []
  },
  {
   "cell_type": "code",
   "execution_count": null,
   "id": "26a59e78-0bc9-4025-9d89-c5ad66c5c356",
   "metadata": {},
   "outputs": [],
   "source": []
  },
  {
   "cell_type": "code",
   "execution_count": null,
   "id": "a658f859-045a-404a-88dd-66499bc55e0e",
   "metadata": {},
   "outputs": [],
   "source": []
  },
  {
   "cell_type": "code",
   "execution_count": null,
   "id": "3cc26137-5915-4384-9ddb-f8f0dcf1309a",
   "metadata": {},
   "outputs": [],
   "source": []
  },
  {
   "cell_type": "code",
   "execution_count": null,
   "id": "309bedfe-8702-4c3a-9c14-f670310888c4",
   "metadata": {},
   "outputs": [],
   "source": []
  },
  {
   "cell_type": "code",
   "execution_count": null,
   "id": "ce0fda30-24ae-4331-9b31-d5eb889a890f",
   "metadata": {},
   "outputs": [],
   "source": []
  },
  {
   "cell_type": "code",
   "execution_count": null,
   "id": "80ca6c68-ad40-439c-bb19-2244f1c5b160",
   "metadata": {},
   "outputs": [],
   "source": []
  },
  {
   "cell_type": "code",
   "execution_count": null,
   "id": "94b5c148-90cc-487b-ba4b-ddb428eb44c0",
   "metadata": {},
   "outputs": [],
   "source": []
  },
  {
   "cell_type": "code",
   "execution_count": null,
   "id": "5bc2bf15-1623-40d6-aa48-82feb5776b09",
   "metadata": {},
   "outputs": [],
   "source": []
  },
  {
   "cell_type": "code",
   "execution_count": null,
   "id": "26526d24-c6e0-4c86-86d4-96945e3bb5da",
   "metadata": {},
   "outputs": [],
   "source": []
  },
  {
   "cell_type": "code",
   "execution_count": null,
   "id": "55d41584-3cd4-44f2-ac1e-5feb4de400ce",
   "metadata": {},
   "outputs": [],
   "source": []
  },
  {
   "cell_type": "code",
   "execution_count": null,
   "id": "ccf91952-7a0a-472a-91d6-b31ac8fe2a09",
   "metadata": {},
   "outputs": [],
   "source": []
  },
  {
   "cell_type": "code",
   "execution_count": null,
   "id": "3c291138-05de-4455-baaa-9e02ab817ba8",
   "metadata": {},
   "outputs": [],
   "source": []
  },
  {
   "cell_type": "code",
   "execution_count": null,
   "id": "e039dea5-5e87-4cc4-8891-db2cb7a485c5",
   "metadata": {},
   "outputs": [],
   "source": []
  },
  {
   "cell_type": "code",
   "execution_count": null,
   "id": "888125e1-2297-47a1-8bc5-f15cea07bd57",
   "metadata": {},
   "outputs": [],
   "source": []
  },
  {
   "cell_type": "code",
   "execution_count": null,
   "id": "1e9af435-805e-4e2f-8d11-ec97e8c6dda5",
   "metadata": {},
   "outputs": [],
   "source": []
  },
  {
   "cell_type": "code",
   "execution_count": null,
   "id": "005634db-173d-48c7-9ae5-3a73fa3c6379",
   "metadata": {},
   "outputs": [],
   "source": []
  },
  {
   "cell_type": "code",
   "execution_count": null,
   "id": "583b6426-e150-410d-9b57-0537c7cd208d",
   "metadata": {},
   "outputs": [],
   "source": []
  },
  {
   "cell_type": "code",
   "execution_count": null,
   "id": "d528c2ee-52e0-4cd9-9083-dfbc245bcfee",
   "metadata": {},
   "outputs": [],
   "source": []
  },
  {
   "cell_type": "code",
   "execution_count": null,
   "id": "1c0a6bab-b0f6-4b88-9348-cf2b02b53134",
   "metadata": {},
   "outputs": [],
   "source": []
  },
  {
   "cell_type": "code",
   "execution_count": null,
   "id": "1a5a2f68-78f0-467b-b2f4-69ef2646aeb5",
   "metadata": {},
   "outputs": [],
   "source": []
  },
  {
   "cell_type": "code",
   "execution_count": null,
   "id": "364bcfae-16db-4b0e-b870-1743b78c99bf",
   "metadata": {},
   "outputs": [],
   "source": []
  },
  {
   "cell_type": "markdown",
   "id": "5c21334f-c560-4d48-b0af-67c381955562",
   "metadata": {},
   "source": [
    "## Output capacitor Co <a class=\"title_class\" id=\"title_3\"></a>"
   ]
  },
  {
   "cell_type": "code",
   "execution_count": null,
   "id": "117dd24d-4a1b-4561-9513-38e2487b4f9f",
   "metadata": {},
   "outputs": [],
   "source": []
  },
  {
   "cell_type": "markdown",
   "id": "66a7154e-5a10-44de-b28f-480e21b3598d",
   "metadata": {},
   "source": [
    "### Formulas <a class=\"title_class\" id=\"title_4\"></a>"
   ]
  },
  {
   "cell_type": "raw",
   "id": "e393b658-4bff-4113-808f-b57bbd17281e",
   "metadata": {},
   "source": [
    "For a resistive load, the output capacitor is determined by\n",
    "$$\n",
    "C_o \\geq C_{o_{min}} = \\frac{I_o}{8 \\cdot f_{sw} \\cdot \\Delta V_{out}}\n",
    "$$\n",
    "\n",
    "Where:\n",
    "\n",
    "- $C_o$ : Output capacitance (Farads, F)  \n",
    "- $I_o$ : Output load current (Amperes, A)  \n",
    "- $f_{sw}$ : Switching frequency of the converter (Hertz, Hz)  \n",
    "- $\\Delta V_{out}$ : Maximum allowed output voltage ripple (Volts, V)  \n",
    "$$ESR_{max} = \\frac{\\Delta V_{out}}{I_{rect\\_peak}} = \\frac{\\Delta V_{out}}{\\frac{\\pi}{4} \\cdot I_o\\cdot{2}}  $$\n",
    "$$I_{C_o} = I_o \\sqrt{\\frac{\\pi^2}{8} - 1}$$\n",
    "\n",
    "Where:\n",
    "\n",
    "- $I_{C_o}$ : RMS current of the capacitor @ f_sw = f_nom  \n",
    " \n",
    "See page 26, 27 [\\[1\\]](#referencesID_03_1).\n",
    "<br> By default, you can found all formula of this chapeter in the same ref "
   ]
  },
  {
   "cell_type": "markdown",
   "id": "a8d1b644-e766-454a-a92c-0f5eca222cfb",
   "metadata": {},
   "source": [
    "For a resistive load, the output capacitor is determined by\n",
    "\n",
    "$$\n",
    "C_o \\geq C_{o_{min}}\n",
    "$$\n",
    "\n",
    "$$\n",
    "C_{o_{min}} = \\frac{I_o}{8 \\cdot f_{sw} \\cdot \\Delta V_{outC}}\n",
    "$$\n",
    "\n",
    "Where:\n",
    "\n",
    "- $C_o$ : Output capacitance (Farads, F)  \n",
    "- $I_o$ : Output load current (Amperes, A)  \n",
    "- $f_{sw}$ : Switching frequency of the converter (Hertz, Hz)  \n",
    "- $\\Delta V_{out}$ : Maximum allowed output voltage ripple (Volts, V)  \n",
    "\n",
    "$$\n",
    "ESR_{max} = \\frac{\\Delta V_{outR}}{I_{rect\\_peak}}\n",
    "$$\n",
    "\n",
    "$$\n",
    "I_{rect\\_peak} = \\frac{\\pi}{4} \\cdot I_o \\cdot 2\n",
    "$$\n",
    "\n",
    "$$\n",
    "I_{C_o} = I_o \\sqrt{\\frac{\\pi^2}{8} - 1}\n",
    "$$\n",
    "\n",
    "Where:\n",
    "\n",
    "- $I_{C_o}$ : RMS current of the capacitor @ $f_{sw} = f_{nom}$\n",
    "\n",
    "And the total ripple voltage can be: \n",
    "- $V_{out} ≈ V_{outR}+ V_{outC}$\n",
    "  \n",
    "In this design we will verify:\n",
    "- $ V_{outR} < \\frac{V_{outMax}}{2}$\n",
    "- $ V_{outC} < \\frac{V_{outMax}}{2}$\n",
    "\n",
    "\n",
    "See page 26, 27 [\\[1\\]](#referencesID_03_1).  \n",
    "By default, you can find all formulas of this chapter in the same reference.\n"
   ]
  },
  {
   "cell_type": "markdown",
   "id": "3e35b1dc-f78c-49de-98b5-ba4e53695ea7",
   "metadata": {},
   "source": [
    "### Numerical Implementation of the Formulas <a class=\"title_class\" id=\"title_5\"></a>"
   ]
  },
  {
   "cell_type": "markdown",
   "id": "fb6e6a13-6da8-4d0e-9afb-ba5d4b6b5b84",
   "metadata": {},
   "source": [
    "**We must use fsw_min to the worst case**"
   ]
  },
  {
   "cell_type": "code",
   "execution_count": 47,
   "id": "03984c6a-ba81-4f56-a30e-1332d6b3b7b7",
   "metadata": {},
   "outputs": [
    {
     "data": {
      "text/latex": [
       "$\n",
       "\\begin{aligned}\n",
       "\\mathrm{Io} &= 25.000 \\; \\;\\textrm{(A)}\n",
       "\\\\[10pt]\n",
       "\\mathrm{fsw}_{min} &= 60170.000 \\; \\;\\textrm{(Hz)}\n",
       "\\\\[10pt]\n",
       "\\mathrm{DV} &= 0.250 \\; \\;\\textrm{(vpp)}\n",
       "\\\\[10pt]\n",
       "\\mathrm{Co}_{min_{uF}} &= 1 \\times 10 ^ {6} \\cdot \\frac{ \\mathrm{Io} }{ 8 \\cdot \\mathrm{fsw}_{min} \\cdot \\mathrm{DV} } \\\\&= 1 \\times 10 ^ {6} \\cdot \\frac{ 25.000 }{ 8 \\cdot 60170.000 \\cdot 0.250 } \\\\&= 207.745 \\; \\;\\textrm{(uF)}\\\\[10pt]\n",
       "\\\\[10pt]\n",
       "\\mathrm{ESR}_{max_{m}} &= 1 \\times 10 ^ {3} \\cdot \\frac{ \\mathrm{DV} }{ \\mathrm{Io} \\cdot \\frac{ \\pi }{ 2 } } \\\\&= 1 \\times 10 ^ {3} \\cdot \\frac{ 0.250 }{ 25.000 \\cdot \\frac{ 3.142 }{ 2 } } \\\\&= 6.366 \\; \\;\\textrm{(mΩ)}\\\\[10pt]\n",
       "\\\\[10pt]\n",
       "I_{Co} &= \\mathrm{Io} \\cdot \\sqrt { \\frac{ \\left( \\pi \\right) ^{ 2 } }{ 8 } - 1 } \\\\&= 25.000 \\cdot \\sqrt { \\frac{ \\left( 3.142 \\right) ^{ 2 } }{ 8 } - 1 } \\\\&= 12.086 \\; \\;\\textrm{(Arms)}\\\\[10pt]\n",
       "\\end{aligned}\n",
       "$"
      ],
      "text/plain": [
       "<IPython.core.display.Latex object>"
      ]
     },
     "metadata": {},
     "output_type": "display_data"
    }
   ],
   "source": [
    "%%render long\n",
    "Io # A\n",
    "fsw_min # Hz\n",
    "DV = 0.25 # vpp\n",
    "Co_min_uF = 1e6*Io/(8*fsw_min*DV ) # uF\n",
    "ESR_max_m = 1e3*DV /(Io*pi/2) # mΩ \n",
    "I_Co= Io*sqrt(pi**2/8-1) # Arms"
   ]
  },
  {
   "cell_type": "code",
   "execution_count": 48,
   "id": "403d3bf7-bc34-4c60-a79e-b0efdbe25afa",
   "metadata": {},
   "outputs": [
    {
     "data": {
      "text/latex": [
       "$\n",
       "\\begin{aligned}\n",
       "\\mathrm{Io} &= 25.000 \\; \\;\\textrm{(A)}\n",
       "\\\\[10pt]\n",
       "\\mathrm{fsw}_{min} &= 60170.000 \\; \\;\\textrm{(Hz)}\n",
       "\\\\[10pt]\n",
       "\\mathrm{DV} &= 0.250 \\; \\;\\textrm{(vpp)}\n",
       "\\\\[10pt]\n",
       "\\mathrm{Co}_{min_{uF}} &= 1 \\times 10 ^ {6} \\cdot \\frac{ \\mathrm{Io} }{ 8 \\cdot \\mathrm{fsw}_{min} \\cdot \\mathrm{DV} } \\\\&= 1 \\times 10 ^ {6} \\cdot \\frac{ 25.000 }{ 8 \\cdot 60170.000 \\cdot 0.250 } \\\\&= 207.745 \\; \\;\\textrm{(uF)}\\\\[10pt]\n",
       "\\\\[10pt]\n",
       "\\mathrm{ESR}_{max_{m}} &= 1 \\times 10 ^ {3} \\cdot \\frac{ \\mathrm{DV} }{ \\mathrm{Io} \\cdot \\frac{ \\pi }{ 2 } } \\\\&= 1 \\times 10 ^ {3} \\cdot \\frac{ 0.250 }{ 25.000 \\cdot \\frac{ 3.142 }{ 2 } } \\\\&= 6.366 \\; \\;\\textrm{(mΩ)}\\\\[10pt]\n",
       "\\\\[10pt]\n",
       "I_{Co} &= \\mathrm{Io} \\cdot \\sqrt { \\frac{ \\left( \\pi \\right) ^{ 2 } }{ 8 } - 1 } \\\\&= 25.000 \\cdot \\sqrt { \\frac{ \\left( 3.142 \\right) ^{ 2 } }{ 8 } - 1 } \\\\&= 12.086 \\; \\;\\textrm{(Arms)}\\\\[10pt]\n",
       "\\end{aligned}\n",
       "$"
      ],
      "text/plain": [
       "<IPython.core.display.Latex object>"
      ]
     },
     "metadata": {},
     "output_type": "display_data"
    }
   ],
   "source": [
    "%%render long\n",
    "Io # A\n",
    "fsw_min # Hz\n",
    "DV = 0.25 # vpp\n",
    "Co_min_uF = 1e6*Io/(8*fsw_min*DV ) # uF\n",
    "ESR_max_m = 1e3*DV /(Io*pi/2) # mΩ \n",
    "I_Co= Io*sqrt(pi**2/8-1) # Arms"
   ]
  },
  {
   "cell_type": "markdown",
   "id": "9ad5f50a-9789-4f57-9a74-f7dc23731c70",
   "metadata": {},
   "source": [
    "### First proposition <a class=\"title_class\" id=\"title_6\"></a>"
   ]
  },
  {
   "cell_type": "markdown",
   "id": "f32e3628-488d-4aee-ab48-0d39939984af",
   "metadata": {},
   "source": [
    "B40910A8127M000 aluminum electrolytic capacitors with Temp_max = 150°C, Below a screenshoot of the datasheet [\\[2\\]](#referencesID_03_2)."
   ]
  },
  {
   "cell_type": "code",
   "execution_count": 49,
   "id": "eb61fb71-6015-4f81-bcdc-071bdff14b1c",
   "metadata": {},
   "outputs": [
    {
     "data": {
      "text/html": [
       "\n",
       " \n",
       "      <div style=\"width: 19cm; text-align: center;\">\n",
       "        <img src=\"./03_figures/B40910.png\" style=\"width: 19cm;\">\n",
       "        <div style=\"width: 19cm; word-wrap: break-word;\">\n",
       "            <b>Figure 1:</b> B40910A8127M000 aluminum electrolytic capacitors with Temp_max = 150°C\n",
       "        </div>\n",
       "      </div>\n",
       "      </div>\n",
       "\n",
       "    <br>\n",
       "    "
      ],
      "text/plain": [
       "<IPython.core.display.HTML object>"
      ]
     },
     "metadata": {},
     "output_type": "display_data"
    }
   ],
   "source": [
    "first_part_path = \"./03_figures/\"\n",
    "\n",
    "fig_counter = One_figure_with_captions(\n",
    "    fig_counter, \n",
    "    \"B40910.png\",\n",
    "    \"B40910A8127M000 aluminum electrolytic capacitors with Temp_max = 150°C\",\n",
    "    first_part_path= first_part_path, \n",
    ")"
   ]
  },
  {
   "cell_type": "code",
   "execution_count": null,
   "id": "7b5779ad-6740-48ff-a07c-76712489b478",
   "metadata": {},
   "outputs": [],
   "source": []
  },
  {
   "cell_type": "markdown",
   "id": "854ac887-9998-447c-a40b-c0d6a757a969",
   "metadata": {},
   "source": [
    "Let's start with a configuration of 5 capacitors in parallel"
   ]
  },
  {
   "cell_type": "code",
   "execution_count": 50,
   "id": "bf8c2381-0d71-473a-99f0-70c00b67042e",
   "metadata": {},
   "outputs": [
    {
     "data": {
      "text/latex": [
       "$\n",
       "\\begin{aligned}\n",
       "\\mathrm{Nb}_{capa} &= 6 \\; \n",
       "\\\\[10pt]\n",
       "C_{capa_{nom}} &= 120 \\; \\;\\textrm{(uF)}\n",
       "\\\\[10pt]\n",
       "\\mathrm{Margin} &= 20 \\; \\;\\textrm{(\\%)}\n",
       "\\\\[10pt]\n",
       "C_{capa} &= C_{capa_{nom}} \\cdot \\left( 1 - \\frac{ \\mathrm{Margin} }{ 100 } \\right) \\\\&= 120 \\cdot \\left( 1 - \\frac{ 20 }{ 100 } \\right) \\\\&= 96.000 \\; \\;\\textrm{(uF, Worst case)}\\\\[10pt]\n",
       "\\\\[10pt]\n",
       "C_{eq} &= C_{capa} \\cdot \\mathrm{Nb}_{capa} \\\\&= 96.000 \\cdot 6 \\\\&= 576.000 \\; \\;\\textrm{(uF > 208uF ok)}\\\\[10pt]\n",
       "\\\\[10pt]\n",
       "\\mathrm{ESR}_{capa} &= 17 \\; \\;\\textrm{(Ω @ 100kHz)}\n",
       "\\\\[10pt]\n",
       "\\mathrm{ESR}_{eq} &= \\frac{ \\mathrm{ESR}_{capa} }{ \\mathrm{Nb}_{capa} } \\\\&= \\frac{ 17 }{ 6 } \\\\&= 2.833 \\; \\;\\textrm{(Ω < 6.36m OK)}\\\\[10pt]\n",
       "\\\\[10pt]\n",
       "\\mathrm{Icapa}_{max} &= 4.600 \\; \n",
       "\\\\[10pt]\n",
       "\\mathrm{Ieq}_{max} &= \\mathrm{Icapa}_{max} \\cdot \\mathrm{Nb}_{capa} \\\\&= 4.600 \\cdot 6 \\\\&= 27.600 \\; \\;\\textrm{(@ Arms @ 125°C 100kHz > 12.08Arms ok)}\\\\[10pt]\n",
       "\\end{aligned}\n",
       "$"
      ],
      "text/plain": [
       "<IPython.core.display.Latex object>"
      ]
     },
     "metadata": {},
     "output_type": "display_data"
    }
   ],
   "source": [
    "%%render long\n",
    "#4 parallels capascitor\n",
    "Nb_capa= 6\n",
    "C_capa_nom = 120 # uF\n",
    "Margin = 20 #\\%\n",
    "C_capa = C_capa_nom*(1-Margin/100)# uF, Worst case \n",
    "C_eq = C_capa*Nb_capa # uF > 208uF ok\n",
    "ESR_capa= 17 # Ω @ 100kHz\n",
    "\n",
    "ESR_eq = ESR_capa/Nb_capa # Ω < 6.36m OK\n",
    "Icapa_max = 4.6\n",
    "Ieq_max = Icapa_max *Nb_capa  #  @ Arms @ 125°C 100kHz > 12.08Arms ok"
   ]
  },
  {
   "cell_type": "markdown",
   "id": "e5b7f66d-962d-4e10-8801-db45246edecd",
   "metadata": {},
   "source": [
    "**Voltage ripples**"
   ]
  },
  {
   "cell_type": "code",
   "execution_count": 51,
   "id": "9a4d0a9c-a890-471d-bb94-04fd6135c211",
   "metadata": {},
   "outputs": [
    {
     "data": {
      "text/latex": [
       "$\n",
       "\\begin{aligned}\n",
       "\\Delta_{V_{outC}} &= \\frac{ \\mathrm{Io} }{ 8 \\cdot \\mathrm{fsw}_{min} \\cdot C_{eq} \\cdot 1 \\times 10 ^ {-6} } \\\\&= \\frac{ 25.000 }{ 8 \\cdot 60170.000 \\cdot 576.000 \\cdot 1 \\times 10 ^ {-6} } \\\\&= 0.090  \\\\[10pt]\n",
       "\\\\[10pt]\n",
       "I_{rect_{peak}} &= \\mathrm{Io} \\cdot \\frac{ \\pi }{ 2 } \\\\&= 25.000 \\cdot \\frac{ 3.142 }{ 2 } \\\\&= 39.270  \\\\[10pt]\n",
       "\\\\[10pt]\n",
       "\\Delta_{V_{outR}} &= I_{rect_{peak}} \\cdot \\mathrm{ESR}_{eq} \\cdot 1 \\times 10 ^ {-3} \\\\&= 39.270 \\cdot 2.833 \\cdot 1 \\times 10 ^ {-3} \\\\&= 0.111  \\\\[10pt]\n",
       "\\\\[10pt]\n",
       "\\Delta_{V_{out}} &= \\Delta_{V_{outR}} + \\Delta_{V_{outC}} \\\\&= 0.111 + 0.090 \\\\&= 0.201 \\; \\;\\textrm{(< 0.25mV)}\\\\[10pt]\n",
       "\\end{aligned}\n",
       "$"
      ],
      "text/plain": [
       "<IPython.core.display.Latex object>"
      ]
     },
     "metadata": {},
     "output_type": "display_data"
    }
   ],
   "source": [
    "%%render long\n",
    "Delta_V_outC = Io/(8*fsw_min*C_eq*1e-6 )\n",
    "\n",
    "I_rect_peak= Io*pi/2\n",
    "\n",
    "Delta_V_outR = I_rect_peak*ESR_eq*1e-3\n",
    "\n",
    "Delta_V_out = Delta_V_outR+ Delta_V_outC # < 0.25mV"
   ]
  },
  {
   "cell_type": "markdown",
   "id": "39069d05-33c5-40e0-a1db-678d5a510c6e",
   "metadata": {},
   "source": [
    "#### Self heating"
   ]
  },
  {
   "cell_type": "markdown",
   "id": "a7c4020e-9931-4a2e-893f-1e5ad41f4d57",
   "metadata": {},
   "source": [
    "**Power Dissipation of Each Capacitor**"
   ]
  },
  {
   "cell_type": "code",
   "execution_count": 52,
   "id": "0d1b51d9-13fb-4052-a100-5e06297470fc",
   "metadata": {},
   "outputs": [
    {
     "data": {
      "text/latex": [
       "$\n",
       "\\begin{aligned}\n",
       "I_{each_{capa}} &= \\frac{ I_{Co} }{ \\mathrm{Nb}_{capa} } \\\\&= \\frac{ 12.086 }{ 6 } \\\\&= 2.014  \\\\[10pt]\n",
       "\\\\[10pt]\n",
       "P_{selfHeating} &= \\mathrm{ESR}_{capa} \\cdot 1 \\times 10 ^ {-3} \\cdot \\left( I_{each_{capa}} \\right) ^{ 2 } \\\\&= 17 \\cdot 1 \\times 10 ^ {-3} \\cdot \\left( 2.014 \\right) ^{ 2 } \\\\&= 0.069 \\; \\;\\textrm{(W)}\\\\[10pt]\n",
       "\\end{aligned}\n",
       "$"
      ],
      "text/plain": [
       "<IPython.core.display.Latex object>"
      ]
     },
     "metadata": {},
     "output_type": "display_data"
    }
   ],
   "source": [
    "%%render long\n",
    "I_each_capa= I_Co/Nb_capa\n",
    "P_selfHeating = ESR_capa*1e-3*I_each_capa**2 # W"
   ]
  },
  {
   "cell_type": "code",
   "execution_count": null,
   "id": "76aa37f0-9165-4ef1-a8ce-8c3e0f08bc23",
   "metadata": {},
   "outputs": [],
   "source": []
  },
  {
   "cell_type": "markdown",
   "id": "6a0e92cb-813e-44ad-b7a5-7ce5cf65fc67",
   "metadata": {},
   "source": [
    "**Estimation of Thermal Resistance Rth**"
   ]
  },
  {
   "cell_type": "code",
   "execution_count": 53,
   "id": "8c965ab5-1547-44d9-b185-035a0a90cbac",
   "metadata": {},
   "outputs": [
    {
     "data": {
      "text/latex": [
       "$\n",
       "\\begin{aligned}\n",
       "\\Delta_{T} &= 150 - 125 &= 25 \\; \\;\\textrm{(°C)}\n",
       "\\\\[10pt]\n",
       "\\mathrm{ESR} &= 0.017 \\; \n",
       "\\\\[10pt]\n",
       "I &= 4.600 \\; \\;\\textrm{(Arms)}\n",
       "\\\\[10pt]\n",
       "P_{dissip} &= \\mathrm{ESR} \\cdot \\left( I \\right) ^{ 2 } \\\\&= 0.017 \\cdot \\left( 4.600 \\right) ^{ 2 } \\\\&= 0.360 \\; \\;\\textrm{(W)}\\\\[10pt]\n",
       "\\\\[10pt]\n",
       "R_{th} &= \\frac{ \\Delta_{T} }{ P_{dissip} } \\\\&= \\frac{ 25 }{ 0.360 } \\\\&= 69.498 \\; \\;\\textrm{(°C/W)}\\\\[10pt]\n",
       "\\end{aligned}\n",
       "$"
      ],
      "text/plain": [
       "<IPython.core.display.Latex object>"
      ]
     },
     "metadata": {},
     "output_type": "display_data"
    }
   ],
   "source": [
    "%%render long\n",
    "# Estimation or Rth \n",
    "\n",
    "# @100Khz and 125°C Iac,R I=4.6A\n",
    "# 100KHZ 20°C ESR = 0.017 Ohm \n",
    "# Max T = 150°C \n",
    "Delta_T= 150-125 # °C\n",
    "ESR = 17e-3\n",
    "I = 4.6 # Arms\n",
    "P_dissip= ESR*I**2 # W\n",
    "R_th = Delta_T/P_dissip # °C/W"
   ]
  },
  {
   "cell_type": "markdown",
   "id": "5751fa15-2a13-431b-b177-448c46cc7140",
   "metadata": {},
   "source": [
    "**The self heating estimation and the max ambiant temp**"
   ]
  },
  {
   "cell_type": "code",
   "execution_count": null,
   "id": "fd1d5fae-9307-4b61-9539-f7d58c494d4c",
   "metadata": {},
   "outputs": [],
   "source": []
  },
  {
   "cell_type": "code",
   "execution_count": 54,
   "id": "d7e360d2-5cdf-481a-bb2b-79a379e2d9d0",
   "metadata": {},
   "outputs": [
    {
     "data": {
      "text/latex": [
       "$\n",
       "\\begin{aligned}\n",
       "\\Delta_{T} &= P_{selfHeating} \\cdot R_{th} \\\\&= 0.069 \\cdot 69.498 \\\\&= 4.794 \\; \\;\\textrm{(°C => low delta temp)}\\\\[10pt]\n",
       "\\\\[10pt]\n",
       "\\mathrm{Margin} &= 30 \\; \\;\\textrm{(°C)}\n",
       "\\\\[10pt]\n",
       "T_{max} &= 150 \\; \n",
       "\\\\[10pt]\n",
       "T_{amb_{max}} &= T_{max} - \\Delta_{T} - \\mathrm{Margin} \\\\&= 150 - 4.794 - 30 \\\\&= 115.206 \\; \\;\\textrm{(°C)}\\\\[10pt]\n",
       "\\end{aligned}\n",
       "$"
      ],
      "text/plain": [
       "<IPython.core.display.Latex object>"
      ]
     },
     "metadata": {},
     "output_type": "display_data"
    }
   ],
   "source": [
    "%%render long\n",
    "# self heating \n",
    "Delta_T= P_selfHeating*R_th # °C => low delta temp\n",
    "Margin = 30 # °C \n",
    "T_max = 150\n",
    "T_amb_max = T_max -Delta_T-Margin  # °C "
   ]
  },
  {
   "cell_type": "markdown",
   "id": "5ac87779-bd08-4508-a5af-62d3c61655d2",
   "metadata": {},
   "source": [
    "**Voltage margin**"
   ]
  },
  {
   "cell_type": "code",
   "execution_count": 55,
   "id": "16016bea-19f1-41db-bc6b-0bfcaaa19014",
   "metadata": {},
   "outputs": [
    {
     "data": {
      "text/latex": [
       "$\n",
       "\\begin{aligned}\n",
       "\\mathrm{Vo}_{max} &= 54.000 \\; \\;\\textrm{(VDC)}\n",
       "\\\\[10pt]\n",
       "V_{max_{datasheet}} &= 63 \\; \\;\\textrm{(VDC)}\n",
       "\\\\[10pt]\n",
       "\\mathrm{Voltage}_{Margin} &= 100 \\cdot \\frac{ V_{max_{datasheet}} - \\mathrm{Vo}_{max} }{ V_{max_{datasheet}} } \\\\&= 100 \\cdot \\frac{ 63 - 54.000 }{ 63 } \\\\&= 14.286 \\; \\;\\textrm{(\\%)}\\\\[10pt]\n",
       "\\end{aligned}\n",
       "$"
      ],
      "text/plain": [
       "<IPython.core.display.Latex object>"
      ]
     },
     "metadata": {},
     "output_type": "display_data"
    }
   ],
   "source": [
    "%%render long \n",
    "Vo_max # VDC\n",
    "V_max_datasheet = 63 # VDC\n",
    "Voltage_Margin =  100*(V_max_datasheet-Vo_max) /V_max_datasheet # \\%"
   ]
  },
  {
   "cell_type": "markdown",
   "id": "10d09274-8937-45e0-8beb-b62f1d97b134",
   "metadata": {},
   "source": [
    "This solution is acceptable, but the voltage margin is limited."
   ]
  },
  {
   "cell_type": "code",
   "execution_count": null,
   "id": "8b005f04-3fb5-4af4-bd5f-99af488777b1",
   "metadata": {},
   "outputs": [],
   "source": []
  },
  {
   "cell_type": "code",
   "execution_count": 56,
   "id": "bffdd6b8-6894-4387-8fd3-4203c5a6bb94",
   "metadata": {},
   "outputs": [],
   "source": [
    "dic_capa1= {}\n",
    "for x in \"C_capa,ESR_eq,C_eq,Ieq_max,Nb_capa,P_selfHeating,T_amb_max,Voltage_Margin,Delta_V_out\".split(\",\"):\n",
    "    dic_capa1[x]= eval(x)"
   ]
  },
  {
   "cell_type": "markdown",
   "id": "d25033a7-e388-4c71-9a2a-7bf83ce84699",
   "metadata": {},
   "source": [
    "### Second proposition <a class=\"title_class\" id=\"title_7\"></a>"
   ]
  },
  {
   "cell_type": "markdown",
   "id": "8a2e7261-2282-4088-a2ce-de7a48a7b2e2",
   "metadata": {},
   "source": [
    "EMHS101ARA331MMN0S aluminum electrolytic capacitors with Temp_max = 150°C, Below a screenshoot of the datasheet [\\[4\\]](#referencesID_03_4)."
   ]
  },
  {
   "cell_type": "code",
   "execution_count": 57,
   "id": "cc288a22-a614-4c59-bf77-8a0bd787c92e",
   "metadata": {},
   "outputs": [
    {
     "data": {
      "text/html": [
       "\n",
       " \n",
       "      <div style=\"width: 19cm; text-align: center;\">\n",
       "        <img src=\"./03_figures/EMHS.png\" style=\"width: 19cm;\">\n",
       "        <div style=\"width: 19cm; word-wrap: break-word;\">\n",
       "            <b>Figure 2:</b> EMHS101ARA331MMN0S aluminum electrolytic capacitors with Temp_max = 150°C\n",
       "        </div>\n",
       "      </div>\n",
       "      </div>\n",
       "\n",
       "    <br>\n",
       "    "
      ],
      "text/plain": [
       "<IPython.core.display.HTML object>"
      ]
     },
     "metadata": {},
     "output_type": "display_data"
    }
   ],
   "source": [
    "first_part_path = \"./03_figures/\"\n",
    "\n",
    "fig_counter = One_figure_with_captions(\n",
    "    fig_counter, \n",
    "    \"EMHS.png\",\n",
    "    \"EMHS101ARA331MMN0S aluminum electrolytic capacitors with Temp_max = 150°C\",\n",
    "    first_part_path= first_part_path, \n",
    ")"
   ]
  },
  {
   "cell_type": "markdown",
   "id": "97987c9d-c9e4-4233-a172-de503fd6da20",
   "metadata": {},
   "source": [
    "Let's start with a configuration of 5 capacitors in parallel"
   ]
  },
  {
   "cell_type": "code",
   "execution_count": 58,
   "id": "1a1e49ce-83c8-47af-8acb-60ded94b11d6",
   "metadata": {},
   "outputs": [
    {
     "data": {
      "text/latex": [
       "$\n",
       "\\begin{aligned}\n",
       "\\mathrm{Nb}_{capa} &= 10 \\; \n",
       "\\\\[10pt]\n",
       "C_{capa_{nom}} &= 330 \\; \\;\\textrm{(uF)}\n",
       "\\\\[10pt]\n",
       "\\mathrm{Margin} &= 20 \\; \\;\\textrm{(\\%)}\n",
       "\\\\[10pt]\n",
       "C_{capa} &= C_{capa_{nom}} \\cdot \\left( 1 - \\frac{ \\mathrm{Margin} }{ 100 } \\right) \\\\&= 330 \\cdot \\left( 1 - \\frac{ 20 }{ 100 } \\right) \\\\&= 264.000 \\; \\;\\textrm{(uF, Worst case)}\\\\[10pt]\n",
       "\\\\[10pt]\n",
       "C_{eq} &= C_{capa} \\cdot \\mathrm{Nb}_{capa} \\\\&= 264.000 \\cdot 10 \\\\&= 2640.000 \\; \\;\\textrm{(uF > 208uF ok)}\\\\[10pt]\n",
       "\\\\[10pt]\n",
       "\\mathrm{ESR}_{capa} &= 59 \\; \\;\\textrm{(Ω @ 100kHz)}\n",
       "\\\\[10pt]\n",
       "\\mathrm{ESR}_{eq} &= \\frac{ \\mathrm{ESR}_{capa} }{ \\mathrm{Nb}_{capa} } \\\\&= \\frac{ 59 }{ 10 } \\\\&= 5.900 \\; \\;\\textrm{(Ω < 6.36m OK)}\\\\[10pt]\n",
       "\\\\[10pt]\n",
       "\\mathrm{Icapa}_{max} &= 2.300 \\; \n",
       "\\\\[10pt]\n",
       "\\mathrm{Ieq}_{max} &= \\mathrm{Icapa}_{max} \\cdot \\mathrm{Nb}_{capa} \\\\&= 2.300 \\cdot 10 \\\\&= 23.000 \\; \\;\\textrm{(@ Arms)}\\\\[10pt]\n",
       "\\end{aligned}\n",
       "$"
      ],
      "text/plain": [
       "<IPython.core.display.Latex object>"
      ]
     },
     "metadata": {},
     "output_type": "display_data"
    }
   ],
   "source": [
    "%%render long\n",
    "#4 parallels capascitor\n",
    "Nb_capa= 10\n",
    "C_capa_nom = 330 # uF\n",
    "Margin = 20 #\\%\n",
    "C_capa = C_capa_nom*(1-Margin/100)# uF, Worst case \n",
    "C_eq = C_capa*Nb_capa # uF > 208uF ok\n",
    "ESR_capa= 59 # Ω @ 100kHz\n",
    "\n",
    "ESR_eq = ESR_capa/Nb_capa # Ω < 6.36m OK\n",
    "Icapa_max = 2.3\n",
    "\n",
    "Ieq_max = Icapa_max *Nb_capa  #  @ Arms \n",
    "#@ 125°C 100kHz > 12.08Arms ok"
   ]
  },
  {
   "cell_type": "markdown",
   "id": "44aa49ae-a69c-4ec8-abc9-829ec7ccc9da",
   "metadata": {},
   "source": [
    "**Voltage ripples**"
   ]
  },
  {
   "cell_type": "code",
   "execution_count": 59,
   "id": "b96d25ea-3aef-4fd0-81f4-ffc0bdc01f10",
   "metadata": {},
   "outputs": [
    {
     "data": {
      "text/latex": [
       "$\n",
       "\\begin{aligned}\n",
       "\\Delta_{V_{outC}} &= \\frac{ \\mathrm{Io} }{ 8 \\cdot \\mathrm{fsw}_{min} \\cdot C_{eq} \\cdot 1 \\times 10 ^ {-6} } \\\\&= \\frac{ 25.000 }{ 8 \\cdot 60170.000 \\cdot 2640.000 \\cdot 1 \\times 10 ^ {-6} } \\\\&= 0.020  \\\\[10pt]\n",
       "\\\\[10pt]\n",
       "I_{rect_{peak}} &= \\mathrm{Io} \\cdot \\frac{ \\pi }{ 2 } \\\\&= 25.000 \\cdot \\frac{ 3.142 }{ 2 } \\\\&= 39.270  \\\\[10pt]\n",
       "\\\\[10pt]\n",
       "\\Delta_{V_{outR}} &= I_{rect_{peak}} \\cdot \\mathrm{ESR}_{eq} \\cdot 1 \\times 10 ^ {-3} \\\\&= 39.270 \\cdot 5.900 \\cdot 1 \\times 10 ^ {-3} \\\\&= 0.232  \\\\[10pt]\n",
       "\\\\[10pt]\n",
       "\\Delta_{V_{out}} &= \\Delta_{V_{outR}} + \\Delta_{V_{outC}} \\\\&= 0.232 + 0.020 \\\\&= 0.251 \\; \\;\\textrm{(clause to 0.25mV)}\\\\[10pt]\n",
       "\\end{aligned}\n",
       "$"
      ],
      "text/plain": [
       "<IPython.core.display.Latex object>"
      ]
     },
     "metadata": {},
     "output_type": "display_data"
    }
   ],
   "source": [
    "%%render long\n",
    "Delta_V_outC = Io/(8*fsw_min*C_eq*1e-6 )\n",
    "\n",
    "I_rect_peak= Io*pi/2\n",
    "\n",
    "Delta_V_outR = I_rect_peak*ESR_eq*1e-3\n",
    "\n",
    "Delta_V_out = Delta_V_outR+ Delta_V_outC # clause to 0.25mV"
   ]
  },
  {
   "cell_type": "markdown",
   "id": "4d04d927-2107-446f-aba4-866a9c7f5bb4",
   "metadata": {},
   "source": [
    "#### Self heating"
   ]
  },
  {
   "cell_type": "markdown",
   "id": "00b37314-19fd-4be3-b085-b2ea7038d14b",
   "metadata": {},
   "source": [
    "**Power Dissipation of Each Capacitor**"
   ]
  },
  {
   "cell_type": "code",
   "execution_count": 60,
   "id": "7ffaba01-2261-49c4-b8e7-3f97ccd94a4f",
   "metadata": {},
   "outputs": [
    {
     "data": {
      "text/latex": [
       "$\n",
       "\\begin{aligned}\n",
       "I_{each_{capa}} &= \\frac{ I_{Co} }{ \\mathrm{Nb}_{capa} } \\\\&= \\frac{ 12.086 }{ 10 } \\\\&= 1.209  \\\\[10pt]\n",
       "\\\\[10pt]\n",
       "P_{selfHeating} &= \\mathrm{ESR}_{capa} \\cdot 1 \\times 10 ^ {-3} \\cdot \\left( I_{each_{capa}} \\right) ^{ 2 } \\\\&= 59 \\cdot 1 \\times 10 ^ {-3} \\cdot \\left( 1.209 \\right) ^{ 2 } \\\\&= 0.086 \\; \\;\\textrm{(W)}\\\\[10pt]\n",
       "\\end{aligned}\n",
       "$"
      ],
      "text/plain": [
       "<IPython.core.display.Latex object>"
      ]
     },
     "metadata": {},
     "output_type": "display_data"
    }
   ],
   "source": [
    "%%render long\n",
    "I_each_capa= I_Co/Nb_capa\n",
    "P_selfHeating = ESR_capa*1e-3*I_each_capa**2 # W"
   ]
  },
  {
   "cell_type": "markdown",
   "id": "804ce037-13c9-4e15-aa26-5f13a7c7eb8d",
   "metadata": {},
   "source": [
    "**Estimation of Thermal Resistance Rth**"
   ]
  },
  {
   "cell_type": "code",
   "execution_count": 61,
   "id": "7e987666-52da-4a9e-88ad-d8f176bd4390",
   "metadata": {},
   "outputs": [
    {
     "data": {
      "text/latex": [
       "$\n",
       "\\begin{aligned}\n",
       "\\Delta_{T} &= 150 - 125 &= 25 \\; \\;\\textrm{(°C)}\n",
       "\\\\[10pt]\n",
       "P_{dissip} &= \\mathrm{ESR}_{capa} \\cdot 1 \\times 10 ^ {-3} \\cdot \\left( \\mathrm{Icapa}_{max} \\right) ^{ 2 } \\\\&= 59 \\cdot 1 \\times 10 ^ {-3} \\cdot \\left( 2.300 \\right) ^{ 2 } \\\\&= 0.312 \\; \\;\\textrm{(W)}\\\\[10pt]\n",
       "\\\\[10pt]\n",
       "R_{th} &= \\frac{ \\Delta_{T} }{ P_{dissip} } \\\\&= \\frac{ 25 }{ 0.312 } \\\\&= 80.100 \\; \\;\\textrm{(°C/W)}\\\\[10pt]\n",
       "\\end{aligned}\n",
       "$"
      ],
      "text/plain": [
       "<IPython.core.display.Latex object>"
      ]
     },
     "metadata": {},
     "output_type": "display_data"
    }
   ],
   "source": [
    "%%render long\n",
    "# Estimation or Rth \n",
    "\n",
    "# @100Khz and 125°C Iac,R I=4.6A\n",
    "# 100KHZ 20°C ESR = 0.017 Ohm \n",
    "# Max T = 150°C \n",
    "Delta_T= 150-125 # °C\n",
    "P_dissip= ESR_capa*1e-3*Icapa_max **2 # W\n",
    "R_th = Delta_T/P_dissip # °C/W"
   ]
  },
  {
   "cell_type": "markdown",
   "id": "f703cc6b-12fa-4a57-be48-697d8fdc246b",
   "metadata": {},
   "source": [
    "**The self heating estimation and the max ambiant temp**"
   ]
  },
  {
   "cell_type": "code",
   "execution_count": 62,
   "id": "e8705c89-f97a-4df0-a23c-2b06778f285e",
   "metadata": {},
   "outputs": [
    {
     "data": {
      "text/latex": [
       "$\n",
       "\\begin{aligned}\n",
       "\\Delta_{T} &= P_{selfHeating} \\cdot R_{th} \\\\&= 0.086 \\cdot 80.100 \\\\&= 6.903 \\; \\;\\textrm{(°C => low delta temp)}\\\\[10pt]\n",
       "\\\\[10pt]\n",
       "\\mathrm{Margin} &= 30 \\; \\;\\textrm{(°C)}\n",
       "\\\\[10pt]\n",
       "T_{max} &= 150 \\; \n",
       "\\\\[10pt]\n",
       "T_{amb_{max}} &= T_{max} - \\Delta_{T} - \\mathrm{Margin} \\\\&= 150 - 6.903 - 30 \\\\&= 113.097 \\; \\;\\textrm{(°C)}\\\\[10pt]\n",
       "\\end{aligned}\n",
       "$"
      ],
      "text/plain": [
       "<IPython.core.display.Latex object>"
      ]
     },
     "metadata": {},
     "output_type": "display_data"
    }
   ],
   "source": [
    "%%render long\n",
    "# self heating \n",
    "Delta_T= P_selfHeating*R_th # °C => low delta temp\n",
    "Margin = 30 # °C \n",
    "T_max = 150\n",
    "T_amb_max = T_max -Delta_T-Margin  # °C "
   ]
  },
  {
   "cell_type": "code",
   "execution_count": 63,
   "id": "7b10d422-a0ca-4ad2-82fc-50f27d366ed1",
   "metadata": {},
   "outputs": [
    {
     "data": {
      "text/latex": [
       "$\n",
       "\\begin{aligned}\n",
       "\\mathrm{Vo}_{max} &= 54.000 \\; \\;\\textrm{(VDC)}\n",
       "\\\\[10pt]\n",
       "V_{max_{datasheet}} &= 100 \\; \\;\\textrm{(VDC)}\n",
       "\\\\[10pt]\n",
       "\\mathrm{Voltage}_{Margin} &= 100 \\cdot \\frac{ V_{max_{datasheet}} - \\mathrm{Vo}_{max} }{ V_{max_{datasheet}} } \\\\&= 100 \\cdot \\frac{ 100 - 54.000 }{ 100 } \\\\&= 46.000 \\; \\;\\textrm{(\\%)}\\\\[10pt]\n",
       "\\end{aligned}\n",
       "$"
      ],
      "text/plain": [
       "<IPython.core.display.Latex object>"
      ]
     },
     "metadata": {},
     "output_type": "display_data"
    }
   ],
   "source": [
    "%%render long \n",
    "Vo_max # VDC\n",
    "V_max_datasheet = 100 # VDC\n",
    "Voltage_Margin =  100*(V_max_datasheet-Vo_max) /V_max_datasheet # \\%"
   ]
  },
  {
   "cell_type": "code",
   "execution_count": 64,
   "id": "7b564af1-3ad2-4897-9456-3df220942de7",
   "metadata": {},
   "outputs": [],
   "source": [
    "dic_capa2= {}\n",
    "for x in \"C_capa,ESR_eq,C_eq,Ieq_max,Nb_capa,P_selfHeating,T_amb_max,Voltage_Margin,Delta_V_out\".split(\",\"):\n",
    "    dic_capa2[x]= eval(x)"
   ]
  },
  {
   "cell_type": "markdown",
   "id": "c02fcc68-66d2-429f-9a23-dbd6aaaf7d07",
   "metadata": {},
   "source": [
    "### Comparaison <a class=\"title_class\" id=\"title_8\"></a>"
   ]
  },
  {
   "cell_type": "code",
   "execution_count": 65,
   "id": "a05603cf-cb53-4e7e-82c2-b325f22b5a7f",
   "metadata": {},
   "outputs": [],
   "source": [
    "dic_capa1[\"VmaxDC\"]=63\n",
    "dic_capa2[\"VmaxDC\"]=100"
   ]
  },
  {
   "cell_type": "code",
   "execution_count": null,
   "id": "9f696778-5504-4c20-9484-9eefa671cd0d",
   "metadata": {},
   "outputs": [],
   "source": []
  },
  {
   "cell_type": "code",
   "execution_count": 66,
   "id": "2fd65c44-7117-4369-99e6-b08068b731db",
   "metadata": {},
   "outputs": [],
   "source": [
    "requirements= {\"ESR_eq\":ESR_max_m, \"C_eq\":Co_min_uF, \"Ieq_max\":I_Co, \n",
    "               \"VmaxDC\":Vo_max, \"Delta_V_out\":DV}"
   ]
  },
  {
   "cell_type": "code",
   "execution_count": 67,
   "id": "767ef21b-d900-4389-b4da-c3e1463c1ba6",
   "metadata": {},
   "outputs": [
    {
     "data": {
      "text/html": [
       "<div>\n",
       "<style scoped>\n",
       "    .dataframe tbody tr th:only-of-type {\n",
       "        vertical-align: middle;\n",
       "    }\n",
       "\n",
       "    .dataframe tbody tr th {\n",
       "        vertical-align: top;\n",
       "    }\n",
       "\n",
       "    .dataframe thead th {\n",
       "        text-align: right;\n",
       "    }\n",
       "</style>\n",
       "<table border=\"1\" class=\"dataframe\">\n",
       "  <thead>\n",
       "    <tr style=\"text-align: right;\">\n",
       "      <th></th>\n",
       "      <th>requirements</th>\n",
       "      <th>Solutio1</th>\n",
       "      <th>Solutio2</th>\n",
       "    </tr>\n",
       "  </thead>\n",
       "  <tbody>\n",
       "    <tr>\n",
       "      <th>ESR_eq</th>\n",
       "      <td>6.37</td>\n",
       "      <td>2.83</td>\n",
       "      <td>5.90</td>\n",
       "    </tr>\n",
       "    <tr>\n",
       "      <th>C_eq</th>\n",
       "      <td>207.74</td>\n",
       "      <td>576.00</td>\n",
       "      <td>2640.00</td>\n",
       "    </tr>\n",
       "    <tr>\n",
       "      <th>Ieq_max</th>\n",
       "      <td>12.09</td>\n",
       "      <td>27.60</td>\n",
       "      <td>23.00</td>\n",
       "    </tr>\n",
       "    <tr>\n",
       "      <th>VmaxDC</th>\n",
       "      <td>54.00</td>\n",
       "      <td>63.00</td>\n",
       "      <td>100.00</td>\n",
       "    </tr>\n",
       "    <tr>\n",
       "      <th>Delta_V_out</th>\n",
       "      <td>0.25</td>\n",
       "      <td>0.20</td>\n",
       "      <td>0.25</td>\n",
       "    </tr>\n",
       "    <tr>\n",
       "      <th>C_capa</th>\n",
       "      <td>NaN</td>\n",
       "      <td>96.00</td>\n",
       "      <td>264.00</td>\n",
       "    </tr>\n",
       "    <tr>\n",
       "      <th>Nb_capa</th>\n",
       "      <td>NaN</td>\n",
       "      <td>6.00</td>\n",
       "      <td>10.00</td>\n",
       "    </tr>\n",
       "    <tr>\n",
       "      <th>P_selfHeating</th>\n",
       "      <td>NaN</td>\n",
       "      <td>0.07</td>\n",
       "      <td>0.09</td>\n",
       "    </tr>\n",
       "    <tr>\n",
       "      <th>T_amb_max</th>\n",
       "      <td>NaN</td>\n",
       "      <td>115.21</td>\n",
       "      <td>113.10</td>\n",
       "    </tr>\n",
       "    <tr>\n",
       "      <th>Voltage_Margin</th>\n",
       "      <td>NaN</td>\n",
       "      <td>14.29</td>\n",
       "      <td>46.00</td>\n",
       "    </tr>\n",
       "  </tbody>\n",
       "</table>\n",
       "</div>"
      ],
      "text/plain": [
       "                requirements  Solutio1  Solutio2\n",
       "ESR_eq                  6.37      2.83      5.90\n",
       "C_eq                  207.74    576.00   2640.00\n",
       "Ieq_max                12.09     27.60     23.00\n",
       "VmaxDC                 54.00     63.00    100.00\n",
       "Delta_V_out             0.25      0.20      0.25\n",
       "C_capa                   NaN     96.00    264.00\n",
       "Nb_capa                  NaN      6.00     10.00\n",
       "P_selfHeating            NaN      0.07      0.09\n",
       "T_amb_max                NaN    115.21    113.10\n",
       "Voltage_Margin           NaN     14.29     46.00"
      ]
     },
     "execution_count": 67,
     "metadata": {},
     "output_type": "execute_result"
    }
   ],
   "source": [
    "pd.DataFrame([requirements, dic_capa1, dic_capa2], \n",
    "             index= [\"requirements\",\"Solutio1\", \"Solutio2\"]).T.round(2)"
   ]
  },
  {
   "cell_type": "markdown",
   "id": "b235d498-5a5d-4bc1-9d1b-6cef42d85fe4",
   "metadata": {},
   "source": [
    "The voltage margin in the first solution is limited (16% in the worst case). However, I propose we proceed with this option, given the number of parallel capacitors. Care must be taken in control to prevent any overshoot or transient voltage, especially when Vout is at Vout_max."
   ]
  },
  {
   "cell_type": "markdown",
   "id": "49b44da6-f321-4aed-829d-00d2dcee11ca",
   "metadata": {},
   "source": [
    "## Resonanat capacitor Cr <a class=\"title_class\" id=\"title_9\"></a>"
   ]
  },
  {
   "cell_type": "markdown",
   "id": "60ff68ea-7ed0-4e7c-8256-e38fb008d5c5",
   "metadata": {},
   "source": [
    "### Chosing a capacitor for Cr <a class=\"title_class\" id=\"title_10\"></a>"
   ]
  },
  {
   "cell_type": "markdown",
   "id": "3855b3fa-9054-426d-8e05-936a8bf8dd89",
   "metadata": {},
   "source": [
    "**The inputs data**"
   ]
  },
  {
   "cell_type": "code",
   "execution_count": 68,
   "id": "f8e6e6fb-51e6-4bd5-9c1f-f4a4f1b7ebc1",
   "metadata": {},
   "outputs": [
    {
     "data": {
      "text/latex": [
       "$\n",
       "\\begin{aligned}\n",
       "\\mathrm{Cr}_{nF} &= 116.209 \\; \\;\\textrm{(nF)}\n",
       "\\\\[10pt]\n",
       "V_{In_{max}} &= 400.000 \\; \\;\\textrm{(V)}\n",
       "\\\\[10pt]\n",
       "\\mathrm{fsw}_{min} &= 60170.000 \\; \\;\\textrm{(Hz)}\n",
       "\\end{aligned}\n",
       "$"
      ],
      "text/plain": [
       "<IPython.core.display.Latex object>"
      ]
     },
     "metadata": {},
     "output_type": "display_data"
    }
   ],
   "source": [
    "%%render long\n",
    "Cr_nF # nF\n",
    "V_In_max # V\n",
    "fsw_min # Hz"
   ]
  },
  {
   "cell_type": "markdown",
   "id": "30cee55d-8389-444b-81ec-763fc8451544",
   "metadata": {},
   "source": [
    "**The RMS voltage of the resonant capacitor**"
   ]
  },
  {
   "cell_type": "code",
   "execution_count": 69,
   "id": "d788fd5a-eb8e-4dea-9111-3bfb97e551c6",
   "metadata": {},
   "outputs": [
    {
     "data": {
      "text/latex": [
       "$\n",
       "\\begin{aligned}\n",
       "X_{Cr} &= \\frac{ 1 }{ 2 \\cdot \\pi \\cdot \\mathrm{fsw}_{min} \\cdot \\mathrm{Cr}_{nF} \\cdot 1 \\times 10 ^ {-9} } \\\\&= \\frac{ 1 }{ 2 \\cdot 3.142 \\cdot 60170.000 \\cdot 116.209 \\cdot 1 \\times 10 ^ {-9} } \\\\&= 22.761 \\; \\;\\textrm{(Ohm)}\\\\[10pt]\n",
       "\\\\[10pt]\n",
       "V_{Cr} &= \\mathrm{Ir}_{rms} \\cdot X_{Cr} \\\\&= 10.354 \\cdot 22.761 \\\\&= 235.672 \\; \\;\\textrm{(V)}\\\\[10pt]\n",
       "\\\\[10pt]\n",
       "V_{Cr_{rms}} &= \\sqrt { \\left( \\frac{ V_{In_{max}} }{ 2 } \\right) ^{ 2 } + \\left( V_{Cr} \\right) ^{ 2 } } \\\\&= \\sqrt { \\left( \\frac{ 400.000 }{ 2 } \\right) ^{ 2 } + \\left( 235.672 \\right) ^{ 2 } } \\\\&= 309.098 \\; \\;\\textrm{(vrms)}\\\\[10pt]\n",
       "\\end{aligned}\n",
       "$"
      ],
      "text/plain": [
       "<IPython.core.display.Latex object>"
      ]
     },
     "metadata": {},
     "output_type": "display_data"
    }
   ],
   "source": [
    "%%render long\n",
    "X_Cr= 1/(2*pi*fsw_min*Cr_nF*1e-9) # Ohm \n",
    "V_Cr= Ir_rms*X_Cr # V\n",
    "V_Cr_rms= sqrt((V_In_max/2)**2+V_Cr**2) # vrms"
   ]
  },
  {
   "cell_type": "code",
   "execution_count": 70,
   "id": "b6419f02-7553-4068-ac59-75ba5f7080a6",
   "metadata": {},
   "outputs": [],
   "source": [
    "# https://www.mouser.es/ProductDetail/EPCOS-TDK/B32672L1333J?qs=vht8qxFUkGz11LfwwLq5EA%3D%3D\n",
    "# https://product.tdk.com/system/files/dam/doc/product/capacitor/film/mkp_mfp/data_sheet/20/20/db/fc_2009/mkp_b32671l_672l.pdf"
   ]
  },
  {
   "cell_type": "markdown",
   "id": "3af582e4-57b5-4948-b1f8-3651dab867b1",
   "metadata": {},
   "source": [
    "Starting with the **B3267*L** film capacitors, the maximum rated DC voltage is 2000 V. [\\[2\\]](#referencesID_03_3)."
   ]
  },
  {
   "cell_type": "code",
   "execution_count": 71,
   "id": "c13809ee-b5da-44c1-a0c6-d8e37b2bcf4c",
   "metadata": {},
   "outputs": [
    {
     "name": "stdout",
     "output_type": "stream",
     "text": [
      "The design value of Cr is 116.2 nF\n",
      "Below are some possible combinations for constructing this resonant capacitor:\n"
     ]
    },
    {
     "data": {
      "text/html": [
       "<div>\n",
       "<style scoped>\n",
       "    .dataframe tbody tr th:only-of-type {\n",
       "        vertical-align: middle;\n",
       "    }\n",
       "\n",
       "    .dataframe tbody tr th {\n",
       "        vertical-align: top;\n",
       "    }\n",
       "\n",
       "    .dataframe thead th {\n",
       "        text-align: right;\n",
       "    }\n",
       "</style>\n",
       "<table border=\"1\" class=\"dataframe\">\n",
       "  <thead>\n",
       "    <tr style=\"text-align: right;\">\n",
       "      <th></th>\n",
       "      <th>Nominal_capa_nF</th>\n",
       "      <th>Nb capas in parallel</th>\n",
       "      <th>total capa nF</th>\n",
       "      <th>error %</th>\n",
       "    </tr>\n",
       "  </thead>\n",
       "  <tbody>\n",
       "    <tr>\n",
       "      <th>0</th>\n",
       "      <td>6.2</td>\n",
       "      <td>19</td>\n",
       "      <td>117.8</td>\n",
       "      <td>1.4</td>\n",
       "    </tr>\n",
       "    <tr>\n",
       "      <th>1</th>\n",
       "      <td>6.8</td>\n",
       "      <td>17</td>\n",
       "      <td>115.6</td>\n",
       "      <td>-0.5</td>\n",
       "    </tr>\n",
       "    <tr>\n",
       "      <th>2</th>\n",
       "      <td>8.2</td>\n",
       "      <td>14</td>\n",
       "      <td>114.8</td>\n",
       "      <td>-1.2</td>\n",
       "    </tr>\n",
       "    <tr>\n",
       "      <th>3</th>\n",
       "      <td>10.0</td>\n",
       "      <td>12</td>\n",
       "      <td>120.0</td>\n",
       "      <td>3.3</td>\n",
       "    </tr>\n",
       "    <tr>\n",
       "      <th>4</th>\n",
       "      <td>12.0</td>\n",
       "      <td>10</td>\n",
       "      <td>120.0</td>\n",
       "      <td>3.3</td>\n",
       "    </tr>\n",
       "    <tr>\n",
       "      <th>5</th>\n",
       "      <td>15.0</td>\n",
       "      <td>8</td>\n",
       "      <td>120.0</td>\n",
       "      <td>3.3</td>\n",
       "    </tr>\n",
       "    <tr>\n",
       "      <th>6</th>\n",
       "      <td>22.0</td>\n",
       "      <td>5</td>\n",
       "      <td>110.0</td>\n",
       "      <td>-5.3</td>\n",
       "    </tr>\n",
       "    <tr>\n",
       "      <th>7</th>\n",
       "      <td>33.0</td>\n",
       "      <td>4</td>\n",
       "      <td>132.0</td>\n",
       "      <td>13.6</td>\n",
       "    </tr>\n",
       "    <tr>\n",
       "      <th>8</th>\n",
       "      <td>47.0</td>\n",
       "      <td>2</td>\n",
       "      <td>94.0</td>\n",
       "      <td>-19.1</td>\n",
       "    </tr>\n",
       "    <tr>\n",
       "      <th>9</th>\n",
       "      <td>56.0</td>\n",
       "      <td>2</td>\n",
       "      <td>112.0</td>\n",
       "      <td>-3.6</td>\n",
       "    </tr>\n",
       "    <tr>\n",
       "      <th>10</th>\n",
       "      <td>68.0</td>\n",
       "      <td>2</td>\n",
       "      <td>136.0</td>\n",
       "      <td>17.0</td>\n",
       "    </tr>\n",
       "  </tbody>\n",
       "</table>\n",
       "</div>"
      ],
      "text/plain": [
       "    Nominal_capa_nF  Nb capas in parallel  total capa nF  error %\n",
       "0               6.2                    19          117.8      1.4\n",
       "1               6.8                    17          115.6     -0.5\n",
       "2               8.2                    14          114.8     -1.2\n",
       "3              10.0                    12          120.0      3.3\n",
       "4              12.0                    10          120.0      3.3\n",
       "5              15.0                     8          120.0      3.3\n",
       "6              22.0                     5          110.0     -5.3\n",
       "7              33.0                     4          132.0     13.6\n",
       "8              47.0                     2           94.0    -19.1\n",
       "9              56.0                     2          112.0     -3.6\n",
       "10             68.0                     2          136.0     17.0"
      ]
     },
     "execution_count": 71,
     "metadata": {},
     "output_type": "execute_result"
    }
   ],
   "source": [
    "B32672L1333 = [6.2, 6.8, 8.2, 10.0, 12.0, 15.0, 22.0, 33.0, 47.0, 56.0, 68.0]\n",
    "print(f\"The design value of Cr is {Cr_nF:.1f} nF\")\n",
    "print(\"Below are some possible combinations for constructing this resonant capacitor:\")\n",
    "arr= []\n",
    "for c in B32672L1333: \n",
    "    n= round(Cr_nF/c)\n",
    "    ct= n*c\n",
    "    error = 100*(ct-Cr_nF)/Cr_nF\n",
    "    dic = {\"Nominal_capa_nF\":c, \"Nb capas in parallel\": n, \n",
    "           \"total capa nF\" :ct, \"error %\":round(error, 1)}\n",
    "    arr.append(dic)\n",
    "pd.DataFrame(arr)"
   ]
  },
  {
   "cell_type": "markdown",
   "id": "ffe70301-2d8a-41cd-896f-9d9d5d2e809f",
   "metadata": {},
   "source": [
    "**The current of each element capacitor**"
   ]
  },
  {
   "cell_type": "code",
   "execution_count": 72,
   "id": "23c21de7-41b3-4e65-8d79-d775be7b35b3",
   "metadata": {},
   "outputs": [
    {
     "data": {
      "text/latex": [
       "$\n",
       "\\begin{aligned}\n",
       "\\mathrm{Ir}_{rms_{1}} &= 1.294 \\; \n",
       "\\end{aligned}\n",
       "$"
      ],
      "text/plain": [
       "<IPython.core.display.Latex object>"
      ]
     },
     "metadata": {},
     "output_type": "display_data"
    }
   ],
   "source": [
    "%%render \n",
    "Ir_rms_1=Ir_rms/8"
   ]
  },
  {
   "cell_type": "markdown",
   "id": "0652d266-7cf3-41b0-934e-d5927c000baf",
   "metadata": {},
   "source": [
    "**The 15 nF, 15 mm, 2000 VDC TDK MKP capacitor meets both the Vrms and Irms requirements.**"
   ]
  },
  {
   "cell_type": "code",
   "execution_count": null,
   "id": "192e5237-150c-41c0-a7a3-cac0b5128d96",
   "metadata": {},
   "outputs": [],
   "source": []
  },
  {
   "cell_type": "code",
   "execution_count": 73,
   "id": "2acb72d2-9b59-40c8-a3dd-43311122d02c",
   "metadata": {},
   "outputs": [
    {
     "data": {
      "text/html": [
       "\n",
       "        <div style=\"width: 19cm; display: flex;\">\n",
       "          <div style=\"width: 9cm; text-align: center;\">\n",
       "            <img src=\"./03_figures/CR_VRMS.png\" style=\"width: 9cm;\">\n",
       "            <div style=\"width: 9cm; word-wrap: break-word;\">\n",
       "                <b>Figure 3:</b> Vrms 15 nF, 15 mm, 2000 VDC TDK MKP\n",
       "            </div>\n",
       "          </div>\n",
       "          <div style=\"width: 1cm;\"></div>\n",
       "          <div style=\"width: 9cm; text-align: center;\">\n",
       "            <img src=\"./03_figures/CR_IRMS.png\" style=\"width: 9cm;\">\n",
       "            <div style=\"width: 9cm; word-wrap: break-word;\">\n",
       "                <b>Figure 4:</b> Irms 15 nF, 15 mm, 2000 VDC TDK MKP\n",
       "            </div>\n",
       "          </div>\n",
       "        </div>\n",
       "        <br>\n",
       "        "
      ],
      "text/plain": [
       "<IPython.core.display.HTML object>"
      ]
     },
     "metadata": {},
     "output_type": "display_data"
    }
   ],
   "source": [
    "first_part_path = \"./03_figures/\"\n",
    "\n",
    "fig_counter = show_figure_pair_with_captions(\n",
    "    fig_counter, \n",
    "    \"CR_VRMS.png\",\n",
    "    \"Vrms 15 nF, 15 mm, 2000 VDC TDK MKP\",\n",
    "    \"CR_IRMS.png\",\n",
    "    \"Irms 15 nF, 15 mm, 2000 VDC TDK MKP\", \n",
    "    first_part_path= first_part_path, \n",
    ")"
   ]
  },
  {
   "cell_type": "markdown",
   "id": "d91eae99-3f1f-4002-b470-4870065b7a91",
   "metadata": {},
   "source": [
    "Below is a screenshot from the B32672L datasheet. The ref **B32672L8153** is a 15 nF capacitor."
   ]
  },
  {
   "cell_type": "code",
   "execution_count": null,
   "id": "37cce7d1-686b-4bff-bd86-9f486917119b",
   "metadata": {},
   "outputs": [],
   "source": []
  },
  {
   "cell_type": "code",
   "execution_count": 74,
   "id": "7c140a89-8c59-49f8-a50e-028c94e45db8",
   "metadata": {},
   "outputs": [
    {
     "data": {
      "text/html": [
       "\n",
       " \n",
       "      <div style=\"width: 12cm; text-align: center;\">\n",
       "        <img src=\"./03_figures/capa15nF.png\" style=\"width: 12cm;\">\n",
       "        <div style=\"width: 12cm; word-wrap: break-word;\">\n",
       "            <b>Figure 5:</b> B32672L8153 is a 15 nF capacitor.\n",
       "        </div>\n",
       "      </div>\n",
       "      </div>\n",
       "\n",
       "    <br>\n",
       "    "
      ],
      "text/plain": [
       "<IPython.core.display.HTML object>"
      ]
     },
     "metadata": {},
     "output_type": "display_data"
    }
   ],
   "source": [
    "first_part_path = \"./03_figures/\"\n",
    "\n",
    "fig_counter = One_figure_with_captions(\n",
    "    fig_counter, \n",
    "    \"capa15nF.png\",\n",
    "    \"B32672L8153 is a 15 nF capacitor.\",\n",
    "    first_part_path= first_part_path, \n",
    "    width = 12\n",
    ")"
   ]
  },
  {
   "cell_type": "raw",
   "id": "a7fd9eb7-20b6-4045-a5f8-196b4075c9aa",
   "metadata": {},
   "source": []
  },
  {
   "cell_type": "code",
   "execution_count": null,
   "id": "5df7c95c-6642-47d1-b5b6-784966993a97",
   "metadata": {},
   "outputs": [],
   "source": []
  },
  {
   "cell_type": "code",
   "execution_count": 75,
   "id": "e2e6863b-1255-4adc-9493-59bdf8250dc9",
   "metadata": {},
   "outputs": [],
   "source": [
    "# https://eu.mouser.com/ProductDetail/EPCOS-TDK/B32672L8153J?qs=CsdphVCLJRjPN7YH24ATpg%3D%3D\n",
    "# https://product.tdk.com/system/files/dam/doc/product/capacitor/film/mkp_mfp/data_sheet/20/20/db/fc_2009/mkp_b32671l_672l.pdf"
   ]
  },
  {
   "cell_type": "code",
   "execution_count": 76,
   "id": "0ec5dc0c-97a4-4081-a362-d7a0ef2a2706",
   "metadata": {},
   "outputs": [],
   "source": [
    "# B32672L8153 ==> 15n 2000VDC\n",
    "# DATASHEET\n",
    "# https://product.tdk.com/system/files/dam/doc/product/capacitor/film/mkp_mfp/data_sheet/20/20/db/fc_2009/mkp_b32671l_672l.pdf"
   ]
  },
  {
   "cell_type": "code",
   "execution_count": null,
   "id": "e46179d5-6fb6-4de4-b719-0dc2bbe49601",
   "metadata": {},
   "outputs": [],
   "source": []
  },
  {
   "cell_type": "markdown",
   "id": "6cc19bfa-f343-48d0-a11f-6b157f3d1349",
   "metadata": {},
   "source": [
    "**The ESR and Power dissipation**"
   ]
  },
  {
   "cell_type": "code",
   "execution_count": 77,
   "id": "ee6c9239-93f5-4f02-8bed-0e2e0b1331dd",
   "metadata": {},
   "outputs": [
    {
     "data": {
      "text/html": [
       "\n",
       " \n",
       "      <div style=\"width: 19cm; text-align: center;\">\n",
       "        <img src=\"./03_figures/CR_ESR.png\" style=\"width: 19cm;\">\n",
       "        <div style=\"width: 19cm; word-wrap: break-word;\">\n",
       "            <b>Figure 6:</b> ESR and Thermal derating\n",
       "        </div>\n",
       "      </div>\n",
       "      </div>\n",
       "\n",
       "    <br>\n",
       "    "
      ],
      "text/plain": [
       "<IPython.core.display.HTML object>"
      ]
     },
     "metadata": {},
     "output_type": "display_data"
    }
   ],
   "source": [
    "first_part_path = \"./03_figures/\"\n",
    "\n",
    "fig_counter = One_figure_with_captions(\n",
    "    fig_counter, \n",
    "    \"CR_ESR.png\",\n",
    "    \"ESR and Thermal derating\",\n",
    "    first_part_path= first_part_path, \n",
    "    width = 19\n",
    ")"
   ]
  },
  {
   "cell_type": "code",
   "execution_count": null,
   "id": "05dced99-cc70-431f-8e7f-d3cc56859291",
   "metadata": {},
   "outputs": [],
   "source": []
  },
  {
   "cell_type": "markdown",
   "id": "36eb97d0-c88b-4f2b-a20e-ab2e529a9a17",
   "metadata": {},
   "source": [
    "From the below <br>\n",
    "6.8nF ESR=70µΩ <br>\n",
    "33nF ESR=50µΩ <br> \n",
    "By linear interpolation, the ESR of a 15 nF capacitor can be estimated as 63.74 µΩ"
   ]
  },
  {
   "cell_type": "markdown",
   "id": "89c0426e-9e46-4578-b2c8-4d96018f6746",
   "metadata": {},
   "source": [
    "**The power dissipation of each capacitor**"
   ]
  },
  {
   "cell_type": "code",
   "execution_count": 78,
   "id": "0bd9f210-9492-4baa-9bd7-02d02374e8ae",
   "metadata": {},
   "outputs": [
    {
     "data": {
      "text/latex": [
       "$\n",
       "\\begin{aligned}\n",
       "\\mathrm{ESR}_{u} &= 63.740 \\; \\;\\textrm{(µΩ)}\n",
       "\\\\[10pt]\n",
       "\\mathrm{Ir}_{rms_{1}} &= 1.294 \\; \\;\\textrm{(Arms)}\n",
       "\\\\[10pt]\n",
       "\\mathrm{Ir}_{rms_{max}} &= 2 \\; \\;\\textrm{(Arms)}\n",
       "\\\\[10pt]\n",
       "\\mathrm{PD}_{uW} &= \\mathrm{ESR}_{u} \\cdot \\left( \\mathrm{Ir}_{rms_{1}} \\right) ^{ 2 } \\\\&= 63.740 \\cdot \\left( 1.294 \\right) ^{ 2 } \\\\&= 106.771 \\; \\;\\textrm{(uW)}\\\\[10pt]\n",
       "\\end{aligned}\n",
       "$"
      ],
      "text/plain": [
       "<IPython.core.display.Latex object>"
      ]
     },
     "metadata": {},
     "output_type": "display_data"
    }
   ],
   "source": [
    "%%render long\n",
    "ESR_u= np.interp([15],[6.8,33],[70,50])[0] # µΩ\n",
    "Ir_rms_1 # Arms\n",
    "Ir_rms_max = 2 # Arms\n",
    "PD_uW = ESR_u*Ir_rms_1**2 # uW"
   ]
  },
  {
   "cell_type": "markdown",
   "id": "cee91c91-f3da-440b-ba85-8f27147c8405",
   "metadata": {},
   "source": [
    "**The Rth estimation**"
   ]
  },
  {
   "cell_type": "code",
   "execution_count": 79,
   "id": "5233c332-3a95-4eab-87f6-eeed5631b688",
   "metadata": {},
   "outputs": [
    {
     "data": {
      "text/latex": [
       "$\n",
       "\\begin{aligned}\n",
       "T_{max} &= 125 \\; \n",
       "\\\\[10pt]\n",
       "T_{100} &= 100 \\; \n",
       "\\\\[10pt]\n",
       "\\Delta_{T} &= T_{max} - T_{100} \\\\&= 125 - 100 \\\\&= 25  \\\\[10pt]\n",
       "\\\\[10pt]\n",
       "\\mathrm{PD}_{uW_{max}} &= \\mathrm{ESR}_{u} \\cdot \\left( \\mathrm{Ir}_{rms_{max}} \\right) ^{ 2 } \\\\&= 63.740 \\cdot \\left( 2 \\right) ^{ 2 } \\\\&= 254.962  \\\\[10pt]\n",
       "\\\\[10pt]\n",
       "R_{TH} &= \\frac{ \\Delta_{T} }{ \\mathrm{PD}_{uW_{max}} } \\\\&= \\frac{ 25 }{ 254.962 } \\\\&= 0.098 \\; \\;\\textrm{(°C/uW)}\\\\[10pt]\n",
       "\\end{aligned}\n",
       "$"
      ],
      "text/plain": [
       "<IPython.core.display.Latex object>"
      ]
     },
     "metadata": {},
     "output_type": "display_data"
    }
   ],
   "source": [
    "%%render long\n",
    "T_max = 125\n",
    "T_100= 100\n",
    "Delta_T= T_max-T_100\n",
    "PD_uW_max= ESR_u*Ir_rms_max**2\n",
    "R_TH = Delta_T/(PD_uW_max) # °C/uW"
   ]
  },
  {
   "cell_type": "markdown",
   "id": "50a62068-22f8-4f03-aef8-f640efc19812",
   "metadata": {},
   "source": [
    "**Each capacitor's self-heating and the maximum permissible ambient temperature.**"
   ]
  },
  {
   "cell_type": "code",
   "execution_count": 80,
   "id": "3de690d9-d19c-4455-8b79-cbc5b929df61",
   "metadata": {},
   "outputs": [
    {
     "data": {
      "text/latex": [
       "$\n",
       "\\begin{aligned}\n",
       "\\Delta_{T} &= \\mathrm{PD}_{uW} \\cdot R_{TH} \\\\&= 106.771 \\cdot 0.098 \\\\&= 10.469 \\; \\;\\textrm{(°C)}\\\\[10pt]\n",
       "\\\\[10pt]\n",
       "T_{amb_{max}} &= 125 - \\Delta_{T} \\\\&= 125 - 10.469 \\\\&= 114.531 \\; \\;\\textrm{(°C)}\\\\[10pt]\n",
       "\\end{aligned}\n",
       "$"
      ],
      "text/plain": [
       "<IPython.core.display.Latex object>"
      ]
     },
     "metadata": {},
     "output_type": "display_data"
    }
   ],
   "source": [
    "%%render long \n",
    "Delta_T= PD_uW*R_TH # °C\n",
    "T_amb_max = 125-Delta_T # °C "
   ]
  },
  {
   "cell_type": "markdown",
   "id": "a998f75c-f918-4139-af4a-3cafd67d10ac",
   "metadata": {},
   "source": [
    "### Understanding the Derating Curve of the Capacitors <a class=\"title_class\" id=\"title_11\"></a>"
   ]
  },
  {
   "cell_type": "markdown",
   "id": "ba7440fa-ae0c-4cac-aefb-cd6beabfee64",
   "metadata": {},
   "source": [
    "**One point calculation**"
   ]
  },
  {
   "cell_type": "code",
   "execution_count": 81,
   "id": "03062462-e434-4000-967f-7e5b88085312",
   "metadata": {},
   "outputs": [
    {
     "data": {
      "text/latex": [
       "$\n",
       "\\begin{aligned}\n",
       "\\mathrm{Ta} &= 105 \\; \n",
       "\\\\[10pt]\n",
       "\\Delta_{T} &= T_{max} - \\mathrm{Ta} \\\\&= 125 - 105 \\\\&= 20  \\\\[10pt]\n",
       "\\\\[10pt]\n",
       "\\mathrm{PD}_{uW_{max}} &= \\frac{ \\Delta_{T} }{ R_{TH} } \\\\&= \\frac{ 20 }{ 0.098 } \\\\&= 203.969  \\\\[10pt]\n",
       "\\\\[10pt]\n",
       "\\mathrm{Ir}_{rms_{max_{Ta}}} &= 1.789 \\; \n",
       "\\\\[10pt]\n",
       "\\mathrm{Fa} &= \\frac{ \\mathrm{Ir}_{rms_{max_{Ta}}} }{ \\mathrm{Ir}_{rms_{max}} } \\\\&= \\frac{ 1.789 }{ 2 } \\\\&= 0.894  \\\\[10pt]\n",
       "\\end{aligned}\n",
       "$"
      ],
      "text/plain": [
       "<IPython.core.display.Latex object>"
      ]
     },
     "metadata": {},
     "output_type": "display_data"
    }
   ],
   "source": [
    "%%render long\n",
    "Ta = 105\n",
    "Delta_T= T_max-Ta\n",
    "PD_uW_max = Delta_T/R_TH\n",
    "Ir_rms_max_Ta=sqrt(PD_uW_max/ESR_u)\n",
    "Fa = Ir_rms_max_Ta/Ir_rms_max"
   ]
  },
  {
   "cell_type": "markdown",
   "id": "3614dd9f-946f-41ba-baf3-00d3fe7e1a73",
   "metadata": {},
   "source": [
    "**The same calculation is repeated to construct the derating curve.**"
   ]
  },
  {
   "cell_type": "code",
   "execution_count": 82,
   "id": "d0bc9084-5ec3-44cc-85d8-91fb555a5a89",
   "metadata": {},
   "outputs": [
    {
     "data": {
      "text/plain": [
       "(80.0, 125.0)"
      ]
     },
     "execution_count": 82,
     "metadata": {},
     "output_type": "execute_result"
    },
    {
     "data": {
      "image/png": "[encoded data removed]",
      "text/plain": [
       "<Figure size 800x400 with 2 Axes>"
      ]
     },
     "metadata": {},
     "output_type": "display_data"
    }
   ],
   "source": [
    "fig, axes = plt.subplots(1, 2, figsize=(8, 4))\n",
    "\n",
    "img = plt.imread(\"../01_llc_tank/03_figs/Capa_thermal_derating.jpg\")\n",
    "axes[0].imshow(img)\n",
    "axes[0].axis(\"off\")\n",
    "axes[0].set_title(\"Thermal Derating from datasheet\")\n",
    "\n",
    "\n",
    "Ta_arr= np.arange(80,125+1,1)\n",
    "Fa_arr=[]\n",
    "for Ta in Ta_arr:\n",
    "    if Ta>100:\n",
    "        Delta_T= T_max-Ta\n",
    "        PD_uW_max = Delta_T/R_TH\n",
    "        Ir_rms_max_Ta=sqrt(PD_uW_max/ESR_u)\n",
    "        Fa = Ir_rms_max_Ta/Ir_rms_max\n",
    "        Fa_arr.append(Fa)\n",
    "    else: \n",
    "        Fa_arr.append(1)\n",
    "        \n",
    "axes[1].plot(Ta_arr, Fa_arr)\n",
    "\n",
    "axes[1].set_xlabel(\"Ta (°C)\")\n",
    "axes[1].set_ylabel(\"Derating Factor (Ft)\")\n",
    "axes[1].set_title(\"Calculated Thermal Derating\")\n",
    "\n",
    "axes[1].set_xticks(np.arange(80, 125, 5))\n",
    "axes[1].set_yticks(np.arange(0, 1.1, 0.1))\n",
    "\n",
    "axes[1].grid(True)\n",
    "axes[1].set_ylim([0,1.1])\n",
    "axes[1].set_xlim([80,125])"
   ]
  },
  {
   "cell_type": "markdown",
   "id": "b5f16f31-1c3c-4c05-b9c1-20e3ac82b586",
   "metadata": {},
   "source": [
    "### Resonant capacitors configuration <a class=\"title_class\" id=\"title_12\"></a>"
   ]
  },
  {
   "cell_type": "markdown",
   "id": "7cdf8d02-d4b6-43e5-b3fb-be668557bfbc",
   "metadata": {},
   "source": [
    "There are two possible configurations for the resonant capacitors:\n",
    "\n",
    "- All capacitors in parallel:\n",
    "\n",
    "which is the classic LLC configuration and offers simplicity in layout.\n",
    "- Dividing the capacitors between the high side and low side:\n",
    "\n",
    "which helps balance HV+ and HV-."
   ]
  },
  {
   "cell_type": "markdown",
   "id": "ed89cb8d-a8b3-4137-a812-6b7bb055c156",
   "metadata": {},
   "source": [
    "Below is a simulation of both solutions. We can see that the voltage and current of each capacitor are almost identical in both configurations, and all other voltages and currents are also very similar."
   ]
  },
  {
   "cell_type": "markdown",
   "id": "1ad0e355-fbc8-4676-ad96-450aee52db5e",
   "metadata": {},
   "source": [
    "You can donwload the LTSPICE file using this <a src =\".\\02_simulation\\03_Res_capacitor\\Comparaison_Res_Capas_Archi.asc\">Link</a>."
   ]
  },
  {
   "cell_type": "code",
   "execution_count": null,
   "id": "514050d5-6330-444f-931b-6ca9727ec1c8",
   "metadata": {},
   "outputs": [],
   "source": []
  },
  {
   "cell_type": "code",
   "execution_count": 83,
   "id": "072f1626-91bc-464d-a1e3-971479e5db2f",
   "metadata": {},
   "outputs": [
    {
     "data": {
      "text/html": [
       "\n",
       " \n",
       "      <div style=\"width: 19cm; text-align: center;\">\n",
       "        <img src=\"./03_figures/Comparaison_Res_Capas_Archi.png\" style=\"width: 19cm;\">\n",
       "        <div style=\"width: 19cm; word-wrap: break-word;\">\n",
       "            <b>Figure 7:</b> Simulation of resonant capacitor configurations\n",
       "        </div>\n",
       "      </div>\n",
       "      </div>\n",
       "\n",
       "    <br>\n",
       "    "
      ],
      "text/plain": [
       "<IPython.core.display.HTML object>"
      ]
     },
     "metadata": {},
     "output_type": "display_data"
    }
   ],
   "source": [
    "first_part_path = \"./03_figures/\"\n",
    "\n",
    "fig_counter = One_figure_with_captions(\n",
    "    fig_counter, \n",
    "    \"Comparaison_Res_Capas_Archi.png\",\n",
    "    \"Simulation of resonant capacitor configurations\",\n",
    "    first_part_path= first_part_path, \n",
    "    width = 19\n",
    ")"
   ]
  },
  {
   "cell_type": "raw",
   "id": "5a38b542-0a46-4e18-abe7-5337b658958c",
   "metadata": {},
   "source": []
  },
  {
   "cell_type": "markdown",
   "id": "e6003b58-b118-4d0a-b927-36e3558266d8",
   "metadata": {},
   "source": [
    "## References  <a class=\"title_class\" id=\"title_13\"></a>\n",
    "<a id=\"referencesID_03_1\"></a> [1] [Hong Huang, *Designing an LLC Resonant\n",
    "Half-Bridge Power Converter*. Available](https://bbs.dianyuan.com/upload/community/2013/12/01/1385867010-65563.pdf)\n",
    "\n",
    "<a id=\"referencesID_03_2\"></a> [2] \n",
    "[B40910 Aluminum electrolytic capacitors datasheet](https://product.tdk.com/system/files/dam/doc/product/capacitor/aluminum-electrolytic/hybrid-polymer/data_sheet/20/30/db/aec/b40910.pdf)\n",
    "\n",
    "<a id=\"referencesID_03_3\"></a> [3] \n",
    "[B3267*L Film Capacitors](https://product.tdk.com/system/files/dam/doc/product/capacitor/film/mkp_mfp/data_sheet/20/20/db/fc_2009/mkp_b32671l_672l.pdf)\n",
    "\n",
    "\n",
    "<a id=\"referencesID_03_4\"></a> [4] \n",
    "[EMHS Aluminum electrolytic capacitors datasheet](https://www.mouser.fr/datasheet/2/420/Chemi_Con_MHSRA_e-3313675.pdf)\n",
    "\n"
   ]
  },
  {
   "cell_type": "code",
   "execution_count": null,
   "id": "62827754-1e0d-481a-a526-d513674035f2",
   "metadata": {},
   "outputs": [],
   "source": []
  }
 ],
 "metadata": {
  "kernelspec": {
   "display_name": "kernel_venv1",
   "language": "python",
   "name": "kernel_venv1"
  },
  "language_info": {
   "codemirror_mode": {
    "name": "ipython",
    "version": 3
   },
   "file_extension": ".py",
   "mimetype": "text/x-python",
   "name": "python",
   "nbconvert_exporter": "python",
   "pygments_lexer": "ipython3",
   "version": "3.13.5"
  }
 },
 "nbformat": 4,
 "nbformat_minor": 5
}
