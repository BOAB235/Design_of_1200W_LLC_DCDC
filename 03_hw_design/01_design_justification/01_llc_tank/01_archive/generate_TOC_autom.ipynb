{
 "cells": [
  {
   "cell_type": "code",
   "execution_count": 12,
   "id": "4c1f335a-9f1d-4f8c-b655-43d1946d6b36",
   "metadata": {},
   "outputs": [],
   "source": [
    "#!pip install nbktools"
   ]
  },
  {
   "cell_type": "code",
   "execution_count": 3,
   "id": "445b010c-029c-444c-8481-66353ecfc4ee",
   "metadata": {},
   "outputs": [],
   "source": [
    "import nbktools"
   ]
  },
  {
   "cell_type": "code",
   "execution_count": 14,
   "id": "1417b028-c42e-40f5-a31f-dbcf74372cbc",
   "metadata": {},
   "outputs": [
    {
     "data": {
      "text/plain": [
       "['auto_tab_conten',\n",
       " 'creat_structure',\n",
       " 'library_versions',\n",
       " 'merge_ntks',\n",
       " 'remove_empty',\n",
       " 'src']"
      ]
     },
     "execution_count": 14,
     "metadata": {},
     "output_type": "execute_result"
    }
   ],
   "source": [
    "[ x for x in dir (nbktools) if x[:2]!=\"__\"]"
   ]
  },
  {
   "cell_type": "code",
   "execution_count": 6,
   "id": "38b36827-270a-4575-9eb1-b54a3d57508e",
   "metadata": {},
   "outputs": [
    {
     "name": "stdout",
     "output_type": "stream",
     "text": [
      "Help on function auto_tab_conten in module nbktools.src.nbktools:\n",
      "\n",
      "auto_tab_conten(ntk_inp_name, ntk_out_name, update=False, level=3)\n",
      "    Automatically generates a table of contents (TOC) for a Jupyter notebook and updates or creates it in the notebook file.\n",
      "\n",
      "    Args:\n",
      "        ntk_inp_name (str): Input path to the Jupyter notebook file.\n",
      "        ntk_out_name (str): Output path where the modified notebook file will be saved.\n",
      "        update (bool, optional): If True, updates the existing TOC in the notebook file. If False, creates a new TOC. Default is False.\n",
      "        level (int): The title level to be taked in account for the table of contents. Default is 3.\n",
      "\n",
      "    Returns:\n",
      "        None\n",
      "\n"
     ]
    }
   ],
   "source": [
    "help(nbktools.auto_tab_conten)"
   ]
  },
  {
   "cell_type": "code",
   "execution_count": 16,
   "id": "522ad156-2a70-4c48-9552-8aa334d19063",
   "metadata": {},
   "outputs": [
    {
     "name": "stdout",
     "output_type": "stream",
     "text": [
      "Done\n"
     ]
    }
   ],
   "source": [
    "nbktools.auto_tab_conten(\n",
    "    ntk_inp_name=\"LLC_48v_LLC_tank_design_note_v1.ipynb\", \n",
    "    ntk_out_name=\"01_LLC_48v_LLC_tank_design_note_v2.ipynb\", \n",
    "    update=False, level=3)"
   ]
  },
  {
   "cell_type": "code",
   "execution_count": null,
   "id": "5b7b6bc2-c76d-403e-916c-9f52be7f648d",
   "metadata": {},
   "outputs": [],
   "source": []
  }
 ],
 "metadata": {
  "kernelspec": {
   "display_name": "kernelvenv2",
   "language": "python",
   "name": "kernelvenv2"
  },
  "language_info": {
   "codemirror_mode": {
    "name": "ipython",
    "version": 3
   },
   "file_extension": ".py",
   "mimetype": "text/x-python",
   "name": "python",
   "nbconvert_exporter": "python",
   "pygments_lexer": "ipython3",
   "version": "3.13.2"
  }
 },
 "nbformat": 4,
 "nbformat_minor": 5
}
