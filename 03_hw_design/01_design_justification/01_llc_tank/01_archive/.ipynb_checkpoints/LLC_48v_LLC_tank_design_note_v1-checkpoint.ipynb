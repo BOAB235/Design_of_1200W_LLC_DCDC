{
 "cells": [
  {
   "cell_type": "code",
   "execution_count": 79,
   "metadata": {},
   "outputs": [],
   "source": [
    "# imPORT LIBRARIES \n",
    "import numpy as np\n",
    "import matplotlib.pyplot as plt\n",
    "from scipy.interpolate import interp1d\n",
    "from math import pi, sqrt\n",
    "import handcalcs.render\n",
    "import pandas as pd\n",
    "import json \n",
    "# !pip install handcalcs"
   ]
  },
  {
   "cell_type": "code",
   "execution_count": 80,
   "metadata": {
    "id": "AZJhiHDsIHSP"
   },
   "outputs": [],
   "source": [
    "# CONFIGURATIONS\n",
    "#help(handcalcs.set_option)\n",
    "handcalcs.set_option(\"latex_block_start\", \"$\")\n",
    "handcalcs.set_option(\"latex_block_end\", \"$\")\n",
    "handcalcs.set_option(\"math_environment_end\", \"aligned\")\n",
    "handcalcs.set_option(\"use_scientific_notation\",True)"
   ]
  },
  {
   "cell_type": "markdown",
   "metadata": {
    "id": "ytFJy9qfVGcl"
   },
   "source": [
    "## LLC tank pre-design calculations"
   ]
  },
  {
   "cell_type": "markdown",
   "metadata": {},
   "source": [
    "# Table of contents"
   ]
  },
  {
   "cell_type": "markdown",
   "metadata": {},
   "source": [
    "### Voltage Gain – Theoretical Overview"
   ]
  },
  {
   "cell_type": "markdown",
   "metadata": {},
   "source": [
    "<img src=\"./02_simulation/Schematic1.png\" style=\"width:19cm;\">\n",
    "\n",
    "\n",
    "<br>\n",
    "\n",
    "The voltage gain function (normalized) expression is:\n",
    "\n",
    "$$\n",
    "M_g = \\left| \\frac{L_n \\cdot f_n^2}{\\left[(L_n + 1) \\cdot f_n^2 - 1\\right] + j\\left[(f_n^2 - 1) \\cdot f_n \\cdot Q_e \\cdot L_n\\right]} \\right|\n",
    "$$\n",
    "\n",
    "With:\n",
    "\n",
    "$$\n",
    "L_n = \\frac{L_m}{L_r}, \\quad Q_e = \\frac{\\sqrt{\\frac{L_r}{C_r}}}{R_e}, \\quad f_n = \\frac{f_{sw}}{f_0}, \\quad f_0 = \\frac{1}{2\\pi\\sqrt{L_r C_r}}\n",
    "$$\n",
    "See page 3 formula (23) [\\[1\\]](#referencesID).\n",
    "<br> You can found all formula of this chapeter in the same ref "
   ]
  },
  {
   "cell_type": "code",
   "execution_count": 81,
   "metadata": {
    "colab": {
     "base_uri": "https://localhost:8080/",
     "height": 459
    },
    "id": "H6p9VQA7_qUl",
    "outputId": "34d5a530-8afc-4c16-c1b0-0301e84e61f5"
   },
   "outputs": [],
   "source": [
    "def calculate_Mg(Ln, fn, Qe):\n",
    "    numerator = Ln * fn**2\n",
    "    denominator_real = (Ln + 1) * fn**2 - 1\n",
    "    denominator_imag = (fn**2 - 1) * fn * Qe * Ln\n",
    "    denominator = np.sqrt(denominator_real**2+ denominator_imag**2)\n",
    "    Mg = abs(numerator / denominator)\n",
    "    return Mg\n"
   ]
  },
  {
   "cell_type": "code",
   "execution_count": 82,
   "metadata": {
    "id": "U5g-fRXS-LBQ"
   },
   "outputs": [],
   "source": [
    "fig, axs = plt.subplots(1, 3, figsize=(12, 4.5)) \n",
    "\n",
    "fn = np.arange(0.1, 10 + 0.01, 0.01)\n",
    "Qearr = np.array ([0,0.3,0.5,1,2,5,10])\n",
    "\n",
    "\n",
    "for ax_idx, Ln in enumerate((1,3, 10)):\n",
    "    ax = axs[ax_idx]\n",
    "    \n",
    "    #Qe = np.array([1, 2, 3, 5, 7, 9])\n",
    "    #Qearr = np.array([0] + list(Qe * 0.1) + list(Qe))\n",
    "    \n",
    "\n",
    "    for Qe in Qearr:\n",
    "        Mg = calculate_Mg(Ln, fn, Qe)\n",
    "        ax.plot(fn, Mg, label=f\"Qe={Qe:.1f}\")\n",
    "\n",
    "    Mg_max = []\n",
    "    frMg_max = []\n",
    "    mg0 = None\n",
    "\n",
    "    for Qe in np.arange(0, 1, 0.01):\n",
    "        Mg = calculate_Mg(Ln, fn, Qe)\n",
    "        i = np.argmax(Mg)\n",
    "        Mg_max.append(Mg[i])\n",
    "        frMg_max.append(fn[i])\n",
    "        if mg0 is None:\n",
    "            mg0 = Mg\n",
    "\n",
    "    frMg_max = np.array(frMg_max)\n",
    "    m = frMg_max < 0.95\n",
    "    frMg_max = frMg_max[m]\n",
    "    Mg_max = np.array(Mg_max)\n",
    "    Mg_max = Mg_max[m]\n",
    "\n",
    "    frMg_max = np.array(frMg_max.tolist() + [1, 1, 10])\n",
    "    Mg_max = np.array(Mg_max.tolist() + [1, 0, 0])\n",
    "    ax.plot(frMg_max, Mg_max, c=\"g\", linestyle=\"--\")\n",
    "\n",
    "    m = fn > frMg_max.min()\n",
    "    fn2 = fn[m]\n",
    "    mg0 = mg0[m]\n",
    "\n",
    "    interp_y2 = interp1d(frMg_max, Mg_max, kind='linear', fill_value='extrapolate')\n",
    "    Mg_max_interp = interp_y2(fn2)\n",
    "\n",
    "    ax.fill_between(fn2, mg0, Mg_max_interp, color='lightgreen', alpha=0.5, label='inductance area ZVS')\n",
    "\n",
    "    #ax.legend()\n",
    "    #if ax_idx == 2:\n",
    "    #    ax.legend(loc='lower center', bbox_to_anchor=(1.3, 0.1), ncol=1)\n",
    "    if ax_idx ==1:\n",
    "        pass\n",
    "        # Use figure coordinates for bbox_to_anchor by adding bbox_transform=fig.transFigure\n",
    "        #ax.legend(loc='lower center', bbox_to_anchor=(0.5, -0.2), ncol=8, bbox_transform=fig.transFigure)\n",
    "\n",
    "\n",
    "    ax.set_xscale(\"log\")\n",
    "    ax.grid()\n",
    "    ax.set_xlabel(\"normal freq : fn\")\n",
    "    ax.set_ylabel(\"Mg\")\n",
    "    ax.set_ylim([0, 2])\n",
    "    ax.set_xlim([1e-1, 10])\n",
    "    ax.set_title(f\"Ln = {Ln}\")\n",
    "\n",
    "plt.tight_layout()\n",
    "fig.suptitle(\"LLC Voltage Gain (Mg) Across Various Ln and Qe Values, Including the ZVS Zone\", \n",
    "             x=0.5, y=1.02)\n",
    "\n",
    "\n",
    "\n",
    "fig.legend(\n",
    "    handles=axs[1].get_legend_handles_labels()[0],\n",
    "    labels=axs[1].get_legend_handles_labels()[1],\n",
    "    loc='lower center',\n",
    "    bbox_to_anchor=(0.5, -0.1),  # adjust vertical position\n",
    "    ncol=8,\n",
    "    frameon=False\n",
    ")\n",
    "plt.savefig(r'.\\03_figs\\LLC_voltage_gain_Mg.jpg'\n",
    "            , bbox_inches='tight')\n",
    "\n",
    "plt.close()\n"
   ]
  },
  {
   "cell_type": "markdown",
   "metadata": {
    "id": "Vz5vCFRA6mqg"
   },
   "source": [
    "<img src='.\\03_figs\\LLC_voltage_gain_Mg.jpg' style=\"width:19cm;\">"
   ]
  },
  {
   "cell_type": "markdown",
   "metadata": {
    "id": "fd_rLuw6HpnK"
   },
   "source": [
    "### Inputs and Specifications"
   ]
  },
  {
   "cell_type": "code",
   "execution_count": 83,
   "metadata": {
    "colab": {
     "base_uri": "https://localhost:8080/",
     "height": 339
    },
    "id": "bH7wTXzHHpnL",
    "outputId": "995e98e4-bc9e-411e-f9f7-6ad85cd79be2"
   },
   "outputs": [
    {
     "data": {
      "text/latex": [
       "$\n",
       "\\begin{aligned}\n",
       "V_{In_{min}} &= 360 \\; \\;\\textrm{(v)}\n",
       "\\\\[10pt]\n",
       "V_{In_{nom}} &= 380 \\; \\;\\textrm{(v)}\n",
       "\\\\[10pt]\n",
       "V_{In_{max}} &= 400 \\; \\;\\textrm{(v)}\n",
       "\\\\[10pt]\n",
       "\\mathrm{Vo}_{min} &= 42 \\; \\;\\textrm{(v)}\n",
       "\\\\[10pt]\n",
       "\\mathrm{Vo}_{nom} &= 48 \\; \\;\\textrm{(v)}\n",
       "\\\\[10pt]\n",
       "\\mathrm{Vo}_{max} &= 54 \\; \\;\\textrm{(v)}\n",
       "\\\\[10pt]\n",
       "\\mathrm{Power} &= 1200 \\; \\;\\textrm{(w)}\n",
       "\\\\[10pt]\n",
       "f_{nom} &= 100000.000 \\; \\;\\textrm{(Hz)}\n",
       "\\end{aligned}\n",
       "$"
      ],
      "text/plain": [
       "<IPython.core.display.Latex object>"
      ]
     },
     "metadata": {},
     "output_type": "display_data"
    }
   ],
   "source": [
    "%%render\n",
    "# Input voltage\n",
    "\n",
    "V_In_min = 360 # v\n",
    "V_In_nom = 380 # v\n",
    "V_In_max = 400 # v\n",
    "\n",
    "\n",
    "# Output Voltage\n",
    "Vo_min = 42 # v\n",
    "Vo_nom = 48 # v\n",
    "Vo_max = 54 # v\n",
    "\n",
    "# Power\n",
    "Power = 1200 # w\n",
    "\n",
    "# Central Frequencey\n",
    "f_nom = 100e3 # Hz"
   ]
  },
  {
   "cell_type": "markdown",
   "metadata": {},
   "source": [
    "**Inputs data**"
   ]
  },
  {
   "cell_type": "code",
   "execution_count": 84,
   "metadata": {},
   "outputs": [
    {
     "data": {
      "text/plain": [
       "{'V_In_min': 360.0,\n",
       " 'V_In_nom': 380.0,\n",
       " 'V_In_max': 400.0,\n",
       " 'Vo_min': 42.0,\n",
       " 'Vo_nom': 48.0,\n",
       " 'Vo_max': 54.0,\n",
       " 'Power': 1200.0,\n",
       " 'f_nom': 100000.0}"
      ]
     },
     "metadata": {},
     "output_type": "display_data"
    }
   ],
   "source": [
    "dic_txt = \"V_In_min,V_In_nom,V_In_max,Vo_min,Vo_nom,Vo_max,Power,f_nom\"\n",
    "\n",
    "dic_in= {}\n",
    "for x in dic_txt.split(\",\"): \n",
    "    dic_in[x]= round(float(eval(x)), 3)\n",
    "\n",
    "with open(\"04_outputs/inp_datas.json\",\"w\") as f: \n",
    "    json.dump(dic_in,f, indent = 4)\n",
    "display (dic_in)"
   ]
  },
  {
   "cell_type": "markdown",
   "metadata": {},
   "source": [
    "### Transfo ratio and Voltage Gain"
   ]
  },
  {
   "cell_type": "code",
   "execution_count": 85,
   "metadata": {
    "colab": {
     "base_uri": "https://localhost:8080/",
     "height": 57
    },
    "id": "Ai5q8IJJHpnL",
    "outputId": "012fc0e2-fbf0-4a6b-9e16-d09b77a201ae"
   },
   "outputs": [
    {
     "data": {
      "text/latex": [
       "$\n",
       "\\begin{aligned}\n",
       "n &= \\frac{ V_{In_{nom}} }{ \\mathrm{Vo}_{nom} \\cdot 2 }  = \\frac{ 380 }{ 48 \\cdot 2 } &= 3.958  \n",
       "\\end{aligned}\n",
       "$"
      ],
      "text/plain": [
       "<IPython.core.display.Latex object>"
      ]
     },
     "metadata": {},
     "output_type": "display_data"
    }
   ],
   "source": [
    "%%render\n",
    "n = V_In_nom/(Vo_nom*2)"
   ]
  },
  {
   "cell_type": "markdown",
   "metadata": {
    "id": "0Oa00J0yLYy0"
   },
   "source": [
    "Choose an integer value to simplify the transformer design."
   ]
  },
  {
   "cell_type": "code",
   "execution_count": 86,
   "metadata": {
    "colab": {
     "base_uri": "https://localhost:8080/",
     "height": 42
    },
    "id": "hFOqxQOrLctW",
    "outputId": "90f5fd5c-0cd1-4f5e-f866-b98b3870d1f7"
   },
   "outputs": [
    {
     "data": {
      "text/latex": [
       "$\n",
       "\\begin{aligned}\n",
       "n &= \\operatorname{round} \\left( n \\right)  = \\operatorname{round} \\left( 4 \\right) &= 4  \n",
       "\\end{aligned}\n",
       "$"
      ],
      "text/plain": [
       "<IPython.core.display.Latex object>"
      ]
     },
     "metadata": {},
     "output_type": "display_data"
    }
   ],
   "source": [
    "%%render\n",
    "n = round(n)"
   ]
  },
  {
   "cell_type": "code",
   "execution_count": 87,
   "metadata": {
    "colab": {
     "base_uri": "https://localhost:8080/",
     "height": 242
    },
    "id": "jgqpwxBKHpnL",
    "outputId": "4e36f884-dffa-4808-c1a1-d0f49b11439a"
   },
   "outputs": [
    {
     "data": {
      "text/latex": [
       "$\n",
       "\\begin{aligned}\n",
       "\\mathrm{Vf} &= 0.200 \\; \\;\\textrm{(drop voltage in the mos)}\n",
       "\\\\[10pt]\n",
       "\\mathrm{efficiency} &= 0.950 \\; \\;\\textrm{(hypothesis)}\n",
       "\\\\[10pt]\n",
       "\\mathrm{loss} &= 1 - \\mathrm{efficiency}  = 1 - 0.950 &= 0.050  \n",
       "\\\\[10pt]\n",
       "\\mathrm{Io}_{nom} &= \\frac{ \\mathrm{Power} }{ \\mathrm{Vo}_{nom} }  = \\frac{ 1200 }{ 48 } &= 25.000 \\; \\;\\textrm{(A)}\n",
       "\\\\[10pt]\n",
       "V_{loss} &= \\frac{ \\frac{ \\mathrm{Power} \\cdot \\mathrm{loss} }{ \\mathrm{efficiency} } }{ \\mathrm{Io}_{nom} }  = \\frac{ \\frac{ 1200 \\cdot 0.050 }{ 0.950 } }{ 25.000 } &= 2.526 \\; \\;\\textrm{(v)}\n",
       "\\end{aligned}\n",
       "$"
      ],
      "text/plain": [
       "<IPython.core.display.Latex object>"
      ]
     },
     "metadata": {},
     "output_type": "display_data"
    }
   ],
   "source": [
    "%%render\n",
    "Vf=0.2 # drop voltage in the mos\n",
    "efficiency = 0.95 # hypothesis\n",
    "loss = 1-efficiency\n",
    "Io_nom = Power/Vo_nom # A\n",
    "V_loss = ((Power*loss)/efficiency)/Io_nom # v"
   ]
  },
  {
   "cell_type": "code",
   "execution_count": null,
   "metadata": {
    "id": "hCd-Z3rBHpnL"
   },
   "outputs": [],
   "source": []
  },
  {
   "cell_type": "code",
   "execution_count": 88,
   "metadata": {
    "colab": {
     "base_uri": "https://localhost:8080/",
     "height": 203
    },
    "id": "QHplxAofHpnM",
    "outputId": "fe2efcbc-f534-405f-998f-9d85b745a790"
   },
   "outputs": [
    {
     "data": {
      "text/latex": [
       "$\n",
       "\\begin{aligned}\n",
       "\\mathrm{margin} &= 0.010 \\; \n",
       "\\\\[10pt]\n",
       "\\mathrm{Mg}_{min} &= n \\cdot \\frac{ \\mathrm{Vo}_{min} \\cdot \\left( 1 - \\mathrm{margin} \\right) + \\mathrm{Vf} }{ \\frac{ V_{In_{max}} }{ 2 } }  = 4 \\cdot \\frac{ 42 \\cdot \\left( 1 - 0.010 \\right) + 0.200 }{ \\frac{ 400 }{ 2 } } &= 0.836  \n",
       "\\\\[10pt]\n",
       "\\mathrm{Mg}_{max} &= n \\cdot \\frac{ \\mathrm{Vo}_{max} \\cdot \\left( 1 + \\mathrm{margin} \\right) + \\mathrm{Vf} + V_{loss} }{ \\frac{ V_{In_{min}} }{ 2 } }  = 4 \\cdot \\frac{ 54 \\cdot \\left( 1 + 0.010 \\right) + 0.200 + 2.526 }{ \\frac{ 360 }{ 2 } } &= 1.273  \n",
       "\\\\[10pt]\n",
       "\\mathrm{Mg}_{max110} &= \\mathrm{Mg}_{max} \\cdot \\left( \\frac{ 110 }{ 100 } \\right)  = 1.273 \\cdot \\left( \\frac{ 110 }{ 100 } \\right) &= 1.400  \n",
       "\\end{aligned}\n",
       "$"
      ],
      "text/plain": [
       "<IPython.core.display.Latex object>"
      ]
     },
     "metadata": {},
     "output_type": "display_data"
    }
   ],
   "source": [
    "%%render\n",
    "margin = 0.01\n",
    "Mg_min = n*(Vo_min*(1-margin)+Vf)/(V_In_max/2)\n",
    "\n",
    "Mg_max = n*(Vo_max*(1+margin)+Vf+V_loss)/(V_In_min/2)\n",
    "\n",
    "\n",
    "# 110% load\n",
    "Mg_max110 = Mg_max*(110/100)\n"
   ]
  },
  {
   "cell_type": "markdown",
   "metadata": {
    "id": "9MrRM4RAR0io"
   },
   "source": [
    "### Lm, Lr, Cr tank"
   ]
  },
  {
   "cell_type": "code",
   "execution_count": 89,
   "metadata": {},
   "outputs": [],
   "source": [
    "def LLC_from_Qe_Ln(Lnc, Qec):\n",
    "\n",
    "  f=np.arange(0.2,5,0.0001)\n",
    "  mg = calculate_Mg(Lnc,f, Qec)\n",
    "  Mg_c= mg.max()\n",
    "\n",
    "\n",
    "\n",
    "\n",
    "  i = np.abs(mg-Mg_min).argmin()\n",
    "  i = np.abs(mg-Mg_max110).argmin()\n",
    "  mg_max_close= mg[i]\n",
    "\n",
    "  fn_min= f[i]\n",
    "  #print2(fn_min)\n",
    "\n",
    "\n",
    "  #mg = calculate_Mg(Lnc,f, Qec)\n",
    "  mg = calculate_Mg(Lnc,f, 0)\n",
    "  i = np.abs(mg-Mg_min).argmin()\n",
    "  fn_max = f[i]\n",
    "  mg_min_close= mg[i]\n",
    "\n",
    "  _='''\n",
    "  mask1= f>fn_min\n",
    "  mask2= f<fn_max\n",
    "  mask = mask1 & mask2\n",
    "  f2 = f[mask]\n",
    "  mg2 = mg[mask]\n",
    "\n",
    "  mask1 = mg2>Mg_min\n",
    "  mask2 = mg2<Mg_max110\n",
    "  mask = mask1 & mask2\n",
    "  f2 = f2[mask]\n",
    "  mg2 = mg2[mask]\n",
    "\n",
    "  #print2(mg2)\n",
    "  VmMax= mg2*2*np.sqrt(2)*V_In_max/(pi)\n",
    "  #print2(V_In_max, VmMax, mg2)\n",
    "  Ae = 211e-6\n",
    "  fsw = f2*f_nom\n",
    "  Bpeak = VmMax/(4.44*fsw*n*Ae)\n",
    "  # print2(fsw,  n, Ae)\n",
    "  try:\n",
    "    Bpeak_max = Bpeak.max()\n",
    "  except:\n",
    "    Bpeak_max = np.nan\n",
    "  #print(Bpeak_max)\n",
    "  '''\n",
    "\n",
    "\n",
    "\n",
    "\n",
    "\n",
    "\n",
    "  # 100 load\n",
    "\n",
    "  Re_nom = 8*n**2*Vo_nom / (pi**2*Io_nom)\n",
    "  Re_nom = np.round(Re_nom, 3)\n",
    "  # print2(Re_nom)\n",
    "\n",
    "  # 110% load\n",
    "\n",
    "  Re_110 = 8*n**2*Vo_nom / (pi**2*Io_nom*1.1)\n",
    "  #Re_110 = np.round(Re_110, 1)\n",
    "  # print2(Re_110)\n",
    "  P_re_110 = (V_In_nom/2)**2/Re_nom\n",
    "  #P_re_110 = np.round(P_re_110, 0)\n",
    "  # print2(P_re_110)\n",
    "\n",
    "\n",
    "\n",
    "  Cr_nF= 1e9/ (2*pi * Qec* f_nom*Re_nom)\n",
    "\n",
    "\n",
    "\n",
    "\n",
    "  Cr = Cr_nF\n",
    "  Cr = np.round(Cr, 3)\n",
    "\n",
    "\n",
    "  Lr = 1/ ((2*pi * f_nom)**2*Cr*1e-9)\n",
    "  Lr_uH = Lr *1e6 # uH\n",
    "  Lr_uH = np.round(Lr_uH, 3)\n",
    "  #Lr = 60 # choise\n",
    "\n",
    "  Lm = Lr*Lnc\n",
    "  #Lm = np.round(Lm, 1)\n",
    "  Lm_uH = Lm *1e6 # uH\n",
    "  Lm_uH = np.round(Lm_uH, 3)\n",
    "\n",
    "\n",
    "\n",
    "\n",
    "\n",
    "\n",
    "\n",
    "\n",
    "  fsw_min = fn_min*f_nom\n",
    "  fsw_min = np.round(fsw_min, 2)\n",
    "\n",
    "  fsw_max = fn_max*f_nom\n",
    "  fsw_max = np.round(fsw_max, 2)\n",
    "\n",
    "\n",
    "\n",
    "\n",
    "  wmin= 2*pi * fsw_min\n",
    "  wmax= 2*pi * fsw_max\n",
    "  #print2(fsw_min, Lm)\n",
    "\n",
    "  # The RMS magnetizing current (im) at fsw_min\n",
    "  im = 2*np.sqrt(2)*n*Vo_nom/(pi*Lm*wmin)\n",
    "\n",
    "  # The primary-side RMS load current (Ioe) with a 110% overload i\n",
    "  Io= Io_nom\n",
    "  Ioe= 1.1*pi*Io/(n*2*np.sqrt(2))\n",
    "\n",
    "\n",
    "  # The resonant circuit’s current (Ir)\n",
    "  Ir = np.sqrt(im**2+Ioe**2)\n",
    "\n",
    "\n",
    "  Ae = 211e-6\n",
    "  le = 114e-3\n",
    "  ue=188\n",
    "  u0= 4*pi*1e-7\n",
    "\n",
    "  Bpeak_max = 1000*(im*u0*ue*n/le)\n",
    "  Hmax = im*n/le\n",
    "  return Lm_uH,Lr_uH ,Cr_nF, fn_min, fn_max, fsw_min, fsw_max, Ioe ,  im, Ir, Bpeak_max, Hmax\n",
    "Lnc, Qec = 3, 0.5\n",
    "Lm_uH,Lr_uH ,Cr_nF, fn_min, fn_max, fsw_min, fsw_max, Ioe ,  Im_rms, Ir, Bpeak_max, Hmax = LLC_from_Qe_Ln(Lnc, Qec)\n",
    "#print2(Lm_uH,Lr_uH ,Cr_nF, fn_min, fn_max, fsw_min, fsw_max, Ioe ,  Im_rms, Ir, Bpeak_max, Hmax)"
   ]
  },
  {
   "cell_type": "code",
   "execution_count": 90,
   "metadata": {},
   "outputs": [],
   "source": [
    "Lnarr = list(np.arange(1,10,0.01))\n",
    "Qearr = np.arange(0.1,1,0.01)"
   ]
  },
  {
   "cell_type": "markdown",
   "metadata": {},
   "source": [
    "Below we will use grid search to find the best values for `Ln` and `Qe`.\n",
    "\n",
    "**The idea:**\n",
    "- Change `Ln` in the range: start = 1, stop = 10, step = 0.01 (around 100 points)\n",
    "- Change `Qe` in the range: start = 0.1, stop = 1, step = 0.01 (around 10 points)\n",
    "\n",
    "We will select the `Ln` and `Qe` values that give an `Mg` value closest to `Mg_max110`.\n"
   ]
  },
  {
   "cell_type": "code",
   "execution_count": 91,
   "metadata": {},
   "outputs": [],
   "source": [
    "# CHOSE QE110 automatically\n",
    "#Lnc, Qec = 2,0.5\n",
    "freqn =  np.arange(0.15,1.7,0.01)\n",
    "\n",
    "data =[]\n",
    "Ln, Qe = Lnc, Qec\n",
    "for Ln in Lnarr:\n",
    "  for Qe in Qearr:\n",
    "    Mg = calculate_Mg(Ln,freqn, Qe)\n",
    "    Mg_ape = Mg.max()\n",
    "    data.append( [Ln, Qe, Mg_ape])\n",
    "\n",
    "data= np.array(data).T\n",
    "#print(data.shape)\n",
    "\n",
    "arr = data[2]\n",
    "i = np.argmin(np.abs(arr-Mg_max110))\n",
    "Lnc, Qec, Mg_ape = data.T[i]\n",
    "#Lnc, Qec, Mg_ape, Mg_max110\n"
   ]
  },
  {
   "cell_type": "code",
   "execution_count": null,
   "metadata": {},
   "outputs": [],
   "source": []
  },
  {
   "cell_type": "markdown",
   "metadata": {},
   "source": []
  },
  {
   "cell_type": "markdown",
   "metadata": {},
   "source": [
    "**Top 6 (Ln, Qe) Combinations Matching `Mg_max110`**\n",
    "<br> The following 6 values of `Ln` and `Qe` closely match the target voltage gain `Mg_max110`. \n",
    "<br> These rows were selected based on the criterion that `Mg_ape` is nearly equal to `Mg_max110`."
   ]
  },
  {
   "cell_type": "code",
   "execution_count": 92,
   "metadata": {},
   "outputs": [
    {
     "data": {
      "text/latex": [
       "$\n",
       "\\begin{aligned}\n",
       "\\mathrm{Mg}_{max110} &= 1.400 \\; \n",
       "\\end{aligned}\n",
       "$"
      ],
      "text/plain": [
       "<IPython.core.display.Latex object>"
      ]
     },
     "metadata": {},
     "output_type": "display_data"
    }
   ],
   "source": [
    "%%render\n",
    "Mg_max110"
   ]
  },
  {
   "cell_type": "code",
   "execution_count": 93,
   "metadata": {},
   "outputs": [
    {
     "data": {
      "text/html": [
       "<div>\n",
       "<style scoped>\n",
       "    .dataframe tbody tr th:only-of-type {\n",
       "        vertical-align: middle;\n",
       "    }\n",
       "\n",
       "    .dataframe tbody tr th {\n",
       "        vertical-align: top;\n",
       "    }\n",
       "\n",
       "    .dataframe thead th {\n",
       "        text-align: right;\n",
       "    }\n",
       "</style>\n",
       "<table border=\"1\" class=\"dataframe\">\n",
       "  <thead>\n",
       "    <tr style=\"text-align: right;\">\n",
       "      <th></th>\n",
       "      <th>Lnc</th>\n",
       "      <th>Qec</th>\n",
       "      <th>Lm_uH</th>\n",
       "      <th>Lr_uH</th>\n",
       "      <th>Cr_nF</th>\n",
       "      <th>fn_min</th>\n",
       "      <th>fn_max</th>\n",
       "      <th>fsw_min</th>\n",
       "      <th>fsw_max</th>\n",
       "      <th>Mg_ape</th>\n",
       "    </tr>\n",
       "  </thead>\n",
       "  <tbody>\n",
       "    <tr>\n",
       "      <th>0</th>\n",
       "      <td>2.41</td>\n",
       "      <td>0.64</td>\n",
       "      <td>61.127</td>\n",
       "      <td>25.364</td>\n",
       "      <td>99.867314</td>\n",
       "      <td>0.6375</td>\n",
       "      <td>1.3790</td>\n",
       "      <td>63750.0</td>\n",
       "      <td>137900.0</td>\n",
       "      <td>1.400142</td>\n",
       "    </tr>\n",
       "    <tr>\n",
       "      <th>1</th>\n",
       "      <td>3.00</td>\n",
       "      <td>0.55</td>\n",
       "      <td>65.392</td>\n",
       "      <td>21.797</td>\n",
       "      <td>116.209238</td>\n",
       "      <td>0.6017</td>\n",
       "      <td>1.5622</td>\n",
       "      <td>60170.0</td>\n",
       "      <td>156220.0</td>\n",
       "      <td>1.400062</td>\n",
       "    </tr>\n",
       "    <tr>\n",
       "      <th>2</th>\n",
       "      <td>3.46</td>\n",
       "      <td>0.50</td>\n",
       "      <td>68.562</td>\n",
       "      <td>19.816</td>\n",
       "      <td>127.830162</td>\n",
       "      <td>0.5707</td>\n",
       "      <td>1.7698</td>\n",
       "      <td>57070.0</td>\n",
       "      <td>176980.0</td>\n",
       "      <td>1.399923</td>\n",
       "    </tr>\n",
       "    <tr>\n",
       "      <th>3</th>\n",
       "      <td>3.68</td>\n",
       "      <td>0.48</td>\n",
       "      <td>70.005</td>\n",
       "      <td>19.023</td>\n",
       "      <td>133.156419</td>\n",
       "      <td>0.5471</td>\n",
       "      <td>1.9035</td>\n",
       "      <td>54710.0</td>\n",
       "      <td>190350.0</td>\n",
       "      <td>1.400284</td>\n",
       "    </tr>\n",
       "    <tr>\n",
       "      <th>4</th>\n",
       "      <td>4.21</td>\n",
       "      <td>0.44</td>\n",
       "      <td>73.413</td>\n",
       "      <td>17.438</td>\n",
       "      <td>145.261548</td>\n",
       "      <td>0.5324</td>\n",
       "      <td>2.4133</td>\n",
       "      <td>53240.0</td>\n",
       "      <td>241330.0</td>\n",
       "      <td>1.400277</td>\n",
       "    </tr>\n",
       "    <tr>\n",
       "      <th>5</th>\n",
       "      <td>4.71</td>\n",
       "      <td>0.41</td>\n",
       "      <td>76.532</td>\n",
       "      <td>16.249</td>\n",
       "      <td>155.890441</td>\n",
       "      <td>0.5077</td>\n",
       "      <td>3.6928</td>\n",
       "      <td>50770.0</td>\n",
       "      <td>369280.0</td>\n",
       "      <td>1.400231</td>\n",
       "    </tr>\n",
       "  </tbody>\n",
       "</table>\n",
       "</div>"
      ],
      "text/plain": [
       "    Lnc   Qec   Lm_uH   Lr_uH       Cr_nF  fn_min  fn_max  fsw_min   fsw_max  \\\n",
       "0  2.41  0.64  61.127  25.364   99.867314  0.6375  1.3790  63750.0  137900.0   \n",
       "1  3.00  0.55  65.392  21.797  116.209238  0.6017  1.5622  60170.0  156220.0   \n",
       "2  3.46  0.50  68.562  19.816  127.830162  0.5707  1.7698  57070.0  176980.0   \n",
       "3  3.68  0.48  70.005  19.023  133.156419  0.5471  1.9035  54710.0  190350.0   \n",
       "4  4.21  0.44  73.413  17.438  145.261548  0.5324  2.4133  53240.0  241330.0   \n",
       "5  4.71  0.41  76.532  16.249  155.890441  0.5077  3.6928  50770.0  369280.0   \n",
       "\n",
       "     Mg_ape  \n",
       "0  1.400142  \n",
       "1  1.400062  \n",
       "2  1.399923  \n",
       "3  1.400284  \n",
       "4  1.400277  \n",
       "5  1.400231  "
      ]
     },
     "execution_count": 93,
     "metadata": {},
     "output_type": "execute_result"
    }
   ],
   "source": [
    "arr2=[]\n",
    "arr = data[2]\n",
    "for i in np.argsort(np.abs(arr-Mg_max110)):\n",
    "  Lnc, Qec, Mg_ape = data.T[i]\n",
    "  Lm_uH,Lr_uH ,Cr_nF, fn_min, fn_max, fsw_min, fsw_max, Ioe ,  Im_rms, Ir, Bpeak_max , Hmax = LLC_from_Qe_Ln(Lnc, Qec)\n",
    "\n",
    "  dic = {\n",
    "    \"Lnc\": Lnc,\n",
    "    \"Qec\": Qec,\n",
    "    \"Lm_uH\": Lm_uH,\n",
    "    \"Lr_uH\": Lr_uH,\n",
    "    \"Cr_nF\": Cr_nF,\n",
    "    \"fn_min\" : fn_min,\n",
    "    \"fn_max\": fn_max,\n",
    "    \"fsw_min\": fsw_min,\n",
    "    \"fsw_max\": fsw_max,\n",
    "    \"Ioe\": Ioe,\n",
    "    \"Im_rms\": Im_rms,\n",
    "    \"Ir\": Ir,\n",
    "    \"Mg_ape\": Mg_ape,\n",
    "    \"Bpeak_max_mT\":Bpeak_max,\n",
    "    \"Hmax\": Hmax}\n",
    "  if Mg_ape > Mg_max110 and fn_min < fn_max and Lnc>=2 and Lnc < 10 :\n",
    "    arr2.append(dic)\n",
    "    if len(arr2) >=6:\n",
    "      break\n",
    "dfllcv = pd.DataFrame(arr2)\n",
    "dfllcv = dfllcv.sort_values(\"Lnc\")  .reset_index(drop = True )\n",
    "dfllcv\n",
    "# in https://www.tdk-electronics.tdk.com/download/540066/dbcde584d155cc270f5d5dbf1efec233/pdf-generaldefinitions.pdf\n",
    "# page 3\n",
    "_=\"\"\"\n",
    "1.2.2 Saturation magnetization BS\n",
    "The saturation magnetization BS is defined as the maximum flux density attainable in a material (i.e.\n",
    "for a very high field strength) at a given temperature; above this value BS, it is not possible to further\n",
    "increase B(H) by further increasing H.\n",
    "Technically, BS is defined as the flux density at a field strength of H = 1200 A/m. As is confirmed in\n",
    "the actual magnetization curves in the chapter on “Materials”, the B(H) characteristic above\n",
    "1200 A/m remains roughly constant (applies to all ferrites with high initial permeability, i.e. where\n",
    " 1000).\"\"\"\n",
    "_=\"\"\" In practice, to be safe, design for a bit less, like keeping\n",
    "𝐻\n",
    "H around 800–1000 A/m maximum, to\n",
    "\"\"\"\n",
    "dfprint = dfllcv.copy()\n",
    "\n",
    "dfllcv[['Lnc', 'Qec', 'Lm_uH', 'Lr_uH', 'Cr_nF', 'fn_min', 'fn_max', 'fsw_min',\n",
    "       'fsw_max', \"Mg_ape\"]]"
   ]
  },
  {
   "cell_type": "code",
   "execution_count": 94,
   "metadata": {},
   "outputs": [],
   "source": [
    "colors = {i/10:f\"C{i}\" for i in range(10)}\n",
    "colors[\"chose\"]='C9'\n"
   ]
  },
  {
   "cell_type": "code",
   "execution_count": 95,
   "metadata": {},
   "outputs": [],
   "source": [
    "fig, axs = plt.subplots(2,3, figsize=(13, 7))\n",
    "\n",
    "axs= axs.flatten()\n",
    "fig.subplots_adjust(wspace=0.3, hspace=0.4)\n",
    "fnminplot, fnmaxplot =10,0\n",
    "nmax = 0\n",
    "for idx in range(len(dfllcv)):\n",
    "  ax = axs[idx]\n",
    "  dic = dfllcv.iloc[idx].to_dict()\n",
    "  Lnc, Qec, Lm_uH, Lr_uH, Cr_nF,fn_min, fn_max,fsw_min, fsw_max, Ioe, Im_rms, Ir, Mg_ape, Bpeak_max , Hmax  = dic.values()\n",
    "\n",
    "\n",
    "\n",
    "\n",
    "  fn_min,fn_max = fsw_min/f_nom, fsw_max/f_nom\n",
    "  if fn_min < fnminplot:\n",
    "    fnminplot = fn_min\n",
    "  if fn_max > fnmaxplot:\n",
    "    fnmaxplot = fn_max\n",
    "\n",
    "  freqn = np.arange(fn_min*0.7,fn_max*1.2,0.01)\n",
    "\n",
    "\n",
    "\n",
    "  #Mg = calculate_Mg(Lnc,freqn, Qec)\n",
    "  #print(Qec)\n",
    "  #print(np.round(Qec, 1))\n",
    "  Qecarr = np.arange(0,np.round(Qec, 1), 0.1)\n",
    "  Qecarr = np.append(Qecarr, Qec)\n",
    "  #print2(Qecarr)\n",
    "  for Qe in Qecarr:\n",
    "    lab = f\"Qe={Qe:.2f}\"\n",
    "    c = round(Qe,3)\n",
    "    if Qe == Qec:\n",
    "        c = \"chose\"\n",
    "        lab = f\"Qe=chosed\"\n",
    "    nmax = max (nmax, len(Qecarr))\n",
    "        \n",
    "\n",
    "    Mg = calculate_Mg(Lnc,freqn, Qe)\n",
    "    ax.plot(freqn, Mg, label = lab, c= colors [c])\n",
    "\n",
    "  Qe = Qec\n",
    "  Mg = calculate_Mg(Lnc,freqn, Qe)\n",
    "  i= np.argmin (np.abs(Mg -Mg_min))\n",
    "  fa1 = freqn[i]\n",
    "  Qe = 0\n",
    "  Mg = calculate_Mg(Lnc,freqn, Qe)\n",
    "  i= np.argmin (np.abs(Mg -Mg_max110))\n",
    "  fa2 = freqn[i]\n",
    "\n",
    "\n",
    "\n",
    "\n",
    "\n",
    "  #print2(Qecarr)\n",
    "\n",
    "  #ax.plot(freqn, Mg)\n",
    "  #Mg_max = Mg.max()\n",
    "  #print2(Mg_max)\n",
    "  ax.plot([fn_min*0.8,fn_max*1.2 ], [Mg_max110, Mg_max110],\n",
    "           label = \"Mg_max_110%\", linestyle =\"--\", c=\"k\")\n",
    "  ax.plot([fn_min*0.8,fn_max*1.2], [Mg_max,Mg_max ],\n",
    "          label = \"Mg_max\", linestyle =\"--\", c=\"r\")\n",
    "  ax.plot([fn_min*0.8,fn_max*1.2 ], [Mg_min, Mg_min],\n",
    "          label = \"Mg_min\", linestyle =\"--\", c=\"b\")\n",
    "  ax.plot([fn_min,fn_min ], [Mg_min*0.8, Mg_max110*1.2],\n",
    "          label = \"fn_min\", linestyle =\"--\", c=\"g\")\n",
    "  ax.plot([fn_max,fn_max ], [Mg_min*0.8, Mg_max110*1.2],\n",
    "          label = \"fn_max\", linestyle =\"--\", c=\"y\")\n",
    "\n",
    "\n",
    "  ax.plot([fa1,fa1 ], [Mg_min*0.8, Mg_max110*1.2],\n",
    "          linestyle =\":\",label=\"fa1\")\n",
    "  ax.plot([fa2,fa2  ], [Mg_min*0.8, Mg_max110*1.2],\n",
    "          linestyle =':',label=\"fa2\")\n",
    "\n",
    "\n",
    "\n",
    "\n",
    "\n",
    "  #ax.legend()\n",
    "  ax.legend(loc='center', bbox_to_anchor=(1, 0.6), ncol=1)\n",
    "  # ax.legend(loc='center', bbox_to_anchor=(0.5, -0.3), ncol=3)\n",
    "  #plt.xscale(\"log\")\n",
    "  #plt.yscale(\"log\")\n",
    "  ax.set_title(f\" Ln={Lnc:0.2f} Qec={Qec:0.2f}\")\n",
    "  ax.grid()#wich= \"both\")\n",
    "  ax.set_xlabel(\"freq_norm\")\n",
    "  ax.set_ylabel(\"Mg\")\n",
    "  ax.set_ylim([ Mg_min-0.1/2, Mg_max110+0.1/2])\n",
    "#for ax in axs:\n",
    "  ax.set_xlim([fnminplot-0.1, fnmaxplot+0.1])\n",
    "\n",
    "nmax = 0\n",
    "target_ax = None\n",
    "\n",
    "# Find the axis with the most lines\n",
    "for ax in axs:\n",
    "    if len(ax.lines) > nmax:\n",
    "        nmax = len(ax.lines)\n",
    "        target_ax = ax\n",
    "\n",
    "# Remove all legends\n",
    "i=0\n",
    "for ax in axs:\n",
    "    if i<3:\n",
    "        #ax.set_xlabel(\"\")\n",
    "        pass\n",
    "    if ax.legend_:\n",
    "        ax.legend_.remove()\n",
    "    i=i+1\n",
    "\n",
    "# Add a single legend with 4 columns at bottom of figure\n",
    "if target_ax:\n",
    "    handles, labels = target_ax.get_legend_handles_labels()\n",
    "    fig.legend(\n",
    "        handles,\n",
    "        labels,\n",
    "        loc='lower center',\n",
    "        bbox_to_anchor=(0.5, -0.05),  # X=50%, Y=below figure\n",
    "        ncol=7,\n",
    "        frameon=False\n",
    "    )\n",
    "\n",
    "\n",
    "\n",
    "\n",
    "\n",
    "\n",
    "\n",
    "\n",
    "plt.suptitle(\"Grid search for Ln and Qe to find the best pair of values.\")\n",
    "plt.savefig(\"./03_figs/chose_Ln_Qe.jpg\", bbox_inches='tight')\n",
    "\n",
    "plt.close()  # without showing "
   ]
  },
  {
   "cell_type": "markdown",
   "metadata": {
    "colab": {
     "base_uri": "https://localhost:8080/",
     "height": 1000
    },
    "id": "gwO5SxTWGKGF",
    "outputId": "e62637e4-0bf4-4d5d-96f5-65948402b9bb"
   },
   "source": [
    "<img src=\"./03_figs/chose_Ln_Qe.jpg\" style=\"width:19cm;\">\n"
   ]
  },
  {
   "cell_type": "code",
   "execution_count": 96,
   "metadata": {
    "id": "ZwCeBBNUN3cI"
   },
   "outputs": [
    {
     "data": {
      "text/latex": [
       "$\n",
       "\\begin{aligned}\n",
       "\\mathrm{Lnc} &= 3 \\; \n",
       "\\\\[10pt]\n",
       "\\mathrm{Qec} &= 0.550 \\; \n",
       "\\end{aligned}\n",
       "$"
      ],
      "text/plain": [
       "<IPython.core.display.Latex object>"
      ]
     },
     "metadata": {},
     "output_type": "display_data"
    }
   ],
   "source": [
    "%%render\n",
    "Lnc=3 \n",
    "Qec = 0.55 "
   ]
  },
  {
   "cell_type": "markdown",
   "metadata": {},
   "source": [
    "Lnc = 3 and Qec = 0.55 represent an optimal compromise due to the following:\n",
    "\n",
    "* **Moderate gain slope (ΔM/Δf):**  \n",
    "  In the inductive region, the gain rises gradually with frequency, enabling stable control without abrupt sensitivity shifts.\n",
    "* **Limited frequency span (f_min to f_max):**  \n",
    "  These parameters restrict the switching frequency range, simplifying component design, controller implementation, and consistent ZVS operation.\n"
   ]
  },
  {
   "cell_type": "code",
   "execution_count": null,
   "metadata": {
    "id": "SswPqGEvyg3G"
   },
   "outputs": [],
   "source": []
  },
  {
   "cell_type": "code",
   "execution_count": null,
   "metadata": {},
   "outputs": [],
   "source": []
  },
  {
   "cell_type": "markdown",
   "metadata": {},
   "source": [
    "## "
   ]
  },
  {
   "cell_type": "code",
   "execution_count": 97,
   "metadata": {
    "id": "OpsW46eVkzAL"
   },
   "outputs": [],
   "source": [
    "f=np.arange(0.2,5,0.0001)\n",
    "mg = calculate_Mg(Lnc,f, Qec)\n",
    "Mg_c= mg.max()\n",
    "\n",
    "\n",
    "\n",
    "\n",
    "i = np.abs(mg-Mg_min).argmin()\n",
    "i = np.abs(mg-Mg_max110).argmin()\n",
    "mg_max_close= mg[i]\n",
    "\n",
    "fn_min= f[i]\n",
    "#print2(fn_min)\n",
    "\n",
    "\n",
    "#mg = calculate_Mg(Lnc,f, Qec)\n",
    "mg = calculate_Mg(Lnc,f, 0)\n",
    "i = np.abs(mg-Mg_min).argmin()\n",
    "fn_max = f[i]\n",
    "mg_min_close= mg[i]"
   ]
  },
  {
   "cell_type": "markdown",
   "metadata": {
    "colab": {
     "base_uri": "https://localhost:8080/",
     "height": 449
    },
    "id": "7jfKg4T2Pg2e",
    "outputId": "918e2ed7-54c1-4a0c-cc5a-7642588e83e6"
   },
   "source": [
    "#### Equivalent resistor"
   ]
  },
  {
   "cell_type": "code",
   "execution_count": 98,
   "metadata": {
    "colab": {
     "base_uri": "https://localhost:8080/",
     "height": 209
    },
    "id": "lnWsTJ8oPoBr",
    "outputId": "dea34e40-248f-4512-b181-e461664d2929"
   },
   "outputs": [
    {
     "data": {
      "text/latex": [
       "$\n",
       "\\begin{aligned}\n",
       "\\mathrm{Re}_{nom} &= 8 \\cdot \\left( n \\right) ^{ 2 } \\cdot \\frac{ \\mathrm{Vo}_{nom} }{ \\left( \\pi \\right) ^{ 2 } \\cdot \\mathrm{Io}_{nom} }  = 8 \\cdot \\left( 4 \\right) ^{ 2 } \\cdot \\frac{ 48 }{ \\left( 3.142 \\right) ^{ 2 } \\cdot 25.000 } &= 24.901  \n",
       "\\\\[10pt]\n",
       "\\mathrm{Re}_{nom} &= \\operatorname{round} \\left( \\mathrm{Re}_{nom} ,\\  3 \\right)  = \\operatorname{round} \\left( 24.901 ,\\  3 \\right) &= 24.901  \n",
       "\\\\[10pt]\n",
       "\\mathrm{Re}_{110} &= 8 \\cdot \\left( n \\right) ^{ 2 } \\cdot \\frac{ \\mathrm{Vo}_{nom} }{ \\left( \\pi \\right) ^{ 2 } \\cdot \\mathrm{Io}_{nom} \\cdot 1.1 }  = 8 \\cdot \\left( 4 \\right) ^{ 2 } \\cdot \\frac{ 48 }{ \\left( 3.142 \\right) ^{ 2 } \\cdot 25.000 \\cdot 1.1 } &= 22.637  \n",
       "\\\\[10pt]\n",
       "P_{re_{110}} &= \\frac{ \\left( \\frac{ V_{In_{nom}} }{ 2 } \\right) ^{ 2 } }{ \\mathrm{Re}_{nom} }  = \\frac{ \\left( \\frac{ 380 }{ 2 } \\right) ^{ 2 } }{ 24.901 } &= 1449.741  \n",
       "\\end{aligned}\n",
       "$"
      ],
      "text/plain": [
       "<IPython.core.display.Latex object>"
      ]
     },
     "metadata": {},
     "output_type": "display_data"
    }
   ],
   "source": [
    "%%render\n",
    "# 100 load\n",
    "\n",
    "Re_nom = 8*n**2*Vo_nom / (pi**2*Io_nom)\n",
    "Re_nom = round(Re_nom,3 )\n",
    "# print2(Re_nom)\n",
    "\n",
    "# 110% load\n",
    "\n",
    "Re_110 = 8*n**2*Vo_nom / (pi**2*Io_nom*1.1)\n",
    "#Re_110 = np.round(Re_110, 1)\n",
    "# print2(Re_110)\n",
    "P_re_110 = (V_In_nom/2)**2/Re_nom\n",
    "#P_re_110 = np.round(P_re_110, 0)\n",
    "# print2(P_re_110)"
   ]
  },
  {
   "cell_type": "markdown",
   "metadata": {},
   "source": [
    "#### Lm, Lr, Cr values"
   ]
  },
  {
   "cell_type": "code",
   "execution_count": 99,
   "metadata": {
    "colab": {
     "base_uri": "https://localhost:8080/",
     "height": 401
    },
    "id": "H1jFp6kSQD3-",
    "outputId": "423d4122-e228-4865-9e1c-ec8b2b821364"
   },
   "outputs": [
    {
     "data": {
      "text/latex": [
       "$\n",
       "\\begin{aligned}\n",
       "\\mathrm{Cr}_{nF} &= \\frac{ 1 \\times 10 ^ {9} }{ 2 \\cdot \\pi \\cdot \\mathrm{Qec} \\cdot f_{nom} \\cdot \\mathrm{Re}_{nom} }  = \\frac{ 1 \\times 10 ^ {9} }{ 2 \\cdot 3.142 \\cdot 0.550 \\cdot 100000.000 \\cdot 24.901 } &= 116.209 \\; \\;\\textrm{(nF)}\n",
       "\\\\[10pt]\n",
       "\\mathrm{Cr} &= 116.209 \\; \n",
       "\\\\[10pt]\n",
       "\\mathrm{Cr} &= \\operatorname{round} \\left( \\mathrm{Cr} ,\\  3 \\right)  = \\operatorname{round} \\left( 116.209 ,\\  3 \\right) &= 116.209  \n",
       "\\\\[10pt]\n",
       "\\mathrm{Lr} &= \\frac{ 1 }{ \\left( 2 \\cdot \\pi \\cdot f_{nom} \\right) ^{ 2 } \\cdot \\mathrm{Cr} \\cdot 1 \\times 10 ^ {-9} }  = \\frac{ 1 }{ \\left( 2 \\cdot 3.142 \\cdot 100000.000 \\right) ^{ 2 } \\cdot 116.209 \\cdot 1 \\times 10 ^ {-9} } &= 0.000  \n",
       "\\\\[10pt]\n",
       "\\mathrm{Lr}_{uH} &= \\mathrm{Lr} \\cdot 1 \\times 10 ^ {6}  = 0.000 \\cdot 1 \\times 10 ^ {6} &= 21.797 \\; \\;\\textrm{(uH)}\n",
       "\\\\[10pt]\n",
       "\\mathrm{Lr}_{uH} &= \\operatorname{round} \\left( \\mathrm{Lr}_{uH} ,\\  3 \\right)  = \\operatorname{round} \\left( 21.797 ,\\  3 \\right) &= 21.797  \n",
       "\\\\[10pt]\n",
       "\\mathrm{Lm} &= \\mathrm{Lr} \\cdot \\mathrm{Lnc}  = 0.000 \\cdot 3 &= 0.000  \n",
       "\\\\[10pt]\n",
       "\\mathrm{Lm}_{uH} &= \\mathrm{Lm} \\cdot 1 \\times 10 ^ {6}  = 0.000 \\cdot 1 \\times 10 ^ {6} &= 65.392 \\; \\;\\textrm{(uH)}\n",
       "\\end{aligned}\n",
       "$"
      ],
      "text/plain": [
       "<IPython.core.display.Latex object>"
      ]
     },
     "metadata": {},
     "output_type": "display_data"
    }
   ],
   "source": [
    "%%render\n",
    "Cr_nF= 1e9/ (2*pi * Qec* f_nom*Re_nom) # nF\n",
    "\n",
    "\n",
    "\n",
    "\n",
    "Cr = Cr_nF\n",
    "Cr = round(Cr, 3)\n",
    "\n",
    "\n",
    "Lr = 1/ ((2*pi * f_nom)**2*Cr*1e-9)\n",
    "Lr_uH = Lr *1e6 # uH\n",
    "Lr_uH = round(Lr_uH, 3)\n",
    "#Lr = 60 # choise\n",
    "\n",
    "Lm = Lr*Lnc\n",
    "#Lm = np.round(Lm, 1)\n",
    "Lm_uH = Lm *1e6 # uH\n",
    "#Lm_uH = round(Lm_uH, 1)"
   ]
  },
  {
   "cell_type": "markdown",
   "metadata": {},
   "source": [
    "**Verification**"
   ]
  },
  {
   "cell_type": "code",
   "execution_count": 100,
   "metadata": {
    "colab": {
     "base_uri": "https://localhost:8080/"
    },
    "id": "8kCtr4ginace",
    "outputId": "b48d8e91-27bb-4aa3-b5a9-ed97a54f5940"
   },
   "outputs": [
    {
     "data": {
      "text/latex": [
       "$\n",
       "\\begin{aligned}\n",
       "\\mathrm{Qcal} &= \\frac{ \\sqrt { \\frac{ \\mathrm{Lr} }{ \\mathrm{Cr} \\cdot 1 \\times 10 ^ {-9} } } }{ \\mathrm{Re}_{110} \\cdot 1.1 }  = \\frac{ \\sqrt { \\frac{ 0.000 }{ 116.209 \\cdot 1 \\times 10 ^ {-9} } } }{ 22.637 \\cdot 1.1 } &= 0.550  \n",
       "\\\\[10pt]\n",
       "\\mathrm{Qec} &= 0.550 \\; \n",
       "\\end{aligned}\n",
       "$"
      ],
      "text/plain": [
       "<IPython.core.display.Latex object>"
      ]
     },
     "metadata": {},
     "output_type": "display_data"
    }
   ],
   "source": [
    "%%render\n",
    "Qcal = sqrt(Lr/(Cr*1e-9))/(Re_110*1.1)\n",
    "Qec"
   ]
  },
  {
   "cell_type": "markdown",
   "metadata": {},
   "source": [
    "#### Fsw limites and primary secondary currents "
   ]
  },
  {
   "cell_type": "code",
   "execution_count": 101,
   "metadata": {
    "colab": {
     "base_uri": "https://localhost:8080/",
     "height": 452
    },
    "id": "ivWNsp2jQZ3_",
    "outputId": "ccff0f04-a6c0-44f3-cbb5-9d1684ef7639"
   },
   "outputs": [
    {
     "data": {
      "text/latex": [
       "$\n",
       "\\begin{aligned}\n",
       "\\mathrm{fsw}_{min} &= \\operatorname{round} \\left( \\mathrm{fn}_{min} \\cdot f_{nom} ,\\  2 \\right)  = \\operatorname{round} \\left( 0.602 \\cdot 100000.000 ,\\  2 \\right) &= 60170.000 \\; \\;\\textrm{(Hz)}\n",
       "\\\\[10pt]\n",
       "\\mathrm{fsw}_{max} &= \\operatorname{round} \\left( \\mathrm{fn}_{max} \\cdot f_{nom} ,\\  2 \\right)  = \\operatorname{round} \\left( 1.562 \\cdot 100000.000 ,\\  2 \\right) &= 156220.000 \\; \\;\\textrm{(Hz)}\n",
       "\\\\[10pt]\n",
       "\\mathrm{wmin} &= 2 \\cdot \\pi \\cdot \\mathrm{fsw}_{min}  = 2 \\cdot 3.142 \\cdot 60170.000 &= 378059.260 \\; \\;\\textrm{(rad/s)}\n",
       "\\\\[10pt]\n",
       "\\mathrm{wmax} &= 2 \\cdot \\pi \\cdot \\mathrm{fsw}_{max}  = 2 \\cdot 3.142 \\cdot 156220.000 &= 981559.209 \\; \\;\\textrm{(rad/s)}\n",
       "\\\\[10pt]\n",
       "\\mathrm{Im}_{rms} &= 2 \\cdot \\sqrt { 2 } \\cdot n \\cdot \\frac{ \\mathrm{Vo}_{nom} }{ \\pi \\cdot \\mathrm{Lm} \\cdot \\mathrm{wmin} }  = 2 \\cdot \\sqrt { 2 } \\cdot 4 \\cdot \\frac{ 48 }{ 3.142 \\cdot 0.000 \\cdot 378059.260 } &= 6.992 \\; \\;\\textrm{(Arms)}\n",
       "\\\\[10pt]\n",
       "\\mathrm{Io} &= 25.000 \\; \\;\\textrm{(Arms)}\n",
       "\\\\[10pt]\n",
       "\\mathrm{Ioe}_{rms} &= 1.1 \\cdot \\pi \\cdot \\frac{ \\mathrm{Io} }{ n \\cdot 2 \\cdot \\sqrt { 2 } }  = 1.1 \\cdot 3.142 \\cdot \\frac{ 25.000 }{ 4 \\cdot 2 \\cdot \\sqrt { 2 } } &= 7.636 \\; \\;\\textrm{(Arms @ 110%)}\n",
       "\\\\[10pt]\n",
       "\\mathrm{Ios}_{rms} &= \\mathrm{Ioe}_{rms} \\cdot n  = 7.636 \\cdot 4 &= 30.545 \\; \\;\\textrm{(Arms)}\n",
       "\\\\[10pt]\n",
       "\\mathrm{Ir}_{rms} &= \\sqrt { \\left( \\mathrm{Im}_{rms} \\right) ^{ 2 } + \\left( \\mathrm{Ioe} \\right) ^{ 2 } }  = \\sqrt { \\left( 6.992 \\right) ^{ 2 } + \\left( 7.636 \\right) ^{ 2 } } &= 10.354 \\; \\;\\textrm{(Arms)}\n",
       "\\\\[10pt]\n",
       "L_{second_{uH}} &= \\frac{ \\mathrm{Lm}_{uH} }{ \\left( n \\right) ^{ 2 } }  = \\frac{ 65.392 }{ \\left( 4 \\right) ^{ 2 } } &= 4.087 \\; \\;\\textrm{(uH)}\n",
       "\\end{aligned}\n",
       "$"
      ],
      "text/plain": [
       "<IPython.core.display.Latex object>"
      ]
     },
     "metadata": {},
     "output_type": "display_data"
    }
   ],
   "source": [
    "%%render\n",
    "\n",
    "fsw_min = round(fn_min*f_nom, 2) # Hz\n",
    "\n",
    "\n",
    "fsw_max = round(fn_max*f_nom, 2) # Hz\n",
    "\n",
    "\n",
    "\n",
    "\n",
    "wmin= 2*pi * fsw_min # rad/s\n",
    "wmax= 2*pi * fsw_max # rad/s\n",
    "#print2(fsw_min, Lm)\n",
    "\n",
    "# The RMS magnetizing current (Im_rms) at fsw_min\n",
    "Im_rms = 2*sqrt(2)*n*Vo_nom/(pi*Lm*wmin) # Arms\n",
    "\n",
    "# The prIm_rmsary-side RMS load current (Ioe) with a 110% overload i\n",
    "Io= Io_nom # Arms\n",
    "Ioe_rms= 1.1*pi*Io/(n*2*sqrt(2)) # Arms @ 110%\n",
    "Ios_rms= Ioe_rms*n # Arms\n",
    "\n",
    "\n",
    "# The resonant circuit’s current (Ir)\n",
    "Ir_rms = sqrt(Im_rms**2+Ioe**2) # Arms\n",
    "\n",
    "#I_second_rms= Im_rms*n # Arms\n",
    "L_second_uH  =Lm_uH/n**2 # uH"
   ]
  },
  {
   "cell_type": "code",
   "execution_count": null,
   "metadata": {},
   "outputs": [],
   "source": []
  },
  {
   "cell_type": "markdown",
   "metadata": {},
   "source": [
    "**Output data**"
   ]
  },
  {
   "cell_type": "code",
   "execution_count": 110,
   "metadata": {},
   "outputs": [
    {
     "data": {
      "text/plain": [
       "{'Lnc': 3.0,\n",
       " 'Qec': 0.55,\n",
       " 'Cr_nF': 116.209,\n",
       " 'Lr_uH': 21.797,\n",
       " 'Lm_uH': 65.392,\n",
       " 'fsw_min': 60170.0,\n",
       " 'fsw_max': 156220.0,\n",
       " 'Im_rms': 6.992,\n",
       " 'Io': 25.0,\n",
       " 'Ioe_rms': 7.636,\n",
       " 'Ios_rms': 30.545,\n",
       " 'Ir_rms': 10.354,\n",
       " 'I_second_rms': 27.969,\n",
       " 'L_second_uH': 4.087,\n",
       " 'Re_nom': 24.901,\n",
       " 'Re_110': 22.637,\n",
       " 'Cr': 1.16209e-07,\n",
       " 'Lr': 2.1796999999999998e-05,\n",
       " 'Lm': 6.539199999999999e-05}"
      ]
     },
     "metadata": {},
     "output_type": "display_data"
    }
   ],
   "source": [
    "## Save output data \n",
    "out_txt = \"\"\"Lnc,Qec,Cr_nF,Lr_uH,Lm_uH,fsw_min,fsw_max,Im_rms,Io,Ioe_rms,Ios_rms,Ir_rms,I_second_rms,L_second_uH,Re_nom,Re_110\"\"\"\n",
    "dic_out= {}\n",
    "for x in out_txt.split(\",\"): \n",
    "    dic_out[x]= round(float(eval(x)), 3)\n",
    "\n",
    "dic_out['Cr']= dic_out['Cr_nF']*1e-9\n",
    "dic_out['Lr']= dic_out['Lr_uH']*1e-6\n",
    "dic_out['Lm']= dic_out['Lm_uH']*1e-6\n",
    "\n",
    "\n",
    "# prepare file params for ltspice \n",
    "with open(\"02_simulation/02_Test_Lm_Lr_Cr/params.txt\",\"w\") as f: \n",
    "    params = []\n",
    "    for k,v in dic_out.items(): \n",
    "        params.append(f\".param {k}={v}\")\n",
    "    params = \"\\n\".join(params)\n",
    "    f.write(params)\n",
    "    \n",
    "\n",
    "# save json \n",
    "with open(\"04_outputs/out_results.json\",\"w\") as f: \n",
    "    json.dump(dic_out,f, indent = 4)\n",
    "display (dic_out)"
   ]
  },
  {
   "cell_type": "markdown",
   "metadata": {},
   "source": [
    "## References <a id=\"referencesID\"></a>  \n",
    "[1] Hong Huang, *Designing an LLC Resonant\n",
    "Half-Bridge Power Converter*. Available: [https://bbs.dianyuan.com/upload/community/2013/12/01/1385867010-65563.pdf](https://bbs.dianyuan.com/upload/community/2013/12/01/1385867010-65563.pdf)\n"
   ]
  }
 ],
 "metadata": {
  "colab": {
   "provenance": []
  },
  "kernelspec": {
   "display_name": "Python 3 (ipykernel)",
   "language": "python",
   "name": "python3"
  },
  "language_info": {
   "codemirror_mode": {
    "name": "ipython",
    "version": 3
   },
   "file_extension": ".py",
   "mimetype": "text/x-python",
   "name": "python",
   "nbconvert_exporter": "python",
   "pygments_lexer": "ipython3",
   "version": "3.13.2"
  }
 },
 "nbformat": 4,
 "nbformat_minor": 4
}
