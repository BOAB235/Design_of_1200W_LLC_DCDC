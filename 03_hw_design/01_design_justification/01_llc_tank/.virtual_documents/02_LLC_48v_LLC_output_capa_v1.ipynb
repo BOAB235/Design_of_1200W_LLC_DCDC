# imPORT LIBRARIES 
import numpy as np
import matplotlib.pyplot as plt
from scipy.interpolate import interp1d
from math import pi, sqrt
import handcalcs.render
import pandas as pd
import json 
# !pip install handcalcs


# CONFIGURATIONS
#help(handcalcs.set_option)
handcalcs.set_option("latex_block_start", "$")
handcalcs.set_option("latex_block_end", "$")
handcalcs.set_option("math_environment_end", "aligned")
handcalcs.set_option("use_scientific_notation",True)





with open("04_outputs/inp_datas.json", "r", encoding="utf-8") as f:
    inp_datas = json.load(f)
print("Input datas:")
print("="*20)
display(inp_datas)

with open("04_outputs/out_results.json", "r", encoding="utf-8") as f:
    out_datas = json.load(f)
print("Output datas:")
print("="*20)
display(out_datas)


# Load variables 
for key, value in inp_datas.items():
    globals()[key] = value
for key, value in out_datas.items():
    globals()[key] = value








get_ipython().run_cell_magic("render", "", """Io # A
f_nom # Hz
DV = 0.25 # vpp
Co_min_uF = 1e6*Io/(8*f_nom*DV ) # uF
ESR_max_m = 1e3*DV /(Io*pi/2) # mΩ 
I_Co= Io*sqrt(pi**2/8-1) # Arms""")


# https://www.mouser.fr/ProductDetail/EPCOS-TDK/B40910A8127M000?qs=HoCaDK9Nz5cacmF7ifyf%252BQ%3D%3D
# B40910A8127M000






get_ipython().run_cell_magic("render", " ", """#4 parallels capascitor
Nb_capa= 4
C_capa = 120 # uF
C_eq = C_capa*Nb_capa # uF > 125uF
ESR_capa= 17 # mOhm @ 100kHz

ESR_eq = ESR_c/Nb_capa # < 6.36m OK
Icapa_max = 4.6
Ieq_max = Icapa_max *Nb_capa  #  @ 125°C 100kHz > 12.086Arms""")





params = ['n',  'Lm_uH', 'fsw_min', 'fsw_max', 'Ir_rms', 'Im_rms', 'Ioe_rms', 'Ios_rms', 'L_second_uH']

dic_transfo= {x:out_datas[x] for x in params}
Al = out_datas["Lm_uH"]/out_datas["n"]**2
dic_transfo["Al_uH"]= Al
print("Transormer parameters:")
display(dic_transfo)








get_ipython().run_cell_magic("render", " ", """Al_nH= Al*1e3 # nH""")





get_ipython().run_cell_magic("render", "", """Lm_uH
Np= n # turns 
Ae = 225 # mm2 see datasheet ELP 43/10/28
Aemin = 217 # mm2 see datasheet ELP 43/10/28
Im_rms # Arms
B_peak = 1e3*Lm*sqrt(2)*Im_rms/(Np*Aemin*1e-6) # mT > Bs= 250mT NOK""")


get_ipython().run_cell_magic("tex", " ", """B_peak = Lm*sqrt(2)*Im_rms/(Np*Aemin) """)














# https://www.tdk-electronics.tdk.com/inf/80/db/fer/elp_22_6_16.pdf
# https://www.tdk-electronics.tdk.com/inf/80/db/fer/elp_32_6_20.pdf
# https://www.tdk-electronics.tdk.com/inf/80/db/fer/elp_38_8_25.pdf
# https://www.tdk-electronics.tdk.com/inf/80/db/fer/elp_43_10_28.pdf
# https://www.tdk-electronics.tdk.com/inf/80/db/fer/elp_58_11_38.pdf
# https://www.tdk-electronics.tdk.com/inf/80/db/fer/elp_64_10_50.pdf
# https://www.tdk-electronics.tdk.com/inf/80/db/fer/e_70_33_32.pdf
# https://www.tdk-electronics.tdk.com/inf/80/db/fer/e_80_38_40.pdf











dfcore = pd.DataFrame([
{"core":"ELP 43/10/28 with I 43/4/28 N87",
 
 "Al_nH":7300, 
"Aemin":217,
"Le":61.6 ,
"µe":1560 ,
"K1":390,
"K2":-0.784, 
"K3_25":621, 
"K4_25":-0.796,
"Bsat": 300},

{"core":"ELP 58/11/38 with I 58/4/38 N87",
 "Al_nH":7400, 
"Aemin":308,
"Le": 80.7 ,
"µe":1540 ,
"K1":591,
"K2":-0.685, 
"K3_25":791, 
"K4_25":-0.796,
"Bsat": 300},



{"core":"ELP 64/10/50 with I 64/5/50 N87",
"Al_nH": 14000, 
"Aemin":518,
"Le": 69.7,
"µe": 1450, 
"K1":835,
"K2":-0.790, 
"K3_25":1316, 
"K4_25":-0.796, 
"Bsat":300},

{"core":"ELP 64/10/50 with ELP 64/10/50 N95",
 "Al_nH":15500, 
"Aemin":518,
"Le": 79,
"µe": 1880, 
"Bsat":320},

{"core":"ELP 102/20/38 with I 102/7/38 N87",
"Aemin":524.5,
}

])

for i in range (len(dfcore)):
    dic  =dfcore.loc[i,:].to_dict()
    Aemin = dic['Aemin']
    K1 = dic["K1"]
    K2 = dic["K2"]
    K3_25 = dic["K3_25"]
    K4_25 = dic["K4_25"]
    Al_nH0 = dic["Al_nH"]
    Le = dic["Le"]
    µe = dic["µe"]
    s_mm= (Al_nH/K1)**(1/K2) # airgap
    e_mm= Le *(Al_nH0/Al_nH-1)/µe
    I_dc = (0.9*Al_nH/K3_25)**(1/K4_25)
    B_peak = 1e3*Lm*sqrt(2)*Im_rms/(Np*Aemin*1e-6)
    dfcore.loc[i,"s_mm"]=s_mm
    dfcore.loc[i,"e_mm"]=e_mm
    dfcore.loc[i,"s_div_e"]=s_mm/e_mm
  
    dfcore.loc[i,"B_peak"]=B_peak
    dfcore.loc[i,"Idc_25"]=I_dc
    dfcore.loc[i,"Bpeak_inf_Bsat"]=dic["Bsat"]>B_peak
dfcore





dic_trans_core= dfcore[dfcore.core=="ELP 64/10/50 with I 64/5/50 N87"].iloc[0,:].to_dict()
keys = ['core', 'Al_nH', 'Aemin', 'Le', 'µe', 'Bsat', 's_mm' , 'B_peak']
dic_trans_core = {k:dic_trans_core[k] for k in keys}
dic_trans_core 





params = ['Lr_uH', 'fsw_min', 'fsw_max', 'Ir_rms']

dic_Lr= {x:out_datas[x] for x in params}
print("Transormer parameters:")
display(dic_Lr)





dfcore = pd.DataFrame([
{"core":"ELP 22/6/16 with I 22/2.5/16 N87",
 "Al_nH":5200, 
"Aemin":77.9,
 "Bsat": 300,
 "K1": 134, 
 "K2": -0.806, 
 "s_lims":[0.1,1.5]
},

{"core":"ELP 32/6/20 with I 32/3/20 N87", 
  "Al_nH": 6300, 
"Aemin":128, 
  "Bsat": 300,
 "K1":234 , 
 "K2":-0.777,
  "s_lims":[0.1,1.5]
},

{"core":"ELP 43/10/28 with I 43/4/28 N87", 
  "Al_nH": 8500, 
"Aemin":217, 
  "Bsat": 300,
 "K1":390 ,
 "K2": -0.784,
"s_lims":[0.1,2]
},


{"core":"ELP 58/11/38 with I 58/4/38 N87", 
  "Al_nH": 8400, 
"Aemin":308, 
  "Bsat": 300,
 "K1": 591 ,
 "K2":-0.685,  
   "s_lims":[0.1,1.5]
}


    


])
dfcore


dic_Lr





Ir_rms = dic_Lr['Ir_rms']
Lr = dic_Lr['Lr_uH']*1e-6

arr=[]
for n in range(1,9):
    for i in range(len(dfcore)):
        Aemin = dfcore.loc[i,"Aemin"]
        K1 = dfcore.loc[i,"K1"]
        K2 = dfcore.loc[i,"K2"]
        Al_nH_core = dfcore.loc[i,"Al_nH"]
        core = dfcore.loc[i,"core"]
        s_lims= dfcore.loc[i,"s_lims"]
        Al_nH = 1000*dic_Lr["Lr_uH"]/n**2
        if Al_nH < Al_nH_core: 
            s_mm= (Al_nH/K1)**(1/K2)
            s_valide = s_mm>s_lims[0] and  s_mm<s_lims[1]
        else:
            s_mm= None 
            s_valide= None
        
        error = 100*(Al_nH_cal-Al_nH)/Al_nH
        
        B_peak = 1e3*Ir_rms*Lr*sqrt(2)/(n*Aemin*1e-6)
        if (s_mm is not None or abs(error)<10) and s_valide:
            arr.append({"core":core, "N":n, #"Al_nH_cal": Al_nH_cal, 
                        "Al_nH_target": Al_nH, 
                        #"Al_error":error, 
                        "B_peak":B_peak, "Bsat":dfcore.loc[i, "Bsat"], "s_mm":s_mm,
                       "s_lims":s_lims#, "s_valide":s_valide
                       })
dfLr=pd.DataFrame(arr).sort_values("B_peak")
dfLr





m1=dfLr.core == "ELP 58/11/38 with I 58/4/38 N87"
m2=dfLr.N == 4
dfLr[m1 & m2]





get_ipython().run_cell_magic("render", " ", """Cr_nF
V_In_max
fsw_min""")


get_ipython().run_cell_magic("render", " ", """X_Cr= 1/(2*pi*fsw_min*Cr_nF*1e-9) # Ohm 
V_Cr= Ir_rms*X_Cr # v
V_Cr_rms= sqrt((V_In_max/2)**2+V_Cr**2) # vrms""")


{
"Cr_nF": Cr_nF, 
"V_In_max": V_In_max, 
"fsw_min":fsw_min, 
"V_Cr_rms":V_Cr_rms,
"Ir_rms":Ir_rms, 
}


# https://www.mouser.es/ProductDetail/EPCOS-TDK/B32672L1333J?qs=vht8qxFUkGz11LfwwLq5EA%3D%3D
# https://product.tdk.com/system/files/dam/doc/product/capacitor/film/mkp_mfp/data_sheet/20/20/db/fc_2009/mkp_b32671l_672l.pdf


B32672L1333 = [6.2, 6.8, 8.2, 10.0, 12.0, 15.0, 22.0, 33.0, 47.0, 56.0, 68.0]
print(Cr_nF)
for c in B32672L1333: 
    print(c, Cr_nF/c, round(Cr_nF/c), round(Cr_nF/c)*c)





Ir_rms/8





# https://eu.mouser.com/ProductDetail/EPCOS-TDK/B32672L8153J?qs=CsdphVCLJRjPN7YH24ATpg%3D%3D
# https://product.tdk.com/system/files/dam/doc/product/capacitor/film/mkp_mfp/data_sheet/20/20/db/fc_2009/mkp_b32671l_672l.pdf


get_ipython().run_cell_magic("render", " ", """ESR_u= 60# µΩ : around 60 µΩ  for 15nF """)





















