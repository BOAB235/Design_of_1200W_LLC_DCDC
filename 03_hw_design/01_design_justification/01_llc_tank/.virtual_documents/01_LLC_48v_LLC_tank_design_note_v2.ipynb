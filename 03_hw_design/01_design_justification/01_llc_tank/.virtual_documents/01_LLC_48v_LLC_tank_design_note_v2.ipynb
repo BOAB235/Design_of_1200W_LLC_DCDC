# imPORT LIBRARIES 
import numpy as np
import matplotlib.pyplot as plt
from scipy.interpolate import interp1d
from math import pi, sqrt
import handcalcs.render
import pandas as pd
import json 
# !pip install handcalcs


# CONFIGURATIONS
#help(handcalcs.set_option)
handcalcs.set_option("latex_block_start", "$")
handcalcs.set_option("latex_block_end", "$")
handcalcs.set_option("math_environment_end", "aligned")
handcalcs.set_option("use_scientific_notation",True)














def calculate_Mg(Ln, fn, Qe):
    numerator = Ln * fn**2
    denominator_real = (Ln + 1) * fn**2 - 1
    denominator_imag = (fn**2 - 1) * fn * Qe * Ln
    denominator = np.sqrt(denominator_real**2+ denominator_imag**2)
    Mg = abs(numerator / denominator)
    return Mg



fig, axs = plt.subplots(1, 3, figsize=(12, 4.5)) 

fn = np.arange(0.1, 10 + 0.01, 0.01)
Qearr = np.array ([0,0.3,0.5,1,2,5,10])


for ax_idx, Ln in enumerate((1,3, 10)):
    ax = axs[ax_idx]
    
    #Qe = np.array([1, 2, 3, 5, 7, 9])
    #Qearr = np.array([0] + list(Qe * 0.1) + list(Qe))
    

    for Qe in Qearr:
        Mg = calculate_Mg(Ln, fn, Qe)
        ax.plot(fn, Mg, label=f"Qe={Qe:.1f}")

    Mg_max = []
    frMg_max = []
    mg0 = None

    for Qe in np.arange(0, 1, 0.01):
        Mg = calculate_Mg(Ln, fn, Qe)
        i = np.argmax(Mg)
        Mg_max.append(Mg[i])
        frMg_max.append(fn[i])
        if mg0 is None:
            mg0 = Mg

    frMg_max = np.array(frMg_max)
    m = frMg_max < 0.95
    frMg_max = frMg_max[m]
    Mg_max = np.array(Mg_max)
    Mg_max = Mg_max[m]

    frMg_max = np.array(frMg_max.tolist() + [1, 1, 10])
    Mg_max = np.array(Mg_max.tolist() + [1, 0, 0])
    ax.plot(frMg_max, Mg_max, c="g", linestyle="--")

    m = fn > frMg_max.min()
    fn2 = fn[m]
    mg0 = mg0[m]

    interp_y2 = interp1d(frMg_max, Mg_max, kind='linear', fill_value='extrapolate')
    Mg_max_interp = interp_y2(fn2)

    ax.fill_between(fn2, mg0, Mg_max_interp, color='lightgreen', alpha=0.5, label='inductance area ZVS')

    #ax.legend()
    #if ax_idx == 2:
    #    ax.legend(loc='lower center', bbox_to_anchor=(1.3, 0.1), ncol=1)
    if ax_idx ==1:
        pass
        # Use figure coordinates for bbox_to_anchor by adding bbox_transform=fig.transFigure
        #ax.legend(loc='lower center', bbox_to_anchor=(0.5, -0.2), ncol=8, bbox_transform=fig.transFigure)


    ax.set_xscale("log")
    ax.grid()
    ax.set_xlabel("normal freq : fn")
    ax.set_ylabel("Mg")
    ax.set_ylim([0, 2])
    ax.set_xlim([1e-1, 10])
    ax.set_title(f"Ln = {Ln}")

plt.tight_layout()
fig.suptitle("LLC Voltage Gain (Mg) Across Various Ln and Qe Values, Including the ZVS Zone", 
             x=0.5, y=1.02)



fig.legend(
    handles=axs[1].get_legend_handles_labels()[0],
    labels=axs[1].get_legend_handles_labels()[1],
    loc='lower center',
    bbox_to_anchor=(0.5, -0.1),  # adjust vertical position
    ncol=8,
    frameon=False
)
plt.savefig(r'.\03_figs\LLC_voltage_gain_Mg.jpg'
            , bbox_inches='tight')

plt.close()









get_ipython().run_cell_magic("render", "", """# Input voltage

V_In_min = 360 # v
V_In_nom = 380 # v
V_In_max = 400 # v


# Output Voltage
Vo_min = 42 # v
Vo_nom = 48 # v
Vo_max = 54 # v

# Power
Power = 1200 # w

# Central Frequencey
f_nom = 100e3 # Hz""")





dic_txt = "V_In_min,V_In_nom,V_In_max,Vo_min,Vo_nom,Vo_max,Power,f_nom"

dic_in= {}
for x in dic_txt.split(","): 
    dic_in[x]= round(float(eval(x)), 3)

with open("04_outputs/inp_datas.json","w") as f: 
    json.dump(dic_in,f, indent = 4)
display (dic_in)





get_ipython().run_cell_magic("render", "", """n = V_In_nom/(Vo_nom*2)""")





get_ipython().run_cell_magic("render", "", """n = round(n)""")


get_ipython().run_cell_magic("render", "", """Vf=0.2 # drop voltage in the mos
efficiency = 0.95 # hypothesis
loss = 1-efficiency
Io_nom = Power/Vo_nom # A
V_loss = ((Power*loss)/efficiency)/Io_nom # v""")





get_ipython().run_cell_magic("render", "", """margin = 0.01
Mg_min = n*(Vo_min*(1-margin)+Vf)/(V_In_max/2)

Mg_max = n*(Vo_max*(1+margin)+Vf+V_loss)/(V_In_min/2)


# 110% load
Mg_max110 = Mg_max*(110/100)
""")





def LLC_from_Qe_Ln(Lnc, Qec):

  f=np.arange(0.2,5,0.0001)
  mg = calculate_Mg(Lnc,f, Qec)
  Mg_c= mg.max()




  i = np.abs(mg-Mg_min).argmin()
  i = np.abs(mg-Mg_max110).argmin()
  mg_max_close= mg[i]

  fn_min= f[i]
  #print2(fn_min)


  #mg = calculate_Mg(Lnc,f, Qec)
  mg = calculate_Mg(Lnc,f, 0)
  i = np.abs(mg-Mg_min).argmin()
  fn_max = f[i]
  mg_min_close= mg[i]

  _='''
  mask1= f>fn_min
  mask2= f<fn_max
  mask = mask1 & mask2
  f2 = f[mask]
  mg2 = mg[mask]

  mask1 = mg2>Mg_min
  mask2 = mg2<Mg_max110
  mask = mask1 & mask2
  f2 = f2[mask]
  mg2 = mg2[mask]

  #print2(mg2)
  VmMax= mg2*2*np.sqrt(2)*V_In_max/(pi)
  #print2(V_In_max, VmMax, mg2)
  Ae = 211e-6
  fsw = f2*f_nom
  Bpeak = VmMax/(4.44*fsw*n*Ae)
  # print2(fsw,  n, Ae)
  try:
    Bpeak_max = Bpeak.max()
  except:
    Bpeak_max = np.nan
  #print(Bpeak_max)
  '''






  # 100 load

  Re_nom = 8*n**2*Vo_nom / (pi**2*Io_nom)
  Re_nom = np.round(Re_nom, 3)
  # print2(Re_nom)

  # 110% load

  Re_110 = 8*n**2*Vo_nom / (pi**2*Io_nom*1.1)
  #Re_110 = np.round(Re_110, 1)
  # print2(Re_110)
  P_re_110 = (V_In_nom/2)**2/Re_nom
  #P_re_110 = np.round(P_re_110, 0)
  # print2(P_re_110)



  Cr_nF= 1e9/ (2*pi * Qec* f_nom*Re_nom)




  Cr = Cr_nF
  Cr = np.round(Cr, 3)


  Lr = 1/ ((2*pi * f_nom)**2*Cr*1e-9)
  Lr_uH = Lr *1e6 # uH
  Lr_uH = np.round(Lr_uH, 3)
  #Lr = 60 # choise

  Lm = Lr*Lnc
  #Lm = np.round(Lm, 1)
  Lm_uH = Lm *1e6 # uH
  Lm_uH = np.round(Lm_uH, 3)








  fsw_min = fn_min*f_nom
  fsw_min = np.round(fsw_min, 2)

  fsw_max = fn_max*f_nom
  fsw_max = np.round(fsw_max, 2)




  wmin= 2*pi * fsw_min
  wmax= 2*pi * fsw_max
  #print2(fsw_min, Lm)

  # The RMS magnetizing current (im) at fsw_min
  im = 2*np.sqrt(2)*n*Vo_nom/(pi*Lm*wmin)

  # The primary-side RMS load current (Ioe) with a 110% overload i
  Io= Io_nom
  Ioe= 1.1*pi*Io/(n*2*np.sqrt(2))


  # The resonant circuit’s current (Ir)
  Ir = np.sqrt(im**2+Ioe**2)


  Ae = 211e-6
  le = 114e-3
  ue=188
  u0= 4*pi*1e-7

  Bpeak_max = 1000*(im*u0*ue*n/le)
  Hmax = im*n/le
  return Lm_uH,Lr_uH ,Cr_nF, fn_min, fn_max, fsw_min, fsw_max, Ioe ,  im, Ir, Bpeak_max, Hmax
Lnc, Qec = 3, 0.5
Lm_uH,Lr_uH ,Cr_nF, fn_min, fn_max, fsw_min, fsw_max, Ioe ,  Im_rms, Ir, Bpeak_max, Hmax = LLC_from_Qe_Ln(Lnc, Qec)
#print2(Lm_uH,Lr_uH ,Cr_nF, fn_min, fn_max, fsw_min, fsw_max, Ioe ,  Im_rms, Ir, Bpeak_max, Hmax)


Lnarr = list(np.arange(1,10,0.01))
Qearr = np.arange(0.1,1,0.01)





# CHOSE QE110 automatically
#Lnc, Qec = 2,0.5
freqn =  np.arange(0.15,1.7,0.01)

data =[]
Ln, Qe = Lnc, Qec
for Ln in Lnarr:
  for Qe in Qearr:
    Mg = calculate_Mg(Ln,freqn, Qe)
    Mg_ape = Mg.max()
    data.append( [Ln, Qe, Mg_ape])

data= np.array(data).T
#print(data.shape)

arr = data[2]
i = np.argmin(np.abs(arr-Mg_max110))
Lnc, Qec, Mg_ape = data.T[i]
#Lnc, Qec, Mg_ape, Mg_max110












get_ipython().run_cell_magic("render", "", """Mg_max110""")


arr2=[]
arr = data[2]
for i in np.argsort(np.abs(arr-Mg_max110)):
  Lnc, Qec, Mg_ape = data.T[i]
  Lm_uH,Lr_uH ,Cr_nF, fn_min, fn_max, fsw_min, fsw_max, Ioe ,  Im_rms, Ir, Bpeak_max , Hmax = LLC_from_Qe_Ln(Lnc, Qec)

  dic = {
    "Lnc": Lnc,
    "Qec": Qec,
    "Lm_uH": Lm_uH,
    "Lr_uH": Lr_uH,
    "Cr_nF": Cr_nF,
    "fn_min" : fn_min,
    "fn_max": fn_max,
    "fsw_min": fsw_min,
    "fsw_max": fsw_max,
    "Ioe": Ioe,
    "Im_rms": Im_rms,
    "Ir": Ir,
    "Mg_ape": Mg_ape,
    "Bpeak_max_mT":Bpeak_max,
    "Hmax": Hmax}
  if Mg_ape > Mg_max110 and fn_min < fn_max and Lnc>=2 and Lnc < 10 :
    arr2.append(dic)
    if len(arr2) >=6:
      break
dfllcv = pd.DataFrame(arr2)
dfllcv = dfllcv.sort_values("Lnc")  .reset_index(drop = True )
dfllcv
# in https://www.tdk-electronics.tdk.com/download/540066/dbcde584d155cc270f5d5dbf1efec233/pdf-generaldefinitions.pdf
# page 3
_="""
1.2.2 Saturation magnetization BS
The saturation magnetization BS is defined as the maximum flux density attainable in a material (i.e.
for a very high field strength) at a given temperature; above this value BS, it is not possible to further
increase B(H) by further increasing H.
Technically, BS is defined as the flux density at a field strength of H = 1200 A/m. As is confirmed in
the actual magnetization curves in the chapter on “Materials”, the B(H) characteristic above
1200 A/m remains roughly constant (applies to all ferrites with high initial permeability, i.e. where
 1000)."""
_=""" In practice, to be safe, design for a bit less, like keeping
𝐻
H around 800–1000 A/m maximum, to
"""
dfprint = dfllcv.copy()

dfllcv[['Lnc', 'Qec', 'Lm_uH', 'Lr_uH', 'Cr_nF', 'fn_min', 'fn_max', 'fsw_min',
       'fsw_max', "Mg_ape"]]


colors = {i/10:f"C{i}" for i in range(10)}
colors["chose"]='C9'



fig, axs = plt.subplots(2,3, figsize=(13, 7))

axs= axs.flatten()
fig.subplots_adjust(wspace=0.3, hspace=0.4)
fnminplot, fnmaxplot =10,0
nmax = 0
for idx in range(len(dfllcv)):
  ax = axs[idx]
  dic = dfllcv.iloc[idx].to_dict()
  Lnc, Qec, Lm_uH, Lr_uH, Cr_nF,fn_min, fn_max,fsw_min, fsw_max, Ioe, Im_rms, Ir, Mg_ape, Bpeak_max , Hmax  = dic.values()




  fn_min,fn_max = fsw_min/f_nom, fsw_max/f_nom
  if fn_min < fnminplot:
    fnminplot = fn_min
  if fn_max > fnmaxplot:
    fnmaxplot = fn_max

  freqn = np.arange(fn_min*0.7,fn_max*1.2,0.01)



  #Mg = calculate_Mg(Lnc,freqn, Qec)
  #print(Qec)
  #print(np.round(Qec, 1))
  Qecarr = np.arange(0,np.round(Qec, 1), 0.1)
  Qecarr = np.append(Qecarr, Qec)
  #print2(Qecarr)
  for Qe in Qecarr:
    lab = f"Qe={Qe:.2f}"
    c = round(Qe,3)
    if Qe == Qec:
        c = "chose"
        lab = f"Qe=chosed"
    nmax = max (nmax, len(Qecarr))
        

    Mg = calculate_Mg(Lnc,freqn, Qe)
    ax.plot(freqn, Mg, label = lab, c= colors [c])

  Qe = Qec
  Mg = calculate_Mg(Lnc,freqn, Qe)
  i= np.argmin (np.abs(Mg -Mg_min))
  fa1 = freqn[i]
  Qe = 0
  Mg = calculate_Mg(Lnc,freqn, Qe)
  i= np.argmin (np.abs(Mg -Mg_max110))
  fa2 = freqn[i]





  #print2(Qecarr)

  #ax.plot(freqn, Mg)
  #Mg_max = Mg.max()
  #print2(Mg_max)
  ax.plot([fn_min*0.8,fn_max*1.2 ], [Mg_max110, Mg_max110],
           label = "Mg_max_110%", linestyle ="--", c="k")
  ax.plot([fn_min*0.8,fn_max*1.2], [Mg_max,Mg_max ],
          label = "Mg_max", linestyle ="--", c="r")
  ax.plot([fn_min*0.8,fn_max*1.2 ], [Mg_min, Mg_min],
          label = "Mg_min", linestyle ="--", c="b")
  ax.plot([fn_min,fn_min ], [Mg_min*0.8, Mg_max110*1.2],
          label = "fn_min", linestyle ="--", c="g")
  ax.plot([fn_max,fn_max ], [Mg_min*0.8, Mg_max110*1.2],
          label = "fn_max", linestyle ="--", c="y")


  ax.plot([fa1,fa1 ], [Mg_min*0.8, Mg_max110*1.2],
          linestyle =":",label="fa1")
  ax.plot([fa2,fa2  ], [Mg_min*0.8, Mg_max110*1.2],
          linestyle =':',label="fa2")





  #ax.legend()
  ax.legend(loc='center', bbox_to_anchor=(1, 0.6), ncol=1)
  # ax.legend(loc='center', bbox_to_anchor=(0.5, -0.3), ncol=3)
  #plt.xscale("log")
  #plt.yscale("log")
  ax.set_title(f" Ln={Lnc:0.2f} Qec={Qec:0.2f}")
  ax.grid()#wich= "both")
  ax.set_xlabel("freq_norm")
  ax.set_ylabel("Mg")
  ax.set_ylim([ Mg_min-0.1/2, Mg_max110+0.1/2])
#for ax in axs:
  ax.set_xlim([fnminplot-0.1, fnmaxplot+0.1])

nmax = 0
target_ax = None

# Find the axis with the most lines
for ax in axs:
    if len(ax.lines) > nmax:
        nmax = len(ax.lines)
        target_ax = ax

# Remove all legends
i=0
for ax in axs:
    if i<3:
        #ax.set_xlabel("")
        pass
    if ax.legend_:
        ax.legend_.remove()
    i=i+1

# Add a single legend with 4 columns at bottom of figure
if target_ax:
    handles, labels = target_ax.get_legend_handles_labels()
    fig.legend(
        handles,
        labels,
        loc='lower center',
        bbox_to_anchor=(0.5, -0.05),  # X=50%, Y=below figure
        ncol=7,
        frameon=False
    )








plt.suptitle("Grid search for Ln and Qe to find the best pair of values.")
plt.savefig("./03_figs/chose_Ln_Qe.jpg", bbox_inches='tight')

plt.close()  # without showing 





get_ipython().run_cell_magic("render", "", """Lnc=3 
Qec = 0.55 """)














f=np.arange(0.2,5,0.0001)
mg = calculate_Mg(Lnc,f, Qec)
Mg_c= mg.max()




i = np.abs(mg-Mg_min).argmin()
i = np.abs(mg-Mg_max110).argmin()
mg_max_close= mg[i]

fn_min= f[i]
#print2(fn_min)


#mg = calculate_Mg(Lnc,f, Qec)
mg = calculate_Mg(Lnc,f, 0)
i = np.abs(mg-Mg_min).argmin()
fn_max = f[i]
mg_min_close= mg[i]





get_ipython().run_cell_magic("render", "", """# 100 load

Re_nom = 8*n**2*Vo_nom / (pi**2*Io_nom)
Re_nom = round(Re_nom,3 )
# print2(Re_nom)

# 110% load

Re_110 = 8*n**2*Vo_nom / (pi**2*Io_nom*1.1)
#Re_110 = np.round(Re_110, 1)
# print2(Re_110)
P_re_110 = (V_In_nom/2)**2/Re_nom
#P_re_110 = np.round(P_re_110, 0)
# print2(P_re_110)""")





get_ipython().run_cell_magic("render", "", """Cr_nF= 1e9/ (2*pi * Qec* f_nom*Re_nom) # nF




Cr = Cr_nF
Cr = round(Cr, 3)


Lr = 1/ ((2*pi * f_nom)**2*Cr*1e-9)
Lr_uH = Lr *1e6 # uH
Lr_uH = round(Lr_uH, 3)
#Lr = 60 # choise

Lm = Lr*Lnc
#Lm = np.round(Lm, 1)
Lm_uH = Lm *1e6 # uH
#Lm_uH = round(Lm_uH, 1)""")





get_ipython().run_cell_magic("render", "", """Qcal = sqrt(Lr/(Cr*1e-9))/(Re_110*1.1)
Qec""")





get_ipython().run_cell_magic("render", "", """
fsw_min = round(fn_min*f_nom, 2) # Hz


fsw_max = round(fn_max*f_nom, 2) # Hz




wmin= 2*pi * fsw_min # rad/s
wmax= 2*pi * fsw_max # rad/s
#print2(fsw_min, Lm)

# The RMS magnetizing current (Im_rms) at fsw_min
Im_rms = 2*sqrt(2)*n*Vo_nom/(pi*Lm*wmin) # Arms

# The prIm_rmsary-side RMS load current (Ioe) with a 110% overload i
Io= Io_nom # Arms
Ioe_rms= 1.1*pi*Io/(n*2*sqrt(2)) # Arms @ 110%
Ios_rms= Ioe_rms*n # Arms


# The resonant circuit’s current (Ir)
Ir_rms = sqrt(Im_rms**2+Ioe**2) # Arms

#I_second_rms= Im_rms*n # Arms
L_second_uH  =Lm_uH/n**2 # uH""")





## Save output data 
out_txt = """Lnc,Qec,Cr_nF,n,Lr_uH,Lm_uH,fsw_min,fsw_max,Im_rms,Io,Ioe_rms,Ios_rms,Ir_rms,L_second_uH,Re_nom,Re_110"""
dic_out= {}
for x in out_txt.split(","): 
    dic_out[x]= round(float(eval(x)), 3)

dic_out['Cr']= dic_out['Cr_nF']*1e-9
dic_out['Lr']= dic_out['Lr_uH']*1e-6
dic_out['Lm']= dic_out['Lm_uH']*1e-6


# prepare file params for ltspice 
with open("02_simulation/02_Test_Lm_Lr_Cr/params.txt","w") as f: 
    params = []
    for k,v in dic_out.items(): 
        params.append(f".param {k}={v}")
    params = "\n".join(params)
    f.write(params)
    

# save json 
with open("04_outputs/out_results.json","w") as f: 
    json.dump(dic_out,f, indent = 4)
display (dic_out)






