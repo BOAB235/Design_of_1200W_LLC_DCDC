{
 "cells": [
  {
   "cell_type": "markdown",
   "id": "dfc79db6-9e9b-4222-acc6-1b5549a02463",
   "metadata": {},
   "source": [
    "## Theoretical Background of the PI Controller"
   ]
  },
  {
   "cell_type": "markdown",
   "id": "0d54f62c-dd54-435b-8551-3998464c78ab",
   "metadata": {},
   "source": [
    " **Transfer functions**\n",
    " <br>First order system\n",
    " $ G(s) = \\frac {1}{1+T_o . s}$ \n",
    " <br>\n",
    " The PI controler \n",
    "$ PI(s) = K_p + \\frac{K_i}{s} = Kp \\frac {1+T_i.s}{T_i.s} $\n",
    "<br> where $ T_i = \\frac{K_p}{K_i}$  \n",
    "Open loop <br>\n",
    "$ H(s)= G(s).PI(s)= \\frac {1}{1+T_o . s}  Kp \\frac {1+T_i.s}{T_i.s} = \\frac {Kp }{T_i.s}\\frac {1+T_i.s}{1+T_o . s} : (I)$ \n",
    " <br><br>\n",
    "**Methode 1: Cancellation and Dominant Pole Approximation**\n",
    "<br> \n",
    "we chose: \n",
    "<br>\n",
    "$T_i =T_o \n",
    " \\Rightarrow\n",
    " H(s)= \\frac {K_p}{T_i.s}$\n",
    " <br>\n",
    "Closed loop \n",
    " <br>\n",
    "$H_c(s)= \\frac{H(s) }{ 1+H(s)}= \\frac{1 }{ 1+\\frac {1}{H(s)}} : (II)$ \n",
    " <br>\n",
    "$H_c(s)= \\frac{1 }{ 1+\\frac {T_i}{K_p}.s}= \\frac{1 }{ 1+T_{oc}.s}$\n",
    " <br>\n",
    "Where $ T_{oc} = \\frac {T_i}{K_p}$\n",
    " <br><br>\n",
    "Objective: To make the closed-loop system 𝑛 times faster than the initial system.\n",
    "<br>\n",
    "so : $ T_{oc} =\\frac {T_o}{n} = \\frac{T_i}{n}$ and \n",
    "$ T_{oc} = \\frac {T_i}{K_p}$<br>\n",
    "$ \\Rightarrow \\boxed{K_p = n} $<br>\n",
    "And $ T_i =T_o =  \\frac{K_p}{K_i}$  <br>\n",
    "$  \\Rightarrow K_i= \\frac{K_p}{T_o}$<br>\n",
    "$  \\Rightarrow \\boxed{K_i=\\frac {n}{T_o}} $\n",
    "\n",
    "\n",
    "**Methode 2: Dominant Pole Approximation**\n",
    " <br>\n",
    " From equation $ (II) $ <br>\n",
    "$ Hc(s) = \\frac{1}{1+ \\frac {T_i.s}{K_p} \\frac {1+T_o . s}{1+T_i.s} }  = \\frac{1+T_i.s}{1+(T_i+\\frac{T_i}{K_p}).s+\\frac{T_i.T_o}{K_p}.s^2}$\n",
    " <br>\n",
    "$Hc(s) ≈\\frac{1}{1+2\\zeta\\frac{s}{w_n}+\\frac{s^2}{w_n^2}} $\n",
    " <br>\n",
    "if $ Ti.wn <<1 $\n",
    "$ w_n^2 = \\frac{K_p}{T_i.T_o} $ $(III)$\n",
    " <br>\n",
    " Where <br>\n",
    "$ 2\\zeta\\frac{1}{w_n} = (T_i+\\frac{T_i}{K_p}) $ \n",
    " <br>\n",
    "$ K_p = 2.\\zeta.w_n.T_o-1$\n",
    " <br>\n",
    " And <br>\n",
    "$ T_i= \\frac{K_p}{w_n^2.T_o} $ \n",
    "<br>\n",
    "The condition $(III)$ \n",
    "<br>\n",
    "$ T_i.w_n ≪ 1  \\Rightarrow  T_i.w_n = \\frac{K_p}{w_n.T_o}=2*\\zeta -\\frac{1}{w_n.T_o} ≪ 1 $\n",
    "<br>\n",
    "for $ \\zeta=1 \\Rightarrow  w_n ≪ T_o $\n",
    "<br><br> this methode work only if the closed loop is slow than the initial system"
   ]
  },
  {
   "cell_type": "code",
   "execution_count": null,
   "id": "bb40bf56-4dd6-41b4-8361-29cb87aeb287",
   "metadata": {},
   "outputs": [],
   "source": []
  },
  {
   "cell_type": "markdown",
   "id": "ba546dd5-e212-4041-a9e2-0987785810cc",
   "metadata": {},
   "source": [
    "## Simulation of PI controller and RC first order system"
   ]
  },
  {
   "cell_type": "markdown",
   "id": "3c8eb093-f249-4c06-9f4f-290d04936dae",
   "metadata": {},
   "source": [
    "### RC first order system"
   ]
  },
  {
   "cell_type": "code",
   "execution_count": 3,
   "id": "4699ae52-dd2f-471f-89d0-6ce4144cfab8",
   "metadata": {},
   "outputs": [],
   "source": [
    "import numpy as np\n",
    "import matplotlib.pyplot as plt"
   ]
  },
  {
   "cell_type": "code",
   "execution_count": 18,
   "id": "77395e8a-ddb2-4a5a-a6b7-f8ffe016d689",
   "metadata": {},
   "outputs": [],
   "source": [
    "class FirstOrder:\n",
    "    def __init__(self, To, Ts, A=1.0, y0=0.0):\n",
    "        self.a = Ts / To\n",
    "        self.A = A\n",
    "        self.y = y0\n",
    "\n",
    "    def step(self, u):\n",
    "        self.y += self.a * (self.A * u - self.y)\n",
    "        return self.y\n",
    "\n",
    "\n",
    "class PI_cont:\n",
    "    def __init__(self, Kp, Ki, Ts, y0=0.0):\n",
    "        # Ti = Kp/Ki\n",
    "        self.Kp = Kp\n",
    "        self.Ki = Ki\n",
    "        self.Ts = Ts\n",
    "        self.integral = 0.0\n",
    "        self.y = y0\n",
    "\n",
    "    def step(self, error):\n",
    "        self.integral += error * self.Ts\n",
    "        self.y = self.Kp * error + self.Ki * self.integral\n",
    "        return self.y\n",
    "class limiter: \n",
    "    def _init(self, lower, upper): \n",
    "        self.L = lower\n",
    "        self.U = upper\n",
    "    def step(self, u):\n",
    "        if u < self.L: \n",
    "            return self.L\n",
    "        if u > self.U: \n",
    "            return self.U\n",
    "        return u\n",
    "        \n",
    "class sim_first_1_controller_PI: \n",
    "    def __init__(self, Ts_sim, Ts_ctrl, Kp, Ki):\n",
    "        self.Ts_sim = Ts_sim\n",
    "        self.Ts_ctrl = Ts_ctrl\n",
    "        self.Kp = Kp \n",
    "        self.Ki = Ki\n",
    "    def sim(self, u):\n",
    "        N = len(u)\n",
    "        Ts = self.Ts_sim\n",
    "        Ts_ctrl = self.Ts_ctrl\n",
    "        Ts_n = int(Ts_ctrl/Ts)\n",
    "\n",
    "\n",
    "        G1 = FirstOrder(To, Ts)\n",
    "        G2 = FirstOrder(To, Ts)\n",
    "        C  = PI_cont(Kp=Kp, Ki=Ki, Ts=Ts_ctrl)\n",
    "        \n",
    "        y1, y2 = [], []\n",
    "        control2 = 0.0\n",
    "        \n",
    "        for i in range(N):\n",
    "            # open-loop\n",
    "            y1.append(G1.step(u[i]))\n",
    "        \n",
    "            # closed-loop with controller update every 10 steps (ZOH in between)\n",
    "            e = u[i] - G2.y\n",
    "            if i % Ts_n  == 0:\n",
    "                control2 = C.step(e)\n",
    "            y2.append(G2.step(control2))\n",
    "        return np.array(y1), np.array(y2)"
   ]
  },
  {
   "cell_type": "code",
   "execution_count": 19,
   "id": "3f0fe193-8bff-42d8-b330-4b0c70df5a5f",
   "metadata": {},
   "outputs": [],
   "source": [
    "# RC sys\n",
    "R=4660#meas\n",
    "C=4.772e-6# nom 4.7uF\n",
    "To=R*C\n",
    "\n",
    "# System & controller\n",
    "Kp = 3\n",
    "Ti = To\n",
    "Ki = Kp/Ti         \n",
    "\n",
    " \n",
    "# simulation params\n",
    "Ts_sim = 1e-6\n",
    "Ts_ctrl = 100*Ts_sim\n",
    "\n",
    "Sim_Model= sim_first_1_controller_PI(Ts_sim = Ts_sim , Ts_ctrl=Ts_ctrl, Kp=Kp, Ki=Ki)"
   ]
  },
  {
   "cell_type": "code",
   "execution_count": 20,
   "id": "7ce65def-d525-477a-bd44-0ddfbe29540b",
   "metadata": {},
   "outputs": [],
   "source": [
    "Tsimulation  = 0.5"
   ]
  },
  {
   "cell_type": "code",
   "execution_count": 21,
   "id": "c4d99bec-3d72-428f-b03b-8070ce011a15",
   "metadata": {},
   "outputs": [
    {
     "data": {
      "text/plain": [
       "0.02223752"
      ]
     },
     "execution_count": 21,
     "metadata": {},
     "output_type": "execute_result"
    }
   ],
   "source": [
    "R=4660#meas\n",
    "C=4.772e-6# nom 4.7uF\n",
    "To=R*C\n",
    "To"
   ]
  },
  {
   "cell_type": "code",
   "execution_count": 22,
   "id": "bac69ead-08ba-44f5-a906-2a3a4e705e9a",
   "metadata": {},
   "outputs": [],
   "source": [
    "## Input \n",
    "N = int(Tsimulation/Ts_sim)\n",
    "time = np.arange(0, Ts_sim  * N, Ts_sim )\n",
    "u = np.ones(N)\n",
    "u[0:N//10]=0\n",
    "u[8*N//10:]=0.7"
   ]
  },
  {
   "cell_type": "code",
   "execution_count": 23,
   "id": "fa7dedea-c7e2-4764-bf46-b813e5262b37",
   "metadata": {},
   "outputs": [
    {
     "name": "stdout",
     "output_type": "stream",
     "text": [
      "CPU times: total: 875 ms\n",
      "Wall time: 1.26 s\n"
     ]
    }
   ],
   "source": [
    "%%time \n",
    "y1, y2 = Sim_Model.sim(u)"
   ]
  },
  {
   "cell_type": "code",
   "execution_count": 24,
   "id": "5d1177ae-caf0-47fd-a0d4-a40c73c9d5e1",
   "metadata": {},
   "outputs": [
    {
     "data": {
      "image/png": "[encoded data removed]",
      "text/plain": [
       "<Figure size 700x400 with 1 Axes>"
      ]
     },
     "metadata": {},
     "output_type": "display_data"
    }
   ],
   "source": [
    "# Plot\n",
    "plt.figure(figsize=(7,4))\n",
    "plt.plot(time, y1, label='System 1 (open-loop)')\n",
    "plt.plot(time, y2, label='System 2 (PI, update each 10·Ts)')\n",
    "plt.plot(time, u, '--', label='Setpoint')\n",
    "plt.xlabel('Time (s)'); plt.ylabel('Amplitude')\n",
    "plt.title('First-order response with PI')\n",
    "plt.legend(); plt.tight_layout()\n",
    "plt.grid()\n",
    "plt.show()\n",
    "\n"
   ]
  },
  {
   "cell_type": "markdown",
   "id": "a5f16d16-38c4-46e2-8cd3-76dd354c6461",
   "metadata": {},
   "source": [
    "### Add a load RL to RC circuit "
   ]
  },
  {
   "cell_type": "raw",
   "id": "f765b008-a92b-4dba-a317-61a83f840534",
   "metadata": {},
   "source": [
    "without load \n",
    "$ H(s)= \\frac"
   ]
  },
  {
   "cell_type": "code",
   "execution_count": null,
   "id": "70d81eac-70a3-4a9b-8254-764b8d2aecc9",
   "metadata": {},
   "outputs": [],
   "source": []
  },
  {
   "cell_type": "code",
   "execution_count": 25,
   "id": "195b4571-3f63-49aa-94bd-f1fe760112e9",
   "metadata": {},
   "outputs": [],
   "source": [
    "# RC sys\n",
    "R=4660#meas\n",
    "C=4.772e-6# nom 4.7uF\n",
    "To=R*C\n",
    "\n",
    "# System & controller\n",
    "Kp = 3\n",
    "Ti = To\n",
    "Ki = Kp/Ti         \n",
    "\n",
    " \n",
    "# simulation params\n",
    "Ts_sim = 10e-6\n",
    "Ts_ctrl = 100e-6 # 100us \n",
    "\n",
    "Sim_Model= sim_first_1_controller_PI(Ts_sim = Ts_sim , Ts_ctrl=Ts_ctrl, Kp=Kp, Ki=Ki)"
   ]
  },
  {
   "cell_type": "code",
   "execution_count": 26,
   "id": "79614cf0-5ab6-4eec-acc0-77582a204b06",
   "metadata": {},
   "outputs": [],
   "source": [
    "Tsimulation  = 0.5"
   ]
  },
  {
   "cell_type": "code",
   "execution_count": 27,
   "id": "ba90ef59-6d91-4d93-97a2-76f184e906b5",
   "metadata": {},
   "outputs": [
    {
     "data": {
      "text/plain": [
       "0.0"
      ]
     },
     "execution_count": 27,
     "metadata": {},
     "output_type": "execute_result"
    }
   ],
   "source": [
    "1/np.inf"
   ]
  },
  {
   "cell_type": "code",
   "execution_count": 28,
   "id": "31c22fbc-e750-4525-86c4-56691284655b",
   "metadata": {},
   "outputs": [
    {
     "data": {
      "text/plain": [
       "49999"
      ]
     },
     "execution_count": 28,
     "metadata": {},
     "output_type": "execute_result"
    }
   ],
   "source": [
    "## Input \n",
    "N = int(Tsimulation/Ts_sim)\n",
    "time = np.arange(0, Ts_sim  * N, Ts_sim )\n",
    "u = np.ones(N)\n",
    "#u[0:N//10]=0\n",
    "#u[8*N//10:]=0.7\n",
    "N"
   ]
  },
  {
   "cell_type": "code",
   "execution_count": 29,
   "id": "c9d3796e-ead1-45e8-8dfd-2fdb60c2a6cc",
   "metadata": {},
   "outputs": [
    {
     "data": {
      "text/plain": [
       "0.6821282401091405"
      ]
     },
     "execution_count": 29,
     "metadata": {},
     "output_type": "execute_result"
    }
   ],
   "source": [
    "# LOAD RESISTOR \n",
    "# H(s) = A/(1+A*To*s)\n",
    "RL= 10e3\n",
    "A= 1/(1+R/RL)\n",
    "A"
   ]
  },
  {
   "cell_type": "code",
   "execution_count": 30,
   "id": "a54b49dc-a183-4872-9575-c37b28eed0ab",
   "metadata": {},
   "outputs": [],
   "source": [
    "N = len(u)\n",
    "Ts = Ts_sim\n",
    "Ts_ctrl = Ts_ctrl\n",
    "Ts_n = int(Ts_ctrl/Ts)\n",
    "\n",
    "\n",
    "G1 = FirstOrder(To, Ts)\n",
    "G2 = FirstOrder(To, Ts)\n",
    "C  = PI_cont(Kp=Kp, Ki=Ki, Ts=Ts_ctrl)\n",
    "\n",
    "y1, y2 = [], []\n",
    "control2 = 0.0\n",
    "ycont = []\n",
    "for i in range(N):\n",
    "    if i ==N//3: \n",
    "        G1.a = Ts / (To*A)\n",
    "        G1.A= A\n",
    "\n",
    "        G2.a = Ts / (To*A)\n",
    "        G2.A= A\n",
    "    if i ==2*N//3: \n",
    "        G1.a = Ts / (To)\n",
    "        G1.A= 1\n",
    "\n",
    "        G2.a = Ts / (To)\n",
    "        G2.A= 1\n",
    "    # open-loop\n",
    "    y1.append(G1.step(u[i]))\n",
    "\n",
    "    # closed-loop with controller update every 10 steps (ZOH in between)\n",
    "    e = u[i] - G2.y\n",
    "    if i % Ts_n  == 0:\n",
    "        control2 = C.step(e)\n",
    "    ycont.append(control2)\n",
    "    y2.append(G2.step(control2))\n",
    "y1, y2 = np.array(y1), np.array(y2)"
   ]
  },
  {
   "cell_type": "code",
   "execution_count": null,
   "id": "9a7eb0ac-55ac-4984-b547-982d47dd45a4",
   "metadata": {},
   "outputs": [],
   "source": []
  },
  {
   "cell_type": "code",
   "execution_count": 33,
   "id": "2efb7ab4-1ed4-413c-9b8f-995755c2e122",
   "metadata": {},
   "outputs": [
    {
     "data": {
      "image/png": "[encoded data removed]",
      "text/plain": [
       "<Figure size 700x400 with 1 Axes>"
      ]
     },
     "metadata": {},
     "output_type": "display_data"
    }
   ],
   "source": [
    "# Plot\n",
    "plt.figure(figsize=(7,4))\n",
    "plt.plot(time, y1, label='System 1 (open-loop)')\n",
    "plt.plot(time, y2, label='System 2 (PI, update each 10·Ts)')\n",
    "#plt.plot(time, ycont, label='PI controller output')\n",
    "plt.plot(time, u, '--', label='Setpoint')\n",
    "plt.xlabel('Time (s)'); plt.ylabel('Amplitude')\n",
    "plt.title('First-order response with PI')\n",
    "plt.legend(); plt.tight_layout()\n",
    "plt.grid()\n",
    "plt.show()\n",
    "\n"
   ]
  },
  {
   "cell_type": "code",
   "execution_count": null,
   "id": "77650308-18ee-4d1e-88a3-3641a3ab5c20",
   "metadata": {},
   "outputs": [],
   "source": []
  },
  {
   "cell_type": "markdown",
   "id": "41539eff-2445-4917-8ef1-ac041bf93113",
   "metadata": {},
   "source": [
    "# END "
   ]
  },
  {
   "cell_type": "markdown",
   "id": "c3ca195e-48a6-4438-a491-ae8e6fbc939f",
   "metadata": {},
   "source": [
    "# PI ARDUINO CHANGE REF 3"
   ]
  },
  {
   "cell_type": "code",
   "execution_count": 9,
   "id": "79450cc3-3ad3-4c8b-82c2-d1aa02978c4d",
   "metadata": {},
   "outputs": [],
   "source": [
    "import matplotlib.pyplot as plt \n",
    "import numpy as np"
   ]
  },
  {
   "cell_type": "code",
   "execution_count": 10,
   "id": "7fb98d19-114c-46f7-8bef-96a7e3b1b5f3",
   "metadata": {},
   "outputs": [
    {
     "data": {
      "text/plain": [
       "0.02223752"
      ]
     },
     "execution_count": 10,
     "metadata": {},
     "output_type": "execute_result"
    }
   ],
   "source": [
    "R=4660#meas\n",
    "C=4.772e-6# nom 4.7uF\n",
    "To=R*C\n",
    "To"
   ]
  },
  {
   "cell_type": "raw",
   "id": "247d6076-9e04-48ab-8056-cab103dc4cc8",
   "metadata": {},
   "source": [
    "float To = 0.02223752\n",
    "float n= 3 // 3 time more fast\n",
    "float Kp = n \n",
    "float Ti = To\n",
    "float Ki  =Kp/Ti\n"
   ]
  },
  {
   "cell_type": "code",
   "execution_count": 11,
   "id": "25a7e693-379d-47c8-8bfc-2092e8706b49",
   "metadata": {},
   "outputs": [
    {
     "data": {
      "text/plain": [
       "85"
      ]
     },
     "execution_count": 11,
     "metadata": {},
     "output_type": "execute_result"
    }
   ],
   "source": [
    "int(255*1.1/3.3)"
   ]
  },
  {
   "cell_type": "raw",
   "id": "3e297f47-82b2-4f86-8761-0d0eb92e28cb",
   "metadata": {},
   "source": [
    "#include <Arduino.h>\n",
    "#include \"driver/adc.h\"  // adc2_get_raw()\n",
    "\n",
    "// ----------------- Pins -----------------\n",
    "#define ADC_PIN_CH  ADC2_CHANNEL_6   // GPIO14 (ADC2)\n",
    "#define PWM_PIN     25               // PWM output\n",
    "\n",
    "// ----------------- Capture size -----------------\n",
    "constexpr int N = 10000;\n",
    "\n",
    "// ----------------- PWM (v3.x API) -----------------\n",
    "const uint32_t PWM_FREQ = 100000;    // 100 kHz\n",
    "const uint8_t  PWM_RES  = 8;         // 8-bit (0..255)\n",
    "\n",
    "\n",
    "\n",
    "// ----------------- Targets & scaling -----------------\n",
    "// v_target: desired RC output voltage (in volts)\n",
    "float v_target   = 0.40f;      // volts\n",
    "\n",
    "// Convert raw ADC (12-bit) to volts for ADC2 @ 11 dB (~0..3.3 V)\n",
    "const float V_SUPPLY   = 3.3f;               // effective PWM high voltage\n",
    "const float ADC_SCALE  = V_SUPPLY / 4095.0f; // raw -> volts\n",
    "\n",
    "// Choose the top-of-scale for logging in tab[] (0..1000):\n",
    "//   - Set to 1.10f to match your 1.1 V scaling\n",
    "//   - Set to 3.30f if you want the log scaled to 3.3 V\n",
    "const float V_SCALE_TOP = 1.10f;     // volts -> mapped to 0..1000\n",
    "\n",
    "// ----------------- State & buffers -----------------\n",
    "\n",
    "int tab[N];                // store MEASUREMENT scaled to 0..1000 (not duty)\n",
    "unsigned long ttab[N];     // store time stamps (micros)\n",
    "\n",
    "static inline int clampi(int x, int lo, int hi) {\n",
    "  return (x < lo) ? lo : (x > hi) ? hi : x;\n",
    "}\n",
    "\n",
    "void setup() {\n",
    "  Serial.begin(115200);\n",
    "\n",
    "  // ADC ~0..3.3 V on GPIO14 with 11 dB attenuation\n",
    "  adc2_config_channel_atten(ADC_PIN_CH, ADC_ATTEN_DB_11);\n",
    "\n",
    "  // v3.x LEDC API: attach pin with desired freq & resolution\n",
    "  if (!ledcAttach(PWM_PIN, PWM_FREQ, PWM_RES)) {\n",
    "    Serial.println(\"LEDC attach failed\");\n",
    "    while (1) {}\n",
    "  }\n",
    "\n",
    "  // Wait for '#' start trigger (preserved)\n",
    "  while (true) {\n",
    "    if (Serial.available() > 0 && Serial.read() == '#') break;\n",
    "  }\n",
    "}\n",
    "\n",
    "\n",
    "\n",
    "const float To = 0.0222f;            // RC time constant (s)\n",
    "const float n  = 3.0f;  \n",
    "\n",
    "////////////////////////  PI controller /////////////////////////\n",
    "float integral = 0.0f;\n",
    "float integral_ = 0.0f;\n",
    "float PI_cont(float v_target , float v_meas_in, float dt){\n",
    "         \n",
    "    const float Kp = n;\n",
    "    const float Ki = Kp / To;            \n",
    "\n",
    "    float PI_out_;\n",
    "    float PI_out_upper   = 1.0f;  \n",
    "    float PI_out_lower = 0.0f;\n",
    "\n",
    "    float  PI_out;\n",
    "\n",
    "    float e = v_target - v_meas_in;\n",
    "    integral += e * dt;\n",
    "    PI_out_ = Kp * e + Ki * integral;\n",
    "\n",
    "    // Clamp \n",
    "    if (PI_out_ > PI_out_upper) PI_out= PI_out_upper; \n",
    "    else if (PI_out_ < PI_out_lower) PI_out= PI_out_lower; \n",
    "    else \n",
    "    {\n",
    "      PI_out = PI_out_ ;\n",
    "      integral = integral_; \n",
    "    } \n",
    "    return PI_out; \n",
    "}\n",
    "///////////////////////////////////////////////////////////////////////\n",
    "\n",
    "// void main_loop(void){}\n",
    "/*\n",
    "const int sampling_time_us = 100; \n",
    "while (1){\n",
    "  uint32_t t_now = micros();\n",
    "  // CODE HERE \n",
    "  while ((micros()-t_now)<sampling_time_us);\n",
    "\n",
    "}\n",
    "*/\n",
    "\n",
    "void loop() {\n",
    "  uint32_t t_prev = micros();\n",
    "  float  PI_out;\n",
    "\n",
    "  // --------- Sampling loop ----------\n",
    "  for (int i = 0; i < N; i++) {\n",
    "    uint32_t t_now = micros();\n",
    "\n",
    "    // Measure RC output (volts)\n",
    "    int raw = 0;\n",
    "    adc2_get_raw(ADC_PIN_CH, ADC_WIDTH_BIT_12, &raw);\n",
    "    float v_meas = raw * ADC_SCALE;   // volts\n",
    "\n",
    "    // Sample time for PI\n",
    "    float dt = (t_now - t_prev) * 1e-6f;\n",
    "    t_prev = t_now;\n",
    "    if (i>N/3) v_target= 0.3;\n",
    "\n",
    "\n",
    "\n",
    "\n",
    "    PI_out = PI_cont(v_target , v_meas,dt);\n",
    "\n",
    "    int duty = (int)lroundf(PI_out  * 255.0f);\n",
    "\n",
    "\n",
    "\n",
    "\n",
    "\n",
    "\n",
    "    // Apply PWM\n",
    "    ledcWrite(PWM_PIN, duty);\n",
    "\n",
    "    // --- LOGGING: store MEASUREMENT (not duty), scaled to 0..1000 ---\n",
    "    // Scale v_meas so that V_SCALE_TOP -> 1000\n",
    "    float scaled = (V_SCALE_TOP > 0.0f) ? (v_meas / V_SCALE_TOP) : 0.0f;\n",
    "    int meas1000 = clampi((int)lroundf(scaled * 1000.0f), 0, 1000);\n",
    "\n",
    "    tab[i]  = meas1000;\n",
    "    ttab[i] = t_now;\n",
    "  }\n",
    "\n",
    "  // Stop PWM and print (preserved format)\n",
    "  ledcWrite(PWM_PIN, 0);\n",
    "\n",
    "  for (int i = 0; i < N; i++) {\n",
    "    Serial.print(ttab[i]);\n",
    "    Serial.print('\\t');\n",
    "    Serial.println(tab[i]);  // 0..1000 scaled measurement\n",
    "  }\n",
    "  Serial.println(\"END\");\n",
    "\n",
    "  while (1) {}  // stop here\n",
    "}\n"
   ]
  },
  {
   "cell_type": "code",
   "execution_count": 12,
   "id": "48635261-e80f-48b5-b8d4-8abb281390b9",
   "metadata": {},
   "outputs": [],
   "source": [
    "#%pip install pyserial"
   ]
  },
  {
   "cell_type": "code",
   "execution_count": 13,
   "id": "584ab6e7-4628-4360-88b9-2715d9c3ce0a",
   "metadata": {},
   "outputs": [
    {
     "ename": "NameError",
     "evalue": "name 'ser' is not defined",
     "output_type": "error",
     "traceback": [
      "\u001b[31m---------------------------------------------------------------------------\u001b[39m",
      "\u001b[31mNameError\u001b[39m                                 Traceback (most recent call last)",
      "\u001b[36mCell\u001b[39m\u001b[36m \u001b[39m\u001b[32mIn[13]\u001b[39m\u001b[32m, line 1\u001b[39m\n\u001b[32m----> \u001b[39m\u001b[32m1\u001b[39m \u001b[43mser\u001b[49m.close()\n",
      "\u001b[31mNameError\u001b[39m: name 'ser' is not defined"
     ]
    }
   ],
   "source": [
    "ser.close()"
   ]
  },
  {
   "cell_type": "code",
   "execution_count": null,
   "id": "c6e32a90-046a-4843-9c7a-0d334b9845aa",
   "metadata": {},
   "outputs": [],
   "source": [
    "import serial\n",
    "import time\n",
    "\n",
    "# Replace 'COM3' with your Arduino port (on Linux it may be '/dev/ttyUSB0')\n",
    "ser = serial.Serial('COM5', 115200, timeout=1)  # baud rate must match Arduino\n",
    "time.sleep(2)  # wait for Arduino reset\n",
    "arr=[]\n",
    "\n",
    "\n",
    "# Send '#' to Arduino\n",
    "ser.write(b\"#\")  # sends the byte '#' to Arduino\n",
    "\n",
    "\n",
    "try:\n",
    "    while True:\n",
    "        line = ser.readline().decode('utf-8').strip()  # read a line\n",
    "        if line:\n",
    "            #print(line)\n",
    "            arr.append(line)\n",
    "        if \"END\" in line:\n",
    "            break\n",
    "except KeyboardInterrupt:\n",
    "    ser.close()\n"
   ]
  },
  {
   "cell_type": "code",
   "execution_count": null,
   "id": "5f978849-b26e-4f6b-856b-f8807d4e3af1",
   "metadata": {},
   "outputs": [],
   "source": [
    "ser.close()"
   ]
  },
  {
   "cell_type": "code",
   "execution_count": null,
   "id": "9cef8de5-243c-4c44-ad21-8b1da4199704",
   "metadata": {},
   "outputs": [],
   "source": [
    "2**12"
   ]
  },
  {
   "cell_type": "code",
   "execution_count": null,
   "id": "d13dd881-e8f4-4c5c-bbe2-6655d848bffc",
   "metadata": {},
   "outputs": [],
   "source": [
    "prin = False \n",
    "vol=[]\n",
    "time=[]\n",
    "for i in range(len(arr)):\n",
    "    l = arr[i]\n",
    "    if 'END' in l: \n",
    "        break\n",
    "    if \"entry\" in l:\n",
    "        prin=True \n",
    "\n",
    "    elif prin: \n",
    "        vals = arr[i].split('\\t')\n",
    "        time .append(float(vals[0]))\n",
    "        vol .append(float(vals[1]))\n",
    "plt.plot(time, vol)\n",
    "plt.plot"
   ]
  },
  {
   "cell_type": "code",
   "execution_count": null,
   "id": "27a63faf-ec8f-4432-b88e-9ed0e3f3d548",
   "metadata": {},
   "outputs": [],
   "source": []
  },
  {
   "cell_type": "code",
   "execution_count": null,
   "id": "7789e51f-d202-4876-985e-da46784f081b",
   "metadata": {},
   "outputs": [],
   "source": [
    "import pandas as pd"
   ]
  },
  {
   "cell_type": "code",
   "execution_count": null,
   "id": "891a161d-1785-42f6-8375-8be5c20de879",
   "metadata": {},
   "outputs": [],
   "source": [
    "df=pd.DataFrame({\"t\":time,\"v\":vol})\n",
    "df"
   ]
  },
  {
   "cell_type": "code",
   "execution_count": null,
   "id": "73b6d271-caa7-4931-8e4a-6e0fe5d49544",
   "metadata": {},
   "outputs": [],
   "source": [
    "100-(df.t.diff().mean()-100)"
   ]
  },
  {
   "cell_type": "code",
   "execution_count": null,
   "id": "3c836c98-2319-4258-8e97-6509f36b3320",
   "metadata": {},
   "outputs": [],
   "source": [
    "#df.to_csv(\"dfPI5.csv\")"
   ]
  },
  {
   "cell_type": "code",
   "execution_count": null,
   "id": "1b2b7c5f-0731-49a6-ac12-82d4f6940981",
   "metadata": {},
   "outputs": [],
   "source": [
    "#df = pd.read_csv(\"dfPI5.csv\")"
   ]
  },
  {
   "cell_type": "code",
   "execution_count": 14,
   "id": "2b284a25-3333-4ada-af99-8e06e5c7e82f",
   "metadata": {},
   "outputs": [
    {
     "ename": "NameError",
     "evalue": "name 'df' is not defined",
     "output_type": "error",
     "traceback": [
      "\u001b[31m---------------------------------------------------------------------------\u001b[39m",
      "\u001b[31mNameError\u001b[39m                                 Traceback (most recent call last)",
      "\u001b[36mCell\u001b[39m\u001b[36m \u001b[39m\u001b[32mIn[14]\u001b[39m\u001b[32m, line 1\u001b[39m\n\u001b[32m----> \u001b[39m\u001b[32m1\u001b[39m df.t=\u001b[43mdf\u001b[49m.t-df.t.iloc[\u001b[32m0\u001b[39m]\n\u001b[32m      2\u001b[39m df.plot(x=\u001b[33m'\u001b[39m\u001b[33mt\u001b[39m\u001b[33m'\u001b[39m,y=\u001b[33m'\u001b[39m\u001b[33mv\u001b[39m\u001b[33m'\u001b[39m)\n",
      "\u001b[31mNameError\u001b[39m: name 'df' is not defined"
     ]
    }
   ],
   "source": [
    "df.t=df.t-df.t.iloc[0]\n",
    "df.plot(x='t',y='v')"
   ]
  },
  {
   "cell_type": "code",
   "execution_count": null,
   "id": "5d46c25c-da1e-4ef5-b100-ee546b33d29a",
   "metadata": {},
   "outputs": [],
   "source": []
  },
  {
   "cell_type": "code",
   "execution_count": null,
   "id": "09e7bbff-6c3f-4d71-bdbf-15ce74bc79aa",
   "metadata": {},
   "outputs": [],
   "source": []
  },
  {
   "cell_type": "code",
   "execution_count": null,
   "id": "741f2fcc-640f-467b-8b25-26ac2b7fa9a8",
   "metadata": {},
   "outputs": [],
   "source": []
  },
  {
   "cell_type": "code",
   "execution_count": null,
   "id": "0b3edc58-b7a9-4fbf-b292-7411636d46e3",
   "metadata": {},
   "outputs": [],
   "source": []
  }
 ],
 "metadata": {
  "kernelspec": {
   "display_name": "kernel_venv1",
   "language": "python",
   "name": "kernel_venv1"
  },
  "language_info": {
   "codemirror_mode": {
    "name": "ipython",
    "version": 3
   },
   "file_extension": ".py",
   "mimetype": "text/x-python",
   "name": "python",
   "nbconvert_exporter": "python",
   "pygments_lexer": "ipython3",
   "version": "3.13.5"
  }
 },
 "nbformat": 4,
 "nbformat_minor": 5
}
