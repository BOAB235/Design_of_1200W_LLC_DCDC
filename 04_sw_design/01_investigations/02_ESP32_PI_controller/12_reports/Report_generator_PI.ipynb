{
 "cells": [
  {
   "cell_type": "code",
   "execution_count": 1,
   "id": "59a75770-6711-45d9-ad43-a6ba9f5db56b",
   "metadata": {},
   "outputs": [],
   "source": [
    "################## Thsi will be not explorted in PDF juste for internal pre-processing\n",
    "\n",
    "from IPython.display import display, HTML\n",
    "\n",
    "\n",
    "def show_figure_pair_with_captions(img1, caption1, img2=None, caption2=None, first_part_path=None):\n",
    "    \n",
    "    img1 = first_part_path+img1\n",
    "    global fig_counter\n",
    "    if not img2 is None: \n",
    "        img2 = first_part_path+img2\n",
    "        html = f\"\"\"\n",
    "        <div style=\"width: 19cm; display: flex;\">\n",
    "          <div style=\"width: 9cm; text-align: center;\">\n",
    "            <img src=\"{img1}\" style=\"width: 9cm;\">\n",
    "            <div style=\"width: 9cm; word-wrap: break-word;\">\n",
    "                <b>Figure {fig_counter}:</b> {caption1}\n",
    "            </div>\n",
    "          </div>\n",
    "          <div style=\"width: 1cm;\"></div>\n",
    "          <div style=\"width: 9cm; text-align: center;\">\n",
    "            <img src=\"{img2}\" style=\"width: 9cm;\">\n",
    "            <div style=\"width: 9cm; word-wrap: break-word;\">\n",
    "                <b>Figure {fig_counter + 1}:</b> {caption2}\n",
    "            </div>\n",
    "          </div>\n",
    "        </div>\n",
    "        <br>\n",
    "        \"\"\"\n",
    "    else: \n",
    "        html = f\"\"\"\n",
    "        <div style=\"width: 19cm; display: flex;\">\n",
    "          <div style=\"width: 9cm; text-align: center;\">\n",
    "            <img src=\"{img1}\" style=\"width: 9cm;\">\n",
    "            <div style=\"width: 9cm; word-wrap: break-word;\">\n",
    "                <b>Figure {fig_counter}:</b> {caption1}\n",
    "            </div>\n",
    "          </div>\n",
    "          <div style=\"width: 1cm;\"></div>\n",
    "          <div style=\"width: 9cm; text-align: center;\">\n",
    "\n",
    "          </div>\n",
    "        </div>\n",
    "        <br>\n",
    "        \"\"\"\n",
    "    fig_counter += 2\n",
    "    display(HTML(html))\n"
   ]
  },
  {
   "cell_type": "code",
   "execution_count": 82,
   "id": "6ee91a10-da34-4044-a6df-09e9febe529d",
   "metadata": {},
   "outputs": [],
   "source": [
    "import pandas as pd \n",
    "import numpy as np"
   ]
  },
  {
   "cell_type": "code",
   "execution_count": 31,
   "id": "e116f9a8-6a86-44e4-ab36-41c3c37f0d14",
   "metadata": {},
   "outputs": [],
   "source": [
    "# CONFIGURATIONS\n",
    "#help(handcalcs.set_option)\n",
    "import handcalcs.render\n",
    "handcalcs.set_option(\"latex_block_start\", \"$\")\n",
    "handcalcs.set_option(\"latex_block_end\", \"$\")\n",
    "handcalcs.set_option(\"math_environment_end\", \"aligned\")\n",
    "handcalcs.set_option(\"use_scientific_notation\",True)"
   ]
  },
  {
   "cell_type": "markdown",
   "id": "1edb0b16-482a-465c-8421-de255b7719fb",
   "metadata": {},
   "source": [
    "## Theoretical Background of the PI Controller"
   ]
  },
  {
   "cell_type": "markdown",
   "id": "61149e0c-a1b6-4b4f-b2c6-1e840ea3f401",
   "metadata": {},
   "source": [
    " **Transfer functions**\n",
    " <br>First order system\n",
    " $ G(s) = \\frac {1}{1+T_o . s}$ \n",
    " <br>\n",
    " The PI controler \n",
    "$ PI(s) = K_p + \\frac{K_i}{s} = Kp \\frac {1+T_i.s}{T_i.s} $\n",
    "<br> where $ T_i = \\frac{K_p}{K_i}$  \n",
    "Open loop <br>\n",
    "$ H(s)= G(s).PI(s)= \\frac {1}{1+T_o . s}  Kp \\frac {1+T_i.s}{T_i.s} = \\frac {Kp }{T_i.s}\\frac {1+T_i.s}{1+T_o . s} : (I)$ \n",
    " <br><br>\n",
    "**Methode 1: Cancellation and Dominant Pole Approximation**\n",
    "<br> \n",
    "we chose: \n",
    "<br>\n",
    "$T_i =T_o \n",
    " \\Rightarrow\n",
    " H(s)= \\frac {K_p}{T_i.s}$\n",
    " <br>\n",
    "Closed loop \n",
    " <br>\n",
    "$H_c(s)= \\frac{H(s) }{ 1+H(s)}= \\frac{1 }{ 1+\\frac {1}{H(s)}} : (II)$ \n",
    " <br>\n",
    "$H_c(s)= \\frac{1 }{ 1+\\frac {T_i}{K_p}.s}= \\frac{1 }{ 1+T_{oc}.s}$\n",
    " <br>\n",
    "Where $ T_{oc} = \\frac {T_i}{K_p}$\n",
    " <br><br>\n",
    "Objective: To make the closed-loop system 𝑛 times faster than the initial system.\n",
    "<br>\n",
    "so : $ T_{oc} =\\frac {T_o}{n} = \\frac{T_i}{n}$ and \n",
    "$ T_{oc} = \\frac {T_i}{K_p}$<br>\n",
    "$ \\Rightarrow \\boxed{K_p = n} $<br>\n",
    "And $ T_i =T_o =  \\frac{K_p}{K_i}$  <br>\n",
    "$  \\Rightarrow K_i= \\frac{K_p}{T_o}$<br>\n",
    "$  \\Rightarrow \\boxed{K_i=\\frac {n}{T_o}} $\n",
    "\n",
    "\n",
    "**Methode 2: Dominant Pole Approximation**\n",
    " <br>\n",
    " From equation $ (II) $ <br>\n",
    "$ Hc(s) = \\frac{1}{1+ \\frac {T_i.s}{K_p} \\frac {1+T_o . s}{1+T_i.s} }  = \\frac{1+T_i.s}{1+(T_i+\\frac{T_i}{K_p}).s+\\frac{T_i.T_o}{K_p}.s^2}$\n",
    " <br>\n",
    "$Hc(s) ≈\\frac{1}{1+2\\zeta\\frac{s}{w_n}+\\frac{s^2}{w_n^2}} $\n",
    " <br>\n",
    "if $ Ti.wn <<1 $\n",
    "$ w_n^2 = \\frac{K_p}{T_i.T_o} $ $(III)$\n",
    " <br>\n",
    " Where <br>\n",
    "$ 2\\zeta\\frac{1}{w_n} = (T_i+\\frac{T_i}{K_p}) $ \n",
    " <br>\n",
    "$ K_p = 2.\\zeta.w_n.T_o-1$\n",
    " <br>\n",
    " And <br>\n",
    "$ T_i= \\frac{K_p}{w_n^2.T_o} $ \n",
    "<br>\n",
    "The condition $(III)$ \n",
    "<br>\n",
    "$ T_i.w_n ≪ 1  \\Rightarrow  T_i.w_n = \\frac{K_p}{w_n.T_o}=2*\\zeta -\\frac{1}{w_n.T_o} ≪ 1 $\n",
    "<br>\n",
    "for $ \\zeta=1 \\Rightarrow  w_n ≪ T_o $\n",
    "<br><br> this methode work only if the closed loop is slow than the initial system"
   ]
  },
  {
   "cell_type": "code",
   "execution_count": null,
   "id": "3a70e2ad-44c7-4dea-811b-beac58b72796",
   "metadata": {},
   "outputs": [],
   "source": []
  },
  {
   "cell_type": "markdown",
   "id": "772cda7a-9a8d-4d54-a305-428ff2c252e0",
   "metadata": {},
   "source": [
    "## Simulation of PI controller and RC first order system"
   ]
  },
  {
   "cell_type": "markdown",
   "id": "5af6f166-cdd7-4c30-97c5-d91de07df2ce",
   "metadata": {},
   "source": [
    "### RC first order system"
   ]
  },
  {
   "cell_type": "markdown",
   "id": "e44c8c60-d29d-43f2-829b-06eb09e2ccd4",
   "metadata": {},
   "source": [
    "See setup in **Figure 5**"
   ]
  },
  {
   "cell_type": "code",
   "execution_count": 43,
   "id": "243c74a9-82ef-4ede-92da-d55c5be2ec0c",
   "metadata": {},
   "outputs": [],
   "source": [
    "import numpy as np\n",
    "import matplotlib.pyplot as plt"
   ]
  },
  {
   "cell_type": "code",
   "execution_count": 44,
   "id": "61ab69a8-2349-4c62-9c64-a1e0ee4f9c87",
   "metadata": {},
   "outputs": [],
   "source": [
    "class FirstOrder:\n",
    "    def __init__(self, To, Ts, A=1.0, y0=0.0):\n",
    "        self.a = Ts / To\n",
    "        self.A = A\n",
    "        self.y = y0\n",
    "\n",
    "    def step(self, u):\n",
    "        self.y += self.a * (self.A * u - self.y)\n",
    "        return self.y\n",
    "\n",
    "\n",
    "class PI_cont:\n",
    "    def __init__(self, Kp, Ki, Ts, y0=0.0):\n",
    "        # Ti = Kp/Ki\n",
    "        self.Kp = Kp\n",
    "        self.Ki = Ki\n",
    "        self.Ts = Ts\n",
    "        self.integral = 0.0\n",
    "        self.y = y0\n",
    "\n",
    "    def step(self, error):\n",
    "        self.integral += error * self.Ts\n",
    "        self.y = self.Kp * error + self.Ki * self.integral\n",
    "        return self.y\n",
    "class limiter: \n",
    "    def _init(self, lower, upper): \n",
    "        self.L = lower\n",
    "        self.U = upper\n",
    "    def step(self, u):\n",
    "        if u < self.L: \n",
    "            return self.L\n",
    "        if u > self.U: \n",
    "            return self.U\n",
    "        return u\n",
    "        \n",
    "class sim_first_1_controller_PI: \n",
    "    def __init__(self, Ts_sim, Ts_ctrl, Kp, Ki):\n",
    "        self.Ts_sim = Ts_sim\n",
    "        self.Ts_ctrl = Ts_ctrl\n",
    "        self.Kp = Kp \n",
    "        self.Ki = Ki\n",
    "    def sim(self, u):\n",
    "        N = len(u)\n",
    "        Ts = self.Ts_sim\n",
    "        Ts_ctrl = self.Ts_ctrl\n",
    "        Ts_n = int(Ts_ctrl/Ts)\n",
    "\n",
    "\n",
    "        G1 = FirstOrder(To, Ts)\n",
    "        G2 = FirstOrder(To, Ts)\n",
    "        C  = PI_cont(Kp=Kp, Ki=Ki, Ts=Ts_ctrl)\n",
    "        \n",
    "        y1, y2 = [], []\n",
    "        control2 = 0.0\n",
    "        \n",
    "        for i in range(N):\n",
    "            # open-loop\n",
    "            y1.append(G1.step(u[i]))\n",
    "        \n",
    "            # closed-loop with controller update every 10 steps (ZOH in between)\n",
    "            e = u[i] - G2.y\n",
    "            if i % Ts_n  == 0:\n",
    "                control2 = C.step(e)\n",
    "            y2.append(G2.step(control2))\n",
    "        return np.array(y1), np.array(y2)"
   ]
  },
  {
   "cell_type": "code",
   "execution_count": 48,
   "id": "59201f33-1ca6-43b4-8a31-488497ecf033",
   "metadata": {},
   "outputs": [
    {
     "data": {
      "text/latex": [
       "$\n",
       "\\begin{aligned}\n",
       "R &= 4660 \\; \\;\\textrm{(Ω : measurement)}\n",
       "\\\\[10pt]\n",
       "C_{uF} &= 4.772 \\; \\;\\textrm{(µF : nominal 4.7uF)}\n",
       "\\\\[10pt]\n",
       "C &= C_{uF} \\cdot 1 \\times 10 ^ {-6} \\\\&= 4.772 \\cdot 1 \\times 10 ^ {-6} \\\\&= 0.000  \\\\[10pt]\n",
       "\\\\[10pt]\n",
       "\\mathrm{To} &= 0.022 \\; \\;\\textrm{(s)}\n",
       "\\\\[10pt]\n",
       "\\mathrm{Kp} &= 3 \\; \\;\\textrm{(closed loop 3 time more fast)}\n",
       "\\\\[10pt]\n",
       "\\mathrm{Ti} &= 0.022 \\; \n",
       "\\\\[10pt]\n",
       "\\mathrm{Ki} &= \\frac{ \\mathrm{Kp} }{ \\mathrm{Ti} } \\\\&= \\frac{ 3 }{ 0.022 } \\\\&= 134.907  \\\\[10pt]\n",
       "\\\\[10pt]\n",
       "\\mathrm{Ts}_{sim_{us}} &= 1 \\; \\;\\textrm{(us)}\n",
       "\\\\[10pt]\n",
       "\\mathrm{Ts}_{sim} &= \\mathrm{Ts}_{sim_{us}} \\cdot 1 \\times 10 ^ {-6} \\\\&= 1 \\cdot 1 \\times 10 ^ {-6} \\\\&= 0.000  \\\\[10pt]\n",
       "\\\\[10pt]\n",
       "\\mathrm{Ts}_{ctrl} &= 100 \\cdot \\mathrm{Ts}_{sim} \\\\&= 100 \\cdot 0.000 \\\\&= 0.000 \\; \\;\\textrm{(update PI each 100µs)}\\\\[10pt]\n",
       "\\\\[10pt]\n",
       "\\mathrm{Tsimulation} &= 0.500 \\; \\;\\textrm{(s)}\n",
       "\\end{aligned}\n",
       "$"
      ],
      "text/plain": [
       "<IPython.core.display.Latex object>"
      ]
     },
     "metadata": {},
     "output_type": "display_data"
    }
   ],
   "source": [
    "%%render long\n",
    "# RC sys\n",
    "R=4660# Ω : measurement\n",
    "C_uF=4.772# µF : nominal 4.7uF\n",
    "C = C_uF*1e-6\n",
    "To=R*C # s\n",
    "\n",
    "# System & controller\n",
    "Kp = 3 # closed loop 3 time more fast\n",
    "Ti =  To\n",
    "Ki = Kp/Ti         \n",
    "\n",
    " \n",
    "# simulation params\n",
    "Ts_sim_us = 1 # us\n",
    "Ts_sim = Ts_sim_us*1e-6\n",
    "Ts_ctrl = 100*Ts_sim # update PI each 100µs\n",
    "Tsimulation  = 0.5 # s"
   ]
  },
  {
   "cell_type": "code",
   "execution_count": null,
   "id": "3ba375f1-ba41-4763-9d6b-d75cca32eef6",
   "metadata": {},
   "outputs": [],
   "source": []
  },
  {
   "cell_type": "code",
   "execution_count": 49,
   "id": "6aa9688d-fbe4-4770-b7bc-75c7642b174b",
   "metadata": {},
   "outputs": [],
   "source": [
    "Sim_Model= sim_first_1_controller_PI(Ts_sim = Ts_sim , Ts_ctrl=Ts_ctrl, Kp=Kp, Ki=Ki)"
   ]
  },
  {
   "cell_type": "code",
   "execution_count": null,
   "id": "69028516-da94-4151-8a89-10d0a738a50d",
   "metadata": {},
   "outputs": [],
   "source": []
  },
  {
   "cell_type": "code",
   "execution_count": 55,
   "id": "c380934e-a12a-4443-bbc1-0920796a0bf8",
   "metadata": {},
   "outputs": [],
   "source": [
    "## Input \n",
    "N = int(Tsimulation/Ts_sim)\n",
    "time = np.arange(0, Ts_sim  * N, Ts_sim )\n",
    "u = np.ones(N)\n",
    "u[0:N//10]=0\n",
    "u[6*N//10:]=0.7"
   ]
  },
  {
   "cell_type": "code",
   "execution_count": 56,
   "id": "5997b613-0618-48c5-b8cc-0492e7d3867a",
   "metadata": {},
   "outputs": [],
   "source": [
    "y1, y2 = Sim_Model.sim(u)"
   ]
  },
  {
   "cell_type": "code",
   "execution_count": 59,
   "id": "57be0c53-2726-40a4-b7f3-12e26a926915",
   "metadata": {},
   "outputs": [
    {
     "data": {
      "image/png": "[encoded data removed]",
      "text/plain": [
       "<Figure size 700x400 with 1 Axes>"
      ]
     },
     "metadata": {},
     "output_type": "display_data"
    }
   ],
   "source": [
    "# Plot\n",
    "plt.figure(figsize=(7,4))\n",
    "plt.plot(time, y1, label='System 1 (open-loop)')\n",
    "plt.plot(time, y2, label='System 2 (PI controlled)')\n",
    "plt.plot(time, u, '--', label='Setpoint = Target')\n",
    "plt.xlabel('Time (s)'); plt.ylabel('Amplitude')\n",
    "plt.title('First-order response with PI (Methode 1)')\n",
    "plt.legend(); plt.tight_layout()\n",
    "plt.grid()\n",
    "plt.show()\n",
    "\n"
   ]
  },
  {
   "cell_type": "markdown",
   "id": "42770306-5d43-4508-8df0-5f9a507109be",
   "metadata": {},
   "source": [
    "### Add a load RL to RC circuit "
   ]
  },
  {
   "cell_type": "markdown",
   "id": "d5379d24-7dc4-4239-8c69-1c8f536e11af",
   "metadata": {},
   "source": [
    "See setup in **Figure 6**"
   ]
  },
  {
   "cell_type": "markdown",
   "id": "2e7a26be-8802-42f7-8ec2-896a1e39df5c",
   "metadata": {},
   "source": [
    "First order system RC with load RL\n",
    "<br> <br> Open loop transfer function: \n",
    "<br>\n",
    "$ H(s) = \\frac {A}{1+A.To.s} $ \n",
    "<br><br>\n",
    "Where $ A= \\frac{1}{1+\\frac{R}{RL}}$"
   ]
  },
  {
   "cell_type": "code",
   "execution_count": 68,
   "id": "717ae484-907c-49d3-8715-daaceb48f546",
   "metadata": {},
   "outputs": [
    {
     "data": {
      "text/latex": [
       "$\n",
       "\\begin{aligned}\n",
       "\\mathrm{RL} &= 4646 \\; \\;\\textrm{(Ω)}\n",
       "\\\\[10pt]\n",
       "A &= \\frac{ 1 }{ 1 + \\frac{ R }{ \\mathrm{RL} } }  = \\frac{ 1 }{ 1 + \\frac{ 4660 }{ 4646 } } &= 0.499  \n",
       "\\\\[10pt]\n",
       "A &= 0.499 \\; \n",
       "\\end{aligned}\n",
       "$"
      ],
      "text/plain": [
       "<IPython.core.display.Latex object>"
      ]
     },
     "metadata": {},
     "output_type": "display_data"
    }
   ],
   "source": [
    "%%render \n",
    "RL = 4646 # Ω\n",
    "# LOAD RESISTOR \n",
    "# H(s) = A/(1+A*To*s)\n",
    "A= 1/(1+R/RL)\n",
    "A"
   ]
  },
  {
   "cell_type": "code",
   "execution_count": 73,
   "id": "364913e8-f2d9-46ee-ba70-21351565c64e",
   "metadata": {},
   "outputs": [],
   "source": [
    "load = np.zeros(N)\n",
    "load[N//3:2*N//3]=0.4"
   ]
  },
  {
   "cell_type": "code",
   "execution_count": 74,
   "id": "cdc44eaa-cb71-41d6-8f98-e13ece5973f3",
   "metadata": {},
   "outputs": [],
   "source": [
    "u = np.ones(N)\n",
    "N = len(u)\n",
    "Ts = Ts_sim\n",
    "Ts_ctrl = Ts_ctrl\n",
    "Ts_n = int(Ts_ctrl/Ts)\n",
    "\n",
    "\n",
    "G1 = FirstOrder(To, Ts)\n",
    "G2 = FirstOrder(To, Ts)\n",
    "C  = PI_cont(Kp=Kp, Ki=Ki, Ts=Ts_ctrl)\n",
    "\n",
    "y1, y2 = [], []\n",
    "control2 = 0.0\n",
    "ycont = []\n",
    "for i in range(N):\n",
    "    if i ==N//3: \n",
    "        G1.a = Ts / (To*A)\n",
    "        G1.A= A\n",
    "\n",
    "        G2.a = Ts / (To*A)\n",
    "        G2.A= A\n",
    "    if i ==2*N//3: \n",
    "        G1.a = Ts / (To)\n",
    "        G1.A= 1\n",
    "\n",
    "        G2.a = Ts / (To)\n",
    "        G2.A= 1\n",
    "    # open-loop\n",
    "    y1.append(G1.step(u[i]))\n",
    "\n",
    "    # closed-loop with controller update every 10 steps (ZOH in between)\n",
    "    e = u[i] - G2.y\n",
    "    if i % Ts_n  == 0:\n",
    "        control2 = C.step(e)\n",
    "    ycont.append(control2)\n",
    "    y2.append(G2.step(control2))\n",
    "y1, y2 = np.array(y1), np.array(y2)"
   ]
  },
  {
   "cell_type": "code",
   "execution_count": null,
   "id": "0f8b12f8-6422-40e6-a012-ddb862353f44",
   "metadata": {},
   "outputs": [],
   "source": []
  },
  {
   "cell_type": "code",
   "execution_count": 79,
   "id": "242f6a63-b950-453c-8932-dd41d9690abd",
   "metadata": {},
   "outputs": [
    {
     "data": {
      "image/png": "[encoded data removed]",
      "text/plain": [
       "<Figure size 700x400 with 1 Axes>"
      ]
     },
     "metadata": {},
     "output_type": "display_data"
    }
   ],
   "source": [
    "# Plot\n",
    "plt.figure(figsize=(7,4))\n",
    "plt.plot(time, y1, label='System 1 (open-loop)')\n",
    "plt.plot(time, y2, label='System 2 (PI, update each 10·Ts)')\n",
    "#plt.plot(time, ycont, label='PI controller output')\n",
    "plt.plot(time, u, '--', label='Setpoint')\n",
    "plt.xlabel('Time (s)'); plt.ylabel('Amplitude')\n",
    "plt.title('First-order response with PI')\n",
    "plt.plot(time, load, label =\"switch on the load RL\")\n",
    "plt.legend(loc='upper center', bbox_to_anchor=(0.5, -0.2), ncols= 2)\n",
    "plt.tight_layout()\n",
    "plt.grid()\n",
    "plt.show()\n",
    "\n"
   ]
  },
  {
   "cell_type": "markdown",
   "id": "041465a8-359b-4eb1-8fd9-e0974a18b1f6",
   "metadata": {},
   "source": [
    "## ESP32 PWM and ADC and RC circuit "
   ]
  },
  {
   "cell_type": "code",
   "execution_count": null,
   "id": "0cebea1b-54b9-497b-add4-22a877978ece",
   "metadata": {},
   "outputs": [],
   "source": []
  },
  {
   "cell_type": "markdown",
   "id": "abd14518-ef03-4e82-b54e-d3df3dbfc2a1",
   "metadata": {},
   "source": [
    "The ESP32 is configured to generate a 100 kHz PWM signal, while the capacitor voltage is measured via the ADC2. The results of this test are shown below. The combined ADC sampling and data storage time is approximately 32 µs.\n",
    "<br>\n",
    "See setup in **Figure 5**"
   ]
  },
  {
   "cell_type": "markdown",
   "id": "8b0b2c01-ec3c-4811-9894-9253f3a944da",
   "metadata": {},
   "source": [
    "The raw data obtained from the serial communication interface of the ESP32:"
   ]
  },
  {
   "cell_type": "code",
   "execution_count": 138,
   "id": "f9fdd344-db74-4414-b134-d8735448ff02",
   "metadata": {},
   "outputs": [
    {
     "data": {
      "text/html": [
       "<div>\n",
       "<style scoped>\n",
       "    .dataframe tbody tr th:only-of-type {\n",
       "        vertical-align: middle;\n",
       "    }\n",
       "\n",
       "    .dataframe tbody tr th {\n",
       "        vertical-align: top;\n",
       "    }\n",
       "\n",
       "    .dataframe thead th {\n",
       "        text-align: right;\n",
       "    }\n",
       "</style>\n",
       "<table border=\"1\" class=\"dataframe\">\n",
       "  <thead>\n",
       "    <tr style=\"text-align: right;\">\n",
       "      <th></th>\n",
       "      <th>t</th>\n",
       "      <th>v</th>\n",
       "    </tr>\n",
       "  </thead>\n",
       "  <tbody>\n",
       "    <tr>\n",
       "      <th>0</th>\n",
       "      <td>1872132.0</td>\n",
       "      <td>0.0</td>\n",
       "    </tr>\n",
       "    <tr>\n",
       "      <th>1</th>\n",
       "      <td>1872164.0</td>\n",
       "      <td>0.0</td>\n",
       "    </tr>\n",
       "    <tr>\n",
       "      <th>2</th>\n",
       "      <td>1872195.0</td>\n",
       "      <td>0.0</td>\n",
       "    </tr>\n",
       "    <tr>\n",
       "      <th>3</th>\n",
       "      <td>1872226.0</td>\n",
       "      <td>0.0</td>\n",
       "    </tr>\n",
       "    <tr>\n",
       "      <th>4</th>\n",
       "      <td>1872257.0</td>\n",
       "      <td>0.0</td>\n",
       "    </tr>\n",
       "    <tr>\n",
       "      <th>...</th>\n",
       "      <td>...</td>\n",
       "      <td>...</td>\n",
       "    </tr>\n",
       "    <tr>\n",
       "      <th>9995</th>\n",
       "      <td>2184244.0</td>\n",
       "      <td>689.0</td>\n",
       "    </tr>\n",
       "    <tr>\n",
       "      <th>9996</th>\n",
       "      <td>2184275.0</td>\n",
       "      <td>688.0</td>\n",
       "    </tr>\n",
       "    <tr>\n",
       "      <th>9997</th>\n",
       "      <td>2184306.0</td>\n",
       "      <td>689.0</td>\n",
       "    </tr>\n",
       "    <tr>\n",
       "      <th>9998</th>\n",
       "      <td>2184337.0</td>\n",
       "      <td>689.0</td>\n",
       "    </tr>\n",
       "    <tr>\n",
       "      <th>9999</th>\n",
       "      <td>2184368.0</td>\n",
       "      <td>689.0</td>\n",
       "    </tr>\n",
       "  </tbody>\n",
       "</table>\n",
       "<p>10000 rows × 2 columns</p>\n",
       "</div>"
      ],
      "text/plain": [
       "              t      v\n",
       "0     1872132.0    0.0\n",
       "1     1872164.0    0.0\n",
       "2     1872195.0    0.0\n",
       "3     1872226.0    0.0\n",
       "4     1872257.0    0.0\n",
       "...         ...    ...\n",
       "9995  2184244.0  689.0\n",
       "9996  2184275.0  688.0\n",
       "9997  2184306.0  689.0\n",
       "9998  2184337.0  689.0\n",
       "9999  2184368.0  689.0\n",
       "\n",
       "[10000 rows x 2 columns]"
      ]
     },
     "execution_count": 138,
     "metadata": {},
     "output_type": "execute_result"
    }
   ],
   "source": [
    "path = \"../00_DRAFT/df.csv\"\n",
    "df = pd.read_csv(path)\n",
    "df[[\"t\",\"v\"]]"
   ]
  },
  {
   "cell_type": "code",
   "execution_count": 140,
   "id": "c1908005-d8f5-490a-b9dc-33390aef02d7",
   "metadata": {},
   "outputs": [
    {
     "data": {
      "image/png": "[encoded data removed]",
      "text/plain": [
       "<Figure size 640x480 with 1 Axes>"
      ]
     },
     "metadata": {},
     "output_type": "display_data"
    }
   ],
   "source": [
    "path = \"../00_DRAFT/df.csv\"\n",
    "df = pd.read_csv(path)\n",
    "\n",
    "df.t= df.t-df.t.iloc[0]\n",
    "df.t= df.t*1e-6\n",
    "\n",
    "df.plot(x= \"t\", y=\"v\", label= \"ESP32 ADC measurements\")\n",
    "plt.xlabel(\"time (s)\")\n",
    "plt.ylabel(\"ADC raw read\")\n",
    "\n",
    "\n",
    "df2= df[df.v>2]\n",
    "t= df2.t\n",
    "t2= t-t.iloc[0]\n",
    "E= df2.v[9000: ].mean()\n",
    "y= E*(1-np.exp(-t2/To))\n",
    "plt.plot(\n",
    "    t, y, linestyle=\"--\",\n",
    "    label=r\"Theoretical $v(t) = E \\cdot \\left(1 - e^{-\\frac{(t-t_0)}{T_0}}\\right)$\"\n",
    ")\n",
    "plt.title(\"Measurement of the RC Circuit Response to a Step Input PWM\")\n",
    "\n",
    "plt.legend()\n",
    "plt.grid()"
   ]
  },
  {
   "cell_type": "markdown",
   "id": "5ae634f7-6150-4bd1-ad78-1ca1dfc04952",
   "metadata": {},
   "source": [
    "We can see that the RC system closely matches the theoretical first-order system."
   ]
  },
  {
   "cell_type": "markdown",
   "id": "dec22517-2e1b-4972-8c4d-2777b51f3c49",
   "metadata": {
    "id": "ytFJy9qfVGcl"
   },
   "source": [
    "# PI controller using ESP32"
   ]
  },
  {
   "cell_type": "code",
   "execution_count": null,
   "id": "2909741a-8b70-408e-9587-7b432e3d6a93",
   "metadata": {},
   "outputs": [],
   "source": []
  },
  {
   "cell_type": "markdown",
   "id": "8ec34f4b-1fe9-45c4-8265-27b453475e8c",
   "metadata": {},
   "source": [
    "## Theoretical Background of the PI Controller"
   ]
  },
  {
   "cell_type": "markdown",
   "id": "754d8a51-38c6-4b6e-8f98-866221b7dbe1",
   "metadata": {},
   "source": [
    "## Test Setup"
   ]
  },
  {
   "cell_type": "markdown",
   "id": "1a5daed7-447e-4bb9-aaab-0248a80f1a21",
   "metadata": {},
   "source": [
    "To reduce inductance, i use coaxial cables to connect the gpios to the oscilloscope: See below"
   ]
  },
  {
   "cell_type": "code",
   "execution_count": 141,
   "id": "f4d1baf7-fa1d-44b2-beaf-3472e235dc4f",
   "metadata": {},
   "outputs": [],
   "source": [
    "captions_list = [\"Setup: Input PWM G25 Output G14\", \n",
    "                \"Setup: R=4660Ω C=4.772µF\", \n",
    "                \"Setup: Other angle\", \n",
    "                \"RL (load) = 4646Ω ON/OFF\",\n",
    "                \"First order system To= RC= 22.24ms\",\n",
    "                \"Setup with oscilloscope and RL\"]"
   ]
  },
  {
   "cell_type": "code",
   "execution_count": 142,
   "id": "6a0930bb-de65-4bdc-9739-cdcf7b4098fc",
   "metadata": {},
   "outputs": [],
   "source": [
    "figs = ['setup1.png', 'setup2.png', 'setup3.png', \n",
    "        'setup4.png', 'setup5.png', 'setup6.png']"
   ]
  },
  {
   "cell_type": "code",
   "execution_count": null,
   "id": "8c6953ce-d6d8-46c7-af43-63e342118e4e",
   "metadata": {},
   "outputs": [],
   "source": []
  },
  {
   "cell_type": "code",
   "execution_count": 143,
   "id": "00bc6f9d-9ffe-4610-bf4c-365ad1bfa86d",
   "metadata": {},
   "outputs": [
    {
     "data": {
      "text/html": [
       "\n",
       "        <div style=\"width: 19cm; display: flex;\">\n",
       "          <div style=\"width: 9cm; text-align: center;\">\n",
       "            <img src=\"../11_images/setup1.png\" style=\"width: 9cm;\">\n",
       "            <div style=\"width: 9cm; word-wrap: break-word;\">\n",
       "                <b>Figure 1:</b> Setup: Input PWM G25 Output G14\n",
       "            </div>\n",
       "          </div>\n",
       "          <div style=\"width: 1cm;\"></div>\n",
       "          <div style=\"width: 9cm; text-align: center;\">\n",
       "            <img src=\"../11_images/setup2.png\" style=\"width: 9cm;\">\n",
       "            <div style=\"width: 9cm; word-wrap: break-word;\">\n",
       "                <b>Figure 2:</b> Setup: R=4660Ω C=4.772µF\n",
       "            </div>\n",
       "          </div>\n",
       "        </div>\n",
       "        <br>\n",
       "        "
      ],
      "text/plain": [
       "<IPython.core.display.HTML object>"
      ]
     },
     "metadata": {},
     "output_type": "display_data"
    },
    {
     "data": {
      "text/html": [
       "\n",
       "        <div style=\"width: 19cm; display: flex;\">\n",
       "          <div style=\"width: 9cm; text-align: center;\">\n",
       "            <img src=\"../11_images/setup3.png\" style=\"width: 9cm;\">\n",
       "            <div style=\"width: 9cm; word-wrap: break-word;\">\n",
       "                <b>Figure 3:</b> Setup: Other angle\n",
       "            </div>\n",
       "          </div>\n",
       "          <div style=\"width: 1cm;\"></div>\n",
       "          <div style=\"width: 9cm; text-align: center;\">\n",
       "            <img src=\"../11_images/setup4.png\" style=\"width: 9cm;\">\n",
       "            <div style=\"width: 9cm; word-wrap: break-word;\">\n",
       "                <b>Figure 4:</b> RL (load) = 4646Ω ON/OFF\n",
       "            </div>\n",
       "          </div>\n",
       "        </div>\n",
       "        <br>\n",
       "        "
      ],
      "text/plain": [
       "<IPython.core.display.HTML object>"
      ]
     },
     "metadata": {},
     "output_type": "display_data"
    },
    {
     "data": {
      "text/html": [
       "\n",
       "        <div style=\"width: 19cm; display: flex;\">\n",
       "          <div style=\"width: 9cm; text-align: center;\">\n",
       "            <img src=\"../11_images/setup5.png\" style=\"width: 9cm;\">\n",
       "            <div style=\"width: 9cm; word-wrap: break-word;\">\n",
       "                <b>Figure 5:</b> First order system To= RC= 22.24ms\n",
       "            </div>\n",
       "          </div>\n",
       "          <div style=\"width: 1cm;\"></div>\n",
       "          <div style=\"width: 9cm; text-align: center;\">\n",
       "            <img src=\"../11_images/setup6.png\" style=\"width: 9cm;\">\n",
       "            <div style=\"width: 9cm; word-wrap: break-word;\">\n",
       "                <b>Figure 6:</b> Setup with oscilloscope and RL\n",
       "            </div>\n",
       "          </div>\n",
       "        </div>\n",
       "        <br>\n",
       "        "
      ],
      "text/plain": [
       "<IPython.core.display.HTML object>"
      ]
     },
     "metadata": {},
     "output_type": "display_data"
    }
   ],
   "source": [
    "\n",
    "fig_counter = 1  # Global figure counter\n",
    "first_part_path = \"../11_images/\"\n",
    "for i in range(0,len (figs),2):\n",
    "\n",
    "    show_figure_pair_with_captions(\n",
    "        figs[i],\n",
    "        captions_list[i],\n",
    "        figs[i+1],\n",
    "        captions_list[i+1], \n",
    "        first_part_path= first_part_path, \n",
    "    )"
   ]
  },
  {
   "cell_type": "code",
   "execution_count": null,
   "id": "b7f63ee5-2a23-4c91-8cc0-732f8c37ec8f",
   "metadata": {},
   "outputs": [],
   "source": []
  },
  {
   "cell_type": "markdown",
   "id": "e98448e8-6e93-4884-a4d7-a13bf86f5b41",
   "metadata": {},
   "source": [
    "## Continuous (non-stopping) PI controller"
   ]
  },
  {
   "cell_type": "code",
   "execution_count": null,
   "id": "34fee55d-3b29-4c77-9376-95cd48d43816",
   "metadata": {},
   "outputs": [],
   "source": []
  },
  {
   "cell_type": "markdown",
   "id": "ab767d3d-7e35-4b0c-9ffa-7947fdab5ef1",
   "metadata": {},
   "source": [
    "The ESP32 is configured to generate a 100 kHz PWM signal, while the capacitor voltage is measured via the ADC2. The results of this test are shown below. The combined ADC sampling and data storage time is approximately 32 µs."
   ]
  },
  {
   "cell_type": "markdown",
   "id": "149102e0-beeb-4f28-99e2-4acece68ff2b",
   "metadata": {},
   "source": [
    "The raw data obtained from the serial communication interface of the ESP32:"
   ]
  },
  {
   "cell_type": "code",
   "execution_count": 144,
   "id": "737ad4b4-b271-4b55-801e-f6095770d5ae",
   "metadata": {},
   "outputs": [
    {
     "data": {
      "text/html": [
       "<div>\n",
       "<style scoped>\n",
       "    .dataframe tbody tr th:only-of-type {\n",
       "        vertical-align: middle;\n",
       "    }\n",
       "\n",
       "    .dataframe tbody tr th {\n",
       "        vertical-align: top;\n",
       "    }\n",
       "\n",
       "    .dataframe thead th {\n",
       "        text-align: right;\n",
       "    }\n",
       "</style>\n",
       "<table border=\"1\" class=\"dataframe\">\n",
       "  <thead>\n",
       "    <tr style=\"text-align: right;\">\n",
       "      <th></th>\n",
       "      <th>t</th>\n",
       "      <th>v</th>\n",
       "    </tr>\n",
       "  </thead>\n",
       "  <tbody>\n",
       "    <tr>\n",
       "      <th>0</th>\n",
       "      <td>1872132.0</td>\n",
       "      <td>0.0</td>\n",
       "    </tr>\n",
       "    <tr>\n",
       "      <th>1</th>\n",
       "      <td>1872164.0</td>\n",
       "      <td>0.0</td>\n",
       "    </tr>\n",
       "    <tr>\n",
       "      <th>2</th>\n",
       "      <td>1872195.0</td>\n",
       "      <td>0.0</td>\n",
       "    </tr>\n",
       "    <tr>\n",
       "      <th>3</th>\n",
       "      <td>1872226.0</td>\n",
       "      <td>0.0</td>\n",
       "    </tr>\n",
       "    <tr>\n",
       "      <th>4</th>\n",
       "      <td>1872257.0</td>\n",
       "      <td>0.0</td>\n",
       "    </tr>\n",
       "    <tr>\n",
       "      <th>...</th>\n",
       "      <td>...</td>\n",
       "      <td>...</td>\n",
       "    </tr>\n",
       "    <tr>\n",
       "      <th>9995</th>\n",
       "      <td>2184244.0</td>\n",
       "      <td>689.0</td>\n",
       "    </tr>\n",
       "    <tr>\n",
       "      <th>9996</th>\n",
       "      <td>2184275.0</td>\n",
       "      <td>688.0</td>\n",
       "    </tr>\n",
       "    <tr>\n",
       "      <th>9997</th>\n",
       "      <td>2184306.0</td>\n",
       "      <td>689.0</td>\n",
       "    </tr>\n",
       "    <tr>\n",
       "      <th>9998</th>\n",
       "      <td>2184337.0</td>\n",
       "      <td>689.0</td>\n",
       "    </tr>\n",
       "    <tr>\n",
       "      <th>9999</th>\n",
       "      <td>2184368.0</td>\n",
       "      <td>689.0</td>\n",
       "    </tr>\n",
       "  </tbody>\n",
       "</table>\n",
       "<p>10000 rows × 2 columns</p>\n",
       "</div>"
      ],
      "text/plain": [
       "              t      v\n",
       "0     1872132.0    0.0\n",
       "1     1872164.0    0.0\n",
       "2     1872195.0    0.0\n",
       "3     1872226.0    0.0\n",
       "4     1872257.0    0.0\n",
       "...         ...    ...\n",
       "9995  2184244.0  689.0\n",
       "9996  2184275.0  688.0\n",
       "9997  2184306.0  689.0\n",
       "9998  2184337.0  689.0\n",
       "9999  2184368.0  689.0\n",
       "\n",
       "[10000 rows x 2 columns]"
      ]
     },
     "execution_count": 144,
     "metadata": {},
     "output_type": "execute_result"
    }
   ],
   "source": [
    "path = \"../00_DRAFT/df.csv\"\n",
    "df = pd.read_csv(path)\n",
    "df[[\"t\",\"v\"]]"
   ]
  },
  {
   "cell_type": "code",
   "execution_count": 145,
   "id": "307aa486-8fc6-4587-94e8-f06c42af2ea6",
   "metadata": {},
   "outputs": [
    {
     "data": {
      "image/png": "[encoded data removed]",
      "text/plain": [
       "<Figure size 640x480 with 1 Axes>"
      ]
     },
     "metadata": {},
     "output_type": "display_data"
    }
   ],
   "source": [
    "path = \"../00_DRAFT/df.csv\"\n",
    "df = pd.read_csv(path)\n",
    "\n",
    "df.t= df.t-df.t.iloc[0]\n",
    "df.t= df.t*1e-6\n",
    "\n",
    "df.plot(x= \"t\", y=\"v\", label= \"ESP32 ADC measurements\")\n",
    "plt.xlabel(\"time (s)\")\n",
    "plt.ylabel(\"ADC raw read\")\n",
    "\n",
    "\n",
    "df2= df[df.v>2]\n",
    "t= df2.t\n",
    "t2= t-t.iloc[0]\n",
    "E= df2.v[9000: ].mean()\n",
    "y= E*(1-np.exp(-t2/To))\n",
    "plt.plot(\n",
    "    t, y, linestyle=\"--\",\n",
    "    label=r\"Theoretical $v(t) = E \\cdot \\left(1 - e^{-\\frac{(t-t_0)}{T_0}}\\right)$\"\n",
    ")\n",
    "plt.title(\"Measurement of the RC Circuit Response to a Step Input PWM\")\n",
    "\n",
    "plt.legend()\n",
    "plt.grid()"
   ]
  },
  {
   "cell_type": "markdown",
   "id": "a1e9ce27-ada6-4875-90a8-2c4f57ee1134",
   "metadata": {},
   "source": [
    "We can see that the RC system closely matches the theoretical first-order system."
   ]
  },
  {
   "cell_type": "markdown",
   "id": "2c8fc58e-bae0-4152-93f4-b2f21cbfe8db",
   "metadata": {},
   "source": [
    "### The C implementation of a continuous (non-stopping) PI controller"
   ]
  },
  {
   "cell_type": "markdown",
   "id": "8997abc3-e9d1-443a-b93a-876e44dd4c77",
   "metadata": {},
   "source": [
    "```c\n",
    "#include <stdio.h>\n",
    "#include <stdint.h>\n",
    "#include <math.h>\n",
    "#include \"esp_err.h\"\n",
    "#include \"esp_timer.h\"\n",
    "#include \"driver/ledc.h\"\n",
    "#include \"driver/adc.h\"\n",
    "#include \"esp_rom_sys.h\"\n",
    "#include \"driver/gpio.h\"\n",
    "#include \"esp_task_wdt.h\"\n",
    "\n",
    "\n",
    "// ----------------- Pins -----------------\n",
    "#define ADC_PIN_CH   ADC2_CHANNEL_6    // GPIO14 (ADC2)\n",
    "// GPIO14 (ADC2) can be perturbed by wifi, prefere ADC1\n",
    "#define PWM_GPIO     25                // PWM output (LEDC)\n",
    "#define GPIO_TRIGGER      33\n",
    "\n",
    "// ----------------- Targets & scaling -----------------\n",
    "// v_target: desired RC output voltage (in volts)\n",
    "static float v_target = 2.0f;         // volts\n",
    "\n",
    "// Convert raw ADC (12-bit) to volts for ADC2 @ 11 dB (~0..3.3 V)\n",
    "\n",
    "static const float ADC_SCALE = 3.3f / 4095.0f;       // raw -> volts\n",
    "\n",
    "\n",
    "\n",
    "\n",
    "\n",
    "// ----------------- PI controller (as-is) -----------------\n",
    "static const float To = 0.0222f;   // RC time constant (s)\n",
    "static const float n  = 3.0f;      // close loop will be 3 times more fast \n",
    "static float integral  = 0.0f;\n",
    "static float integral_ = 0.0f;\n",
    "static const int Ts_us = 100;  // step time : sampling time \n",
    "\n",
    "static float PI_cont(float v_tgt, float v_meas_in) {\n",
    "    // PI WITH Anti-windup logic\n",
    "\n",
    "    const float Kp = n;\n",
    "    const float Ki = Kp / To;\n",
    "\n",
    "    float PI_out_upper = 1.0f;\n",
    "    float PI_out_lower = 0.0f;\n",
    "    float PI_out;\n",
    "    //   this is Backward Euler (more stable than the forward)\n",
    "    float e = v_tgt - v_meas_in;\n",
    "    integral_ = integral + e * Ts_us*1e-6f;\n",
    "    PI_out = Kp * e + Ki * integral_;\n",
    "    // Backward Euler integrator uses current error:\n",
    "    // I[k] = I[k−1] + Ts * e[k]\n",
    "    // Forward Euler would use the previous error:\n",
    "    // I[k] = I[k−1] + Ts * e[k−1]\n",
    "    // Tustin would use the average of the current and previous errors:\n",
    "    // I[k] = I[k−1] + Ts * (e[k] + e[k−1]) / 2\n",
    "\n",
    "    // Clamp (preserves your original logic incl. integral_)\n",
    "    if (PI_out > PI_out_upper) {\n",
    "        return PI_out_upper;\n",
    "    } else if (PI_out < PI_out_lower) {\n",
    "        return PI_out_lower;\n",
    "    } \n",
    "\n",
    "    integral = integral_;\n",
    "    \n",
    "    return PI_out;\n",
    "}\n",
    "\n",
    "\n",
    "\n",
    "\n",
    "volatile bool level = false;\n",
    "void step_run() {\n",
    "    // Measure RC output (volts)\n",
    "    int raw = 0;\n",
    "    // adc_width is implicit for adc2_get_raw -> 12 bits in IDF v4.x\n",
    "    ESP_ERROR_CHECK(adc2_get_raw(ADC_PIN_CH, ADC_WIDTH_BIT_12, &raw));\n",
    "    float v_meas = raw * ADC_SCALE;   // volts\n",
    "\n",
    "    // PI control\n",
    "    float u = PI_cont(v_target, v_meas);\n",
    "\n",
    "    // Duty 8-bit\n",
    "    int duty = (int)lroundf(u * 255.0f);\n",
    "    if (duty < 0)   duty = 0;\n",
    "    if (duty > 255) duty = 255;\n",
    "\n",
    "    // Apply PWM\n",
    "    ESP_ERROR_CHECK(ledc_set_duty(LEDC_LOW_SPEED_MODE, LEDC_CHANNEL_0, duty));\n",
    "    ESP_ERROR_CHECK(ledc_update_duty(LEDC_LOW_SPEED_MODE, LEDC_CHANNEL_0));\n",
    "\n",
    "\n",
    "    gpio_set_level(GPIO_TRIGGER, level);\n",
    "    level = !level;\n",
    "}\n",
    "\n",
    "void pwm_init(){\n",
    "    // ===== Configure LEDC PWM: 100 kHz, 8-bit, GPIO25 =====\n",
    "    ledc_timer_config_t tcfg = {\n",
    "        .speed_mode       = LEDC_LOW_SPEED_MODE,\n",
    "        .duty_resolution  = (ledc_timer_bit_t)8, // 8-bit\n",
    "        .timer_num        = LEDC_TIMER_0,\n",
    "        .freq_hz          = 100000,//100kHz\n",
    "        .clk_cfg          = LEDC_AUTO_CLK,\n",
    "    };\n",
    "    ESP_ERROR_CHECK(ledc_timer_config(&tcfg));\n",
    "\n",
    "    ledc_channel_config_t ccfg = {\n",
    "        .gpio_num   = PWM_GPIO,\n",
    "        .speed_mode = LEDC_LOW_SPEED_MODE,\n",
    "        .channel    = LEDC_CHANNEL_0,\n",
    "        .intr_type  = LEDC_INTR_DISABLE,\n",
    "        .timer_sel  = LEDC_TIMER_0,\n",
    "        .duty       = 0,\n",
    "        .hpoint     = 0,\n",
    "        .flags.output_invert = 0,\n",
    "    };\n",
    "\n",
    "    ESP_ERROR_CHECK(ledc_channel_config(&ccfg));\n",
    "}\n",
    "\n",
    "\n",
    "// ----------------- app_main -----------------\n",
    "void app_main(void)\n",
    "{\n",
    "    // Disable Task Watchdog globally : if we don't make this\n",
    "    // the MUC restart each 10s \n",
    "    #ifdef CONFIG_ESP_TASK_WDT\n",
    "    esp_task_wdt_deinit();\n",
    "    #endif\n",
    "\n",
    "\n",
    "    pwm_init();\n",
    "    // ===== Configure ADC2: GPIO14, 11 dB, 12-bit =====\n",
    "    // Note: ADC2 unavailable when Wi-Fi is active.\n",
    "    ESP_ERROR_CHECK(adc2_config_channel_atten(ADC_PIN_CH, ADC_ATTEN_DB_11));\n",
    "\n",
    "\n",
    "    // GPIO trigger (debug pin)\n",
    "    gpio_reset_pin(GPIO_TRIGGER);\n",
    "    gpio_set_direction(GPIO_TRIGGER, GPIO_MODE_OUTPUT);\n",
    "\n",
    "\n",
    "    // Before your sampling loop INITIALIZE THE CAPACITOR\n",
    "    ESP_ERROR_CHECK(ledc_set_duty(LEDC_LOW_SPEED_MODE, LEDC_CHANNEL_0, 0));\n",
    "    ESP_ERROR_CHECK(ledc_update_duty(LEDC_LOW_SPEED_MODE, LEDC_CHANNEL_0));\n",
    "\n",
    "    // Wait ~5 tau (5*To = 5*22.2 ms ≈ 111 ms)\n",
    "    //esp_rom_delay_us(120000);  // 120 ms, blocks CPU (no RTOS tick)\n",
    "    esp_rom_delay_us(1200000);  // 1200 ms, blocks CPU (no RTOS tick)\n",
    "\n",
    "\n",
    "    // ===== Sampling loop =====\n",
    "\n",
    "    while(1) {\n",
    "        uint32_t t_now = esp_timer_get_time();\n",
    "\n",
    "        step_run();\n",
    "\n",
    "        // ~100 µs pacing (busy wait), like your sketch\n",
    "        while (esp_timer_get_time() < (t_now + Ts_us)) {\n",
    "            // spin\n",
    "        }\n",
    "    }\n",
    "\n",
    "\n",
    "}\n",
    "\n",
    "```"
   ]
  },
  {
   "cell_type": "code",
   "execution_count": null,
   "id": "1f2d11d9-5284-4ea2-b106-496aec02e2f0",
   "metadata": {},
   "outputs": [],
   "source": []
  },
  {
   "cell_type": "markdown",
   "id": "e1872bc9-5507-4482-a8cc-950eac6e8b9f",
   "metadata": {},
   "source": [
    "### Oscilloscope Measurements and Validation"
   ]
  },
  {
   "cell_type": "code",
   "execution_count": 146,
   "id": "ec5dd9be-51d2-451c-a93d-ad5feabd7357",
   "metadata": {},
   "outputs": [],
   "source": [
    "captions_list = [\n",
    "\"Low frequancy 73kHz\", \n",
    "\"High frequancy 156kHz\", \n",
    "\"Transition high to low frequencies: Freq before\",\n",
    "\"Transition high to low frequencies: Freq after\", \n",
    "\"Transition low to high frequencies: Freq before\",\n",
    "\"Transition low to high frequencies: Freq after\", \n",
    "\"Dead time ~25ns, in low freq, CH1 rise\", \n",
    "\"Dead time ~25ns, in low freq, CH1 fall\", \n",
    "\"Dead time ~25ns, in the transition\", \n",
    "\"Dead time ~25ns, in high freq, CHA fall\", \n",
    "\"Dead time ~25ns, in high freq, CHA rise\", \n",
    "\"zoom of the dead time\", \n",
    "\"The signal overshoot of CH2\",\n",
    "\"overview of the overshoots\", \n",
    "\"ttt\"]"
   ]
  },
  {
   "cell_type": "code",
   "execution_count": 147,
   "id": "85dc771d-4e51-43c1-9c48-ae50768d367a",
   "metadata": {},
   "outputs": [],
   "source": [
    "figs =[\n",
    "\"01_start.png\", \n",
    "\"01_sw_on_RL.png\", \n",
    "\"01_sw_off_RL.png\", \n",
    "\"01_sw_2onoff_RL.png\", \n",
    "]"
   ]
  },
  {
   "cell_type": "code",
   "execution_count": 148,
   "id": "472633c6-02d0-4e8c-b47f-42fbb39a38f7",
   "metadata": {},
   "outputs": [
    {
     "data": {
      "text/html": [
       "\n",
       "        <div style=\"width: 19cm; display: flex;\">\n",
       "          <div style=\"width: 9cm; text-align: center;\">\n",
       "            <img src=\"../10_Data_And_Osciloscope/07_continue_PI_oscillo/01_start.png\" style=\"width: 9cm;\">\n",
       "            <div style=\"width: 9cm; word-wrap: break-word;\">\n",
       "                <b>Figure 7:</b> Low frequancy 73kHz\n",
       "            </div>\n",
       "          </div>\n",
       "          <div style=\"width: 1cm;\"></div>\n",
       "          <div style=\"width: 9cm; text-align: center;\">\n",
       "            <img src=\"../10_Data_And_Osciloscope/07_continue_PI_oscillo/01_sw_on_RL.png\" style=\"width: 9cm;\">\n",
       "            <div style=\"width: 9cm; word-wrap: break-word;\">\n",
       "                <b>Figure 8:</b> High frequancy 156kHz\n",
       "            </div>\n",
       "          </div>\n",
       "        </div>\n",
       "        <br>\n",
       "        "
      ],
      "text/plain": [
       "<IPython.core.display.HTML object>"
      ]
     },
     "metadata": {},
     "output_type": "display_data"
    },
    {
     "data": {
      "text/html": [
       "\n",
       "        <div style=\"width: 19cm; display: flex;\">\n",
       "          <div style=\"width: 9cm; text-align: center;\">\n",
       "            <img src=\"../10_Data_And_Osciloscope/07_continue_PI_oscillo/01_sw_off_RL.png\" style=\"width: 9cm;\">\n",
       "            <div style=\"width: 9cm; word-wrap: break-word;\">\n",
       "                <b>Figure 9:</b> Transition high to low frequencies: Freq before\n",
       "            </div>\n",
       "          </div>\n",
       "          <div style=\"width: 1cm;\"></div>\n",
       "          <div style=\"width: 9cm; text-align: center;\">\n",
       "            <img src=\"../10_Data_And_Osciloscope/07_continue_PI_oscillo/01_sw_2onoff_RL.png\" style=\"width: 9cm;\">\n",
       "            <div style=\"width: 9cm; word-wrap: break-word;\">\n",
       "                <b>Figure 10:</b> Transition high to low frequencies: Freq after\n",
       "            </div>\n",
       "          </div>\n",
       "        </div>\n",
       "        <br>\n",
       "        "
      ],
      "text/plain": [
       "<IPython.core.display.HTML object>"
      ]
     },
     "metadata": {},
     "output_type": "display_data"
    }
   ],
   "source": [
    "#fig_counter = 1  # Global figure counter\n",
    "first_part_path = \"../10_Data_And_Osciloscope/07_continue_PI_oscillo/\"\n",
    "for i in range(0,len (figs),2):\n",
    "\n",
    "    show_figure_pair_with_captions(\n",
    "        figs[i],\n",
    "        captions_list[i],\n",
    "        figs[i+1],\n",
    "        captions_list[i+1], \n",
    "        first_part_path= first_part_path, \n",
    "    )"
   ]
  },
  {
   "cell_type": "code",
   "execution_count": null,
   "id": "e0ca3ee9-22cf-44ac-b166-c391e00b6282",
   "metadata": {},
   "outputs": [],
   "source": []
  },
  {
   "cell_type": "code",
   "execution_count": null,
   "id": "a7bc8c9f-7824-4f79-8c80-b9d1c7dd4768",
   "metadata": {},
   "outputs": [],
   "source": []
  },
  {
   "cell_type": "code",
   "execution_count": null,
   "id": "367d4e24-e278-4ac2-9bad-84720b2a8ce9",
   "metadata": {},
   "outputs": [],
   "source": []
  },
  {
   "cell_type": "markdown",
   "id": "718a058e-40c7-47f0-991a-cdf36c6fdd3a",
   "metadata": {},
   "source": [
    "# END"
   ]
  },
  {
   "cell_type": "code",
   "execution_count": null,
   "id": "9e973aa5-b3fa-40dd-996c-aa2a82e76633",
   "metadata": {},
   "outputs": [],
   "source": []
  }
 ],
 "metadata": {
  "kernelspec": {
   "display_name": "kernel_venv1",
   "language": "python",
   "name": "kernel_venv1"
  },
  "language_info": {
   "codemirror_mode": {
    "name": "ipython",
    "version": 3
   },
   "file_extension": ".py",
   "mimetype": "text/x-python",
   "name": "python",
   "nbconvert_exporter": "python",
   "pygments_lexer": "ipython3",
   "version": "3.13.5"
  }
 },
 "nbformat": 4,
 "nbformat_minor": 5
}
