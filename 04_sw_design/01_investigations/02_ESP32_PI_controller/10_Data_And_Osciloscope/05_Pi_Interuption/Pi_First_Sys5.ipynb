{
 "cells": [
  {
   "cell_type": "code",
   "execution_count": 1,
   "id": "26ef821b-8141-412d-a338-9b8b57dfeb18",
   "metadata": {},
   "outputs": [],
   "source": [
    "import matplotlib.pyplot as plt \n",
    "import numpy as np"
   ]
  },
  {
   "cell_type": "code",
   "execution_count": 2,
   "id": "61054aa0-6ed9-47f1-9f85-c25e9d67f4ae",
   "metadata": {},
   "outputs": [
    {
     "data": {
      "text/plain": [
       "0.02223752"
      ]
     },
     "execution_count": 2,
     "metadata": {},
     "output_type": "execute_result"
    }
   ],
   "source": [
    "R=4660#meas\n",
    "C=4.772e-6# nom 4.7uF\n",
    "To=R*C\n",
    "To"
   ]
  },
  {
   "cell_type": "code",
   "execution_count": null,
   "id": "658c5820-3446-4563-8723-55c9b223d964",
   "metadata": {},
   "outputs": [],
   "source": []
  },
  {
   "cell_type": "code",
   "execution_count": null,
   "id": "9b9aa6de-6f03-4bcc-844f-9cafa8b18cbb",
   "metadata": {},
   "outputs": [],
   "source": []
  },
  {
   "cell_type": "code",
   "execution_count": 3,
   "id": "46f2e5cc-647d-4da1-9894-fc64ec902c74",
   "metadata": {},
   "outputs": [],
   "source": [
    "import serial\n",
    "import time\n",
    "import matplotlib.pyplot as plt \n",
    "import numpy as np\n",
    "def Get_Data(port = 'COM5', bps= 115200):\n",
    "    # Replace 'COM3' with your Arduino port (on Linux it may be '/dev/ttyUSB0')\n",
    "    ser = serial.Serial(port, bps, timeout=1)  # baud rate must match Arduino\n",
    "    time.sleep(2)  # wait for Arduino reset\n",
    "    arr=[]\n",
    "    \n",
    "    \n",
    "    # Send '#' to Arduino\n",
    "    ser.write(b\"#\")  # sends the byte '#' to Arduino\n",
    "    \n",
    "    \n",
    "    try:\n",
    "        while True:\n",
    "            line = ser.readline().decode('utf-8').strip()  # read a line\n",
    "            if line:\n",
    "                #print(line)\n",
    "                arr.append(line)\n",
    "            if \"END\" in line:\n",
    "                break\n",
    "    except KeyboardInterrupt:\n",
    "        ser.close()\n",
    "    \n",
    "    \n",
    "    ser.close()\n",
    "    return ser, arr "
   ]
  },
  {
   "cell_type": "raw",
   "id": "d3787456-ed7d-4f1e-880b-96755dec2fee",
   "metadata": {},
   "source": [
    "port = 'COM5'\n",
    "bps= 115200\n",
    "ser = serial.Serial(port, bps, timeout=1)"
   ]
  },
  {
   "cell_type": "raw",
   "id": "6df5b190-18fa-44da-860a-b963d6053799",
   "metadata": {},
   "source": [
    "ser.close()"
   ]
  },
  {
   "cell_type": "raw",
   "id": "8c9111bc-df9b-4a06-95c1-87e792424177",
   "metadata": {},
   "source": []
  },
  {
   "cell_type": "code",
   "execution_count": 4,
   "id": "7f306ef3-5035-48ba-9965-8a62ef77571b",
   "metadata": {},
   "outputs": [],
   "source": [
    "import pandas as pd \n",
    "def arr_to_df(arr, cols = None):\n",
    "    arr2= []\n",
    "    start = False \n",
    "    for x in arr:\n",
    "        if \"##START\" in x: \n",
    "            start = True \n",
    "            continue \n",
    "        if not start: \n",
    "            continue \n",
    "        if x==\"END\": \n",
    "            break \n",
    "        try: \n",
    "            vals= x.split('\\t')\n",
    "            if vals[0] ==\"#data\":\n",
    "                arr2.append(np.array(vals[1:]).astype(\"int\"))\n",
    "        except: \n",
    "            pass\n",
    "    if cols is None: \n",
    "        df = pd.DataFrame(arr2)\n",
    "    else : \n",
    "        df = pd.DataFrame(arr2, columns = cols)\n",
    "    return df\n",
    "        "
   ]
  },
  {
   "cell_type": "code",
   "execution_count": 8,
   "id": "67409f71-84a6-40ea-969f-1aab82b8e827",
   "metadata": {},
   "outputs": [
    {
     "ename": "TypeError",
     "evalue": "no numeric data to plot",
     "output_type": "error",
     "traceback": [
      "\u001b[31m---------------------------------------------------------------------------\u001b[39m",
      "\u001b[31mTypeError\u001b[39m                                 Traceback (most recent call last)",
      "\u001b[36mCell\u001b[39m\u001b[36m \u001b[39m\u001b[32mIn[8]\u001b[39m\u001b[32m, line 4\u001b[39m\n\u001b[32m      2\u001b[39m ser.close()\n\u001b[32m      3\u001b[39m df = arr_to_df(arr, cols =[\u001b[33m\"\u001b[39m\u001b[33mt\u001b[39m\u001b[33m\"\u001b[39m, \u001b[33m\"\u001b[39m\u001b[33mv\u001b[39m\u001b[33m\"\u001b[39m])\n\u001b[32m----> \u001b[39m\u001b[32m4\u001b[39m \u001b[43mdf\u001b[49m\u001b[43m.\u001b[49m\u001b[43mplot\u001b[49m\u001b[43m(\u001b[49m\u001b[43mx\u001b[49m\u001b[43m=\u001b[49m\u001b[33;43m\"\u001b[39;49m\u001b[33;43mt\u001b[39;49m\u001b[33;43m\"\u001b[39;49m\u001b[43m,\u001b[49m\u001b[43m \u001b[49m\u001b[43my\u001b[49m\u001b[43m=\u001b[49m\u001b[33;43m\"\u001b[39;49m\u001b[33;43mv\u001b[39;49m\u001b[33;43m\"\u001b[39;49m\u001b[43m)\u001b[49m\n",
      "\u001b[36mFile \u001b[39m\u001b[32m~\\NotSynchronized\\VirtualEnvs\\venv1\\Lib\\site-packages\\pandas\\plotting\\_core.py:1030\u001b[39m, in \u001b[36mPlotAccessor.__call__\u001b[39m\u001b[34m(self, *args, **kwargs)\u001b[39m\n\u001b[32m   1027\u001b[39m             label_name = label_kw \u001b[38;5;129;01mor\u001b[39;00m data.columns\n\u001b[32m   1028\u001b[39m             data.columns = label_name\n\u001b[32m-> \u001b[39m\u001b[32m1030\u001b[39m \u001b[38;5;28;01mreturn\u001b[39;00m \u001b[43mplot_backend\u001b[49m\u001b[43m.\u001b[49m\u001b[43mplot\u001b[49m\u001b[43m(\u001b[49m\u001b[43mdata\u001b[49m\u001b[43m,\u001b[49m\u001b[43m \u001b[49m\u001b[43mkind\u001b[49m\u001b[43m=\u001b[49m\u001b[43mkind\u001b[49m\u001b[43m,\u001b[49m\u001b[43m \u001b[49m\u001b[43m*\u001b[49m\u001b[43m*\u001b[49m\u001b[43mkwargs\u001b[49m\u001b[43m)\u001b[49m\n",
      "\u001b[36mFile \u001b[39m\u001b[32m~\\NotSynchronized\\VirtualEnvs\\venv1\\Lib\\site-packages\\pandas\\plotting\\_matplotlib\\__init__.py:71\u001b[39m, in \u001b[36mplot\u001b[39m\u001b[34m(data, kind, **kwargs)\u001b[39m\n\u001b[32m     69\u001b[39m         kwargs[\u001b[33m\"\u001b[39m\u001b[33max\u001b[39m\u001b[33m\"\u001b[39m] = \u001b[38;5;28mgetattr\u001b[39m(ax, \u001b[33m\"\u001b[39m\u001b[33mleft_ax\u001b[39m\u001b[33m\"\u001b[39m, ax)\n\u001b[32m     70\u001b[39m plot_obj = PLOT_CLASSES[kind](data, **kwargs)\n\u001b[32m---> \u001b[39m\u001b[32m71\u001b[39m \u001b[43mplot_obj\u001b[49m\u001b[43m.\u001b[49m\u001b[43mgenerate\u001b[49m\u001b[43m(\u001b[49m\u001b[43m)\u001b[49m\n\u001b[32m     72\u001b[39m plot_obj.draw()\n\u001b[32m     73\u001b[39m \u001b[38;5;28;01mreturn\u001b[39;00m plot_obj.result\n",
      "\u001b[36mFile \u001b[39m\u001b[32m~\\NotSynchronized\\VirtualEnvs\\venv1\\Lib\\site-packages\\pandas\\plotting\\_matplotlib\\core.py:499\u001b[39m, in \u001b[36mMPLPlot.generate\u001b[39m\u001b[34m(self)\u001b[39m\n\u001b[32m    497\u001b[39m \u001b[38;5;129m@final\u001b[39m\n\u001b[32m    498\u001b[39m \u001b[38;5;28;01mdef\u001b[39;00m\u001b[38;5;250m \u001b[39m\u001b[34mgenerate\u001b[39m(\u001b[38;5;28mself\u001b[39m) -> \u001b[38;5;28;01mNone\u001b[39;00m:\n\u001b[32m--> \u001b[39m\u001b[32m499\u001b[39m     \u001b[38;5;28;43mself\u001b[39;49m\u001b[43m.\u001b[49m\u001b[43m_compute_plot_data\u001b[49m\u001b[43m(\u001b[49m\u001b[43m)\u001b[49m\n\u001b[32m    500\u001b[39m     fig = \u001b[38;5;28mself\u001b[39m.fig\n\u001b[32m    501\u001b[39m     \u001b[38;5;28mself\u001b[39m._make_plot(fig)\n",
      "\u001b[36mFile \u001b[39m\u001b[32m~\\NotSynchronized\\VirtualEnvs\\venv1\\Lib\\site-packages\\pandas\\plotting\\_matplotlib\\core.py:698\u001b[39m, in \u001b[36mMPLPlot._compute_plot_data\u001b[39m\u001b[34m(self)\u001b[39m\n\u001b[32m    696\u001b[39m \u001b[38;5;66;03m# no non-numeric frames or series allowed\u001b[39;00m\n\u001b[32m    697\u001b[39m \u001b[38;5;28;01mif\u001b[39;00m is_empty:\n\u001b[32m--> \u001b[39m\u001b[32m698\u001b[39m     \u001b[38;5;28;01mraise\u001b[39;00m \u001b[38;5;167;01mTypeError\u001b[39;00m(\u001b[33m\"\u001b[39m\u001b[33mno numeric data to plot\u001b[39m\u001b[33m\"\u001b[39m)\n\u001b[32m    700\u001b[39m \u001b[38;5;28mself\u001b[39m.data = numeric_data.apply(\u001b[38;5;28mtype\u001b[39m(\u001b[38;5;28mself\u001b[39m)._convert_to_ndarray)\n",
      "\u001b[31mTypeError\u001b[39m: no numeric data to plot"
     ]
    }
   ],
   "source": [
    "ser, arr =Get_Data( 'COM5')\n",
    "ser.close()\n",
    "df = arr_to_df(arr, cols =[\"t\", \"v\"])\n",
    "df.plot(x=\"t\", y=\"v\")"
   ]
  },
  {
   "cell_type": "code",
   "execution_count": null,
   "id": "78aec927-58c4-46e7-91b5-057ad9a69a1a",
   "metadata": {},
   "outputs": [],
   "source": [
    "ser.close()"
   ]
  },
  {
   "cell_type": "code",
   "execution_count": null,
   "id": "566eb78b-c738-4eae-b4f4-b84d80bc82db",
   "metadata": {},
   "outputs": [],
   "source": [
    "len(df), len(arr)"
   ]
  },
  {
   "cell_type": "code",
   "execution_count": null,
   "id": "fa814086-c934-4e3f-82ea-0a278f4d9b85",
   "metadata": {},
   "outputs": [],
   "source": [
    "To"
   ]
  },
  {
   "cell_type": "code",
   "execution_count": null,
   "id": "b250b0af-2060-4810-a9bb-7f2f4629b2b3",
   "metadata": {},
   "outputs": [],
   "source": []
  },
  {
   "cell_type": "code",
   "execution_count": null,
   "id": "9c9dde8d-dd18-482b-a8d7-6433dcf0674c",
   "metadata": {},
   "outputs": [],
   "source": [
    "df.plot(x=\"t\", y=\"v\")\n",
    "To = 0.0222\n",
    "plt.plot(df.t, 400*(1-np.exp(-1e-6*df.t*3/To)))"
   ]
  },
  {
   "cell_type": "code",
   "execution_count": null,
   "id": "6a5f061d-0071-44c4-9db6-8a6cad5caecd",
   "metadata": {},
   "outputs": [],
   "source": [
    "df.t.diff()"
   ]
  },
  {
   "cell_type": "code",
   "execution_count": null,
   "id": "43a3e90c-a559-4363-aa7f-4d313a4706f3",
   "metadata": {},
   "outputs": [],
   "source": [
    "df.t.diff().iloc[2:].value_counts()"
   ]
  },
  {
   "cell_type": "code",
   "execution_count": null,
   "id": "56ee4af3-9a29-46b2-bede-389d1bb5cc20",
   "metadata": {},
   "outputs": [],
   "source": [
    "df.head()"
   ]
  },
  {
   "cell_type": "code",
   "execution_count": null,
   "id": "63f0ee88-5b05-421e-8f7f-fd8f7a4358a2",
   "metadata": {},
   "outputs": [],
   "source": [
    "df.to_csv(\"df_V5.csv\")"
   ]
  },
  {
   "cell_type": "code",
   "execution_count": null,
   "id": "4f1945d1-ed70-412f-a824-41cd5aad6cbb",
   "metadata": {},
   "outputs": [],
   "source": []
  },
  {
   "cell_type": "code",
   "execution_count": null,
   "id": "09e7bbff-6c3f-4d71-bdbf-15ce74bc79aa",
   "metadata": {},
   "outputs": [],
   "source": []
  },
  {
   "cell_type": "code",
   "execution_count": null,
   "id": "741f2fcc-640f-467b-8b25-26ac2b7fa9a8",
   "metadata": {},
   "outputs": [],
   "source": []
  },
  {
   "cell_type": "code",
   "execution_count": null,
   "id": "0b3edc58-b7a9-4fbf-b292-7411636d46e3",
   "metadata": {},
   "outputs": [],
   "source": []
  },
  {
   "cell_type": "code",
   "execution_count": null,
   "id": "4bdb9b8f-c88f-41ad-952f-b07128cdb603",
   "metadata": {},
   "outputs": [],
   "source": []
  },
  {
   "cell_type": "code",
   "execution_count": null,
   "id": "a8dce74c-74d1-4c5e-bcdc-2aad3c6d19f7",
   "metadata": {},
   "outputs": [],
   "source": []
  },
  {
   "cell_type": "code",
   "execution_count": null,
   "id": "f87b6ddf-9f50-434f-92ea-fc85fc94d3fe",
   "metadata": {},
   "outputs": [],
   "source": []
  },
  {
   "cell_type": "code",
   "execution_count": null,
   "id": "00ae3637-46c3-461a-8f51-e157b559ae88",
   "metadata": {},
   "outputs": [],
   "source": []
  },
  {
   "cell_type": "code",
   "execution_count": null,
   "id": "09e4f75d-bd2a-4927-a745-83dbabb643b6",
   "metadata": {},
   "outputs": [],
   "source": []
  },
  {
   "cell_type": "code",
   "execution_count": null,
   "id": "b4281dc4-13ae-4fd2-8615-149efb0be24d",
   "metadata": {},
   "outputs": [],
   "source": []
  },
  {
   "cell_type": "code",
   "execution_count": null,
   "id": "deb887a1-47c7-4813-9b72-52710b716548",
   "metadata": {},
   "outputs": [],
   "source": []
  },
  {
   "cell_type": "code",
   "execution_count": null,
   "id": "c328e77b-6d20-4fbe-92a9-7809be6d2b0c",
   "metadata": {},
   "outputs": [],
   "source": []
  }
 ],
 "metadata": {
  "kernelspec": {
   "display_name": "kernel_venv1",
   "language": "python",
   "name": "kernel_venv1"
  },
  "language_info": {
   "codemirror_mode": {
    "name": "ipython",
    "version": 3
   },
   "file_extension": ".py",
   "mimetype": "text/x-python",
   "name": "python",
   "nbconvert_exporter": "python",
   "pygments_lexer": "ipython3",
   "version": "3.13.5"
  }
 },
 "nbformat": 4,
 "nbformat_minor": 5
}
