{
 "cells": [
  {
   "cell_type": "code",
   "execution_count": 8,
   "id": "59a75770-6711-45d9-ad43-a6ba9f5db56b",
   "metadata": {},
   "outputs": [],
   "source": [
    "################## Thsi will be not explorted in PDF juste for internal pre-processing\n",
    "\n",
    "from IPython.display import display, HTML\n",
    "\n",
    "\n",
    "def show_figure_pair_with_captions(img1, caption1, img2=None, caption2=None, first_part_path=None):\n",
    "    \n",
    "    img1 = first_part_path+img1\n",
    "    global fig_counter\n",
    "    if not img2 is None: \n",
    "        img2 = first_part_path+img2\n",
    "        html = f\"\"\"\n",
    "        <div style=\"width: 19cm; display: flex;\">\n",
    "          <div style=\"width: 9cm; text-align: center;\">\n",
    "            <img src=\"{img1}\" style=\"width: 9cm;\">\n",
    "            <div style=\"width: 9cm; word-wrap: break-word;\">\n",
    "                <b>Figure {fig_counter}:</b> {caption1}\n",
    "            </div>\n",
    "          </div>\n",
    "          <div style=\"width: 1cm;\"></div>\n",
    "          <div style=\"width: 9cm; text-align: center;\">\n",
    "            <img src=\"{img2}\" style=\"width: 9cm;\">\n",
    "            <div style=\"width: 9cm; word-wrap: break-word;\">\n",
    "                <b>Figure {fig_counter + 1}:</b> {caption2}\n",
    "            </div>\n",
    "          </div>\n",
    "        </div>\n",
    "        <br>\n",
    "        \"\"\"\n",
    "    else: \n",
    "        html = f\"\"\"\n",
    "        <div style=\"width: 19cm; display: flex;\">\n",
    "          <div style=\"width: 9cm; text-align: center;\">\n",
    "            <img src=\"{img1}\" style=\"width: 9cm;\">\n",
    "            <div style=\"width: 9cm; word-wrap: break-word;\">\n",
    "                <b>Figure {fig_counter}:</b> {caption1}\n",
    "            </div>\n",
    "          </div>\n",
    "          <div style=\"width: 1cm;\"></div>\n",
    "          <div style=\"width: 9cm; text-align: center;\">\n",
    "\n",
    "          </div>\n",
    "        </div>\n",
    "        <br>\n",
    "        \"\"\"\n",
    "    fig_counter += 2\n",
    "    display(HTML(html))\n"
   ]
  },
  {
   "cell_type": "markdown",
   "id": "dec22517-2e1b-4972-8c4d-2777b51f3c49",
   "metadata": {
    "id": "ytFJy9qfVGcl"
   },
   "source": [
    "# Half-bridge PWM control with the ESP32<a class=\"title_class\" id=\"title_1\"></a>"
   ]
  },
  {
   "cell_type": "markdown",
   "id": "1f6b98d3-969e-4e65-a00c-41af585559ec",
   "metadata": {},
   "source": [
    "## Table of contents\n",
    "* [Voltage Gain – Theoretical Overview](#title_2)\n",
    "* [Inputs and Specifications](#title_3)\n",
    "* [Transfo ratio and Voltage Gain](#title_4)\n",
    "* [Lm, Lr, Cr tank](#title_5)\n",
    "* [References <a id=\"referencesID\"></a>  ](#title_7)"
   ]
  },
  {
   "cell_type": "code",
   "execution_count": null,
   "id": "307aa486-8fc6-4587-94e8-f06c42af2ea6",
   "metadata": {},
   "outputs": [],
   "source": []
  },
  {
   "cell_type": "markdown",
   "id": "754d8a51-38c6-4b6e-8f98-866221b7dbe1",
   "metadata": {},
   "source": [
    "## Test Setup"
   ]
  },
  {
   "cell_type": "markdown",
   "id": "1a5daed7-447e-4bb9-aaab-0248a80f1a21",
   "metadata": {},
   "source": [
    "To reduce inductance, i use coaxial cables to connect the gpios to the oscilloscope: See below"
   ]
  },
  {
   "cell_type": "code",
   "execution_count": 5,
   "id": "f4d1baf7-fa1d-44b2-beaf-3472e235dc4f",
   "metadata": {},
   "outputs": [],
   "source": [
    "captions_list = [\"The setup\", \n",
    "\"The ESP32-S3 mini\", \n",
    "\"ESP32 with the coaxial cables\", \n",
    "\"The coaxial cable winding\",\n",
    "\"Other view of the ESP32 + cables\", \n",
    "None ]"
   ]
  },
  {
   "cell_type": "code",
   "execution_count": 6,
   "id": "6a0930bb-de65-4bdc-9739-cdcf7b4098fc",
   "metadata": {},
   "outputs": [],
   "source": [
    "figs = ['setup1.jpg', 'setup2.jpg', 'setup3.jpg', 'setup4.jpg', 'setup5.jpg', None]"
   ]
  },
  {
   "cell_type": "code",
   "execution_count": null,
   "id": "8c6953ce-d6d8-46c7-af43-63e342118e4e",
   "metadata": {},
   "outputs": [],
   "source": []
  },
  {
   "cell_type": "code",
   "execution_count": 9,
   "id": "00bc6f9d-9ffe-4610-bf4c-365ad1bfa86d",
   "metadata": {},
   "outputs": [
    {
     "data": {
      "text/html": [
       "\n",
       "        <div style=\"width: 19cm; display: flex;\">\n",
       "          <div style=\"width: 9cm; text-align: center;\">\n",
       "            <img src=\"../02_setupe/setup1.jpg\" style=\"width: 9cm;\">\n",
       "            <div style=\"width: 9cm; word-wrap: break-word;\">\n",
       "                <b>Figure 1:</b> The setup\n",
       "            </div>\n",
       "          </div>\n",
       "          <div style=\"width: 1cm;\"></div>\n",
       "          <div style=\"width: 9cm; text-align: center;\">\n",
       "            <img src=\"../02_setupe/setup2.jpg\" style=\"width: 9cm;\">\n",
       "            <div style=\"width: 9cm; word-wrap: break-word;\">\n",
       "                <b>Figure 2:</b> The ESP32-S3 mini\n",
       "            </div>\n",
       "          </div>\n",
       "        </div>\n",
       "        <br>\n",
       "        "
      ],
      "text/plain": [
       "<IPython.core.display.HTML object>"
      ]
     },
     "metadata": {},
     "output_type": "display_data"
    },
    {
     "data": {
      "text/html": [
       "\n",
       "        <div style=\"width: 19cm; display: flex;\">\n",
       "          <div style=\"width: 9cm; text-align: center;\">\n",
       "            <img src=\"../02_setupe/setup3.jpg\" style=\"width: 9cm;\">\n",
       "            <div style=\"width: 9cm; word-wrap: break-word;\">\n",
       "                <b>Figure 3:</b> ESP32 with the coaxial cables\n",
       "            </div>\n",
       "          </div>\n",
       "          <div style=\"width: 1cm;\"></div>\n",
       "          <div style=\"width: 9cm; text-align: center;\">\n",
       "            <img src=\"../02_setupe/setup4.jpg\" style=\"width: 9cm;\">\n",
       "            <div style=\"width: 9cm; word-wrap: break-word;\">\n",
       "                <b>Figure 4:</b> The coaxial cable winding\n",
       "            </div>\n",
       "          </div>\n",
       "        </div>\n",
       "        <br>\n",
       "        "
      ],
      "text/plain": [
       "<IPython.core.display.HTML object>"
      ]
     },
     "metadata": {},
     "output_type": "display_data"
    },
    {
     "data": {
      "text/html": [
       "\n",
       "        <div style=\"width: 19cm; display: flex;\">\n",
       "          <div style=\"width: 9cm; text-align: center;\">\n",
       "            <img src=\"../02_setupe/setup5.jpg\" style=\"width: 9cm;\">\n",
       "            <div style=\"width: 9cm; word-wrap: break-word;\">\n",
       "                <b>Figure 5:</b> Other view of the ESP32 + cables\n",
       "            </div>\n",
       "          </div>\n",
       "          <div style=\"width: 1cm;\"></div>\n",
       "          <div style=\"width: 9cm; text-align: center;\">\n",
       "\n",
       "          </div>\n",
       "        </div>\n",
       "        <br>\n",
       "        "
      ],
      "text/plain": [
       "<IPython.core.display.HTML object>"
      ]
     },
     "metadata": {},
     "output_type": "display_data"
    }
   ],
   "source": [
    "\n",
    "fig_counter = 1  # Global figure counter\n",
    "first_part_path = \"../02_setupe/\"\n",
    "for i in range(0,len (figs),2):\n",
    "\n",
    "    show_figure_pair_with_captions(\n",
    "        figs[i],\n",
    "        captions_list[i],\n",
    "        figs[i+1],\n",
    "        captions_list[i+1], \n",
    "        first_part_path= first_part_path, \n",
    "    )"
   ]
  },
  {
   "cell_type": "code",
   "execution_count": null,
   "id": "b7f63ee5-2a23-4c91-8cc0-732f8c37ec8f",
   "metadata": {},
   "outputs": [],
   "source": []
  },
  {
   "cell_type": "markdown",
   "id": "e98448e8-6e93-4884-a4d7-a13bf86f5b41",
   "metadata": {},
   "source": [
    "## The best method to generate PWM with glitch-free transitions"
   ]
  },
  {
   "cell_type": "markdown",
   "id": "2c8fc58e-bae0-4152-93f4-b2f21cbfe8db",
   "metadata": {},
   "source": [
    "### The C code for PWM frequency and dead-time implementation"
   ]
  },
  {
   "cell_type": "markdown",
   "id": "8997abc3-e9d1-443a-b93a-876e44dd4c77",
   "metadata": {},
   "source": [
    "```c\n",
    "#include \"freertos/FreeRTOS.h\"\n",
    "#include \"freertos/task.h\"\n",
    "#include \"driver/mcpwm_prelude.h\"\n",
    "#include \"esp_log.h\"\n",
    "#include \"soc/mcpwm_struct.h\"\n",
    "#include \"driver/gpio.h\"\n",
    "#include \"esp_rom_sys.h\"\n",
    "#include <inttypes.h>\n",
    "#include \"hal/gpio_hal.h\"\n",
    "#include \"soc/mcpwm_periph.h\"\n",
    "#include \"soc/gpio_sig_map.h\"   \n",
    "#include \"hal/gpio_types.h\"\n",
    "#include \"esp_rom_gpio.h\"       \n",
    "#include \"soc/system_reg.h\"\n",
    "\n",
    "#define GPIO_PWM_OUT_A    13\n",
    "#define GPIO_PWM_OUT_B    12\n",
    "#define GPIO_TRIGGER      11\n",
    "\n",
    "\n",
    "uint32_t freq_master = 160000000; // 160 MHz\n",
    "\n",
    "void init_mcpwm(void) {\n",
    "    // I use this API initialization juste to enable the MCPWM peripheral\n",
    "    // I try to do it without this API, but it does not work\n",
    "    mcpwm_timer_handle_t timer;\n",
    "    mcpwm_timer_config_t timer_config = {\n",
    "        .group_id = 0,\n",
    "        .clk_src = MCPWM_TIMER_CLK_SRC_DEFAULT,\n",
    "        .resolution_hz = freq_master,\n",
    "        .period_ticks = 1600,\n",
    "        .count_mode = MCPWM_TIMER_COUNT_MODE_UP\n",
    "    };\n",
    "    ESP_ERROR_CHECK(mcpwm_new_timer(&timer_config, &timer));\n",
    "    ESP_ERROR_CHECK(mcpwm_timer_enable(timer));\n",
    "\n",
    "    // LOW LEVEL initialization without using the API ///////////////\n",
    "    //period of PT0_clk = Period of PWM_clk * (PWM_TIMER_PRESCALE + 1)\n",
    "    MCPWM0.timer[0].timer_cfg0.timer_prescale = 0 ;// 160Mhz\n",
    "\n",
    "    //period shadow register of PWM timer, default: 255;\n",
    "    MCPWM0.timer[0].timer_cfg0.timer_period = 1600 ;// 100khz \n",
    "\n",
    "    // USE SHADOW register: update in TEZ (begining of period )\n",
    "    //0: immediate, 1: TEZ, 2:sync, 3: TEZ or sync\n",
    "    MCPWM0.timer[0].timer_cfg0.timer_period_upmethod= 1; // TEZ\n",
    "\n",
    "    MCPWM0.operators[0].gen_stmp_cfg.gen_a_upmethod = 1; // Timestamp A updates at TEZ\n",
    "    MCPWM0.operators[0].gen_stmp_cfg.gen_b_upmethod = 1; // Timestamp B updates at TEZ\n",
    "\n",
    "    MCPWM0.operators[1].gen_stmp_cfg.gen_a_upmethod = 1; // For operator 1, A at TEZ\n",
    "    MCPWM0.operators[1].gen_stmp_cfg.gen_b_upmethod = 1; // For operator 1, B at TEZ\n",
    "\n",
    "    //counter direction, 0: increment 1: decrement\n",
    "    MCPWM0.timer[0].timer_status.timer_direction = 0; // Incrementing\n",
    "\n",
    "    // GPIO13 → MCPWM Group 0, Operator 0, Generator A\n",
    "    gpio_set_direction(GPIO_NUM_13, GPIO_MODE_OUTPUT);\n",
    "    esp_rom_gpio_connect_out_signal(GPIO_NUM_13,\n",
    "        mcpwm_periph_signals.groups[0].operators[0].generators[0].pwm_sig,\n",
    "        false, false);\n",
    "\n",
    "    // GPIO12 → MCPWM Group 0, Operator 1, Generator A\n",
    "    gpio_set_direction(GPIO_NUM_12, GPIO_MODE_OUTPUT);\n",
    "    esp_rom_gpio_connect_out_signal(GPIO_NUM_12,\n",
    "        mcpwm_periph_signals.groups[0].operators[1].generators[0].pwm_sig,\n",
    "        false, false);\n",
    "\n",
    "    /*\n",
    "    gen_utez: Action when the timer Equals Zero (TEZ, counter = 0)\n",
    "    gen_utea: Action when the timer Equals Compare A (TEA, counter = compare A value)\n",
    "    gen_uteb: Action when the timer Equals Compare B (TEB, counter = compare B value)\n",
    "\n",
    "    0: No change 1: Set output LOW 2: Set output HIGH 3: Toggle output\n",
    "    */\n",
    "\n",
    "    MCPWM0.operators[0].generator[0].gen_utez = 1;  // LOW at timer=0\n",
    "    MCPWM0.operators[0].generator[0].gen_utea = 2;  // HIGH at L point (300)\n",
    "    MCPWM0.operators[0].generator[0].gen_uteb = 1;  // LOW at H point (400)    \n",
    "\n",
    "    MCPWM0.operators[1].generator[0].gen_utez = 1;  // LOW at timer=0\n",
    "    MCPWM0.operators[1].generator[0].gen_utea = 2;  // HIGH at L point (600)\n",
    "    MCPWM0.operators[1].generator[0].gen_uteb = 1;  // LOW at H point (750)\n",
    "\n",
    "    // Start MCPWM timer 0 in continuous mode\n",
    "    MCPWM0.timer[0].timer_cfg1.timer_start = 2;\n",
    "}\n",
    "\n",
    "void init_trigger(void) {\n",
    "    // configure GPIO for trigger\n",
    "    gpio_reset_pin(GPIO_TRIGGER);\n",
    "    gpio_set_direction(GPIO_TRIGGER, GPIO_MODE_OUTPUT);\n",
    "    gpio_set_level(GPIO_TRIGGER, 0); // Set initial level to LOW\n",
    "}\n",
    "\n",
    "void modify_pwm(uint32_t freq_hz , int dead_time_ticks) {\n",
    "    //float delay_time_us = (int) 1000000/(freq_old*2) ; \n",
    "    int period_in, lpointA, hpointA, lpointB, hpointB;\n",
    "\n",
    "    int period_ticks = (int)  freq_master/freq_hz ;\n",
    "    // int half_period = (int)period_ticks/2;\n",
    "    // int dead_time_ticks = (int) (dead_time_ns * freq_master / 1000000000.0); \n",
    "    // Convert ns to ticks\n",
    "\n",
    "    // Update period and dead time\n",
    "    lpointA = 0;\n",
    "    hpointA = (int) (period_ticks - dead_time_ticks)/2;\n",
    "    lpointB = hpointA + dead_time_ticks;\n",
    "    hpointB = period_ticks -dead_time_ticks+1;\n",
    "\n",
    "    while (MCPWM0.timer[0].timer_status.timer_value >= 10); // Wait for TEZ\n",
    "    \n",
    "\n",
    "\n",
    "    MCPWM0.timer[0].timer_cfg0.timer_period = period_ticks;\n",
    "    // pwmA\n",
    "    MCPWM0.operators[0].timestamp[0].gen = lpointA; // L point\n",
    "    MCPWM0.operators[0].timestamp[1].gen = hpointA; // H point\n",
    "\n",
    "    // pwmB\n",
    "    MCPWM0.operators[1].timestamp[0].gen = lpointB; // L point\n",
    "    MCPWM0.operators[1].timestamp[1].gen = hpointB; // H point\n",
    "\n",
    "\n",
    "}\n",
    "\n",
    "void app_main(void) {\n",
    "    init_mcpwm();\n",
    "    init_trigger();\n",
    "\n",
    "    while (1) {\n",
    "        modify_pwm(156000 , 4);\n",
    "        gpio_set_level(GPIO_TRIGGER, 1);\n",
    "        esp_rom_delay_us(100);  \n",
    "\n",
    "        modify_pwm(73000 , 4);\n",
    "        gpio_set_level(GPIO_TRIGGER, 0);\n",
    "       esp_rom_delay_us(110);\n",
    "    }\n",
    "}\n",
    "```"
   ]
  },
  {
   "cell_type": "code",
   "execution_count": 10,
   "id": "c730ab04-6698-4fad-bc40-114fb4f6f4b4",
   "metadata": {},
   "outputs": [],
   "source": [
    "fig_counter = 1  # Global figure counter"
   ]
  },
  {
   "cell_type": "code",
   "execution_count": null,
   "id": "1f2d11d9-5284-4ea2-b106-496aec02e2f0",
   "metadata": {},
   "outputs": [],
   "source": []
  },
  {
   "cell_type": "markdown",
   "id": "e1872bc9-5507-4482-a8cc-950eac6e8b9f",
   "metadata": {},
   "source": [
    "### Oscilloscope Measurements and Validation"
   ]
  },
  {
   "cell_type": "code",
   "execution_count": 11,
   "id": "ec5dd9be-51d2-451c-a93d-ad5feabd7357",
   "metadata": {},
   "outputs": [],
   "source": [
    "captions_list = [\n",
    "\"Low frequancy 73kHz\", \n",
    "\"High frequancy 156kHz\", \n",
    "\"Transition high to low frequencies: Freq before\",\n",
    "\"Transition high to low frequencies: Freq after\", \n",
    "\"Transition low to high frequencies: Freq before\",\n",
    "\"Transition low to high frequencies: Freq after\", \n",
    "\"Dead time ~25ns, in low freq, CH1 rise\", \n",
    "\"Dead time ~25ns, in low freq, CH1 fall\", \n",
    "\"Dead time ~25ns, in the transition\", \n",
    "\"Dead time ~25ns, in high freq, CHA fall\", \n",
    "\"Dead time ~25ns, in high freq, CHA rise\", \n",
    "\"zoom of the dead time\", \n",
    "\"The signal overshoot of CH2\",\n",
    "\"overview of the overshoots\", \n",
    "\"ttt\"]"
   ]
  },
  {
   "cell_type": "code",
   "execution_count": 12,
   "id": "85dc771d-4e51-43c1-9c48-ae50768d367a",
   "metadata": {},
   "outputs": [],
   "source": [
    "figs =[\n",
    "\"scope5.png\", \n",
    "\"scope6.png\", \n",
    "\"scope1.png\", \n",
    "\"scope2.png\", \n",
    "\"scope3.png\", \n",
    "\"scope4.png\", \n",
    "\"scope8.png\", \n",
    "\"scope9.png\", \n",
    "\"scope10.png\", \n",
    "\"scope11.png\", \n",
    "\"scope12.png\", \n",
    "\"scope13.png\", \n",
    "\"scope14.png\" , \n",
    "\"scope15.png\"]"
   ]
  },
  {
   "cell_type": "code",
   "execution_count": 13,
   "id": "472633c6-02d0-4e8c-b47f-42fbb39a38f7",
   "metadata": {},
   "outputs": [
    {
     "data": {
      "text/html": [
       "\n",
       "        <div style=\"width: 19cm; display: flex;\">\n",
       "          <div style=\"width: 9cm; text-align: center;\">\n",
       "            <img src=\"../01_Scope_screenshots/07_MCPWM_PTZ_all_regis/scope5.png\" style=\"width: 9cm;\">\n",
       "            <div style=\"width: 9cm; word-wrap: break-word;\">\n",
       "                <b>Figure 1:</b> Low frequancy 73kHz\n",
       "            </div>\n",
       "          </div>\n",
       "          <div style=\"width: 1cm;\"></div>\n",
       "          <div style=\"width: 9cm; text-align: center;\">\n",
       "            <img src=\"../01_Scope_screenshots/07_MCPWM_PTZ_all_regis/scope6.png\" style=\"width: 9cm;\">\n",
       "            <div style=\"width: 9cm; word-wrap: break-word;\">\n",
       "                <b>Figure 2:</b> High frequancy 156kHz\n",
       "            </div>\n",
       "          </div>\n",
       "        </div>\n",
       "        <br>\n",
       "        "
      ],
      "text/plain": [
       "<IPython.core.display.HTML object>"
      ]
     },
     "metadata": {},
     "output_type": "display_data"
    },
    {
     "data": {
      "text/html": [
       "\n",
       "        <div style=\"width: 19cm; display: flex;\">\n",
       "          <div style=\"width: 9cm; text-align: center;\">\n",
       "            <img src=\"../01_Scope_screenshots/07_MCPWM_PTZ_all_regis/scope1.png\" style=\"width: 9cm;\">\n",
       "            <div style=\"width: 9cm; word-wrap: break-word;\">\n",
       "                <b>Figure 3:</b> Transition high to low frequencies: Freq before\n",
       "            </div>\n",
       "          </div>\n",
       "          <div style=\"width: 1cm;\"></div>\n",
       "          <div style=\"width: 9cm; text-align: center;\">\n",
       "            <img src=\"../01_Scope_screenshots/07_MCPWM_PTZ_all_regis/scope2.png\" style=\"width: 9cm;\">\n",
       "            <div style=\"width: 9cm; word-wrap: break-word;\">\n",
       "                <b>Figure 4:</b> Transition high to low frequencies: Freq after\n",
       "            </div>\n",
       "          </div>\n",
       "        </div>\n",
       "        <br>\n",
       "        "
      ],
      "text/plain": [
       "<IPython.core.display.HTML object>"
      ]
     },
     "metadata": {},
     "output_type": "display_data"
    },
    {
     "data": {
      "text/html": [
       "\n",
       "        <div style=\"width: 19cm; display: flex;\">\n",
       "          <div style=\"width: 9cm; text-align: center;\">\n",
       "            <img src=\"../01_Scope_screenshots/07_MCPWM_PTZ_all_regis/scope3.png\" style=\"width: 9cm;\">\n",
       "            <div style=\"width: 9cm; word-wrap: break-word;\">\n",
       "                <b>Figure 5:</b> Transition low to high frequencies: Freq before\n",
       "            </div>\n",
       "          </div>\n",
       "          <div style=\"width: 1cm;\"></div>\n",
       "          <div style=\"width: 9cm; text-align: center;\">\n",
       "            <img src=\"../01_Scope_screenshots/07_MCPWM_PTZ_all_regis/scope4.png\" style=\"width: 9cm;\">\n",
       "            <div style=\"width: 9cm; word-wrap: break-word;\">\n",
       "                <b>Figure 6:</b> Transition low to high frequencies: Freq after\n",
       "            </div>\n",
       "          </div>\n",
       "        </div>\n",
       "        <br>\n",
       "        "
      ],
      "text/plain": [
       "<IPython.core.display.HTML object>"
      ]
     },
     "metadata": {},
     "output_type": "display_data"
    },
    {
     "data": {
      "text/html": [
       "\n",
       "        <div style=\"width: 19cm; display: flex;\">\n",
       "          <div style=\"width: 9cm; text-align: center;\">\n",
       "            <img src=\"../01_Scope_screenshots/07_MCPWM_PTZ_all_regis/scope8.png\" style=\"width: 9cm;\">\n",
       "            <div style=\"width: 9cm; word-wrap: break-word;\">\n",
       "                <b>Figure 7:</b> Dead time ~25ns, in low freq, CH1 rise\n",
       "            </div>\n",
       "          </div>\n",
       "          <div style=\"width: 1cm;\"></div>\n",
       "          <div style=\"width: 9cm; text-align: center;\">\n",
       "            <img src=\"../01_Scope_screenshots/07_MCPWM_PTZ_all_regis/scope9.png\" style=\"width: 9cm;\">\n",
       "            <div style=\"width: 9cm; word-wrap: break-word;\">\n",
       "                <b>Figure 8:</b> Dead time ~25ns, in low freq, CH1 fall\n",
       "            </div>\n",
       "          </div>\n",
       "        </div>\n",
       "        <br>\n",
       "        "
      ],
      "text/plain": [
       "<IPython.core.display.HTML object>"
      ]
     },
     "metadata": {},
     "output_type": "display_data"
    },
    {
     "data": {
      "text/html": [
       "\n",
       "        <div style=\"width: 19cm; display: flex;\">\n",
       "          <div style=\"width: 9cm; text-align: center;\">\n",
       "            <img src=\"../01_Scope_screenshots/07_MCPWM_PTZ_all_regis/scope10.png\" style=\"width: 9cm;\">\n",
       "            <div style=\"width: 9cm; word-wrap: break-word;\">\n",
       "                <b>Figure 9:</b> Dead time ~25ns, in the transition\n",
       "            </div>\n",
       "          </div>\n",
       "          <div style=\"width: 1cm;\"></div>\n",
       "          <div style=\"width: 9cm; text-align: center;\">\n",
       "            <img src=\"../01_Scope_screenshots/07_MCPWM_PTZ_all_regis/scope11.png\" style=\"width: 9cm;\">\n",
       "            <div style=\"width: 9cm; word-wrap: break-word;\">\n",
       "                <b>Figure 10:</b> Dead time ~25ns, in high freq, CHA fall\n",
       "            </div>\n",
       "          </div>\n",
       "        </div>\n",
       "        <br>\n",
       "        "
      ],
      "text/plain": [
       "<IPython.core.display.HTML object>"
      ]
     },
     "metadata": {},
     "output_type": "display_data"
    },
    {
     "data": {
      "text/html": [
       "\n",
       "        <div style=\"width: 19cm; display: flex;\">\n",
       "          <div style=\"width: 9cm; text-align: center;\">\n",
       "            <img src=\"../01_Scope_screenshots/07_MCPWM_PTZ_all_regis/scope12.png\" style=\"width: 9cm;\">\n",
       "            <div style=\"width: 9cm; word-wrap: break-word;\">\n",
       "                <b>Figure 11:</b> Dead time ~25ns, in high freq, CHA rise\n",
       "            </div>\n",
       "          </div>\n",
       "          <div style=\"width: 1cm;\"></div>\n",
       "          <div style=\"width: 9cm; text-align: center;\">\n",
       "            <img src=\"../01_Scope_screenshots/07_MCPWM_PTZ_all_regis/scope13.png\" style=\"width: 9cm;\">\n",
       "            <div style=\"width: 9cm; word-wrap: break-word;\">\n",
       "                <b>Figure 12:</b> zoom of the dead time\n",
       "            </div>\n",
       "          </div>\n",
       "        </div>\n",
       "        <br>\n",
       "        "
      ],
      "text/plain": [
       "<IPython.core.display.HTML object>"
      ]
     },
     "metadata": {},
     "output_type": "display_data"
    },
    {
     "data": {
      "text/html": [
       "\n",
       "        <div style=\"width: 19cm; display: flex;\">\n",
       "          <div style=\"width: 9cm; text-align: center;\">\n",
       "            <img src=\"../01_Scope_screenshots/07_MCPWM_PTZ_all_regis/scope14.png\" style=\"width: 9cm;\">\n",
       "            <div style=\"width: 9cm; word-wrap: break-word;\">\n",
       "                <b>Figure 13:</b> The signal overshoot of CH2\n",
       "            </div>\n",
       "          </div>\n",
       "          <div style=\"width: 1cm;\"></div>\n",
       "          <div style=\"width: 9cm; text-align: center;\">\n",
       "            <img src=\"../01_Scope_screenshots/07_MCPWM_PTZ_all_regis/scope15.png\" style=\"width: 9cm;\">\n",
       "            <div style=\"width: 9cm; word-wrap: break-word;\">\n",
       "                <b>Figure 14:</b> overview of the overshoots\n",
       "            </div>\n",
       "          </div>\n",
       "        </div>\n",
       "        <br>\n",
       "        "
      ],
      "text/plain": [
       "<IPython.core.display.HTML object>"
      ]
     },
     "metadata": {},
     "output_type": "display_data"
    }
   ],
   "source": [
    "#fig_counter = 1  # Global figure counter\n",
    "first_part_path = \"../01_Scope_screenshots/07_MCPWM_PTZ_all_regis/\"\n",
    "for i in range(0,len (figs),2):\n",
    "\n",
    "    show_figure_pair_with_captions(\n",
    "        figs[i],\n",
    "        captions_list[i],\n",
    "        figs[i+1],\n",
    "        captions_list[i+1], \n",
    "        first_part_path= first_part_path, \n",
    "    )"
   ]
  },
  {
   "cell_type": "markdown",
   "id": "8eac3907-23e1-488f-9d3c-32b30da9c118",
   "metadata": {},
   "source": [
    "## Other tested methodes"
   ]
  },
  {
   "cell_type": "code",
   "execution_count": null,
   "id": "e0ca3ee9-22cf-44ac-b166-c391e00b6282",
   "metadata": {},
   "outputs": [],
   "source": []
  },
  {
   "cell_type": "code",
   "execution_count": null,
   "id": "a7bc8c9f-7824-4f79-8c80-b9d1c7dd4768",
   "metadata": {},
   "outputs": [],
   "source": []
  },
  {
   "cell_type": "code",
   "execution_count": null,
   "id": "367d4e24-e278-4ac2-9bad-84720b2a8ce9",
   "metadata": {},
   "outputs": [],
   "source": []
  },
  {
   "cell_type": "markdown",
   "id": "718a058e-40c7-47f0-991a-cdf36c6fdd3a",
   "metadata": {},
   "source": [
    "# END"
   ]
  },
  {
   "cell_type": "code",
   "execution_count": null,
   "id": "9e973aa5-b3fa-40dd-996c-aa2a82e76633",
   "metadata": {},
   "outputs": [],
   "source": []
  }
 ],
 "metadata": {
  "kernelspec": {
   "display_name": "kernel_venv1",
   "language": "python",
   "name": "kernel_venv1"
  },
  "language_info": {
   "codemirror_mode": {
    "name": "ipython",
    "version": 3
   },
   "file_extension": ".py",
   "mimetype": "text/x-python",
   "name": "python",
   "nbconvert_exporter": "python",
   "pygments_lexer": "ipython3",
   "version": "3.13.5"
  }
 },
 "nbformat": 4,
 "nbformat_minor": 5
}
